{
 "cells": [
  {
   "cell_type": "code",
   "execution_count": 1,
   "id": "9ddf3fba",
   "metadata": {},
   "outputs": [],
   "source": [
    "from PyHydroGeophysX.petrophysics.resistivity_models import water_content_to_resistivity\n",
    "from PyHydroGeophysX.petrophysics.velocity_models import HertzMindlinModel, DEMModel"
   ]
  },
  {
   "cell_type": "code",
   "execution_count": null,
   "id": "74976a93",
   "metadata": {},
   "outputs": [],
   "source": []
  }
 ],
 "metadata": {
  "kernelspec": {
   "display_name": "pg",
   "language": "python",
   "name": "python3"
  },
  "language_info": {
   "codemirror_mode": {
    "name": "ipython",
    "version": 3
   },
   "file_extension": ".py",
   "mimetype": "text/x-python",
   "name": "python",
   "nbconvert_exporter": "python",
   "pygments_lexer": "ipython3",
   "version": "3.11.8"
  }
 },
 "nbformat": 4,
 "nbformat_minor": 5
}
