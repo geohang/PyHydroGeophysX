{
  "cells": [
    {
      "cell_type": "code",
      "execution_count": null,
      "metadata": {
        "collapsed": false
      },
      "outputs": [],
      "source": [
        "# PyHydroGeophysX Example\n# Figures are pre-generated"
      ]
    },
    {
      "cell_type": "markdown",
      "metadata": {},
      "source": [
        "\n# Ex3. Creating Synthetic Time-Lapse ERT Measurements\n\nThis example demonstrates how to create synthetic time-lapse electrical \nresistivity tomography (ERT) measurements for watershed monitoring applications.\n\nThe example covers:\n1. Loading time-series water content data from MODFLOW simulations\n2. Converting water content to resistivity for each timestep\n3. Forward modeling to generate synthetic ERT data for multiple time periods\n4. Parallel processing for efficient computation across multiple timesteps\n5. Visualization of apparent resistivity changes over time\n6. Creating animations showing temporal water content variations\n\nThis workflow is essential for testing time-lapse inversion algorithms\nand understanding the sensitivity of ERT measurements to hydrological changes.\n"
      ]
    },
    {
      "cell_type": "code",
      "execution_count": null,
      "metadata": {
        "collapsed": false
      },
      "outputs": [],
      "source": [
        "import os\nimport sys\nimport numpy as np\nimport matplotlib.pyplot as plt\nimport pygimli as pg\nfrom pygimli.physics import ert\nfrom mpl_toolkits.axes_grid1 import make_axes_locatable\n\n# Setup package path for development\ntry:\n    # For regular Python scripts\n    current_dir = os.path.dirname(os.path.abspath(__file__))\nexcept NameError:\n    # For Jupyter notebooks\n    current_dir = os.getcwd()\n\n# Add the parent directory to Python path\nparent_dir = os.path.dirname(current_dir)\nif parent_dir not in sys.path:\n    sys.path.append(parent_dir)\n\n# Import PyHydroGeophysX modules\nfrom PyHydroGeophysX.model_output.modflow_output import MODFLOWWaterContent\nfrom PyHydroGeophysX.core.interpolation import ProfileInterpolator, create_surface_lines\nfrom PyHydroGeophysX.core.mesh_utils import MeshCreator\nfrom PyHydroGeophysX.petrophysics.resistivity_models import water_content_to_resistivity\nfrom PyHydroGeophysX.forward.ert_forward import ERTForwardModeling"
      ]
    },
    {
      "cell_type": "code",
      "execution_count": null,
      "metadata": {
        "collapsed": false
      },
      "outputs": [],
      "source": [
        "output_dir = os.path.join(current_dir,  \"results\", \"TL_measurements\") #\"C:/Users/HChen8/Documents/GitHub/PyHydroGeophysX/examples/results/TL_measurements\"\nos.makedirs(output_dir, exist_ok=True)"
      ]
    },
    {
      "cell_type": "code",
      "execution_count": null,
      "metadata": {
        "collapsed": false
      },
      "outputs": [],
      "source": [
        "print(\"Step 1: Set up the ERT profiles like in the workflow example.\")\n\ndata_dir = os.path.join(current_dir,  \"data\") #\"C:/Users/HChen8/Documents/GitHub/PyHydroGeophysX/examples/data/\"\nmodflow_dir = os.path.join(data_dir, \"modflow\")\n\n# Load domain information from files\n# (Replace with your actual file paths)\nidomain = np.loadtxt(os.path.join(data_dir, \"id.txt\"))\ntop = np.loadtxt(os.path.join(data_dir, \"top.txt\"))\nporosity = np.load(os.path.join(data_dir, \"Porosity.npy\"))\n\n# Define profile endpoints\npoint1 = [115, 70]  # [col, row]\npoint2 = [95, 180]  # [col, row]\n\n# Initialize profile interpolator\ninterpolator = ProfileInterpolator(\n    point1=point1,\n    point2=point2,\n    surface_data=top,\n    origin_x=569156.2983333333,\n    origin_y=4842444.17,\n    pixel_width=1.0,\n    pixel_height=-1.0\n)\n\n# Interpolate porosity to profile\nporosity_profile = interpolator.interpolate_3d_data(porosity)\n\n\n\n# Load structure layers\nbot = np.load(os.path.join(data_dir, \"bot.npy\"))\n\n# Process layers to get structure\nstructure = interpolator.interpolate_layer_data([top] + bot.tolist())\n\n# Create surface lines\n# Indicate the layer for the structure regolith, fractured bedrock and fresh bedrock\ntop_idx=int(0)\nmid_idx=int(4)\nbot_idx=int(12)\nsurface, line1, line2 = create_surface_lines(\n    L_profile=interpolator.L_profile,\n    structure=structure,\n    top_idx=0,\n    mid_idx=4,\n    bot_idx=12\n)\n\n# Create mesh\nmesh_creator = MeshCreator(quality=32)\nmesh, geom = mesh_creator.create_from_layers(\n    surface=surface,\n    layers=[line1, line2],\n    bottom_depth= np.min(line2[:,1])-10 #50.0\n)\n\n# Save mesh\nmesh.save(os.path.join(output_dir, \"mesh.bms\"))\n\n\n\nID1 = porosity_profile.copy()\nID1[:mid_idx] = 0 #regolith\nID1[mid_idx:bot_idx] = 3 # fractured bedrock\nID1[bot_idx:] = 2 # fresh bedrock\n\n# Get mesh centers and markers\nmesh_centers = np.array(mesh.cellCenters())\nmesh_markers = np.array(mesh.cellMarkers())\n\n# Interpolate porosity to mesh\nporosity_mesh = interpolator.interpolate_to_mesh(\n    property_values=porosity_profile,\n    depth_values=structure,\n    mesh_x=mesh_centers[:, 0],\n    mesh_y=mesh_centers[:, 1],\n    mesh_markers=mesh_markers,\n    ID=ID1, # Use ID1 to indicate the layers for interpolation\n    layer_markers = [0,3,2],\n\n)\n# load water content\nWater_Content = np.load(os.path.join(data_dir, \"Watercontent.npy\"))"
      ]
    },
    {
      "cell_type": "code",
      "execution_count": null,
      "metadata": {
        "collapsed": false
      },
      "outputs": [],
      "source": [
        "os.makedirs(\"results/TL_measurements/synwcmodel\", exist_ok=True)\nos.makedirs(\"results/TL_measurements/synresmodel\", exist_ok=True)\n\n### comment here to skip the water content and resistivity model generation to save time\n\n# for i in range(len(Water_Content)):\n#     water_content = Water_Content[i]\n#     # Interpolate water content to profile\n#     water_content_profile = interpolator.interpolate_3d_data(water_content)\n\n#     # Interpolate water content to mesh\n#     wc_mesh = interpolator.interpolate_to_mesh(\n#         property_values=water_content_profile,\n#         depth_values=structure,\n#         mesh_x=mesh_centers[:, 0],\n#         mesh_y=mesh_centers[:, 1],\n#         mesh_markers=mesh_markers,\n#         ID=ID1,  # Use ID1 to indicate the layers for interpolation\n#         layer_markers=[0, 3, 2],\n#     )\n\n#     # Convert to resistivity using petrophysical model\n#     marker_labels = [0, 3, 2]  # top, mid, bottom layers\n#     rho_sat = [100, 500, 2400]  # Saturated resistivity for each layer (example values)\n#     n_val = [2.2, 1.8, 2.5]  # Cementation exponent for each layer (example values)\n#     # sigma_s was originally defined as [1/500, 0, 0] but here we use [0.002, 0, 0]\n#     sigma_s = [0.002, 0, 0]\n\n#     res_models = np.zeros_like(wc_mesh)\n\n#     mask = (mesh_markers == marker_labels[0])\n#     top_res = water_content_to_resistivity(\n#         wc_mesh[mask],\n#         float(rho_sat[0]),\n#         float(n_val[0]),\n#         porosity_mesh[mask],\n#         sigma_s[0]\n#     )\n#     res_models[mask] = top_res\n\n#     mask = (mesh_markers == marker_labels[1])\n#     mid_res = water_content_to_resistivity(\n#         wc_mesh[mask],\n#         float(rho_sat[1]),\n#         float(n_val[1]),\n#         porosity_mesh[mask],\n#         sigma_s[1]\n#     )\n#     res_models[mask] = mid_res\n\n#     mask = (mesh_markers == marker_labels[2])\n#     bot_res = water_content_to_resistivity(\n#         wc_mesh[mask],\n#         float(rho_sat[2]),\n#         float(n_val[2]),\n#         porosity_mesh[mask],\n#         sigma_s[2]\n#     )\n#     res_models[mask] = bot_res\n\n#     np.save(os.path.join(output_dir, \"synwcmodel/synwcmodel\" + str(i) ), wc_mesh)\n#     np.save(os.path.join(output_dir, \"synresmodel/synresmodel\" + str(i) ), res_models)"
      ]
    },
    {
      "cell_type": "markdown",
      "metadata": {},
      "source": [
        "## non parallel computing version \nos.makedirs(\"results/TL_measurements/appres\", exist_ok=True)\n\n"
      ]
    },
    {
      "cell_type": "code",
      "execution_count": null,
      "metadata": {
        "collapsed": false
      },
      "outputs": [],
      "source": [
        "# for i in range(2): \n#     # Create synthetic data\n\n#     res_model = np.load(os.path.join(output_dir, \"synresmodel/synresmodel\" + str(i) ))\n#     xpos = np.linspace(15,15+72 - 1,72)\n#     ypos = np.interp(xpos,interpolator.L_profile,interpolator.surface_profile)\n#     pos = np.hstack((xpos.reshape(-1,1),ypos.reshape(-1,1)))\n\n#     schemeert = ert.createData(elecs=pos,schemeName='wa')\n\n#     # do the forward modeling\n#     mesh.setCellMarkers(np.ones(mesh.cellCount())*2)\n#     grid = pg.meshtools.appendTriangleBoundary(mesh, marker=1,\n#                                             xbound=100, ybound=100)\n\n#     fwd_operator = ERTForwardModeling(mesh=grid, data=schemeert)\n\n#     synth_data = schemeert.copy()\n#     fob = ert.ERTModelling()\n#     fob.setData(schemeert)\n#     fob.setMesh(grid)\n#     dr = fob.response(res_model)\n\n#     dr *= 1. + pg.randn(dr.size()) * 0.05\n#     ert_manager = ert.ERTManager(synth_data)\n#     synth_data['rhoa'] = dr\n#     synth_data['err'] = ert_manager.estimateError(synth_data, absoluteUError=0.0, relativeError=0.05)\n\n#     synth_data.save(os.path.join(output_dir, \"appres/synthetic_data\"+str(i)+\".dat\"))"
      ]
    },
    {
      "cell_type": "markdown",
      "metadata": {},
      "source": [
        "## parallel computing version \n\n"
      ]
    },
    {
      "cell_type": "code",
      "execution_count": null,
      "metadata": {
        "collapsed": false
      },
      "outputs": [],
      "source": [
        "# import os\n# import numpy as np\n# import pygimli as pg\n# from pygimli.physics import ert\n\n# from joblib import Parallel, delayed\n\n# def process_timestep(i, output_dir, mesh_array, interpolator_L_profile, interpolator_surface_profile):\n#     \"\"\"Process a single timestep for synthetic data generation\"\"\"\n#     try:\n#         # Load the resistivity model for this timestep\n#         res_model = np.load(os.path.join(output_dir, \"synresmodel/synresmodel\" + str(i) + \".npy\"))\n        \n#         # Create electrode positions\n#         xpos = np.linspace(15, 15+72-1, 72)\n#         ypos = np.interp(xpos, interpolator_L_profile, interpolator_surface_profile)\n#         pos = np.hstack((xpos.reshape(-1,1), ypos.reshape(-1,1)))\n        \n#         # Create ERT data scheme\n#         schemeert = ert.createData(elecs=pos, schemeName='wa')\n        \n#         mesh = pg.load(os.path.join(output_dir, \"mesh.bms\"))\n#         # Set cell markers\n#         mesh.setCellMarkers(np.ones(mesh.cellCount())*2)\n        \n#         # Create boundary mesh\n#         grid = pg.meshtools.appendTriangleBoundary(mesh, marker=1, xbound=100, ybound=100)\n        \n#         # Set up forward operator\n#         fwd_operator = ert.ERTModelling()\n#         fwd_operator.setData(schemeert)\n#         fwd_operator.setMesh(grid)\n        \n#         # Forward modeling\n#         synth_data = schemeert.copy()\n#         dr = fwd_operator.response(res_model)\n        \n#         # Add 5% random noise\n#         dr *= 1. + pg.randn(dr.size()) * 0.05\n        \n#         # Set up ERT manager and save data\n#         ert_manager = ert.ERTManager(synth_data)\n#         synth_data['rhoa'] = dr\n#         synth_data['err'] = ert_manager.estimateError(synth_data, absoluteUError=0.0, relativeError=0.05)\n        \n#         # Save synthetic data\n#         synth_data.save(os.path.join(output_dir, \"appres/synthetic_data\"+str(i)+\".dat\"))\n        \n#         return i, True, None  # Success\n#     except Exception as e:\n#         return i, False, str(e)  # Return error information"
      ]
    },
    {
      "cell_type": "markdown",
      "metadata": {},
      "source": [
        "Create output directories if they don't exist\nos.makedirs(os.path.join(output_dir, \"appres\"), exist_ok=True)\n\n"
      ]
    },
    {
      "cell_type": "code",
      "execution_count": null,
      "metadata": {
        "collapsed": false
      },
      "outputs": [],
      "source": [
        "# # Extract necessary data from interpolator to pass to workers\n# interpolator_L_profile = interpolator.L_profile.copy()\n# interpolator_surface_profile = interpolator.surface_profile.copy()\n\n# # Process in parallel\n# results = Parallel(n_jobs=2, verbose=10)(\n#     delayed(process_timestep)(\n#         i, \n#         output_dir, \n#         None,  # We'll reload the mesh from file instead of passing it\n#         interpolator_L_profile,\n#         interpolator_surface_profile\n#     ) for i in range(Water_Content.shape[0])\n# )\n\n# # Check results\n# success_count = sum(1 for _, success, _ in results if success)\n# print(f\"Successfully processed {success_count} out of {len(results)} timesteps\")\n\n# # Print any errors\n# for i, success, error in results:\n#     if not success:\n#         print(f\"Error in timestep {i}: {error}\")"
      ]
    },
    {
      "cell_type": "markdown",
      "metadata": {},
      "source": [
        "example to load and show the synthetic data\n\n"
      ]
    },
    {
      "cell_type": "code",
      "execution_count": null,
      "metadata": {
        "collapsed": false
      },
      "outputs": [],
      "source": [
        "syn_data = pg.load(os.path.join(output_dir, \"appres/synthetic_data\"+str(1)+\".dat\"))\nert.show(syn_data)"
      ]
    },
    {
      "cell_type": "markdown",
      "metadata": {},
      "source": [
        "load all synthetic data and plot them\n\n"
      ]
    },
    {
      "cell_type": "code",
      "execution_count": null,
      "metadata": {
        "collapsed": false
      },
      "outputs": [],
      "source": [
        "all_syn_data = []\nfor i in range(Water_Content.shape[0]):\n    try:\n        syn_data = pg.load(os.path.join(output_dir, \"appres/synthetic_data\" + str(i) + \".dat\"))\n        all_syn_data.append(np.array(syn_data['rhoa']))\n    except Exception as e:\n        print(f\"Error loading synthetic data for timestep {i}: {e}\")"
      ]
    },
    {
      "cell_type": "markdown",
      "metadata": {},
      "source": [
        "## plot the apparent resitivity\n\n"
      ]
    },
    {
      "cell_type": "code",
      "execution_count": null,
      "metadata": {
        "collapsed": false
      },
      "outputs": [],
      "source": [
        "import pandas as pd\nimport matplotlib.pylab as pylab\nparams = {'legend.fontsize': 13,\n          #'figure.figsize': (15, 5),\n         'axes.labelsize': 13,\n         'axes.titlesize':13,\n         'xtick.labelsize':13,\n         'ytick.labelsize':13}\n\npylab.rcParams.update(params)\nplt.rcParams[\"font.family\"] = \"Arial\"\n\n\nrng = pd.date_range(start=\"09/01/2011\", end=\"08/30/2012\", freq=\"D\")\nprecip = np.load(os.path.join(data_dir, \"precip.npy\"))\nsyn_data_array = np.array(all_syn_data)\nsyn_data_array.shape\n\n\n\nplt.figure(figsize=(12, 6))\nplt.subplot(211)\nplt.bar(np.arange(365),precip,color='k')\nplt.xlim([0,364])\nplt.ylabel('Precipitation (mm)')\nplt.xlabel('Time (days)')\nplt.subplot(212)\nplt.imshow(syn_data_array.T, aspect='auto', cmap=pg.utils.cMap('rhoa'), vmin=200, vmax=2000)\nplt.ylabel('Measurement #')\nplt.xlabel('Time (days)')\nplt.tight_layout()\nplt.savefig(os.path.join(output_dir, \"apparent_resistivity.tiff\"), dpi=300)"
      ]
    },
    {
      "cell_type": "code",
      "execution_count": null,
      "metadata": {
        "collapsed": false
      },
      "outputs": [],
      "source": [
        "plt.figure(figsize=(12, 6))\nplt.subplot(211)\nplt.imshow(syn_data_array.T, aspect='auto', cmap=pg.utils.cMap('rhoa'), vmin=200, vmax=2000)\nplt.colorbar(label='Apparent Resistivity (\u03a9\u00b7m)')"
      ]
    },
    {
      "cell_type": "markdown",
      "metadata": {},
      "source": [
        "## Showing the water content model for the differnent timesteps\n\n"
      ]
    },
    {
      "cell_type": "code",
      "execution_count": null,
      "metadata": {
        "collapsed": false
      },
      "outputs": [],
      "source": [
        "fig, axes = plt.subplots(1, 4, figsize=(16, 14))\n\nfrom palettable.lightbartlein.diverging import BlueDarkRed18_18_r\nfixed_cmap = BlueDarkRed18_18_r.mpl_colormap\nax1 = axes[0]\nwc25 = np.load(os.path.join(output_dir, \"synwcmodel/synwcmodel30.npy\"  ))\ncbar1 = pg.show(mesh, wc25, ax=ax1, cMap=fixed_cmap, logScale=False, \n              cMin=0.0, cMax=0.32, label='Water Content (-)',xlabel='Distance (m)', ylabel='Elevation (m)')\nax1.set_title(\"Day 30\")\n\n\nax1 = axes[1]\nwc150= np.load(os.path.join(output_dir, \"synwcmodel/synwcmodel150.npy\"  ))\ncbar1 = pg.show(mesh, wc150, ax=ax1, cMap=fixed_cmap, logScale=False, \n              cMin=0.0, cMax=0.32, label='Water Content (-)',xlabel='Distance (m)', ylabel='Elevation (m)')\nax1.set_title(\"Day 150\")\n\n\nax1 = axes[2]\nwc210= np.load(os.path.join(output_dir, \"synwcmodel/synwcmodel210.npy\"  ))\ncbar1 = pg.show(mesh, wc210, ax=ax1, cMap=fixed_cmap, logScale=False, \n              cMin=0.0, cMax=0.32, label='Water Content (-)',xlabel='Distance (m)', ylabel='Elevation (m)')\nax1.set_title(\"Day 210\")\n\n\nax1 = axes[3]\nwc280= np.load(os.path.join(output_dir, \"synwcmodel/synwcmodel320.npy\"  ))\ncbar1 = pg.show(mesh, wc280, ax=ax1, cMap=fixed_cmap, logScale=False, \n              cMin=0.0, cMax=0.32, label='Water Content (-)',xlabel='Distance (m)', ylabel='Elevation (m)')\nax1.set_title(\"Day 330\")\n\nfig.tight_layout()\nplt.savefig(os.path.join(output_dir, \"water_content_model.tiff\"), dpi=300)"
      ]
    },
    {
      "cell_type": "markdown",
      "metadata": {},
      "source": [
        "## Showing the water content model for the differnent timesteps\n\n"
      ]
    },
    {
      "cell_type": "code",
      "execution_count": null,
      "metadata": {
        "collapsed": false
      },
      "outputs": [],
      "source": [
        "fig, axes = plt.subplots(1, 4, figsize=(16, 14))\n\nfrom palettable.lightbartlein.diverging import BlueDarkRed18_18\nfixed_cmap = BlueDarkRed18_18.mpl_colormap\nax1 = axes[0]\nwc30 = np.load(os.path.join(output_dir, \"synresmodel/synresmodel30.npy\"  ))\ncbar1 = pg.show(mesh, wc30, ax=ax1, cMap=fixed_cmap, logScale=False, showColorBar=True,\n        xlabel=\"Distance (m)\", ylabel=\"Elevation (m)\",\n        label='Resistivity (\u03a9\u00b7m)', cMin=100, cMax=3000)\n\n\n\nax1 = axes[1]\nwc150= np.load(os.path.join(output_dir, \"synresmodel/synresmodel150.npy\"  ))\ncbar1 = pg.show(mesh, wc150, ax=ax1, cMap=fixed_cmap, logScale=False, showColorBar=True,\n        xlabel=\"Distance (m)\", ylabel=\"Elevation (m)\",\n        label='Resistivity (\u03a9\u00b7m)', cMin=100, cMax=3000)\n\n\n\nax1 = axes[2]\nwc210= np.load(os.path.join(output_dir, \"synresmodel/synresmodel210.npy\"  ))\ncbar1 = pg.show(mesh, wc210, ax=ax1, cMap=fixed_cmap, \n              logScale=False, showColorBar=True,\n        xlabel=\"Distance (m)\", ylabel=\"Elevation (m)\",\n        label='Resistivity (\u03a9\u00b7m)', cMin=100, cMax=3000)\n\n\nax1 = axes[3]\nwc280= np.load(os.path.join(output_dir, \"synresmodel/synresmodel330.npy\"  ))\ncbar1 = pg.show(mesh, wc280, ax=ax1, cMap=fixed_cmap, logScale=False, showColorBar=True,\n        xlabel=\"Distance (m)\", ylabel=\"Elevation (m)\",\n        label='Resistivity (\u03a9\u00b7m)', cMin=100, cMax=3000)\n\n\nfig.tight_layout()\nplt.savefig(os.path.join(output_dir, \"resistivity_model.tiff\"), dpi=300)"
      ]
    },
    {
      "cell_type": "code",
      "execution_count": null,
      "metadata": {
        "collapsed": false
      },
      "outputs": [],
      "source": [
        "import numpy as np\nimport matplotlib.pyplot as plt\nimport os\nfrom PIL import Image\nimport io\n\n# Import your color map\nfrom palettable.lightbartlein.diverging import BlueDarkRed18_18_r\nfixed_cmap = BlueDarkRed18_18_r.mpl_colormap\n\n# Create a list to store the frames\nframes = []\n\n# Set the DPI for consistent figure size\ndpi = 100\n\n# Create frames and store them in memory\nfor i in range(365):\n    # Print progress update\n    if i % 10 == 0:\n        print(f\"Processing frame {i} of 365\")\n        \n    # Set up new figure for each frame - reduced height to eliminate empty space\n    fig = plt.figure(figsize=[8, 2.2])\n    \n    # Use more of the figure space\n    plt.subplots_adjust(left=0.05, right=0.95, top=0.95, bottom=0.05)\n    \n    ax = fig.add_subplot(1, 1, 1)\n    \n    # Load data\n    moi = np.load(os.path.join(output_dir, f\"synwcmodel/synwcmodel{i}.npy\"))\n    \n    # Plot the data\n    ax, cbar = pg.show(mesh, moi, pad=0.3, orientation=\"vertical\", \n                     cMap=fixed_cmap, cMin=0.00, cMax=0.32,\n                     xlabel=\"\", ylabel=\"\",  # Remove labels to save space\n                     label='Water content', ax=ax)\n    \n    # Style adjustments\n    ax.spines['top'].set_visible(False)\n    ax.spines['right'].set_visible(False)\n    ax.spines['bottom'].set_visible(False)\n    ax.spines['left'].set_visible(False)\n    ax.get_xaxis().set_ticks([])\n    ax.get_yaxis().set_ticks([])\n    \n    # Add day counter with better positioning and visibility\n    # Use transAxes to position the text in a consistent location\n    ax.text(0.1, 0.1, f'Day: {i}', transform=ax.transAxes,\n            fontsize=12, fontweight='bold', color='black',\n            bbox=dict(facecolor='white', alpha=0.7, edgecolor='none', pad=3))\n    \n    # Add compact axis labels\n    ax.text(0.5, 0.02, 'Distance (m)', transform=ax.transAxes, \n            ha='center', fontsize=8)\n    ax.text(0.02, 0.5, 'Elevation (m)', transform=ax.transAxes, \n            va='center', rotation=90, fontsize=8)\n    \n    # Save to buffer instead of file\n    buf = io.BytesIO()\n    plt.savefig(buf, format='png', dpi=dpi, bbox_inches='tight')\n    plt.close(fig)  # Close the figure\n    \n    # Convert buffer to image and append to frames\n    buf.seek(0)\n    img = Image.open(buf)\n    frames.append(img.copy())  # Copy the image to ensure it stays in memory\n    buf.close()\n\nprint(\"All frames processed!\")\n\n# Save as GIF\ngif_path = os.path.join(output_dir, \"WCanimation.gif\")\n# The first frame's duration will be longer (500ms) to show initial state\ndurations = [500] + [100] * (len(frames) - 1)  # 100ms per frame after the first\n\n# Save the GIF with optimized settings\nframes[0].save(\n    gif_path,\n    format='GIF',\n    append_images=frames[1:],\n    save_all=True,\n    duration=durations,\n    loop=0,  # 0 means loop forever\n    optimize=True\n)\n\nprint(f\"GIF saved successfully to {gif_path}\")"
      ]
    }
  ],
  "metadata": {
    "kernelspec": {
      "display_name": "Python 3",
      "language": "python",
      "name": "python3"
    },
    "language_info": {
      "codemirror_mode": {
        "name": "ipython",
        "version": 3
      },
      "file_extension": ".py",
      "mimetype": "text/x-python",
      "name": "python",
      "nbconvert_exporter": "python",
      "pygments_lexer": "ipython3",
      "version": "3.11.8"
    }
  },
  "nbformat": 4,
  "nbformat_minor": 0
}