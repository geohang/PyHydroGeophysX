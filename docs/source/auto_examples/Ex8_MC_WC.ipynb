{
  "cells": [
    {
      "cell_type": "markdown",
      "metadata": {},
      "source": [
        "\n# Ex 8. Monte Carlo Uncertainty Quantification for Water Content Estimation\n\nThis example demonstrates Monte Carlo uncertainty quantification for \nconverting ERT resistivity models to water content estimates.\n\nThe analysis includes:\n1. Loading inverted resistivity models from time-lapse ERT\n2. Defining parameter distributions for different geological layers\n3. Monte Carlo sampling of petrophysical parameters\n4. Probabilistic water content estimation with uncertainty bounds\n5. Statistical analysis and visualization of results\n6. Time series extraction with confidence intervals\n\nUncertainty quantification is essential for reliable hydrological \ninterpretation of geophysical data, providing confidence bounds on\nwater content estimates and identifying regions of high/low certainty.\n"
      ]
    },
    {
      "cell_type": "code",
      "execution_count": null,
      "metadata": {
        "collapsed": false
      },
      "outputs": [],
      "source": [
        "import numpy as np\nimport matplotlib.pyplot as plt\nimport os\nimport pygimli as pg\nimport sys\nfrom tqdm import tqdm\n\n# Setup package path for development\ntry:\n    # For regular Python scripts\n    current_dir = os.path.dirname(os.path.abspath(__file__))\nexcept NameError:\n    # For Jupyter notebooks\n    current_dir = os.getcwd()\n\n# Add the parent directory to Python path\nparent_dir = os.path.dirname(current_dir)\nif parent_dir not in sys.path:\n    sys.path.append(parent_dir)\n\n# Import PyHydroGeophysX modules\nfrom PyHydroGeophysX.petrophysics.resistivity_models import resistivity_to_saturation\n\n# Extract the inverted resistivity values\nresistivity_values = np.load(\"C:/Users/HChen8/Documents/GitHub/PyHydroGeophysX/examples/results/Structure_WC/resmodel.npy\")\ncoverage = np.load(\"C:/Users/HChen8/Documents/GitHub/PyHydroGeophysX/examples/results/Structure_WC/all_coverage.npy\")\n# Extract cell markers from the mesh (to identify different geological layers)\ncell_markers = np.load(\"C:/Users/HChen8/Documents/GitHub/PyHydroGeophysX/examples/results/Structure_WC/index_marker.npy\")\n\nmesh = pg.load(\"C:/Users/HChen8/Documents/GitHub/PyHydroGeophysX/examples/results/Structure_WC/mesh_res.bms\")\n\n# Number of Monte Carlo realizations\nn_realizations = 100\n\n# Set up parameter distributions (means and standard deviations)\n# Layer 1 (top layer - marker 3)\nlayer1_dist = {\n    'rhos': {'mean': 100.0, 'std': 20.0},       # Saturated resistivity (ohm-m)\n    'n': {'mean': 2.2, 'std': 0.2},             # Saturation exponent\n    'sigma_sur': {'mean': 1/500, 'std': 1/2000},  # Surface conductivity (S/m)\n    'porosity': {'mean': 0.40, 'std': 0.05}      # Porosity\n}\n\n# Layer 2 (bottom layer - marker 2)\nlayer2_dist = {\n    'rhos': {'mean': 500.0, 'std': 100.0},      # Saturated resistivity (ohm-m)\n    'n': {'mean': 1.8, 'std': 0.2},             # Saturation exponent\n    'sigma_sur': {'mean': 0, 'std': 1/50000},    # Surface conductivity (S/m)\n    'porosity': {'mean': 0.35, 'std': 0.1}      # Porosity\n}\n\n# Create arrays to store all MC realization results\nwater_content_all = np.zeros((n_realizations, *resistivity_values.shape))\nSaturation_all = np.zeros((n_realizations, *resistivity_values.shape))\n# Create arrays to store the parameters used for each realization\nparams_used = {\n    'layer1': {\n        'rhos': np.zeros(n_realizations),\n        'n': np.zeros(n_realizations),\n        'sigma_sur': np.zeros(n_realizations),\n        'porosity': np.zeros(n_realizations)\n    },\n    'layer2': {\n        'rhos': np.zeros(n_realizations),\n        'n': np.zeros(n_realizations),\n        'sigma_sur': np.zeros(n_realizations),\n        'porosity': np.zeros(n_realizations)\n    }\n}\n\n# Perform Monte Carlo simulation\nfor mc_idx in tqdm(range(n_realizations), desc=\"Monte Carlo Simulations\"):\n    # Sample parameters for each layer from their distributions\n    # Layer 1\n    layer1_params = {\n        'rhos': max(1.0, np.random.normal(layer1_dist['rhos']['mean'], layer1_dist['rhos']['std'])),\n        'n': max(1.0, np.random.normal(layer1_dist['n']['mean'], layer1_dist['n']['std'])),\n        'sigma_sur': max(0.0, np.random.normal(layer1_dist['sigma_sur']['mean'], layer1_dist['sigma_sur']['std']))\n    }\n    \n    # Layer 2\n    layer2_params = {\n        'rhos': max(1.0, np.random.normal(layer2_dist['rhos']['mean'], layer2_dist['rhos']['std'])),\n        'n': max(1.0, np.random.normal(layer2_dist['n']['mean'], layer2_dist['n']['std'])),\n        'sigma_sur': max(0.0, np.random.normal(layer2_dist['sigma_sur']['mean'], layer2_dist['sigma_sur']['std']))\n    }\n    \n    # Sample porosity for each layer\n    porosity = np.zeros_like(cell_markers, dtype=float)\n    layer1_porosity = np.clip(np.random.normal(layer1_dist['porosity']['mean'], \n                                              layer1_dist['porosity']['std']), 0.05, 0.6)\n    layer2_porosity = np.clip(np.random.normal(layer2_dist['porosity']['mean'], \n                                              layer2_dist['porosity']['std']), 0.05, 0.6)\n    \n    porosity[cell_markers == 3] = layer1_porosity  # Top layer porosity\n    porosity[cell_markers == 2] = layer2_porosity  # Bottom layer porosity\n    \n    # Save the parameters used for this realization\n    params_used['layer1']['rhos'][mc_idx] = layer1_params['rhos']\n    params_used['layer1']['n'][mc_idx] = layer1_params['n']\n    params_used['layer1']['sigma_sur'][mc_idx] = layer1_params['sigma_sur']\n    params_used['layer1']['porosity'][mc_idx] = layer1_porosity\n    \n    params_used['layer2']['rhos'][mc_idx] = layer2_params['rhos']\n    params_used['layer2']['n'][mc_idx] = layer2_params['n']\n    params_used['layer2']['sigma_sur'][mc_idx] = layer2_params['sigma_sur']\n    params_used['layer2']['porosity'][mc_idx] = layer2_porosity\n    \n    # Create arrays to store water content and saturation for this realization\n    water_content = np.zeros_like(resistivity_values)\n    saturation = np.zeros_like(resistivity_values)\n    \n    # Process each timestep\n    for t in range(resistivity_values.shape[1]):\n        # Extract resistivity for this timestep\n        resistivity_t = resistivity_values[:, t]\n        \n        # Process each layer separately\n        # Layer 1 (marker 3)\n        mask_layer1 = cell_markers == 3\n        if np.any(mask_layer1):\n            saturation[mask_layer1, t] = resistivity_to_saturation(\n                resistivity_t[mask_layer1],\n                layer1_params['rhos'],\n                layer1_params['n'],\n                layer1_params['sigma_sur']\n            )\n        \n        # Layer 2 (marker 2)\n        mask_layer2 = cell_markers == 2\n        if np.any(mask_layer2):\n            saturation[mask_layer2, t] = resistivity_to_saturation(\n                resistivity_t[mask_layer2],\n                layer2_params['rhos'],\n                layer2_params['n'],\n                layer2_params['sigma_sur']\n            )\n        \n        # Convert saturation to water content (water_content = saturation * porosity)\n        water_content[:, t] = saturation[:, t] * porosity\n    \n    # Store this realization's water content\n    water_content_all[mc_idx] = water_content\n    Saturation_all[mc_idx] = saturation"
      ]
    },
    {
      "cell_type": "markdown",
      "metadata": {},
      "source": [
        "Calculate statistics across all realizations\n\n"
      ]
    },
    {
      "cell_type": "code",
      "execution_count": null,
      "metadata": {
        "collapsed": false
      },
      "outputs": [],
      "source": [
        "water_content_mean = np.mean(water_content_all, axis=0)\nwater_content_std = np.std(water_content_all, axis=0)\nwater_content_p10 = np.percentile(water_content_all, 10, axis=0)  # 10th percentile\nwater_content_p50 = np.percentile(water_content_all, 50, axis=0)  # Median\nwater_content_p90 = np.percentile(water_content_all, 90, axis=0)  # 90th percentile"
      ]
    },
    {
      "cell_type": "code",
      "execution_count": null,
      "metadata": {
        "collapsed": false
      },
      "outputs": [],
      "source": [
        "from palettable.lightbartlein.diverging import BlueDarkRed18_18_r\nimport matplotlib.pyplot as plt\nimport numpy as np\nimport matplotlib.pylab as pylab\nparams = {'legend.fontsize': 13,\n          #'figure.figsize': (15, 5),\n         'axes.labelsize': 13,\n         'axes.titlesize':13,\n         'xtick.labelsize':13,\n         'ytick.labelsize':13}\n\npylab.rcParams.update(params)\nplt.rcParams[\"font.family\"] = \"Arial\"\n\nfixed_cmap = BlueDarkRed18_18_r.mpl_colormap\nfig = plt.figure(figsize=[16, 6])\n\n# Use tight_layout with adjusted parameters to reduce space\nplt.subplots_adjust(wspace=0.05, hspace=0.05)\n\n# True resistivity model\nfor i in range(12):\n    row, col = i // 4, i % 4\n    ax = fig.add_subplot(3, 4, i+1)\n    \n    # Add common ylabel only to leftmost panels\n    ylabel = \"Elevation (m)\" if col == 0 else None\n    \n    # Add resistivity label only to the middle-right panel (row 1, col 3)\n    resistivity_label = ' Resistivity ($\\Omega$ m)' if (i == 7) else None\n    \n    # Only show axis ticks on leftmost and bottom panels\n    if col != 0:\n        ax.set_yticks([])\n    \n    if row != 2:  # Not bottom row\n        ax.set_xticks([])\n    else:\n        # Add \"distance (m)\" label to bottom row panels\n        ax.set_xlabel(\"Distance (m)\")\n    \n    # Create the plot\n    ax, cbar = pg.show(mesh,\n                      water_content_mean[:, i],\n                      pad=0.3,\n                      orientation=\"vertical\",\n                      cMap=fixed_cmap,\n                      cMin=0,\n                      cMax=0.32,\n                      ylabel=ylabel,\n                      label= 'Water Content (-)',\n                      ax=ax,\n                      logScale=False,\n                      coverage=coverage[i,:]>-1.2)\n    \n    # Only keep colorbar for the middle-right panel (row 1, col 3)\n    # This corresponds to panel index 7 in a 0-based indexing system\n    if i != 7:  # Keep only the colorbar for panel 7\n        cbar.remove()\n\nplt.tight_layout()"
      ]
    },
    {
      "cell_type": "code",
      "execution_count": null,
      "metadata": {
        "collapsed": false
      },
      "outputs": [],
      "source": [
        "WC_true = []\n\nfor i in np.arange(30,361,30):\n    # Extract true water content values for the current timestep\n    true_values = np.load(\"C:/Users/HChen8/Documents/GitHub/PyHydroGeophysX/examples/results/TL_measurements/synwcmodel/synwcmodel\"+str(i)+\".npy\")\n      \n    # Store the true values for this timestep\n    WC_true.append(true_values)\nmesh_true = pg.load(\"C:/Users/HChen8/Documents/GitHub/PyHydroGeophysX/examples/results/TL_measurements/mesh.bms\")\nWC_true = np.array(WC_true)\nprint(WC_true.shape)"
      ]
    },
    {
      "cell_type": "code",
      "execution_count": null,
      "metadata": {
        "collapsed": false
      },
      "outputs": [],
      "source": [
        "fig = plt.figure(figsize=[6, 3])\nax = fig.add_subplot(1, 1, 1)\nax, cbar = pg.show(mesh,\n                water_content_mean[:, 6],\n                pad=0.3,\n                orientation=\"vertical\",\n                cMap=fixed_cmap,\n                cMin=0,\n                cMax=0.32,\n                ylabel=ylabel,\n                label= 'Water Content (-)',\n                ax=ax,\n                logScale=False,\n                coverage=coverage[6,:]>-1.2)\n\nax.plot([40],[1607],'*')\nax.plot([80],[1621],'*')\n\nax.plot([30],[1604],'*')\nax.plot([65],[1608],'*')"
      ]
    },
    {
      "cell_type": "markdown",
      "metadata": {},
      "source": [
        "Modified function to extract time series based on x AND y positions\n\n"
      ]
    },
    {
      "cell_type": "code",
      "execution_count": null,
      "metadata": {
        "collapsed": false
      },
      "outputs": [],
      "source": [
        "def extract_mc_time_series(mesh, values_all, positions):\n    \"\"\"\n    Extract Monte Carlo time series at specific x,y positions\n    \n    Args:\n        mesh: PyGIMLI mesh\n        values_all: Array of all Monte Carlo realizations (n_realizations, n_cells, n_timesteps)\n        positions: List of (x,y) coordinate tuples\n        \n    Returns:\n        time_series: Array of shape (n_positions, n_realizations, n_timesteps)\n        cell_indices: List of cell indices corresponding to the positions\n    \"\"\"\n    n_realizations = values_all.shape[0]\n    n_timesteps = values_all.shape[2]\n    \n    # Find indices of cells closest to specified positions\n    cell_indices = []\n    for x_pos, y_pos in positions:\n        # Calculate distance from each cell center to the position\n        cell_centers = np.array(mesh.cellCenters())\n        distances = np.sqrt((cell_centers[:, 0] - x_pos)**2 + (cell_centers[:, 1] - y_pos)**2)\n        cell_idx = np.argmin(distances)\n        cell_indices.append(cell_idx)\n    \n    # Extract time series for each realization and position\n    time_series = np.zeros((len(positions), n_realizations, n_timesteps))\n    \n    for pos_idx, cell_idx in enumerate(cell_indices):\n        for mc_idx in range(n_realizations):\n            time_series[pos_idx, mc_idx, :] = values_all[mc_idx, cell_idx, :]\n    \n    return time_series, cell_indices\n\n\ndef extract_true_values_at_positions(mesh, true_values, positions):\n    \"\"\"\n    Extract true water content values at specific x,y positions.\n    \n    Args:\n        mesh: PyGIMLI mesh\n        true_values: Array of true water content values (n_cells, n_timesteps) or (n_cells,)\n        positions: List of (x,y) coordinate tuples\n        \n    Returns:\n        true_values_at_positions: Values at each position\n        cell_indices: List of cell indices corresponding to the positions\n    \"\"\"\n    # Find indices of cells closest to specified positions\n    cell_indices = []\n    for x_pos, y_pos in positions:\n        # Calculate distance from each cell center to the position\n        cell_centers = np.array(mesh.cellCenters())\n        distances = np.sqrt((cell_centers[:, 0] - x_pos)**2 + (cell_centers[:, 1] - y_pos)**2)\n        cell_idx = np.argmin(distances)\n        cell_indices.append(cell_idx)\n    \n    # Extract true values at the specified positions\n    if true_values.ndim == 1:  # Single value per cell\n        true_values_at_positions = true_values[cell_indices]\n    elif true_values.ndim == 2:  # Time series per cell\n        true_values_at_positions = true_values[cell_indices, :]\n    else:\n        raise ValueError(\"Unexpected shape for true_values\")\n    \n    return true_values_at_positions, cell_indices"
      ]
    },
    {
      "cell_type": "code",
      "execution_count": null,
      "metadata": {
        "collapsed": false
      },
      "outputs": [],
      "source": [
        "# Define positions to sample (x,y coordinates)\npositions = [\n    (80, 1621),  # Example coordinates, adjust based on your model\n    (40, 1607),\n]\n\n# Extract time series data for these positions\ntime_series_data, cell_indices = extract_mc_time_series(mesh, water_content_all, positions)\nPos1_true, _ = extract_true_values_at_positions(mesh_true, WC_true.T, positions)\nPos1_true"
      ]
    },
    {
      "cell_type": "markdown",
      "metadata": {},
      "source": [
        "Plot time series with uncertainty bands\n\n"
      ]
    },
    {
      "cell_type": "code",
      "execution_count": null,
      "metadata": {
        "collapsed": false
      },
      "outputs": [],
      "source": [
        "plt.figure(figsize=(12, 3))\n\nmeasurement_times = np.arange(30,361,30)  # Assuming sequential timesteps\n\n\n# Calculate statistics\nmean_ts = np.mean(time_series_data[0], axis=0)\nstd_ts = np.std(time_series_data[0], axis=0)\n\nplt.subplot(1, 2, 1)\nplt.plot(measurement_times, mean_ts, 'o-', color='tab:blue', label='Estimated')\nplt.fill_between(measurement_times, mean_ts-std_ts, mean_ts+std_ts, color='tab:blue', alpha=0.2)\nplt.plot(measurement_times,Pos1_true[0, :], 'tab:blue',ls='--', label='True')\nplt.grid(True)\nplt.legend(frameon=False)\nplt.xlabel('Time (Days)')\nplt.ylabel('Water Content (-)')\nplt.ylim(0, 0.35)\nplt.subplot(1, 2, 2)\nmean_ts = np.mean(time_series_data[1], axis=0)\nstd_ts = np.std(time_series_data[1], axis=0)\nplt.plot(measurement_times, mean_ts, 'o-', color='tab:blue',)\nplt.fill_between(measurement_times, mean_ts-std_ts, mean_ts+std_ts, color='tab:blue', alpha=0.2)\nplt.plot(measurement_times,Pos1_true[1, :], 'tab:blue',ls='--')\nplt.xlabel('Time (Days)')\nplt.ylabel('Water Content (-)')\nplt.ylim(0, 0.35)\n# plt.legend()\nplt.grid(True)\nplt.tight_layout()"
      ]
    },
    {
      "cell_type": "markdown",
      "metadata": {},
      "source": [
        "Fractured bedrock layer\n\n"
      ]
    },
    {
      "cell_type": "code",
      "execution_count": null,
      "metadata": {
        "collapsed": false
      },
      "outputs": [],
      "source": [
        "# Define positions to sample (x,y coordinates)\npositions = [\n    (30, 1604),  # Example coordinates, adjust based on your model\n    (65, 1608),\n]\n\n# Extract time series data for these positions\ntime_series_data2, cell_indices = extract_mc_time_series(mesh, water_content_all, positions)\nPos2_true, _ = extract_true_values_at_positions(mesh_true, WC_true.T, positions)\nPos2_true"
      ]
    },
    {
      "cell_type": "markdown",
      "metadata": {},
      "source": [
        "Plot time series with uncertainty bands\n\n"
      ]
    },
    {
      "cell_type": "code",
      "execution_count": null,
      "metadata": {
        "collapsed": false
      },
      "outputs": [],
      "source": [
        "plt.figure(figsize=(12, 3))\n\nmeasurement_times = np.arange(30,361,30)  # Assuming sequential timesteps\n\n\n# Calculate statistics\nmean_ts = np.mean(time_series_data2[0], axis=0)\nstd_ts = np.std(time_series_data2[0], axis=0)\n\nplt.subplot(1, 2, 1)\nplt.plot(measurement_times, mean_ts, 'o-', color='tab:brown', label='Estimated')\nplt.fill_between(measurement_times, mean_ts-std_ts, mean_ts+std_ts, color='tab:brown', alpha=0.2)\nplt.plot(measurement_times,Pos2_true[0, :], 'tab:brown',ls='--', label='True')\nplt.grid(True)\n#plt.legend(frameon=False)\nplt.xlabel('Time (Days)')\nplt.ylabel('Water Content (-)')\nplt.ylim(0, 0.35)\nplt.subplot(1, 2, 2)\nmean_ts = np.mean(time_series_data2[1], axis=0)\nstd_ts = np.std(time_series_data2[1], axis=0)\nplt.plot(measurement_times, mean_ts, 'o-', color='tab:brown',)\nplt.fill_between(measurement_times, mean_ts-std_ts, mean_ts+std_ts, color='tab:brown', alpha=0.2)\nplt.plot(measurement_times,Pos2_true[1, :], 'tab:brown',ls='--')\nplt.xlabel('Time (Days)')\nplt.ylabel('Water Content (-)')\nplt.ylim(0, 0.35)\n# plt.legend()\nplt.grid(True)\nplt.tight_layout()"
      ]
    }
  ],
  "metadata": {
    "kernelspec": {
      "display_name": "Python 3",
      "language": "python",
      "name": "python3"
    },
    "language_info": {
      "codemirror_mode": {
        "name": "ipython",
        "version": 3
      },
      "file_extension": ".py",
      "mimetype": "text/x-python",
      "name": "python",
      "nbconvert_exporter": "python",
      "pygments_lexer": "ipython3",
      "version": "3.11.8"
    }
  },
  "nbformat": 4,
  "nbformat_minor": 0
}