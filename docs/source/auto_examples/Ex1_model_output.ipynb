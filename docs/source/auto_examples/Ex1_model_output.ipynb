{
  "cells": [
    {
      "cell_type": "code",
      "execution_count": null,
      "metadata": {
        "collapsed": false
      },
      "outputs": [],
      "source": [
        "%matplotlib inline\n# This example requires data files and dependencies\n# that are not available in the documentation build\nprint(\"Example code shown for reference only\")"
      ]
    },
    {
      "cell_type": "markdown",
      "metadata": {},
      "source": [
        "\n# Ex 1. Loading and Processing Hydrological Model Outputs\n\nThis example demonstrates how to load and process outputs from different \nhydrological models using PyHydroGeophysX. We show examples for both \nParFlow and MODFLOW models.\n\nThe example covers:\n- Loading ParFlow saturation and porosity data\n- Loading MODFLOW water content and porosity data  \n- Basic visualization of the loaded data\n\nThis is typically the first step in any workflow where you want to\nconvert hydrological model outputs to geophysical data.\n"
      ]
    },
    {
      "cell_type": "code",
      "execution_count": null,
      "metadata": {
        "collapsed": false
      },
      "outputs": [],
      "source": [
        "import os\nimport sys\nimport numpy as np\nimport matplotlib.pyplot as plt\n\n# For Jupyter notebooks, use the current working directory\ntry:\n    # For regular Python scripts\n    current_dir = os.path.dirname(os.path.abspath(__file__))\nexcept NameError:\n    # For Jupyter notebooks\n    current_dir = os.getcwd()\n# Add the parent directory (OPEN_ERT) to the path\nparent_dir = os.path.dirname(os.path.dirname(current_dir))\nif parent_dir not in sys.path:\n    sys.path.append(parent_dir)\n\nfrom PyHydroGeophysX.model_output.parflow_output import ParflowSaturation, ParflowPorosity\n\nfrom PyHydroGeophysX.model_output.modflow_output import MODFLOWWaterContent, MODFLOWPorosity"
      ]
    },
    {
      "cell_type": "markdown",
      "metadata": {},
      "source": [
        "## 1. Parflow example\n\n"
      ]
    },
    {
      "cell_type": "code",
      "execution_count": null,
      "metadata": {
        "collapsed": false
      },
      "outputs": [],
      "source": [
        "# Path to your Parflow model directory\ncurrent_dir =  os.getcwd()\nmodel_directory = os.path.join(current_dir, \"data\", \"parflow\", \"test2\")\n\n# Load saturation data\nsaturation_processor = ParflowSaturation(\n    model_directory=model_directory,\n    run_name=\"test2\"\n)\nsaturation = saturation_processor.load_timestep(200)  # Load first timestep\n\n# Load porosity data\nporosity_processor = ParflowPorosity(\n    model_directory=model_directory,\n    run_name=\"test2\"\n)\nporosity = porosity_processor.load_porosity()\n\nmask = porosity_processor.load_mask()\nmask.shape\nporosity[mask==0] = np.nan\nsaturation[mask==0] = np.nan"
      ]
    },
    {
      "cell_type": "code",
      "execution_count": null,
      "metadata": {
        "collapsed": false
      },
      "outputs": [],
      "source": [
        "print(saturation.shape)\n# Plotting the data\nplt.figure(figsize=(10, 4))\nplt.subplot(1, 2, 1)\nplt.imshow(porosity[19, :, :], cmap='viridis')\nplt.colorbar(label='Porosity')\nplt.gca().invert_yaxis()\nplt.subplot(1, 2, 2)\nplt.imshow(saturation[19, :, :], cmap='viridis')\nplt.colorbar(label='Saturation')\nplt.gca().invert_yaxis()"
      ]
    },
    {
      "cell_type": "markdown",
      "metadata": {},
      "source": [
        "## 2. MODFLOW example\n\n"
      ]
    },
    {
      "cell_type": "markdown",
      "metadata": {},
      "source": [
        "These would be your actual data files\n\n"
      ]
    },
    {
      "cell_type": "code",
      "execution_count": null,
      "metadata": {
        "collapsed": false
      },
      "outputs": [],
      "source": [
        "data_dir = model_directory = os.path.join(current_dir, \"data\")\nmodflow_dir = os.path.join(data_dir, \"modflow\")\nidomain = np.loadtxt(os.path.join(modflow_dir, \"id.txt\"))\n\n# Initialize MODFLOW water content processor\nwater_content_processor = MODFLOWWaterContent(\n    model_directory=modflow_dir,  # Changed from sim_ws\n    idomain=idomain\n)\n\n# Load water content for a specific timestep\ntimestep = 1\nwater_content = water_content_processor.load_timestep(timestep)\n\nprint(water_content.shape)\n\n\n# Path to your MODFLOW model directory\n\nmodel_name = \"TLnewtest2sfb2\"  # Your model name\n\n# 1. Create an instance of the MODFLOWPorosity class\nporosity_loader = MODFLOWPorosity(\n    model_directory=modflow_dir,\n    model_name=model_name\n)\n# 2. Load the porosity data\nporosity_data = porosity_loader.load_porosity()"
      ]
    },
    {
      "cell_type": "markdown",
      "metadata": {},
      "source": [
        "Plotting the data\n\n"
      ]
    },
    {
      "cell_type": "code",
      "execution_count": null,
      "metadata": {
        "collapsed": false
      },
      "outputs": [],
      "source": [
        "porosity_data1 = porosity_data[0, :, :]\nporosity_data1[idomain==0] = np.nan\n\nplt.figure(figsize=(10, 4))\nplt.subplot(1, 2, 1)\nplt.imshow(porosity_data1[ :, :], cmap='viridis')\nplt.colorbar(label='Porosity')\n\nplt.subplot(1, 2, 2)\nplt.imshow(water_content[0, :, :], cmap='viridis')\nplt.colorbar(label='Water Content')"
      ]
    }
  ],
  "metadata": {
    "kernelspec": {
      "display_name": "Python 3",
      "language": "python",
      "name": "python3"
    },
    "language_info": {
      "codemirror_mode": {
        "name": "ipython",
        "version": 3
      },
      "file_extension": ".py",
      "mimetype": "text/x-python",
      "name": "python",
      "nbconvert_exporter": "python",
      "pygments_lexer": "ipython3",
      "version": "3.11.8"
    }
  },
  "nbformat": 4,
  "nbformat_minor": 0
}