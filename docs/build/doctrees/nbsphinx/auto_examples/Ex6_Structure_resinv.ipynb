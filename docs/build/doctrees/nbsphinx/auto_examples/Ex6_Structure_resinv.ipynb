{
 "cells": [
  {
   "cell_type": "markdown",
   "metadata": {},
   "source": [
    "\n",
    "# Structure-Constrained Resistivity Inversion\n",
    "\n",
    "This example demonstrates how to incorporate structural information from \n",
    "seismic velocity models into ERT inversion for improved subsurface imaging.\n",
    "\n",
    "The workflow includes:\n",
    "1. Loading seismic travel time data and performing velocity inversion\n",
    "2. Extracting velocity interfaces at specified thresholds\n",
    "3. Creating ERT meshes with geological layer boundaries\n",
    "4. Structure-constrained ERT inversion using velocity-derived interfaces\n",
    "5. Comparison with unconstrained inversion results\n",
    "\n",
    "Structure-constrained inversion significantly improves the accuracy of \n",
    "resistivity models by incorporating a priori geological information,\n",
    "leading to more reliable hydrological interpretations.\n"
   ]
  },
  {
   "cell_type": "code",
   "execution_count": 1,
   "metadata": {
    "collapsed": false,
    "execution": {
     "iopub.execute_input": "2025-05-22T02:40:04.295868Z",
     "iopub.status.busy": "2025-05-22T02:40:04.294862Z",
     "iopub.status.idle": "2025-05-22T02:40:06.702013Z",
     "shell.execute_reply": "2025-05-22T02:40:06.702013Z"
    }
   },
   "outputs": [],
   "source": [
    "import matplotlib.pyplot as plt\n",
    "import numpy as np\n",
    "import pygimli as pg\n",
    "from pygimli.physics import ert\n",
    "import pygimli.physics.traveltime as tt\n",
    "import os\n",
    "import sys\n",
    "import matplotlib.pylab as pylab\n",
    "\n",
    "# Setup package path for development\n",
    "try:\n",
    "    # For regular Python scripts\n",
    "    current_dir = os.path.dirname(os.path.abspath(__file__))\n",
    "except NameError:\n",
    "    # For Jupyter notebooks\n",
    "    current_dir = os.getcwd()\n",
    "\n",
    "# Add the parent directory to Python path\n",
    "parent_dir = os.path.dirname(current_dir)\n",
    "if parent_dir not in sys.path:\n",
    "    sys.path.append(parent_dir)\n",
    "\n",
    "# Import PyHydroGeophysX modules\n",
    "from PyHydroGeophysX.inversion.time_lapse import TimeLapseERTInversion\n",
    "\n",
    "# Set up matplotlib parameters\n",
    "params = {'legend.fontsize': 15,\n",
    "         'axes.labelsize': 14,\n",
    "         'axes.titlesize':14,\n",
    "         'xtick.labelsize':14,\n",
    "         'ytick.labelsize':14}\n",
    "pylab.rcParams.update(params)\n",
    "plt.rcParams[\"font.family\"] = \"Arial\""
   ]
  },
  {
   "cell_type": "code",
   "execution_count": 2,
   "metadata": {
    "collapsed": false,
    "execution": {
     "iopub.execute_input": "2025-05-22T02:40:06.705279Z",
     "iopub.status.busy": "2025-05-22T02:40:06.704769Z",
     "iopub.status.idle": "2025-05-22T02:40:06.709325Z",
     "shell.execute_reply": "2025-05-22T02:40:06.708816Z"
    }
   },
   "outputs": [],
   "source": [
    "output_dir = \"results/Structure_WC\"\n",
    "os.makedirs(output_dir, exist_ok=True)"
   ]
  },
  {
   "cell_type": "markdown",
   "metadata": {},
   "source": [
    "## 1. load data\n",
    "\n"
   ]
  },
  {
   "cell_type": "markdown",
   "metadata": {},
   "source": [
    "load seismic data\n",
    "\n"
   ]
  },
  {
   "cell_type": "code",
   "execution_count": 3,
   "metadata": {
    "collapsed": false,
    "execution": {
     "iopub.execute_input": "2025-05-22T02:40:06.711853Z",
     "iopub.status.busy": "2025-05-22T02:40:06.711346Z",
     "iopub.status.idle": "2025-05-22T02:40:07.592859Z",
     "shell.execute_reply": "2025-05-22T02:40:07.592307Z"
    }
   },
   "outputs": [
    {
     "ename": "RuntimeError",
     "evalue": "./core/src/gimli.cpp:148\t\tint GIMLI::openFile(const std::string&, std::fstream*, std::ios_base::openmode, bool)  './results/workflow_example/synthetic_seismic_data.dat': No such file or directory2",
     "output_type": "error",
     "traceback": [
      "\u001b[1;31m---------------------------------------------------------------------------\u001b[0m",
      "\u001b[1;31mRuntimeError\u001b[0m                              Traceback (most recent call last)",
      "Cell \u001b[1;32mIn[3], line 1\u001b[0m\n\u001b[1;32m----> 1\u001b[0m ttData \u001b[38;5;241m=\u001b[39m \u001b[43mtt\u001b[49m\u001b[38;5;241;43m.\u001b[39;49m\u001b[43mload\u001b[49m\u001b[43m(\u001b[49m\u001b[38;5;124;43m\"\u001b[39;49m\u001b[38;5;124;43m./results/workflow_example/synthetic_seismic_data.dat\u001b[39;49m\u001b[38;5;124;43m\"\u001b[39;49m\u001b[43m)\u001b[49m\n\u001b[0;32m      2\u001b[0m \u001b[38;5;66;03m# load ERT data\u001b[39;00m\n\u001b[0;32m      3\u001b[0m ertData \u001b[38;5;241m=\u001b[39m ert\u001b[38;5;241m.\u001b[39mload(\u001b[38;5;124m\"\u001b[39m\u001b[38;5;124m./results/TL_measurements/appres/synthetic_data30.dat\u001b[39m\u001b[38;5;124m\"\u001b[39m)\n",
      "File \u001b[1;32m~\\anaconda3\\envs\\pg\\Lib\\site-packages\\pygimli\\physics\\traveltime\\importData.py:30\u001b[0m, in \u001b[0;36mload\u001b[1;34m(fileName, verbose, **kwargs)\u001b[0m\n\u001b[0;32m     28\u001b[0m     data \u001b[38;5;241m=\u001b[39m readTOMfile(fileName)\n\u001b[0;32m     29\u001b[0m \u001b[38;5;28;01melse\u001b[39;00m:\n\u001b[1;32m---> 30\u001b[0m     data \u001b[38;5;241m=\u001b[39m \u001b[43mDataContainerTT\u001b[49m\u001b[43m(\u001b[49m\u001b[43mfileName\u001b[49m\u001b[43m)\u001b[49m\n\u001b[0;32m     31\u001b[0m     \u001b[38;5;66;03m# data = pg.DataContainer(fileName, sensorTokens='s g')\u001b[39;00m\n\u001b[0;32m     33\u001b[0m \u001b[38;5;28;01mreturn\u001b[39;00m data\n",
      "File \u001b[1;32m~\\anaconda3\\envs\\pg\\Lib\\site-packages\\pygimli\\physics\\traveltime\\tt.py:39\u001b[0m, in \u001b[0;36mDataContainerTT.__init__\u001b[1;34m(self, data, **kwargs)\u001b[0m\n\u001b[0;32m     37\u001b[0m \u001b[38;5;28mself\u001b[39m\u001b[38;5;241m.\u001b[39mregisterSensorIndex(\u001b[38;5;124m\"\u001b[39m\u001b[38;5;124mg\u001b[39m\u001b[38;5;124m\"\u001b[39m)\n\u001b[0;32m     38\u001b[0m \u001b[38;5;28;01mif\u001b[39;00m \u001b[38;5;28misinstance\u001b[39m(data, \u001b[38;5;28mstr\u001b[39m):\n\u001b[1;32m---> 39\u001b[0m     \u001b[38;5;28;43mself\u001b[39;49m\u001b[38;5;241;43m.\u001b[39;49m\u001b[43mload\u001b[49m\u001b[43m(\u001b[49m\u001b[43mdata\u001b[49m\u001b[43m)\u001b[49m\n",
      "\u001b[1;31mRuntimeError\u001b[0m: ./core/src/gimli.cpp:148\t\tint GIMLI::openFile(const std::string&, std::fstream*, std::ios_base::openmode, bool)  './results/workflow_example/synthetic_seismic_data.dat': No such file or directory2"
     ]
    }
   ],
   "source": [
    "ttData = tt.load(\"./results/workflow_example/synthetic_seismic_data.dat\")\n",
    "# load ERT data\n",
    "ertData = ert.load(\"./results/TL_measurements/appres/synthetic_data30.dat\")"
   ]
  },
  {
   "cell_type": "markdown",
   "metadata": {},
   "source": [
    "using ERT data to create a mesh to take care of the boundary\n",
    "\n"
   ]
  },
  {
   "cell_type": "code",
   "execution_count": 4,
   "metadata": {
    "collapsed": false,
    "execution": {
     "iopub.execute_input": "2025-05-22T02:40:07.596720Z",
     "iopub.status.busy": "2025-05-22T02:40:07.595708Z",
     "iopub.status.idle": "2025-05-22T02:40:07.614623Z",
     "shell.execute_reply": "2025-05-22T02:40:07.614623Z"
    }
   },
   "outputs": [
    {
     "ename": "NameError",
     "evalue": "name 'ertData' is not defined",
     "output_type": "error",
     "traceback": [
      "\u001b[1;31m---------------------------------------------------------------------------\u001b[0m",
      "\u001b[1;31mNameError\u001b[0m                                 Traceback (most recent call last)",
      "Cell \u001b[1;32mIn[4], line 3\u001b[0m\n\u001b[0;32m      1\u001b[0m paraBoundary \u001b[38;5;241m=\u001b[39m \u001b[38;5;241m0.1\u001b[39m\n\u001b[1;32m----> 3\u001b[0m ert1 \u001b[38;5;241m=\u001b[39m ert\u001b[38;5;241m.\u001b[39mERTManager(\u001b[43mertData\u001b[49m)\n\u001b[0;32m      4\u001b[0m grid \u001b[38;5;241m=\u001b[39m ert1\u001b[38;5;241m.\u001b[39mcreateMesh(data\u001b[38;5;241m=\u001b[39mertData,quality \u001b[38;5;241m=\u001b[39m \u001b[38;5;241m31\u001b[39m,paraDX\u001b[38;5;241m=\u001b[39m\u001b[38;5;241m0.5\u001b[39m, paraMaxCellSize\u001b[38;5;241m=\u001b[39m\u001b[38;5;241m2\u001b[39m, boundaryMaxCellSize\u001b[38;5;241m=\u001b[39m\u001b[38;5;241m3000\u001b[39m,smooth\u001b[38;5;241m=\u001b[39m[\u001b[38;5;241m2\u001b[39m, \u001b[38;5;241m2\u001b[39m],\n\u001b[0;32m      5\u001b[0m                        paraBoundary \u001b[38;5;241m=\u001b[39m paraBoundary, paraDepth \u001b[38;5;241m=\u001b[39m \u001b[38;5;241m30.0\u001b[39m)\n\u001b[0;32m      6\u001b[0m ert1\u001b[38;5;241m.\u001b[39msetMesh(grid)\n",
      "\u001b[1;31mNameError\u001b[0m: name 'ertData' is not defined"
     ]
    }
   ],
   "source": [
    "paraBoundary = 0.1\n",
    "\n",
    "ert1 = ert.ERTManager(ertData)\n",
    "grid = ert1.createMesh(data=ertData,quality = 31,paraDX=0.5, paraMaxCellSize=2, boundaryMaxCellSize=3000,smooth=[2, 2],\n",
    "                       paraBoundary = paraBoundary, paraDepth = 30.0)\n",
    "ert1.setMesh(grid)\n",
    "mesh = ert1.fop.paraDomain\n",
    "mesh.setCellMarkers(np.ones((mesh.cellCount()))*2)\n",
    "pg.show(mesh)"
   ]
  },
  {
   "cell_type": "markdown",
   "metadata": {},
   "source": [
    "# travel time inversion\n",
    "\n"
   ]
  },
  {
   "cell_type": "code",
   "execution_count": 5,
   "metadata": {
    "collapsed": false,
    "execution": {
     "iopub.execute_input": "2025-05-22T02:40:07.618152Z",
     "iopub.status.busy": "2025-05-22T02:40:07.618152Z",
     "iopub.status.idle": "2025-05-22T02:40:07.638957Z",
     "shell.execute_reply": "2025-05-22T02:40:07.638957Z"
    }
   },
   "outputs": [
    {
     "ename": "NameError",
     "evalue": "name 'mesh' is not defined",
     "output_type": "error",
     "traceback": [
      "\u001b[1;31m---------------------------------------------------------------------------\u001b[0m",
      "\u001b[1;31mNameError\u001b[0m                                 Traceback (most recent call last)",
      "Cell \u001b[1;32mIn[5], line 2\u001b[0m\n\u001b[0;32m      1\u001b[0m TT \u001b[38;5;241m=\u001b[39m pg\u001b[38;5;241m.\u001b[39mphysics\u001b[38;5;241m.\u001b[39mtraveltime\u001b[38;5;241m.\u001b[39mTravelTimeManager()\n\u001b[1;32m----> 2\u001b[0m TT\u001b[38;5;241m.\u001b[39msetMesh(\u001b[43mmesh\u001b[49m)\n\u001b[0;32m      3\u001b[0m TT\u001b[38;5;241m.\u001b[39minvert(ttData, lam\u001b[38;5;241m=\u001b[39m\u001b[38;5;241m50\u001b[39m,\n\u001b[0;32m      4\u001b[0m           zWeight\u001b[38;5;241m=\u001b[39m\u001b[38;5;241m0.2\u001b[39m,vTop\u001b[38;5;241m=\u001b[39m\u001b[38;5;241m500\u001b[39m, vBottom\u001b[38;5;241m=\u001b[39m\u001b[38;5;241m5000\u001b[39m,\n\u001b[0;32m      5\u001b[0m           verbose\u001b[38;5;241m=\u001b[39m\u001b[38;5;241m1\u001b[39m, limits\u001b[38;5;241m=\u001b[39m[\u001b[38;5;241m100.\u001b[39m, \u001b[38;5;241m6000.\u001b[39m])\n",
      "\u001b[1;31mNameError\u001b[0m: name 'mesh' is not defined"
     ]
    }
   ],
   "source": [
    "TT = pg.physics.traveltime.TravelTimeManager()\n",
    "TT.setMesh(mesh)\n",
    "TT.invert(ttData, lam=50,\n",
    "          zWeight=0.2,vTop=500, vBottom=5000,\n",
    "          verbose=1, limits=[100., 6000.])"
   ]
  },
  {
   "cell_type": "code",
   "execution_count": 6,
   "metadata": {
    "collapsed": false,
    "execution": {
     "iopub.execute_input": "2025-05-22T02:40:07.641978Z",
     "iopub.status.busy": "2025-05-22T02:40:07.640972Z",
     "iopub.status.idle": "2025-05-22T02:40:07.879621Z",
     "shell.execute_reply": "2025-05-22T02:40:07.879621Z"
    }
   },
   "outputs": [
    {
     "name": "stderr",
     "output_type": "stream",
     "text": [
      "21/05/25 - 19:40:07 - pyGIMLi - \u001b[5;31;1;49mCRITICAL\u001b[0m - <class 'pygimli.frameworks.inversion.Inversion'>.model(C:\\Users\\HChen8\\anaconda3\\envs\\pg\\Lib\\site-packages\\pygimli\\frameworks\\inversion.py:240)\n",
      "There was no inversion run so there is no last model\n"
     ]
    },
    {
     "ename": "Exception",
     "evalue": "There was no inversion run so there is no last model",
     "output_type": "error",
     "traceback": [
      "\u001b[1;31m---------------------------------------------------------------------------\u001b[0m",
      "\u001b[1;31mException\u001b[0m                                 Traceback (most recent call last)",
      "Cell \u001b[1;32mIn[6], line 1\u001b[0m\n\u001b[1;32m----> 1\u001b[0m ax, cbar \u001b[38;5;241m=\u001b[39m \u001b[43mTT\u001b[49m\u001b[38;5;241;43m.\u001b[39;49m\u001b[43mshowResult\u001b[49m\u001b[43m(\u001b[49m\u001b[43mcMap\u001b[49m\u001b[38;5;241;43m=\u001b[39;49m\u001b[38;5;124;43m'\u001b[39;49m\u001b[38;5;124;43mjet\u001b[39;49m\u001b[38;5;124;43m'\u001b[39;49m\u001b[43m,\u001b[49m\u001b[43mcoverage\u001b[49m\u001b[38;5;241;43m=\u001b[39;49m\u001b[43mTT\u001b[49m\u001b[38;5;241;43m.\u001b[39;49m\u001b[43mstandardizedCoverage\u001b[49m\u001b[43m(\u001b[49m\u001b[43m)\u001b[49m\u001b[43m,\u001b[49m\u001b[43mcMin\u001b[49m\u001b[38;5;241;43m=\u001b[39;49m\u001b[38;5;241;43m500\u001b[39;49m\u001b[43m,\u001b[49m\u001b[43mcMax\u001b[49m\u001b[38;5;241;43m=\u001b[39;49m\u001b[38;5;241;43m5000\u001b[39;49m\u001b[43m)\u001b[49m\n",
      "File \u001b[1;32m~\\anaconda3\\envs\\pg\\Lib\\site-packages\\pygimli\\frameworks\\methodManager.py:510\u001b[0m, in \u001b[0;36mMethodManager.showResult\u001b[1;34m(self, model, ax, **kwargs)\u001b[0m\n\u001b[0;32m    491\u001b[0m \u001b[38;5;250m\u001b[39m\u001b[38;5;124;03m\"\"\"Show the last inversion result.\u001b[39;00m\n\u001b[0;32m    492\u001b[0m \n\u001b[0;32m    493\u001b[0m \u001b[38;5;124;03mTODO\u001b[39;00m\n\u001b[1;32m   (...)\u001b[0m\n\u001b[0;32m    507\u001b[0m \u001b[38;5;124;03max, cbar\u001b[39;00m\n\u001b[0;32m    508\u001b[0m \u001b[38;5;124;03m\"\"\"\u001b[39;00m\n\u001b[0;32m    509\u001b[0m \u001b[38;5;28;01mif\u001b[39;00m model \u001b[38;5;129;01mis\u001b[39;00m \u001b[38;5;28;01mNone\u001b[39;00m:\n\u001b[1;32m--> 510\u001b[0m     model \u001b[38;5;241m=\u001b[39m \u001b[38;5;28;43mself\u001b[39;49m\u001b[38;5;241;43m.\u001b[39;49m\u001b[43mmodel\u001b[49m\n\u001b[0;32m    512\u001b[0m \u001b[38;5;28;01mreturn\u001b[39;00m \u001b[38;5;28mself\u001b[39m\u001b[38;5;241m.\u001b[39mshowModel(model, ax\u001b[38;5;241m=\u001b[39max, \u001b[38;5;241m*\u001b[39m\u001b[38;5;241m*\u001b[39mkwargs)\n",
      "File \u001b[1;32m~\\anaconda3\\envs\\pg\\Lib\\site-packages\\pygimli\\frameworks\\methodManager.py:715\u001b[0m, in \u001b[0;36mMeshMethodManager.model\u001b[1;34m(self)\u001b[0m\n\u001b[0;32m    712\u001b[0m \u001b[38;5;129m@property\u001b[39m\n\u001b[0;32m    713\u001b[0m \u001b[38;5;28;01mdef\u001b[39;00m \u001b[38;5;21mmodel\u001b[39m(\u001b[38;5;28mself\u001b[39m):\n\u001b[0;32m    714\u001b[0m \u001b[38;5;250m    \u001b[39m\u001b[38;5;124;03m\"\"\"Inversion model.\"\"\"\u001b[39;00m\n\u001b[1;32m--> 715\u001b[0m     \u001b[38;5;28;01mreturn\u001b[39;00m \u001b[38;5;28mself\u001b[39m\u001b[38;5;241m.\u001b[39mparaModel(\u001b[38;5;28;43mself\u001b[39;49m\u001b[38;5;241;43m.\u001b[39;49m\u001b[43mfw\u001b[49m\u001b[38;5;241;43m.\u001b[39;49m\u001b[43mmodel\u001b[49m)\n",
      "File \u001b[1;32m~\\anaconda3\\envs\\pg\\Lib\\site-packages\\pygimli\\frameworks\\inversion.py:240\u001b[0m, in \u001b[0;36mInversion.model\u001b[1;34m(self)\u001b[0m\n\u001b[0;32m    238\u001b[0m         \u001b[38;5;28;01mreturn\u001b[39;00m \u001b[38;5;28mself\u001b[39m\u001b[38;5;241m.\u001b[39minv\u001b[38;5;241m.\u001b[39mmodel()\n\u001b[0;32m    239\u001b[0m     \u001b[38;5;28;01melse\u001b[39;00m:\n\u001b[1;32m--> 240\u001b[0m         \u001b[38;5;28;01mraise\u001b[39;00m \u001b[38;5;167;01mException\u001b[39;00m(\u001b[43mpg\u001b[49m\u001b[38;5;241;43m.\u001b[39;49m\u001b[43mcritical\u001b[49m\u001b[43m(\u001b[49m\n\u001b[0;32m    241\u001b[0m \u001b[43m            \u001b[49m\u001b[38;5;124;43m\"\u001b[39;49m\u001b[38;5;124;43mThere was no inversion run so there is no last model\u001b[39;49m\u001b[38;5;124;43m\"\u001b[39;49m\u001b[43m)\u001b[49m)\n\u001b[0;32m    242\u001b[0m \u001b[38;5;28;01melse\u001b[39;00m:\n\u001b[0;32m    243\u001b[0m     \u001b[38;5;28;01mreturn\u001b[39;00m \u001b[38;5;28mself\u001b[39m\u001b[38;5;241m.\u001b[39minv\u001b[38;5;241m.\u001b[39mmodel\n",
      "File \u001b[1;32m~\\anaconda3\\envs\\pg\\Lib\\site-packages\\pygimli\\core\\logger.py:301\u001b[0m, in \u001b[0;36mcritical\u001b[1;34m(*args)\u001b[0m\n\u001b[0;32m    299\u001b[0m \u001b[38;5;28;01mdef\u001b[39;00m \u001b[38;5;21mcritical\u001b[39m(\u001b[38;5;241m*\u001b[39margs):\n\u001b[0;32m    300\u001b[0m     logger\u001b[38;5;241m.\u001b[39mcritical(whereAmI(nr\u001b[38;5;241m=\u001b[39m\u001b[38;5;241m2\u001b[39m) \u001b[38;5;241m+\u001b[39m \u001b[38;5;124m\"\u001b[39m\u001b[38;5;130;01m\\n\u001b[39;00m\u001b[38;5;124m\"\u001b[39m \u001b[38;5;241m+\u001b[39m _msg(\u001b[38;5;241m*\u001b[39margs))\n\u001b[1;32m--> 301\u001b[0m     \u001b[38;5;28;01mraise\u001b[39;00m \u001b[38;5;167;01mException\u001b[39;00m(_msg(\u001b[38;5;241m*\u001b[39margs))\n",
      "\u001b[1;31mException\u001b[0m: There was no inversion run so there is no last model"
     ]
    }
   ],
   "source": [
    "ax, cbar = TT.showResult(cMap='jet',coverage=TT.standardizedCoverage(),cMin=500,cMax=5000)"
   ]
  },
  {
   "cell_type": "code",
   "execution_count": 7,
   "metadata": {
    "collapsed": false,
    "execution": {
     "iopub.execute_input": "2025-05-22T02:40:07.882649Z",
     "iopub.status.busy": "2025-05-22T02:40:07.881641Z",
     "iopub.status.idle": "2025-05-22T02:40:08.059185Z",
     "shell.execute_reply": "2025-05-22T02:40:08.058674Z"
    }
   },
   "outputs": [
    {
     "name": "stderr",
     "output_type": "stream",
     "text": [
      "21/05/25 - 19:40:08 - pyGIMLi - \u001b[5;31;1;49mCRITICAL\u001b[0m - <class 'pygimli.frameworks.inversion.Inversion'>.model(C:\\Users\\HChen8\\anaconda3\\envs\\pg\\Lib\\site-packages\\pygimli\\frameworks\\inversion.py:240)\n",
      "There was no inversion run so there is no last model\n"
     ]
    },
    {
     "ename": "Exception",
     "evalue": "There was no inversion run so there is no last model",
     "output_type": "error",
     "traceback": [
      "\u001b[1;31m---------------------------------------------------------------------------\u001b[0m",
      "\u001b[1;31mException\u001b[0m                                 Traceback (most recent call last)",
      "Cell \u001b[1;32mIn[7], line 1\u001b[0m\n\u001b[1;32m----> 1\u001b[0m ax, cbar \u001b[38;5;241m=\u001b[39m \u001b[43mTT\u001b[49m\u001b[38;5;241;43m.\u001b[39;49m\u001b[43mshowResult\u001b[49m\u001b[43m(\u001b[49m\u001b[43mcMap\u001b[49m\u001b[38;5;241;43m=\u001b[39;49m\u001b[38;5;124;43m'\u001b[39;49m\u001b[38;5;124;43mjet\u001b[39;49m\u001b[38;5;124;43m'\u001b[39;49m\u001b[43m,\u001b[49m\u001b[43mcMin\u001b[49m\u001b[38;5;241;43m=\u001b[39;49m\u001b[38;5;241;43m500\u001b[39;49m\u001b[43m,\u001b[49m\u001b[43mcMax\u001b[49m\u001b[38;5;241;43m=\u001b[39;49m\u001b[38;5;241;43m5000\u001b[39;49m\u001b[43m)\u001b[49m\n",
      "File \u001b[1;32m~\\anaconda3\\envs\\pg\\Lib\\site-packages\\pygimli\\frameworks\\methodManager.py:510\u001b[0m, in \u001b[0;36mMethodManager.showResult\u001b[1;34m(self, model, ax, **kwargs)\u001b[0m\n\u001b[0;32m    491\u001b[0m \u001b[38;5;250m\u001b[39m\u001b[38;5;124;03m\"\"\"Show the last inversion result.\u001b[39;00m\n\u001b[0;32m    492\u001b[0m \n\u001b[0;32m    493\u001b[0m \u001b[38;5;124;03mTODO\u001b[39;00m\n\u001b[1;32m   (...)\u001b[0m\n\u001b[0;32m    507\u001b[0m \u001b[38;5;124;03max, cbar\u001b[39;00m\n\u001b[0;32m    508\u001b[0m \u001b[38;5;124;03m\"\"\"\u001b[39;00m\n\u001b[0;32m    509\u001b[0m \u001b[38;5;28;01mif\u001b[39;00m model \u001b[38;5;129;01mis\u001b[39;00m \u001b[38;5;28;01mNone\u001b[39;00m:\n\u001b[1;32m--> 510\u001b[0m     model \u001b[38;5;241m=\u001b[39m \u001b[38;5;28;43mself\u001b[39;49m\u001b[38;5;241;43m.\u001b[39;49m\u001b[43mmodel\u001b[49m\n\u001b[0;32m    512\u001b[0m \u001b[38;5;28;01mreturn\u001b[39;00m \u001b[38;5;28mself\u001b[39m\u001b[38;5;241m.\u001b[39mshowModel(model, ax\u001b[38;5;241m=\u001b[39max, \u001b[38;5;241m*\u001b[39m\u001b[38;5;241m*\u001b[39mkwargs)\n",
      "File \u001b[1;32m~\\anaconda3\\envs\\pg\\Lib\\site-packages\\pygimli\\frameworks\\methodManager.py:715\u001b[0m, in \u001b[0;36mMeshMethodManager.model\u001b[1;34m(self)\u001b[0m\n\u001b[0;32m    712\u001b[0m \u001b[38;5;129m@property\u001b[39m\n\u001b[0;32m    713\u001b[0m \u001b[38;5;28;01mdef\u001b[39;00m \u001b[38;5;21mmodel\u001b[39m(\u001b[38;5;28mself\u001b[39m):\n\u001b[0;32m    714\u001b[0m \u001b[38;5;250m    \u001b[39m\u001b[38;5;124;03m\"\"\"Inversion model.\"\"\"\u001b[39;00m\n\u001b[1;32m--> 715\u001b[0m     \u001b[38;5;28;01mreturn\u001b[39;00m \u001b[38;5;28mself\u001b[39m\u001b[38;5;241m.\u001b[39mparaModel(\u001b[38;5;28;43mself\u001b[39;49m\u001b[38;5;241;43m.\u001b[39;49m\u001b[43mfw\u001b[49m\u001b[38;5;241;43m.\u001b[39;49m\u001b[43mmodel\u001b[49m)\n",
      "File \u001b[1;32m~\\anaconda3\\envs\\pg\\Lib\\site-packages\\pygimli\\frameworks\\inversion.py:240\u001b[0m, in \u001b[0;36mInversion.model\u001b[1;34m(self)\u001b[0m\n\u001b[0;32m    238\u001b[0m         \u001b[38;5;28;01mreturn\u001b[39;00m \u001b[38;5;28mself\u001b[39m\u001b[38;5;241m.\u001b[39minv\u001b[38;5;241m.\u001b[39mmodel()\n\u001b[0;32m    239\u001b[0m     \u001b[38;5;28;01melse\u001b[39;00m:\n\u001b[1;32m--> 240\u001b[0m         \u001b[38;5;28;01mraise\u001b[39;00m \u001b[38;5;167;01mException\u001b[39;00m(\u001b[43mpg\u001b[49m\u001b[38;5;241;43m.\u001b[39;49m\u001b[43mcritical\u001b[49m\u001b[43m(\u001b[49m\n\u001b[0;32m    241\u001b[0m \u001b[43m            \u001b[49m\u001b[38;5;124;43m\"\u001b[39;49m\u001b[38;5;124;43mThere was no inversion run so there is no last model\u001b[39;49m\u001b[38;5;124;43m\"\u001b[39;49m\u001b[43m)\u001b[49m)\n\u001b[0;32m    242\u001b[0m \u001b[38;5;28;01melse\u001b[39;00m:\n\u001b[0;32m    243\u001b[0m     \u001b[38;5;28;01mreturn\u001b[39;00m \u001b[38;5;28mself\u001b[39m\u001b[38;5;241m.\u001b[39minv\u001b[38;5;241m.\u001b[39mmodel\n",
      "File \u001b[1;32m~\\anaconda3\\envs\\pg\\Lib\\site-packages\\pygimli\\core\\logger.py:301\u001b[0m, in \u001b[0;36mcritical\u001b[1;34m(*args)\u001b[0m\n\u001b[0;32m    299\u001b[0m \u001b[38;5;28;01mdef\u001b[39;00m \u001b[38;5;21mcritical\u001b[39m(\u001b[38;5;241m*\u001b[39margs):\n\u001b[0;32m    300\u001b[0m     logger\u001b[38;5;241m.\u001b[39mcritical(whereAmI(nr\u001b[38;5;241m=\u001b[39m\u001b[38;5;241m2\u001b[39m) \u001b[38;5;241m+\u001b[39m \u001b[38;5;124m\"\u001b[39m\u001b[38;5;130;01m\\n\u001b[39;00m\u001b[38;5;124m\"\u001b[39m \u001b[38;5;241m+\u001b[39m _msg(\u001b[38;5;241m*\u001b[39margs))\n\u001b[1;32m--> 301\u001b[0m     \u001b[38;5;28;01mraise\u001b[39;00m \u001b[38;5;167;01mException\u001b[39;00m(_msg(\u001b[38;5;241m*\u001b[39margs))\n",
      "\u001b[1;31mException\u001b[0m: There was no inversion run so there is no last model"
     ]
    }
   ],
   "source": [
    "ax, cbar = TT.showResult(cMap='jet',cMin=500,cMax=5000)"
   ]
  },
  {
   "cell_type": "code",
   "execution_count": 8,
   "metadata": {
    "collapsed": false,
    "execution": {
     "iopub.execute_input": "2025-05-22T02:40:08.061714Z",
     "iopub.status.busy": "2025-05-22T02:40:08.061714Z",
     "iopub.status.idle": "2025-05-22T02:40:08.151748Z",
     "shell.execute_reply": "2025-05-22T02:40:08.151232Z"
    }
   },
   "outputs": [
    {
     "name": "stderr",
     "output_type": "stream",
     "text": [
      "21/05/25 - 19:40:08 - pyGIMLi - \u001b[0;32;49mINFO\u001b[0m - Creating forward mesh from region infos.\n"
     ]
    },
    {
     "ename": "RuntimeError",
     "evalue": "RegionManager knows no mesh.",
     "output_type": "error",
     "traceback": [
      "\u001b[1;31m---------------------------------------------------------------------------\u001b[0m",
      "\u001b[1;31mRuntimeError\u001b[0m                              Traceback (most recent call last)",
      "Cell \u001b[1;32mIn[8], line 1\u001b[0m\n\u001b[1;32m----> 1\u001b[0m pg\u001b[38;5;241m.\u001b[39mshow(\u001b[43mTT\u001b[49m\u001b[38;5;241;43m.\u001b[39;49m\u001b[43mparaDomain\u001b[49m,TT\u001b[38;5;241m.\u001b[39mmodel\u001b[38;5;241m.\u001b[39marray())\n\u001b[0;32m      2\u001b[0m \u001b[38;5;28mprint\u001b[39m(TT\u001b[38;5;241m.\u001b[39mparaDomain)\n\u001b[0;32m      3\u001b[0m \u001b[38;5;28mprint\u001b[39m(TT\u001b[38;5;241m.\u001b[39mmodel\u001b[38;5;241m.\u001b[39marray())\n",
      "File \u001b[1;32m~\\anaconda3\\envs\\pg\\Lib\\site-packages\\pygimli\\frameworks\\methodManager.py:720\u001b[0m, in \u001b[0;36mMeshMethodManager.paraDomain\u001b[1;34m(self)\u001b[0m\n\u001b[0;32m    717\u001b[0m \u001b[38;5;129m@property\u001b[39m\n\u001b[0;32m    718\u001b[0m \u001b[38;5;28;01mdef\u001b[39;00m \u001b[38;5;21mparaDomain\u001b[39m(\u001b[38;5;28mself\u001b[39m):\n\u001b[0;32m    719\u001b[0m \u001b[38;5;250m    \u001b[39m\u001b[38;5;124;03m\"\"\"Parameter (inversion) domain mesh.\"\"\"\u001b[39;00m\n\u001b[1;32m--> 720\u001b[0m     \u001b[38;5;28;01mreturn\u001b[39;00m \u001b[38;5;28;43mself\u001b[39;49m\u001b[38;5;241;43m.\u001b[39;49m\u001b[43mfop\u001b[49m\u001b[38;5;241;43m.\u001b[39;49m\u001b[43mparaDomain\u001b[49m\n",
      "File \u001b[1;32m~\\anaconda3\\envs\\pg\\Lib\\site-packages\\pygimli\\frameworks\\modelling.py:585\u001b[0m, in \u001b[0;36mMeshModelling.paraDomain\u001b[1;34m(self)\u001b[0m\n\u001b[0;32m    582\u001b[0m \u001b[38;5;250m\u001b[39m\u001b[38;5;124;03m\"\"\"Return parameter (inverse) mesh.\"\"\"\u001b[39;00m\n\u001b[0;32m    583\u001b[0m \u001b[38;5;66;03m# We need our own copy here because its possible that we want to use\u001b[39;00m\n\u001b[0;32m    584\u001b[0m \u001b[38;5;66;03m# the mesh after the fop was deleted\u001b[39;00m\n\u001b[1;32m--> 585\u001b[0m \u001b[38;5;28;01mif\u001b[39;00m \u001b[38;5;129;01mnot\u001b[39;00m \u001b[38;5;28;43mself\u001b[39;49m\u001b[38;5;241;43m.\u001b[39;49m\u001b[43mmesh\u001b[49m\u001b[43m(\u001b[49m\u001b[43m)\u001b[49m:\n\u001b[0;32m    586\u001b[0m     pg\u001b[38;5;241m.\u001b[39mcritical(\u001b[38;5;124m'\u001b[39m\u001b[38;5;124mparaDomain needs a mesh\u001b[39m\u001b[38;5;124m'\u001b[39m)\n\u001b[0;32m    588\u001b[0m \u001b[38;5;28mself\u001b[39m\u001b[38;5;241m.\u001b[39m_pd \u001b[38;5;241m=\u001b[39m pg\u001b[38;5;241m.\u001b[39mMesh(\u001b[38;5;28mself\u001b[39m\u001b[38;5;241m.\u001b[39mregionManager()\u001b[38;5;241m.\u001b[39mparaDomain())\n",
      "File \u001b[1;32m~\\anaconda3\\envs\\pg\\Lib\\site-packages\\pygimli\\frameworks\\modelling.py:709\u001b[0m, in \u001b[0;36mMeshModelling.mesh\u001b[1;34m(self)\u001b[0m\n\u001b[0;32m    706\u001b[0m \u001b[38;5;28mself\u001b[39m\u001b[38;5;241m.\u001b[39m_applyRegionProperties()\n\u001b[0;32m    708\u001b[0m \u001b[38;5;28;01mif\u001b[39;00m \u001b[38;5;28mself\u001b[39m\u001b[38;5;241m.\u001b[39m_regionManagerInUse \u001b[38;5;129;01mand\u001b[39;00m \u001b[38;5;28mself\u001b[39m\u001b[38;5;241m.\u001b[39m_regionChanged \u001b[38;5;129;01mis\u001b[39;00m \u001b[38;5;28;01mTrue\u001b[39;00m:\n\u001b[1;32m--> 709\u001b[0m     \u001b[38;5;28;43mself\u001b[39;49m\u001b[38;5;241;43m.\u001b[39;49m\u001b[43mcreateFwdMesh_\u001b[49m\u001b[43m(\u001b[49m\u001b[43m)\u001b[49m\n\u001b[0;32m    711\u001b[0m \u001b[38;5;28;01mreturn\u001b[39;00m \u001b[38;5;28msuper\u001b[39m()\u001b[38;5;241m.\u001b[39mmesh()\n",
      "File \u001b[1;32m~\\anaconda3\\envs\\pg\\Lib\\site-packages\\pygimli\\frameworks\\modelling.py:681\u001b[0m, in \u001b[0;36mMeshModelling.createFwdMesh_\u001b[1;34m(self)\u001b[0m\n\u001b[0;32m    679\u001b[0m \u001b[38;5;250m\u001b[39m\u001b[38;5;124;03m\"\"\"Create forward mesh.\"\"\"\u001b[39;00m\n\u001b[0;32m    680\u001b[0m pg\u001b[38;5;241m.\u001b[39minfo(\u001b[38;5;124m\"\u001b[39m\u001b[38;5;124mCreating forward mesh from region infos.\u001b[39m\u001b[38;5;124m\"\u001b[39m)\n\u001b[1;32m--> 681\u001b[0m m \u001b[38;5;241m=\u001b[39m pg\u001b[38;5;241m.\u001b[39mMesh(\u001b[38;5;28;43mself\u001b[39;49m\u001b[38;5;241;43m.\u001b[39;49m\u001b[43mregionManager\u001b[49m\u001b[43m(\u001b[49m\u001b[43m)\u001b[49m\u001b[38;5;241;43m.\u001b[39;49m\u001b[43mmesh\u001b[49m\u001b[43m(\u001b[49m\u001b[43m)\u001b[49m)\n\u001b[0;32m    683\u001b[0m regionIds \u001b[38;5;241m=\u001b[39m \u001b[38;5;28mself\u001b[39m\u001b[38;5;241m.\u001b[39mregionManager()\u001b[38;5;241m.\u001b[39mregionIdxs()\n\u001b[0;32m    684\u001b[0m \u001b[38;5;28;01mfor\u001b[39;00m iId \u001b[38;5;129;01min\u001b[39;00m regionIds:\n",
      "\u001b[1;31mRuntimeError\u001b[0m: RegionManager knows no mesh."
     ]
    }
   ],
   "source": [
    "pg.show(TT.paraDomain,TT.model.array())\n",
    "print(TT.paraDomain)\n",
    "print(TT.model.array())"
   ]
  },
  {
   "cell_type": "code",
   "execution_count": 9,
   "metadata": {
    "collapsed": false,
    "execution": {
     "iopub.execute_input": "2025-05-22T02:40:08.154373Z",
     "iopub.status.busy": "2025-05-22T02:40:08.154373Z",
     "iopub.status.idle": "2025-05-22T02:40:08.325815Z",
     "shell.execute_reply": "2025-05-22T02:40:08.325259Z"
    }
   },
   "outputs": [
    {
     "name": "stderr",
     "output_type": "stream",
     "text": [
      "21/05/25 - 19:40:08 - pyGIMLi - \u001b[5;31;1;49mCRITICAL\u001b[0m - <class 'pygimli.frameworks.inversion.Inversion'>.model(C:\\Users\\HChen8\\anaconda3\\envs\\pg\\Lib\\site-packages\\pygimli\\frameworks\\inversion.py:240)\n",
      "There was no inversion run so there is no last model\n"
     ]
    },
    {
     "ename": "Exception",
     "evalue": "There was no inversion run so there is no last model",
     "output_type": "error",
     "traceback": [
      "\u001b[1;31m---------------------------------------------------------------------------\u001b[0m",
      "\u001b[1;31mException\u001b[0m                                 Traceback (most recent call last)",
      "Cell \u001b[1;32mIn[9], line 4\u001b[0m\n\u001b[0;32m      1\u001b[0m \u001b[38;5;28;01mimport\u001b[39;00m \u001b[38;5;21;01mnumpy\u001b[39;00m \u001b[38;5;28;01mas\u001b[39;00m \u001b[38;5;21;01mnp\u001b[39;00m\n\u001b[0;32m      3\u001b[0m \u001b[38;5;66;03m# Assuming TT.model.array() gives you the velocity values\u001b[39;00m\n\u001b[1;32m----> 4\u001b[0m velocity_data \u001b[38;5;241m=\u001b[39m \u001b[43mTT\u001b[49m\u001b[38;5;241;43m.\u001b[39;49m\u001b[43mmodel\u001b[49m\u001b[38;5;241m.\u001b[39marray()\n\u001b[0;32m      6\u001b[0m \u001b[38;5;66;03m# Get the mesh shape\u001b[39;00m\n\u001b[0;32m      7\u001b[0m mesh \u001b[38;5;241m=\u001b[39m TT\u001b[38;5;241m.\u001b[39mparaDomain\n",
      "File \u001b[1;32m~\\anaconda3\\envs\\pg\\Lib\\site-packages\\pygimli\\frameworks\\methodManager.py:715\u001b[0m, in \u001b[0;36mMeshMethodManager.model\u001b[1;34m(self)\u001b[0m\n\u001b[0;32m    712\u001b[0m \u001b[38;5;129m@property\u001b[39m\n\u001b[0;32m    713\u001b[0m \u001b[38;5;28;01mdef\u001b[39;00m \u001b[38;5;21mmodel\u001b[39m(\u001b[38;5;28mself\u001b[39m):\n\u001b[0;32m    714\u001b[0m \u001b[38;5;250m    \u001b[39m\u001b[38;5;124;03m\"\"\"Inversion model.\"\"\"\u001b[39;00m\n\u001b[1;32m--> 715\u001b[0m     \u001b[38;5;28;01mreturn\u001b[39;00m \u001b[38;5;28mself\u001b[39m\u001b[38;5;241m.\u001b[39mparaModel(\u001b[38;5;28;43mself\u001b[39;49m\u001b[38;5;241;43m.\u001b[39;49m\u001b[43mfw\u001b[49m\u001b[38;5;241;43m.\u001b[39;49m\u001b[43mmodel\u001b[49m)\n",
      "File \u001b[1;32m~\\anaconda3\\envs\\pg\\Lib\\site-packages\\pygimli\\frameworks\\inversion.py:240\u001b[0m, in \u001b[0;36mInversion.model\u001b[1;34m(self)\u001b[0m\n\u001b[0;32m    238\u001b[0m         \u001b[38;5;28;01mreturn\u001b[39;00m \u001b[38;5;28mself\u001b[39m\u001b[38;5;241m.\u001b[39minv\u001b[38;5;241m.\u001b[39mmodel()\n\u001b[0;32m    239\u001b[0m     \u001b[38;5;28;01melse\u001b[39;00m:\n\u001b[1;32m--> 240\u001b[0m         \u001b[38;5;28;01mraise\u001b[39;00m \u001b[38;5;167;01mException\u001b[39;00m(\u001b[43mpg\u001b[49m\u001b[38;5;241;43m.\u001b[39;49m\u001b[43mcritical\u001b[49m\u001b[43m(\u001b[49m\n\u001b[0;32m    241\u001b[0m \u001b[43m            \u001b[49m\u001b[38;5;124;43m\"\u001b[39;49m\u001b[38;5;124;43mThere was no inversion run so there is no last model\u001b[39;49m\u001b[38;5;124;43m\"\u001b[39;49m\u001b[43m)\u001b[49m)\n\u001b[0;32m    242\u001b[0m \u001b[38;5;28;01melse\u001b[39;00m:\n\u001b[0;32m    243\u001b[0m     \u001b[38;5;28;01mreturn\u001b[39;00m \u001b[38;5;28mself\u001b[39m\u001b[38;5;241m.\u001b[39minv\u001b[38;5;241m.\u001b[39mmodel\n",
      "File \u001b[1;32m~\\anaconda3\\envs\\pg\\Lib\\site-packages\\pygimli\\core\\logger.py:301\u001b[0m, in \u001b[0;36mcritical\u001b[1;34m(*args)\u001b[0m\n\u001b[0;32m    299\u001b[0m \u001b[38;5;28;01mdef\u001b[39;00m \u001b[38;5;21mcritical\u001b[39m(\u001b[38;5;241m*\u001b[39margs):\n\u001b[0;32m    300\u001b[0m     logger\u001b[38;5;241m.\u001b[39mcritical(whereAmI(nr\u001b[38;5;241m=\u001b[39m\u001b[38;5;241m2\u001b[39m) \u001b[38;5;241m+\u001b[39m \u001b[38;5;124m\"\u001b[39m\u001b[38;5;130;01m\\n\u001b[39;00m\u001b[38;5;124m\"\u001b[39m \u001b[38;5;241m+\u001b[39m _msg(\u001b[38;5;241m*\u001b[39margs))\n\u001b[1;32m--> 301\u001b[0m     \u001b[38;5;28;01mraise\u001b[39;00m \u001b[38;5;167;01mException\u001b[39;00m(_msg(\u001b[38;5;241m*\u001b[39margs))\n",
      "\u001b[1;31mException\u001b[0m: There was no inversion run so there is no last model"
     ]
    }
   ],
   "source": [
    "import numpy as np\n",
    "\n",
    "# Assuming TT.model.array() gives you the velocity values\n",
    "velocity_data = TT.model.array()\n",
    "\n",
    "# Get the mesh shape\n",
    "mesh = TT.paraDomain\n",
    "cell_centers = mesh.cellCenters()\n",
    "x_coords = cell_centers[:,0]  # X-coordinates of cell centers\n",
    "z_coords = cell_centers[:,1]  # Z-coordinates (depth) of cell centers\n",
    "\n",
    "# Create a new array for the thresholded values\n",
    "thresholded = np.ones_like(velocity_data, dtype=int)\n",
    "\n",
    "# Get unique x-coordinates (horizontal distances)\n",
    "unique_x = np.unique(x_coords)\n",
    "\n",
    "# For each vertical column (each unique x-coordinate)\n",
    "for x in unique_x:\n",
    "    # Get indices of cells in this column, sorted by depth (z-coordinate)\n",
    "    column_indices = np.where(x_coords == x)[0]\n",
    "    column_indices = column_indices[np.argsort(z_coords[column_indices])]\n",
    "    \n",
    "    # Check if any cell in this column exceeds the threshold\n",
    "    threshold_crossed = False\n",
    "    \n",
    "    # Process cells from top to bottom\n",
    "    for idx in column_indices:\n",
    "        if velocity_data[idx] >= 1200 or threshold_crossed:\n",
    "            thresholded[idx] = 2\n",
    "            threshold_crossed = True\n",
    "        # Otherwise thresholded[idx] remains 1\n",
    "\n",
    "# Now thresholded contains your classified values (1 or 2)\n",
    "# Let's visualize the result\n",
    "import matplotlib.pyplot as plt\n",
    "\n",
    "# Create a figure with two subplots to compare\n",
    "fig, (ax1, ax2) = plt.subplots(1, 2, figsize=(12, 6))\n",
    "\n",
    "# Original data\n",
    "pg.show(mesh, velocity_data, ax=ax1, cMap='viridis', colorBar=True)\n",
    "ax1.set_title('Original Velocity Data')\n",
    "\n",
    "# Thresholded data\n",
    "pg.show(mesh, thresholded, ax=ax2, cMap='jet', colorBar=True)\n",
    "ax2.set_title('Thresholded Data (1 & 2)')\n",
    "\n",
    "plt.tight_layout()\n",
    "plt.show()"
   ]
  },
  {
   "cell_type": "code",
   "execution_count": 10,
   "metadata": {
    "collapsed": false,
    "execution": {
     "iopub.execute_input": "2025-05-22T02:40:08.328845Z",
     "iopub.status.busy": "2025-05-22T02:40:08.327838Z",
     "iopub.status.idle": "2025-05-22T02:40:08.341177Z",
     "shell.execute_reply": "2025-05-22T02:40:08.340515Z"
    }
   },
   "outputs": [],
   "source": [
    "from scipy.interpolate import interp1d\n",
    "\n",
    "def extract_velocity_interface(mesh, velocity_data, threshold=1200,interval = 4.0 ):\n",
    "    \"\"\"\n",
    "    Extract the interface where velocity equals the threshold value.\n",
    "    \n",
    "    Parameters:\n",
    "    mesh - The PyGIMLi mesh\n",
    "    velocity_data - The velocity values\n",
    "    threshold - The velocity value defining the interface (default: 1200)\n",
    "    \n",
    "    Returns:\n",
    "    x_dense, z_dense - Arrays with x and z coordinates of the smooth interface\n",
    "    \"\"\"\n",
    "    # Get cell centers\n",
    "    cell_centers = mesh.cellCenters()\n",
    "    x_coords = cell_centers[:,0]\n",
    "    z_coords = cell_centers[:,1]\n",
    "    \n",
    "    # Get x-range for complete boundary\n",
    "    x_min, x_max = np.min(x_coords), np.max(x_coords)\n",
    "    \n",
    "    # Create bins across the entire x-range\n",
    "     # Adjust for desired precision\n",
    "    x_bins = np.arange(x_min, x_max + interval, interval)\n",
    "    \n",
    "    # Arrays to store interface points\n",
    "    interface_x = []\n",
    "    interface_z = []\n",
    "    \n",
    "    # For each bin, find the velocity interface\n",
    "    for i in range(len(x_bins)-1):\n",
    "        # Get all cells in this x-range\n",
    "        bin_indices = np.where((x_coords >= x_bins[i]) & (x_coords < x_bins[i+1]))[0]\n",
    "        \n",
    "        if len(bin_indices) > 0:\n",
    "            # Get velocity values and depths for this bin\n",
    "            bin_velocities = velocity_data[bin_indices]\n",
    "            bin_depths = z_coords[bin_indices]\n",
    "            \n",
    "            # Sort by depth\n",
    "            sort_indices = np.argsort(bin_depths)\n",
    "            bin_velocities = bin_velocities[sort_indices]\n",
    "            bin_depths = bin_depths[sort_indices]\n",
    "            \n",
    "            # Find where velocity crosses the threshold\n",
    "            for j in range(1, len(bin_velocities)):\n",
    "                if (bin_velocities[j-1] < threshold and bin_velocities[j] >= threshold) or \\\n",
    "                   (bin_velocities[j-1] >= threshold and bin_velocities[j] < threshold):\n",
    "                    # Linear interpolation for exact interface depth\n",
    "                    v1 = bin_velocities[j-1]\n",
    "                    v2 = bin_velocities[j]\n",
    "                    z1 = bin_depths[j-1]\n",
    "                    z2 = bin_depths[j]\n",
    "                    \n",
    "                    # Calculate the interpolated z-value where velocity = threshold\n",
    "                    ratio = (threshold - v1) / (v2 - v1)\n",
    "                    interface_depth = z1 + ratio * (z2 - z1)\n",
    "                    \n",
    "                    interface_x.append((x_bins[i] + x_bins[i+1]) / 2)\n",
    "                    interface_z.append(interface_depth)\n",
    "                    break\n",
    "    \n",
    "    # Ensure we have interface points for the entire range\n",
    "    # If first point is missing, extrapolate from the first available points\n",
    "    if len(interface_x) > 0 and interface_x[0] > x_min + interval:\n",
    "        interface_x.insert(0, x_min)\n",
    "        # Use the slope of the first two points to extrapolate\n",
    "        if len(interface_x) > 2:\n",
    "            slope = (interface_z[1] - interface_z[0]) / (interface_x[1] - interface_x[0])\n",
    "            interface_z.insert(0, interface_z[0] - slope * (interface_x[1] - x_min))\n",
    "        else:\n",
    "            interface_z.insert(0, interface_z[0])\n",
    "    \n",
    "    # If last point is missing, extrapolate from the last available points\n",
    "    if len(interface_x) > 0 and interface_x[-1] < x_max - interval:\n",
    "        interface_x.append(x_max)\n",
    "        # Use the slope of the last two points to extrapolate\n",
    "        if len(interface_x) > 2:\n",
    "            slope = (interface_z[-1] - interface_z[-2]) / (interface_x[-1] - interface_x[-2])\n",
    "            interface_z.append(interface_z[-1] + slope * (x_max - interface_x[-1]))\n",
    "        else:\n",
    "            interface_z.append(interface_z[-1])\n",
    "    \n",
    "    # Create a dense interpolation grid for smoothing\n",
    "    x_dense = np.linspace(x_min, x_max, 500)  # 500 points for smooth curve\n",
    "    \n",
    "    # Apply cubic interpolation for smoother interface\n",
    "    if len(interface_x) > 3:\n",
    "        try:\n",
    "            interp_func = interp1d(interface_x, interface_z, kind='cubic', \n",
    "                                bounds_error=False, fill_value=\"extrapolate\")\n",
    "            z_dense = interp_func(x_dense)\n",
    "            \n",
    "            # Apply additional smoothing\n",
    "            from scipy.signal import savgol_filter\n",
    "            z_dense = savgol_filter(z_dense, window_length=31, polyorder=3)\n",
    "        except:\n",
    "            # Fall back to linear interpolation if cubic fails\n",
    "            interp_func = interp1d(interface_x, interface_z, kind='linear',\n",
    "                                bounds_error=False, fill_value=\"extrapolate\")\n",
    "            z_dense = interp_func(x_dense)\n",
    "    else:\n",
    "        # Not enough points for cubic interpolation\n",
    "        interp_func = interp1d(interface_x, interface_z, kind='linear',\n",
    "                               bounds_error=False, fill_value=\"extrapolate\")\n",
    "        z_dense = interp_func(x_dense)\n",
    "    \n",
    "\n",
    "\n",
    "    \n",
    "    return x_dense, z_dense"
   ]
  },
  {
   "cell_type": "code",
   "execution_count": 11,
   "metadata": {
    "collapsed": false,
    "execution": {
     "iopub.execute_input": "2025-05-22T02:40:08.344538Z",
     "iopub.status.busy": "2025-05-22T02:40:08.344538Z",
     "iopub.status.idle": "2025-05-22T02:40:08.358455Z",
     "shell.execute_reply": "2025-05-22T02:40:08.358455Z"
    }
   },
   "outputs": [
    {
     "ename": "NameError",
     "evalue": "name 'mesh' is not defined",
     "output_type": "error",
     "traceback": [
      "\u001b[1;31m---------------------------------------------------------------------------\u001b[0m",
      "\u001b[1;31mNameError\u001b[0m                                 Traceback (most recent call last)",
      "Cell \u001b[1;32mIn[11], line 2\u001b[0m\n\u001b[0;32m      1\u001b[0m \u001b[38;5;66;03m# Call the function with velocity data\u001b[39;00m\n\u001b[1;32m----> 2\u001b[0m smooth_x, smooth_z \u001b[38;5;241m=\u001b[39m extract_velocity_interface(\u001b[43mmesh\u001b[49m, velocity_data, threshold\u001b[38;5;241m=\u001b[39m\u001b[38;5;241m1200\u001b[39m,interval \u001b[38;5;241m=\u001b[39m \u001b[38;5;241m5\u001b[39m)\n",
      "\u001b[1;31mNameError\u001b[0m: name 'mesh' is not defined"
     ]
    }
   ],
   "source": [
    "# Call the function with velocity data\n",
    "smooth_x, smooth_z = extract_velocity_interface(mesh, velocity_data, threshold=1200,interval = 5)"
   ]
  },
  {
   "cell_type": "code",
   "execution_count": 12,
   "metadata": {
    "collapsed": false,
    "execution": {
     "iopub.execute_input": "2025-05-22T02:40:08.360990Z",
     "iopub.status.busy": "2025-05-22T02:40:08.360990Z",
     "iopub.status.idle": "2025-05-22T02:40:08.500054Z",
     "shell.execute_reply": "2025-05-22T02:40:08.500054Z"
    }
   },
   "outputs": [
    {
     "ename": "NameError",
     "evalue": "name 'mesh' is not defined",
     "output_type": "error",
     "traceback": [
      "\u001b[1;31m---------------------------------------------------------------------------\u001b[0m",
      "\u001b[1;31mNameError\u001b[0m                                 Traceback (most recent call last)",
      "Cell \u001b[1;32mIn[12], line 4\u001b[0m\n\u001b[0;32m      1\u001b[0m fig, ax1 \u001b[38;5;241m=\u001b[39m plt\u001b[38;5;241m.\u001b[39msubplots(\u001b[38;5;241m1\u001b[39m, \u001b[38;5;241m1\u001b[39m, figsize\u001b[38;5;241m=\u001b[39m(\u001b[38;5;241m12\u001b[39m, \u001b[38;5;241m6\u001b[39m))\n\u001b[0;32m      3\u001b[0m \u001b[38;5;66;03m# Original data\u001b[39;00m\n\u001b[1;32m----> 4\u001b[0m pg\u001b[38;5;241m.\u001b[39mshow(\u001b[43mmesh\u001b[49m, velocity_data, ax\u001b[38;5;241m=\u001b[39max1, cMap\u001b[38;5;241m=\u001b[39m\u001b[38;5;124m'\u001b[39m\u001b[38;5;124mviridis\u001b[39m\u001b[38;5;124m'\u001b[39m, colorBar\u001b[38;5;241m=\u001b[39m\u001b[38;5;28;01mTrue\u001b[39;00m)\n\u001b[0;32m      5\u001b[0m ax1\u001b[38;5;241m.\u001b[39mset_title(\u001b[38;5;124m'\u001b[39m\u001b[38;5;124mOriginal Velocity Data\u001b[39m\u001b[38;5;124m'\u001b[39m)\n\u001b[0;32m      6\u001b[0m ax1\u001b[38;5;241m.\u001b[39mplot(smooth_x, smooth_z)\n",
      "\u001b[1;31mNameError\u001b[0m: name 'mesh' is not defined"
     ]
    },
    {
     "data": {
      "image/png": "[encoded data removed]",
      "text/plain": [
       "<Figure size 1200x600 with 1 Axes>"
      ]
     },
     "metadata": {},
     "output_type": "display_data"
    }
   ],
   "source": [
    "fig, ax1 = plt.subplots(1, 1, figsize=(12, 6))\n",
    "\n",
    "# Original data\n",
    "pg.show(mesh, velocity_data, ax=ax1, cMap='viridis', colorBar=True)\n",
    "ax1.set_title('Original Velocity Data')\n",
    "ax1.plot(smooth_x, smooth_z)"
   ]
  },
  {
   "cell_type": "code",
   "execution_count": 13,
   "metadata": {
    "collapsed": false,
    "execution": {
     "iopub.execute_input": "2025-05-22T02:40:08.502590Z",
     "iopub.status.busy": "2025-05-22T02:40:08.502084Z",
     "iopub.status.idle": "2025-05-22T02:40:08.521394Z",
     "shell.execute_reply": "2025-05-22T02:40:08.519866Z"
    }
   },
   "outputs": [
    {
     "ename": "NameError",
     "evalue": "name 'ertData' is not defined",
     "output_type": "error",
     "traceback": [
      "\u001b[1;31m---------------------------------------------------------------------------\u001b[0m",
      "\u001b[1;31mNameError\u001b[0m                                 Traceback (most recent call last)",
      "Cell \u001b[1;32mIn[13], line 1\u001b[0m\n\u001b[1;32m----> 1\u001b[0m geo \u001b[38;5;241m=\u001b[39m pg\u001b[38;5;241m.\u001b[39mmeshtools\u001b[38;5;241m.\u001b[39mcreateParaMeshPLC(\u001b[43mertData\u001b[49m, quality\u001b[38;5;241m=\u001b[39m\u001b[38;5;241m31\u001b[39m, paraMaxCellSize\u001b[38;5;241m=\u001b[39m\u001b[38;5;241m5\u001b[39m,\n\u001b[0;32m      2\u001b[0m                                         paraBoundary\u001b[38;5;241m=\u001b[39mparaBoundary,paraDepth \u001b[38;5;241m=\u001b[39m \u001b[38;5;241m30.0\u001b[39m,boundaryMaxCellSize\u001b[38;5;241m=\u001b[39m\u001b[38;5;241m200\u001b[39m)\n\u001b[0;32m      4\u001b[0m pg\u001b[38;5;241m.\u001b[39mshow(geo)\n",
      "\u001b[1;31mNameError\u001b[0m: name 'ertData' is not defined"
     ]
    }
   ],
   "source": [
    "geo = pg.meshtools.createParaMeshPLC(ertData, quality=31, paraMaxCellSize=5,\n",
    "                                        paraBoundary=paraBoundary,paraDepth = 30.0,boundaryMaxCellSize=200)\n",
    "\n",
    "pg.show(geo)"
   ]
  },
  {
   "cell_type": "code",
   "execution_count": 14,
   "metadata": {
    "collapsed": false,
    "execution": {
     "iopub.execute_input": "2025-05-22T02:40:08.524811Z",
     "iopub.status.busy": "2025-05-22T02:40:08.523771Z",
     "iopub.status.idle": "2025-05-22T02:40:08.629037Z",
     "shell.execute_reply": "2025-05-22T02:40:08.628519Z"
    }
   },
   "outputs": [],
   "source": [
    "def add_velocity_interface(ertData, smooth_x, smooth_z, paraBoundary=2, boundary=1):\n",
    "    \"\"\"\n",
    "    Add a velocity interface line to the geometry and create a mesh with different markers:\n",
    "    - Outside survey area: marker = 1\n",
    "    - Inside survey area, above velocity line: marker = 2\n",
    "    - Inside survey area, below velocity line: marker = 3\n",
    "    \n",
    "    Parameters:\n",
    "    ertData - ERT data with sensor positions\n",
    "    smooth_x, smooth_z - Arrays with x and z coordinates of the velocity interface\n",
    "    paraBoundary, boundary - Mesh parameters\n",
    "    \n",
    "    Returns:\n",
    "    markers - Array with cell markers\n",
    "    meshafter - The created mesh with updated markers\n",
    "    \"\"\"\n",
    "    # Create the initial parameter mesh\n",
    "    geo = pg.meshtools.createParaMeshPLC(ertData, quality=32, paraMaxCellSize=30,\n",
    "                                         paraBoundary=paraBoundary, paraDepth=30.0,\n",
    "                                         boundaryMaxCellSize=500)\n",
    "    \n",
    "    # Stack x and z coordinates for the interface\n",
    "    interface_points = np.vstack((smooth_x, smooth_z)).T\n",
    "    \n",
    "    # Extend the interface line beyond the data range by paraBoundary\n",
    "    input_points = np.vstack((\n",
    "        np.array([[interface_points[0][0] - paraBoundary, interface_points[0][1]]]),\n",
    "        interface_points,\n",
    "        np.array([[interface_points[-1][0] + paraBoundary, interface_points[-1][1]]])\n",
    "    ))\n",
    "    \n",
    "    # Create a polygon line for the interface\n",
    "    interface_line = pg.meshtools.createPolygon(input_points.tolist(), isClosed=False,\n",
    "                                              interpolate='linear', marker=99)\n",
    "    \n",
    "    # Add the interface to the geometry\n",
    "    geo_with_interface = geo + interface_line\n",
    "    \n",
    "    # Create a mesh from the combined geometry\n",
    "    meshafter = pg.meshtools.createMesh(geo_with_interface, quality=28)\n",
    "    \n",
    "    # Initialize all markers to 1 (outside region)\n",
    "    markers = np.ones(meshafter.cellCount())\n",
    "    \n",
    "    # Identify the survey area\n",
    "    survey_left = ertData.sensors()[0][0] - paraBoundary\n",
    "    survey_right = ertData.sensors()[-1][0] + paraBoundary\n",
    "    \n",
    "    # Process each cell\n",
    "    for i in range(meshafter.cellCount()):\n",
    "        cell_x = meshafter.cell(i).center().x()\n",
    "        cell_y = meshafter.cell(i).center().y()\n",
    "        \n",
    "        # Only modify markers within the survey area\n",
    "        if cell_x >= survey_left and cell_x <= survey_right:\n",
    "            # Interpolate the interface height at this x position\n",
    "            interface_y = np.interp(cell_x, input_points[:, 0], input_points[:, 1])\n",
    "            \n",
    "            # Set marker based on position relative to interface\n",
    "            if abs(cell_y) < abs(interface_y):\n",
    "                markers[i] = 2  # Below interface\n",
    "            else:\n",
    "                markers[i] = 3  # Above interface\n",
    "    \n",
    "    markers[meshafter.cellMarkers()==1] = 1 # Keep original markers for outside cells`\n",
    "    # Set the updated markers\n",
    "    meshafter.setCellMarkers(markers)\n",
    "    \n",
    "    return markers, meshafter\n",
    "\n",
    "# Example usage:\n",
    "# markers, meshafter = add_velocity_interface(ertData, smooth_x, smooth_z)\n",
    "# pg.show(meshafter, markers=True, label='Region markers')"
   ]
  },
  {
   "cell_type": "code",
   "execution_count": 15,
   "metadata": {
    "collapsed": false,
    "execution": {
     "iopub.execute_input": "2025-05-22T02:40:08.631672Z",
     "iopub.status.busy": "2025-05-22T02:40:08.631672Z",
     "iopub.status.idle": "2025-05-22T02:40:08.648473Z",
     "shell.execute_reply": "2025-05-22T02:40:08.647849Z"
    }
   },
   "outputs": [
    {
     "ename": "NameError",
     "evalue": "name 'ertData' is not defined",
     "output_type": "error",
     "traceback": [
      "\u001b[1;31m---------------------------------------------------------------------------\u001b[0m",
      "\u001b[1;31mNameError\u001b[0m                                 Traceback (most recent call last)",
      "Cell \u001b[1;32mIn[15], line 1\u001b[0m\n\u001b[1;32m----> 1\u001b[0m markers, mesh_with_interface \u001b[38;5;241m=\u001b[39m add_velocity_interface(\u001b[43mertData\u001b[49m, smooth_x, smooth_z)\n\u001b[0;32m      2\u001b[0m mesh_with_interface\n",
      "\u001b[1;31mNameError\u001b[0m: name 'ertData' is not defined"
     ]
    }
   ],
   "source": [
    "markers, mesh_with_interface = add_velocity_interface(ertData, smooth_x, smooth_z)\n",
    "mesh_with_interface"
   ]
  },
  {
   "cell_type": "code",
   "execution_count": 16,
   "metadata": {
    "collapsed": false,
    "execution": {
     "iopub.execute_input": "2025-05-22T02:40:08.650537Z",
     "iopub.status.busy": "2025-05-22T02:40:08.650537Z",
     "iopub.status.idle": "2025-05-22T02:40:08.762864Z",
     "shell.execute_reply": "2025-05-22T02:40:08.762350Z"
    }
   },
   "outputs": [
    {
     "ename": "NameError",
     "evalue": "name 'mesh_with_interface' is not defined",
     "output_type": "error",
     "traceback": [
      "\u001b[1;31m---------------------------------------------------------------------------\u001b[0m",
      "\u001b[1;31mNameError\u001b[0m                                 Traceback (most recent call last)",
      "Cell \u001b[1;32mIn[16], line 2\u001b[0m\n\u001b[0;32m      1\u001b[0m fig, ax \u001b[38;5;241m=\u001b[39m plt\u001b[38;5;241m.\u001b[39msubplots(figsize\u001b[38;5;241m=\u001b[39m(\u001b[38;5;241m10\u001b[39m, \u001b[38;5;241m6\u001b[39m))\n\u001b[1;32m----> 2\u001b[0m pg\u001b[38;5;241m.\u001b[39mshow(\u001b[43mmesh_with_interface\u001b[49m, markers, ax\u001b[38;5;241m=\u001b[39max, cMap\u001b[38;5;241m=\u001b[39m\u001b[38;5;124m'\u001b[39m\u001b[38;5;124mjet\u001b[39m\u001b[38;5;124m'\u001b[39m, colorBar\u001b[38;5;241m=\u001b[39m\u001b[38;5;28;01mTrue\u001b[39;00m)\n\u001b[0;32m      3\u001b[0m plt\u001b[38;5;241m.\u001b[39mtitle(\u001b[38;5;124m'\u001b[39m\u001b[38;5;124mMesh with Velocity Interface\u001b[39m\u001b[38;5;124m'\u001b[39m)\n\u001b[0;32m      4\u001b[0m plt\u001b[38;5;241m.\u001b[39mshow()\n",
      "\u001b[1;31mNameError\u001b[0m: name 'mesh_with_interface' is not defined"
     ]
    },
    {
     "data": {
      "image/png": "[encoded data removed]",
      "text/plain": [
       "<Figure size 1000x600 with 1 Axes>"
      ]
     },
     "metadata": {},
     "output_type": "display_data"
    }
   ],
   "source": [
    "fig, ax = plt.subplots(figsize=(10, 6))\n",
    "pg.show(mesh_with_interface, markers, ax=ax, cMap='jet', colorBar=True)\n",
    "plt.title('Mesh with Velocity Interface')\n",
    "plt.show()"
   ]
  },
  {
   "cell_type": "code",
   "execution_count": 17,
   "metadata": {
    "collapsed": false,
    "execution": {
     "iopub.execute_input": "2025-05-22T02:40:08.764882Z",
     "iopub.status.busy": "2025-05-22T02:40:08.764378Z",
     "iopub.status.idle": "2025-05-22T02:40:08.778891Z",
     "shell.execute_reply": "2025-05-22T02:40:08.778891Z"
    }
   },
   "outputs": [
    {
     "ename": "NameError",
     "evalue": "name 'mesh_with_interface' is not defined",
     "output_type": "error",
     "traceback": [
      "\u001b[1;31m---------------------------------------------------------------------------\u001b[0m",
      "\u001b[1;31mNameError\u001b[0m                                 Traceback (most recent call last)",
      "Cell \u001b[1;32mIn[17], line 1\u001b[0m\n\u001b[1;32m----> 1\u001b[0m ax, cbar \u001b[38;5;241m=\u001b[39m pg\u001b[38;5;241m.\u001b[39mshow(\u001b[43mmesh_with_interface\u001b[49m)\n\u001b[0;32m      2\u001b[0m ax\u001b[38;5;241m.\u001b[39mset_xlim([\u001b[38;5;241m-\u001b[39m\u001b[38;5;241m10\u001b[39m,\u001b[38;5;241m120\u001b[39m])\n\u001b[0;32m      3\u001b[0m ax\u001b[38;5;241m.\u001b[39mset_ylim([\u001b[38;5;241m1580\u001b[39m,\u001b[38;5;241m1630\u001b[39m])\n",
      "\u001b[1;31mNameError\u001b[0m: name 'mesh_with_interface' is not defined"
     ]
    }
   ],
   "source": [
    "ax, cbar = pg.show(mesh_with_interface)\n",
    "ax.set_xlim([-10,120])\n",
    "ax.set_ylim([1580,1630])"
   ]
  },
  {
   "cell_type": "code",
   "execution_count": 18,
   "metadata": {
    "collapsed": false,
    "execution": {
     "iopub.execute_input": "2025-05-22T02:40:08.782131Z",
     "iopub.status.busy": "2025-05-22T02:40:08.781009Z",
     "iopub.status.idle": "2025-05-22T02:40:08.798211Z",
     "shell.execute_reply": "2025-05-22T02:40:08.797677Z"
    }
   },
   "outputs": [
    {
     "ename": "NameError",
     "evalue": "name 'mesh_with_interface' is not defined",
     "output_type": "error",
     "traceback": [
      "\u001b[1;31m---------------------------------------------------------------------------\u001b[0m",
      "\u001b[1;31mNameError\u001b[0m                                 Traceback (most recent call last)",
      "Cell \u001b[1;32mIn[18], line 1\u001b[0m\n\u001b[1;32m----> 1\u001b[0m \u001b[43mmesh_with_interface\u001b[49m\n",
      "\u001b[1;31mNameError\u001b[0m: name 'mesh_with_interface' is not defined"
     ]
    }
   ],
   "source": [
    "mesh_with_interface"
   ]
  },
  {
   "cell_type": "code",
   "execution_count": 19,
   "metadata": {
    "collapsed": false,
    "execution": {
     "iopub.execute_input": "2025-05-22T02:40:08.801916Z",
     "iopub.status.busy": "2025-05-22T02:40:08.801394Z",
     "iopub.status.idle": "2025-05-22T02:40:08.826780Z",
     "shell.execute_reply": "2025-05-22T02:40:08.826261Z"
    }
   },
   "outputs": [
    {
     "ename": "NameError",
     "evalue": "name 'ertData' is not defined",
     "output_type": "error",
     "traceback": [
      "\u001b[1;31m---------------------------------------------------------------------------\u001b[0m",
      "\u001b[1;31mNameError\u001b[0m                                 Traceback (most recent call last)",
      "Cell \u001b[1;32mIn[19], line 2\u001b[0m\n\u001b[0;32m      1\u001b[0m mgrConstrained \u001b[38;5;241m=\u001b[39m ert\u001b[38;5;241m.\u001b[39mERTManager()\n\u001b[1;32m----> 2\u001b[0m mgrConstrained\u001b[38;5;241m.\u001b[39minvert(data\u001b[38;5;241m=\u001b[39m\u001b[43mertData\u001b[49m, verbose\u001b[38;5;241m=\u001b[39m\u001b[38;5;28;01mTrue\u001b[39;00m, lam\u001b[38;5;241m=\u001b[39m\u001b[38;5;241m10\u001b[39m, mesh\u001b[38;5;241m=\u001b[39mmesh_with_interface,limits\u001b[38;5;241m=\u001b[39m[\u001b[38;5;241m1.\u001b[39m, \u001b[38;5;241m10000.\u001b[39m])\n",
      "\u001b[1;31mNameError\u001b[0m: name 'ertData' is not defined"
     ]
    }
   ],
   "source": [
    "mgrConstrained = ert.ERTManager()\n",
    "mgrConstrained.invert(data=ertData, verbose=True, lam=10, mesh=mesh_with_interface,limits=[1., 10000.])"
   ]
  },
  {
   "cell_type": "code",
   "execution_count": 20,
   "metadata": {
    "collapsed": false,
    "execution": {
     "iopub.execute_input": "2025-05-22T02:40:08.828804Z",
     "iopub.status.busy": "2025-05-22T02:40:08.828804Z",
     "iopub.status.idle": "2025-05-22T02:40:08.933784Z",
     "shell.execute_reply": "2025-05-22T02:40:08.933174Z"
    }
   },
   "outputs": [
    {
     "ename": "Exception",
     "evalue": "There was no inversion run so there is no response yet",
     "output_type": "error",
     "traceback": [
      "\u001b[1;31m---------------------------------------------------------------------------\u001b[0m",
      "\u001b[1;31mException\u001b[0m                                 Traceback (most recent call last)",
      "Cell \u001b[1;32mIn[20], line 4\u001b[0m\n\u001b[0;32m      1\u001b[0m \u001b[38;5;28;01mfrom\u001b[39;00m \u001b[38;5;21;01mpalettable\u001b[39;00m\u001b[38;5;21;01m.\u001b[39;00m\u001b[38;5;21;01mlightbartlein\u001b[39;00m\u001b[38;5;21;01m.\u001b[39;00m\u001b[38;5;21;01mdiverging\u001b[39;00m \u001b[38;5;28;01mimport\u001b[39;00m BlueDarkRed18_18\n\u001b[0;32m      2\u001b[0m fixed_cmap \u001b[38;5;241m=\u001b[39m BlueDarkRed18_18\u001b[38;5;241m.\u001b[39mmpl_colormap\n\u001b[1;32m----> 4\u001b[0m res_cov \u001b[38;5;241m=\u001b[39m \u001b[43mmgrConstrained\u001b[49m\u001b[38;5;241;43m.\u001b[39;49m\u001b[43mcoverage\u001b[49m\u001b[43m(\u001b[49m\u001b[43m)\u001b[49m[mgrConstrained\u001b[38;5;241m.\u001b[39mparaDomain\u001b[38;5;241m.\u001b[39mcellMarkers()]\u001b[38;5;241m>\u001b[39m\u001b[38;5;241m-\u001b[39m\u001b[38;5;241m1.2\u001b[39m\n\u001b[0;32m      6\u001b[0m mgrConstrained\u001b[38;5;241m.\u001b[39mshowResult(xlabel\u001b[38;5;241m=\u001b[39m\u001b[38;5;124m\"\u001b[39m\u001b[38;5;124mDistance (m)\u001b[39m\u001b[38;5;124m\"\u001b[39m, ylabel\u001b[38;5;241m=\u001b[39m\u001b[38;5;124m\"\u001b[39m\u001b[38;5;124mElevation (m)\u001b[39m\u001b[38;5;124m\"\u001b[39m,coverage \u001b[38;5;241m=\u001b[39m res_cov,cMap\u001b[38;5;241m=\u001b[39mfixed_cmap)\n",
      "File \u001b[1;32m~\\anaconda3\\envs\\pg\\Lib\\site-packages\\pygimli\\physics\\ert\\ertManager.py:336\u001b[0m, in \u001b[0;36mERTManager.coverage\u001b[1;34m(self)\u001b[0m\n\u001b[0;32m    333\u001b[0m \u001b[38;5;28;01mdef\u001b[39;00m \u001b[38;5;21mcoverage\u001b[39m(\u001b[38;5;28mself\u001b[39m):\n\u001b[0;32m    334\u001b[0m \u001b[38;5;250m    \u001b[39m\u001b[38;5;124;03m\"\"\"Coverage vector considering the logarithmic transformation.\"\"\"\u001b[39;00m\n\u001b[0;32m    335\u001b[0m     covTrans \u001b[38;5;241m=\u001b[39m pg\u001b[38;5;241m.\u001b[39mcore\u001b[38;5;241m.\u001b[39mcoverageDCtrans(\u001b[38;5;28mself\u001b[39m\u001b[38;5;241m.\u001b[39mfop\u001b[38;5;241m.\u001b[39mjacobian(),\n\u001b[1;32m--> 336\u001b[0m                                        \u001b[38;5;241m1.0\u001b[39m \u001b[38;5;241m/\u001b[39m \u001b[38;5;28;43mself\u001b[39;49m\u001b[38;5;241;43m.\u001b[39;49m\u001b[43minv\u001b[49m\u001b[38;5;241;43m.\u001b[39;49m\u001b[43mresponse\u001b[49m,\n\u001b[0;32m    337\u001b[0m                                        \u001b[38;5;241m1.0\u001b[39m \u001b[38;5;241m/\u001b[39m \u001b[38;5;28mself\u001b[39m\u001b[38;5;241m.\u001b[39minv\u001b[38;5;241m.\u001b[39mmodel)\n\u001b[0;32m    339\u001b[0m     paramSizes \u001b[38;5;241m=\u001b[39m np\u001b[38;5;241m.\u001b[39mzeros(\u001b[38;5;28mlen\u001b[39m(\u001b[38;5;28mself\u001b[39m\u001b[38;5;241m.\u001b[39minv\u001b[38;5;241m.\u001b[39mmodel))\n\u001b[0;32m    340\u001b[0m     \u001b[38;5;28;01mfor\u001b[39;00m c \u001b[38;5;129;01min\u001b[39;00m \u001b[38;5;28mself\u001b[39m\u001b[38;5;241m.\u001b[39mfop\u001b[38;5;241m.\u001b[39mparaDomain\u001b[38;5;241m.\u001b[39mcells():\n",
      "File \u001b[1;32m~\\anaconda3\\envs\\pg\\Lib\\site-packages\\pygimli\\frameworks\\inversion.py:256\u001b[0m, in \u001b[0;36mInversion.response\u001b[1;34m(self)\u001b[0m\n\u001b[0;32m    254\u001b[0m     \u001b[38;5;28;01mreturn\u001b[39;00m \u001b[38;5;28mself\u001b[39m\u001b[38;5;241m.\u001b[39minv\u001b[38;5;241m.\u001b[39mresponse()\n\u001b[0;32m    255\u001b[0m \u001b[38;5;28;01melse\u001b[39;00m:\n\u001b[1;32m--> 256\u001b[0m     \u001b[38;5;28;01mraise\u001b[39;00m \u001b[38;5;167;01mException\u001b[39;00m(\n\u001b[0;32m    257\u001b[0m         \u001b[38;5;124m\"\u001b[39m\u001b[38;5;124mThere was no inversion run so there is no response yet\u001b[39m\u001b[38;5;124m\"\u001b[39m)\n",
      "\u001b[1;31mException\u001b[0m: There was no inversion run so there is no response yet"
     ]
    }
   ],
   "source": [
    "from palettable.lightbartlein.diverging import BlueDarkRed18_18\n",
    "fixed_cmap = BlueDarkRed18_18.mpl_colormap\n",
    "\n",
    "res_cov = mgrConstrained.coverage()[mgrConstrained.paraDomain.cellMarkers()]>-1.2\n",
    "\n",
    "mgrConstrained.showResult(xlabel=\"Distance (m)\", ylabel=\"Elevation (m)\",coverage = res_cov,cMap=fixed_cmap)"
   ]
  },
  {
   "cell_type": "code",
   "execution_count": 21,
   "metadata": {
    "collapsed": false,
    "execution": {
     "iopub.execute_input": "2025-05-22T02:40:08.935807Z",
     "iopub.status.busy": "2025-05-22T02:40:08.935807Z",
     "iopub.status.idle": "2025-05-22T02:40:08.956596Z",
     "shell.execute_reply": "2025-05-22T02:40:08.955580Z"
    }
   },
   "outputs": [
    {
     "ename": "NameError",
     "evalue": "name 'mesh_with_interface' is not defined",
     "output_type": "error",
     "traceback": [
      "\u001b[1;31m---------------------------------------------------------------------------\u001b[0m",
      "\u001b[1;31mNameError\u001b[0m                                 Traceback (most recent call last)",
      "Cell \u001b[1;32mIn[21], line 1\u001b[0m\n\u001b[1;32m----> 1\u001b[0m \u001b[43mmesh_with_interface\u001b[49m\u001b[38;5;241m.\u001b[39msave(\u001b[38;5;124m\"\u001b[39m\u001b[38;5;124mresults/Structure_WC/mesh_with_interface.bms\u001b[39m\u001b[38;5;124m\"\u001b[39m)\n",
      "\u001b[1;31mNameError\u001b[0m: name 'mesh_with_interface' is not defined"
     ]
    }
   ],
   "source": [
    "mesh_with_interface.save(\"results/Structure_WC/mesh_with_interface.bms\")"
   ]
  },
  {
   "cell_type": "code",
   "execution_count": 22,
   "metadata": {
    "collapsed": false,
    "execution": {
     "iopub.execute_input": "2025-05-22T02:40:08.958618Z",
     "iopub.status.busy": "2025-05-22T02:40:08.958618Z",
     "iopub.status.idle": "2025-05-22T02:40:08.993760Z",
     "shell.execute_reply": "2025-05-22T02:40:08.993245Z"
    }
   },
   "outputs": [
    {
     "name": "stderr",
     "output_type": "stream",
     "text": [
      "21/05/25 - 19:40:08 - pyGIMLi - \u001b[0;32;49mINFO\u001b[0m - Creating forward mesh from region infos.\n"
     ]
    },
    {
     "ename": "RuntimeError",
     "evalue": "RegionManager knows no mesh.",
     "output_type": "error",
     "traceback": [
      "\u001b[1;31m---------------------------------------------------------------------------\u001b[0m",
      "\u001b[1;31mRuntimeError\u001b[0m                              Traceback (most recent call last)",
      "Cell \u001b[1;32mIn[22], line 1\u001b[0m\n\u001b[1;32m----> 1\u001b[0m pg\u001b[38;5;241m.\u001b[39mshow(\u001b[43mmgrConstrained\u001b[49m\u001b[38;5;241;43m.\u001b[39;49m\u001b[43mparaDomain\u001b[49m, mgrConstrained\u001b[38;5;241m.\u001b[39mcoverage()[mgrConstrained\u001b[38;5;241m.\u001b[39mparaDomain\u001b[38;5;241m.\u001b[39mcellMarkers()])\n",
      "File \u001b[1;32m~\\anaconda3\\envs\\pg\\Lib\\site-packages\\pygimli\\frameworks\\methodManager.py:720\u001b[0m, in \u001b[0;36mMeshMethodManager.paraDomain\u001b[1;34m(self)\u001b[0m\n\u001b[0;32m    717\u001b[0m \u001b[38;5;129m@property\u001b[39m\n\u001b[0;32m    718\u001b[0m \u001b[38;5;28;01mdef\u001b[39;00m \u001b[38;5;21mparaDomain\u001b[39m(\u001b[38;5;28mself\u001b[39m):\n\u001b[0;32m    719\u001b[0m \u001b[38;5;250m    \u001b[39m\u001b[38;5;124;03m\"\"\"Parameter (inversion) domain mesh.\"\"\"\u001b[39;00m\n\u001b[1;32m--> 720\u001b[0m     \u001b[38;5;28;01mreturn\u001b[39;00m \u001b[38;5;28;43mself\u001b[39;49m\u001b[38;5;241;43m.\u001b[39;49m\u001b[43mfop\u001b[49m\u001b[38;5;241;43m.\u001b[39;49m\u001b[43mparaDomain\u001b[49m\n",
      "File \u001b[1;32m~\\anaconda3\\envs\\pg\\Lib\\site-packages\\pygimli\\frameworks\\modelling.py:585\u001b[0m, in \u001b[0;36mMeshModelling.paraDomain\u001b[1;34m(self)\u001b[0m\n\u001b[0;32m    582\u001b[0m \u001b[38;5;250m\u001b[39m\u001b[38;5;124;03m\"\"\"Return parameter (inverse) mesh.\"\"\"\u001b[39;00m\n\u001b[0;32m    583\u001b[0m \u001b[38;5;66;03m# We need our own copy here because its possible that we want to use\u001b[39;00m\n\u001b[0;32m    584\u001b[0m \u001b[38;5;66;03m# the mesh after the fop was deleted\u001b[39;00m\n\u001b[1;32m--> 585\u001b[0m \u001b[38;5;28;01mif\u001b[39;00m \u001b[38;5;129;01mnot\u001b[39;00m \u001b[38;5;28;43mself\u001b[39;49m\u001b[38;5;241;43m.\u001b[39;49m\u001b[43mmesh\u001b[49m\u001b[43m(\u001b[49m\u001b[43m)\u001b[49m:\n\u001b[0;32m    586\u001b[0m     pg\u001b[38;5;241m.\u001b[39mcritical(\u001b[38;5;124m'\u001b[39m\u001b[38;5;124mparaDomain needs a mesh\u001b[39m\u001b[38;5;124m'\u001b[39m)\n\u001b[0;32m    588\u001b[0m \u001b[38;5;28mself\u001b[39m\u001b[38;5;241m.\u001b[39m_pd \u001b[38;5;241m=\u001b[39m pg\u001b[38;5;241m.\u001b[39mMesh(\u001b[38;5;28mself\u001b[39m\u001b[38;5;241m.\u001b[39mregionManager()\u001b[38;5;241m.\u001b[39mparaDomain())\n",
      "File \u001b[1;32m~\\anaconda3\\envs\\pg\\Lib\\site-packages\\pygimli\\frameworks\\modelling.py:709\u001b[0m, in \u001b[0;36mMeshModelling.mesh\u001b[1;34m(self)\u001b[0m\n\u001b[0;32m    706\u001b[0m \u001b[38;5;28mself\u001b[39m\u001b[38;5;241m.\u001b[39m_applyRegionProperties()\n\u001b[0;32m    708\u001b[0m \u001b[38;5;28;01mif\u001b[39;00m \u001b[38;5;28mself\u001b[39m\u001b[38;5;241m.\u001b[39m_regionManagerInUse \u001b[38;5;129;01mand\u001b[39;00m \u001b[38;5;28mself\u001b[39m\u001b[38;5;241m.\u001b[39m_regionChanged \u001b[38;5;129;01mis\u001b[39;00m \u001b[38;5;28;01mTrue\u001b[39;00m:\n\u001b[1;32m--> 709\u001b[0m     \u001b[38;5;28;43mself\u001b[39;49m\u001b[38;5;241;43m.\u001b[39;49m\u001b[43mcreateFwdMesh_\u001b[49m\u001b[43m(\u001b[49m\u001b[43m)\u001b[49m\n\u001b[0;32m    711\u001b[0m \u001b[38;5;28;01mreturn\u001b[39;00m \u001b[38;5;28msuper\u001b[39m()\u001b[38;5;241m.\u001b[39mmesh()\n",
      "File \u001b[1;32m~\\anaconda3\\envs\\pg\\Lib\\site-packages\\pygimli\\frameworks\\modelling.py:681\u001b[0m, in \u001b[0;36mMeshModelling.createFwdMesh_\u001b[1;34m(self)\u001b[0m\n\u001b[0;32m    679\u001b[0m \u001b[38;5;250m\u001b[39m\u001b[38;5;124;03m\"\"\"Create forward mesh.\"\"\"\u001b[39;00m\n\u001b[0;32m    680\u001b[0m pg\u001b[38;5;241m.\u001b[39minfo(\u001b[38;5;124m\"\u001b[39m\u001b[38;5;124mCreating forward mesh from region infos.\u001b[39m\u001b[38;5;124m\"\u001b[39m)\n\u001b[1;32m--> 681\u001b[0m m \u001b[38;5;241m=\u001b[39m pg\u001b[38;5;241m.\u001b[39mMesh(\u001b[38;5;28;43mself\u001b[39;49m\u001b[38;5;241;43m.\u001b[39;49m\u001b[43mregionManager\u001b[49m\u001b[43m(\u001b[49m\u001b[43m)\u001b[49m\u001b[38;5;241;43m.\u001b[39;49m\u001b[43mmesh\u001b[49m\u001b[43m(\u001b[49m\u001b[43m)\u001b[49m)\n\u001b[0;32m    683\u001b[0m regionIds \u001b[38;5;241m=\u001b[39m \u001b[38;5;28mself\u001b[39m\u001b[38;5;241m.\u001b[39mregionManager()\u001b[38;5;241m.\u001b[39mregionIdxs()\n\u001b[0;32m    684\u001b[0m \u001b[38;5;28;01mfor\u001b[39;00m iId \u001b[38;5;129;01min\u001b[39;00m regionIds:\n",
      "\u001b[1;31mRuntimeError\u001b[0m: RegionManager knows no mesh."
     ]
    }
   ],
   "source": [
    "pg.show(mgrConstrained.paraDomain, mgrConstrained.coverage()[mgrConstrained.paraDomain.cellMarkers()])"
   ]
  },
  {
   "cell_type": "code",
   "execution_count": 23,
   "metadata": {
    "collapsed": false,
    "execution": {
     "iopub.execute_input": "2025-05-22T02:40:08.995801Z",
     "iopub.status.busy": "2025-05-22T02:40:08.995801Z",
     "iopub.status.idle": "2025-05-22T02:40:09.032799Z",
     "shell.execute_reply": "2025-05-22T02:40:09.032285Z"
    }
   },
   "outputs": [
    {
     "name": "stderr",
     "output_type": "stream",
     "text": [
      "21/05/25 - 19:40:08 - pyGIMLi - \u001b[0;32;49mINFO\u001b[0m - Creating forward mesh from region infos.\n"
     ]
    },
    {
     "ename": "RuntimeError",
     "evalue": "RegionManager knows no mesh.",
     "output_type": "error",
     "traceback": [
      "\u001b[1;31m---------------------------------------------------------------------------\u001b[0m",
      "\u001b[1;31mRuntimeError\u001b[0m                              Traceback (most recent call last)",
      "Cell \u001b[1;32mIn[23], line 1\u001b[0m\n\u001b[1;32m----> 1\u001b[0m \u001b[43mmgrConstrained\u001b[49m\u001b[38;5;241;43m.\u001b[39;49m\u001b[43mparaDomain\u001b[49m\n",
      "File \u001b[1;32m~\\anaconda3\\envs\\pg\\Lib\\site-packages\\pygimli\\frameworks\\methodManager.py:720\u001b[0m, in \u001b[0;36mMeshMethodManager.paraDomain\u001b[1;34m(self)\u001b[0m\n\u001b[0;32m    717\u001b[0m \u001b[38;5;129m@property\u001b[39m\n\u001b[0;32m    718\u001b[0m \u001b[38;5;28;01mdef\u001b[39;00m \u001b[38;5;21mparaDomain\u001b[39m(\u001b[38;5;28mself\u001b[39m):\n\u001b[0;32m    719\u001b[0m \u001b[38;5;250m    \u001b[39m\u001b[38;5;124;03m\"\"\"Parameter (inversion) domain mesh.\"\"\"\u001b[39;00m\n\u001b[1;32m--> 720\u001b[0m     \u001b[38;5;28;01mreturn\u001b[39;00m \u001b[38;5;28;43mself\u001b[39;49m\u001b[38;5;241;43m.\u001b[39;49m\u001b[43mfop\u001b[49m\u001b[38;5;241;43m.\u001b[39;49m\u001b[43mparaDomain\u001b[49m\n",
      "File \u001b[1;32m~\\anaconda3\\envs\\pg\\Lib\\site-packages\\pygimli\\frameworks\\modelling.py:585\u001b[0m, in \u001b[0;36mMeshModelling.paraDomain\u001b[1;34m(self)\u001b[0m\n\u001b[0;32m    582\u001b[0m \u001b[38;5;250m\u001b[39m\u001b[38;5;124;03m\"\"\"Return parameter (inverse) mesh.\"\"\"\u001b[39;00m\n\u001b[0;32m    583\u001b[0m \u001b[38;5;66;03m# We need our own copy here because its possible that we want to use\u001b[39;00m\n\u001b[0;32m    584\u001b[0m \u001b[38;5;66;03m# the mesh after the fop was deleted\u001b[39;00m\n\u001b[1;32m--> 585\u001b[0m \u001b[38;5;28;01mif\u001b[39;00m \u001b[38;5;129;01mnot\u001b[39;00m \u001b[38;5;28;43mself\u001b[39;49m\u001b[38;5;241;43m.\u001b[39;49m\u001b[43mmesh\u001b[49m\u001b[43m(\u001b[49m\u001b[43m)\u001b[49m:\n\u001b[0;32m    586\u001b[0m     pg\u001b[38;5;241m.\u001b[39mcritical(\u001b[38;5;124m'\u001b[39m\u001b[38;5;124mparaDomain needs a mesh\u001b[39m\u001b[38;5;124m'\u001b[39m)\n\u001b[0;32m    588\u001b[0m \u001b[38;5;28mself\u001b[39m\u001b[38;5;241m.\u001b[39m_pd \u001b[38;5;241m=\u001b[39m pg\u001b[38;5;241m.\u001b[39mMesh(\u001b[38;5;28mself\u001b[39m\u001b[38;5;241m.\u001b[39mregionManager()\u001b[38;5;241m.\u001b[39mparaDomain())\n",
      "File \u001b[1;32m~\\anaconda3\\envs\\pg\\Lib\\site-packages\\pygimli\\frameworks\\modelling.py:709\u001b[0m, in \u001b[0;36mMeshModelling.mesh\u001b[1;34m(self)\u001b[0m\n\u001b[0;32m    706\u001b[0m \u001b[38;5;28mself\u001b[39m\u001b[38;5;241m.\u001b[39m_applyRegionProperties()\n\u001b[0;32m    708\u001b[0m \u001b[38;5;28;01mif\u001b[39;00m \u001b[38;5;28mself\u001b[39m\u001b[38;5;241m.\u001b[39m_regionManagerInUse \u001b[38;5;129;01mand\u001b[39;00m \u001b[38;5;28mself\u001b[39m\u001b[38;5;241m.\u001b[39m_regionChanged \u001b[38;5;129;01mis\u001b[39;00m \u001b[38;5;28;01mTrue\u001b[39;00m:\n\u001b[1;32m--> 709\u001b[0m     \u001b[38;5;28;43mself\u001b[39;49m\u001b[38;5;241;43m.\u001b[39;49m\u001b[43mcreateFwdMesh_\u001b[49m\u001b[43m(\u001b[49m\u001b[43m)\u001b[49m\n\u001b[0;32m    711\u001b[0m \u001b[38;5;28;01mreturn\u001b[39;00m \u001b[38;5;28msuper\u001b[39m()\u001b[38;5;241m.\u001b[39mmesh()\n",
      "File \u001b[1;32m~\\anaconda3\\envs\\pg\\Lib\\site-packages\\pygimli\\frameworks\\modelling.py:681\u001b[0m, in \u001b[0;36mMeshModelling.createFwdMesh_\u001b[1;34m(self)\u001b[0m\n\u001b[0;32m    679\u001b[0m \u001b[38;5;250m\u001b[39m\u001b[38;5;124;03m\"\"\"Create forward mesh.\"\"\"\u001b[39;00m\n\u001b[0;32m    680\u001b[0m pg\u001b[38;5;241m.\u001b[39minfo(\u001b[38;5;124m\"\u001b[39m\u001b[38;5;124mCreating forward mesh from region infos.\u001b[39m\u001b[38;5;124m\"\u001b[39m)\n\u001b[1;32m--> 681\u001b[0m m \u001b[38;5;241m=\u001b[39m pg\u001b[38;5;241m.\u001b[39mMesh(\u001b[38;5;28;43mself\u001b[39;49m\u001b[38;5;241;43m.\u001b[39;49m\u001b[43mregionManager\u001b[49m\u001b[43m(\u001b[49m\u001b[43m)\u001b[49m\u001b[38;5;241;43m.\u001b[39;49m\u001b[43mmesh\u001b[49m\u001b[43m(\u001b[49m\u001b[43m)\u001b[49m)\n\u001b[0;32m    683\u001b[0m regionIds \u001b[38;5;241m=\u001b[39m \u001b[38;5;28mself\u001b[39m\u001b[38;5;241m.\u001b[39mregionManager()\u001b[38;5;241m.\u001b[39mregionIdxs()\n\u001b[0;32m    684\u001b[0m \u001b[38;5;28;01mfor\u001b[39;00m iId \u001b[38;5;129;01min\u001b[39;00m regionIds:\n",
      "\u001b[1;31mRuntimeError\u001b[0m: RegionManager knows no mesh."
     ]
    }
   ],
   "source": [
    "mgrConstrained.paraDomain"
   ]
  },
  {
   "cell_type": "code",
   "execution_count": 24,
   "metadata": {
    "collapsed": false,
    "execution": {
     "iopub.execute_input": "2025-05-22T02:40:09.034817Z",
     "iopub.status.busy": "2025-05-22T02:40:09.034817Z",
     "iopub.status.idle": "2025-05-22T02:40:09.038854Z",
     "shell.execute_reply": "2025-05-22T02:40:09.038854Z"
    }
   },
   "outputs": [],
   "source": [
    "data_dir = \"results/TL_measurements/appres\"\n",
    "\n",
    "# List of ERT data files testing monthly time-lapse inversion\n",
    "ert_files = [\n",
    "    \"synthetic_data30.dat\",\n",
    "    \"synthetic_data60.dat\",\n",
    "    \"synthetic_data90.dat\",\n",
    "    \"synthetic_data120.dat\",\n",
    "    \"synthetic_data150.dat\",\n",
    "    \"synthetic_data180.dat\",\n",
    "    \"synthetic_data210.dat\",\n",
    "    \"synthetic_data240.dat\",\n",
    "    \"synthetic_data270.dat\",\n",
    "    \"synthetic_data300.dat\",\n",
    "    \"synthetic_data330.dat\",\n",
    "    \"synthetic_data360.dat\",\n",
    "]\n",
    "\n",
    "# ert_files = [\n",
    "#     \"synthetic_data30.dat\",\n",
    "#     \"synthetic_data90.dat\",\n",
    "#     \"synthetic_data150.dat\",\n",
    "#     \"synthetic_data210.dat\",\n",
    "#     \"synthetic_data270.dat\",\n",
    "#     \"synthetic_data330.dat\",\n",
    "# ]"
   ]
  },
  {
   "cell_type": "code",
   "execution_count": 25,
   "metadata": {
    "collapsed": false,
    "execution": {
     "iopub.execute_input": "2025-05-22T02:40:09.041879Z",
     "iopub.status.busy": "2025-05-22T02:40:09.040873Z",
     "iopub.status.idle": "2025-05-22T02:40:09.062576Z",
     "shell.execute_reply": "2025-05-22T02:40:09.062061Z"
    }
   },
   "outputs": [
    {
     "ename": "NameError",
     "evalue": "name 'mesh_with_interface' is not defined",
     "output_type": "error",
     "traceback": [
      "\u001b[1;31m---------------------------------------------------------------------------\u001b[0m",
      "\u001b[1;31mNameError\u001b[0m                                 Traceback (most recent call last)",
      "Cell \u001b[1;32mIn[25], line 1\u001b[0m\n\u001b[1;32m----> 1\u001b[0m pg\u001b[38;5;241m.\u001b[39mshow(\u001b[43mmesh_with_interface\u001b[49m)\n",
      "\u001b[1;31mNameError\u001b[0m: name 'mesh_with_interface' is not defined"
     ]
    }
   ],
   "source": [
    "pg.show(mesh_with_interface)"
   ]
  },
  {
   "cell_type": "markdown",
   "metadata": {},
   "source": [
    "Full paths to data files\n",
    "\n"
   ]
  },
  {
   "cell_type": "code",
   "execution_count": 26,
   "metadata": {
    "collapsed": false,
    "execution": {
     "iopub.execute_input": "2025-05-22T02:40:09.063584Z",
     "iopub.status.busy": "2025-05-22T02:40:09.063584Z",
     "iopub.status.idle": "2025-05-22T02:40:09.135634Z",
     "shell.execute_reply": "2025-05-22T02:40:09.135634Z"
    }
   },
   "outputs": [
    {
     "ename": "Exception",
     "evalue": "File or directory named results/TL_measurements/appres\\synthetic_data30.dat does not exist.",
     "output_type": "error",
     "traceback": [
      "\u001b[1;31m---------------------------------------------------------------------------\u001b[0m",
      "\u001b[1;31mException\u001b[0m                                 Traceback (most recent call last)",
      "Cell \u001b[1;32mIn[26], line 7\u001b[0m\n\u001b[0;32m      4\u001b[0m measurement_times \u001b[38;5;241m=\u001b[39m [\u001b[38;5;241m1\u001b[39m, \u001b[38;5;241m2\u001b[39m, \u001b[38;5;241m3\u001b[39m, \u001b[38;5;241m4\u001b[39m, \u001b[38;5;241m5\u001b[39m, \u001b[38;5;241m6\u001b[39m, \u001b[38;5;241m7\u001b[39m ,\u001b[38;5;241m8\u001b[39m, \u001b[38;5;241m9\u001b[39m, \u001b[38;5;241m10\u001b[39m, \u001b[38;5;241m11\u001b[39m, \u001b[38;5;241m12\u001b[39m]  \u001b[38;5;66;03m# Adjust based on your actual acquisition times\u001b[39;00m\n\u001b[0;32m      6\u001b[0m \u001b[38;5;66;03m# Create a mesh for the inversion (or load an existing one)\u001b[39;00m\n\u001b[1;32m----> 7\u001b[0m data \u001b[38;5;241m=\u001b[39m \u001b[43mert\u001b[49m\u001b[38;5;241;43m.\u001b[39;49m\u001b[43mload\u001b[49m\u001b[43m(\u001b[49m\u001b[43mdata_files\u001b[49m\u001b[43m[\u001b[49m\u001b[38;5;241;43m0\u001b[39;49m\u001b[43m]\u001b[49m\u001b[43m)\u001b[49m\n\u001b[0;32m      8\u001b[0m ert_manager \u001b[38;5;241m=\u001b[39m ert\u001b[38;5;241m.\u001b[39mERTManager(data)\n\u001b[0;32m      9\u001b[0m mesh \u001b[38;5;241m=\u001b[39m ert_manager\u001b[38;5;241m.\u001b[39mcreateMesh(data\u001b[38;5;241m=\u001b[39mdata, quality\u001b[38;5;241m=\u001b[39m\u001b[38;5;241m34\u001b[39m)\n",
      "File \u001b[1;32m~\\anaconda3\\envs\\pg\\Lib\\site-packages\\pygimli\\physics\\ert\\importData.py:26\u001b[0m, in \u001b[0;36mload\u001b[1;34m(fileName, verbose, **kwargs)\u001b[0m\n\u001b[0;32m      7\u001b[0m \u001b[38;5;28;01mdef\u001b[39;00m \u001b[38;5;21mload\u001b[39m(fileName, verbose\u001b[38;5;241m=\u001b[39m\u001b[38;5;28;01mFalse\u001b[39;00m, \u001b[38;5;241m*\u001b[39m\u001b[38;5;241m*\u001b[39mkwargs):\n\u001b[0;32m      8\u001b[0m \u001b[38;5;250m    \u001b[39m\u001b[38;5;124;03m\"\"\"Shortcut to load ERT data.\u001b[39;00m\n\u001b[0;32m      9\u001b[0m \n\u001b[0;32m     10\u001b[0m \u001b[38;5;124;03m    Import Data and try to assume the file format.\u001b[39;00m\n\u001b[1;32m   (...)\u001b[0m\n\u001b[0;32m     24\u001b[0m \n\u001b[0;32m     25\u001b[0m \u001b[38;5;124;03m    \"\"\"\u001b[39;00m\n\u001b[1;32m---> 26\u001b[0m     data \u001b[38;5;241m=\u001b[39m \u001b[43mpg\u001b[49m\u001b[38;5;241;43m.\u001b[39;49m\u001b[43mload\u001b[49m\u001b[43m(\u001b[49m\u001b[43mfileName\u001b[49m\u001b[43m)\u001b[49m\n\u001b[0;32m     27\u001b[0m     \u001b[38;5;28;01mif\u001b[39;00m \u001b[38;5;28misinstance\u001b[39m(data, pg\u001b[38;5;241m.\u001b[39mDataContainerERT):\n\u001b[0;32m     28\u001b[0m         \u001b[38;5;28;01mreturn\u001b[39;00m data\n",
      "File \u001b[1;32m~\\anaconda3\\envs\\pg\\Lib\\site-packages\\pygimli\\core\\load.py:166\u001b[0m, in \u001b[0;36mload\u001b[1;34m(fname, verbose, testAll, realName)\u001b[0m\n\u001b[0;32m    163\u001b[0m     \u001b[38;5;28;01mreturn\u001b[39;00m getExampleData(fname)\n\u001b[0;32m    165\u001b[0m \u001b[38;5;28;01mif\u001b[39;00m \u001b[38;5;129;01mnot\u001b[39;00m os\u001b[38;5;241m.\u001b[39mpath\u001b[38;5;241m.\u001b[39mexists(fname):\n\u001b[1;32m--> 166\u001b[0m     \u001b[38;5;28;01mraise\u001b[39;00m \u001b[38;5;167;01mException\u001b[39;00m(\u001b[38;5;124m\"\u001b[39m\u001b[38;5;124mFile or directory named \u001b[39m\u001b[38;5;132;01m%s\u001b[39;00m\u001b[38;5;124m does not exist.\u001b[39m\u001b[38;5;124m\"\u001b[39m \u001b[38;5;241m%\u001b[39m (fname))\n\u001b[0;32m    168\u001b[0m \u001b[38;5;66;03m# recursive function call if fname is a folder of files\u001b[39;00m\n\u001b[0;32m    169\u001b[0m \u001b[38;5;28;01mif\u001b[39;00m os\u001b[38;5;241m.\u001b[39mpath\u001b[38;5;241m.\u001b[39misdir(fname):\n",
      "\u001b[1;31mException\u001b[0m: File or directory named results/TL_measurements/appres\\synthetic_data30.dat does not exist."
     ]
    }
   ],
   "source": [
    "data_files = [os.path.join(data_dir, f) for f in ert_files]\n",
    "\n",
    "# Measurement times (can be timestamps or any sequential numbers representing time)\n",
    "measurement_times = [1, 2, 3, 4, 5, 6, 7 ,8, 9, 10, 11, 12]  # Adjust based on your actual acquisition times\n",
    "\n",
    "# Create a mesh for the inversion (or load an existing one)\n",
    "data = ert.load(data_files[0])\n",
    "ert_manager = ert.ERTManager(data)\n",
    "mesh = ert_manager.createMesh(data=data, quality=34)\n",
    "\n",
    "# Set up inversion parameters\n",
    "inversion_params = {\n",
    "    \"lambda_val\": 50.0,              # Regularization parameter\n",
    "    \"alpha\": 10.0,                   # Temporal regularization parameter\n",
    "    \"decay_rate\": 0.0,               # Temporal decay rate\n",
    "    \"method\": \"cgls\",                # Solver method ('cgls', 'lsqr', etc.)\n",
    "    \"model_constraints\": (0.001, 1e4), # Min/max resistivity values (ohm-m)\n",
    "    \"max_iterations\": 15,            # Maximum iterations\n",
    "    \"absoluteUError\": 0.0,           # Absolute data error (V)\n",
    "    \"relativeError\": 0.05,           # Relative data error (5%)\n",
    "    \"lambda_rate\": 1.0,              # Lambda reduction rate\n",
    "    \"lambda_min\": 1.0,               # Minimum lambda value\n",
    "    \"inversion_type\": \"L2\"           # 'L1', 'L2', or 'L1L2'\n",
    "}\n",
    "\n",
    "# Create the time-lapse inversion object\n",
    "inversion = TimeLapseERTInversion(\n",
    "    data_files=data_files,\n",
    "    measurement_times=measurement_times,\n",
    "    mesh=mesh_with_interface,\n",
    "    **inversion_params\n",
    ")\n",
    "\n",
    "# Run the inversion\n",
    "print(\"Starting time-lapse inversion...\")\n",
    "result = inversion.run()\n",
    "print(\"Inversion complete!\")"
   ]
  }
 ],
 "metadata": {
  "kernelspec": {
   "display_name": "Python 3",
   "language": "python",
   "name": "python3"
  },
  "language_info": {
   "codemirror_mode": {
    "name": "ipython",
    "version": 3
   },
   "file_extension": ".py",
   "mimetype": "text/x-python",
   "name": "python",
   "nbconvert_exporter": "python",
   "pygments_lexer": "ipython3",
   "version": "3.11.8"
  }
 },
 "nbformat": 4,
 "nbformat_minor": 0
}
