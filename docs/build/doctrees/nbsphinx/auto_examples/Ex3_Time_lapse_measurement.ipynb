{
 "cells": [
  {
   "cell_type": "markdown",
   "metadata": {},
   "source": [
    "\n",
    "# Creating Synthetic Time-Lapse ERT Measurements\n",
    "\n",
    "This example demonstrates how to create synthetic time-lapse electrical \n",
    "resistivity tomography (ERT) measurements for watershed monitoring applications.\n",
    "\n",
    "The example covers:\n",
    "1. Loading time-series water content data from MODFLOW simulations\n",
    "2. Converting water content to resistivity for each timestep\n",
    "3. Forward modeling to generate synthetic ERT data for multiple time periods\n",
    "4. Parallel processing for efficient computation across multiple timesteps\n",
    "5. Visualization of apparent resistivity changes over time\n",
    "6. Creating animations showing temporal water content variations\n",
    "\n",
    "This workflow is essential for testing time-lapse inversion algorithms\n",
    "and understanding the sensitivity of ERT measurements to hydrological changes.\n"
   ]
  },
  {
   "cell_type": "code",
   "execution_count": 1,
   "metadata": {
    "collapsed": false,
    "execution": {
     "iopub.execute_input": "2025-05-22T02:39:46.708879Z",
     "iopub.status.busy": "2025-05-22T02:39:46.708365Z",
     "iopub.status.idle": "2025-05-22T02:39:49.078733Z",
     "shell.execute_reply": "2025-05-22T02:39:49.078213Z"
    }
   },
   "outputs": [],
   "source": [
    "import os\n",
    "import sys\n",
    "import numpy as np\n",
    "import matplotlib.pyplot as plt\n",
    "import pygimli as pg\n",
    "from pygimli.physics import ert\n",
    "from mpl_toolkits.axes_grid1 import make_axes_locatable\n",
    "\n",
    "# Setup package path for development\n",
    "try:\n",
    "    # For regular Python scripts\n",
    "    current_dir = os.path.dirname(os.path.abspath(__file__))\n",
    "except NameError:\n",
    "    # For Jupyter notebooks\n",
    "    current_dir = os.getcwd()\n",
    "\n",
    "# Add the parent directory to Python path\n",
    "parent_dir = os.path.dirname(current_dir)\n",
    "if parent_dir not in sys.path:\n",
    "    sys.path.append(parent_dir)\n",
    "\n",
    "# Import PyHydroGeophysX modules\n",
    "from PyHydroGeophysX.model_output.modflow_output import MODFLOWWaterContent\n",
    "from PyHydroGeophysX.core.interpolation import ProfileInterpolator, create_surface_lines\n",
    "from PyHydroGeophysX.core.mesh_utils import MeshCreator\n",
    "from PyHydroGeophysX.petrophysics.resistivity_models import water_content_to_resistivity\n",
    "from PyHydroGeophysX.forward.ert_forward import ERTForwardModeling"
   ]
  },
  {
   "cell_type": "code",
   "execution_count": 2,
   "metadata": {
    "collapsed": false,
    "execution": {
     "iopub.execute_input": "2025-05-22T02:39:49.081760Z",
     "iopub.status.busy": "2025-05-22T02:39:49.081760Z",
     "iopub.status.idle": "2025-05-22T02:39:49.086310Z",
     "shell.execute_reply": "2025-05-22T02:39:49.085803Z"
    }
   },
   "outputs": [],
   "source": [
    "output_dir = \"results/TL_measurements\"\n",
    "os.makedirs(output_dir, exist_ok=True)"
   ]
  },
  {
   "cell_type": "code",
   "execution_count": 3,
   "metadata": {
    "collapsed": false,
    "execution": {
     "iopub.execute_input": "2025-05-22T02:39:49.089900Z",
     "iopub.status.busy": "2025-05-22T02:39:49.088870Z",
     "iopub.status.idle": "2025-05-22T02:39:50.028548Z",
     "shell.execute_reply": "2025-05-22T02:39:50.028033Z"
    }
   },
   "outputs": [
    {
     "name": "stdout",
     "output_type": "stream",
     "text": [
      "Step 1: Set up the ERT profiles like in the workflow example.\n"
     ]
    },
    {
     "ename": "FileNotFoundError",
     "evalue": "data/id.txt not found.",
     "output_type": "error",
     "traceback": [
      "\u001b[1;31m---------------------------------------------------------------------------\u001b[0m",
      "\u001b[1;31mFileNotFoundError\u001b[0m                         Traceback (most recent call last)",
      "Cell \u001b[1;32mIn[3], line 8\u001b[0m\n\u001b[0;32m      4\u001b[0m modflow_dir \u001b[38;5;241m=\u001b[39m os\u001b[38;5;241m.\u001b[39mpath\u001b[38;5;241m.\u001b[39mjoin(data_dir, \u001b[38;5;124m\"\u001b[39m\u001b[38;5;124mmodflow\u001b[39m\u001b[38;5;124m\"\u001b[39m)\n\u001b[0;32m      6\u001b[0m \u001b[38;5;66;03m# Load domain information from files\u001b[39;00m\n\u001b[0;32m      7\u001b[0m \u001b[38;5;66;03m# (Replace with your actual file paths)\u001b[39;00m\n\u001b[1;32m----> 8\u001b[0m idomain \u001b[38;5;241m=\u001b[39m \u001b[43mnp\u001b[49m\u001b[38;5;241;43m.\u001b[39;49m\u001b[43mloadtxt\u001b[49m\u001b[43m(\u001b[49m\u001b[43mos\u001b[49m\u001b[38;5;241;43m.\u001b[39;49m\u001b[43mpath\u001b[49m\u001b[38;5;241;43m.\u001b[39;49m\u001b[43mjoin\u001b[49m\u001b[43m(\u001b[49m\u001b[43mdata_dir\u001b[49m\u001b[43m,\u001b[49m\u001b[43m \u001b[49m\u001b[38;5;124;43m\"\u001b[39;49m\u001b[38;5;124;43mid.txt\u001b[39;49m\u001b[38;5;124;43m\"\u001b[39;49m\u001b[43m)\u001b[49m\u001b[43m)\u001b[49m\n\u001b[0;32m      9\u001b[0m top \u001b[38;5;241m=\u001b[39m np\u001b[38;5;241m.\u001b[39mloadtxt(os\u001b[38;5;241m.\u001b[39mpath\u001b[38;5;241m.\u001b[39mjoin(data_dir, \u001b[38;5;124m\"\u001b[39m\u001b[38;5;124mtop.txt\u001b[39m\u001b[38;5;124m\"\u001b[39m))\n\u001b[0;32m     10\u001b[0m porosity \u001b[38;5;241m=\u001b[39m np\u001b[38;5;241m.\u001b[39mload(os\u001b[38;5;241m.\u001b[39mpath\u001b[38;5;241m.\u001b[39mjoin(data_dir, \u001b[38;5;124m\"\u001b[39m\u001b[38;5;124mPorosity.npy\u001b[39m\u001b[38;5;124m\"\u001b[39m))\n",
      "File \u001b[1;32m~\\anaconda3\\envs\\pg\\Lib\\site-packages\\numpy\\lib\\npyio.py:1373\u001b[0m, in \u001b[0;36mloadtxt\u001b[1;34m(fname, dtype, comments, delimiter, converters, skiprows, usecols, unpack, ndmin, encoding, max_rows, quotechar, like)\u001b[0m\n\u001b[0;32m   1370\u001b[0m \u001b[38;5;28;01mif\u001b[39;00m \u001b[38;5;28misinstance\u001b[39m(delimiter, \u001b[38;5;28mbytes\u001b[39m):\n\u001b[0;32m   1371\u001b[0m     delimiter \u001b[38;5;241m=\u001b[39m delimiter\u001b[38;5;241m.\u001b[39mdecode(\u001b[38;5;124m'\u001b[39m\u001b[38;5;124mlatin1\u001b[39m\u001b[38;5;124m'\u001b[39m)\n\u001b[1;32m-> 1373\u001b[0m arr \u001b[38;5;241m=\u001b[39m \u001b[43m_read\u001b[49m\u001b[43m(\u001b[49m\u001b[43mfname\u001b[49m\u001b[43m,\u001b[49m\u001b[43m \u001b[49m\u001b[43mdtype\u001b[49m\u001b[38;5;241;43m=\u001b[39;49m\u001b[43mdtype\u001b[49m\u001b[43m,\u001b[49m\u001b[43m \u001b[49m\u001b[43mcomment\u001b[49m\u001b[38;5;241;43m=\u001b[39;49m\u001b[43mcomment\u001b[49m\u001b[43m,\u001b[49m\u001b[43m \u001b[49m\u001b[43mdelimiter\u001b[49m\u001b[38;5;241;43m=\u001b[39;49m\u001b[43mdelimiter\u001b[49m\u001b[43m,\u001b[49m\n\u001b[0;32m   1374\u001b[0m \u001b[43m            \u001b[49m\u001b[43mconverters\u001b[49m\u001b[38;5;241;43m=\u001b[39;49m\u001b[43mconverters\u001b[49m\u001b[43m,\u001b[49m\u001b[43m \u001b[49m\u001b[43mskiplines\u001b[49m\u001b[38;5;241;43m=\u001b[39;49m\u001b[43mskiprows\u001b[49m\u001b[43m,\u001b[49m\u001b[43m \u001b[49m\u001b[43musecols\u001b[49m\u001b[38;5;241;43m=\u001b[39;49m\u001b[43musecols\u001b[49m\u001b[43m,\u001b[49m\n\u001b[0;32m   1375\u001b[0m \u001b[43m            \u001b[49m\u001b[43munpack\u001b[49m\u001b[38;5;241;43m=\u001b[39;49m\u001b[43munpack\u001b[49m\u001b[43m,\u001b[49m\u001b[43m \u001b[49m\u001b[43mndmin\u001b[49m\u001b[38;5;241;43m=\u001b[39;49m\u001b[43mndmin\u001b[49m\u001b[43m,\u001b[49m\u001b[43m \u001b[49m\u001b[43mencoding\u001b[49m\u001b[38;5;241;43m=\u001b[39;49m\u001b[43mencoding\u001b[49m\u001b[43m,\u001b[49m\n\u001b[0;32m   1376\u001b[0m \u001b[43m            \u001b[49m\u001b[43mmax_rows\u001b[49m\u001b[38;5;241;43m=\u001b[39;49m\u001b[43mmax_rows\u001b[49m\u001b[43m,\u001b[49m\u001b[43m \u001b[49m\u001b[43mquote\u001b[49m\u001b[38;5;241;43m=\u001b[39;49m\u001b[43mquotechar\u001b[49m\u001b[43m)\u001b[49m\n\u001b[0;32m   1378\u001b[0m \u001b[38;5;28;01mreturn\u001b[39;00m arr\n",
      "File \u001b[1;32m~\\anaconda3\\envs\\pg\\Lib\\site-packages\\numpy\\lib\\npyio.py:992\u001b[0m, in \u001b[0;36m_read\u001b[1;34m(fname, delimiter, comment, quote, imaginary_unit, usecols, skiplines, max_rows, converters, ndmin, unpack, dtype, encoding)\u001b[0m\n\u001b[0;32m    990\u001b[0m     fname \u001b[38;5;241m=\u001b[39m os\u001b[38;5;241m.\u001b[39mfspath(fname)\n\u001b[0;32m    991\u001b[0m \u001b[38;5;28;01mif\u001b[39;00m \u001b[38;5;28misinstance\u001b[39m(fname, \u001b[38;5;28mstr\u001b[39m):\n\u001b[1;32m--> 992\u001b[0m     fh \u001b[38;5;241m=\u001b[39m \u001b[43mnp\u001b[49m\u001b[38;5;241;43m.\u001b[39;49m\u001b[43mlib\u001b[49m\u001b[38;5;241;43m.\u001b[39;49m\u001b[43m_datasource\u001b[49m\u001b[38;5;241;43m.\u001b[39;49m\u001b[43mopen\u001b[49m\u001b[43m(\u001b[49m\u001b[43mfname\u001b[49m\u001b[43m,\u001b[49m\u001b[43m \u001b[49m\u001b[38;5;124;43m'\u001b[39;49m\u001b[38;5;124;43mrt\u001b[39;49m\u001b[38;5;124;43m'\u001b[39;49m\u001b[43m,\u001b[49m\u001b[43m \u001b[49m\u001b[43mencoding\u001b[49m\u001b[38;5;241;43m=\u001b[39;49m\u001b[43mencoding\u001b[49m\u001b[43m)\u001b[49m\n\u001b[0;32m    993\u001b[0m     \u001b[38;5;28;01mif\u001b[39;00m encoding \u001b[38;5;129;01mis\u001b[39;00m \u001b[38;5;28;01mNone\u001b[39;00m:\n\u001b[0;32m    994\u001b[0m         encoding \u001b[38;5;241m=\u001b[39m \u001b[38;5;28mgetattr\u001b[39m(fh, \u001b[38;5;124m'\u001b[39m\u001b[38;5;124mencoding\u001b[39m\u001b[38;5;124m'\u001b[39m, \u001b[38;5;124m'\u001b[39m\u001b[38;5;124mlatin1\u001b[39m\u001b[38;5;124m'\u001b[39m)\n",
      "File \u001b[1;32m~\\anaconda3\\envs\\pg\\Lib\\site-packages\\numpy\\lib\\_datasource.py:193\u001b[0m, in \u001b[0;36mopen\u001b[1;34m(path, mode, destpath, encoding, newline)\u001b[0m\n\u001b[0;32m    156\u001b[0m \u001b[38;5;250m\u001b[39m\u001b[38;5;124;03m\"\"\"\u001b[39;00m\n\u001b[0;32m    157\u001b[0m \u001b[38;5;124;03mOpen `path` with `mode` and return the file object.\u001b[39;00m\n\u001b[0;32m    158\u001b[0m \n\u001b[1;32m   (...)\u001b[0m\n\u001b[0;32m    189\u001b[0m \n\u001b[0;32m    190\u001b[0m \u001b[38;5;124;03m\"\"\"\u001b[39;00m\n\u001b[0;32m    192\u001b[0m ds \u001b[38;5;241m=\u001b[39m DataSource(destpath)\n\u001b[1;32m--> 193\u001b[0m \u001b[38;5;28;01mreturn\u001b[39;00m \u001b[43mds\u001b[49m\u001b[38;5;241;43m.\u001b[39;49m\u001b[43mopen\u001b[49m\u001b[43m(\u001b[49m\u001b[43mpath\u001b[49m\u001b[43m,\u001b[49m\u001b[43m \u001b[49m\u001b[43mmode\u001b[49m\u001b[43m,\u001b[49m\u001b[43m \u001b[49m\u001b[43mencoding\u001b[49m\u001b[38;5;241;43m=\u001b[39;49m\u001b[43mencoding\u001b[49m\u001b[43m,\u001b[49m\u001b[43m \u001b[49m\u001b[43mnewline\u001b[49m\u001b[38;5;241;43m=\u001b[39;49m\u001b[43mnewline\u001b[49m\u001b[43m)\u001b[49m\n",
      "File \u001b[1;32m~\\anaconda3\\envs\\pg\\Lib\\site-packages\\numpy\\lib\\_datasource.py:533\u001b[0m, in \u001b[0;36mDataSource.open\u001b[1;34m(self, path, mode, encoding, newline)\u001b[0m\n\u001b[0;32m    530\u001b[0m     \u001b[38;5;28;01mreturn\u001b[39;00m _file_openers[ext](found, mode\u001b[38;5;241m=\u001b[39mmode,\n\u001b[0;32m    531\u001b[0m                               encoding\u001b[38;5;241m=\u001b[39mencoding, newline\u001b[38;5;241m=\u001b[39mnewline)\n\u001b[0;32m    532\u001b[0m \u001b[38;5;28;01melse\u001b[39;00m:\n\u001b[1;32m--> 533\u001b[0m     \u001b[38;5;28;01mraise\u001b[39;00m \u001b[38;5;167;01mFileNotFoundError\u001b[39;00m(\u001b[38;5;124mf\u001b[39m\u001b[38;5;124m\"\u001b[39m\u001b[38;5;132;01m{\u001b[39;00mpath\u001b[38;5;132;01m}\u001b[39;00m\u001b[38;5;124m not found.\u001b[39m\u001b[38;5;124m\"\u001b[39m)\n",
      "\u001b[1;31mFileNotFoundError\u001b[0m: data/id.txt not found."
     ]
    }
   ],
   "source": [
    "print(\"Step 1: Set up the ERT profiles like in the workflow example.\")\n",
    "\n",
    "data_dir = \"data/\"\n",
    "modflow_dir = os.path.join(data_dir, \"modflow\")\n",
    "\n",
    "# Load domain information from files\n",
    "# (Replace with your actual file paths)\n",
    "idomain = np.loadtxt(os.path.join(data_dir, \"id.txt\"))\n",
    "top = np.loadtxt(os.path.join(data_dir, \"top.txt\"))\n",
    "porosity = np.load(os.path.join(data_dir, \"Porosity.npy\"))\n",
    "\n",
    "# Define profile endpoints\n",
    "point1 = [115, 70]  # [col, row]\n",
    "point2 = [95, 180]  # [col, row]\n",
    "\n",
    "# Initialize profile interpolator\n",
    "interpolator = ProfileInterpolator(\n",
    "    point1=point1,\n",
    "    point2=point2,\n",
    "    surface_data=top,\n",
    "    origin_x=569156.2983333333,\n",
    "    origin_y=4842444.17,\n",
    "    pixel_width=1.0,\n",
    "    pixel_height=-1.0\n",
    ")\n",
    "\n",
    "# Interpolate porosity to profile\n",
    "porosity_profile = interpolator.interpolate_3d_data(porosity)\n",
    "\n",
    "\n",
    "\n",
    "# Load structure layers\n",
    "bot = np.load(os.path.join(data_dir, \"bot.npy\"))\n",
    "\n",
    "# Process layers to get structure\n",
    "structure = interpolator.interpolate_layer_data([top] + bot.tolist())\n",
    "\n",
    "# Create surface lines\n",
    "# Indicate the layer for the structure regolith, fractured bedrock and fresh bedrock\n",
    "top_idx=int(0)\n",
    "mid_idx=int(4)\n",
    "bot_idx=int(12)\n",
    "surface, line1, line2 = create_surface_lines(\n",
    "    L_profile=interpolator.L_profile,\n",
    "    structure=structure,\n",
    "    top_idx=0,\n",
    "    mid_idx=4,\n",
    "    bot_idx=12\n",
    ")\n",
    "\n",
    "# Create mesh\n",
    "mesh_creator = MeshCreator(quality=32)\n",
    "mesh, geom = mesh_creator.create_from_layers(\n",
    "    surface=surface,\n",
    "    layers=[line1, line2],\n",
    "    bottom_depth= np.min(line2[:,1])-10 #50.0\n",
    ")\n",
    "\n",
    "# Save mesh\n",
    "mesh.save(os.path.join(output_dir, \"mesh.bms\"))\n",
    "\n",
    "\n",
    "\n",
    "ID1 = porosity_profile.copy()\n",
    "ID1[:mid_idx] = 0 #regolith\n",
    "ID1[mid_idx:bot_idx] = 3 # fractured bedrock\n",
    "ID1[bot_idx:] = 2 # fresh bedrock\n",
    "\n",
    "# Get mesh centers and markers\n",
    "mesh_centers = np.array(mesh.cellCenters())\n",
    "mesh_markers = np.array(mesh.cellMarkers())\n",
    "\n",
    "# Interpolate porosity to mesh\n",
    "porosity_mesh = interpolator.interpolate_to_mesh(\n",
    "    property_values=porosity_profile,\n",
    "    depth_values=structure,\n",
    "    mesh_x=mesh_centers[:, 0],\n",
    "    mesh_y=mesh_centers[:, 1],\n",
    "    mesh_markers=mesh_markers,\n",
    "    ID=ID1, # Use ID1 to indicate the layers for interpolation\n",
    "    layer_markers = [0,3,2],\n",
    "\n",
    ")\n",
    "# load water content\n",
    "Water_Content = np.load(os.path.join(data_dir, \"Watercontent.npy\"))"
   ]
  },
  {
   "cell_type": "code",
   "execution_count": 4,
   "metadata": {
    "collapsed": false,
    "execution": {
     "iopub.execute_input": "2025-05-22T02:39:50.030570Z",
     "iopub.status.busy": "2025-05-22T02:39:50.030570Z",
     "iopub.status.idle": "2025-05-22T02:39:50.056825Z",
     "shell.execute_reply": "2025-05-22T02:39:50.056257Z"
    }
   },
   "outputs": [
    {
     "ename": "NameError",
     "evalue": "name 'Water_Content' is not defined",
     "output_type": "error",
     "traceback": [
      "\u001b[1;31m---------------------------------------------------------------------------\u001b[0m",
      "\u001b[1;31mNameError\u001b[0m                                 Traceback (most recent call last)",
      "Cell \u001b[1;32mIn[4], line 5\u001b[0m\n\u001b[0;32m      1\u001b[0m os\u001b[38;5;241m.\u001b[39mmakedirs(\u001b[38;5;124m\"\u001b[39m\u001b[38;5;124mresults/TL_measurements/synwcmodel\u001b[39m\u001b[38;5;124m\"\u001b[39m, exist_ok\u001b[38;5;241m=\u001b[39m\u001b[38;5;28;01mTrue\u001b[39;00m)\n\u001b[0;32m      2\u001b[0m os\u001b[38;5;241m.\u001b[39mmakedirs(\u001b[38;5;124m\"\u001b[39m\u001b[38;5;124mresults/TL_measurements/synresmodel\u001b[39m\u001b[38;5;124m\"\u001b[39m, exist_ok\u001b[38;5;241m=\u001b[39m\u001b[38;5;28;01mTrue\u001b[39;00m)\n\u001b[1;32m----> 5\u001b[0m \u001b[38;5;28;01mfor\u001b[39;00m i \u001b[38;5;129;01min\u001b[39;00m \u001b[38;5;28mrange\u001b[39m(\u001b[38;5;28mlen\u001b[39m(\u001b[43mWater_Content\u001b[49m)):\n\u001b[0;32m      6\u001b[0m     water_content \u001b[38;5;241m=\u001b[39m Water_Content[i]\n\u001b[0;32m      7\u001b[0m     \u001b[38;5;66;03m# Interpolate water content to profile\u001b[39;00m\n",
      "\u001b[1;31mNameError\u001b[0m: name 'Water_Content' is not defined"
     ]
    }
   ],
   "source": [
    "os.makedirs(\"results/TL_measurements/synwcmodel\", exist_ok=True)\n",
    "os.makedirs(\"results/TL_measurements/synresmodel\", exist_ok=True)\n",
    "\n",
    "\n",
    "for i in range(len(Water_Content)):\n",
    "    water_content = Water_Content[i]\n",
    "    # Interpolate water content to profile\n",
    "    water_content_profile = interpolator.interpolate_3d_data(water_content)\n",
    "\n",
    "    # Interpolate water content to mesh\n",
    "    wc_mesh = interpolator.interpolate_to_mesh(\n",
    "        property_values=water_content_profile,\n",
    "        depth_values=structure,\n",
    "        mesh_x=mesh_centers[:, 0],\n",
    "        mesh_y=mesh_centers[:, 1],\n",
    "        mesh_markers=mesh_markers,\n",
    "        ID=ID1,  # Use ID1 to indicate the layers for interpolation\n",
    "        layer_markers=[0, 3, 2],\n",
    "    )\n",
    "\n",
    "    # Convert to resistivity using petrophysical model\n",
    "    marker_labels = [0, 3, 2]  # top, mid, bottom layers\n",
    "    rho_sat = [100, 500, 2400]  # Saturated resistivity for each layer (example values)\n",
    "    n_val = [2.2, 1.8, 2.5]  # Cementation exponent for each layer (example values)\n",
    "    # sigma_s was originally defined as [1/500, 0, 0] but here we use [0.002, 0, 0]\n",
    "    sigma_s = [0.002, 0, 0]\n",
    "\n",
    "    res_models = np.zeros_like(wc_mesh)\n",
    "\n",
    "    mask = (mesh_markers == marker_labels[0])\n",
    "    top_res = water_content_to_resistivity(\n",
    "        wc_mesh[mask],\n",
    "        float(rho_sat[0]),\n",
    "        float(n_val[0]),\n",
    "        porosity_mesh[mask],\n",
    "        sigma_s[0]\n",
    "    )\n",
    "    res_models[mask] = top_res\n",
    "\n",
    "    mask = (mesh_markers == marker_labels[1])\n",
    "    mid_res = water_content_to_resistivity(\n",
    "        wc_mesh[mask],\n",
    "        float(rho_sat[1]),\n",
    "        float(n_val[1]),\n",
    "        porosity_mesh[mask],\n",
    "        sigma_s[1]\n",
    "    )\n",
    "    res_models[mask] = mid_res\n",
    "\n",
    "    mask = (mesh_markers == marker_labels[2])\n",
    "    bot_res = water_content_to_resistivity(\n",
    "        wc_mesh[mask],\n",
    "        float(rho_sat[2]),\n",
    "        float(n_val[2]),\n",
    "        porosity_mesh[mask],\n",
    "        sigma_s[2]\n",
    "    )\n",
    "    res_models[mask] = bot_res\n",
    "\n",
    "    np.save(os.path.join(output_dir, \"synwcmodel/synwcmodel\" + str(i) ), wc_mesh)\n",
    "    np.save(os.path.join(output_dir, \"synresmodel/synresmodel\" + str(i) ), res_models)"
   ]
  },
  {
   "cell_type": "markdown",
   "metadata": {},
   "source": [
    "# non parallel computing version \n",
    " os.makedirs(\"results/TL_measurements/appres\", exist_ok=True)\n",
    "\n"
   ]
  },
  {
   "cell_type": "code",
   "execution_count": 5,
   "metadata": {
    "collapsed": false,
    "execution": {
     "iopub.execute_input": "2025-05-22T02:39:50.059859Z",
     "iopub.status.busy": "2025-05-22T02:39:50.058849Z",
     "iopub.status.idle": "2025-05-22T02:39:50.062901Z",
     "shell.execute_reply": "2025-05-22T02:39:50.062901Z"
    }
   },
   "outputs": [],
   "source": [
    "# for i in range(2): \n",
    "#     # Create synthetic data\n",
    "\n",
    "#     res_model = np.load(os.path.join(output_dir, \"synresmodel/synresmodel\" + str(i) ))\n",
    "#     xpos = np.linspace(15,15+72 - 1,72)\n",
    "#     ypos = np.interp(xpos,interpolator.L_profile,interpolator.surface_profile)\n",
    "#     pos = np.hstack((xpos.reshape(-1,1),ypos.reshape(-1,1)))\n",
    "\n",
    "#     schemeert = ert.createData(elecs=pos,schemeName='wa')\n",
    "\n",
    "#     # do the forward modeling\n",
    "#     mesh.setCellMarkers(np.ones(mesh.cellCount())*2)\n",
    "#     grid = pg.meshtools.appendTriangleBoundary(mesh, marker=1,\n",
    "#                                             xbound=100, ybound=100)\n",
    "\n",
    "#     fwd_operator = ERTForwardModeling(mesh=grid, data=schemeert)\n",
    "\n",
    "#     synth_data = schemeert.copy()\n",
    "#     fob = ert.ERTModelling()\n",
    "#     fob.setData(schemeert)\n",
    "#     fob.setMesh(grid)\n",
    "#     dr = fob.response(res_model)\n",
    "\n",
    "#     dr *= 1. + pg.randn(dr.size()) * 0.05\n",
    "#     ert_manager = ert.ERTManager(synth_data)\n",
    "#     synth_data['rhoa'] = dr\n",
    "#     synth_data['err'] = ert_manager.estimateError(synth_data, absoluteUError=0.0, relativeError=0.05)\n",
    "\n",
    "#     synth_data.save(os.path.join(output_dir, \"appres/synthetic_data\"+str(i)+\".dat\"))"
   ]
  },
  {
   "cell_type": "markdown",
   "metadata": {},
   "source": [
    "# parallel computing version \n",
    "\n"
   ]
  },
  {
   "cell_type": "code",
   "execution_count": 6,
   "metadata": {
    "collapsed": false,
    "execution": {
     "iopub.execute_input": "2025-05-22T02:39:50.066440Z",
     "iopub.status.busy": "2025-05-22T02:39:50.066440Z",
     "iopub.status.idle": "2025-05-22T02:39:50.073549Z",
     "shell.execute_reply": "2025-05-22T02:39:50.073032Z"
    }
   },
   "outputs": [],
   "source": [
    "import os\n",
    "import numpy as np\n",
    "import pygimli as pg\n",
    "from pygimli.physics import ert\n",
    "\n",
    "from joblib import Parallel, delayed\n",
    "\n",
    "def process_timestep(i, output_dir, mesh_array, interpolator_L_profile, interpolator_surface_profile):\n",
    "    \"\"\"Process a single timestep for synthetic data generation\"\"\"\n",
    "    try:\n",
    "        # Load the resistivity model for this timestep\n",
    "        res_model = np.load(os.path.join(output_dir, \"synresmodel/synresmodel\" + str(i) + \".npy\"))\n",
    "        \n",
    "        # Create electrode positions\n",
    "        xpos = np.linspace(15, 15+72-1, 72)\n",
    "        ypos = np.interp(xpos, interpolator_L_profile, interpolator_surface_profile)\n",
    "        pos = np.hstack((xpos.reshape(-1,1), ypos.reshape(-1,1)))\n",
    "        \n",
    "        # Create ERT data scheme\n",
    "        schemeert = ert.createData(elecs=pos, schemeName='wa')\n",
    "        \n",
    "        mesh = pg.load(os.path.join(output_dir, \"mesh.bms\"))\n",
    "        # Set cell markers\n",
    "        mesh.setCellMarkers(np.ones(mesh.cellCount())*2)\n",
    "        \n",
    "        # Create boundary mesh\n",
    "        grid = pg.meshtools.appendTriangleBoundary(mesh, marker=1, xbound=100, ybound=100)\n",
    "        \n",
    "        # Set up forward operator\n",
    "        fwd_operator = ert.ERTModelling()\n",
    "        fwd_operator.setData(schemeert)\n",
    "        fwd_operator.setMesh(grid)\n",
    "        \n",
    "        # Forward modeling\n",
    "        synth_data = schemeert.copy()\n",
    "        dr = fwd_operator.response(res_model)\n",
    "        \n",
    "        # Add 5% random noise\n",
    "        dr *= 1. + pg.randn(dr.size()) * 0.05\n",
    "        \n",
    "        # Set up ERT manager and save data\n",
    "        ert_manager = ert.ERTManager(synth_data)\n",
    "        synth_data['rhoa'] = dr\n",
    "        synth_data['err'] = ert_manager.estimateError(synth_data, absoluteUError=0.0, relativeError=0.05)\n",
    "        \n",
    "        # Save synthetic data\n",
    "        synth_data.save(os.path.join(output_dir, \"appres/synthetic_data\"+str(i)+\".dat\"))\n",
    "        \n",
    "        return i, True, None  # Success\n",
    "    except Exception as e:\n",
    "        return i, False, str(e)  # Return error information"
   ]
  },
  {
   "cell_type": "markdown",
   "metadata": {},
   "source": [
    "Create output directories if they don't exist\n",
    "\n"
   ]
  },
  {
   "cell_type": "code",
   "execution_count": 7,
   "metadata": {
    "collapsed": false,
    "execution": {
     "iopub.execute_input": "2025-05-22T02:39:50.075573Z",
     "iopub.status.busy": "2025-05-22T02:39:50.075067Z",
     "iopub.status.idle": "2025-05-22T02:39:50.094630Z",
     "shell.execute_reply": "2025-05-22T02:39:50.093435Z"
    }
   },
   "outputs": [
    {
     "ename": "NameError",
     "evalue": "name 'interpolator' is not defined",
     "output_type": "error",
     "traceback": [
      "\u001b[1;31m---------------------------------------------------------------------------\u001b[0m",
      "\u001b[1;31mNameError\u001b[0m                                 Traceback (most recent call last)",
      "Cell \u001b[1;32mIn[7], line 5\u001b[0m\n\u001b[0;32m      1\u001b[0m os\u001b[38;5;241m.\u001b[39mmakedirs(os\u001b[38;5;241m.\u001b[39mpath\u001b[38;5;241m.\u001b[39mjoin(output_dir, \u001b[38;5;124m\"\u001b[39m\u001b[38;5;124mappres\u001b[39m\u001b[38;5;124m\"\u001b[39m), exist_ok\u001b[38;5;241m=\u001b[39m\u001b[38;5;28;01mTrue\u001b[39;00m)\n\u001b[0;32m      4\u001b[0m \u001b[38;5;66;03m# Extract necessary data from interpolator to pass to workers\u001b[39;00m\n\u001b[1;32m----> 5\u001b[0m interpolator_L_profile \u001b[38;5;241m=\u001b[39m \u001b[43minterpolator\u001b[49m\u001b[38;5;241m.\u001b[39mL_profile\u001b[38;5;241m.\u001b[39mcopy()\n\u001b[0;32m      6\u001b[0m interpolator_surface_profile \u001b[38;5;241m=\u001b[39m interpolator\u001b[38;5;241m.\u001b[39msurface_profile\u001b[38;5;241m.\u001b[39mcopy()\n\u001b[0;32m      8\u001b[0m \u001b[38;5;66;03m# Process in parallel\u001b[39;00m\n",
      "\u001b[1;31mNameError\u001b[0m: name 'interpolator' is not defined"
     ]
    }
   ],
   "source": [
    "os.makedirs(os.path.join(output_dir, \"appres\"), exist_ok=True)\n",
    "\n",
    "\n",
    "# Extract necessary data from interpolator to pass to workers\n",
    "interpolator_L_profile = interpolator.L_profile.copy()\n",
    "interpolator_surface_profile = interpolator.surface_profile.copy()\n",
    "\n",
    "# Process in parallel\n",
    "results = Parallel(n_jobs=2, verbose=10)(\n",
    "    delayed(process_timestep)(\n",
    "        i, \n",
    "        output_dir, \n",
    "        None,  # We'll reload the mesh from file instead of passing it\n",
    "        interpolator_L_profile,\n",
    "        interpolator_surface_profile\n",
    "    ) for i in range(Water_Content.shape[0])\n",
    ")\n",
    "\n",
    "# Check results\n",
    "success_count = sum(1 for _, success, _ in results if success)\n",
    "print(f\"Successfully processed {success_count} out of {len(results)} timesteps\")\n",
    "\n",
    "# Print any errors\n",
    "for i, success, error in results:\n",
    "    if not success:\n",
    "        print(f\"Error in timestep {i}: {error}\")"
   ]
  },
  {
   "cell_type": "markdown",
   "metadata": {},
   "source": [
    "## example to load and show the synthetic data\n",
    "\n"
   ]
  },
  {
   "cell_type": "code",
   "execution_count": 8,
   "metadata": {
    "collapsed": false,
    "execution": {
     "iopub.execute_input": "2025-05-22T02:39:50.097693Z",
     "iopub.status.busy": "2025-05-22T02:39:50.096679Z",
     "iopub.status.idle": "2025-05-22T02:39:50.135415Z",
     "shell.execute_reply": "2025-05-22T02:39:50.134901Z"
    }
   },
   "outputs": [
    {
     "ename": "Exception",
     "evalue": "File or directory named results/TL_measurements\\appres/synthetic_data1.dat does not exist.",
     "output_type": "error",
     "traceback": [
      "\u001b[1;31m---------------------------------------------------------------------------\u001b[0m",
      "\u001b[1;31mException\u001b[0m                                 Traceback (most recent call last)",
      "Cell \u001b[1;32mIn[8], line 1\u001b[0m\n\u001b[1;32m----> 1\u001b[0m syn_data \u001b[38;5;241m=\u001b[39m \u001b[43mpg\u001b[49m\u001b[38;5;241;43m.\u001b[39;49m\u001b[43mload\u001b[49m\u001b[43m(\u001b[49m\u001b[43mos\u001b[49m\u001b[38;5;241;43m.\u001b[39;49m\u001b[43mpath\u001b[49m\u001b[38;5;241;43m.\u001b[39;49m\u001b[43mjoin\u001b[49m\u001b[43m(\u001b[49m\u001b[43moutput_dir\u001b[49m\u001b[43m,\u001b[49m\u001b[43m \u001b[49m\u001b[38;5;124;43m\"\u001b[39;49m\u001b[38;5;124;43mappres/synthetic_data\u001b[39;49m\u001b[38;5;124;43m\"\u001b[39;49m\u001b[38;5;241;43m+\u001b[39;49m\u001b[38;5;28;43mstr\u001b[39;49m\u001b[43m(\u001b[49m\u001b[38;5;241;43m1\u001b[39;49m\u001b[43m)\u001b[49m\u001b[38;5;241;43m+\u001b[39;49m\u001b[38;5;124;43m\"\u001b[39;49m\u001b[38;5;124;43m.dat\u001b[39;49m\u001b[38;5;124;43m\"\u001b[39;49m\u001b[43m)\u001b[49m\u001b[43m)\u001b[49m\n\u001b[0;32m      2\u001b[0m ert\u001b[38;5;241m.\u001b[39mshow(syn_data)\n",
      "File \u001b[1;32m~\\anaconda3\\envs\\pg\\Lib\\site-packages\\pygimli\\core\\load.py:166\u001b[0m, in \u001b[0;36mload\u001b[1;34m(fname, verbose, testAll, realName)\u001b[0m\n\u001b[0;32m    163\u001b[0m     \u001b[38;5;28;01mreturn\u001b[39;00m getExampleData(fname)\n\u001b[0;32m    165\u001b[0m \u001b[38;5;28;01mif\u001b[39;00m \u001b[38;5;129;01mnot\u001b[39;00m os\u001b[38;5;241m.\u001b[39mpath\u001b[38;5;241m.\u001b[39mexists(fname):\n\u001b[1;32m--> 166\u001b[0m     \u001b[38;5;28;01mraise\u001b[39;00m \u001b[38;5;167;01mException\u001b[39;00m(\u001b[38;5;124m\"\u001b[39m\u001b[38;5;124mFile or directory named \u001b[39m\u001b[38;5;132;01m%s\u001b[39;00m\u001b[38;5;124m does not exist.\u001b[39m\u001b[38;5;124m\"\u001b[39m \u001b[38;5;241m%\u001b[39m (fname))\n\u001b[0;32m    168\u001b[0m \u001b[38;5;66;03m# recursive function call if fname is a folder of files\u001b[39;00m\n\u001b[0;32m    169\u001b[0m \u001b[38;5;28;01mif\u001b[39;00m os\u001b[38;5;241m.\u001b[39mpath\u001b[38;5;241m.\u001b[39misdir(fname):\n",
      "\u001b[1;31mException\u001b[0m: File or directory named results/TL_measurements\\appres/synthetic_data1.dat does not exist."
     ]
    }
   ],
   "source": [
    "syn_data = pg.load(os.path.join(output_dir, \"appres/synthetic_data\"+str(1)+\".dat\"))\n",
    "ert.show(syn_data)"
   ]
  },
  {
   "cell_type": "markdown",
   "metadata": {},
   "source": [
    "load all synthetic data and plot them\n",
    "\n"
   ]
  },
  {
   "cell_type": "code",
   "execution_count": 9,
   "metadata": {
    "collapsed": false,
    "execution": {
     "iopub.execute_input": "2025-05-22T02:39:50.138562Z",
     "iopub.status.busy": "2025-05-22T02:39:50.137956Z",
     "iopub.status.idle": "2025-05-22T02:39:50.154557Z",
     "shell.execute_reply": "2025-05-22T02:39:50.154036Z"
    }
   },
   "outputs": [
    {
     "ename": "NameError",
     "evalue": "name 'Water_Content' is not defined",
     "output_type": "error",
     "traceback": [
      "\u001b[1;31m---------------------------------------------------------------------------\u001b[0m",
      "\u001b[1;31mNameError\u001b[0m                                 Traceback (most recent call last)",
      "Cell \u001b[1;32mIn[9], line 2\u001b[0m\n\u001b[0;32m      1\u001b[0m all_syn_data \u001b[38;5;241m=\u001b[39m []\n\u001b[1;32m----> 2\u001b[0m \u001b[38;5;28;01mfor\u001b[39;00m i \u001b[38;5;129;01min\u001b[39;00m \u001b[38;5;28mrange\u001b[39m(\u001b[43mWater_Content\u001b[49m\u001b[38;5;241m.\u001b[39mshape[\u001b[38;5;241m0\u001b[39m]):\n\u001b[0;32m      3\u001b[0m     \u001b[38;5;28;01mtry\u001b[39;00m:\n\u001b[0;32m      4\u001b[0m         syn_data \u001b[38;5;241m=\u001b[39m pg\u001b[38;5;241m.\u001b[39mload(os\u001b[38;5;241m.\u001b[39mpath\u001b[38;5;241m.\u001b[39mjoin(output_dir, \u001b[38;5;124m\"\u001b[39m\u001b[38;5;124mappres/synthetic_data\u001b[39m\u001b[38;5;124m\"\u001b[39m \u001b[38;5;241m+\u001b[39m \u001b[38;5;28mstr\u001b[39m(i) \u001b[38;5;241m+\u001b[39m \u001b[38;5;124m\"\u001b[39m\u001b[38;5;124m.dat\u001b[39m\u001b[38;5;124m\"\u001b[39m))\n",
      "\u001b[1;31mNameError\u001b[0m: name 'Water_Content' is not defined"
     ]
    }
   ],
   "source": [
    "all_syn_data = []\n",
    "for i in range(Water_Content.shape[0]):\n",
    "    try:\n",
    "        syn_data = pg.load(os.path.join(output_dir, \"appres/synthetic_data\" + str(i) + \".dat\"))\n",
    "        all_syn_data.append(np.array(syn_data['rhoa']))\n",
    "    except Exception as e:\n",
    "        print(f\"Error loading synthetic data for timestep {i}: {e}\")"
   ]
  },
  {
   "cell_type": "markdown",
   "metadata": {},
   "source": [
    "# plot the apparent resitivity\n",
    "\n"
   ]
  },
  {
   "cell_type": "code",
   "execution_count": 10,
   "metadata": {
    "collapsed": false,
    "execution": {
     "iopub.execute_input": "2025-05-22T02:39:50.156578Z",
     "iopub.status.busy": "2025-05-22T02:39:50.156578Z",
     "iopub.status.idle": "2025-05-22T02:39:50.799459Z",
     "shell.execute_reply": "2025-05-22T02:39:50.798951Z"
    }
   },
   "outputs": [
    {
     "ename": "FileNotFoundError",
     "evalue": "[Errno 2] No such file or directory: 'data/precip.npy'",
     "output_type": "error",
     "traceback": [
      "\u001b[1;31m---------------------------------------------------------------------------\u001b[0m",
      "\u001b[1;31mFileNotFoundError\u001b[0m                         Traceback (most recent call last)",
      "Cell \u001b[1;32mIn[10], line 15\u001b[0m\n\u001b[0;32m     11\u001b[0m plt\u001b[38;5;241m.\u001b[39mrcParams[\u001b[38;5;124m\"\u001b[39m\u001b[38;5;124mfont.family\u001b[39m\u001b[38;5;124m\"\u001b[39m] \u001b[38;5;241m=\u001b[39m \u001b[38;5;124m\"\u001b[39m\u001b[38;5;124mArial\u001b[39m\u001b[38;5;124m\"\u001b[39m\n\u001b[0;32m     14\u001b[0m rng \u001b[38;5;241m=\u001b[39m pd\u001b[38;5;241m.\u001b[39mdate_range(start\u001b[38;5;241m=\u001b[39m\u001b[38;5;124m\"\u001b[39m\u001b[38;5;124m09/01/2011\u001b[39m\u001b[38;5;124m\"\u001b[39m, end\u001b[38;5;241m=\u001b[39m\u001b[38;5;124m\"\u001b[39m\u001b[38;5;124m08/30/2012\u001b[39m\u001b[38;5;124m\"\u001b[39m, freq\u001b[38;5;241m=\u001b[39m\u001b[38;5;124m\"\u001b[39m\u001b[38;5;124mD\u001b[39m\u001b[38;5;124m\"\u001b[39m)\n\u001b[1;32m---> 15\u001b[0m precip \u001b[38;5;241m=\u001b[39m \u001b[43mnp\u001b[49m\u001b[38;5;241;43m.\u001b[39;49m\u001b[43mload\u001b[49m\u001b[43m(\u001b[49m\u001b[43mos\u001b[49m\u001b[38;5;241;43m.\u001b[39;49m\u001b[43mpath\u001b[49m\u001b[38;5;241;43m.\u001b[39;49m\u001b[43mjoin\u001b[49m\u001b[43m(\u001b[49m\u001b[43mdata_dir\u001b[49m\u001b[43m,\u001b[49m\u001b[43m \u001b[49m\u001b[38;5;124;43m\"\u001b[39;49m\u001b[38;5;124;43mprecip.npy\u001b[39;49m\u001b[38;5;124;43m\"\u001b[39;49m\u001b[43m)\u001b[49m\u001b[43m)\u001b[49m\n\u001b[0;32m     16\u001b[0m syn_data_array \u001b[38;5;241m=\u001b[39m np\u001b[38;5;241m.\u001b[39marray(all_syn_data)\n\u001b[0;32m     17\u001b[0m syn_data_array\u001b[38;5;241m.\u001b[39mshape\n",
      "File \u001b[1;32m~\\anaconda3\\envs\\pg\\Lib\\site-packages\\numpy\\lib\\npyio.py:427\u001b[0m, in \u001b[0;36mload\u001b[1;34m(file, mmap_mode, allow_pickle, fix_imports, encoding, max_header_size)\u001b[0m\n\u001b[0;32m    425\u001b[0m     own_fid \u001b[38;5;241m=\u001b[39m \u001b[38;5;28;01mFalse\u001b[39;00m\n\u001b[0;32m    426\u001b[0m \u001b[38;5;28;01melse\u001b[39;00m:\n\u001b[1;32m--> 427\u001b[0m     fid \u001b[38;5;241m=\u001b[39m stack\u001b[38;5;241m.\u001b[39menter_context(\u001b[38;5;28;43mopen\u001b[39;49m\u001b[43m(\u001b[49m\u001b[43mos_fspath\u001b[49m\u001b[43m(\u001b[49m\u001b[43mfile\u001b[49m\u001b[43m)\u001b[49m\u001b[43m,\u001b[49m\u001b[43m \u001b[49m\u001b[38;5;124;43m\"\u001b[39;49m\u001b[38;5;124;43mrb\u001b[39;49m\u001b[38;5;124;43m\"\u001b[39;49m\u001b[43m)\u001b[49m)\n\u001b[0;32m    428\u001b[0m     own_fid \u001b[38;5;241m=\u001b[39m \u001b[38;5;28;01mTrue\u001b[39;00m\n\u001b[0;32m    430\u001b[0m \u001b[38;5;66;03m# Code to distinguish from NumPy binary files and pickles.\u001b[39;00m\n",
      "\u001b[1;31mFileNotFoundError\u001b[0m: [Errno 2] No such file or directory: 'data/precip.npy'"
     ]
    }
   ],
   "source": [
    "import pandas as pd\n",
    "import matplotlib.pylab as pylab\n",
    "params = {'legend.fontsize': 13,\n",
    "          #'figure.figsize': (15, 5),\n",
    "         'axes.labelsize': 13,\n",
    "         'axes.titlesize':13,\n",
    "         'xtick.labelsize':13,\n",
    "         'ytick.labelsize':13}\n",
    "\n",
    "pylab.rcParams.update(params)\n",
    "plt.rcParams[\"font.family\"] = \"Arial\"\n",
    "\n",
    "\n",
    "rng = pd.date_range(start=\"09/01/2011\", end=\"08/30/2012\", freq=\"D\")\n",
    "precip = np.load(os.path.join(data_dir, \"precip.npy\"))\n",
    "syn_data_array = np.array(all_syn_data)\n",
    "syn_data_array.shape\n",
    "\n",
    "\n",
    "\n",
    "plt.figure(figsize=(12, 6))\n",
    "plt.subplot(211)\n",
    "plt.bar(np.arange(365),precip,color='k')\n",
    "plt.xlim([0,364])\n",
    "plt.ylabel('Precipitation (mm)')\n",
    "plt.xlabel('Time (days)')\n",
    "plt.subplot(212)\n",
    "plt.imshow(syn_data_array.T, aspect='auto', cmap=pg.utils.cMap('rhoa'), vmin=200, vmax=2000)\n",
    "plt.ylabel('Measurement #')\n",
    "plt.xlabel('Time (days)')\n",
    "plt.tight_layout()\n",
    "plt.savefig(os.path.join(output_dir, \"apparent_resistivity.tiff\"), dpi=300)"
   ]
  },
  {
   "cell_type": "code",
   "execution_count": 11,
   "metadata": {
    "collapsed": false,
    "execution": {
     "iopub.execute_input": "2025-05-22T02:39:50.802486Z",
     "iopub.status.busy": "2025-05-22T02:39:50.801480Z",
     "iopub.status.idle": "2025-05-22T02:39:50.939461Z",
     "shell.execute_reply": "2025-05-22T02:39:50.938944Z"
    }
   },
   "outputs": [
    {
     "ename": "NameError",
     "evalue": "name 'syn_data_array' is not defined",
     "output_type": "error",
     "traceback": [
      "\u001b[1;31m---------------------------------------------------------------------------\u001b[0m",
      "\u001b[1;31mNameError\u001b[0m                                 Traceback (most recent call last)",
      "Cell \u001b[1;32mIn[11], line 3\u001b[0m\n\u001b[0;32m      1\u001b[0m plt\u001b[38;5;241m.\u001b[39mfigure(figsize\u001b[38;5;241m=\u001b[39m(\u001b[38;5;241m12\u001b[39m, \u001b[38;5;241m6\u001b[39m))\n\u001b[0;32m      2\u001b[0m plt\u001b[38;5;241m.\u001b[39msubplot(\u001b[38;5;241m211\u001b[39m)\n\u001b[1;32m----> 3\u001b[0m plt\u001b[38;5;241m.\u001b[39mimshow(\u001b[43msyn_data_array\u001b[49m\u001b[38;5;241m.\u001b[39mT, aspect\u001b[38;5;241m=\u001b[39m\u001b[38;5;124m'\u001b[39m\u001b[38;5;124mauto\u001b[39m\u001b[38;5;124m'\u001b[39m, cmap\u001b[38;5;241m=\u001b[39mpg\u001b[38;5;241m.\u001b[39mutils\u001b[38;5;241m.\u001b[39mcMap(\u001b[38;5;124m'\u001b[39m\u001b[38;5;124mrhoa\u001b[39m\u001b[38;5;124m'\u001b[39m), vmin\u001b[38;5;241m=\u001b[39m\u001b[38;5;241m200\u001b[39m, vmax\u001b[38;5;241m=\u001b[39m\u001b[38;5;241m2000\u001b[39m)\n\u001b[0;32m      4\u001b[0m plt\u001b[38;5;241m.\u001b[39mcolorbar(label\u001b[38;5;241m=\u001b[39m\u001b[38;5;124m'\u001b[39m\u001b[38;5;124mApparent Resistivity (Ω·m)\u001b[39m\u001b[38;5;124m'\u001b[39m)\n",
      "\u001b[1;31mNameError\u001b[0m: name 'syn_data_array' is not defined"
     ]
    },
    {
     "data": {
      "image/png": "[encoded data removed]",
      "text/plain": [
       "<Figure size 1200x600 with 1 Axes>"
      ]
     },
     "metadata": {},
     "output_type": "display_data"
    }
   ],
   "source": [
    "plt.figure(figsize=(12, 6))\n",
    "plt.subplot(211)\n",
    "plt.imshow(syn_data_array.T, aspect='auto', cmap=pg.utils.cMap('rhoa'), vmin=200, vmax=2000)\n",
    "plt.colorbar(label='Apparent Resistivity (Ω·m)')"
   ]
  },
  {
   "cell_type": "markdown",
   "metadata": {},
   "source": [
    "# Showing the water content model for the differnent timesteps\n",
    "\n"
   ]
  },
  {
   "cell_type": "code",
   "execution_count": 12,
   "metadata": {
    "collapsed": false,
    "execution": {
     "iopub.execute_input": "2025-05-22T02:39:50.943015Z",
     "iopub.status.busy": "2025-05-22T02:39:50.942503Z",
     "iopub.status.idle": "2025-05-22T02:39:51.393479Z",
     "shell.execute_reply": "2025-05-22T02:39:51.393479Z"
    }
   },
   "outputs": [
    {
     "ename": "FileNotFoundError",
     "evalue": "[Errno 2] No such file or directory: 'results/TL_measurements\\\\synwcmodel/synwcmodel30.npy'",
     "output_type": "error",
     "traceback": [
      "\u001b[1;31m---------------------------------------------------------------------------\u001b[0m",
      "\u001b[1;31mFileNotFoundError\u001b[0m                         Traceback (most recent call last)",
      "Cell \u001b[1;32mIn[12], line 6\u001b[0m\n\u001b[0;32m      4\u001b[0m fixed_cmap \u001b[38;5;241m=\u001b[39m BlueDarkRed18_18_r\u001b[38;5;241m.\u001b[39mmpl_colormap\n\u001b[0;32m      5\u001b[0m ax1 \u001b[38;5;241m=\u001b[39m axes[\u001b[38;5;241m0\u001b[39m]\n\u001b[1;32m----> 6\u001b[0m wc25 \u001b[38;5;241m=\u001b[39m \u001b[43mnp\u001b[49m\u001b[38;5;241;43m.\u001b[39;49m\u001b[43mload\u001b[49m\u001b[43m(\u001b[49m\u001b[43mos\u001b[49m\u001b[38;5;241;43m.\u001b[39;49m\u001b[43mpath\u001b[49m\u001b[38;5;241;43m.\u001b[39;49m\u001b[43mjoin\u001b[49m\u001b[43m(\u001b[49m\u001b[43moutput_dir\u001b[49m\u001b[43m,\u001b[49m\u001b[43m \u001b[49m\u001b[38;5;124;43m\"\u001b[39;49m\u001b[38;5;124;43msynwcmodel/synwcmodel30.npy\u001b[39;49m\u001b[38;5;124;43m\"\u001b[39;49m\u001b[43m  \u001b[49m\u001b[43m)\u001b[49m\u001b[43m)\u001b[49m\n\u001b[0;32m      7\u001b[0m cbar1 \u001b[38;5;241m=\u001b[39m pg\u001b[38;5;241m.\u001b[39mshow(mesh, wc25, ax\u001b[38;5;241m=\u001b[39max1, cMap\u001b[38;5;241m=\u001b[39mfixed_cmap, logScale\u001b[38;5;241m=\u001b[39m\u001b[38;5;28;01mFalse\u001b[39;00m, \n\u001b[0;32m      8\u001b[0m               cMin\u001b[38;5;241m=\u001b[39m\u001b[38;5;241m0.0\u001b[39m, cMax\u001b[38;5;241m=\u001b[39m\u001b[38;5;241m0.32\u001b[39m, label\u001b[38;5;241m=\u001b[39m\u001b[38;5;124m'\u001b[39m\u001b[38;5;124mWater Content (-)\u001b[39m\u001b[38;5;124m'\u001b[39m,xlabel\u001b[38;5;241m=\u001b[39m\u001b[38;5;124m'\u001b[39m\u001b[38;5;124mDistance (m)\u001b[39m\u001b[38;5;124m'\u001b[39m, ylabel\u001b[38;5;241m=\u001b[39m\u001b[38;5;124m'\u001b[39m\u001b[38;5;124mElevation (m)\u001b[39m\u001b[38;5;124m'\u001b[39m)\n\u001b[0;32m      9\u001b[0m ax1\u001b[38;5;241m.\u001b[39mset_title(\u001b[38;5;124m\"\u001b[39m\u001b[38;5;124mDay 30\u001b[39m\u001b[38;5;124m\"\u001b[39m)\n",
      "File \u001b[1;32m~\\anaconda3\\envs\\pg\\Lib\\site-packages\\numpy\\lib\\npyio.py:427\u001b[0m, in \u001b[0;36mload\u001b[1;34m(file, mmap_mode, allow_pickle, fix_imports, encoding, max_header_size)\u001b[0m\n\u001b[0;32m    425\u001b[0m     own_fid \u001b[38;5;241m=\u001b[39m \u001b[38;5;28;01mFalse\u001b[39;00m\n\u001b[0;32m    426\u001b[0m \u001b[38;5;28;01melse\u001b[39;00m:\n\u001b[1;32m--> 427\u001b[0m     fid \u001b[38;5;241m=\u001b[39m stack\u001b[38;5;241m.\u001b[39menter_context(\u001b[38;5;28;43mopen\u001b[39;49m\u001b[43m(\u001b[49m\u001b[43mos_fspath\u001b[49m\u001b[43m(\u001b[49m\u001b[43mfile\u001b[49m\u001b[43m)\u001b[49m\u001b[43m,\u001b[49m\u001b[43m \u001b[49m\u001b[38;5;124;43m\"\u001b[39;49m\u001b[38;5;124;43mrb\u001b[39;49m\u001b[38;5;124;43m\"\u001b[39;49m\u001b[43m)\u001b[49m)\n\u001b[0;32m    428\u001b[0m     own_fid \u001b[38;5;241m=\u001b[39m \u001b[38;5;28;01mTrue\u001b[39;00m\n\u001b[0;32m    430\u001b[0m \u001b[38;5;66;03m# Code to distinguish from NumPy binary files and pickles.\u001b[39;00m\n",
      "\u001b[1;31mFileNotFoundError\u001b[0m: [Errno 2] No such file or directory: 'results/TL_measurements\\\\synwcmodel/synwcmodel30.npy'"
     ]
    },
    {
     "data": {
      "image/png": "[encoded data removed]",
      "text/plain": [
       "<Figure size 1600x1400 with 4 Axes>"
      ]
     },
     "metadata": {},
     "output_type": "display_data"
    }
   ],
   "source": [
    "fig, axes = plt.subplots(1, 4, figsize=(16, 14))\n",
    "\n",
    "from palettable.lightbartlein.diverging import BlueDarkRed18_18_r\n",
    "fixed_cmap = BlueDarkRed18_18_r.mpl_colormap\n",
    "ax1 = axes[0]\n",
    "wc25 = np.load(os.path.join(output_dir, \"synwcmodel/synwcmodel30.npy\"  ))\n",
    "cbar1 = pg.show(mesh, wc25, ax=ax1, cMap=fixed_cmap, logScale=False, \n",
    "              cMin=0.0, cMax=0.32, label='Water Content (-)',xlabel='Distance (m)', ylabel='Elevation (m)')\n",
    "ax1.set_title(\"Day 30\")\n",
    "\n",
    "\n",
    "ax1 = axes[1]\n",
    "wc150= np.load(os.path.join(output_dir, \"synwcmodel/synwcmodel150.npy\"  ))\n",
    "cbar1 = pg.show(mesh, wc150, ax=ax1, cMap=fixed_cmap, logScale=False, \n",
    "              cMin=0.0, cMax=0.32, label='Water Content (-)',xlabel='Distance (m)', ylabel='Elevation (m)')\n",
    "ax1.set_title(\"Day 150\")\n",
    "\n",
    "\n",
    "ax1 = axes[2]\n",
    "wc210= np.load(os.path.join(output_dir, \"synwcmodel/synwcmodel210.npy\"  ))\n",
    "cbar1 = pg.show(mesh, wc210, ax=ax1, cMap=fixed_cmap, logScale=False, \n",
    "              cMin=0.0, cMax=0.32, label='Water Content (-)',xlabel='Distance (m)', ylabel='Elevation (m)')\n",
    "ax1.set_title(\"Day 210\")\n",
    "\n",
    "\n",
    "ax1 = axes[3]\n",
    "wc280= np.load(os.path.join(output_dir, \"synwcmodel/synwcmodel320.npy\"  ))\n",
    "cbar1 = pg.show(mesh, wc280, ax=ax1, cMap=fixed_cmap, logScale=False, \n",
    "              cMin=0.0, cMax=0.32, label='Water Content (-)',xlabel='Distance (m)', ylabel='Elevation (m)')\n",
    "ax1.set_title(\"Day 330\")\n",
    "\n",
    "fig.tight_layout()\n",
    "plt.savefig(os.path.join(output_dir, \"water_content_model.tiff\"), dpi=300)"
   ]
  },
  {
   "cell_type": "markdown",
   "metadata": {},
   "source": [
    "# Showing the water content model for the differnent timesteps\n",
    "\n"
   ]
  },
  {
   "cell_type": "code",
   "execution_count": 13,
   "metadata": {
    "collapsed": false,
    "execution": {
     "iopub.execute_input": "2025-05-22T02:39:51.396529Z",
     "iopub.status.busy": "2025-05-22T02:39:51.395522Z",
     "iopub.status.idle": "2025-05-22T02:39:51.778801Z",
     "shell.execute_reply": "2025-05-22T02:39:51.778801Z"
    }
   },
   "outputs": [
    {
     "ename": "FileNotFoundError",
     "evalue": "[Errno 2] No such file or directory: 'results/TL_measurements\\\\synresmodel/synresmodel30.npy'",
     "output_type": "error",
     "traceback": [
      "\u001b[1;31m---------------------------------------------------------------------------\u001b[0m",
      "\u001b[1;31mFileNotFoundError\u001b[0m                         Traceback (most recent call last)",
      "Cell \u001b[1;32mIn[13], line 6\u001b[0m\n\u001b[0;32m      4\u001b[0m fixed_cmap \u001b[38;5;241m=\u001b[39m BlueDarkRed18_18\u001b[38;5;241m.\u001b[39mmpl_colormap\n\u001b[0;32m      5\u001b[0m ax1 \u001b[38;5;241m=\u001b[39m axes[\u001b[38;5;241m0\u001b[39m]\n\u001b[1;32m----> 6\u001b[0m wc30 \u001b[38;5;241m=\u001b[39m \u001b[43mnp\u001b[49m\u001b[38;5;241;43m.\u001b[39;49m\u001b[43mload\u001b[49m\u001b[43m(\u001b[49m\u001b[43mos\u001b[49m\u001b[38;5;241;43m.\u001b[39;49m\u001b[43mpath\u001b[49m\u001b[38;5;241;43m.\u001b[39;49m\u001b[43mjoin\u001b[49m\u001b[43m(\u001b[49m\u001b[43moutput_dir\u001b[49m\u001b[43m,\u001b[49m\u001b[43m \u001b[49m\u001b[38;5;124;43m\"\u001b[39;49m\u001b[38;5;124;43msynresmodel/synresmodel30.npy\u001b[39;49m\u001b[38;5;124;43m\"\u001b[39;49m\u001b[43m  \u001b[49m\u001b[43m)\u001b[49m\u001b[43m)\u001b[49m\n\u001b[0;32m      7\u001b[0m cbar1 \u001b[38;5;241m=\u001b[39m pg\u001b[38;5;241m.\u001b[39mshow(mesh, wc30, ax\u001b[38;5;241m=\u001b[39max1, cMap\u001b[38;5;241m=\u001b[39mfixed_cmap, logScale\u001b[38;5;241m=\u001b[39m\u001b[38;5;28;01mFalse\u001b[39;00m, showColorBar\u001b[38;5;241m=\u001b[39m\u001b[38;5;28;01mTrue\u001b[39;00m,\n\u001b[0;32m      8\u001b[0m         xlabel\u001b[38;5;241m=\u001b[39m\u001b[38;5;124m\"\u001b[39m\u001b[38;5;124mDistance (m)\u001b[39m\u001b[38;5;124m\"\u001b[39m, ylabel\u001b[38;5;241m=\u001b[39m\u001b[38;5;124m\"\u001b[39m\u001b[38;5;124mElevation (m)\u001b[39m\u001b[38;5;124m\"\u001b[39m,\n\u001b[0;32m      9\u001b[0m         label\u001b[38;5;241m=\u001b[39m\u001b[38;5;124m'\u001b[39m\u001b[38;5;124mResistivity (Ω·m)\u001b[39m\u001b[38;5;124m'\u001b[39m, cMin\u001b[38;5;241m=\u001b[39m\u001b[38;5;241m100\u001b[39m, cMax\u001b[38;5;241m=\u001b[39m\u001b[38;5;241m3000\u001b[39m)\n\u001b[0;32m     13\u001b[0m ax1 \u001b[38;5;241m=\u001b[39m axes[\u001b[38;5;241m1\u001b[39m]\n",
      "File \u001b[1;32m~\\anaconda3\\envs\\pg\\Lib\\site-packages\\numpy\\lib\\npyio.py:427\u001b[0m, in \u001b[0;36mload\u001b[1;34m(file, mmap_mode, allow_pickle, fix_imports, encoding, max_header_size)\u001b[0m\n\u001b[0;32m    425\u001b[0m     own_fid \u001b[38;5;241m=\u001b[39m \u001b[38;5;28;01mFalse\u001b[39;00m\n\u001b[0;32m    426\u001b[0m \u001b[38;5;28;01melse\u001b[39;00m:\n\u001b[1;32m--> 427\u001b[0m     fid \u001b[38;5;241m=\u001b[39m stack\u001b[38;5;241m.\u001b[39menter_context(\u001b[38;5;28;43mopen\u001b[39;49m\u001b[43m(\u001b[49m\u001b[43mos_fspath\u001b[49m\u001b[43m(\u001b[49m\u001b[43mfile\u001b[49m\u001b[43m)\u001b[49m\u001b[43m,\u001b[49m\u001b[43m \u001b[49m\u001b[38;5;124;43m\"\u001b[39;49m\u001b[38;5;124;43mrb\u001b[39;49m\u001b[38;5;124;43m\"\u001b[39;49m\u001b[43m)\u001b[49m)\n\u001b[0;32m    428\u001b[0m     own_fid \u001b[38;5;241m=\u001b[39m \u001b[38;5;28;01mTrue\u001b[39;00m\n\u001b[0;32m    430\u001b[0m \u001b[38;5;66;03m# Code to distinguish from NumPy binary files and pickles.\u001b[39;00m\n",
      "\u001b[1;31mFileNotFoundError\u001b[0m: [Errno 2] No such file or directory: 'results/TL_measurements\\\\synresmodel/synresmodel30.npy'"
     ]
    },
    {
     "data": {
      "image/png": "[encoded data removed]",
      "text/plain": [
       "<Figure size 1600x1400 with 4 Axes>"
      ]
     },
     "metadata": {},
     "output_type": "display_data"
    }
   ],
   "source": [
    "fig, axes = plt.subplots(1, 4, figsize=(16, 14))\n",
    "\n",
    "from palettable.lightbartlein.diverging import BlueDarkRed18_18\n",
    "fixed_cmap = BlueDarkRed18_18.mpl_colormap\n",
    "ax1 = axes[0]\n",
    "wc30 = np.load(os.path.join(output_dir, \"synresmodel/synresmodel30.npy\"  ))\n",
    "cbar1 = pg.show(mesh, wc30, ax=ax1, cMap=fixed_cmap, logScale=False, showColorBar=True,\n",
    "        xlabel=\"Distance (m)\", ylabel=\"Elevation (m)\",\n",
    "        label='Resistivity (Ω·m)', cMin=100, cMax=3000)\n",
    "\n",
    "\n",
    "\n",
    "ax1 = axes[1]\n",
    "wc150= np.load(os.path.join(output_dir, \"synresmodel/synresmodel150.npy\"  ))\n",
    "cbar1 = pg.show(mesh, wc150, ax=ax1, cMap=fixed_cmap, logScale=False, showColorBar=True,\n",
    "        xlabel=\"Distance (m)\", ylabel=\"Elevation (m)\",\n",
    "        label='Resistivity (Ω·m)', cMin=100, cMax=3000)\n",
    "\n",
    "\n",
    "\n",
    "ax1 = axes[2]\n",
    "wc210= np.load(os.path.join(output_dir, \"synresmodel/synresmodel210.npy\"  ))\n",
    "cbar1 = pg.show(mesh, wc210, ax=ax1, cMap=fixed_cmap, \n",
    "              logScale=False, showColorBar=True,\n",
    "        xlabel=\"Distance (m)\", ylabel=\"Elevation (m)\",\n",
    "        label='Resistivity (Ω·m)', cMin=100, cMax=3000)\n",
    "\n",
    "\n",
    "ax1 = axes[3]\n",
    "wc280= np.load(os.path.join(output_dir, \"synresmodel/synresmodel330.npy\"  ))\n",
    "cbar1 = pg.show(mesh, wc280, ax=ax1, cMap=fixed_cmap, logScale=False, showColorBar=True,\n",
    "        xlabel=\"Distance (m)\", ylabel=\"Elevation (m)\",\n",
    "        label='Resistivity (Ω·m)', cMin=100, cMax=3000)\n",
    "\n",
    "\n",
    "fig.tight_layout()\n",
    "plt.savefig(os.path.join(output_dir, \"resistivity_model.tiff\"), dpi=300)"
   ]
  },
  {
   "cell_type": "code",
   "execution_count": 14,
   "metadata": {
    "collapsed": false,
    "execution": {
     "iopub.execute_input": "2025-05-22T02:39:51.781898Z",
     "iopub.status.busy": "2025-05-22T02:39:51.781898Z",
     "iopub.status.idle": "2025-05-22T02:39:51.914866Z",
     "shell.execute_reply": "2025-05-22T02:39:51.914352Z"
    }
   },
   "outputs": [
    {
     "name": "stdout",
     "output_type": "stream",
     "text": [
      "Processing frame 0 of 365\n"
     ]
    },
    {
     "ename": "FileNotFoundError",
     "evalue": "[Errno 2] No such file or directory: 'results/TL_measurements\\\\synwcmodel/synwcmodel0.npy'",
     "output_type": "error",
     "traceback": [
      "\u001b[1;31m---------------------------------------------------------------------------\u001b[0m",
      "\u001b[1;31mFileNotFoundError\u001b[0m                         Traceback (most recent call last)",
      "Cell \u001b[1;32mIn[14], line 32\u001b[0m\n\u001b[0;32m     29\u001b[0m ax \u001b[38;5;241m=\u001b[39m fig\u001b[38;5;241m.\u001b[39madd_subplot(\u001b[38;5;241m1\u001b[39m, \u001b[38;5;241m1\u001b[39m, \u001b[38;5;241m1\u001b[39m)\n\u001b[0;32m     31\u001b[0m \u001b[38;5;66;03m# Load data\u001b[39;00m\n\u001b[1;32m---> 32\u001b[0m moi \u001b[38;5;241m=\u001b[39m \u001b[43mnp\u001b[49m\u001b[38;5;241;43m.\u001b[39;49m\u001b[43mload\u001b[49m\u001b[43m(\u001b[49m\u001b[43mos\u001b[49m\u001b[38;5;241;43m.\u001b[39;49m\u001b[43mpath\u001b[49m\u001b[38;5;241;43m.\u001b[39;49m\u001b[43mjoin\u001b[49m\u001b[43m(\u001b[49m\u001b[43moutput_dir\u001b[49m\u001b[43m,\u001b[49m\u001b[43m \u001b[49m\u001b[38;5;124;43mf\u001b[39;49m\u001b[38;5;124;43m\"\u001b[39;49m\u001b[38;5;124;43msynwcmodel/synwcmodel\u001b[39;49m\u001b[38;5;132;43;01m{\u001b[39;49;00m\u001b[43mi\u001b[49m\u001b[38;5;132;43;01m}\u001b[39;49;00m\u001b[38;5;124;43m.npy\u001b[39;49m\u001b[38;5;124;43m\"\u001b[39;49m\u001b[43m)\u001b[49m\u001b[43m)\u001b[49m\n\u001b[0;32m     34\u001b[0m \u001b[38;5;66;03m# Plot the data\u001b[39;00m\n\u001b[0;32m     35\u001b[0m ax, cbar \u001b[38;5;241m=\u001b[39m pg\u001b[38;5;241m.\u001b[39mshow(mesh, moi, pad\u001b[38;5;241m=\u001b[39m\u001b[38;5;241m0.3\u001b[39m, orientation\u001b[38;5;241m=\u001b[39m\u001b[38;5;124m\"\u001b[39m\u001b[38;5;124mvertical\u001b[39m\u001b[38;5;124m\"\u001b[39m, \n\u001b[0;32m     36\u001b[0m                  cMap\u001b[38;5;241m=\u001b[39mfixed_cmap, cMin\u001b[38;5;241m=\u001b[39m\u001b[38;5;241m0.00\u001b[39m, cMax\u001b[38;5;241m=\u001b[39m\u001b[38;5;241m0.32\u001b[39m,\n\u001b[0;32m     37\u001b[0m                  xlabel\u001b[38;5;241m=\u001b[39m\u001b[38;5;124m\"\u001b[39m\u001b[38;5;124m\"\u001b[39m, ylabel\u001b[38;5;241m=\u001b[39m\u001b[38;5;124m\"\u001b[39m\u001b[38;5;124m\"\u001b[39m,  \u001b[38;5;66;03m# Remove labels to save space\u001b[39;00m\n\u001b[0;32m     38\u001b[0m                  label\u001b[38;5;241m=\u001b[39m\u001b[38;5;124m'\u001b[39m\u001b[38;5;124mWater content\u001b[39m\u001b[38;5;124m'\u001b[39m, ax\u001b[38;5;241m=\u001b[39max)\n",
      "File \u001b[1;32m~\\anaconda3\\envs\\pg\\Lib\\site-packages\\numpy\\lib\\npyio.py:427\u001b[0m, in \u001b[0;36mload\u001b[1;34m(file, mmap_mode, allow_pickle, fix_imports, encoding, max_header_size)\u001b[0m\n\u001b[0;32m    425\u001b[0m     own_fid \u001b[38;5;241m=\u001b[39m \u001b[38;5;28;01mFalse\u001b[39;00m\n\u001b[0;32m    426\u001b[0m \u001b[38;5;28;01melse\u001b[39;00m:\n\u001b[1;32m--> 427\u001b[0m     fid \u001b[38;5;241m=\u001b[39m stack\u001b[38;5;241m.\u001b[39menter_context(\u001b[38;5;28;43mopen\u001b[39;49m\u001b[43m(\u001b[49m\u001b[43mos_fspath\u001b[49m\u001b[43m(\u001b[49m\u001b[43mfile\u001b[49m\u001b[43m)\u001b[49m\u001b[43m,\u001b[49m\u001b[43m \u001b[49m\u001b[38;5;124;43m\"\u001b[39;49m\u001b[38;5;124;43mrb\u001b[39;49m\u001b[38;5;124;43m\"\u001b[39;49m\u001b[43m)\u001b[49m)\n\u001b[0;32m    428\u001b[0m     own_fid \u001b[38;5;241m=\u001b[39m \u001b[38;5;28;01mTrue\u001b[39;00m\n\u001b[0;32m    430\u001b[0m \u001b[38;5;66;03m# Code to distinguish from NumPy binary files and pickles.\u001b[39;00m\n",
      "\u001b[1;31mFileNotFoundError\u001b[0m: [Errno 2] No such file or directory: 'results/TL_measurements\\\\synwcmodel/synwcmodel0.npy'"
     ]
    },
    {
     "data": {
      "image/png": "[encoded data removed]",
      "text/plain": [
       "<Figure size 800x220 with 1 Axes>"
      ]
     },
     "metadata": {},
     "output_type": "display_data"
    }
   ],
   "source": [
    "import numpy as np\n",
    "import matplotlib.pyplot as plt\n",
    "import os\n",
    "from PIL import Image\n",
    "import io\n",
    "\n",
    "# Import your color map\n",
    "from palettable.lightbartlein.diverging import BlueDarkRed18_18_r\n",
    "fixed_cmap = BlueDarkRed18_18_r.mpl_colormap\n",
    "\n",
    "# Create a list to store the frames\n",
    "frames = []\n",
    "\n",
    "# Set the DPI for consistent figure size\n",
    "dpi = 100\n",
    "\n",
    "# Create frames and store them in memory\n",
    "for i in range(365):\n",
    "    # Print progress update\n",
    "    if i % 10 == 0:\n",
    "        print(f\"Processing frame {i} of 365\")\n",
    "        \n",
    "    # Set up new figure for each frame - reduced height to eliminate empty space\n",
    "    fig = plt.figure(figsize=[8, 2.2])\n",
    "    \n",
    "    # Use more of the figure space\n",
    "    plt.subplots_adjust(left=0.05, right=0.95, top=0.95, bottom=0.05)\n",
    "    \n",
    "    ax = fig.add_subplot(1, 1, 1)\n",
    "    \n",
    "    # Load data\n",
    "    moi = np.load(os.path.join(output_dir, f\"synwcmodel/synwcmodel{i}.npy\"))\n",
    "    \n",
    "    # Plot the data\n",
    "    ax, cbar = pg.show(mesh, moi, pad=0.3, orientation=\"vertical\", \n",
    "                     cMap=fixed_cmap, cMin=0.00, cMax=0.32,\n",
    "                     xlabel=\"\", ylabel=\"\",  # Remove labels to save space\n",
    "                     label='Water content', ax=ax)\n",
    "    \n",
    "    # Style adjustments\n",
    "    ax.spines['top'].set_visible(False)\n",
    "    ax.spines['right'].set_visible(False)\n",
    "    ax.spines['bottom'].set_visible(False)\n",
    "    ax.spines['left'].set_visible(False)\n",
    "    ax.get_xaxis().set_ticks([])\n",
    "    ax.get_yaxis().set_ticks([])\n",
    "    \n",
    "    # Add day counter with better positioning and visibility\n",
    "    # Use transAxes to position the text in a consistent location\n",
    "    ax.text(0.1, 0.1, f'Day: {i}', transform=ax.transAxes,\n",
    "            fontsize=12, fontweight='bold', color='black',\n",
    "            bbox=dict(facecolor='white', alpha=0.7, edgecolor='none', pad=3))\n",
    "    \n",
    "    # Add compact axis labels\n",
    "    ax.text(0.5, 0.02, 'Distance (m)', transform=ax.transAxes, \n",
    "            ha='center', fontsize=8)\n",
    "    ax.text(0.02, 0.5, 'Elevation (m)', transform=ax.transAxes, \n",
    "            va='center', rotation=90, fontsize=8)\n",
    "    \n",
    "    # Save to buffer instead of file\n",
    "    buf = io.BytesIO()\n",
    "    plt.savefig(buf, format='png', dpi=dpi, bbox_inches='tight')\n",
    "    plt.close(fig)  # Close the figure\n",
    "    \n",
    "    # Convert buffer to image and append to frames\n",
    "    buf.seek(0)\n",
    "    img = Image.open(buf)\n",
    "    frames.append(img.copy())  # Copy the image to ensure it stays in memory\n",
    "    buf.close()\n",
    "\n",
    "print(\"All frames processed!\")\n",
    "\n",
    "# Save as GIF\n",
    "gif_path = os.path.join(output_dir, \"WCanimation.gif\")\n",
    "# The first frame's duration will be longer (500ms) to show initial state\n",
    "durations = [500] + [100] * (len(frames) - 1)  # 100ms per frame after the first\n",
    "\n",
    "# Save the GIF with optimized settings\n",
    "frames[0].save(\n",
    "    gif_path,\n",
    "    format='GIF',\n",
    "    append_images=frames[1:],\n",
    "    save_all=True,\n",
    "    duration=durations,\n",
    "    loop=0,  # 0 means loop forever\n",
    "    optimize=True\n",
    ")\n",
    "\n",
    "print(f\"GIF saved successfully to {gif_path}\")"
   ]
  }
 ],
 "metadata": {
  "kernelspec": {
   "display_name": "Python 3",
   "language": "python",
   "name": "python3"
  },
  "language_info": {
   "codemirror_mode": {
    "name": "ipython",
    "version": 3
   },
   "file_extension": ".py",
   "mimetype": "text/x-python",
   "name": "python",
   "nbconvert_exporter": "python",
   "pygments_lexer": "ipython3",
   "version": "3.11.8"
  }
 },
 "nbformat": 4,
 "nbformat_minor": 0
}
