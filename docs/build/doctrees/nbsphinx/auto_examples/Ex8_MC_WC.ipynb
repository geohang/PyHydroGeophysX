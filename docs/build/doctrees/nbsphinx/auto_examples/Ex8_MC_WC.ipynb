{
 "cells": [
  {
   "cell_type": "markdown",
   "metadata": {},
   "source": [
    "\n",
    "# Monte Carlo Uncertainty Quantification for Water Content Estimation\n",
    "\n",
    "This example demonstrates Monte Carlo uncertainty quantification for \n",
    "converting ERT resistivity models to water content estimates.\n",
    "\n",
    "The analysis includes:\n",
    "1. Loading inverted resistivity models from time-lapse ERT\n",
    "2. Defining parameter distributions for different geological layers\n",
    "3. Monte Carlo sampling of petrophysical parameters\n",
    "4. Probabilistic water content estimation with uncertainty bounds\n",
    "5. Statistical analysis and visualization of results\n",
    "6. Time series extraction with confidence intervals\n",
    "\n",
    "Uncertainty quantification is essential for reliable hydrological \n",
    "interpretation of geophysical data, providing confidence bounds on\n",
    "water content estimates and identifying regions of high/low certainty.\n"
   ]
  },
  {
   "cell_type": "code",
   "execution_count": 1,
   "metadata": {
    "collapsed": false,
    "execution": {
     "iopub.execute_input": "2025-05-22T02:40:20.319649Z",
     "iopub.status.busy": "2025-05-22T02:40:20.319649Z",
     "iopub.status.idle": "2025-05-22T02:40:23.835558Z",
     "shell.execute_reply": "2025-05-22T02:40:23.835053Z"
    }
   },
   "outputs": [
    {
     "ename": "FileNotFoundError",
     "evalue": "[Errno 2] No such file or directory: 'results/Structure_WC/resmodel.npy'",
     "output_type": "error",
     "traceback": [
      "\u001b[1;31m---------------------------------------------------------------------------\u001b[0m",
      "\u001b[1;31mFileNotFoundError\u001b[0m                         Traceback (most recent call last)",
      "Cell \u001b[1;32mIn[1], line 25\u001b[0m\n\u001b[0;32m     22\u001b[0m \u001b[38;5;28;01mfrom\u001b[39;00m \u001b[38;5;21;01mPyHydroGeophysX\u001b[39;00m\u001b[38;5;21;01m.\u001b[39;00m\u001b[38;5;21;01mpetrophysics\u001b[39;00m\u001b[38;5;21;01m.\u001b[39;00m\u001b[38;5;21;01mresistivity_models\u001b[39;00m \u001b[38;5;28;01mimport\u001b[39;00m resistivity_to_saturation\n\u001b[0;32m     24\u001b[0m \u001b[38;5;66;03m# Extract the inverted resistivity values\u001b[39;00m\n\u001b[1;32m---> 25\u001b[0m resistivity_values \u001b[38;5;241m=\u001b[39m \u001b[43mnp\u001b[49m\u001b[38;5;241;43m.\u001b[39;49m\u001b[43mload\u001b[49m\u001b[43m(\u001b[49m\u001b[38;5;124;43m\"\u001b[39;49m\u001b[38;5;124;43mresults/Structure_WC/resmodel.npy\u001b[39;49m\u001b[38;5;124;43m\"\u001b[39;49m\u001b[43m)\u001b[49m\n\u001b[0;32m     26\u001b[0m coverage \u001b[38;5;241m=\u001b[39m np\u001b[38;5;241m.\u001b[39mload(\u001b[38;5;124m\"\u001b[39m\u001b[38;5;124mresults/Structure_WC/all_coverage.npy\u001b[39m\u001b[38;5;124m\"\u001b[39m)\n\u001b[0;32m     27\u001b[0m \u001b[38;5;66;03m# Extract cell markers from the mesh (to identify different geological layers)\u001b[39;00m\n",
      "File \u001b[1;32m~\\anaconda3\\envs\\pg\\Lib\\site-packages\\numpy\\lib\\npyio.py:427\u001b[0m, in \u001b[0;36mload\u001b[1;34m(file, mmap_mode, allow_pickle, fix_imports, encoding, max_header_size)\u001b[0m\n\u001b[0;32m    425\u001b[0m     own_fid \u001b[38;5;241m=\u001b[39m \u001b[38;5;28;01mFalse\u001b[39;00m\n\u001b[0;32m    426\u001b[0m \u001b[38;5;28;01melse\u001b[39;00m:\n\u001b[1;32m--> 427\u001b[0m     fid \u001b[38;5;241m=\u001b[39m stack\u001b[38;5;241m.\u001b[39menter_context(\u001b[38;5;28;43mopen\u001b[39;49m\u001b[43m(\u001b[49m\u001b[43mos_fspath\u001b[49m\u001b[43m(\u001b[49m\u001b[43mfile\u001b[49m\u001b[43m)\u001b[49m\u001b[43m,\u001b[49m\u001b[43m \u001b[49m\u001b[38;5;124;43m\"\u001b[39;49m\u001b[38;5;124;43mrb\u001b[39;49m\u001b[38;5;124;43m\"\u001b[39;49m\u001b[43m)\u001b[49m)\n\u001b[0;32m    428\u001b[0m     own_fid \u001b[38;5;241m=\u001b[39m \u001b[38;5;28;01mTrue\u001b[39;00m\n\u001b[0;32m    430\u001b[0m \u001b[38;5;66;03m# Code to distinguish from NumPy binary files and pickles.\u001b[39;00m\n",
      "\u001b[1;31mFileNotFoundError\u001b[0m: [Errno 2] No such file or directory: 'results/Structure_WC/resmodel.npy'"
     ]
    }
   ],
   "source": [
    "import numpy as np\n",
    "import matplotlib.pyplot as plt\n",
    "import os\n",
    "import pygimli as pg\n",
    "import sys\n",
    "from tqdm import tqdm\n",
    "\n",
    "# Setup package path for development\n",
    "try:\n",
    "    # For regular Python scripts\n",
    "    current_dir = os.path.dirname(os.path.abspath(__file__))\n",
    "except NameError:\n",
    "    # For Jupyter notebooks\n",
    "    current_dir = os.getcwd()\n",
    "\n",
    "# Add the parent directory to Python path\n",
    "parent_dir = os.path.dirname(current_dir)\n",
    "if parent_dir not in sys.path:\n",
    "    sys.path.append(parent_dir)\n",
    "\n",
    "# Import PyHydroGeophysX modules\n",
    "from PyHydroGeophysX.petrophysics.resistivity_models import resistivity_to_saturation\n",
    "\n",
    "# Extract the inverted resistivity values\n",
    "resistivity_values = np.load(\"results/Structure_WC/resmodel.npy\")\n",
    "coverage = np.load(\"results/Structure_WC/all_coverage.npy\")\n",
    "# Extract cell markers from the mesh (to identify different geological layers)\n",
    "cell_markers = np.load(\"results/Structure_WC/index_marker.npy\")\n",
    "\n",
    "mesh = pg.load(\"results/Structure_WC/mesh_res.bms\")\n",
    "\n",
    "# Number of Monte Carlo realizations\n",
    "n_realizations = 100\n",
    "\n",
    "# Set up parameter distributions (means and standard deviations)\n",
    "# Layer 1 (top layer - marker 3)\n",
    "layer1_dist = {\n",
    "    'rhos': {'mean': 100.0, 'std': 20.0},       # Saturated resistivity (ohm-m)\n",
    "    'n': {'mean': 2.2, 'std': 0.2},             # Saturation exponent\n",
    "    'sigma_sur': {'mean': 1/500, 'std': 1/2000},  # Surface conductivity (S/m)\n",
    "    'porosity': {'mean': 0.40, 'std': 0.05}      # Porosity\n",
    "}\n",
    "\n",
    "# Layer 2 (bottom layer - marker 2)\n",
    "layer2_dist = {\n",
    "    'rhos': {'mean': 500.0, 'std': 100.0},      # Saturated resistivity (ohm-m)\n",
    "    'n': {'mean': 1.8, 'std': 0.2},             # Saturation exponent\n",
    "    'sigma_sur': {'mean': 0, 'std': 1/50000},    # Surface conductivity (S/m)\n",
    "    'porosity': {'mean': 0.35, 'std': 0.1}      # Porosity\n",
    "}\n",
    "\n",
    "# Create arrays to store all MC realization results\n",
    "water_content_all = np.zeros((n_realizations, *resistivity_values.shape))\n",
    "Saturation_all = np.zeros((n_realizations, *resistivity_values.shape))\n",
    "# Create arrays to store the parameters used for each realization\n",
    "params_used = {\n",
    "    'layer1': {\n",
    "        'rhos': np.zeros(n_realizations),\n",
    "        'n': np.zeros(n_realizations),\n",
    "        'sigma_sur': np.zeros(n_realizations),\n",
    "        'porosity': np.zeros(n_realizations)\n",
    "    },\n",
    "    'layer2': {\n",
    "        'rhos': np.zeros(n_realizations),\n",
    "        'n': np.zeros(n_realizations),\n",
    "        'sigma_sur': np.zeros(n_realizations),\n",
    "        'porosity': np.zeros(n_realizations)\n",
    "    }\n",
    "}\n",
    "\n",
    "# Perform Monte Carlo simulation\n",
    "for mc_idx in tqdm(range(n_realizations), desc=\"Monte Carlo Simulations\"):\n",
    "    # Sample parameters for each layer from their distributions\n",
    "    # Layer 1\n",
    "    layer1_params = {\n",
    "        'rhos': max(1.0, np.random.normal(layer1_dist['rhos']['mean'], layer1_dist['rhos']['std'])),\n",
    "        'n': max(1.0, np.random.normal(layer1_dist['n']['mean'], layer1_dist['n']['std'])),\n",
    "        'sigma_sur': max(0.0, np.random.normal(layer1_dist['sigma_sur']['mean'], layer1_dist['sigma_sur']['std']))\n",
    "    }\n",
    "    \n",
    "    # Layer 2\n",
    "    layer2_params = {\n",
    "        'rhos': max(1.0, np.random.normal(layer2_dist['rhos']['mean'], layer2_dist['rhos']['std'])),\n",
    "        'n': max(1.0, np.random.normal(layer2_dist['n']['mean'], layer2_dist['n']['std'])),\n",
    "        'sigma_sur': max(0.0, np.random.normal(layer2_dist['sigma_sur']['mean'], layer2_dist['sigma_sur']['std']))\n",
    "    }\n",
    "    \n",
    "    # Sample porosity for each layer\n",
    "    porosity = np.zeros_like(cell_markers, dtype=float)\n",
    "    layer1_porosity = np.clip(np.random.normal(layer1_dist['porosity']['mean'], \n",
    "                                              layer1_dist['porosity']['std']), 0.05, 0.6)\n",
    "    layer2_porosity = np.clip(np.random.normal(layer2_dist['porosity']['mean'], \n",
    "                                              layer2_dist['porosity']['std']), 0.05, 0.6)\n",
    "    \n",
    "    porosity[cell_markers == 3] = layer1_porosity  # Top layer porosity\n",
    "    porosity[cell_markers == 2] = layer2_porosity  # Bottom layer porosity\n",
    "    \n",
    "    # Save the parameters used for this realization\n",
    "    params_used['layer1']['rhos'][mc_idx] = layer1_params['rhos']\n",
    "    params_used['layer1']['n'][mc_idx] = layer1_params['n']\n",
    "    params_used['layer1']['sigma_sur'][mc_idx] = layer1_params['sigma_sur']\n",
    "    params_used['layer1']['porosity'][mc_idx] = layer1_porosity\n",
    "    \n",
    "    params_used['layer2']['rhos'][mc_idx] = layer2_params['rhos']\n",
    "    params_used['layer2']['n'][mc_idx] = layer2_params['n']\n",
    "    params_used['layer2']['sigma_sur'][mc_idx] = layer2_params['sigma_sur']\n",
    "    params_used['layer2']['porosity'][mc_idx] = layer2_porosity\n",
    "    \n",
    "    # Create arrays to store water content and saturation for this realization\n",
    "    water_content = np.zeros_like(resistivity_values)\n",
    "    saturation = np.zeros_like(resistivity_values)\n",
    "    \n",
    "    # Process each timestep\n",
    "    for t in range(resistivity_values.shape[1]):\n",
    "        # Extract resistivity for this timestep\n",
    "        resistivity_t = resistivity_values[:, t]\n",
    "        \n",
    "        # Process each layer separately\n",
    "        # Layer 1 (marker 3)\n",
    "        mask_layer1 = cell_markers == 3\n",
    "        if np.any(mask_layer1):\n",
    "            saturation[mask_layer1, t] = resistivity_to_saturation(\n",
    "                resistivity_t[mask_layer1],\n",
    "                layer1_params['rhos'],\n",
    "                layer1_params['n'],\n",
    "                layer1_params['sigma_sur']\n",
    "            )\n",
    "        \n",
    "        # Layer 2 (marker 2)\n",
    "        mask_layer2 = cell_markers == 2\n",
    "        if np.any(mask_layer2):\n",
    "            saturation[mask_layer2, t] = resistivity_to_saturation(\n",
    "                resistivity_t[mask_layer2],\n",
    "                layer2_params['rhos'],\n",
    "                layer2_params['n'],\n",
    "                layer2_params['sigma_sur']\n",
    "            )\n",
    "        \n",
    "        # Convert saturation to water content (water_content = saturation * porosity)\n",
    "        water_content[:, t] = saturation[:, t] * porosity\n",
    "    \n",
    "    # Store this realization's water content\n",
    "    water_content_all[mc_idx] = water_content\n",
    "    Saturation_all[mc_idx] = saturation"
   ]
  },
  {
   "cell_type": "markdown",
   "metadata": {},
   "source": [
    "Calculate statistics across all realizations\n",
    "\n"
   ]
  },
  {
   "cell_type": "code",
   "execution_count": 2,
   "metadata": {
    "collapsed": false,
    "execution": {
     "iopub.execute_input": "2025-05-22T02:40:23.838615Z",
     "iopub.status.busy": "2025-05-22T02:40:23.838615Z",
     "iopub.status.idle": "2025-05-22T02:40:23.865091Z",
     "shell.execute_reply": "2025-05-22T02:40:23.865091Z"
    }
   },
   "outputs": [
    {
     "ename": "NameError",
     "evalue": "name 'water_content_all' is not defined",
     "output_type": "error",
     "traceback": [
      "\u001b[1;31m---------------------------------------------------------------------------\u001b[0m",
      "\u001b[1;31mNameError\u001b[0m                                 Traceback (most recent call last)",
      "Cell \u001b[1;32mIn[2], line 1\u001b[0m\n\u001b[1;32m----> 1\u001b[0m water_content_mean \u001b[38;5;241m=\u001b[39m np\u001b[38;5;241m.\u001b[39mmean(\u001b[43mwater_content_all\u001b[49m, axis\u001b[38;5;241m=\u001b[39m\u001b[38;5;241m0\u001b[39m)\n\u001b[0;32m      2\u001b[0m water_content_std \u001b[38;5;241m=\u001b[39m np\u001b[38;5;241m.\u001b[39mstd(water_content_all, axis\u001b[38;5;241m=\u001b[39m\u001b[38;5;241m0\u001b[39m)\n\u001b[0;32m      3\u001b[0m water_content_p10 \u001b[38;5;241m=\u001b[39m np\u001b[38;5;241m.\u001b[39mpercentile(water_content_all, \u001b[38;5;241m10\u001b[39m, axis\u001b[38;5;241m=\u001b[39m\u001b[38;5;241m0\u001b[39m)  \u001b[38;5;66;03m# 10th percentile\u001b[39;00m\n",
      "\u001b[1;31mNameError\u001b[0m: name 'water_content_all' is not defined"
     ]
    }
   ],
   "source": [
    "water_content_mean = np.mean(water_content_all, axis=0)\n",
    "water_content_std = np.std(water_content_all, axis=0)\n",
    "water_content_p10 = np.percentile(water_content_all, 10, axis=0)  # 10th percentile\n",
    "water_content_p50 = np.percentile(water_content_all, 50, axis=0)  # Median\n",
    "water_content_p90 = np.percentile(water_content_all, 90, axis=0)  # 90th percentile"
   ]
  },
  {
   "cell_type": "code",
   "execution_count": 3,
   "metadata": {
    "collapsed": false,
    "execution": {
     "iopub.execute_input": "2025-05-22T02:40:23.868745Z",
     "iopub.status.busy": "2025-05-22T02:40:23.868237Z",
     "iopub.status.idle": "2025-05-22T02:40:24.077925Z",
     "shell.execute_reply": "2025-05-22T02:40:24.077403Z"
    }
   },
   "outputs": [
    {
     "ename": "NameError",
     "evalue": "name 'mesh' is not defined",
     "output_type": "error",
     "traceback": [
      "\u001b[1;31m---------------------------------------------------------------------------\u001b[0m",
      "\u001b[1;31mNameError\u001b[0m                                 Traceback (most recent call last)",
      "Cell \u001b[1;32mIn[3], line 43\u001b[0m\n\u001b[0;32m     40\u001b[0m     ax\u001b[38;5;241m.\u001b[39mset_xlabel(\u001b[38;5;124m\"\u001b[39m\u001b[38;5;124mDistance (m)\u001b[39m\u001b[38;5;124m\"\u001b[39m)\n\u001b[0;32m     42\u001b[0m \u001b[38;5;66;03m# Create the plot\u001b[39;00m\n\u001b[1;32m---> 43\u001b[0m ax, cbar \u001b[38;5;241m=\u001b[39m pg\u001b[38;5;241m.\u001b[39mshow(\u001b[43mmesh\u001b[49m,\n\u001b[0;32m     44\u001b[0m                   water_content_mean[:, i],\n\u001b[0;32m     45\u001b[0m                   pad\u001b[38;5;241m=\u001b[39m\u001b[38;5;241m0.3\u001b[39m,\n\u001b[0;32m     46\u001b[0m                   orientation\u001b[38;5;241m=\u001b[39m\u001b[38;5;124m\"\u001b[39m\u001b[38;5;124mvertical\u001b[39m\u001b[38;5;124m\"\u001b[39m,\n\u001b[0;32m     47\u001b[0m                   cMap\u001b[38;5;241m=\u001b[39mfixed_cmap,\n\u001b[0;32m     48\u001b[0m                   cMin\u001b[38;5;241m=\u001b[39m\u001b[38;5;241m0\u001b[39m,\n\u001b[0;32m     49\u001b[0m                   cMax\u001b[38;5;241m=\u001b[39m\u001b[38;5;241m0.32\u001b[39m,\n\u001b[0;32m     50\u001b[0m                   ylabel\u001b[38;5;241m=\u001b[39mylabel,\n\u001b[0;32m     51\u001b[0m                   label\u001b[38;5;241m=\u001b[39m \u001b[38;5;124m'\u001b[39m\u001b[38;5;124mWater Content (-)\u001b[39m\u001b[38;5;124m'\u001b[39m,\n\u001b[0;32m     52\u001b[0m                   ax\u001b[38;5;241m=\u001b[39max,\n\u001b[0;32m     53\u001b[0m                   logScale\u001b[38;5;241m=\u001b[39m\u001b[38;5;28;01mFalse\u001b[39;00m,\n\u001b[0;32m     54\u001b[0m                   coverage\u001b[38;5;241m=\u001b[39mcoverage[i,:]\u001b[38;5;241m>\u001b[39m\u001b[38;5;241m-\u001b[39m\u001b[38;5;241m1.2\u001b[39m)\n\u001b[0;32m     56\u001b[0m \u001b[38;5;66;03m# Only keep colorbar for the middle-right panel (row 1, col 3)\u001b[39;00m\n\u001b[0;32m     57\u001b[0m \u001b[38;5;66;03m# This corresponds to panel index 7 in a 0-based indexing system\u001b[39;00m\n\u001b[0;32m     58\u001b[0m \u001b[38;5;28;01mif\u001b[39;00m i \u001b[38;5;241m!=\u001b[39m \u001b[38;5;241m7\u001b[39m:  \u001b[38;5;66;03m# Keep only the colorbar for panel 7\u001b[39;00m\n",
      "\u001b[1;31mNameError\u001b[0m: name 'mesh' is not defined"
     ]
    },
    {
     "data": {
      "image/png": "[encoded data removed]",
      "text/plain": [
       "<Figure size 1600x600 with 1 Axes>"
      ]
     },
     "metadata": {},
     "output_type": "display_data"
    }
   ],
   "source": [
    "from palettable.lightbartlein.diverging import BlueDarkRed18_18_r\n",
    "import matplotlib.pyplot as plt\n",
    "import numpy as np\n",
    "import matplotlib.pylab as pylab\n",
    "params = {'legend.fontsize': 13,\n",
    "          #'figure.figsize': (15, 5),\n",
    "         'axes.labelsize': 13,\n",
    "         'axes.titlesize':13,\n",
    "         'xtick.labelsize':13,\n",
    "         'ytick.labelsize':13}\n",
    "\n",
    "pylab.rcParams.update(params)\n",
    "plt.rcParams[\"font.family\"] = \"Arial\"\n",
    "\n",
    "fixed_cmap = BlueDarkRed18_18_r.mpl_colormap\n",
    "fig = plt.figure(figsize=[16, 6])\n",
    "\n",
    "# Use tight_layout with adjusted parameters to reduce space\n",
    "plt.subplots_adjust(wspace=0.05, hspace=0.05)\n",
    "\n",
    "# True resistivity model\n",
    "for i in range(12):\n",
    "    row, col = i // 4, i % 4\n",
    "    ax = fig.add_subplot(3, 4, i+1)\n",
    "    \n",
    "    # Add common ylabel only to leftmost panels\n",
    "    ylabel = \"Elevation (m)\" if col == 0 else None\n",
    "    \n",
    "    # Add resistivity label only to the middle-right panel (row 1, col 3)\n",
    "    resistivity_label = ' Resistivity ($\\Omega$ m)' if (i == 7) else None\n",
    "    \n",
    "    # Only show axis ticks on leftmost and bottom panels\n",
    "    if col != 0:\n",
    "        ax.set_yticks([])\n",
    "    \n",
    "    if row != 2:  # Not bottom row\n",
    "        ax.set_xticks([])\n",
    "    else:\n",
    "        # Add \"distance (m)\" label to bottom row panels\n",
    "        ax.set_xlabel(\"Distance (m)\")\n",
    "    \n",
    "    # Create the plot\n",
    "    ax, cbar = pg.show(mesh,\n",
    "                      water_content_mean[:, i],\n",
    "                      pad=0.3,\n",
    "                      orientation=\"vertical\",\n",
    "                      cMap=fixed_cmap,\n",
    "                      cMin=0,\n",
    "                      cMax=0.32,\n",
    "                      ylabel=ylabel,\n",
    "                      label= 'Water Content (-)',\n",
    "                      ax=ax,\n",
    "                      logScale=False,\n",
    "                      coverage=coverage[i,:]>-1.2)\n",
    "    \n",
    "    # Only keep colorbar for the middle-right panel (row 1, col 3)\n",
    "    # This corresponds to panel index 7 in a 0-based indexing system\n",
    "    if i != 7:  # Keep only the colorbar for panel 7\n",
    "        cbar.remove()\n",
    "\n",
    "plt.tight_layout()\n",
    "plt.savefig(\"results/Structure_WC/timelapse_sat.tiff\", dpi=300, bbox_inches='tight')"
   ]
  },
  {
   "cell_type": "code",
   "execution_count": 4,
   "metadata": {
    "collapsed": false,
    "execution": {
     "iopub.execute_input": "2025-05-22T02:40:24.081503Z",
     "iopub.status.busy": "2025-05-22T02:40:24.079987Z",
     "iopub.status.idle": "2025-05-22T02:40:24.113837Z",
     "shell.execute_reply": "2025-05-22T02:40:24.113315Z"
    }
   },
   "outputs": [
    {
     "ename": "FileNotFoundError",
     "evalue": "[Errno 2] No such file or directory: 'results/TL_measurements/synwcmodel/synwcmodel30.npy'",
     "output_type": "error",
     "traceback": [
      "\u001b[1;31m---------------------------------------------------------------------------\u001b[0m",
      "\u001b[1;31mFileNotFoundError\u001b[0m                         Traceback (most recent call last)",
      "Cell \u001b[1;32mIn[4], line 5\u001b[0m\n\u001b[0;32m      1\u001b[0m WC_true \u001b[38;5;241m=\u001b[39m []\n\u001b[0;32m      3\u001b[0m \u001b[38;5;28;01mfor\u001b[39;00m i \u001b[38;5;129;01min\u001b[39;00m np\u001b[38;5;241m.\u001b[39marange(\u001b[38;5;241m30\u001b[39m,\u001b[38;5;241m361\u001b[39m,\u001b[38;5;241m30\u001b[39m):\n\u001b[0;32m      4\u001b[0m     \u001b[38;5;66;03m# Extract true water content values for the current timestep\u001b[39;00m\n\u001b[1;32m----> 5\u001b[0m     true_values \u001b[38;5;241m=\u001b[39m \u001b[43mnp\u001b[49m\u001b[38;5;241;43m.\u001b[39;49m\u001b[43mload\u001b[49m\u001b[43m(\u001b[49m\u001b[38;5;124;43m\"\u001b[39;49m\u001b[38;5;124;43mresults/TL_measurements/synwcmodel/synwcmodel\u001b[39;49m\u001b[38;5;124;43m\"\u001b[39;49m\u001b[38;5;241;43m+\u001b[39;49m\u001b[38;5;28;43mstr\u001b[39;49m\u001b[43m(\u001b[49m\u001b[43mi\u001b[49m\u001b[43m)\u001b[49m\u001b[38;5;241;43m+\u001b[39;49m\u001b[38;5;124;43m\"\u001b[39;49m\u001b[38;5;124;43m.npy\u001b[39;49m\u001b[38;5;124;43m\"\u001b[39;49m\u001b[43m)\u001b[49m\n\u001b[0;32m      7\u001b[0m     \u001b[38;5;66;03m# Store the true values for this timestep\u001b[39;00m\n\u001b[0;32m      8\u001b[0m     WC_true\u001b[38;5;241m.\u001b[39mappend(true_values)\n",
      "File \u001b[1;32m~\\anaconda3\\envs\\pg\\Lib\\site-packages\\numpy\\lib\\npyio.py:427\u001b[0m, in \u001b[0;36mload\u001b[1;34m(file, mmap_mode, allow_pickle, fix_imports, encoding, max_header_size)\u001b[0m\n\u001b[0;32m    425\u001b[0m     own_fid \u001b[38;5;241m=\u001b[39m \u001b[38;5;28;01mFalse\u001b[39;00m\n\u001b[0;32m    426\u001b[0m \u001b[38;5;28;01melse\u001b[39;00m:\n\u001b[1;32m--> 427\u001b[0m     fid \u001b[38;5;241m=\u001b[39m stack\u001b[38;5;241m.\u001b[39menter_context(\u001b[38;5;28;43mopen\u001b[39;49m\u001b[43m(\u001b[49m\u001b[43mos_fspath\u001b[49m\u001b[43m(\u001b[49m\u001b[43mfile\u001b[49m\u001b[43m)\u001b[49m\u001b[43m,\u001b[49m\u001b[43m \u001b[49m\u001b[38;5;124;43m\"\u001b[39;49m\u001b[38;5;124;43mrb\u001b[39;49m\u001b[38;5;124;43m\"\u001b[39;49m\u001b[43m)\u001b[49m)\n\u001b[0;32m    428\u001b[0m     own_fid \u001b[38;5;241m=\u001b[39m \u001b[38;5;28;01mTrue\u001b[39;00m\n\u001b[0;32m    430\u001b[0m \u001b[38;5;66;03m# Code to distinguish from NumPy binary files and pickles.\u001b[39;00m\n",
      "\u001b[1;31mFileNotFoundError\u001b[0m: [Errno 2] No such file or directory: 'results/TL_measurements/synwcmodel/synwcmodel30.npy'"
     ]
    }
   ],
   "source": [
    "WC_true = []\n",
    "\n",
    "for i in np.arange(30,361,30):\n",
    "    # Extract true water content values for the current timestep\n",
    "    true_values = np.load(\"results/TL_measurements/synwcmodel/synwcmodel\"+str(i)+\".npy\")\n",
    "      \n",
    "    # Store the true values for this timestep\n",
    "    WC_true.append(true_values)\n",
    "mesh_true = pg.load(\"results/TL_measurements/mesh.bms\")\n",
    "WC_true = np.array(WC_true)\n",
    "print(WC_true.shape)"
   ]
  },
  {
   "cell_type": "code",
   "execution_count": 5,
   "metadata": {
    "collapsed": false,
    "execution": {
     "iopub.execute_input": "2025-05-22T02:40:24.116866Z",
     "iopub.status.busy": "2025-05-22T02:40:24.116866Z",
     "iopub.status.idle": "2025-05-22T02:40:24.229806Z",
     "shell.execute_reply": "2025-05-22T02:40:24.229806Z"
    }
   },
   "outputs": [
    {
     "ename": "NameError",
     "evalue": "name 'mesh' is not defined",
     "output_type": "error",
     "traceback": [
      "\u001b[1;31m---------------------------------------------------------------------------\u001b[0m",
      "\u001b[1;31mNameError\u001b[0m                                 Traceback (most recent call last)",
      "Cell \u001b[1;32mIn[5], line 3\u001b[0m\n\u001b[0;32m      1\u001b[0m fig \u001b[38;5;241m=\u001b[39m plt\u001b[38;5;241m.\u001b[39mfigure(figsize\u001b[38;5;241m=\u001b[39m[\u001b[38;5;241m6\u001b[39m, \u001b[38;5;241m3\u001b[39m])\n\u001b[0;32m      2\u001b[0m ax \u001b[38;5;241m=\u001b[39m fig\u001b[38;5;241m.\u001b[39madd_subplot(\u001b[38;5;241m1\u001b[39m, \u001b[38;5;241m1\u001b[39m, \u001b[38;5;241m1\u001b[39m)\n\u001b[1;32m----> 3\u001b[0m ax, cbar \u001b[38;5;241m=\u001b[39m pg\u001b[38;5;241m.\u001b[39mshow(\u001b[43mmesh\u001b[49m,\n\u001b[0;32m      4\u001b[0m                 water_content_mean[:, \u001b[38;5;241m6\u001b[39m],\n\u001b[0;32m      5\u001b[0m                 pad\u001b[38;5;241m=\u001b[39m\u001b[38;5;241m0.3\u001b[39m,\n\u001b[0;32m      6\u001b[0m                 orientation\u001b[38;5;241m=\u001b[39m\u001b[38;5;124m\"\u001b[39m\u001b[38;5;124mvertical\u001b[39m\u001b[38;5;124m\"\u001b[39m,\n\u001b[0;32m      7\u001b[0m                 cMap\u001b[38;5;241m=\u001b[39mfixed_cmap,\n\u001b[0;32m      8\u001b[0m                 cMin\u001b[38;5;241m=\u001b[39m\u001b[38;5;241m0\u001b[39m,\n\u001b[0;32m      9\u001b[0m                 cMax\u001b[38;5;241m=\u001b[39m\u001b[38;5;241m0.32\u001b[39m,\n\u001b[0;32m     10\u001b[0m                 ylabel\u001b[38;5;241m=\u001b[39mylabel,\n\u001b[0;32m     11\u001b[0m                 label\u001b[38;5;241m=\u001b[39m \u001b[38;5;124m'\u001b[39m\u001b[38;5;124mWater Content (-)\u001b[39m\u001b[38;5;124m'\u001b[39m,\n\u001b[0;32m     12\u001b[0m                 ax\u001b[38;5;241m=\u001b[39max,\n\u001b[0;32m     13\u001b[0m                 logScale\u001b[38;5;241m=\u001b[39m\u001b[38;5;28;01mFalse\u001b[39;00m,\n\u001b[0;32m     14\u001b[0m                 coverage\u001b[38;5;241m=\u001b[39mcoverage[\u001b[38;5;241m6\u001b[39m,:]\u001b[38;5;241m>\u001b[39m\u001b[38;5;241m-\u001b[39m\u001b[38;5;241m1.2\u001b[39m)\n\u001b[0;32m     16\u001b[0m ax\u001b[38;5;241m.\u001b[39mplot([\u001b[38;5;241m40\u001b[39m],[\u001b[38;5;241m1607\u001b[39m],\u001b[38;5;124m'\u001b[39m\u001b[38;5;124m*\u001b[39m\u001b[38;5;124m'\u001b[39m)\n\u001b[0;32m     17\u001b[0m ax\u001b[38;5;241m.\u001b[39mplot([\u001b[38;5;241m80\u001b[39m],[\u001b[38;5;241m1621\u001b[39m],\u001b[38;5;124m'\u001b[39m\u001b[38;5;124m*\u001b[39m\u001b[38;5;124m'\u001b[39m)\n",
      "\u001b[1;31mNameError\u001b[0m: name 'mesh' is not defined"
     ]
    },
    {
     "data": {
      "image/png": "[encoded data removed]",
      "text/plain": [
       "<Figure size 600x300 with 1 Axes>"
      ]
     },
     "metadata": {},
     "output_type": "display_data"
    }
   ],
   "source": [
    "fig = plt.figure(figsize=[6, 3])\n",
    "ax = fig.add_subplot(1, 1, 1)\n",
    "ax, cbar = pg.show(mesh,\n",
    "                water_content_mean[:, 6],\n",
    "                pad=0.3,\n",
    "                orientation=\"vertical\",\n",
    "                cMap=fixed_cmap,\n",
    "                cMin=0,\n",
    "                cMax=0.32,\n",
    "                ylabel=ylabel,\n",
    "                label= 'Water Content (-)',\n",
    "                ax=ax,\n",
    "                logScale=False,\n",
    "                coverage=coverage[6,:]>-1.2)\n",
    "\n",
    "ax.plot([40],[1607],'*')\n",
    "ax.plot([80],[1621],'*')\n",
    "\n",
    "ax.plot([30],[1604],'*')\n",
    "ax.plot([65],[1608],'*')"
   ]
  },
  {
   "cell_type": "markdown",
   "metadata": {},
   "source": [
    "Modified function to extract time series based on x AND y positions\n",
    "\n"
   ]
  },
  {
   "cell_type": "code",
   "execution_count": 6,
   "metadata": {
    "collapsed": false,
    "execution": {
     "iopub.execute_input": "2025-05-22T02:40:24.235030Z",
     "iopub.status.busy": "2025-05-22T02:40:24.234021Z",
     "iopub.status.idle": "2025-05-22T02:40:24.243801Z",
     "shell.execute_reply": "2025-05-22T02:40:24.243282Z"
    }
   },
   "outputs": [],
   "source": [
    "def extract_mc_time_series(mesh, values_all, positions):\n",
    "    \"\"\"\n",
    "    Extract Monte Carlo time series at specific x,y positions\n",
    "    \n",
    "    Args:\n",
    "        mesh: PyGIMLI mesh\n",
    "        values_all: Array of all Monte Carlo realizations (n_realizations, n_cells, n_timesteps)\n",
    "        positions: List of (x,y) coordinate tuples\n",
    "        \n",
    "    Returns:\n",
    "        time_series: Array of shape (n_positions, n_realizations, n_timesteps)\n",
    "        cell_indices: List of cell indices corresponding to the positions\n",
    "    \"\"\"\n",
    "    n_realizations = values_all.shape[0]\n",
    "    n_timesteps = values_all.shape[2]\n",
    "    \n",
    "    # Find indices of cells closest to specified positions\n",
    "    cell_indices = []\n",
    "    for x_pos, y_pos in positions:\n",
    "        # Calculate distance from each cell center to the position\n",
    "        cell_centers = np.array(mesh.cellCenters())\n",
    "        distances = np.sqrt((cell_centers[:, 0] - x_pos)**2 + (cell_centers[:, 1] - y_pos)**2)\n",
    "        cell_idx = np.argmin(distances)\n",
    "        cell_indices.append(cell_idx)\n",
    "    \n",
    "    # Extract time series for each realization and position\n",
    "    time_series = np.zeros((len(positions), n_realizations, n_timesteps))\n",
    "    \n",
    "    for pos_idx, cell_idx in enumerate(cell_indices):\n",
    "        for mc_idx in range(n_realizations):\n",
    "            time_series[pos_idx, mc_idx, :] = values_all[mc_idx, cell_idx, :]\n",
    "    \n",
    "    return time_series, cell_indices\n",
    "\n",
    "\n",
    "def extract_true_values_at_positions(mesh, true_values, positions):\n",
    "    \"\"\"\n",
    "    Extract true water content values at specific x,y positions.\n",
    "    \n",
    "    Args:\n",
    "        mesh: PyGIMLI mesh\n",
    "        true_values: Array of true water content values (n_cells, n_timesteps) or (n_cells,)\n",
    "        positions: List of (x,y) coordinate tuples\n",
    "        \n",
    "    Returns:\n",
    "        true_values_at_positions: Values at each position\n",
    "        cell_indices: List of cell indices corresponding to the positions\n",
    "    \"\"\"\n",
    "    # Find indices of cells closest to specified positions\n",
    "    cell_indices = []\n",
    "    for x_pos, y_pos in positions:\n",
    "        # Calculate distance from each cell center to the position\n",
    "        cell_centers = np.array(mesh.cellCenters())\n",
    "        distances = np.sqrt((cell_centers[:, 0] - x_pos)**2 + (cell_centers[:, 1] - y_pos)**2)\n",
    "        cell_idx = np.argmin(distances)\n",
    "        cell_indices.append(cell_idx)\n",
    "    \n",
    "    # Extract true values at the specified positions\n",
    "    if true_values.ndim == 1:  # Single value per cell\n",
    "        true_values_at_positions = true_values[cell_indices]\n",
    "    elif true_values.ndim == 2:  # Time series per cell\n",
    "        true_values_at_positions = true_values[cell_indices, :]\n",
    "    else:\n",
    "        raise ValueError(\"Unexpected shape for true_values\")\n",
    "    \n",
    "    return true_values_at_positions, cell_indices"
   ]
  },
  {
   "cell_type": "code",
   "execution_count": 7,
   "metadata": {
    "collapsed": false,
    "execution": {
     "iopub.execute_input": "2025-05-22T02:40:24.246906Z",
     "iopub.status.busy": "2025-05-22T02:40:24.245833Z",
     "iopub.status.idle": "2025-05-22T02:40:24.268616Z",
     "shell.execute_reply": "2025-05-22T02:40:24.268616Z"
    }
   },
   "outputs": [
    {
     "ename": "NameError",
     "evalue": "name 'mesh' is not defined",
     "output_type": "error",
     "traceback": [
      "\u001b[1;31m---------------------------------------------------------------------------\u001b[0m",
      "\u001b[1;31mNameError\u001b[0m                                 Traceback (most recent call last)",
      "Cell \u001b[1;32mIn[7], line 8\u001b[0m\n\u001b[0;32m      2\u001b[0m positions \u001b[38;5;241m=\u001b[39m [\n\u001b[0;32m      3\u001b[0m     (\u001b[38;5;241m80\u001b[39m, \u001b[38;5;241m1621\u001b[39m),  \u001b[38;5;66;03m# Example coordinates, adjust based on your model\u001b[39;00m\n\u001b[0;32m      4\u001b[0m     (\u001b[38;5;241m40\u001b[39m, \u001b[38;5;241m1607\u001b[39m),\n\u001b[0;32m      5\u001b[0m ]\n\u001b[0;32m      7\u001b[0m \u001b[38;5;66;03m# Extract time series data for these positions\u001b[39;00m\n\u001b[1;32m----> 8\u001b[0m time_series_data, cell_indices \u001b[38;5;241m=\u001b[39m extract_mc_time_series(\u001b[43mmesh\u001b[49m, water_content_all, positions)\n\u001b[0;32m      9\u001b[0m Pos1_true, _ \u001b[38;5;241m=\u001b[39m extract_true_values_at_positions(mesh_true, WC_true\u001b[38;5;241m.\u001b[39mT, positions)\n\u001b[0;32m     10\u001b[0m Pos1_true\n",
      "\u001b[1;31mNameError\u001b[0m: name 'mesh' is not defined"
     ]
    }
   ],
   "source": [
    "# Define positions to sample (x,y coordinates)\n",
    "positions = [\n",
    "    (80, 1621),  # Example coordinates, adjust based on your model\n",
    "    (40, 1607),\n",
    "]\n",
    "\n",
    "# Extract time series data for these positions\n",
    "time_series_data, cell_indices = extract_mc_time_series(mesh, water_content_all, positions)\n",
    "Pos1_true, _ = extract_true_values_at_positions(mesh_true, WC_true.T, positions)\n",
    "Pos1_true"
   ]
  },
  {
   "cell_type": "markdown",
   "metadata": {},
   "source": [
    "Plot time series with uncertainty bands\n",
    "\n"
   ]
  },
  {
   "cell_type": "code",
   "execution_count": 8,
   "metadata": {
    "collapsed": false,
    "execution": {
     "iopub.execute_input": "2025-05-22T02:40:24.272690Z",
     "iopub.status.busy": "2025-05-22T02:40:24.271681Z",
     "iopub.status.idle": "2025-05-22T02:40:24.306696Z",
     "shell.execute_reply": "2025-05-22T02:40:24.306696Z"
    }
   },
   "outputs": [
    {
     "ename": "NameError",
     "evalue": "name 'time_series_data' is not defined",
     "output_type": "error",
     "traceback": [
      "\u001b[1;31m---------------------------------------------------------------------------\u001b[0m",
      "\u001b[1;31mNameError\u001b[0m                                 Traceback (most recent call last)",
      "Cell \u001b[1;32mIn[8], line 7\u001b[0m\n\u001b[0;32m      3\u001b[0m measurement_times \u001b[38;5;241m=\u001b[39m np\u001b[38;5;241m.\u001b[39marange(\u001b[38;5;241m30\u001b[39m,\u001b[38;5;241m361\u001b[39m,\u001b[38;5;241m30\u001b[39m)  \u001b[38;5;66;03m# Assuming sequential timesteps\u001b[39;00m\n\u001b[0;32m      6\u001b[0m \u001b[38;5;66;03m# Calculate statistics\u001b[39;00m\n\u001b[1;32m----> 7\u001b[0m mean_ts \u001b[38;5;241m=\u001b[39m np\u001b[38;5;241m.\u001b[39mmean(\u001b[43mtime_series_data\u001b[49m[\u001b[38;5;241m0\u001b[39m], axis\u001b[38;5;241m=\u001b[39m\u001b[38;5;241m0\u001b[39m)\n\u001b[0;32m      8\u001b[0m std_ts \u001b[38;5;241m=\u001b[39m np\u001b[38;5;241m.\u001b[39mstd(time_series_data[\u001b[38;5;241m0\u001b[39m], axis\u001b[38;5;241m=\u001b[39m\u001b[38;5;241m0\u001b[39m)\n\u001b[0;32m     10\u001b[0m plt\u001b[38;5;241m.\u001b[39msubplot(\u001b[38;5;241m1\u001b[39m, \u001b[38;5;241m2\u001b[39m, \u001b[38;5;241m1\u001b[39m)\n",
      "\u001b[1;31mNameError\u001b[0m: name 'time_series_data' is not defined"
     ]
    },
    {
     "data": {
      "text/plain": [
       "<Figure size 1200x300 with 0 Axes>"
      ]
     },
     "metadata": {},
     "output_type": "display_data"
    }
   ],
   "source": [
    "plt.figure(figsize=(12, 3))\n",
    "\n",
    "measurement_times = np.arange(30,361,30)  # Assuming sequential timesteps\n",
    "\n",
    "\n",
    "# Calculate statistics\n",
    "mean_ts = np.mean(time_series_data[0], axis=0)\n",
    "std_ts = np.std(time_series_data[0], axis=0)\n",
    "\n",
    "plt.subplot(1, 2, 1)\n",
    "plt.plot(measurement_times, mean_ts, 'o-', color='tab:blue', label='Estimated')\n",
    "plt.fill_between(measurement_times, mean_ts-std_ts, mean_ts+std_ts, color='tab:blue', alpha=0.2)\n",
    "plt.plot(measurement_times,Pos1_true[0, :], 'tab:blue',ls='--', label='True')\n",
    "plt.grid(True)\n",
    "plt.legend(frameon=False)\n",
    "plt.xlabel('Time (Days)')\n",
    "plt.ylabel('Water Content (-)')\n",
    "plt.ylim(0, 0.35)\n",
    "plt.subplot(1, 2, 2)\n",
    "mean_ts = np.mean(time_series_data[1], axis=0)\n",
    "std_ts = np.std(time_series_data[1], axis=0)\n",
    "plt.plot(measurement_times, mean_ts, 'o-', color='tab:blue',)\n",
    "plt.fill_between(measurement_times, mean_ts-std_ts, mean_ts+std_ts, color='tab:blue', alpha=0.2)\n",
    "plt.plot(measurement_times,Pos1_true[1, :], 'tab:blue',ls='--')\n",
    "plt.xlabel('Time (Days)')\n",
    "plt.ylabel('Water Content (-)')\n",
    "plt.ylim(0, 0.35)\n",
    "# plt.legend()\n",
    "plt.grid(True)\n",
    "plt.tight_layout()\n",
    "plt.savefig(\"results/Structure_WC/regolith_WC.tiff\", dpi=300, bbox_inches='tight')"
   ]
  },
  {
   "cell_type": "markdown",
   "metadata": {},
   "source": [
    "## Fractured bedrock layer\n",
    "\n"
   ]
  },
  {
   "cell_type": "code",
   "execution_count": 9,
   "metadata": {
    "collapsed": false,
    "execution": {
     "iopub.execute_input": "2025-05-22T02:40:24.311834Z",
     "iopub.status.busy": "2025-05-22T02:40:24.311182Z",
     "iopub.status.idle": "2025-05-22T02:40:24.329810Z",
     "shell.execute_reply": "2025-05-22T02:40:24.329810Z"
    }
   },
   "outputs": [
    {
     "ename": "NameError",
     "evalue": "name 'mesh' is not defined",
     "output_type": "error",
     "traceback": [
      "\u001b[1;31m---------------------------------------------------------------------------\u001b[0m",
      "\u001b[1;31mNameError\u001b[0m                                 Traceback (most recent call last)",
      "Cell \u001b[1;32mIn[9], line 8\u001b[0m\n\u001b[0;32m      2\u001b[0m positions \u001b[38;5;241m=\u001b[39m [\n\u001b[0;32m      3\u001b[0m     (\u001b[38;5;241m30\u001b[39m, \u001b[38;5;241m1604\u001b[39m),  \u001b[38;5;66;03m# Example coordinates, adjust based on your model\u001b[39;00m\n\u001b[0;32m      4\u001b[0m     (\u001b[38;5;241m65\u001b[39m, \u001b[38;5;241m1608\u001b[39m),\n\u001b[0;32m      5\u001b[0m ]\n\u001b[0;32m      7\u001b[0m \u001b[38;5;66;03m# Extract time series data for these positions\u001b[39;00m\n\u001b[1;32m----> 8\u001b[0m time_series_data2, cell_indices \u001b[38;5;241m=\u001b[39m extract_mc_time_series(\u001b[43mmesh\u001b[49m, water_content_all, positions)\n\u001b[0;32m      9\u001b[0m Pos2_true, _ \u001b[38;5;241m=\u001b[39m extract_true_values_at_positions(mesh_true, WC_true\u001b[38;5;241m.\u001b[39mT, positions)\n\u001b[0;32m     10\u001b[0m Pos2_true\n",
      "\u001b[1;31mNameError\u001b[0m: name 'mesh' is not defined"
     ]
    }
   ],
   "source": [
    "# Define positions to sample (x,y coordinates)\n",
    "positions = [\n",
    "    (30, 1604),  # Example coordinates, adjust based on your model\n",
    "    (65, 1608),\n",
    "]\n",
    "\n",
    "# Extract time series data for these positions\n",
    "time_series_data2, cell_indices = extract_mc_time_series(mesh, water_content_all, positions)\n",
    "Pos2_true, _ = extract_true_values_at_positions(mesh_true, WC_true.T, positions)\n",
    "Pos2_true"
   ]
  },
  {
   "cell_type": "markdown",
   "metadata": {},
   "source": [
    "Plot time series with uncertainty bands\n",
    "\n"
   ]
  },
  {
   "cell_type": "code",
   "execution_count": 10,
   "metadata": {
    "collapsed": false,
    "execution": {
     "iopub.execute_input": "2025-05-22T02:40:24.333084Z",
     "iopub.status.busy": "2025-05-22T02:40:24.333084Z",
     "iopub.status.idle": "2025-05-22T02:40:24.366576Z",
     "shell.execute_reply": "2025-05-22T02:40:24.366029Z"
    }
   },
   "outputs": [
    {
     "ename": "NameError",
     "evalue": "name 'time_series_data2' is not defined",
     "output_type": "error",
     "traceback": [
      "\u001b[1;31m---------------------------------------------------------------------------\u001b[0m",
      "\u001b[1;31mNameError\u001b[0m                                 Traceback (most recent call last)",
      "Cell \u001b[1;32mIn[10], line 7\u001b[0m\n\u001b[0;32m      3\u001b[0m measurement_times \u001b[38;5;241m=\u001b[39m np\u001b[38;5;241m.\u001b[39marange(\u001b[38;5;241m30\u001b[39m,\u001b[38;5;241m361\u001b[39m,\u001b[38;5;241m30\u001b[39m)  \u001b[38;5;66;03m# Assuming sequential timesteps\u001b[39;00m\n\u001b[0;32m      6\u001b[0m \u001b[38;5;66;03m# Calculate statistics\u001b[39;00m\n\u001b[1;32m----> 7\u001b[0m mean_ts \u001b[38;5;241m=\u001b[39m np\u001b[38;5;241m.\u001b[39mmean(\u001b[43mtime_series_data2\u001b[49m[\u001b[38;5;241m0\u001b[39m], axis\u001b[38;5;241m=\u001b[39m\u001b[38;5;241m0\u001b[39m)\n\u001b[0;32m      8\u001b[0m std_ts \u001b[38;5;241m=\u001b[39m np\u001b[38;5;241m.\u001b[39mstd(time_series_data2[\u001b[38;5;241m0\u001b[39m], axis\u001b[38;5;241m=\u001b[39m\u001b[38;5;241m0\u001b[39m)\n\u001b[0;32m     10\u001b[0m plt\u001b[38;5;241m.\u001b[39msubplot(\u001b[38;5;241m1\u001b[39m, \u001b[38;5;241m2\u001b[39m, \u001b[38;5;241m1\u001b[39m)\n",
      "\u001b[1;31mNameError\u001b[0m: name 'time_series_data2' is not defined"
     ]
    },
    {
     "data": {
      "text/plain": [
       "<Figure size 1200x300 with 0 Axes>"
      ]
     },
     "metadata": {},
     "output_type": "display_data"
    }
   ],
   "source": [
    "plt.figure(figsize=(12, 3))\n",
    "\n",
    "measurement_times = np.arange(30,361,30)  # Assuming sequential timesteps\n",
    "\n",
    "\n",
    "# Calculate statistics\n",
    "mean_ts = np.mean(time_series_data2[0], axis=0)\n",
    "std_ts = np.std(time_series_data2[0], axis=0)\n",
    "\n",
    "plt.subplot(1, 2, 1)\n",
    "plt.plot(measurement_times, mean_ts, 'o-', color='tab:brown', label='Estimated')\n",
    "plt.fill_between(measurement_times, mean_ts-std_ts, mean_ts+std_ts, color='tab:brown', alpha=0.2)\n",
    "plt.plot(measurement_times,Pos2_true[0, :], 'tab:brown',ls='--', label='True')\n",
    "plt.grid(True)\n",
    "#plt.legend(frameon=False)\n",
    "plt.xlabel('Time (Days)')\n",
    "plt.ylabel('Water Content (-)')\n",
    "plt.ylim(0, 0.35)\n",
    "plt.subplot(1, 2, 2)\n",
    "mean_ts = np.mean(time_series_data2[1], axis=0)\n",
    "std_ts = np.std(time_series_data2[1], axis=0)\n",
    "plt.plot(measurement_times, mean_ts, 'o-', color='tab:brown',)\n",
    "plt.fill_between(measurement_times, mean_ts-std_ts, mean_ts+std_ts, color='tab:brown', alpha=0.2)\n",
    "plt.plot(measurement_times,Pos2_true[1, :], 'tab:brown',ls='--')\n",
    "plt.xlabel('Time (Days)')\n",
    "plt.ylabel('Water Content (-)')\n",
    "plt.ylim(0, 0.35)\n",
    "# plt.legend()\n",
    "plt.grid(True)\n",
    "plt.tight_layout()\n",
    "\n",
    "plt.savefig(\"results/Structure_WC/Fracture_WC.tiff\", dpi=300, bbox_inches='tight')"
   ]
  }
 ],
 "metadata": {
  "kernelspec": {
   "display_name": "Python 3",
   "language": "python",
   "name": "python3"
  },
  "language_info": {
   "codemirror_mode": {
    "name": "ipython",
    "version": 3
   },
   "file_extension": ".py",
   "mimetype": "text/x-python",
   "name": "python",
   "nbconvert_exporter": "python",
   "pygments_lexer": "ipython3",
   "version": "3.11.8"
  }
 },
 "nbformat": 4,
 "nbformat_minor": 0
}
