{
 "cells": [
  {
   "cell_type": "markdown",
   "metadata": {},
   "source": [
    "\n",
    "# Ex 7. Structure-Constrained Time-Lapse Resistivity Inversion\n",
    "\n",
    "This example combines structural constraints with time-lapse ERT inversion\n",
    "to monitor water content changes in layered geological media.\n",
    "\n",
    "The workflow demonstrates:\n",
    "1. Loading meshes with geological structure from seismic interpretation\n",
    "2. Time-lapse ERT inversion with structural constraints\n",
    "3. Converting resistivity to water content using layer-specific petrophysics\n",
    "4. Uncertainty quantification through Monte Carlo analysis\n",
    "5. Time series analysis of water content at specific locations\n",
    "\n",
    "This advanced approach provides the most reliable estimates of subsurface\n",
    "water content evolution by combining temporal, spatial, and geological\n",
    "constraints in the inversion process.\n"
   ]
  },
  {
   "cell_type": "code",
   "execution_count": 1,
   "metadata": {
    "collapsed": false,
    "execution": {
     "iopub.execute_input": "2025-05-22T05:55:29.889249Z",
     "iopub.status.busy": "2025-05-22T05:55:29.888739Z",
     "iopub.status.idle": "2025-05-22T05:55:32.100044Z",
     "shell.execute_reply": "2025-05-22T05:55:32.100044Z"
    }
   },
   "outputs": [],
   "source": [
    "import os\n",
    "import sys\n",
    "import numpy as np\n",
    "import matplotlib.pyplot as plt\n",
    "import pygimli as pg\n",
    "from pygimli.physics import ert\n",
    "from mpl_toolkits.axes_grid1 import make_axes_locatable\n",
    "\n",
    "# Setup package path for development\n",
    "try:\n",
    "    # For regular Python scripts\n",
    "    current_dir = os.path.dirname(os.path.abspath(__file__))\n",
    "except NameError:\n",
    "    # For Jupyter notebooks\n",
    "    current_dir = os.getcwd()\n",
    "\n",
    "# Add the parent directory to Python path\n",
    "parent_dir = os.path.dirname(current_dir)\n",
    "if parent_dir not in sys.path:\n",
    "    sys.path.append(parent_dir)\n",
    "\n",
    "# Import PyHydroGeophysX modules\n",
    "from PyHydroGeophysX.inversion.time_lapse import TimeLapseERTInversion\n",
    "from PyHydroGeophysX.inversion.windowed import WindowedTimeLapseERTInversion"
   ]
  },
  {
   "cell_type": "code",
   "execution_count": 2,
   "metadata": {
    "collapsed": false,
    "execution": {
     "iopub.execute_input": "2025-05-22T05:55:32.103063Z",
     "iopub.status.busy": "2025-05-22T05:55:32.103063Z",
     "iopub.status.idle": "2025-05-22T05:55:32.898008Z",
     "shell.execute_reply": "2025-05-22T05:55:32.898008Z"
    }
   },
   "outputs": [
    {
     "ename": "Exception",
     "evalue": "File or directory named results/TL_measurements/appres\\synthetic_data30.dat does not exist.",
     "output_type": "error",
     "traceback": [
      "\u001b[1;31m---------------------------------------------------------------------------\u001b[0m",
      "\u001b[1;31mException\u001b[0m                                 Traceback (most recent call last)",
      "Cell \u001b[1;32mIn[2], line 28\u001b[0m\n\u001b[0;32m     25\u001b[0m measurement_times \u001b[38;5;241m=\u001b[39m [\u001b[38;5;241m1\u001b[39m, \u001b[38;5;241m2\u001b[39m, \u001b[38;5;241m3\u001b[39m, \u001b[38;5;241m4\u001b[39m, \u001b[38;5;241m5\u001b[39m, \u001b[38;5;241m6\u001b[39m, \u001b[38;5;241m7\u001b[39m, \u001b[38;5;241m8\u001b[39m, \u001b[38;5;241m9\u001b[39m, \u001b[38;5;241m10\u001b[39m, \u001b[38;5;241m11\u001b[39m, \u001b[38;5;241m12\u001b[39m]  \u001b[38;5;66;03m# Adjust based on your actual acquisition times\u001b[39;00m\n\u001b[0;32m     27\u001b[0m \u001b[38;5;66;03m# Create a mesh for the inversion (or load an existing one)\u001b[39;00m\n\u001b[1;32m---> 28\u001b[0m data \u001b[38;5;241m=\u001b[39m \u001b[43mert\u001b[49m\u001b[38;5;241;43m.\u001b[39;49m\u001b[43mload\u001b[49m\u001b[43m(\u001b[49m\u001b[43mos\u001b[49m\u001b[38;5;241;43m.\u001b[39;49m\u001b[43mpath\u001b[49m\u001b[38;5;241;43m.\u001b[39;49m\u001b[43mjoin\u001b[49m\u001b[43m(\u001b[49m\u001b[43mdata_dir\u001b[49m\u001b[43m,\u001b[49m\u001b[43m \u001b[49m\u001b[43mert_files\u001b[49m\u001b[43m[\u001b[49m\u001b[38;5;241;43m0\u001b[39;49m\u001b[43m]\u001b[49m\u001b[43m)\u001b[49m\u001b[43m)\u001b[49m\n\u001b[0;32m     29\u001b[0m ert_manager \u001b[38;5;241m=\u001b[39m ert\u001b[38;5;241m.\u001b[39mERTManager(data)\n\u001b[0;32m     30\u001b[0m mesh_with_interface \u001b[38;5;241m=\u001b[39m pg\u001b[38;5;241m.\u001b[39mload(\u001b[38;5;124m\"\u001b[39m\u001b[38;5;124mC:/Users/HChen8/Documents/GitHub/PyHydroGeophysX/examples/results/Structure_WC/mesh_with_interface.bms\u001b[39m\u001b[38;5;124m\"\u001b[39m)\n",
      "File \u001b[1;32m~\\anaconda3\\envs\\pg\\Lib\\site-packages\\pygimli\\physics\\ert\\importData.py:26\u001b[0m, in \u001b[0;36mload\u001b[1;34m(fileName, verbose, **kwargs)\u001b[0m\n\u001b[0;32m      7\u001b[0m \u001b[38;5;28;01mdef\u001b[39;00m \u001b[38;5;21mload\u001b[39m(fileName, verbose\u001b[38;5;241m=\u001b[39m\u001b[38;5;28;01mFalse\u001b[39;00m, \u001b[38;5;241m*\u001b[39m\u001b[38;5;241m*\u001b[39mkwargs):\n\u001b[0;32m      8\u001b[0m \u001b[38;5;250m    \u001b[39m\u001b[38;5;124;03m\"\"\"Shortcut to load ERT data.\u001b[39;00m\n\u001b[0;32m      9\u001b[0m \n\u001b[0;32m     10\u001b[0m \u001b[38;5;124;03m    Import Data and try to assume the file format.\u001b[39;00m\n\u001b[1;32m   (...)\u001b[0m\n\u001b[0;32m     24\u001b[0m \n\u001b[0;32m     25\u001b[0m \u001b[38;5;124;03m    \"\"\"\u001b[39;00m\n\u001b[1;32m---> 26\u001b[0m     data \u001b[38;5;241m=\u001b[39m \u001b[43mpg\u001b[49m\u001b[38;5;241;43m.\u001b[39;49m\u001b[43mload\u001b[49m\u001b[43m(\u001b[49m\u001b[43mfileName\u001b[49m\u001b[43m)\u001b[49m\n\u001b[0;32m     27\u001b[0m     \u001b[38;5;28;01mif\u001b[39;00m \u001b[38;5;28misinstance\u001b[39m(data, pg\u001b[38;5;241m.\u001b[39mDataContainerERT):\n\u001b[0;32m     28\u001b[0m         \u001b[38;5;28;01mreturn\u001b[39;00m data\n",
      "File \u001b[1;32m~\\anaconda3\\envs\\pg\\Lib\\site-packages\\pygimli\\core\\load.py:166\u001b[0m, in \u001b[0;36mload\u001b[1;34m(fname, verbose, testAll, realName)\u001b[0m\n\u001b[0;32m    163\u001b[0m     \u001b[38;5;28;01mreturn\u001b[39;00m getExampleData(fname)\n\u001b[0;32m    165\u001b[0m \u001b[38;5;28;01mif\u001b[39;00m \u001b[38;5;129;01mnot\u001b[39;00m os\u001b[38;5;241m.\u001b[39mpath\u001b[38;5;241m.\u001b[39mexists(fname):\n\u001b[1;32m--> 166\u001b[0m     \u001b[38;5;28;01mraise\u001b[39;00m \u001b[38;5;167;01mException\u001b[39;00m(\u001b[38;5;124m\"\u001b[39m\u001b[38;5;124mFile or directory named \u001b[39m\u001b[38;5;132;01m%s\u001b[39;00m\u001b[38;5;124m does not exist.\u001b[39m\u001b[38;5;124m\"\u001b[39m \u001b[38;5;241m%\u001b[39m (fname))\n\u001b[0;32m    168\u001b[0m \u001b[38;5;66;03m# recursive function call if fname is a folder of files\u001b[39;00m\n\u001b[0;32m    169\u001b[0m \u001b[38;5;28;01mif\u001b[39;00m os\u001b[38;5;241m.\u001b[39mpath\u001b[38;5;241m.\u001b[39misdir(fname):\n",
      "\u001b[1;31mException\u001b[0m: File or directory named results/TL_measurements/appres\\synthetic_data30.dat does not exist."
     ]
    }
   ],
   "source": [
    "data_dir = \"results/TL_measurements/appres\"\n",
    "\n",
    "# List of ERT data files testing monthly time-lapse inversion\n",
    "ert_files = [\n",
    "    \"synthetic_data30.dat\",\n",
    "    \"synthetic_data60.dat\",\n",
    "    \"synthetic_data90.dat\",\n",
    "    \"synthetic_data120.dat\",\n",
    "    \"synthetic_data150.dat\",\n",
    "    \"synthetic_data180.dat\",\n",
    "    \"synthetic_data210.dat\",\n",
    "    \"synthetic_data240.dat\",\n",
    "    \"synthetic_data270.dat\",\n",
    "    \"synthetic_data300.dat\",\n",
    "    \"synthetic_data330.dat\",\n",
    "    \"synthetic_data360.dat\",\n",
    "]\n",
    "\n",
    "\n",
    "# Full paths to data files\n",
    "data_files = [os.path.join(data_dir, f) for f in ert_files]\n",
    "\n",
    "# Measurement times (can be timestamps or any sequential numbers representing time)\n",
    "# Measurement times (can be timestamps or any sequential numbers representing time)\n",
    "measurement_times = [1, 2, 3, 4, 5, 6, 7, 8, 9, 10, 11, 12]  # Adjust based on your actual acquisition times\n",
    "\n",
    "# Create a mesh for the inversion (or load an existing one)\n",
    "data = ert.load(os.path.join(data_dir, ert_files[0]))\n",
    "ert_manager = ert.ERTManager(data)\n",
    "mesh_with_interface = pg.load(\"C:/Users/HChen8/Documents/GitHub/PyHydroGeophysX/examples/results/Structure_WC/mesh_with_interface.bms\")"
   ]
  },
  {
   "cell_type": "code",
   "execution_count": 3,
   "metadata": {
    "collapsed": false,
    "execution": {
     "iopub.execute_input": "2025-05-22T05:55:32.900028Z",
     "iopub.status.busy": "2025-05-22T05:55:32.900028Z",
     "iopub.status.idle": "2025-05-22T05:55:32.916105Z",
     "shell.execute_reply": "2025-05-22T05:55:32.916105Z"
    }
   },
   "outputs": [
    {
     "ename": "NameError",
     "evalue": "name 'mesh_with_interface' is not defined",
     "output_type": "error",
     "traceback": [
      "\u001b[1;31m---------------------------------------------------------------------------\u001b[0m",
      "\u001b[1;31mNameError\u001b[0m                                 Traceback (most recent call last)",
      "Cell \u001b[1;32mIn[3], line 25\u001b[0m\n\u001b[0;32m     17\u001b[0m window_size \u001b[38;5;241m=\u001b[39m \u001b[38;5;241m3\u001b[39m  \u001b[38;5;66;03m# A window size of 3 means each window includes 3 consecutive measurements\u001b[39;00m\n\u001b[0;32m     19\u001b[0m \u001b[38;5;66;03m# Create the windowed time-lapse inversion object\u001b[39;00m\n\u001b[0;32m     20\u001b[0m inversion \u001b[38;5;241m=\u001b[39m WindowedTimeLapseERTInversion(\n\u001b[0;32m     21\u001b[0m     data_dir\u001b[38;5;241m=\u001b[39mdata_dir,               \u001b[38;5;66;03m# Directory containing ERT data files\u001b[39;00m\n\u001b[0;32m     22\u001b[0m     ert_files\u001b[38;5;241m=\u001b[39mert_files,             \u001b[38;5;66;03m# List of ERT data filenames\u001b[39;00m\n\u001b[0;32m     23\u001b[0m     measurement_times\u001b[38;5;241m=\u001b[39mmeasurement_times,  \u001b[38;5;66;03m# List of measurement times\u001b[39;00m\n\u001b[0;32m     24\u001b[0m     window_size\u001b[38;5;241m=\u001b[39mwindow_size,         \u001b[38;5;66;03m# Size of sliding window\u001b[39;00m\n\u001b[1;32m---> 25\u001b[0m     mesh\u001b[38;5;241m=\u001b[39m\u001b[43mmesh_with_interface\u001b[49m,                       \u001b[38;5;66;03m# Mesh for inversion\u001b[39;00m\n\u001b[0;32m     26\u001b[0m     \u001b[38;5;241m*\u001b[39m\u001b[38;5;241m*\u001b[39minversion_params               \u001b[38;5;66;03m# Pass the same inversion parameters\u001b[39;00m\n\u001b[0;32m     27\u001b[0m )\n\u001b[0;32m     29\u001b[0m \u001b[38;5;66;03m# Run the inversion, optionally in parallel\u001b[39;00m\n\u001b[0;32m     30\u001b[0m \u001b[38;5;28mprint\u001b[39m(\u001b[38;5;124m\"\u001b[39m\u001b[38;5;124mStarting windowed time-lapse inversion...\u001b[39m\u001b[38;5;124m\"\u001b[39m)\n",
      "\u001b[1;31mNameError\u001b[0m: name 'mesh_with_interface' is not defined"
     ]
    }
   ],
   "source": [
    "# Set up inversion parameters\n",
    "inversion_params = {\n",
    "    \"lambda_val\": 10.0,              # Regularization parameter\n",
    "    \"alpha\": 10.0,                   # Temporal regularization parameter\n",
    "    \"decay_rate\": 0.0,               # Temporal decay rate\n",
    "    \"method\": \"cgls\",                # Solver method ('cgls', 'lsqr', etc.)\n",
    "    \"model_constraints\": (0.001, 1e4), # Min/max resistivity values (ohm-m)\n",
    "    \"max_iterations\": 15,            # Maximum iterations\n",
    "    \"absoluteUError\": 0.0,           # Absolute data error (V)\n",
    "    \"relativeError\": 0.05,           # Relative data error (5%)\n",
    "    \"lambda_rate\": 1.0,              # Lambda reduction rate\n",
    "    \"lambda_min\": 1.0,               # Minimum lambda value\n",
    "    \"inversion_type\": \"L2\"           # 'L1', 'L2', or 'L1L2'\n",
    "}\n",
    "\n",
    "# Define the window size (number of timesteps to process together)\n",
    "window_size = 3  # A window size of 3 means each window includes 3 consecutive measurements\n",
    "\n",
    "# Create the windowed time-lapse inversion object\n",
    "inversion = WindowedTimeLapseERTInversion(\n",
    "    data_dir=data_dir,               # Directory containing ERT data files\n",
    "    ert_files=ert_files,             # List of ERT data filenames\n",
    "    measurement_times=measurement_times,  # List of measurement times\n",
    "    window_size=window_size,         # Size of sliding window\n",
    "    mesh=mesh_with_interface,                       # Mesh for inversion\n",
    "    **inversion_params               # Pass the same inversion parameters\n",
    ")\n",
    "\n",
    "# Run the inversion, optionally in parallel\n",
    "print(\"Starting windowed time-lapse inversion...\")\n",
    "result = inversion.run()\n",
    "print(\"Inversion complete!\")"
   ]
  },
  {
   "cell_type": "code",
   "execution_count": 4,
   "metadata": {
    "collapsed": false,
    "execution": {
     "iopub.execute_input": "2025-05-22T05:55:32.918123Z",
     "iopub.status.busy": "2025-05-22T05:55:32.918123Z",
     "iopub.status.idle": "2025-05-22T05:55:32.931253Z",
     "shell.execute_reply": "2025-05-22T05:55:32.930741Z"
    }
   },
   "outputs": [
    {
     "ename": "NameError",
     "evalue": "name 'result' is not defined",
     "output_type": "error",
     "traceback": [
      "\u001b[1;31m---------------------------------------------------------------------------\u001b[0m",
      "\u001b[1;31mNameError\u001b[0m                                 Traceback (most recent call last)",
      "Cell \u001b[1;32mIn[4], line 1\u001b[0m\n\u001b[1;32m----> 1\u001b[0m result\u001b[38;5;241m.\u001b[39mfinal_models \u001b[38;5;241m=\u001b[39m np\u001b[38;5;241m.\u001b[39marray(\u001b[43mresult\u001b[49m\u001b[38;5;241m.\u001b[39mfinal_models)\n\u001b[0;32m      2\u001b[0m result\u001b[38;5;241m.\u001b[39mfinal_models\u001b[38;5;241m.\u001b[39mshape\n\u001b[0;32m      3\u001b[0m result\u001b[38;5;241m.\u001b[39mall_coverage \u001b[38;5;241m=\u001b[39m np\u001b[38;5;241m.\u001b[39marray(result\u001b[38;5;241m.\u001b[39mall_coverage)\n",
      "\u001b[1;31mNameError\u001b[0m: name 'result' is not defined"
     ]
    }
   ],
   "source": [
    "result.final_models = np.array(result.final_models)\n",
    "result.final_models.shape\n",
    "result.all_coverage = np.array(result.all_coverage)\n",
    "result.all_coverage.shape"
   ]
  },
  {
   "cell_type": "code",
   "execution_count": 5,
   "metadata": {
    "collapsed": false,
    "execution": {
     "iopub.execute_input": "2025-05-22T05:55:32.932854Z",
     "iopub.status.busy": "2025-05-22T05:55:32.932854Z",
     "iopub.status.idle": "2025-05-22T05:55:32.948724Z",
     "shell.execute_reply": "2025-05-22T05:55:32.948217Z"
    }
   },
   "outputs": [
    {
     "ename": "NameError",
     "evalue": "name 'result' is not defined",
     "output_type": "error",
     "traceback": [
      "\u001b[1;31m---------------------------------------------------------------------------\u001b[0m",
      "\u001b[1;31mNameError\u001b[0m                                 Traceback (most recent call last)",
      "Cell \u001b[1;32mIn[5], line 1\u001b[0m\n\u001b[1;32m----> 1\u001b[0m np\u001b[38;5;241m.\u001b[39msave(\u001b[38;5;124m\"\u001b[39m\u001b[38;5;124mC:/Users/HChen8/Documents/GitHub/PyHydroGeophysX/examples/results/Structure_WC/resmodel.npy\u001b[39m\u001b[38;5;124m\"\u001b[39m, \u001b[43mresult\u001b[49m\u001b[38;5;241m.\u001b[39mfinal_models[result\u001b[38;5;241m.\u001b[39mmesh\u001b[38;5;241m.\u001b[39mcellMarkers(),:])\n\u001b[0;32m      2\u001b[0m np\u001b[38;5;241m.\u001b[39msave(\u001b[38;5;124m\"\u001b[39m\u001b[38;5;124mC:/Users/HChen8/Documents/GitHub/PyHydroGeophysX/examples/results/Structure_WC/all_coverage.npy\u001b[39m\u001b[38;5;124m\"\u001b[39m, result\u001b[38;5;241m.\u001b[39mall_coverage[:,result\u001b[38;5;241m.\u001b[39mmesh\u001b[38;5;241m.\u001b[39mcellMarkers()])\n\u001b[0;32m      3\u001b[0m result\u001b[38;5;241m.\u001b[39mmesh\u001b[38;5;241m.\u001b[39msave(\u001b[38;5;124m\"\u001b[39m\u001b[38;5;124mC:/Users/HChen8/Documents/GitHub/PyHydroGeophysX/examples/results/Structure_WC/mesh_res.bms\u001b[39m\u001b[38;5;124m\"\u001b[39m)\n",
      "\u001b[1;31mNameError\u001b[0m: name 'result' is not defined"
     ]
    }
   ],
   "source": [
    "np.save(\"C:/Users/HChen8/Documents/GitHub/PyHydroGeophysX/examples/results/Structure_WC/resmodel.npy\", result.final_models[result.mesh.cellMarkers(),:])\n",
    "np.save(\"C:/Users/HChen8/Documents/GitHub/PyHydroGeophysX/examples/results/Structure_WC/all_coverage.npy\", result.all_coverage[:,result.mesh.cellMarkers()])\n",
    "result.mesh.save(\"C:/Users/HChen8/Documents/GitHub/PyHydroGeophysX/examples/results/Structure_WC/mesh_res.bms\")"
   ]
  },
  {
   "cell_type": "code",
   "execution_count": 6,
   "metadata": {
    "collapsed": false,
    "execution": {
     "iopub.execute_input": "2025-05-22T05:55:32.950742Z",
     "iopub.status.busy": "2025-05-22T05:55:32.950235Z",
     "iopub.status.idle": "2025-05-22T05:55:33.129216Z",
     "shell.execute_reply": "2025-05-22T05:55:33.128697Z"
    }
   },
   "outputs": [
    {
     "ename": "NameError",
     "evalue": "name 'result' is not defined",
     "output_type": "error",
     "traceback": [
      "\u001b[1;31m---------------------------------------------------------------------------\u001b[0m",
      "\u001b[1;31mNameError\u001b[0m                                 Traceback (most recent call last)",
      "Cell \u001b[1;32mIn[6], line 43\u001b[0m\n\u001b[0;32m     40\u001b[0m     ax\u001b[38;5;241m.\u001b[39mset_xlabel(\u001b[38;5;124m\"\u001b[39m\u001b[38;5;124mDistance (m)\u001b[39m\u001b[38;5;124m\"\u001b[39m)\n\u001b[0;32m     42\u001b[0m \u001b[38;5;66;03m# Create the plot\u001b[39;00m\n\u001b[1;32m---> 43\u001b[0m ax, cbar \u001b[38;5;241m=\u001b[39m pg\u001b[38;5;241m.\u001b[39mshow(\u001b[43mresult\u001b[49m\u001b[38;5;241m.\u001b[39mmesh,\n\u001b[0;32m     44\u001b[0m                   result\u001b[38;5;241m.\u001b[39mfinal_models[:,i][result\u001b[38;5;241m.\u001b[39mmesh\u001b[38;5;241m.\u001b[39mcellMarkers()],\n\u001b[0;32m     45\u001b[0m                   pad\u001b[38;5;241m=\u001b[39m\u001b[38;5;241m0.3\u001b[39m,\n\u001b[0;32m     46\u001b[0m                   orientation\u001b[38;5;241m=\u001b[39m\u001b[38;5;124m\"\u001b[39m\u001b[38;5;124mvertical\u001b[39m\u001b[38;5;124m\"\u001b[39m,\n\u001b[0;32m     47\u001b[0m                   cMap\u001b[38;5;241m=\u001b[39mfixed_cmap,\n\u001b[0;32m     48\u001b[0m                   cMin\u001b[38;5;241m=\u001b[39m\u001b[38;5;241m100\u001b[39m,\n\u001b[0;32m     49\u001b[0m                   cMax\u001b[38;5;241m=\u001b[39m\u001b[38;5;241m3000\u001b[39m,\n\u001b[0;32m     50\u001b[0m                   ylabel\u001b[38;5;241m=\u001b[39mylabel,\n\u001b[0;32m     51\u001b[0m                   label\u001b[38;5;241m=\u001b[39mresistivity_label,\n\u001b[0;32m     52\u001b[0m                   ax\u001b[38;5;241m=\u001b[39max,\n\u001b[0;32m     53\u001b[0m                   logScale\u001b[38;5;241m=\u001b[39m\u001b[38;5;28;01mFalse\u001b[39;00m,\n\u001b[0;32m     54\u001b[0m                   coverage\u001b[38;5;241m=\u001b[39mresult\u001b[38;5;241m.\u001b[39mall_coverage[i][result\u001b[38;5;241m.\u001b[39mmesh\u001b[38;5;241m.\u001b[39mcellMarkers()]\u001b[38;5;241m>\u001b[39m\u001b[38;5;241m-\u001b[39m\u001b[38;5;241m1.2\u001b[39m)\n\u001b[0;32m     55\u001b[0m \u001b[38;5;28;01mif\u001b[39;00m i \u001b[38;5;241m==\u001b[39m\u001b[38;5;241m0\u001b[39m:\n\u001b[0;32m     56\u001b[0m     ax\u001b[38;5;241m.\u001b[39mplot([\u001b[38;5;241m40\u001b[39m],[\u001b[38;5;241m1607\u001b[39m],\u001b[38;5;124m'\u001b[39m\u001b[38;5;124m*\u001b[39m\u001b[38;5;124m'\u001b[39m,c\u001b[38;5;241m=\u001b[39m\u001b[38;5;124m'\u001b[39m\u001b[38;5;124mk\u001b[39m\u001b[38;5;124m'\u001b[39m)\n",
      "\u001b[1;31mNameError\u001b[0m: name 'result' is not defined"
     ]
    },
    {
     "data": {
      "image/png": "[encoded data removed]",
      "text/plain": [
       "<Figure size 1600x600 with 1 Axes>"
      ]
     },
     "metadata": {},
     "output_type": "display_data"
    }
   ],
   "source": [
    "from palettable.lightbartlein.diverging import BlueDarkRed18_18\n",
    "import matplotlib.pyplot as plt\n",
    "import numpy as np\n",
    "import matplotlib.pylab as pylab\n",
    "params = {'legend.fontsize': 13,\n",
    "          #'figure.figsize': (15, 5),\n",
    "         'axes.labelsize': 13,\n",
    "         'axes.titlesize':13,\n",
    "         'xtick.labelsize':13,\n",
    "         'ytick.labelsize':13}\n",
    "\n",
    "pylab.rcParams.update(params)\n",
    "plt.rcParams[\"font.family\"] = \"Arial\"\n",
    "\n",
    "fixed_cmap = BlueDarkRed18_18.mpl_colormap\n",
    "fig = plt.figure(figsize=[16, 6])\n",
    "\n",
    "# Use tight_layout with adjusted parameters to reduce space\n",
    "plt.subplots_adjust(wspace=0.05, hspace=0.05)\n",
    "\n",
    "# True resistivity model\n",
    "for i in range(12):\n",
    "    row, col = i // 4, i % 4\n",
    "    ax = fig.add_subplot(3, 4, i+1)\n",
    "    \n",
    "    # Add common ylabel only to leftmost panels\n",
    "    ylabel = \"Elevation (m)\" if col == 0 else None\n",
    "    \n",
    "    # Add resistivity label only to the middle-right panel (row 1, col 3)\n",
    "    resistivity_label = ' Resistivity ($\\Omega$ m)' if (i == 7) else None\n",
    "    \n",
    "    # Only show axis ticks on leftmost and bottom panels\n",
    "    if col != 0:\n",
    "        ax.set_yticks([])\n",
    "    \n",
    "    if row != 2:  # Not bottom row\n",
    "        ax.set_xticks([])\n",
    "    else:\n",
    "        # Add \"distance (m)\" label to bottom row panels\n",
    "        ax.set_xlabel(\"Distance (m)\")\n",
    "    \n",
    "    # Create the plot\n",
    "    ax, cbar = pg.show(result.mesh,\n",
    "                      result.final_models[:,i][result.mesh.cellMarkers()],\n",
    "                      pad=0.3,\n",
    "                      orientation=\"vertical\",\n",
    "                      cMap=fixed_cmap,\n",
    "                      cMin=100,\n",
    "                      cMax=3000,\n",
    "                      ylabel=ylabel,\n",
    "                      label=resistivity_label,\n",
    "                      ax=ax,\n",
    "                      logScale=False,\n",
    "                      coverage=result.all_coverage[i][result.mesh.cellMarkers()]>-1.2)\n",
    "    if i ==0:\n",
    "        ax.plot([40],[1607],'*',c='k')\n",
    "        ax.plot([80],[1621],'*',c='k')\n",
    "\n",
    "        ax.plot([30],[1604],'*',c='k')\n",
    "        ax.plot([65],[1608],'*',c='k')\n",
    "        \n",
    "    # Only keep colorbar for the middle-right panel (row 1, col 3)\n",
    "    # This corresponds to panel index 7 in a 0-based indexing system\n",
    "    if i != 7:  # Keep only the colorbar for panel 7\n",
    "        cbar.remove()\n",
    "\n",
    "plt.tight_layout()\n",
    "plt.savefig(\"C:/Users/HChen8/Documents/GitHub/PyHydroGeophysX/examples/results/Structure_WC/timelapse_ert_with structure.tiff\", dpi=300, bbox_inches='tight')"
   ]
  },
  {
   "cell_type": "code",
   "execution_count": 7,
   "metadata": {
    "collapsed": false,
    "execution": {
     "iopub.execute_input": "2025-05-22T05:55:33.132983Z",
     "iopub.status.busy": "2025-05-22T05:55:33.131965Z",
     "iopub.status.idle": "2025-05-22T05:55:33.157904Z",
     "shell.execute_reply": "2025-05-22T05:55:33.157904Z"
    }
   },
   "outputs": [
    {
     "ename": "NameError",
     "evalue": "name 'mesh_with_interface' is not defined",
     "output_type": "error",
     "traceback": [
      "\u001b[1;31m---------------------------------------------------------------------------\u001b[0m",
      "\u001b[1;31mNameError\u001b[0m                                 Traceback (most recent call last)",
      "Cell \u001b[1;32mIn[7], line 1\u001b[0m\n\u001b[1;32m----> 1\u001b[0m temp_marker \u001b[38;5;241m=\u001b[39m \u001b[43mmesh_with_interface\u001b[49m\u001b[38;5;241m.\u001b[39mcellMarkers()\n\u001b[0;32m      2\u001b[0m index_marker \u001b[38;5;241m=\u001b[39m temp_marker[temp_marker \u001b[38;5;241m!=\u001b[39m \u001b[38;5;241m1\u001b[39m]\n\u001b[0;32m      3\u001b[0m np\u001b[38;5;241m.\u001b[39msave(\u001b[38;5;124m\"\u001b[39m\u001b[38;5;124mC:/Users/HChen8/Documents/GitHub/PyHydroGeophysX/examples/results/Structure_WC/index_marker.npy\u001b[39m\u001b[38;5;124m\"\u001b[39m, index_marker)\n",
      "\u001b[1;31mNameError\u001b[0m: name 'mesh_with_interface' is not defined"
     ]
    }
   ],
   "source": [
    "temp_marker = mesh_with_interface.cellMarkers()\n",
    "index_marker = temp_marker[temp_marker != 1]\n",
    "np.save(\"C:/Users/HChen8/Documents/GitHub/PyHydroGeophysX/examples/results/Structure_WC/index_marker.npy\", index_marker)\n",
    "pg.show(result.mesh,index_marker,cmap=\"viridis\",clim=(0,1e4),showMesh=True)"
   ]
  },
  {
   "cell_type": "code",
   "execution_count": 8,
   "metadata": {
    "collapsed": false,
    "execution": {
     "iopub.execute_input": "2025-05-22T05:55:33.160910Z",
     "iopub.status.busy": "2025-05-22T05:55:33.160910Z",
     "iopub.status.idle": "2025-05-22T05:55:33.178730Z",
     "shell.execute_reply": "2025-05-22T05:55:33.178730Z"
    }
   },
   "outputs": [
    {
     "ename": "NameError",
     "evalue": "name 'result' is not defined",
     "output_type": "error",
     "traceback": [
      "\u001b[1;31m---------------------------------------------------------------------------\u001b[0m",
      "\u001b[1;31mNameError\u001b[0m                                 Traceback (most recent call last)",
      "Cell \u001b[1;32mIn[8], line 1\u001b[0m\n\u001b[1;32m----> 1\u001b[0m \u001b[43mresult\u001b[49m\u001b[38;5;241m.\u001b[39mfinal_models\u001b[38;5;241m.\u001b[39mshape\n",
      "\u001b[1;31mNameError\u001b[0m: name 'result' is not defined"
     ]
    }
   ],
   "source": [
    "result.final_models.shape"
   ]
  },
  {
   "cell_type": "code",
   "execution_count": 9,
   "metadata": {
    "collapsed": false,
    "execution": {
     "iopub.execute_input": "2025-05-22T05:55:33.181744Z",
     "iopub.status.busy": "2025-05-22T05:55:33.181744Z",
     "iopub.status.idle": "2025-05-22T05:55:33.195245Z",
     "shell.execute_reply": "2025-05-22T05:55:33.195245Z"
    }
   },
   "outputs": [
    {
     "ename": "NameError",
     "evalue": "name 'result' is not defined",
     "output_type": "error",
     "traceback": [
      "\u001b[1;31m---------------------------------------------------------------------------\u001b[0m",
      "\u001b[1;31mNameError\u001b[0m                                 Traceback (most recent call last)",
      "Cell \u001b[1;32mIn[9], line 1\u001b[0m\n\u001b[1;32m----> 1\u001b[0m \u001b[43mresult\u001b[49m\u001b[38;5;241m.\u001b[39mmesh\u001b[38;5;241m.\u001b[39mcellMarkers()\n",
      "\u001b[1;31mNameError\u001b[0m: name 'result' is not defined"
     ]
    }
   ],
   "source": [
    "result.mesh.cellMarkers()"
   ]
  },
  {
   "cell_type": "code",
   "execution_count": 10,
   "metadata": {
    "collapsed": false,
    "execution": {
     "iopub.execute_input": "2025-05-22T05:55:33.198325Z",
     "iopub.status.busy": "2025-05-22T05:55:33.197773Z",
     "iopub.status.idle": "2025-05-22T05:55:33.225138Z",
     "shell.execute_reply": "2025-05-22T05:55:33.225138Z"
    }
   },
   "outputs": [
    {
     "ename": "ModuleNotFoundError",
     "evalue": "No module named 'watershed_geophysics'",
     "output_type": "error",
     "traceback": [
      "\u001b[1;31m---------------------------------------------------------------------------\u001b[0m",
      "\u001b[1;31mModuleNotFoundError\u001b[0m                       Traceback (most recent call last)",
      "Cell \u001b[1;32mIn[10], line 7\u001b[0m\n\u001b[0;32m      4\u001b[0m \u001b[38;5;28;01mimport\u001b[39;00m \u001b[38;5;21;01mpygimli\u001b[39;00m \u001b[38;5;28;01mas\u001b[39;00m \u001b[38;5;21;01mpg\u001b[39;00m\n\u001b[0;32m      6\u001b[0m \u001b[38;5;66;03m# Import the resistivity_to_saturation function from your module\u001b[39;00m\n\u001b[1;32m----> 7\u001b[0m \u001b[38;5;28;01mfrom\u001b[39;00m \u001b[38;5;21;01mwatershed_geophysics\u001b[39;00m\u001b[38;5;21;01m.\u001b[39;00m\u001b[38;5;21;01mpetrophysics\u001b[39;00m\u001b[38;5;21;01m.\u001b[39;00m\u001b[38;5;21;01mresistivity_models\u001b[39;00m \u001b[38;5;28;01mimport\u001b[39;00m resistivity_to_saturation\n\u001b[0;32m      9\u001b[0m \u001b[38;5;66;03m# Extract the inverted resistivity values\u001b[39;00m\n\u001b[0;32m     10\u001b[0m resistivity_values \u001b[38;5;241m=\u001b[39m result\u001b[38;5;241m.\u001b[39mfinal_models[result\u001b[38;5;241m.\u001b[39mmesh\u001b[38;5;241m.\u001b[39mcellMarkers(),:]\n",
      "\u001b[1;31mModuleNotFoundError\u001b[0m: No module named 'watershed_geophysics'"
     ]
    }
   ],
   "source": [
    "import numpy as np\n",
    "import matplotlib.pyplot as plt\n",
    "import os\n",
    "import pygimli as pg\n",
    "\n",
    "# Import the resistivity_to_saturation function from your module\n",
    "from watershed_geophysics.petrophysics.resistivity_models import resistivity_to_saturation\n",
    "\n",
    "# Extract the inverted resistivity values\n",
    "resistivity_values = result.final_models[result.mesh.cellMarkers(),:]\n",
    "\n",
    "# Extract cell markers from the mesh (to identify different geological layers)\n",
    "cell_markers = index_marker.copy()\n",
    "\n",
    "# Define different parameters for each layer\n",
    "# Layer 1 parameters (top layer - marker 2)\n",
    "layer1_params = {\n",
    "    'rhos': 100.0,     # Saturated resistivity (ohm-m)\n",
    "    'n': 2.2,          # Saturation exponent\n",
    "    'sigma_sur': 1/500  # Surface conductivity (S/m)\n",
    "}\n",
    "\n",
    "# Layer 2 parameters (bottom layer - marker 3)\n",
    "layer2_params = {\n",
    "    'rhos': 500.0,     # Saturated resistivity (ohm-m)\n",
    "    'n': 1.8,          # Saturation exponent\n",
    "    'sigma_sur': 0 # Surface conductivity (S/m)\n",
    "}\n",
    "\n",
    "# Define porosity values for each cell based on layer\n",
    "porosity = np.zeros_like(cell_markers, dtype=float)\n",
    "porosity[cell_markers == 2] = 0.30  # Top layer porosity\n",
    "porosity[cell_markers == 3] = 0.25  # Bottom layer porosity\n",
    "\n",
    "# Create arrays to store water content and saturation results\n",
    "water_content = np.zeros_like(resistivity_values)\n",
    "saturation = np.zeros_like(resistivity_values)\n",
    "\n",
    "# Process each timestep\n",
    "for t in range(resistivity_values.shape[1]):\n",
    "    # Extract resistivity for this timestep\n",
    "    resistivity_t = resistivity_values[:, t]\n",
    "    \n",
    "    # Process each layer separately\n",
    "    # Layer 1 (marker 2)\n",
    "    mask_layer1 = cell_markers == 2\n",
    "    if np.any(mask_layer1):\n",
    "        saturation[mask_layer1, t] = resistivity_to_saturation(\n",
    "            resistivity_t[mask_layer1],\n",
    "            layer1_params['rhos'],\n",
    "            layer1_params['n'],\n",
    "            layer1_params['sigma_sur']\n",
    "        )\n",
    "    \n",
    "    # Layer 2 (marker 3)\n",
    "    mask_layer2 = cell_markers == 3\n",
    "    if np.any(mask_layer2):\n",
    "        saturation[mask_layer2, t] = resistivity_to_saturation(\n",
    "            resistivity_t[mask_layer2],\n",
    "            layer2_params['rhos'],\n",
    "            layer2_params['n'],\n",
    "            layer2_params['sigma_sur']\n",
    "        )\n",
    "    \n",
    "    # Convert saturation to water content (water_content = saturation * porosity)\n",
    "    water_content[:, t] = saturation[:, t] * porosity"
   ]
  },
  {
   "cell_type": "code",
   "execution_count": 11,
   "metadata": {
    "collapsed": false,
    "execution": {
     "iopub.execute_input": "2025-05-22T05:55:33.229158Z",
     "iopub.status.busy": "2025-05-22T05:55:33.229158Z",
     "iopub.status.idle": "2025-05-22T05:55:33.245895Z",
     "shell.execute_reply": "2025-05-22T05:55:33.245895Z"
    }
   },
   "outputs": [
    {
     "ename": "NameError",
     "evalue": "name 'resistivity_t' is not defined",
     "output_type": "error",
     "traceback": [
      "\u001b[1;31m---------------------------------------------------------------------------\u001b[0m",
      "\u001b[1;31mNameError\u001b[0m                                 Traceback (most recent call last)",
      "Cell \u001b[1;32mIn[11], line 1\u001b[0m\n\u001b[1;32m----> 1\u001b[0m np\u001b[38;5;241m.\u001b[39mmin((\u001b[43mresistivity_t\u001b[49m[mask_layer2]\u001b[38;5;241m/\u001b[39m\u001b[38;5;241m500.0\u001b[39m) \u001b[38;5;241m*\u001b[39m\u001b[38;5;241m*\u001b[39m (\u001b[38;5;241m-\u001b[39m\u001b[38;5;241m1.8\u001b[39m))\n",
      "\u001b[1;31mNameError\u001b[0m: name 'resistivity_t' is not defined"
     ]
    }
   ],
   "source": [
    "np.min((resistivity_t[mask_layer2]/500.0) ** (-1.8))"
   ]
  },
  {
   "cell_type": "code",
   "execution_count": 12,
   "metadata": {
    "collapsed": false,
    "execution": {
     "iopub.execute_input": "2025-05-22T05:55:33.248003Z",
     "iopub.status.busy": "2025-05-22T05:55:33.248003Z",
     "iopub.status.idle": "2025-05-22T05:55:33.260647Z",
     "shell.execute_reply": "2025-05-22T05:55:33.260647Z"
    }
   },
   "outputs": [
    {
     "ename": "NameError",
     "evalue": "name 'resistivity_t' is not defined",
     "output_type": "error",
     "traceback": [
      "\u001b[1;31m---------------------------------------------------------------------------\u001b[0m",
      "\u001b[1;31mNameError\u001b[0m                                 Traceback (most recent call last)",
      "Cell \u001b[1;32mIn[12], line 1\u001b[0m\n\u001b[1;32m----> 1\u001b[0m np\u001b[38;5;241m.\u001b[39mmax((\u001b[43mresistivity_t\u001b[49m[mask_layer2]\u001b[38;5;241m/\u001b[39m\u001b[38;5;241m500.0\u001b[39m) \u001b[38;5;241m*\u001b[39m\u001b[38;5;241m*\u001b[39m (\u001b[38;5;241m-\u001b[39m\u001b[38;5;241m1.8\u001b[39m))\n",
      "\u001b[1;31mNameError\u001b[0m: name 'resistivity_t' is not defined"
     ]
    }
   ],
   "source": [
    "np.max((resistivity_t[mask_layer2]/500.0) ** (-1.8))"
   ]
  },
  {
   "cell_type": "code",
   "execution_count": 13,
   "metadata": {
    "collapsed": false,
    "execution": {
     "iopub.execute_input": "2025-05-22T05:55:33.262675Z",
     "iopub.status.busy": "2025-05-22T05:55:33.262675Z",
     "iopub.status.idle": "2025-05-22T05:55:33.273274Z",
     "shell.execute_reply": "2025-05-22T05:55:33.273274Z"
    }
   },
   "outputs": [
    {
     "ename": "NameError",
     "evalue": "name 'saturation' is not defined",
     "output_type": "error",
     "traceback": [
      "\u001b[1;31m---------------------------------------------------------------------------\u001b[0m",
      "\u001b[1;31mNameError\u001b[0m                                 Traceback (most recent call last)",
      "Cell \u001b[1;32mIn[13], line 1\u001b[0m\n\u001b[1;32m----> 1\u001b[0m \u001b[43msaturation\u001b[49m[mask_layer2, \u001b[38;5;241m11\u001b[39m]\n",
      "\u001b[1;31mNameError\u001b[0m: name 'saturation' is not defined"
     ]
    }
   ],
   "source": [
    "saturation[mask_layer2, 11]"
   ]
  },
  {
   "cell_type": "code",
   "execution_count": 14,
   "metadata": {
    "collapsed": false,
    "execution": {
     "iopub.execute_input": "2025-05-22T05:55:33.275299Z",
     "iopub.status.busy": "2025-05-22T05:55:33.275299Z",
     "iopub.status.idle": "2025-05-22T05:55:33.340236Z",
     "shell.execute_reply": "2025-05-22T05:55:33.339721Z"
    }
   },
   "outputs": [
    {
     "ename": "NameError",
     "evalue": "name 'result' is not defined",
     "output_type": "error",
     "traceback": [
      "\u001b[1;31m---------------------------------------------------------------------------\u001b[0m",
      "\u001b[1;31mNameError\u001b[0m                                 Traceback (most recent call last)",
      "Cell \u001b[1;32mIn[14], line 43\u001b[0m\n\u001b[0;32m     40\u001b[0m     ax\u001b[38;5;241m.\u001b[39mset_xlabel(\u001b[38;5;124m\"\u001b[39m\u001b[38;5;124mDistance (m)\u001b[39m\u001b[38;5;124m\"\u001b[39m)\n\u001b[0;32m     42\u001b[0m \u001b[38;5;66;03m# Create the plot\u001b[39;00m\n\u001b[1;32m---> 43\u001b[0m ax, cbar \u001b[38;5;241m=\u001b[39m pg\u001b[38;5;241m.\u001b[39mshow(\u001b[43mresult\u001b[49m\u001b[38;5;241m.\u001b[39mmesh,\n\u001b[0;32m     44\u001b[0m                   saturation[:, i],\n\u001b[0;32m     45\u001b[0m                   pad\u001b[38;5;241m=\u001b[39m\u001b[38;5;241m0.3\u001b[39m,\n\u001b[0;32m     46\u001b[0m                   orientation\u001b[38;5;241m=\u001b[39m\u001b[38;5;124m\"\u001b[39m\u001b[38;5;124mvertical\u001b[39m\u001b[38;5;124m\"\u001b[39m,\n\u001b[0;32m     47\u001b[0m                   cMap\u001b[38;5;241m=\u001b[39m\u001b[38;5;124m'\u001b[39m\u001b[38;5;124mBlues\u001b[39m\u001b[38;5;124m'\u001b[39m,\n\u001b[0;32m     48\u001b[0m                   cMin\u001b[38;5;241m=\u001b[39m\u001b[38;5;241m0\u001b[39m,\n\u001b[0;32m     49\u001b[0m                   cMax\u001b[38;5;241m=\u001b[39m\u001b[38;5;241m1\u001b[39m,\n\u001b[0;32m     50\u001b[0m                   ylabel\u001b[38;5;241m=\u001b[39mylabel,\n\u001b[0;32m     51\u001b[0m                   label\u001b[38;5;241m=\u001b[39mresistivity_label,\n\u001b[0;32m     52\u001b[0m                   ax\u001b[38;5;241m=\u001b[39max,\n\u001b[0;32m     53\u001b[0m                   logScale\u001b[38;5;241m=\u001b[39m\u001b[38;5;28;01mFalse\u001b[39;00m,\n\u001b[0;32m     54\u001b[0m                   coverage\u001b[38;5;241m=\u001b[39mresult\u001b[38;5;241m.\u001b[39mall_coverage[i][result\u001b[38;5;241m.\u001b[39mmesh\u001b[38;5;241m.\u001b[39mcellMarkers()]\u001b[38;5;241m>\u001b[39m\u001b[38;5;241m-\u001b[39m\u001b[38;5;241m1.2\u001b[39m)\n\u001b[0;32m     56\u001b[0m \u001b[38;5;66;03m# Only keep colorbar for the middle-right panel (row 1, col 3)\u001b[39;00m\n\u001b[0;32m     57\u001b[0m \u001b[38;5;66;03m# This corresponds to panel index 7 in a 0-based indexing system\u001b[39;00m\n\u001b[0;32m     58\u001b[0m \u001b[38;5;28;01mif\u001b[39;00m i \u001b[38;5;241m!=\u001b[39m \u001b[38;5;241m7\u001b[39m:  \u001b[38;5;66;03m# Keep only the colorbar for panel 7\u001b[39;00m\n",
      "\u001b[1;31mNameError\u001b[0m: name 'result' is not defined"
     ]
    },
    {
     "data": {
      "image/png": "[encoded data removed]",
      "text/plain": [
       "<Figure size 1600x600 with 1 Axes>"
      ]
     },
     "metadata": {},
     "output_type": "display_data"
    }
   ],
   "source": [
    "from palettable.lightbartlein.diverging import BlueDarkRed18_18\n",
    "import matplotlib.pyplot as plt\n",
    "import numpy as np\n",
    "import matplotlib.pylab as pylab\n",
    "params = {'legend.fontsize': 13,\n",
    "          #'figure.figsize': (15, 5),\n",
    "         'axes.labelsize': 13,\n",
    "         'axes.titlesize':13,\n",
    "         'xtick.labelsize':13,\n",
    "         'ytick.labelsize':13}\n",
    "\n",
    "pylab.rcParams.update(params)\n",
    "plt.rcParams[\"font.family\"] = \"Arial\"\n",
    "\n",
    "fixed_cmap = BlueDarkRed18_18.mpl_colormap\n",
    "fig = plt.figure(figsize=[16, 6])\n",
    "\n",
    "# Use tight_layout with adjusted parameters to reduce space\n",
    "plt.subplots_adjust(wspace=0.05, hspace=0.05)\n",
    "\n",
    "# True resistivity model\n",
    "for i in range(12):\n",
    "    row, col = i // 4, i % 4\n",
    "    ax = fig.add_subplot(3, 4, i+1)\n",
    "    \n",
    "    # Add common ylabel only to leftmost panels\n",
    "    ylabel = \"Elevation (m)\" if col == 0 else None\n",
    "    \n",
    "    # Add resistivity label only to the middle-right panel (row 1, col 3)\n",
    "    resistivity_label = ' Resistivity ($\\Omega$ m)' if (i == 7) else None\n",
    "    \n",
    "    # Only show axis ticks on leftmost and bottom panels\n",
    "    if col != 0:\n",
    "        ax.set_yticks([])\n",
    "    \n",
    "    if row != 2:  # Not bottom row\n",
    "        ax.set_xticks([])\n",
    "    else:\n",
    "        # Add \"distance (m)\" label to bottom row panels\n",
    "        ax.set_xlabel(\"Distance (m)\")\n",
    "    \n",
    "    # Create the plot\n",
    "    ax, cbar = pg.show(result.mesh,\n",
    "                      saturation[:, i],\n",
    "                      pad=0.3,\n",
    "                      orientation=\"vertical\",\n",
    "                      cMap='Blues',\n",
    "                      cMin=0,\n",
    "                      cMax=1,\n",
    "                      ylabel=ylabel,\n",
    "                      label=resistivity_label,\n",
    "                      ax=ax,\n",
    "                      logScale=False,\n",
    "                      coverage=result.all_coverage[i][result.mesh.cellMarkers()]>-1.2)\n",
    "    \n",
    "    # Only keep colorbar for the middle-right panel (row 1, col 3)\n",
    "    # This corresponds to panel index 7 in a 0-based indexing system\n",
    "    if i != 7:  # Keep only the colorbar for panel 7\n",
    "        cbar.remove()\n",
    "\n",
    "plt.tight_layout()\n",
    "plt.savefig(\"C:/Users/HChen8/Documents/GitHub/PyHydroGeophysX/examples/results/TL_measurements/appres/timelapse_sat.tiff\", dpi=300, bbox_inches='tight')"
   ]
  },
  {
   "cell_type": "code",
   "execution_count": 15,
   "metadata": {
    "collapsed": false,
    "execution": {
     "iopub.execute_input": "2025-05-22T05:55:33.342253Z",
     "iopub.status.busy": "2025-05-22T05:55:33.341748Z",
     "iopub.status.idle": "2025-05-22T05:55:33.359398Z",
     "shell.execute_reply": "2025-05-22T05:55:33.358889Z"
    }
   },
   "outputs": [
    {
     "ename": "NameError",
     "evalue": "name 'mesh_with_interface' is not defined",
     "output_type": "error",
     "traceback": [
      "\u001b[1;31m---------------------------------------------------------------------------\u001b[0m",
      "\u001b[1;31mNameError\u001b[0m                                 Traceback (most recent call last)",
      "Cell \u001b[1;32mIn[15], line 13\u001b[0m\n\u001b[0;32m     11\u001b[0m \u001b[38;5;66;03m# Define positions to sample (adjust based on your model dimensions)\u001b[39;00m\n\u001b[0;32m     12\u001b[0m x_positions \u001b[38;5;241m=\u001b[39m [\u001b[38;5;241m20\u001b[39m, \u001b[38;5;241m40\u001b[39m, \u001b[38;5;241m60\u001b[39m, \u001b[38;5;241m80\u001b[39m]\n\u001b[1;32m---> 13\u001b[0m time_series \u001b[38;5;241m=\u001b[39m extract_time_series(\u001b[43mmesh_with_interface\u001b[49m, water_content, x_positions)\n\u001b[0;32m     15\u001b[0m \u001b[38;5;66;03m# Plot time series\u001b[39;00m\n\u001b[0;32m     16\u001b[0m plt\u001b[38;5;241m.\u001b[39mfigure(figsize\u001b[38;5;241m=\u001b[39m(\u001b[38;5;241m10\u001b[39m, \u001b[38;5;241m6\u001b[39m))\n",
      "\u001b[1;31mNameError\u001b[0m: name 'mesh_with_interface' is not defined"
     ]
    }
   ],
   "source": [
    "# Create a time-series plot to show water content changes over time\n",
    "def extract_time_series(mesh, values, x_positions):\n",
    "    \"\"\"Extract time series at specific x positions\"\"\"\n",
    "    time_series = []\n",
    "    for x_pos in x_positions:\n",
    "        # Find closest cell to this position\n",
    "        cell_idx = np.argmin(np.abs(mesh.cellCenters()[:, 0] - x_pos))\n",
    "        time_series.append(values[cell_idx, :])\n",
    "    return time_series\n",
    "\n",
    "# Define positions to sample (adjust based on your model dimensions)\n",
    "x_positions = [20, 40, 60, 80]\n",
    "time_series = extract_time_series(mesh_with_interface, water_content, x_positions)\n",
    "\n",
    "# Plot time series\n",
    "plt.figure(figsize=(10, 6))\n",
    "for i, x_pos in enumerate(x_positions):\n",
    "    plt.plot(measurement_times, time_series[i], 'o-', label=f'x={x_pos}m')\n",
    "plt.xlabel('Time (days)')\n",
    "plt.ylabel('Water Content')\n",
    "plt.title('Water Content Time Series at Selected Locations')\n",
    "plt.legend()\n",
    "plt.grid(True)\n",
    "plt.tight_layout()"
   ]
  }
 ],
 "metadata": {
  "kernelspec": {
   "display_name": "Python 3",
   "language": "python",
   "name": "python3"
  },
  "language_info": {
   "codemirror_mode": {
    "name": "ipython",
    "version": 3
   },
   "file_extension": ".py",
   "mimetype": "text/x-python",
   "name": "python",
   "nbconvert_exporter": "python",
   "pygments_lexer": "ipython3",
   "version": "3.11.8"
  }
 },
 "nbformat": 4,
 "nbformat_minor": 0
}
