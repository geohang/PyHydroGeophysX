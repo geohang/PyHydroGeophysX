{
 "cells": [
  {
   "cell_type": "markdown",
   "metadata": {},
   "source": [
    "\n",
    "# Ex 7. Structure-Constrained Time-Lapse Resistivity Inversion\n",
    "\n",
    "This example combines structural constraints with time-lapse ERT inversion\n",
    "to monitor water content changes in layered geological media.\n",
    "\n",
    "The workflow demonstrates:\n",
    "1. Loading meshes with geological structure from seismic interpretation\n",
    "2. Time-lapse ERT inversion with structural constraints\n",
    "3. Converting resistivity to water content using layer-specific petrophysics\n",
    "4. Uncertainty quantification through Monte Carlo analysis\n",
    "5. Time series analysis of water content at specific locations\n",
    "\n",
    "This advanced approach provides the most reliable estimates of subsurface\n",
    "water content evolution by combining temporal, spatial, and geological\n",
    "constraints in the inversion process.\n"
   ]
  },
  {
   "cell_type": "code",
   "execution_count": 1,
   "metadata": {
    "collapsed": false,
    "execution": {
     "iopub.execute_input": "2025-05-23T19:25:16.149752Z",
     "iopub.status.busy": "2025-05-23T19:25:16.148745Z",
     "iopub.status.idle": "2025-05-23T19:25:18.674437Z",
     "shell.execute_reply": "2025-05-23T19:25:18.673931Z"
    }
   },
   "outputs": [],
   "source": [
    "import os\n",
    "import sys\n",
    "import numpy as np\n",
    "import matplotlib.pyplot as plt\n",
    "import pygimli as pg\n",
    "from pygimli.physics import ert\n",
    "from mpl_toolkits.axes_grid1 import make_axes_locatable\n",
    "\n",
    "# Setup package path for development\n",
    "try:\n",
    "    # For regular Python scripts\n",
    "    current_dir = os.path.dirname(os.path.abspath(__file__))\n",
    "except NameError:\n",
    "    # For Jupyter notebooks\n",
    "    current_dir = os.getcwd()\n",
    "\n",
    "# Add the parent directory to Python path\n",
    "parent_dir = os.path.dirname(current_dir)\n",
    "if parent_dir not in sys.path:\n",
    "    sys.path.append(parent_dir)\n",
    "\n",
    "# Import PyHydroGeophysX modules\n",
    "from PyHydroGeophysX.inversion.time_lapse import TimeLapseERTInversion\n",
    "from PyHydroGeophysX.inversion.windowed import WindowedTimeLapseERTInversion"
   ]
  },
  {
   "cell_type": "code",
   "execution_count": 2,
   "metadata": {
    "collapsed": false,
    "execution": {
     "iopub.execute_input": "2025-05-23T19:25:18.676961Z",
     "iopub.status.busy": "2025-05-23T19:25:18.676961Z",
     "iopub.status.idle": "2025-05-23T19:25:18.781813Z",
     "shell.execute_reply": "2025-05-23T19:25:18.781813Z"
    }
   },
   "outputs": [],
   "source": [
    "data_dir = \"C:/Users/HChen8/Documents/GitHub/PyHydroGeophysX/examples/results/TL_measurements/appres\"\n",
    "\n",
    "# List of ERT data files testing monthly time-lapse inversion\n",
    "ert_files = [\n",
    "    \"synthetic_data30.dat\",\n",
    "    \"synthetic_data60.dat\",\n",
    "    \"synthetic_data90.dat\",\n",
    "    \"synthetic_data120.dat\",\n",
    "    \"synthetic_data150.dat\",\n",
    "    \"synthetic_data180.dat\",\n",
    "    \"synthetic_data210.dat\",\n",
    "    \"synthetic_data240.dat\",\n",
    "    \"synthetic_data270.dat\",\n",
    "    \"synthetic_data300.dat\",\n",
    "    \"synthetic_data330.dat\",\n",
    "    \"synthetic_data360.dat\",\n",
    "]\n",
    "\n",
    "\n",
    "# Full paths to data files\n",
    "data_files = [os.path.join(data_dir, f) for f in ert_files]\n",
    "\n",
    "# Measurement times (can be timestamps or any sequential numbers representing time)\n",
    "# Measurement times (can be timestamps or any sequential numbers representing time)\n",
    "measurement_times = [1, 2, 3, 4, 5, 6, 7, 8, 9, 10, 11, 12]  # Adjust based on your actual acquisition times\n",
    "\n",
    "# Create a mesh for the inversion (or load an existing one)\n",
    "data = ert.load(os.path.join(data_dir, ert_files[0]))\n",
    "ert_manager = ert.ERTManager(data)\n",
    "mesh_with_interface = pg.load(\"C:/Users/HChen8/Documents/GitHub/PyHydroGeophysX/examples/results/Structure_WC/mesh_with_interface.bms\")"
   ]
  },
  {
   "cell_type": "code",
   "execution_count": 3,
   "metadata": {
    "collapsed": false,
    "execution": {
     "iopub.execute_input": "2025-05-23T19:25:18.784841Z",
     "iopub.status.busy": "2025-05-23T19:25:18.784841Z",
     "iopub.status.idle": "2025-05-24T00:23:04.268667Z",
     "shell.execute_reply": "2025-05-24T00:23:04.263315Z"
    }
   },
   "outputs": [
    {
     "name": "stdout",
     "output_type": "stream",
     "text": [
      "Starting windowed time-lapse inversion...\n",
      "\n",
      "Processing 10 windows sequentially...\n",
      "Using L2 inversion\n",
      "\n",
      "Starting L2 inversion for window 0\n"
     ]
    },
    {
     "name": "stderr",
     "output_type": "stream",
     "text": [
      "23/05/25 - 12:25:18 - pyGIMLi - \u001b[0;32;49mINFO\u001b[0m - Found 3 regions.\n"
     ]
    },
    {
     "name": "stderr",
     "output_type": "stream",
     "text": [
      "23/05/25 - 12:25:18 - pyGIMLi - \u001b[0;32;49mINFO\u001b[0m - (ERTModelling) Region with smallest marker (1) set to background.\n"
     ]
    },
    {
     "name": "stderr",
     "output_type": "stream",
     "text": [
      "23/05/25 - 12:25:18 - pyGIMLi - \u001b[0;32;49mINFO\u001b[0m - Found 3 regions.\n"
     ]
    },
    {
     "name": "stderr",
     "output_type": "stream",
     "text": [
      "23/05/25 - 12:25:18 - pyGIMLi - \u001b[0;32;49mINFO\u001b[0m - (ERTModelling) Region with smallest marker (1) set to background.\n"
     ]
    },
    {
     "name": "stderr",
     "output_type": "stream",
     "text": [
      "23/05/25 - 12:25:18 - pyGIMLi - \u001b[0;32;49mINFO\u001b[0m - Found 3 regions.\n"
     ]
    },
    {
     "name": "stderr",
     "output_type": "stream",
     "text": [
      "23/05/25 - 12:25:18 - pyGIMLi - \u001b[0;32;49mINFO\u001b[0m - (ERTModelling) Region with smallest marker (1) set to background.\n"
     ]
    },
    {
     "name": "stderr",
     "output_type": "stream",
     "text": [
      "23/05/25 - 12:25:19 - pyGIMLi - \u001b[0;32;49mINFO\u001b[0m - Creating forward mesh from region infos.\n"
     ]
    },
    {
     "name": "stderr",
     "output_type": "stream",
     "text": [
      "23/05/25 - 12:25:19 - pyGIMLi - \u001b[0;32;49mINFO\u001b[0m - Creating refined mesh (H2) to solve forward task.\n"
     ]
    },
    {
     "name": "stderr",
     "output_type": "stream",
     "text": [
      "23/05/25 - 12:25:19 - pyGIMLi - \u001b[0;32;49mINFO\u001b[0m - Mesh for forward task: Mesh: Nodes: 11088 Cells: 21748 Boundaries: 16524\n"
     ]
    },
    {
     "name": "stdout",
     "output_type": "stream",
     "text": [
      "-6.907755278982137 9.210340371976184\n",
      "-------------------ERT Iteration: 0 ---------------------------\n"
     ]
    },
    {
     "name": "stderr",
     "output_type": "stream",
     "text": [
      "23/05/25 - 12:25:58 - pyGIMLi - \u001b[0;32;49mINFO\u001b[0m - Creating forward mesh from region infos.\n"
     ]
    },
    {
     "name": "stderr",
     "output_type": "stream",
     "text": [
      "23/05/25 - 12:25:59 - pyGIMLi - \u001b[0;32;49mINFO\u001b[0m - Creating refined mesh (H2) to solve forward task.\n"
     ]
    },
    {
     "name": "stderr",
     "output_type": "stream",
     "text": [
      "23/05/25 - 12:25:59 - pyGIMLi - \u001b[0;32;49mINFO\u001b[0m - Mesh for forward task: Mesh: Nodes: 11088 Cells: 21748 Boundaries: 16524\n"
     ]
    },
    {
     "name": "stderr",
     "output_type": "stream",
     "text": [
      "23/05/25 - 12:26:36 - pyGIMLi - \u001b[0;32;49mINFO\u001b[0m - Creating forward mesh from region infos.\n"
     ]
    },
    {
     "name": "stderr",
     "output_type": "stream",
     "text": [
      "23/05/25 - 12:26:36 - pyGIMLi - \u001b[0;32;49mINFO\u001b[0m - Creating refined mesh (H2) to solve forward task.\n"
     ]
    },
    {
     "name": "stderr",
     "output_type": "stream",
     "text": [
      "23/05/25 - 12:26:36 - pyGIMLi - \u001b[0;32;49mINFO\u001b[0m - Mesh for forward task: Mesh: Nodes: 11088 Cells: 21748 Boundaries: 16524\n"
     ]
    },
    {
     "name": "stdout",
     "output_type": "stream",
     "text": [
      "ERT chi2: 2615.203190716277\n",
      "dPhi: 1.0\n",
      "ERTphi_d: 6496164.725739231, ERTphi_m: 0.0, ERTphi_t: 0.0\n"
     ]
    },
    {
     "name": "stdout",
     "output_type": "stream",
     "text": [
      "-------------------ERT Iteration: 1 ---------------------------\n"
     ]
    },
    {
     "name": "stdout",
     "output_type": "stream",
     "text": [
      "ERT chi2: 38.7872420873047\n",
      "dPhi: 0.9851685550763338\n",
      "ERTphi_d: 96347.50934486487, ERTphi_m: 3907.5398221862633, ERTphi_t: 1749.4500769988747\n"
     ]
    },
    {
     "name": "stdout",
     "output_type": "stream",
     "text": [
      "-------------------ERT Iteration: 2 ---------------------------\n"
     ]
    },
    {
     "name": "stdout",
     "output_type": "stream",
     "text": [
      "ERT chi2: 19.686447938225225\n",
      "dPhi: 0.4924504326986239\n",
      "ERTphi_d: 48901.136678551455, ERTphi_m: 1529.9175011931475, ERTphi_t: 1601.058203137823\n"
     ]
    },
    {
     "name": "stdout",
     "output_type": "stream",
     "text": [
      "-------------------ERT Iteration: 3 ---------------------------\n"
     ]
    },
    {
     "name": "stdout",
     "output_type": "stream",
     "text": [
      "ERT chi2: 10.946651812239915\n",
      "dPhi: 0.44394987625041415\n",
      "ERTphi_d: 27191.48310160395, ERTphi_m: 902.4777299121217, ERTphi_t: 1588.2538149237018\n"
     ]
    },
    {
     "name": "stdout",
     "output_type": "stream",
     "text": [
      "-------------------ERT Iteration: 4 ---------------------------\n"
     ]
    },
    {
     "name": "stdout",
     "output_type": "stream",
     "text": [
      "ERT chi2: 1.727945896457196\n",
      "dPhi: 0.8421484554277038\n",
      "ERTphi_d: 4292.217606799675, ERTphi_m: 784.5223275423086, ERTphi_t: 1572.782723102875\n"
     ]
    },
    {
     "name": "stdout",
     "output_type": "stream",
     "text": [
      "-------------------ERT Iteration: 5 ---------------------------\n"
     ]
    },
    {
     "name": "stdout",
     "output_type": "stream",
     "text": [
      "ERT chi2: 1.20982629710736\n",
      "dPhi: 0.2998471192947278\n",
      "ERTphi_d: 3005.208522014682, ERTphi_m: 713.1213451248284, ERTphi_t: 1572.7437638298607\n",
      "Convergence reached at iteration 5\n"
     ]
    },
    {
     "name": "stdout",
     "output_type": "stream",
     "text": [
      "End of inversion\n",
      "\n",
      "Window 0 results:\n",
      "Model shape: (4529, 3)\n",
      "Coverage available: True\n",
      "Number of iterations: 6\n"
     ]
    },
    {
     "name": "stdout",
     "output_type": "stream",
     "text": [
      "\n",
      "Starting L2 inversion for window 1\n"
     ]
    },
    {
     "name": "stderr",
     "output_type": "stream",
     "text": [
      "23/05/25 - 12:54:03 - pyGIMLi - \u001b[0;32;49mINFO\u001b[0m - Found 3 regions.\n"
     ]
    },
    {
     "name": "stderr",
     "output_type": "stream",
     "text": [
      "23/05/25 - 12:54:03 - pyGIMLi - \u001b[0;32;49mINFO\u001b[0m - (ERTModelling) Region with smallest marker (1) set to background.\n"
     ]
    },
    {
     "name": "stderr",
     "output_type": "stream",
     "text": [
      "23/05/25 - 12:54:03 - pyGIMLi - \u001b[0;32;49mINFO\u001b[0m - Found 3 regions.\n"
     ]
    },
    {
     "name": "stderr",
     "output_type": "stream",
     "text": [
      "23/05/25 - 12:54:03 - pyGIMLi - \u001b[0;32;49mINFO\u001b[0m - (ERTModelling) Region with smallest marker (1) set to background.\n"
     ]
    },
    {
     "name": "stderr",
     "output_type": "stream",
     "text": [
      "23/05/25 - 12:54:03 - pyGIMLi - \u001b[0;32;49mINFO\u001b[0m - Found 3 regions.\n"
     ]
    },
    {
     "name": "stderr",
     "output_type": "stream",
     "text": [
      "23/05/25 - 12:54:03 - pyGIMLi - \u001b[0;32;49mINFO\u001b[0m - (ERTModelling) Region with smallest marker (1) set to background.\n"
     ]
    },
    {
     "name": "stderr",
     "output_type": "stream",
     "text": [
      "23/05/25 - 12:54:03 - pyGIMLi - \u001b[0;32;49mINFO\u001b[0m - Creating forward mesh from region infos.\n"
     ]
    },
    {
     "name": "stderr",
     "output_type": "stream",
     "text": [
      "23/05/25 - 12:54:04 - pyGIMLi - \u001b[0;32;49mINFO\u001b[0m - Creating refined mesh (H2) to solve forward task.\n"
     ]
    },
    {
     "name": "stderr",
     "output_type": "stream",
     "text": [
      "23/05/25 - 12:54:04 - pyGIMLi - \u001b[0;32;49mINFO\u001b[0m - Mesh for forward task: Mesh: Nodes: 11088 Cells: 21748 Boundaries: 16524\n"
     ]
    },
    {
     "name": "stdout",
     "output_type": "stream",
     "text": [
      "-6.907755278982137 9.210340371976184\n",
      "-------------------ERT Iteration: 0 ---------------------------\n"
     ]
    },
    {
     "name": "stderr",
     "output_type": "stream",
     "text": [
      "23/05/25 - 12:54:44 - pyGIMLi - \u001b[0;32;49mINFO\u001b[0m - Creating forward mesh from region infos.\n"
     ]
    },
    {
     "name": "stderr",
     "output_type": "stream",
     "text": [
      "23/05/25 - 12:54:44 - pyGIMLi - \u001b[0;32;49mINFO\u001b[0m - Creating refined mesh (H2) to solve forward task.\n"
     ]
    },
    {
     "name": "stderr",
     "output_type": "stream",
     "text": [
      "23/05/25 - 12:54:44 - pyGIMLi - \u001b[0;32;49mINFO\u001b[0m - Mesh for forward task: Mesh: Nodes: 11088 Cells: 21748 Boundaries: 16524\n"
     ]
    },
    {
     "name": "stderr",
     "output_type": "stream",
     "text": [
      "23/05/25 - 12:55:23 - pyGIMLi - \u001b[0;32;49mINFO\u001b[0m - Creating forward mesh from region infos.\n"
     ]
    },
    {
     "name": "stderr",
     "output_type": "stream",
     "text": [
      "23/05/25 - 12:55:23 - pyGIMLi - \u001b[0;32;49mINFO\u001b[0m - Creating refined mesh (H2) to solve forward task.\n"
     ]
    },
    {
     "name": "stderr",
     "output_type": "stream",
     "text": [
      "23/05/25 - 12:55:23 - pyGIMLi - \u001b[0;32;49mINFO\u001b[0m - Mesh for forward task: Mesh: Nodes: 11088 Cells: 21748 Boundaries: 16524\n"
     ]
    },
    {
     "name": "stdout",
     "output_type": "stream",
     "text": [
      "ERT chi2: 2425.1009280846456\n",
      "dPhi: 1.0\n",
      "ERTphi_d: 6023950.705362259, ERTphi_m: 0.0, ERTphi_t: 0.0\n"
     ]
    },
    {
     "name": "stdout",
     "output_type": "stream",
     "text": [
      "-------------------ERT Iteration: 1 ---------------------------\n"
     ]
    },
    {
     "name": "stdout",
     "output_type": "stream",
     "text": [
      "ERT chi2: 33.99837327694347\n",
      "dPhi: 0.9859806357404698\n",
      "ERTphi_d: 84451.95921992758, ERTphi_m: 3511.908099219132, ERTphi_t: 214.07201825887228\n"
     ]
    },
    {
     "name": "stdout",
     "output_type": "stream",
     "text": [
      "-------------------ERT Iteration: 2 ---------------------------\n"
     ]
    },
    {
     "name": "stdout",
     "output_type": "stream",
     "text": [
      "ERT chi2: 20.27737665105712\n",
      "dPhi: 0.4035780333993643\n",
      "ERTphi_d: 50369.003601225886, ERTphi_m: 1228.1849837339141, ERTphi_t: 189.62855679692268\n"
     ]
    },
    {
     "name": "stdout",
     "output_type": "stream",
     "text": [
      "-------------------ERT Iteration: 3 ---------------------------\n"
     ]
    },
    {
     "name": "stdout",
     "output_type": "stream",
     "text": [
      "ERT chi2: 10.172129529130475\n",
      "dPhi: 0.4983508121303171\n",
      "ERTphi_d: 25267.5697503601, ERTphi_m: 652.0953432124884, ERTphi_t: 168.17473054796665\n"
     ]
    },
    {
     "name": "stdout",
     "output_type": "stream",
     "text": [
      "-------------------ERT Iteration: 4 ---------------------------\n"
     ]
    },
    {
     "name": "stdout",
     "output_type": "stream",
     "text": [
      "ERT chi2: 1.5601747432505049\n",
      "dPhi: 0.8466226035774959\n",
      "ERTphi_d: 3875.4740622342542, ERTphi_m: 528.3748595914157, ERTphi_t: 166.04283548411843\n"
     ]
    },
    {
     "name": "stdout",
     "output_type": "stream",
     "text": [
      "-------------------ERT Iteration: 5 ---------------------------\n"
     ]
    },
    {
     "name": "stdout",
     "output_type": "stream",
     "text": [
      "ERT chi2: 1.040801587090379\n",
      "dPhi: 0.3328942212447636\n",
      "ERTphi_d: 2585.3511423325017, ERTphi_m: 459.63344708397756, ERTphi_t: 167.43570956967346\n",
      "Convergence reached at iteration 5\n"
     ]
    },
    {
     "name": "stdout",
     "output_type": "stream",
     "text": [
      "End of inversion\n",
      "\n",
      "Window 1 results:\n",
      "Model shape: (4529, 3)\n",
      "Coverage available: True\n",
      "Number of iterations: 6\n"
     ]
    },
    {
     "name": "stdout",
     "output_type": "stream",
     "text": [
      "\n",
      "Starting L2 inversion for window 2"
     ]
    },
    {
     "name": "stdout",
     "output_type": "stream",
     "text": [
      "\n"
     ]
    },
    {
     "name": "stderr",
     "output_type": "stream",
     "text": [
      "23/05/25 - 13:22:54 - pyGIMLi - \u001b[0;32;49mINFO\u001b[0m - Found 3 regions.\n"
     ]
    },
    {
     "name": "stderr",
     "output_type": "stream",
     "text": [
      "23/05/25 - 13:22:54 - pyGIMLi - \u001b[0;32;49mINFO\u001b[0m - (ERTModelling) Region with smallest marker (1) set to background.\n"
     ]
    },
    {
     "name": "stderr",
     "output_type": "stream",
     "text": [
      "23/05/25 - 13:22:54 - pyGIMLi - \u001b[0;32;49mINFO\u001b[0m - Found 3 regions.\n"
     ]
    },
    {
     "name": "stderr",
     "output_type": "stream",
     "text": [
      "23/05/25 - 13:22:54 - pyGIMLi - \u001b[0;32;49mINFO\u001b[0m - (ERTModelling) Region with smallest marker (1) set to background.\n"
     ]
    },
    {
     "name": "stderr",
     "output_type": "stream",
     "text": [
      "23/05/25 - 13:22:54 - pyGIMLi - \u001b[0;32;49mINFO\u001b[0m - Found 3 regions.\n"
     ]
    },
    {
     "name": "stderr",
     "output_type": "stream",
     "text": [
      "23/05/25 - 13:22:54 - pyGIMLi - \u001b[0;32;49mINFO\u001b[0m - (ERTModelling) Region with smallest marker (1) set to background.\n"
     ]
    },
    {
     "name": "stderr",
     "output_type": "stream",
     "text": [
      "23/05/25 - 13:22:54 - pyGIMLi - \u001b[0;32;49mINFO\u001b[0m - Creating forward mesh from region infos.\n"
     ]
    },
    {
     "name": "stderr",
     "output_type": "stream",
     "text": [
      "23/05/25 - 13:22:55 - pyGIMLi - \u001b[0;32;49mINFO\u001b[0m - Creating refined mesh (H2) to solve forward task.\n"
     ]
    },
    {
     "name": "stderr",
     "output_type": "stream",
     "text": [
      "23/05/25 - 13:22:55 - pyGIMLi - \u001b[0;32;49mINFO\u001b[0m - Mesh for forward task: Mesh: Nodes: 11088 Cells: 21748 Boundaries: 16524\n"
     ]
    },
    {
     "name": "stdout",
     "output_type": "stream",
     "text": [
      "-6.907755278982137 9.210340371976184\n",
      "-------------------ERT Iteration: 0 ---------------------------\n"
     ]
    },
    {
     "name": "stderr",
     "output_type": "stream",
     "text": [
      "23/05/25 - 13:23:37 - pyGIMLi - \u001b[0;32;49mINFO\u001b[0m - Creating forward mesh from region infos.\n"
     ]
    },
    {
     "name": "stderr",
     "output_type": "stream",
     "text": [
      "23/05/25 - 13:23:37 - pyGIMLi - \u001b[0;32;49mINFO\u001b[0m - Creating refined mesh (H2) to solve forward task.\n"
     ]
    },
    {
     "name": "stderr",
     "output_type": "stream",
     "text": [
      "23/05/25 - 13:23:37 - pyGIMLi - \u001b[0;32;49mINFO\u001b[0m - Mesh for forward task: Mesh: Nodes: 11088 Cells: 21748 Boundaries: 16524\n"
     ]
    },
    {
     "name": "stderr",
     "output_type": "stream",
     "text": [
      "23/05/25 - 13:24:15 - pyGIMLi - \u001b[0;32;49mINFO\u001b[0m - Creating forward mesh from region infos.\n"
     ]
    },
    {
     "name": "stderr",
     "output_type": "stream",
     "text": [
      "23/05/25 - 13:24:15 - pyGIMLi - \u001b[0;32;49mINFO\u001b[0m - Creating refined mesh (H2) to solve forward task.\n"
     ]
    },
    {
     "name": "stderr",
     "output_type": "stream",
     "text": [
      "23/05/25 - 13:24:15 - pyGIMLi - \u001b[0;32;49mINFO\u001b[0m - Mesh for forward task: Mesh: Nodes: 11088 Cells: 21748 Boundaries: 16524\n"
     ]
    },
    {
     "name": "stdout",
     "output_type": "stream",
     "text": [
      "ERT chi2: 2361.5909321875547\n",
      "dPhi: 1.0\n",
      "ERTphi_d: 5866191.8755538855, ERTphi_m: 0.0, ERTphi_t: 0.0\n"
     ]
    },
    {
     "name": "stdout",
     "output_type": "stream",
     "text": [
      "-------------------ERT Iteration: 1 ---------------------------\n"
     ]
    },
    {
     "name": "stdout",
     "output_type": "stream",
     "text": [
      "ERT chi2: 32.782468089183965\n",
      "dPhi: 0.9861184815531039\n",
      "ERTphi_d: 81431.65073353297, ERTphi_m: 3459.6538344050145, ERTphi_t: 293.43198891567596\n"
     ]
    },
    {
     "name": "stdout",
     "output_type": "stream",
     "text": [
      "-------------------ERT Iteration: 2 ---------------------------\n"
     ]
    },
    {
     "name": "stdout",
     "output_type": "stream",
     "text": [
      "ERT chi2: 20.702578241171217\n",
      "dPhi: 0.36848628404516953\n",
      "ERTphi_d: 51425.204351069304, ERTphi_m: 1192.0133342752167, ERTphi_t: 278.75094206530093\n"
     ]
    },
    {
     "name": "stdout",
     "output_type": "stream",
     "text": [
      "-------------------ERT Iteration: 3 ---------------------------\n"
     ]
    },
    {
     "name": "stdout",
     "output_type": "stream",
     "text": [
      "ERT chi2: 10.311176174934074\n",
      "dPhi: 0.5019375821303147\n",
      "ERTphi_d: 25612.96161853624, ERTphi_m: 646.0649574919518, ERTphi_t: 261.5742720378148\n"
     ]
    },
    {
     "name": "stdout",
     "output_type": "stream",
     "text": [
      "-------------------ERT Iteration: 4 ---------------------------\n"
     ]
    },
    {
     "name": "stdout",
     "output_type": "stream",
     "text": [
      "ERT chi2: 1.708029816418048\n",
      "dPhi: 0.8343516018502158\n",
      "ERTphi_d: 4242.746063982431, ERTphi_m: 523.2899364256285, ERTphi_t: 255.3644185240111\n"
     ]
    },
    {
     "name": "stdout",
     "output_type": "stream",
     "text": [
      "-------------------ERT Iteration: 5 ---------------------------\n"
     ]
    },
    {
     "name": "stdout",
     "output_type": "stream",
     "text": [
      "ERT chi2: 1.1142886342003364\n",
      "dPhi: 0.3476175746526844\n",
      "ERTphi_d: 2767.892967353636, ERTphi_m: 463.4735619497734, ERTphi_t: 257.01706882737085\n",
      "Convergence reached at iteration 5\n"
     ]
    },
    {
     "name": "stdout",
     "output_type": "stream",
     "text": [
      "End of inversion\n",
      "\n",
      "Window 2 results:\n",
      "Model shape: (4529, 3)\n",
      "Coverage available: True\n",
      "Number of iterations: 6\n"
     ]
    },
    {
     "name": "stdout",
     "output_type": "stream",
     "text": [
      "\n",
      "Starting L2 inversion for window 3"
     ]
    },
    {
     "name": "stdout",
     "output_type": "stream",
     "text": [
      "\n"
     ]
    },
    {
     "name": "stderr",
     "output_type": "stream",
     "text": [
      "23/05/25 - 13:52:23 - pyGIMLi - \u001b[0;32;49mINFO\u001b[0m - Found 3 regions.\n"
     ]
    },
    {
     "name": "stderr",
     "output_type": "stream",
     "text": [
      "23/05/25 - 13:52:23 - pyGIMLi - \u001b[0;32;49mINFO\u001b[0m - (ERTModelling) Region with smallest marker (1) set to background.\n"
     ]
    },
    {
     "name": "stderr",
     "output_type": "stream",
     "text": [
      "23/05/25 - 13:52:23 - pyGIMLi - \u001b[0;32;49mINFO\u001b[0m - Found 3 regions.\n"
     ]
    },
    {
     "name": "stderr",
     "output_type": "stream",
     "text": [
      "23/05/25 - 13:52:23 - pyGIMLi - \u001b[0;32;49mINFO\u001b[0m - (ERTModelling) Region with smallest marker (1) set to background.\n"
     ]
    },
    {
     "name": "stderr",
     "output_type": "stream",
     "text": [
      "23/05/25 - 13:52:23 - pyGIMLi - \u001b[0;32;49mINFO\u001b[0m - Found 3 regions.\n"
     ]
    },
    {
     "name": "stderr",
     "output_type": "stream",
     "text": [
      "23/05/25 - 13:52:23 - pyGIMLi - \u001b[0;32;49mINFO\u001b[0m - (ERTModelling) Region with smallest marker (1) set to background.\n"
     ]
    },
    {
     "name": "stderr",
     "output_type": "stream",
     "text": [
      "23/05/25 - 13:52:24 - pyGIMLi - \u001b[0;32;49mINFO\u001b[0m - Creating forward mesh from region infos.\n"
     ]
    },
    {
     "name": "stderr",
     "output_type": "stream",
     "text": [
      "23/05/25 - 13:52:24 - pyGIMLi - \u001b[0;32;49mINFO\u001b[0m - Creating refined mesh (H2) to solve forward task.\n"
     ]
    },
    {
     "name": "stderr",
     "output_type": "stream",
     "text": [
      "23/05/25 - 13:52:24 - pyGIMLi - \u001b[0;32;49mINFO\u001b[0m - Mesh for forward task: Mesh: Nodes: 11088 Cells: 21748 Boundaries: 16524\n"
     ]
    },
    {
     "name": "stdout",
     "output_type": "stream",
     "text": [
      "-6.907755278982137 9.210340371976184\n",
      "-------------------ERT Iteration: 0 ---------------------------\n"
     ]
    },
    {
     "name": "stderr",
     "output_type": "stream",
     "text": [
      "23/05/25 - 13:53:10 - pyGIMLi - \u001b[0;32;49mINFO\u001b[0m - Creating forward mesh from region infos.\n"
     ]
    },
    {
     "name": "stderr",
     "output_type": "stream",
     "text": [
      "23/05/25 - 13:53:10 - pyGIMLi - \u001b[0;32;49mINFO\u001b[0m - Creating refined mesh (H2) to solve forward task.\n"
     ]
    },
    {
     "name": "stderr",
     "output_type": "stream",
     "text": [
      "23/05/25 - 13:53:10 - pyGIMLi - \u001b[0;32;49mINFO\u001b[0m - Mesh for forward task: Mesh: Nodes: 11088 Cells: 21748 Boundaries: 16524\n"
     ]
    },
    {
     "name": "stderr",
     "output_type": "stream",
     "text": [
      "23/05/25 - 13:53:51 - pyGIMLi - \u001b[0;32;49mINFO\u001b[0m - Creating forward mesh from region infos.\n"
     ]
    },
    {
     "name": "stderr",
     "output_type": "stream",
     "text": [
      "23/05/25 - 13:53:51 - pyGIMLi - \u001b[0;32;49mINFO\u001b[0m - Creating refined mesh (H2) to solve forward task.\n"
     ]
    },
    {
     "name": "stderr",
     "output_type": "stream",
     "text": [
      "23/05/25 - 13:53:51 - pyGIMLi - \u001b[0;32;49mINFO\u001b[0m - Mesh for forward task: Mesh: Nodes: 11088 Cells: 21748 Boundaries: 16524\n"
     ]
    },
    {
     "name": "stdout",
     "output_type": "stream",
     "text": [
      "ERT chi2: 2335.6986437992678\n",
      "dPhi: 1.0\n",
      "ERTphi_d: 5801875.431197381, ERTphi_m: 0.0, ERTphi_t: 0.0\n"
     ]
    },
    {
     "name": "stdout",
     "output_type": "stream",
     "text": [
      "-------------------ERT Iteration: 1 ---------------------------\n"
     ]
    },
    {
     "name": "stdout",
     "output_type": "stream",
     "text": [
      "ERT chi2: 32.9294137219743\n",
      "dPhi: 0.9859016856436534\n",
      "ERTphi_d: 81796.66368538416, ERTphi_m: 3393.726782849587, ERTphi_t: 264.759691323182\n"
     ]
    },
    {
     "name": "stdout",
     "output_type": "stream",
     "text": [
      "-------------------ERT Iteration: 2 ---------------------------\n"
     ]
    },
    {
     "name": "stdout",
     "output_type": "stream",
     "text": [
      "ERT chi2: 21.435174052310423\n",
      "dPhi: 0.34905691813133\n",
      "ERTphi_d: 53244.97234593909, ERTphi_m: 1145.770460010107, ERTphi_t: 251.76406092631737\n"
     ]
    },
    {
     "name": "stdout",
     "output_type": "stream",
     "text": [
      "-------------------ERT Iteration: 3 ---------------------------\n"
     ]
    },
    {
     "name": "stdout",
     "output_type": "stream",
     "text": [
      "ERT chi2: 11.142159443102997\n",
      "dPhi: 0.4801927236087909\n",
      "ERTphi_d: 27677.124056667846, ERTphi_m: 630.2513635826859, ERTphi_t: 235.56448624002712\n"
     ]
    },
    {
     "name": "stdout",
     "output_type": "stream",
     "text": [
      "-------------------ERT Iteration: 4 ---------------------------\n"
     ]
    },
    {
     "name": "stdout",
     "output_type": "stream",
     "text": [
      "ERT chi2: 1.826522295380038\n",
      "dPhi: 0.8360710682065624\n",
      "ERTphi_d: 4537.081381724014, ERTphi_m: 490.8483391028681, ERTphi_t: 230.77152047777759\n"
     ]
    },
    {
     "name": "stdout",
     "output_type": "stream",
     "text": [
      "-------------------ERT Iteration: 5 ---------------------------\n"
     ]
    },
    {
     "name": "stdout",
     "output_type": "stream",
     "text": [
      "ERT chi2: 1.0734435336459234\n",
      "dPhi: 0.4123019815520096\n",
      "ERTphi_d: 2666.4337375764735, ERTphi_m: 435.55758872517356, ERTphi_t: 231.25663602341717\n",
      "Convergence reached at iteration 5\n"
     ]
    },
    {
     "name": "stdout",
     "output_type": "stream",
     "text": [
      "End of inversion\n",
      "\n",
      "Window 3 results:\n",
      "Model shape: (4529, 3)\n",
      "Coverage available: True\n",
      "Number of iterations: 6\n"
     ]
    },
    {
     "name": "stdout",
     "output_type": "stream",
     "text": [
      "\n",
      "Starting L2 inversion for window 4\n"
     ]
    },
    {
     "name": "stderr",
     "output_type": "stream",
     "text": [
      "23/05/25 - 14:22:10 - pyGIMLi - \u001b[0;32;49mINFO\u001b[0m - Found 3 regions.\n"
     ]
    },
    {
     "name": "stderr",
     "output_type": "stream",
     "text": [
      "23/05/25 - 14:22:10 - pyGIMLi - \u001b[0;32;49mINFO\u001b[0m - (ERTModelling) Region with smallest marker (1) set to background.\n"
     ]
    },
    {
     "name": "stderr",
     "output_type": "stream",
     "text": [
      "23/05/25 - 14:22:10 - pyGIMLi - \u001b[0;32;49mINFO\u001b[0m - Found 3 regions.\n"
     ]
    },
    {
     "name": "stderr",
     "output_type": "stream",
     "text": [
      "23/05/25 - 14:22:10 - pyGIMLi - \u001b[0;32;49mINFO\u001b[0m - (ERTModelling) Region with smallest marker (1) set to background.\n"
     ]
    },
    {
     "name": "stderr",
     "output_type": "stream",
     "text": [
      "23/05/25 - 14:22:10 - pyGIMLi - \u001b[0;32;49mINFO\u001b[0m - Found 3 regions.\n"
     ]
    },
    {
     "name": "stderr",
     "output_type": "stream",
     "text": [
      "23/05/25 - 14:22:10 - pyGIMLi - \u001b[0;32;49mINFO\u001b[0m - (ERTModelling) Region with smallest marker (1) set to background.\n"
     ]
    },
    {
     "name": "stderr",
     "output_type": "stream",
     "text": [
      "23/05/25 - 14:22:11 - pyGIMLi - \u001b[0;32;49mINFO\u001b[0m - Creating forward mesh from region infos.\n"
     ]
    },
    {
     "name": "stderr",
     "output_type": "stream",
     "text": [
      "23/05/25 - 14:22:11 - pyGIMLi - \u001b[0;32;49mINFO\u001b[0m - Creating refined mesh (H2) to solve forward task.\n"
     ]
    },
    {
     "name": "stderr",
     "output_type": "stream",
     "text": [
      "23/05/25 - 14:22:11 - pyGIMLi - \u001b[0;32;49mINFO\u001b[0m - Mesh for forward task: Mesh: Nodes: 11088 Cells: 21748 Boundaries: 16524\n"
     ]
    },
    {
     "name": "stdout",
     "output_type": "stream",
     "text": [
      "-6.907755278982137 9.210340371976184\n",
      "-------------------ERT Iteration: 0 ---------------------------\n"
     ]
    },
    {
     "name": "stderr",
     "output_type": "stream",
     "text": [
      "23/05/25 - 14:22:56 - pyGIMLi - \u001b[0;32;49mINFO\u001b[0m - Creating forward mesh from region infos.\n"
     ]
    },
    {
     "name": "stderr",
     "output_type": "stream",
     "text": [
      "23/05/25 - 14:22:56 - pyGIMLi - \u001b[0;32;49mINFO\u001b[0m - Creating refined mesh (H2) to solve forward task.\n"
     ]
    },
    {
     "name": "stderr",
     "output_type": "stream",
     "text": [
      "23/05/25 - 14:22:56 - pyGIMLi - \u001b[0;32;49mINFO\u001b[0m - Mesh for forward task: Mesh: Nodes: 11088 Cells: 21748 Boundaries: 16524\n"
     ]
    },
    {
     "name": "stderr",
     "output_type": "stream",
     "text": [
      "23/05/25 - 14:23:35 - pyGIMLi - \u001b[0;32;49mINFO\u001b[0m - Creating forward mesh from region infos.\n"
     ]
    },
    {
     "name": "stderr",
     "output_type": "stream",
     "text": [
      "23/05/25 - 14:23:35 - pyGIMLi - \u001b[0;32;49mINFO\u001b[0m - Creating refined mesh (H2) to solve forward task.\n"
     ]
    },
    {
     "name": "stderr",
     "output_type": "stream",
     "text": [
      "23/05/25 - 14:23:35 - pyGIMLi - \u001b[0;32;49mINFO\u001b[0m - Mesh for forward task: Mesh: Nodes: 11088 Cells: 21748 Boundaries: 16524\n"
     ]
    },
    {
     "name": "stdout",
     "output_type": "stream",
     "text": [
      "ERT chi2: 2119.8334751763696\n",
      "dPhi: 1.0\n",
      "ERTphi_d: 5265666.352338102, ERTphi_m: 0.0, ERTphi_t: 0.0\n"
     ]
    },
    {
     "name": "stdout",
     "output_type": "stream",
     "text": [
      "-------------------ERT Iteration: 1 ---------------------------\n"
     ]
    },
    {
     "name": "stdout",
     "output_type": "stream",
     "text": [
      "ERT chi2: 31.373495330258912\n",
      "dPhi: 0.9852000189176895\n",
      "ERTphi_d: 77931.76240036314, ERTphi_m: 3372.6573833240936, ERTphi_t: 1999.107958982754\n"
     ]
    },
    {
     "name": "stdout",
     "output_type": "stream",
     "text": [
      "-------------------ERT Iteration: 2 ---------------------------\n"
     ]
    },
    {
     "name": "stdout",
     "output_type": "stream",
     "text": [
      "ERT chi2: 21.196405957115125\n",
      "dPhi: 0.3243849391345392\n",
      "ERTphi_d: 52651.87239747397, ERTphi_m: 1224.3877360562228, ERTphi_t: 1861.8160158419823\n"
     ]
    },
    {
     "name": "stdout",
     "output_type": "stream",
     "text": [
      "-------------------ERT Iteration: 3 ---------------------------\n"
     ]
    },
    {
     "name": "stdout",
     "output_type": "stream",
     "text": [
      "ERT chi2: 10.572130281019763\n",
      "dPhi: 0.5012300527547241\n",
      "ERTphi_d: 26261.171618053093, ERTphi_m: 780.6837170020981, ERTphi_t: 1804.2686836967755\n"
     ]
    },
    {
     "name": "stdout",
     "output_type": "stream",
     "text": [
      "-------------------ERT Iteration: 4 ---------------------------\n"
     ]
    },
    {
     "name": "stdout",
     "output_type": "stream",
     "text": [
      "ERT chi2: 2.0944847100634876\n",
      "dPhi: 0.8018862183505501\n",
      "ERTphi_d: 5202.700019797703, ERTphi_m: 642.1108471565356, ERTphi_t: 1774.5835648218258\n"
     ]
    },
    {
     "name": "stdout",
     "output_type": "stream",
     "text": [
      "-------------------ERT Iteration: 5 ---------------------------\n"
     ]
    },
    {
     "name": "stdout",
     "output_type": "stream",
     "text": [
      "ERT chi2: 1.2164644002284128\n",
      "dPhi: 0.41920588181732793\n",
      "ERTphi_d: 3021.6975701673773, ERTphi_m: 597.1083280141618, ERTphi_t: 1767.5692891193125\n",
      "Convergence reached at iteration 5\n"
     ]
    },
    {
     "name": "stdout",
     "output_type": "stream",
     "text": [
      "End of inversion\n",
      "\n",
      "Window 4 results:\n",
      "Model shape: (4529, 3)\n",
      "Coverage available: True\n",
      "Number of iterations: 6\n"
     ]
    },
    {
     "name": "stdout",
     "output_type": "stream",
     "text": [
      "\n",
      "Starting L2 inversion for window 5\n"
     ]
    },
    {
     "name": "stderr",
     "output_type": "stream",
     "text": [
      "23/05/25 - 14:52:04 - pyGIMLi - \u001b[0;32;49mINFO\u001b[0m - Found 3 regions.\n"
     ]
    },
    {
     "name": "stderr",
     "output_type": "stream",
     "text": [
      "23/05/25 - 14:52:04 - pyGIMLi - \u001b[0;32;49mINFO\u001b[0m - (ERTModelling) Region with smallest marker (1) set to background.\n"
     ]
    },
    {
     "name": "stderr",
     "output_type": "stream",
     "text": [
      "23/05/25 - 14:52:04 - pyGIMLi - \u001b[0;32;49mINFO\u001b[0m - Found 3 regions.\n"
     ]
    },
    {
     "name": "stderr",
     "output_type": "stream",
     "text": [
      "23/05/25 - 14:52:04 - pyGIMLi - \u001b[0;32;49mINFO\u001b[0m - (ERTModelling) Region with smallest marker (1) set to background.\n"
     ]
    },
    {
     "name": "stderr",
     "output_type": "stream",
     "text": [
      "23/05/25 - 14:52:04 - pyGIMLi - \u001b[0;32;49mINFO\u001b[0m - Found 3 regions.\n"
     ]
    },
    {
     "name": "stderr",
     "output_type": "stream",
     "text": [
      "23/05/25 - 14:52:04 - pyGIMLi - \u001b[0;32;49mINFO\u001b[0m - (ERTModelling) Region with smallest marker (1) set to background.\n"
     ]
    },
    {
     "name": "stderr",
     "output_type": "stream",
     "text": [
      "23/05/25 - 14:52:05 - pyGIMLi - \u001b[0;32;49mINFO\u001b[0m - Creating forward mesh from region infos.\n"
     ]
    },
    {
     "name": "stderr",
     "output_type": "stream",
     "text": [
      "23/05/25 - 14:52:05 - pyGIMLi - \u001b[0;32;49mINFO\u001b[0m - Creating refined mesh (H2) to solve forward task.\n"
     ]
    },
    {
     "name": "stderr",
     "output_type": "stream",
     "text": [
      "23/05/25 - 14:52:05 - pyGIMLi - \u001b[0;32;49mINFO\u001b[0m - Mesh for forward task: Mesh: Nodes: 11088 Cells: 21748 Boundaries: 16524\n"
     ]
    },
    {
     "name": "stdout",
     "output_type": "stream",
     "text": [
      "-6.907755278982137 9.210340371976184\n",
      "-------------------ERT Iteration: 0 ---------------------------\n"
     ]
    },
    {
     "name": "stderr",
     "output_type": "stream",
     "text": [
      "23/05/25 - 14:52:49 - pyGIMLi - \u001b[0;32;49mINFO\u001b[0m - Creating forward mesh from region infos.\n"
     ]
    },
    {
     "name": "stderr",
     "output_type": "stream",
     "text": [
      "23/05/25 - 14:52:49 - pyGIMLi - \u001b[0;32;49mINFO\u001b[0m - Creating refined mesh (H2) to solve forward task.\n"
     ]
    },
    {
     "name": "stderr",
     "output_type": "stream",
     "text": [
      "23/05/25 - 14:52:49 - pyGIMLi - \u001b[0;32;49mINFO\u001b[0m - Mesh for forward task: Mesh: Nodes: 11088 Cells: 21748 Boundaries: 16524\n"
     ]
    },
    {
     "name": "stderr",
     "output_type": "stream",
     "text": [
      "23/05/25 - 14:53:32 - pyGIMLi - \u001b[0;32;49mINFO\u001b[0m - Creating forward mesh from region infos.\n"
     ]
    },
    {
     "name": "stderr",
     "output_type": "stream",
     "text": [
      "23/05/25 - 14:53:32 - pyGIMLi - \u001b[0;32;49mINFO\u001b[0m - Creating refined mesh (H2) to solve forward task.\n"
     ]
    },
    {
     "name": "stderr",
     "output_type": "stream",
     "text": [
      "23/05/25 - 14:53:32 - pyGIMLi - \u001b[0;32;49mINFO\u001b[0m - Mesh for forward task: Mesh: Nodes: 11088 Cells: 21748 Boundaries: 16524\n"
     ]
    },
    {
     "name": "stdout",
     "output_type": "stream",
     "text": [
      "ERT chi2: 1950.9770278267108\n",
      "dPhi: 1.0\n",
      "ERTphi_d: 4846226.93712155, ERTphi_m: 0.0, ERTphi_t: 0.0\n"
     ]
    },
    {
     "name": "stdout",
     "output_type": "stream",
     "text": [
      "-------------------ERT Iteration: 1 ---------------------------\n"
     ]
    },
    {
     "name": "stdout",
     "output_type": "stream",
     "text": [
      "ERT chi2: 30.934239463230924\n",
      "dPhi: 0.9841442318274296\n",
      "ERTphi_d: 76840.65082666562, ERTphi_m: 3225.2682634607336, ERTphi_t: 1982.9319447291757\n"
     ]
    },
    {
     "name": "stdout",
     "output_type": "stream",
     "text": [
      "-------------------ERT Iteration: 2 ---------------------------\n"
     ]
    },
    {
     "name": "stdout",
     "output_type": "stream",
     "text": [
      "ERT chi2: 20.100882759260458\n",
      "dPhi: 0.35020601417556163\n",
      "ERTphi_d: 49930.59277400297, ERTphi_m: 1171.2937861713922, ERTphi_t: 1869.3707080633644\n"
     ]
    },
    {
     "name": "stdout",
     "output_type": "stream",
     "text": [
      "-------------------ERT Iteration: 3 ---------------------------\n"
     ]
    },
    {
     "name": "stdout",
     "output_type": "stream",
     "text": [
      "ERT chi2: 8.935523826803973\n",
      "dPhi: 0.5554660989857579\n",
      "ERTphi_d: 22195.841185781068, ERTphi_m: 733.2144456862547, ERTphi_t: 1841.8807049215752\n"
     ]
    },
    {
     "name": "stdout",
     "output_type": "stream",
     "text": [
      "-------------------ERT Iteration: 4 ---------------------------\n"
     ]
    },
    {
     "name": "stdout",
     "output_type": "stream",
     "text": [
      "ERT chi2: 1.8890389184653738\n",
      "dPhi: 0.788592257703034\n",
      "ERTphi_d: 4692.3726734679885, ERTphi_m: 600.3186557890818, ERTphi_t: 1811.6924691161908\n"
     ]
    },
    {
     "name": "stdout",
     "output_type": "stream",
     "text": [
      "-------------------ERT Iteration: 5 ---------------------------\n"
     ]
    },
    {
     "name": "stdout",
     "output_type": "stream",
     "text": [
      "ERT chi2: 1.1899204467036115\n",
      "dPhi: 0.3700921484083109\n",
      "ERTphi_d: 2955.762389611771, ERTphi_m: 554.6929501948996, ERTphi_t: 1806.683235746204\n",
      "Convergence reached at iteration 5\n"
     ]
    },
    {
     "name": "stdout",
     "output_type": "stream",
     "text": [
      "End of inversion\n",
      "\n",
      "Window 5 results:\n",
      "Model shape: (4529, 3)\n",
      "Coverage available: True\n",
      "Number of iterations: 6\n"
     ]
    },
    {
     "name": "stdout",
     "output_type": "stream",
     "text": [
      "\n",
      "Starting L2 inversion for window 6\n"
     ]
    },
    {
     "name": "stderr",
     "output_type": "stream",
     "text": [
      "23/05/25 - 15:21:51 - pyGIMLi - \u001b[0;32;49mINFO\u001b[0m - Found 3 regions.\n"
     ]
    },
    {
     "name": "stderr",
     "output_type": "stream",
     "text": [
      "23/05/25 - 15:21:51 - pyGIMLi - \u001b[0;32;49mINFO\u001b[0m - (ERTModelling) Region with smallest marker (1) set to background.\n"
     ]
    },
    {
     "name": "stderr",
     "output_type": "stream",
     "text": [
      "23/05/25 - 15:21:51 - pyGIMLi - \u001b[0;32;49mINFO\u001b[0m - Found 3 regions.\n"
     ]
    },
    {
     "name": "stderr",
     "output_type": "stream",
     "text": [
      "23/05/25 - 15:21:51 - pyGIMLi - \u001b[0;32;49mINFO\u001b[0m - (ERTModelling) Region with smallest marker (1) set to background.\n"
     ]
    },
    {
     "name": "stderr",
     "output_type": "stream",
     "text": [
      "23/05/25 - 15:21:51 - pyGIMLi - \u001b[0;32;49mINFO\u001b[0m - Found 3 regions.\n"
     ]
    },
    {
     "name": "stderr",
     "output_type": "stream",
     "text": [
      "23/05/25 - 15:21:51 - pyGIMLi - \u001b[0;32;49mINFO\u001b[0m - (ERTModelling) Region with smallest marker (1) set to background.\n"
     ]
    },
    {
     "name": "stderr",
     "output_type": "stream",
     "text": [
      "23/05/25 - 15:21:51 - pyGIMLi - \u001b[0;32;49mINFO\u001b[0m - Creating forward mesh from region infos.\n"
     ]
    },
    {
     "name": "stderr",
     "output_type": "stream",
     "text": [
      "23/05/25 - 15:21:51 - pyGIMLi - \u001b[0;32;49mINFO\u001b[0m - Creating refined mesh (H2) to solve forward task.\n"
     ]
    },
    {
     "name": "stderr",
     "output_type": "stream",
     "text": [
      "23/05/25 - 15:21:52 - pyGIMLi - \u001b[0;32;49mINFO\u001b[0m - Mesh for forward task: Mesh: Nodes: 11088 Cells: 21748 Boundaries: 16524\n"
     ]
    },
    {
     "name": "stdout",
     "output_type": "stream",
     "text": [
      "-6.907755278982137 9.210340371976184\n",
      "-------------------ERT Iteration: 0 ---------------------------\n"
     ]
    },
    {
     "name": "stderr",
     "output_type": "stream",
     "text": [
      "23/05/25 - 15:22:37 - pyGIMLi - \u001b[0;32;49mINFO\u001b[0m - Creating forward mesh from region infos.\n"
     ]
    },
    {
     "name": "stderr",
     "output_type": "stream",
     "text": [
      "23/05/25 - 15:22:37 - pyGIMLi - \u001b[0;32;49mINFO\u001b[0m - Creating refined mesh (H2) to solve forward task.\n"
     ]
    },
    {
     "name": "stderr",
     "output_type": "stream",
     "text": [
      "23/05/25 - 15:22:37 - pyGIMLi - \u001b[0;32;49mINFO\u001b[0m - Mesh for forward task: Mesh: Nodes: 11088 Cells: 21748 Boundaries: 16524\n"
     ]
    },
    {
     "name": "stderr",
     "output_type": "stream",
     "text": [
      "23/05/25 - 15:23:20 - pyGIMLi - \u001b[0;32;49mINFO\u001b[0m - Creating forward mesh from region infos.\n"
     ]
    },
    {
     "name": "stderr",
     "output_type": "stream",
     "text": [
      "23/05/25 - 15:23:20 - pyGIMLi - \u001b[0;32;49mINFO\u001b[0m - Creating refined mesh (H2) to solve forward task.\n"
     ]
    },
    {
     "name": "stderr",
     "output_type": "stream",
     "text": [
      "23/05/25 - 15:23:20 - pyGIMLi - \u001b[0;32;49mINFO\u001b[0m - Mesh for forward task: Mesh: Nodes: 11088 Cells: 21748 Boundaries: 16524\n"
     ]
    },
    {
     "name": "stdout",
     "output_type": "stream",
     "text": [
      "ERT chi2: 1883.9060365558214\n",
      "dPhi: 1.0\n",
      "ERTphi_d: 4679622.59480466, ERTphi_m: 0.0, ERTphi_t: 0.0\n"
     ]
    },
    {
     "name": "stdout",
     "output_type": "stream",
     "text": [
      "-------------------ERT Iteration: 1 ---------------------------\n"
     ]
    },
    {
     "name": "stdout",
     "output_type": "stream",
     "text": [
      "ERT chi2: 34.23015357996252\n",
      "dPhi: 0.981830222465584\n",
      "ERTphi_d: 85027.7014926269, ERTphi_m: 3097.2773234407177, ERTphi_t: 1335.976669247848\n"
     ]
    },
    {
     "name": "stdout",
     "output_type": "stream",
     "text": [
      "-------------------ERT Iteration: 2 ---------------------------\n"
     ]
    },
    {
     "name": "stdout",
     "output_type": "stream",
     "text": [
      "ERT chi2: 19.436690659697497\n",
      "dPhi: 0.43217635251641834\n",
      "ERTphi_d: 48280.73959868858, ERTphi_m: 1130.0986689230533, ERTphi_t: 1220.9828219098335\n"
     ]
    },
    {
     "name": "stdout",
     "output_type": "stream",
     "text": [
      "-------------------ERT Iteration: 3 ---------------------------\n"
     ]
    },
    {
     "name": "stdout",
     "output_type": "stream",
     "text": [
      "ERT chi2: 8.70651501380176\n",
      "dPhi: 0.5520577465455602\n",
      "ERTphi_d: 21626.98329428357, ERTphi_m: 690.624004798103, ERTphi_t: 1188.9589452592577\n"
     ]
    },
    {
     "name": "stdout",
     "output_type": "stream",
     "text": [
      "-------------------ERT Iteration: 4 ---------------------------\n"
     ]
    },
    {
     "name": "stdout",
     "output_type": "stream",
     "text": [
      "ERT chi2: 1.7475230844470118\n",
      "dPhi: 0.7992855830746516\n",
      "ERTphi_d: 4340.847341766377, ERTphi_m: 560.2488543601182, ERTphi_t: 1162.9305578930348\n"
     ]
    },
    {
     "name": "stdout",
     "output_type": "stream",
     "text": [
      "-------------------ERT Iteration: 5 ---------------------------\n"
     ]
    },
    {
     "name": "stdout",
     "output_type": "stream",
     "text": [
      "ERT chi2: 1.1589076613974425\n",
      "dPhi: 0.3368284106162932\n",
      "ERTphi_d: 2878.7266309112474, ERTphi_m: 514.1188863895743, ERTphi_t: 1164.0310145826106\n",
      "Convergence reached at iteration 5\n"
     ]
    },
    {
     "name": "stdout",
     "output_type": "stream",
     "text": [
      "End of inversion\n",
      "\n",
      "Window 6 results:\n",
      "Model shape: (4529, 3)\n",
      "Coverage available: True\n",
      "Number of iterations: 6\n"
     ]
    },
    {
     "name": "stdout",
     "output_type": "stream",
     "text": [
      "\n",
      "Starting L2 inversion for window 7\n"
     ]
    },
    {
     "name": "stderr",
     "output_type": "stream",
     "text": [
      "23/05/25 - 15:52:14 - pyGIMLi - \u001b[0;32;49mINFO\u001b[0m - Found 3 regions.\n"
     ]
    },
    {
     "name": "stderr",
     "output_type": "stream",
     "text": [
      "23/05/25 - 15:52:14 - pyGIMLi - \u001b[0;32;49mINFO\u001b[0m - (ERTModelling) Region with smallest marker (1) set to background.\n"
     ]
    },
    {
     "name": "stderr",
     "output_type": "stream",
     "text": [
      "23/05/25 - 15:52:14 - pyGIMLi - \u001b[0;32;49mINFO\u001b[0m - Found 3 regions.\n"
     ]
    },
    {
     "name": "stderr",
     "output_type": "stream",
     "text": [
      "23/05/25 - 15:52:14 - pyGIMLi - \u001b[0;32;49mINFO\u001b[0m - (ERTModelling) Region with smallest marker (1) set to background.\n"
     ]
    },
    {
     "name": "stderr",
     "output_type": "stream",
     "text": [
      "23/05/25 - 15:52:14 - pyGIMLi - \u001b[0;32;49mINFO\u001b[0m - Found 3 regions.\n"
     ]
    },
    {
     "name": "stderr",
     "output_type": "stream",
     "text": [
      "23/05/25 - 15:52:14 - pyGIMLi - \u001b[0;32;49mINFO\u001b[0m - (ERTModelling) Region with smallest marker (1) set to background.\n"
     ]
    },
    {
     "name": "stderr",
     "output_type": "stream",
     "text": [
      "23/05/25 - 15:52:14 - pyGIMLi - \u001b[0;32;49mINFO\u001b[0m - Creating forward mesh from region infos.\n"
     ]
    },
    {
     "name": "stderr",
     "output_type": "stream",
     "text": [
      "23/05/25 - 15:52:15 - pyGIMLi - \u001b[0;32;49mINFO\u001b[0m - Creating refined mesh (H2) to solve forward task.\n"
     ]
    },
    {
     "name": "stderr",
     "output_type": "stream",
     "text": [
      "23/05/25 - 15:52:15 - pyGIMLi - \u001b[0;32;49mINFO\u001b[0m - Mesh for forward task: Mesh: Nodes: 11088 Cells: 21748 Boundaries: 16524\n"
     ]
    },
    {
     "name": "stdout",
     "output_type": "stream",
     "text": [
      "-6.907755278982137 9.210340371976184\n",
      "-------------------ERT Iteration: 0 ---------------------------\n"
     ]
    },
    {
     "name": "stderr",
     "output_type": "stream",
     "text": [
      "23/05/25 - 15:53:01 - pyGIMLi - \u001b[0;32;49mINFO\u001b[0m - Creating forward mesh from region infos.\n"
     ]
    },
    {
     "name": "stderr",
     "output_type": "stream",
     "text": [
      "23/05/25 - 15:53:01 - pyGIMLi - \u001b[0;32;49mINFO\u001b[0m - Creating refined mesh (H2) to solve forward task.\n"
     ]
    },
    {
     "name": "stderr",
     "output_type": "stream",
     "text": [
      "23/05/25 - 15:53:01 - pyGIMLi - \u001b[0;32;49mINFO\u001b[0m - Mesh for forward task: Mesh: Nodes: 11088 Cells: 21748 Boundaries: 16524\n"
     ]
    },
    {
     "name": "stderr",
     "output_type": "stream",
     "text": [
      "23/05/25 - 15:53:42 - pyGIMLi - \u001b[0;32;49mINFO\u001b[0m - Creating forward mesh from region infos.\n"
     ]
    },
    {
     "name": "stderr",
     "output_type": "stream",
     "text": [
      "23/05/25 - 15:53:42 - pyGIMLi - \u001b[0;32;49mINFO\u001b[0m - Creating refined mesh (H2) to solve forward task.\n"
     ]
    },
    {
     "name": "stderr",
     "output_type": "stream",
     "text": [
      "23/05/25 - 15:53:42 - pyGIMLi - \u001b[0;32;49mINFO\u001b[0m - Mesh for forward task: Mesh: Nodes: 11088 Cells: 21748 Boundaries: 16524\n"
     ]
    },
    {
     "name": "stdout",
     "output_type": "stream",
     "text": [
      "ERT chi2: 2081.2715290469173\n",
      "dPhi: 1.0\n",
      "ERTphi_d: 5169878.478152542, ERTphi_m: 0.0, ERTphi_t: 0.0\n"
     ]
    },
    {
     "name": "stdout",
     "output_type": "stream",
     "text": [
      "-------------------ERT Iteration: 1 ---------------------------\n"
     ]
    },
    {
     "name": "stdout",
     "output_type": "stream",
     "text": [
      "ERT chi2: 40.00161712123052\n",
      "dPhi: 0.9807802026006917\n",
      "ERTphi_d: 99364.0169291366, ERTphi_m: 3246.4013620903347, ERTphi_t: 1399.656811839592\n"
     ]
    },
    {
     "name": "stdout",
     "output_type": "stream",
     "text": [
      "-------------------ERT Iteration: 2 ---------------------------\n"
     ]
    },
    {
     "name": "stdout",
     "output_type": "stream",
     "text": [
      "ERT chi2: 18.778813315965287\n",
      "dPhi: 0.5305486460946452\n",
      "ERTphi_d: 46646.572276857776, ERTphi_m: 1222.9371941793931, ERTphi_t: 1262.8867231059526\n"
     ]
    },
    {
     "name": "stdout",
     "output_type": "stream",
     "text": [
      "-------------------ERT Iteration: 3 ---------------------------\n"
     ]
    },
    {
     "name": "stdout",
     "output_type": "stream",
     "text": [
      "ERT chi2: 9.38610717865019\n",
      "dPhi: 0.5001757022276614\n",
      "ERTphi_d: 23315.090231767073, ERTphi_m: 720.456211263077, ERTphi_t: 1200.3773811364272\n"
     ]
    },
    {
     "name": "stdout",
     "output_type": "stream",
     "text": [
      "-------------------ERT Iteration: 4 ---------------------------\n"
     ]
    },
    {
     "name": "stdout",
     "output_type": "stream",
     "text": [
      "ERT chi2: 1.705099556294318\n",
      "dPhi: 0.8183379409759173\n",
      "ERTphi_d: 4235.467297835086, ERTphi_m: 609.4675797548607, ERTphi_t: 1181.78830939784\n"
     ]
    },
    {
     "name": "stdout",
     "output_type": "stream",
     "text": [
      "-------------------ERT Iteration: 5 ---------------------------\n"
     ]
    },
    {
     "name": "stdout",
     "output_type": "stream",
     "text": [
      "ERT chi2: 1.182619325668223\n",
      "dPhi: 0.30642212573299715\n",
      "ERTphi_d: 2937.626404959866, ERTphi_m: 558.1966611866691, ERTphi_t: 1182.579119551724\n",
      "Convergence reached at iteration 5\n"
     ]
    },
    {
     "name": "stdout",
     "output_type": "stream",
     "text": [
      "End of inversion\n",
      "\n",
      "Window 7 results:\n",
      "Model shape: (4529, 3)\n",
      "Coverage available: True\n",
      "Number of iterations: 6\n"
     ]
    },
    {
     "name": "stdout",
     "output_type": "stream",
     "text": [
      "\n",
      "Starting L2 inversion for window 8\n"
     ]
    },
    {
     "name": "stderr",
     "output_type": "stream",
     "text": [
      "23/05/25 - 16:22:18 - pyGIMLi - \u001b[0;32;49mINFO\u001b[0m - Found 3 regions.\n"
     ]
    },
    {
     "name": "stderr",
     "output_type": "stream",
     "text": [
      "23/05/25 - 16:22:18 - pyGIMLi - \u001b[0;32;49mINFO\u001b[0m - (ERTModelling) Region with smallest marker (1) set to background.\n"
     ]
    },
    {
     "name": "stderr",
     "output_type": "stream",
     "text": [
      "23/05/25 - 16:22:18 - pyGIMLi - \u001b[0;32;49mINFO\u001b[0m - Found 3 regions.\n"
     ]
    },
    {
     "name": "stderr",
     "output_type": "stream",
     "text": [
      "23/05/25 - 16:22:18 - pyGIMLi - \u001b[0;32;49mINFO\u001b[0m - (ERTModelling) Region with smallest marker (1) set to background.\n"
     ]
    },
    {
     "name": "stderr",
     "output_type": "stream",
     "text": [
      "23/05/25 - 16:22:18 - pyGIMLi - \u001b[0;32;49mINFO\u001b[0m - Found 3 regions.\n"
     ]
    },
    {
     "name": "stderr",
     "output_type": "stream",
     "text": [
      "23/05/25 - 16:22:18 - pyGIMLi - \u001b[0;32;49mINFO\u001b[0m - (ERTModelling) Region with smallest marker (1) set to background.\n"
     ]
    },
    {
     "name": "stderr",
     "output_type": "stream",
     "text": [
      "23/05/25 - 16:22:19 - pyGIMLi - \u001b[0;32;49mINFO\u001b[0m - Creating forward mesh from region infos.\n"
     ]
    },
    {
     "name": "stderr",
     "output_type": "stream",
     "text": [
      "23/05/25 - 16:22:19 - pyGIMLi - \u001b[0;32;49mINFO\u001b[0m - Creating refined mesh (H2) to solve forward task.\n"
     ]
    },
    {
     "name": "stderr",
     "output_type": "stream",
     "text": [
      "23/05/25 - 16:22:19 - pyGIMLi - \u001b[0;32;49mINFO\u001b[0m - Mesh for forward task: Mesh: Nodes: 11088 Cells: 21748 Boundaries: 16524\n"
     ]
    },
    {
     "name": "stdout",
     "output_type": "stream",
     "text": [
      "-6.907755278982137 9.210340371976184\n",
      "-------------------ERT Iteration: 0 ---------------------------\n"
     ]
    },
    {
     "name": "stderr",
     "output_type": "stream",
     "text": [
      "23/05/25 - 16:23:06 - pyGIMLi - \u001b[0;32;49mINFO\u001b[0m - Creating forward mesh from region infos.\n"
     ]
    },
    {
     "name": "stderr",
     "output_type": "stream",
     "text": [
      "23/05/25 - 16:23:06 - pyGIMLi - \u001b[0;32;49mINFO\u001b[0m - Creating refined mesh (H2) to solve forward task.\n"
     ]
    },
    {
     "name": "stderr",
     "output_type": "stream",
     "text": [
      "23/05/25 - 16:23:06 - pyGIMLi - \u001b[0;32;49mINFO\u001b[0m - Mesh for forward task: Mesh: Nodes: 11088 Cells: 21748 Boundaries: 16524\n"
     ]
    },
    {
     "name": "stderr",
     "output_type": "stream",
     "text": [
      "23/05/25 - 16:23:49 - pyGIMLi - \u001b[0;32;49mINFO\u001b[0m - Creating forward mesh from region infos.\n"
     ]
    },
    {
     "name": "stderr",
     "output_type": "stream",
     "text": [
      "23/05/25 - 16:23:49 - pyGIMLi - \u001b[0;32;49mINFO\u001b[0m - Creating refined mesh (H2) to solve forward task.\n"
     ]
    },
    {
     "name": "stderr",
     "output_type": "stream",
     "text": [
      "23/05/25 - 16:23:50 - pyGIMLi - \u001b[0;32;49mINFO\u001b[0m - Mesh for forward task: Mesh: Nodes: 11088 Cells: 21748 Boundaries: 16524\n"
     ]
    },
    {
     "name": "stdout",
     "output_type": "stream",
     "text": [
      "ERT chi2: 2340.2854558258423\n",
      "dPhi: 1.0\n",
      "ERTphi_d: 5813269.072271392, ERTphi_m: 0.0, ERTphi_t: 0.0\n"
     ]
    },
    {
     "name": "stdout",
     "output_type": "stream",
     "text": [
      "-------------------ERT Iteration: 1 ---------------------------\n"
     ]
    },
    {
     "name": "stdout",
     "output_type": "stream",
     "text": [
      "ERT chi2: 44.26529053397118\n",
      "dPhi: 0.9810855165450957\n",
      "ERTphi_d: 109954.98168638442, ERTphi_m: 3445.501849224727, ERTphi_t: 631.1615889260861\n"
     ]
    },
    {
     "name": "stdout",
     "output_type": "stream",
     "text": [
      "-------------------ERT Iteration: 2 ---------------------------\n"
     ]
    },
    {
     "name": "stdout",
     "output_type": "stream",
     "text": [
      "ERT chi2: 19.62859274543614\n",
      "dPhi: 0.556569210127012\n",
      "ERTphi_d: 48757.424379663375, ERTphi_m: 1300.6009580453147, ERTphi_t: 580.1064168316179\n"
     ]
    },
    {
     "name": "stdout",
     "output_type": "stream",
     "text": [
      "-------------------ERT Iteration: 3 ---------------------------\n"
     ]
    },
    {
     "name": "stdout",
     "output_type": "stream",
     "text": [
      "ERT chi2: 11.149992385979177\n",
      "dPhi: 0.4319515142739069\n",
      "ERTphi_d: 27696.581086772276, ERTphi_m: 740.5983869813889, ERTphi_t: 577.5629528379034\n"
     ]
    },
    {
     "name": "stdout",
     "output_type": "stream",
     "text": [
      "-------------------ERT Iteration: 4 ---------------------------\n"
     ]
    },
    {
     "name": "stdout",
     "output_type": "stream",
     "text": [
      "ERT chi2: 1.7836700432632742\n",
      "dPhi: 0.8400294832930835\n",
      "ERTphi_d: 4430.636387465973, ERTphi_m: 630.2498059252589, ERTphi_t: 568.0656553195433\n"
     ]
    },
    {
     "name": "stdout",
     "output_type": "stream",
     "text": [
      "-------------------ERT Iteration: 5 ---------------------------\n"
     ]
    },
    {
     "name": "stdout",
     "output_type": "stream",
     "text": [
      "ERT chi2: 1.1504012199105402\n",
      "dPhi: 0.355036978809237\n",
      "ERTphi_d: 2857.596630257782, ERTphi_m: 565.9672084104744, ERTphi_t: 567.2208566144889\n",
      "Convergence reached at iteration 5\n"
     ]
    },
    {
     "name": "stdout",
     "output_type": "stream",
     "text": [
      "End of inversion\n",
      "\n",
      "Window 8 results:\n",
      "Model shape: (4529, 3)\n",
      "Coverage available: True\n",
      "Number of iterations: 6\n"
     ]
    },
    {
     "name": "stdout",
     "output_type": "stream",
     "text": [
      "\n",
      "Starting L2 inversion for window 9\n"
     ]
    },
    {
     "name": "stderr",
     "output_type": "stream",
     "text": [
      "23/05/25 - 16:53:00 - pyGIMLi - \u001b[0;32;49mINFO\u001b[0m - Found 3 regions.\n"
     ]
    },
    {
     "name": "stderr",
     "output_type": "stream",
     "text": [
      "23/05/25 - 16:53:00 - pyGIMLi - \u001b[0;32;49mINFO\u001b[0m - (ERTModelling) Region with smallest marker (1) set to background.\n"
     ]
    },
    {
     "name": "stderr",
     "output_type": "stream",
     "text": [
      "23/05/25 - 16:53:00 - pyGIMLi - \u001b[0;32;49mINFO\u001b[0m - Found 3 regions.\n"
     ]
    },
    {
     "name": "stderr",
     "output_type": "stream",
     "text": [
      "23/05/25 - 16:53:00 - pyGIMLi - \u001b[0;32;49mINFO\u001b[0m - (ERTModelling) Region with smallest marker (1) set to background.\n"
     ]
    },
    {
     "name": "stderr",
     "output_type": "stream",
     "text": [
      "23/05/25 - 16:53:00 - pyGIMLi - \u001b[0;32;49mINFO\u001b[0m - Found 3 regions.\n"
     ]
    },
    {
     "name": "stderr",
     "output_type": "stream",
     "text": [
      "23/05/25 - 16:53:00 - pyGIMLi - \u001b[0;32;49mINFO\u001b[0m - (ERTModelling) Region with smallest marker (1) set to background.\n"
     ]
    },
    {
     "name": "stderr",
     "output_type": "stream",
     "text": [
      "23/05/25 - 16:53:00 - pyGIMLi - \u001b[0;32;49mINFO\u001b[0m - Creating forward mesh from region infos.\n"
     ]
    },
    {
     "name": "stderr",
     "output_type": "stream",
     "text": [
      "23/05/25 - 16:53:01 - pyGIMLi - \u001b[0;32;49mINFO\u001b[0m - Creating refined mesh (H2) to solve forward task.\n"
     ]
    },
    {
     "name": "stderr",
     "output_type": "stream",
     "text": [
      "23/05/25 - 16:53:01 - pyGIMLi - \u001b[0;32;49mINFO\u001b[0m - Mesh for forward task: Mesh: Nodes: 11088 Cells: 21748 Boundaries: 16524\n"
     ]
    },
    {
     "name": "stdout",
     "output_type": "stream",
     "text": [
      "-6.907755278982137 9.210340371976184\n",
      "-------------------ERT Iteration: 0 ---------------------------\n"
     ]
    },
    {
     "name": "stderr",
     "output_type": "stream",
     "text": [
      "23/05/25 - 16:53:48 - pyGIMLi - \u001b[0;32;49mINFO\u001b[0m - Creating forward mesh from region infos.\n"
     ]
    },
    {
     "name": "stderr",
     "output_type": "stream",
     "text": [
      "23/05/25 - 16:53:48 - pyGIMLi - \u001b[0;32;49mINFO\u001b[0m - Creating refined mesh (H2) to solve forward task.\n"
     ]
    },
    {
     "name": "stderr",
     "output_type": "stream",
     "text": [
      "23/05/25 - 16:53:49 - pyGIMLi - \u001b[0;32;49mINFO\u001b[0m - Mesh for forward task: Mesh: Nodes: 11088 Cells: 21748 Boundaries: 16524\n"
     ]
    },
    {
     "name": "stderr",
     "output_type": "stream",
     "text": [
      "23/05/25 - 16:54:32 - pyGIMLi - \u001b[0;32;49mINFO\u001b[0m - Creating forward mesh from region infos.\n"
     ]
    },
    {
     "name": "stderr",
     "output_type": "stream",
     "text": [
      "23/05/25 - 16:54:32 - pyGIMLi - \u001b[0;32;49mINFO\u001b[0m - Creating refined mesh (H2) to solve forward task.\n"
     ]
    },
    {
     "name": "stderr",
     "output_type": "stream",
     "text": [
      "23/05/25 - 16:54:32 - pyGIMLi - \u001b[0;32;49mINFO\u001b[0m - Mesh for forward task: Mesh: Nodes: 11088 Cells: 21748 Boundaries: 16524\n"
     ]
    },
    {
     "name": "stdout",
     "output_type": "stream",
     "text": [
      "ERT chi2: 2547.664056899936\n",
      "dPhi: 1.0\n",
      "ERTphi_d: 6328397.517339441, ERTphi_m: 0.0, ERTphi_t: 0.0\n"
     ]
    },
    {
     "name": "stdout",
     "output_type": "stream",
     "text": [
      "-------------------ERT Iteration: 1 ---------------------------\n"
     ]
    },
    {
     "name": "stdout",
     "output_type": "stream",
     "text": [
      "ERT chi2: 43.568928752966286\n",
      "dPhi: 0.98289847963472\n",
      "ERTphi_d: 108225.21902236826, ERTphi_m: 3910.256008903877, ERTphi_t: 788.3868850846011\n"
     ]
    },
    {
     "name": "stdout",
     "output_type": "stream",
     "text": [
      "-------------------ERT Iteration: 2 ---------------------------\n"
     ]
    },
    {
     "name": "stdout",
     "output_type": "stream",
     "text": [
      "ERT chi2: 20.5335057673715\n",
      "dPhi: 0.528712172755142\n",
      "ERTphi_d: 51005.22832615081, ERTphi_m: 1616.2621042455708, ERTphi_t: 723.5364866415409\n"
     ]
    },
    {
     "name": "stdout",
     "output_type": "stream",
     "text": [
      "-------------------ERT Iteration: 3 ---------------------------\n"
     ]
    },
    {
     "name": "stdout",
     "output_type": "stream",
     "text": [
      "ERT chi2: 12.023255503110837\n",
      "dPhi: 0.41445675963350426\n",
      "ERTphi_d: 29865.76666972732, ERTphi_m: 974.9749013424197, ERTphi_t: 720.977689559395\n"
     ]
    },
    {
     "name": "stdout",
     "output_type": "stream",
     "text": [
      "-------------------ERT Iteration: 4 ---------------------------\n"
     ]
    },
    {
     "name": "stdout",
     "output_type": "stream",
     "text": [
      "ERT chi2: 1.8703046991066878\n",
      "dPhi: 0.8444427386057982\n",
      "ERTphi_d: 4645.836872581012, ERTphi_m: 871.728726176792, ERTphi_t: 713.7031610934775\n"
     ]
    },
    {
     "name": "stdout",
     "output_type": "stream",
     "text": [
      "-------------------ERT Iteration: 5 ---------------------------\n"
     ]
    },
    {
     "name": "stdout",
     "output_type": "stream",
     "text": [
      "ERT chi2: 1.160263483612506\n",
      "dPhi: 0.3796393260591807\n",
      "ERTphi_d: 2882.0944932934653, ERTphi_m: 795.3403074111511, ERTphi_t: 711.3828439655026\n",
      "Convergence reached at iteration 5\n"
     ]
    },
    {
     "name": "stdout",
     "output_type": "stream",
     "text": [
      "End of inversion\n",
      "\n",
      "Window 9 results:\n",
      "Model shape: (4529, 3)\n",
      "Coverage available: True\n",
      "Number of iterations: 6\n"
     ]
    },
    {
     "name": "stdout",
     "output_type": "stream",
     "text": [
      "\n",
      "Final result summary:\n",
      "Model shape: (4529, 12)\n",
      "Number of coverage arrays: 12\n",
      "Number of chi2 values: 60\n",
      "Mesh exists: True\n",
      "Inversion complete!\n"
     ]
    }
   ],
   "source": [
    "# Set up inversion parameters\n",
    "inversion_params = {\n",
    "    \"lambda_val\": 10.0,              # Regularization parameter\n",
    "    \"alpha\": 10.0,                   # Temporal regularization parameter\n",
    "    \"decay_rate\": 0.0,               # Temporal decay rate\n",
    "    \"method\": \"cgls\",                # Solver method ('cgls', 'lsqr', etc.)\n",
    "    \"model_constraints\": (0.001, 1e4), # Min/max resistivity values (ohm-m)\n",
    "    \"max_iterations\": 15,            # Maximum iterations\n",
    "    \"absoluteUError\": 0.0,           # Absolute data error (V)\n",
    "    \"relativeError\": 0.05,           # Relative data error (5%)\n",
    "    \"lambda_rate\": 1.0,              # Lambda reduction rate\n",
    "    \"lambda_min\": 1.0,               # Minimum lambda value\n",
    "    \"inversion_type\": \"L2\"           # 'L1', 'L2', or 'L1L2'\n",
    "}\n",
    "\n",
    "# Define the window size (number of timesteps to process together)\n",
    "window_size = 3  # A window size of 3 means each window includes 3 consecutive measurements\n",
    "\n",
    "# Create the windowed time-lapse inversion object\n",
    "inversion = WindowedTimeLapseERTInversion(\n",
    "    data_dir=data_dir,               # Directory containing ERT data files\n",
    "    ert_files=ert_files,             # List of ERT data filenames\n",
    "    measurement_times=measurement_times,  # List of measurement times\n",
    "    window_size=window_size,         # Size of sliding window\n",
    "    mesh=mesh_with_interface,                       # Mesh for inversion\n",
    "    **inversion_params               # Pass the same inversion parameters\n",
    ")\n",
    "\n",
    "# Run the inversion, optionally in parallel\n",
    "print(\"Starting windowed time-lapse inversion...\")\n",
    "result = inversion.run()\n",
    "print(\"Inversion complete!\")"
   ]
  },
  {
   "cell_type": "code",
   "execution_count": 4,
   "metadata": {
    "collapsed": false,
    "execution": {
     "iopub.execute_input": "2025-05-24T00:23:04.286472Z",
     "iopub.status.busy": "2025-05-24T00:23:04.284419Z",
     "iopub.status.idle": "2025-05-24T00:23:04.320080Z",
     "shell.execute_reply": "2025-05-24T00:23:04.319563Z"
    }
   },
   "outputs": [
    {
     "data": {
      "text/plain": [
       "(12, 4529)"
      ]
     },
     "execution_count": 4,
     "metadata": {},
     "output_type": "execute_result"
    }
   ],
   "source": [
    "result.final_models = np.array(result.final_models)\n",
    "result.final_models.shape\n",
    "result.all_coverage = np.array(result.all_coverage)\n",
    "result.all_coverage.shape"
   ]
  },
  {
   "cell_type": "code",
   "execution_count": 5,
   "metadata": {
    "collapsed": false,
    "execution": {
     "iopub.execute_input": "2025-05-24T00:23:04.324298Z",
     "iopub.status.busy": "2025-05-24T00:23:04.324298Z",
     "iopub.status.idle": "2025-05-24T00:23:04.370300Z",
     "shell.execute_reply": "2025-05-24T00:23:04.369786Z"
    }
   },
   "outputs": [
    {
     "data": {
      "text/plain": [
       "1"
      ]
     },
     "execution_count": 5,
     "metadata": {},
     "output_type": "execute_result"
    }
   ],
   "source": [
    "np.save(\"C:/Users/HChen8/Documents/GitHub/PyHydroGeophysX/examples/results/Structure_WC/resmodel.npy\", result.final_models[result.mesh.cellMarkers(),:])\n",
    "np.save(\"C:/Users/HChen8/Documents/GitHub/PyHydroGeophysX/examples/results/Structure_WC/all_coverage.npy\", result.all_coverage[:,result.mesh.cellMarkers()])\n",
    "result.mesh.save(\"C:/Users/HChen8/Documents/GitHub/PyHydroGeophysX/examples/results/Structure_WC/mesh_res.bms\")"
   ]
  },
  {
   "cell_type": "code",
   "execution_count": 6,
   "metadata": {
    "collapsed": false,
    "execution": {
     "iopub.execute_input": "2025-05-24T00:23:04.373326Z",
     "iopub.status.busy": "2025-05-24T00:23:04.373326Z",
     "iopub.status.idle": "2025-05-24T00:23:07.349312Z",
     "shell.execute_reply": "2025-05-24T00:23:07.349312Z"
    }
   },
   "outputs": [
    {
     "data": {
      "image/png": "[encoded data removed]",
      "text/plain": [
       "<Figure size 1600x600 with 1 Axes>"
      ]
     },
     "metadata": {},
     "output_type": "display_data"
    },
    {
     "data": {
      "text/plain": [
       "<Figure size 640x480 with 0 Axes>"
      ]
     },
     "metadata": {},
     "output_type": "display_data"
    }
   ],
   "source": [
    "from palettable.lightbartlein.diverging import BlueDarkRed18_18\n",
    "import matplotlib.pyplot as plt\n",
    "import numpy as np\n",
    "import matplotlib.pylab as pylab\n",
    "params = {'legend.fontsize': 13,\n",
    "          #'figure.figsize': (15, 5),\n",
    "         'axes.labelsize': 13,\n",
    "         'axes.titlesize':13,\n",
    "         'xtick.labelsize':13,\n",
    "         'ytick.labelsize':13}\n",
    "\n",
    "pylab.rcParams.update(params)\n",
    "plt.rcParams[\"font.family\"] = \"Arial\"\n",
    "\n",
    "fixed_cmap = BlueDarkRed18_18.mpl_colormap\n",
    "fig = plt.figure(figsize=[16, 6])\n",
    "\n",
    "# Use tight_layout with adjusted parameters to reduce space\n",
    "plt.subplots_adjust(wspace=0.05, hspace=0.05)\n",
    "\n",
    "# True resistivity model\n",
    "for i in range(12):\n",
    "    row, col = i // 4, i % 4\n",
    "    ax = fig.add_subplot(3, 4, i+1)\n",
    "    \n",
    "    # Add common ylabel only to leftmost panels\n",
    "    ylabel = \"Elevation (m)\" if col == 0 else None\n",
    "    \n",
    "    # Add resistivity label only to the middle-right panel (row 1, col 3)\n",
    "    resistivity_label = ' Resistivity ($\\Omega$ m)' if (i == 7) else None\n",
    "    \n",
    "    # Only show axis ticks on leftmost and bottom panels\n",
    "    if col != 0:\n",
    "        ax.set_yticks([])\n",
    "    \n",
    "    if row != 2:  # Not bottom row\n",
    "        ax.set_xticks([])\n",
    "    else:\n",
    "        # Add \"distance (m)\" label to bottom row panels\n",
    "        ax.set_xlabel(\"Distance (m)\")\n",
    "    \n",
    "    # Create the plot\n",
    "    ax, cbar = pg.show(result.mesh,\n",
    "                      result.final_models[:,i][result.mesh.cellMarkers()],\n",
    "                      pad=0.3,\n",
    "                      orientation=\"vertical\",\n",
    "                      cMap=fixed_cmap,\n",
    "                      cMin=100,\n",
    "                      cMax=3000,\n",
    "                      ylabel=ylabel,\n",
    "                      label=resistivity_label,\n",
    "                      ax=ax,\n",
    "                      logScale=False,\n",
    "                      coverage=result.all_coverage[i][result.mesh.cellMarkers()]>-1.2)\n",
    "    if i ==0:\n",
    "        ax.plot([40],[1607],'*',c='k')\n",
    "        ax.plot([80],[1621],'*',c='k')\n",
    "\n",
    "        ax.plot([30],[1604],'*',c='k')\n",
    "        ax.plot([65],[1608],'*',c='k')\n",
    "        \n",
    "    # Only keep colorbar for the middle-right panel (row 1, col 3)\n",
    "    # This corresponds to panel index 7 in a 0-based indexing system\n",
    "    if i != 7:  # Keep only the colorbar for panel 7\n",
    "        cbar.remove()\n",
    "\n",
    "plt.tight_layout()"
   ]
  }
 ],
 "metadata": {
  "kernelspec": {
   "display_name": "Python 3",
   "language": "python",
   "name": "python3"
  },
  "language_info": {
   "codemirror_mode": {
    "name": "ipython",
    "version": 3
   },
   "file_extension": ".py",
   "mimetype": "text/x-python",
   "name": "python",
   "nbconvert_exporter": "python",
   "pygments_lexer": "ipython3",
   "version": "3.11.8"
  }
 },
 "nbformat": 4,
 "nbformat_minor": 0
}
