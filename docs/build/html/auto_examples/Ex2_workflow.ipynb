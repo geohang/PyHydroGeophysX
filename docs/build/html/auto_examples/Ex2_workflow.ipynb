{
 "cells": [
  {
   "cell_type": "markdown",
   "metadata": {},
   "source": [
    "\n",
    "# Complete Workflow: From Hydrological Models to Geophysical Inversion\n",
    "\n",
    "This example demonstrates the complete workflow for integrating hydrological \n",
    "model outputs with geophysical forward modeling and inversion using PyHydroGeophysX.\n",
    "\n",
    "The workflow includes:\n",
    "1. Loading MODFLOW water content data\n",
    "2. Setting up 2D profile interpolation from 3D model data\n",
    "3. Creating meshes with geological layer structure\n",
    "4. Converting water content to resistivity using petrophysical relationships\n",
    "5. Converting water content to seismic velocity using rock physics models\n",
    "6. Forward modeling to create synthetic ERT and seismic data\n",
    "7. Performing ERT inversion to recover resistivity models\n",
    "\n",
    "This example serves as a comprehensive tutorial showing the integration\n",
    "of hydrological and geophysical modeling for watershed monitoring applications.\n"
   ]
  },
  {
   "cell_type": "code",
   "execution_count": 1,
   "metadata": {
    "collapsed": false,
    "execution": {
     "iopub.execute_input": "2025-05-22T02:39:36.757525Z",
     "iopub.status.busy": "2025-05-22T02:39:36.757019Z",
     "iopub.status.idle": "2025-05-22T02:39:39.257684Z",
     "shell.execute_reply": "2025-05-22T02:39:39.257127Z"
    }
   },
   "outputs": [],
   "source": [
    "import os\n",
    "import sys\n",
    "import numpy as np\n",
    "import matplotlib.pyplot as plt\n",
    "import pygimli as pg\n",
    "from pygimli.physics import ert\n",
    "from pygimli.physics import TravelTimeManager\n",
    "import pygimli.physics.traveltime as tt\n",
    "from mpl_toolkits.axes_grid1 import make_axes_locatable\n",
    "\n",
    "# Setup package path for development\n",
    "try:\n",
    "    # For regular Python scripts\n",
    "    current_dir = os.path.dirname(os.path.abspath(__file__))\n",
    "except NameError:\n",
    "    # For Jupyter notebooks\n",
    "    current_dir = os.getcwd()\n",
    "\n",
    "# Add the parent directory to Python path\n",
    "parent_dir = os.path.dirname(current_dir)\n",
    "if parent_dir not in sys.path:\n",
    "    sys.path.append(parent_dir)\n",
    "\n",
    "# Import PyHydroGeophysX modules\n",
    "from PyHydroGeophysX.core.interpolation import ProfileInterpolator, create_surface_lines\n",
    "from PyHydroGeophysX.core.mesh_utils import MeshCreator\n",
    "from PyHydroGeophysX.petrophysics.resistivity_models import water_content_to_resistivity\n",
    "from PyHydroGeophysX.petrophysics.velocity_models import HertzMindlinModel, DEMModel\n",
    "from PyHydroGeophysX.forward.ert_forward import ERTForwardModeling\n",
    "from PyHydroGeophysX.inversion.ert_inversion import ERTInversion"
   ]
  },
  {
   "cell_type": "code",
   "execution_count": 2,
   "metadata": {
    "collapsed": false,
    "execution": {
     "iopub.execute_input": "2025-05-22T02:39:39.261220Z",
     "iopub.status.busy": "2025-05-22T02:39:39.260712Z",
     "iopub.status.idle": "2025-05-22T02:39:39.265878Z",
     "shell.execute_reply": "2025-05-22T02:39:39.265364Z"
    }
   },
   "outputs": [],
   "source": [
    "output_dir = \"results/workflow_example\"\n",
    "os.makedirs(output_dir, exist_ok=True)"
   ]
  },
  {
   "cell_type": "code",
   "execution_count": 3,
   "metadata": {
    "collapsed": false,
    "execution": {
     "iopub.execute_input": "2025-05-22T02:39:39.268655Z",
     "iopub.status.busy": "2025-05-22T02:39:39.268655Z",
     "iopub.status.idle": "2025-05-22T02:39:40.140703Z",
     "shell.execute_reply": "2025-05-22T02:39:40.140187Z"
    }
   },
   "outputs": [
    {
     "name": "stdout",
     "output_type": "stream",
     "text": [
      "Step 1: Loading domain information...\n"
     ]
    },
    {
     "ename": "FileNotFoundError",
     "evalue": "data/id.txt not found.",
     "output_type": "error",
     "traceback": [
      "\u001b[1;31m---------------------------------------------------------------------------\u001b[0m",
      "\u001b[1;31mFileNotFoundError\u001b[0m                         Traceback (most recent call last)",
      "Cell \u001b[1;32mIn[3], line 9\u001b[0m\n\u001b[0;32m      5\u001b[0m modflow_dir \u001b[38;5;241m=\u001b[39m os\u001b[38;5;241m.\u001b[39mpath\u001b[38;5;241m.\u001b[39mjoin(data_dir, \u001b[38;5;124m\"\u001b[39m\u001b[38;5;124mmodflow\u001b[39m\u001b[38;5;124m\"\u001b[39m)\n\u001b[0;32m      7\u001b[0m \u001b[38;5;66;03m# Load domain information from files\u001b[39;00m\n\u001b[0;32m      8\u001b[0m \u001b[38;5;66;03m# (Replace with your actual file paths)\u001b[39;00m\n\u001b[1;32m----> 9\u001b[0m idomain \u001b[38;5;241m=\u001b[39m \u001b[43mnp\u001b[49m\u001b[38;5;241;43m.\u001b[39;49m\u001b[43mloadtxt\u001b[49m\u001b[43m(\u001b[49m\u001b[43mos\u001b[49m\u001b[38;5;241;43m.\u001b[39;49m\u001b[43mpath\u001b[49m\u001b[38;5;241;43m.\u001b[39;49m\u001b[43mjoin\u001b[49m\u001b[43m(\u001b[49m\u001b[43mdata_dir\u001b[49m\u001b[43m,\u001b[49m\u001b[43m \u001b[49m\u001b[38;5;124;43m\"\u001b[39;49m\u001b[38;5;124;43mid.txt\u001b[39;49m\u001b[38;5;124;43m\"\u001b[39;49m\u001b[43m)\u001b[49m\u001b[43m)\u001b[49m\n\u001b[0;32m     10\u001b[0m top \u001b[38;5;241m=\u001b[39m np\u001b[38;5;241m.\u001b[39mloadtxt(os\u001b[38;5;241m.\u001b[39mpath\u001b[38;5;241m.\u001b[39mjoin(data_dir, \u001b[38;5;124m\"\u001b[39m\u001b[38;5;124mtop.txt\u001b[39m\u001b[38;5;124m\"\u001b[39m))\n\u001b[0;32m     11\u001b[0m porosity \u001b[38;5;241m=\u001b[39m np\u001b[38;5;241m.\u001b[39mload(os\u001b[38;5;241m.\u001b[39mpath\u001b[38;5;241m.\u001b[39mjoin(data_dir, \u001b[38;5;124m\"\u001b[39m\u001b[38;5;124mPorosity.npy\u001b[39m\u001b[38;5;124m\"\u001b[39m))\n",
      "File \u001b[1;32m~\\anaconda3\\envs\\pg\\Lib\\site-packages\\numpy\\lib\\npyio.py:1373\u001b[0m, in \u001b[0;36mloadtxt\u001b[1;34m(fname, dtype, comments, delimiter, converters, skiprows, usecols, unpack, ndmin, encoding, max_rows, quotechar, like)\u001b[0m\n\u001b[0;32m   1370\u001b[0m \u001b[38;5;28;01mif\u001b[39;00m \u001b[38;5;28misinstance\u001b[39m(delimiter, \u001b[38;5;28mbytes\u001b[39m):\n\u001b[0;32m   1371\u001b[0m     delimiter \u001b[38;5;241m=\u001b[39m delimiter\u001b[38;5;241m.\u001b[39mdecode(\u001b[38;5;124m'\u001b[39m\u001b[38;5;124mlatin1\u001b[39m\u001b[38;5;124m'\u001b[39m)\n\u001b[1;32m-> 1373\u001b[0m arr \u001b[38;5;241m=\u001b[39m \u001b[43m_read\u001b[49m\u001b[43m(\u001b[49m\u001b[43mfname\u001b[49m\u001b[43m,\u001b[49m\u001b[43m \u001b[49m\u001b[43mdtype\u001b[49m\u001b[38;5;241;43m=\u001b[39;49m\u001b[43mdtype\u001b[49m\u001b[43m,\u001b[49m\u001b[43m \u001b[49m\u001b[43mcomment\u001b[49m\u001b[38;5;241;43m=\u001b[39;49m\u001b[43mcomment\u001b[49m\u001b[43m,\u001b[49m\u001b[43m \u001b[49m\u001b[43mdelimiter\u001b[49m\u001b[38;5;241;43m=\u001b[39;49m\u001b[43mdelimiter\u001b[49m\u001b[43m,\u001b[49m\n\u001b[0;32m   1374\u001b[0m \u001b[43m            \u001b[49m\u001b[43mconverters\u001b[49m\u001b[38;5;241;43m=\u001b[39;49m\u001b[43mconverters\u001b[49m\u001b[43m,\u001b[49m\u001b[43m \u001b[49m\u001b[43mskiplines\u001b[49m\u001b[38;5;241;43m=\u001b[39;49m\u001b[43mskiprows\u001b[49m\u001b[43m,\u001b[49m\u001b[43m \u001b[49m\u001b[43musecols\u001b[49m\u001b[38;5;241;43m=\u001b[39;49m\u001b[43musecols\u001b[49m\u001b[43m,\u001b[49m\n\u001b[0;32m   1375\u001b[0m \u001b[43m            \u001b[49m\u001b[43munpack\u001b[49m\u001b[38;5;241;43m=\u001b[39;49m\u001b[43munpack\u001b[49m\u001b[43m,\u001b[49m\u001b[43m \u001b[49m\u001b[43mndmin\u001b[49m\u001b[38;5;241;43m=\u001b[39;49m\u001b[43mndmin\u001b[49m\u001b[43m,\u001b[49m\u001b[43m \u001b[49m\u001b[43mencoding\u001b[49m\u001b[38;5;241;43m=\u001b[39;49m\u001b[43mencoding\u001b[49m\u001b[43m,\u001b[49m\n\u001b[0;32m   1376\u001b[0m \u001b[43m            \u001b[49m\u001b[43mmax_rows\u001b[49m\u001b[38;5;241;43m=\u001b[39;49m\u001b[43mmax_rows\u001b[49m\u001b[43m,\u001b[49m\u001b[43m \u001b[49m\u001b[43mquote\u001b[49m\u001b[38;5;241;43m=\u001b[39;49m\u001b[43mquotechar\u001b[49m\u001b[43m)\u001b[49m\n\u001b[0;32m   1378\u001b[0m \u001b[38;5;28;01mreturn\u001b[39;00m arr\n",
      "File \u001b[1;32m~\\anaconda3\\envs\\pg\\Lib\\site-packages\\numpy\\lib\\npyio.py:992\u001b[0m, in \u001b[0;36m_read\u001b[1;34m(fname, delimiter, comment, quote, imaginary_unit, usecols, skiplines, max_rows, converters, ndmin, unpack, dtype, encoding)\u001b[0m\n\u001b[0;32m    990\u001b[0m     fname \u001b[38;5;241m=\u001b[39m os\u001b[38;5;241m.\u001b[39mfspath(fname)\n\u001b[0;32m    991\u001b[0m \u001b[38;5;28;01mif\u001b[39;00m \u001b[38;5;28misinstance\u001b[39m(fname, \u001b[38;5;28mstr\u001b[39m):\n\u001b[1;32m--> 992\u001b[0m     fh \u001b[38;5;241m=\u001b[39m \u001b[43mnp\u001b[49m\u001b[38;5;241;43m.\u001b[39;49m\u001b[43mlib\u001b[49m\u001b[38;5;241;43m.\u001b[39;49m\u001b[43m_datasource\u001b[49m\u001b[38;5;241;43m.\u001b[39;49m\u001b[43mopen\u001b[49m\u001b[43m(\u001b[49m\u001b[43mfname\u001b[49m\u001b[43m,\u001b[49m\u001b[43m \u001b[49m\u001b[38;5;124;43m'\u001b[39;49m\u001b[38;5;124;43mrt\u001b[39;49m\u001b[38;5;124;43m'\u001b[39;49m\u001b[43m,\u001b[49m\u001b[43m \u001b[49m\u001b[43mencoding\u001b[49m\u001b[38;5;241;43m=\u001b[39;49m\u001b[43mencoding\u001b[49m\u001b[43m)\u001b[49m\n\u001b[0;32m    993\u001b[0m     \u001b[38;5;28;01mif\u001b[39;00m encoding \u001b[38;5;129;01mis\u001b[39;00m \u001b[38;5;28;01mNone\u001b[39;00m:\n\u001b[0;32m    994\u001b[0m         encoding \u001b[38;5;241m=\u001b[39m \u001b[38;5;28mgetattr\u001b[39m(fh, \u001b[38;5;124m'\u001b[39m\u001b[38;5;124mencoding\u001b[39m\u001b[38;5;124m'\u001b[39m, \u001b[38;5;124m'\u001b[39m\u001b[38;5;124mlatin1\u001b[39m\u001b[38;5;124m'\u001b[39m)\n",
      "File \u001b[1;32m~\\anaconda3\\envs\\pg\\Lib\\site-packages\\numpy\\lib\\_datasource.py:193\u001b[0m, in \u001b[0;36mopen\u001b[1;34m(path, mode, destpath, encoding, newline)\u001b[0m\n\u001b[0;32m    156\u001b[0m \u001b[38;5;250m\u001b[39m\u001b[38;5;124;03m\"\"\"\u001b[39;00m\n\u001b[0;32m    157\u001b[0m \u001b[38;5;124;03mOpen `path` with `mode` and return the file object.\u001b[39;00m\n\u001b[0;32m    158\u001b[0m \n\u001b[1;32m   (...)\u001b[0m\n\u001b[0;32m    189\u001b[0m \n\u001b[0;32m    190\u001b[0m \u001b[38;5;124;03m\"\"\"\u001b[39;00m\n\u001b[0;32m    192\u001b[0m ds \u001b[38;5;241m=\u001b[39m DataSource(destpath)\n\u001b[1;32m--> 193\u001b[0m \u001b[38;5;28;01mreturn\u001b[39;00m \u001b[43mds\u001b[49m\u001b[38;5;241;43m.\u001b[39;49m\u001b[43mopen\u001b[49m\u001b[43m(\u001b[49m\u001b[43mpath\u001b[49m\u001b[43m,\u001b[49m\u001b[43m \u001b[49m\u001b[43mmode\u001b[49m\u001b[43m,\u001b[49m\u001b[43m \u001b[49m\u001b[43mencoding\u001b[49m\u001b[38;5;241;43m=\u001b[39;49m\u001b[43mencoding\u001b[49m\u001b[43m,\u001b[49m\u001b[43m \u001b[49m\u001b[43mnewline\u001b[49m\u001b[38;5;241;43m=\u001b[39;49m\u001b[43mnewline\u001b[49m\u001b[43m)\u001b[49m\n",
      "File \u001b[1;32m~\\anaconda3\\envs\\pg\\Lib\\site-packages\\numpy\\lib\\_datasource.py:533\u001b[0m, in \u001b[0;36mDataSource.open\u001b[1;34m(self, path, mode, encoding, newline)\u001b[0m\n\u001b[0;32m    530\u001b[0m     \u001b[38;5;28;01mreturn\u001b[39;00m _file_openers[ext](found, mode\u001b[38;5;241m=\u001b[39mmode,\n\u001b[0;32m    531\u001b[0m                               encoding\u001b[38;5;241m=\u001b[39mencoding, newline\u001b[38;5;241m=\u001b[39mnewline)\n\u001b[0;32m    532\u001b[0m \u001b[38;5;28;01melse\u001b[39;00m:\n\u001b[1;32m--> 533\u001b[0m     \u001b[38;5;28;01mraise\u001b[39;00m \u001b[38;5;167;01mFileNotFoundError\u001b[39;00m(\u001b[38;5;124mf\u001b[39m\u001b[38;5;124m\"\u001b[39m\u001b[38;5;132;01m{\u001b[39;00mpath\u001b[38;5;132;01m}\u001b[39;00m\u001b[38;5;124m not found.\u001b[39m\u001b[38;5;124m\"\u001b[39m)\n",
      "\u001b[1;31mFileNotFoundError\u001b[0m: data/id.txt not found."
     ]
    }
   ],
   "source": [
    "print(\"Step 1: Loading domain information...\")\n",
    "\n",
    "# These would be your actual data files\n",
    "data_dir = \"data/\"\n",
    "modflow_dir = os.path.join(data_dir, \"modflow\")\n",
    "\n",
    "# Load domain information from files\n",
    "# (Replace with your actual file paths)\n",
    "idomain = np.loadtxt(os.path.join(data_dir, \"id.txt\"))\n",
    "top = np.loadtxt(os.path.join(data_dir, \"top.txt\"))\n",
    "porosity = np.load(os.path.join(data_dir, \"Porosity.npy\"))"
   ]
  },
  {
   "cell_type": "markdown",
   "metadata": {},
   "source": [
    "Step 2: Exmaple of loading MODFLOW water content data\n",
    "\n"
   ]
  },
  {
   "cell_type": "code",
   "execution_count": 4,
   "metadata": {
    "collapsed": false,
    "execution": {
     "iopub.execute_input": "2025-05-22T02:39:40.143736Z",
     "iopub.status.busy": "2025-05-22T02:39:40.143736Z",
     "iopub.status.idle": "2025-05-22T02:39:40.159874Z",
     "shell.execute_reply": "2025-05-22T02:39:40.159874Z"
    }
   },
   "outputs": [
    {
     "name": "stdout",
     "output_type": "stream",
     "text": [
      "Step 2: Loading MODFLOW water content data...\n"
     ]
    },
    {
     "ename": "NameError",
     "evalue": "name 'MODFLOWWaterContent' is not defined",
     "output_type": "error",
     "traceback": [
      "\u001b[1;31m---------------------------------------------------------------------------\u001b[0m",
      "\u001b[1;31mNameError\u001b[0m                                 Traceback (most recent call last)",
      "Cell \u001b[1;32mIn[4], line 5\u001b[0m\n\u001b[0;32m      1\u001b[0m \u001b[38;5;28mprint\u001b[39m(\u001b[38;5;124m\"\u001b[39m\u001b[38;5;124mStep 2: Loading MODFLOW water content data...\u001b[39m\u001b[38;5;124m\"\u001b[39m)\n\u001b[0;32m      4\u001b[0m \u001b[38;5;66;03m# Initialize MODFLOW water content processor\u001b[39;00m\n\u001b[1;32m----> 5\u001b[0m water_content_processor \u001b[38;5;241m=\u001b[39m \u001b[43mMODFLOWWaterContent\u001b[49m(\n\u001b[0;32m      6\u001b[0m     model_directory\u001b[38;5;241m=\u001b[39mmodflow_dir,  \u001b[38;5;66;03m# Changed from sim_ws\u001b[39;00m\n\u001b[0;32m      7\u001b[0m     idomain\u001b[38;5;241m=\u001b[39midomain\n\u001b[0;32m      8\u001b[0m )\n\u001b[0;32m     10\u001b[0m \u001b[38;5;66;03m# Load water content for a specific timestep\u001b[39;00m\n\u001b[0;32m     11\u001b[0m timestep \u001b[38;5;241m=\u001b[39m \u001b[38;5;241m10\u001b[39m\n",
      "\u001b[1;31mNameError\u001b[0m: name 'MODFLOWWaterContent' is not defined"
     ]
    }
   ],
   "source": [
    "print(\"Step 2: Loading MODFLOW water content data...\")\n",
    "\n",
    "\n",
    "# Initialize MODFLOW water content processor\n",
    "water_content_processor = MODFLOWWaterContent(\n",
    "    model_directory=modflow_dir,  # Changed from sim_ws\n",
    "    idomain=idomain\n",
    ")\n",
    "\n",
    "# Load water content for a specific timestep\n",
    "timestep = 10\n",
    "water_content = water_content_processor.load_timestep(timestep)\n",
    "\n",
    "print(water_content.shape)\n",
    "\n",
    "\n",
    "\n",
    "# Note that to save the loading time, we only use a low resoluation model load for the example\n",
    "# In a real-world application, you would load the full resolution data\n",
    "# here we will load the npy file for the water content to save time\n",
    "\n",
    "# Load the water content from a .npy file for demonstration purposes\n",
    "\n",
    "Water_Content = np.load(os.path.join(data_dir, \"Watercontent.npy\"))\n",
    "\n",
    "water_content = Water_Content[50]\n",
    "print(water_content.shape)"
   ]
  },
  {
   "cell_type": "markdown",
   "metadata": {},
   "source": [
    "Step 3: Set up profile for 2D section\n",
    "\n"
   ]
  },
  {
   "cell_type": "code",
   "execution_count": 5,
   "metadata": {
    "collapsed": false,
    "execution": {
     "iopub.execute_input": "2025-05-22T02:39:40.161897Z",
     "iopub.status.busy": "2025-05-22T02:39:40.161897Z",
     "iopub.status.idle": "2025-05-22T02:39:40.178550Z",
     "shell.execute_reply": "2025-05-22T02:39:40.177502Z"
    }
   },
   "outputs": [
    {
     "name": "stdout",
     "output_type": "stream",
     "text": [
      "Step 3: Setting up profile...\n"
     ]
    },
    {
     "ename": "NameError",
     "evalue": "name 'top' is not defined",
     "output_type": "error",
     "traceback": [
      "\u001b[1;31m---------------------------------------------------------------------------\u001b[0m",
      "\u001b[1;31mNameError\u001b[0m                                 Traceback (most recent call last)",
      "Cell \u001b[1;32mIn[5], line 11\u001b[0m\n\u001b[0;32m      5\u001b[0m point2 \u001b[38;5;241m=\u001b[39m [\u001b[38;5;241m95\u001b[39m, \u001b[38;5;241m180\u001b[39m]  \u001b[38;5;66;03m# [col, row]\u001b[39;00m\n\u001b[0;32m      7\u001b[0m \u001b[38;5;66;03m# Initialize profile interpolator\u001b[39;00m\n\u001b[0;32m      8\u001b[0m interpolator \u001b[38;5;241m=\u001b[39m ProfileInterpolator(\n\u001b[0;32m      9\u001b[0m     point1\u001b[38;5;241m=\u001b[39mpoint1,\n\u001b[0;32m     10\u001b[0m     point2\u001b[38;5;241m=\u001b[39mpoint2,\n\u001b[1;32m---> 11\u001b[0m     surface_data\u001b[38;5;241m=\u001b[39m\u001b[43mtop\u001b[49m,\n\u001b[0;32m     12\u001b[0m     origin_x\u001b[38;5;241m=\u001b[39m\u001b[38;5;241m569156.0\u001b[39m,\n\u001b[0;32m     13\u001b[0m     origin_y\u001b[38;5;241m=\u001b[39m\u001b[38;5;241m4842444.0\u001b[39m,\n\u001b[0;32m     14\u001b[0m     pixel_width\u001b[38;5;241m=\u001b[39m\u001b[38;5;241m1.0\u001b[39m,\n\u001b[0;32m     15\u001b[0m     pixel_height\u001b[38;5;241m=\u001b[39m\u001b[38;5;241m-\u001b[39m\u001b[38;5;241m1.0\u001b[39m,\n\u001b[0;32m     16\u001b[0m     num_points \u001b[38;5;241m=\u001b[39m \u001b[38;5;241m400\u001b[39m\n\u001b[0;32m     17\u001b[0m )\n",
      "\u001b[1;31mNameError\u001b[0m: name 'top' is not defined"
     ]
    }
   ],
   "source": [
    "print(\"Step 3: Setting up profile...\")\n",
    "\n",
    "# Define profile endpoints\n",
    "point1 = [115, 70]  # [col, row]\n",
    "point2 = [95, 180]  # [col, row]\n",
    "\n",
    "# Initialize profile interpolator\n",
    "interpolator = ProfileInterpolator(\n",
    "    point1=point1,\n",
    "    point2=point2,\n",
    "    surface_data=top,\n",
    "    origin_x=569156.0,\n",
    "    origin_y=4842444.0,\n",
    "    pixel_width=1.0,\n",
    "    pixel_height=-1.0,\n",
    "    num_points = 400\n",
    ")"
   ]
  },
  {
   "cell_type": "markdown",
   "metadata": {},
   "source": [
    "Step 4: Interpolate data to profile\n",
    "\n"
   ]
  },
  {
   "cell_type": "code",
   "execution_count": 6,
   "metadata": {
    "collapsed": false,
    "execution": {
     "iopub.execute_input": "2025-05-22T02:39:40.182653Z",
     "iopub.status.busy": "2025-05-22T02:39:40.182146Z",
     "iopub.status.idle": "2025-05-22T02:39:40.198581Z",
     "shell.execute_reply": "2025-05-22T02:39:40.198581Z"
    }
   },
   "outputs": [
    {
     "name": "stdout",
     "output_type": "stream",
     "text": [
      "Step 4: Interpolating data to profile...\n"
     ]
    },
    {
     "ename": "NameError",
     "evalue": "name 'interpolator' is not defined",
     "output_type": "error",
     "traceback": [
      "\u001b[1;31m---------------------------------------------------------------------------\u001b[0m",
      "\u001b[1;31mNameError\u001b[0m                                 Traceback (most recent call last)",
      "Cell \u001b[1;32mIn[6], line 4\u001b[0m\n\u001b[0;32m      1\u001b[0m \u001b[38;5;28mprint\u001b[39m(\u001b[38;5;124m\"\u001b[39m\u001b[38;5;124mStep 4: Interpolating data to profile...\u001b[39m\u001b[38;5;124m\"\u001b[39m)\n\u001b[0;32m      3\u001b[0m \u001b[38;5;66;03m# Interpolate water content to profile\u001b[39;00m\n\u001b[1;32m----> 4\u001b[0m water_content_profile \u001b[38;5;241m=\u001b[39m \u001b[43minterpolator\u001b[49m\u001b[38;5;241m.\u001b[39minterpolate_3d_data(water_content)\n\u001b[0;32m      6\u001b[0m \u001b[38;5;66;03m# Interpolate porosity to profile\u001b[39;00m\n\u001b[0;32m      7\u001b[0m porosity_profile \u001b[38;5;241m=\u001b[39m interpolator\u001b[38;5;241m.\u001b[39minterpolate_3d_data(porosity)\n",
      "\u001b[1;31mNameError\u001b[0m: name 'interpolator' is not defined"
     ]
    }
   ],
   "source": [
    "print(\"Step 4: Interpolating data to profile...\")\n",
    "\n",
    "# Interpolate water content to profile\n",
    "water_content_profile = interpolator.interpolate_3d_data(water_content)\n",
    "\n",
    "# Interpolate porosity to profile\n",
    "porosity_profile = interpolator.interpolate_3d_data(porosity)"
   ]
  },
  {
   "cell_type": "code",
   "execution_count": 7,
   "metadata": {
    "collapsed": false,
    "execution": {
     "iopub.execute_input": "2025-05-22T02:39:40.201612Z",
     "iopub.status.busy": "2025-05-22T02:39:40.200606Z",
     "iopub.status.idle": "2025-05-22T02:39:40.228768Z",
     "shell.execute_reply": "2025-05-22T02:39:40.227721Z"
    }
   },
   "outputs": [
    {
     "name": "stdout",
     "output_type": "stream",
     "text": [
      "Step 5: Creating mesh...\n"
     ]
    },
    {
     "ename": "FileNotFoundError",
     "evalue": "[Errno 2] No such file or directory: 'data/bot.npy'",
     "output_type": "error",
     "traceback": [
      "\u001b[1;31m---------------------------------------------------------------------------\u001b[0m",
      "\u001b[1;31mFileNotFoundError\u001b[0m                         Traceback (most recent call last)",
      "Cell \u001b[1;32mIn[7], line 4\u001b[0m\n\u001b[0;32m      1\u001b[0m \u001b[38;5;28mprint\u001b[39m(\u001b[38;5;124m\"\u001b[39m\u001b[38;5;124mStep 5: Creating mesh...\u001b[39m\u001b[38;5;124m\"\u001b[39m)\n\u001b[0;32m      3\u001b[0m \u001b[38;5;66;03m# Load structure layers\u001b[39;00m\n\u001b[1;32m----> 4\u001b[0m bot \u001b[38;5;241m=\u001b[39m \u001b[43mnp\u001b[49m\u001b[38;5;241;43m.\u001b[39;49m\u001b[43mload\u001b[49m\u001b[43m(\u001b[49m\u001b[43mos\u001b[49m\u001b[38;5;241;43m.\u001b[39;49m\u001b[43mpath\u001b[49m\u001b[38;5;241;43m.\u001b[39;49m\u001b[43mjoin\u001b[49m\u001b[43m(\u001b[49m\u001b[43mdata_dir\u001b[49m\u001b[43m,\u001b[49m\u001b[43m \u001b[49m\u001b[38;5;124;43m\"\u001b[39;49m\u001b[38;5;124;43mbot.npy\u001b[39;49m\u001b[38;5;124;43m\"\u001b[39;49m\u001b[43m)\u001b[49m\u001b[43m)\u001b[49m\n\u001b[0;32m      6\u001b[0m \u001b[38;5;66;03m# Process layers to get structure\u001b[39;00m\n\u001b[0;32m      7\u001b[0m structure \u001b[38;5;241m=\u001b[39m interpolator\u001b[38;5;241m.\u001b[39minterpolate_layer_data([top] \u001b[38;5;241m+\u001b[39m bot\u001b[38;5;241m.\u001b[39mtolist())\n",
      "File \u001b[1;32m~\\anaconda3\\envs\\pg\\Lib\\site-packages\\numpy\\lib\\npyio.py:427\u001b[0m, in \u001b[0;36mload\u001b[1;34m(file, mmap_mode, allow_pickle, fix_imports, encoding, max_header_size)\u001b[0m\n\u001b[0;32m    425\u001b[0m     own_fid \u001b[38;5;241m=\u001b[39m \u001b[38;5;28;01mFalse\u001b[39;00m\n\u001b[0;32m    426\u001b[0m \u001b[38;5;28;01melse\u001b[39;00m:\n\u001b[1;32m--> 427\u001b[0m     fid \u001b[38;5;241m=\u001b[39m stack\u001b[38;5;241m.\u001b[39menter_context(\u001b[38;5;28;43mopen\u001b[39;49m\u001b[43m(\u001b[49m\u001b[43mos_fspath\u001b[49m\u001b[43m(\u001b[49m\u001b[43mfile\u001b[49m\u001b[43m)\u001b[49m\u001b[43m,\u001b[49m\u001b[43m \u001b[49m\u001b[38;5;124;43m\"\u001b[39;49m\u001b[38;5;124;43mrb\u001b[39;49m\u001b[38;5;124;43m\"\u001b[39;49m\u001b[43m)\u001b[49m)\n\u001b[0;32m    428\u001b[0m     own_fid \u001b[38;5;241m=\u001b[39m \u001b[38;5;28;01mTrue\u001b[39;00m\n\u001b[0;32m    430\u001b[0m \u001b[38;5;66;03m# Code to distinguish from NumPy binary files and pickles.\u001b[39;00m\n",
      "\u001b[1;31mFileNotFoundError\u001b[0m: [Errno 2] No such file or directory: 'data/bot.npy'"
     ]
    }
   ],
   "source": [
    "print(\"Step 5: Creating mesh...\")\n",
    "\n",
    "# Load structure layers\n",
    "bot = np.load(os.path.join(data_dir, \"bot.npy\"))\n",
    "\n",
    "# Process layers to get structure\n",
    "structure = interpolator.interpolate_layer_data([top] + bot.tolist())\n",
    "\n",
    "# Create surface lines\n",
    "# Indicate the layer for the structure regolith, fractured bedrock and fresh bedrock\n",
    "top_idx=int(0)\n",
    "mid_idx=int(4)\n",
    "bot_idx=int(12)\n",
    "surface, line1, line2 = create_surface_lines(\n",
    "    L_profile=interpolator.L_profile,\n",
    "    structure=structure,\n",
    "    top_idx=0,\n",
    "    mid_idx=4,\n",
    "    bot_idx=12\n",
    ")\n",
    "\n",
    "# Create mesh\n",
    "mesh_creator = MeshCreator(quality=32)\n",
    "mesh, geom = mesh_creator.create_from_layers(\n",
    "    surface=surface,\n",
    "    layers=[line1, line2],\n",
    "    bottom_depth= np.min(line2[:,1])-10 #50.0\n",
    ")\n",
    "\n",
    "# Save mesh\n",
    "mesh.save(os.path.join(output_dir, \"mesh.bms\"))"
   ]
  },
  {
   "cell_type": "code",
   "execution_count": 8,
   "metadata": {
    "collapsed": false,
    "execution": {
     "iopub.execute_input": "2025-05-22T02:39:40.231813Z",
     "iopub.status.busy": "2025-05-22T02:39:40.230803Z",
     "iopub.status.idle": "2025-05-22T02:39:40.263235Z",
     "shell.execute_reply": "2025-05-22T02:39:40.262729Z"
    }
   },
   "outputs": [
    {
     "ename": "NameError",
     "evalue": "name 'top' is not defined",
     "output_type": "error",
     "traceback": [
      "\u001b[1;31m---------------------------------------------------------------------------\u001b[0m",
      "\u001b[1;31mNameError\u001b[0m                                 Traceback (most recent call last)",
      "Cell \u001b[1;32mIn[8], line 5\u001b[0m\n\u001b[0;32m      2\u001b[0m \u001b[38;5;28;01mimport\u001b[39;00m \u001b[38;5;21;01mmatplotlib\u001b[39;00m\u001b[38;5;21;01m.\u001b[39;00m\u001b[38;5;21;01mpyplot\u001b[39;00m \u001b[38;5;28;01mas\u001b[39;00m \u001b[38;5;21;01mplt\u001b[39;00m\n\u001b[0;32m      4\u001b[0m plt\u001b[38;5;241m.\u001b[39mfigure(figsize\u001b[38;5;241m=\u001b[39m(\u001b[38;5;241m15\u001b[39m, \u001b[38;5;241m5\u001b[39m))\n\u001b[1;32m----> 5\u001b[0m \u001b[43mtop\u001b[49m[idomain\u001b[38;5;241m==\u001b[39m\u001b[38;5;241m0\u001b[39m] \u001b[38;5;241m=\u001b[39m np\u001b[38;5;241m.\u001b[39mnan  \u001b[38;5;66;03m# Mask out the inactive cells in the top layer\u001b[39;00m\n\u001b[0;32m      6\u001b[0m \u001b[38;5;66;03m# Plot the surface and profile line\u001b[39;00m\n\u001b[0;32m      7\u001b[0m plt\u001b[38;5;241m.\u001b[39msubplot(\u001b[38;5;241m121\u001b[39m)\n",
      "\u001b[1;31mNameError\u001b[0m: name 'top' is not defined"
     ]
    },
    {
     "data": {
      "text/plain": [
       "<Figure size 1500x500 with 0 Axes>"
      ]
     },
     "metadata": {},
     "output_type": "display_data"
    }
   ],
   "source": [
    "# Visualize the result\n",
    "import matplotlib.pyplot as plt\n",
    "\n",
    "plt.figure(figsize=(15, 5))\n",
    "top[idomain==0] = np.nan  # Mask out the inactive cells in the top layer\n",
    "# Plot the surface and profile line\n",
    "plt.subplot(121)\n",
    "plt.imshow(top)\n",
    "plt.colorbar(label='Top Elevation (m)')\n",
    "plt.plot(point1[0], point1[1], 'ro', label='Start')\n",
    "plt.plot(point2[0], point2[1], 'bo', label='End')\n",
    "plt.plot([point1[0], point2[0]], [point1[1], point2[1]], 'r--')\n",
    "plt.legend()\n",
    "plt.title('Surface Elevation with Profile Line')\n",
    "\n",
    "# Plot the profile coordinates\n",
    "plt.subplot(122)\n",
    "plt.plot(surface[:,0], surface[:,1])\n",
    "plt.title('Elevation Along Profile')\n",
    "plt.xlabel('Distance Along Profile')\n",
    "plt.ylabel('Elevation')\n",
    "\n",
    "plt.tight_layout()\n",
    "plt.show()"
   ]
  },
  {
   "cell_type": "markdown",
   "metadata": {},
   "source": [
    "Step 6: Interpolate data to mesh\n",
    "\n"
   ]
  },
  {
   "cell_type": "code",
   "execution_count": 9,
   "metadata": {
    "collapsed": false,
    "execution": {
     "iopub.execute_input": "2025-05-22T02:39:40.265257Z",
     "iopub.status.busy": "2025-05-22T02:39:40.265257Z",
     "iopub.status.idle": "2025-05-22T02:39:40.287471Z",
     "shell.execute_reply": "2025-05-22T02:39:40.286954Z"
    }
   },
   "outputs": [
    {
     "name": "stdout",
     "output_type": "stream",
     "text": [
      "Step 6: Interpolating data to mesh...\n"
     ]
    },
    {
     "ename": "NameError",
     "evalue": "name 'porosity_profile' is not defined",
     "output_type": "error",
     "traceback": [
      "\u001b[1;31m---------------------------------------------------------------------------\u001b[0m",
      "\u001b[1;31mNameError\u001b[0m                                 Traceback (most recent call last)",
      "Cell \u001b[1;32mIn[9], line 3\u001b[0m\n\u001b[0;32m      1\u001b[0m \u001b[38;5;28mprint\u001b[39m(\u001b[38;5;124m\"\u001b[39m\u001b[38;5;124mStep 6: Interpolating data to mesh...\u001b[39m\u001b[38;5;124m\"\u001b[39m)\n\u001b[1;32m----> 3\u001b[0m ID1 \u001b[38;5;241m=\u001b[39m \u001b[43mporosity_profile\u001b[49m\u001b[38;5;241m.\u001b[39mcopy()\n\u001b[0;32m      4\u001b[0m ID1[:mid_idx] \u001b[38;5;241m=\u001b[39m \u001b[38;5;241m0\u001b[39m \u001b[38;5;66;03m#regolith\u001b[39;00m\n\u001b[0;32m      5\u001b[0m ID1[mid_idx:bot_idx] \u001b[38;5;241m=\u001b[39m \u001b[38;5;241m3\u001b[39m \u001b[38;5;66;03m# fractured bedrock\u001b[39;00m\n",
      "\u001b[1;31mNameError\u001b[0m: name 'porosity_profile' is not defined"
     ]
    }
   ],
   "source": [
    "print(\"Step 6: Interpolating data to mesh...\")\n",
    "\n",
    "ID1 = porosity_profile.copy()\n",
    "ID1[:mid_idx] = 0 #regolith\n",
    "ID1[mid_idx:bot_idx] = 3 # fractured bedrock\n",
    "ID1[bot_idx:] = 2 # fresh bedrock\n",
    "\n",
    "# Get mesh centers and markers\n",
    "mesh_centers = np.array(mesh.cellCenters())\n",
    "mesh_markers = np.array(mesh.cellMarkers())\n",
    "\n",
    "# Interpolate porosity to mesh\n",
    "porosity_mesh = interpolator.interpolate_to_mesh(\n",
    "    property_values=porosity_profile,\n",
    "    depth_values=structure,\n",
    "    mesh_x=mesh_centers[:, 0],\n",
    "    mesh_y=mesh_centers[:, 1],\n",
    "    mesh_markers=mesh_markers,\n",
    "    ID=ID1, # Use ID1 to indicate the layers for interpolation\n",
    "    layer_markers = [0,3,2],\n",
    "\n",
    ")\n",
    "\n",
    "# Interpolate water content to mesh\n",
    "wc_mesh = interpolator.interpolate_to_mesh(\n",
    "    property_values=water_content_profile,\n",
    "    depth_values=structure,\n",
    "    mesh_x=mesh_centers[:, 0],\n",
    "    mesh_y=mesh_centers[:, 1],\n",
    "    mesh_markers=mesh_markers,\n",
    "    ID=ID1, # Use ID1 to indicate the layers for interpolation\n",
    "    layer_markers = [0,3,2],\n",
    "\n",
    ")"
   ]
  },
  {
   "cell_type": "code",
   "execution_count": 10,
   "metadata": {
    "collapsed": false,
    "execution": {
     "iopub.execute_input": "2025-05-22T02:39:40.289494Z",
     "iopub.status.busy": "2025-05-22T02:39:40.288988Z",
     "iopub.status.idle": "2025-05-22T02:39:40.293542Z",
     "shell.execute_reply": "2025-05-22T02:39:40.293542Z"
    }
   },
   "outputs": [
    {
     "data": {
      "text/plain": [
       "14"
      ]
     },
     "execution_count": 10,
     "metadata": {},
     "output_type": "execute_result"
    }
   ],
   "source": [
    "len([0,0,0,0,3,3,3,3,3,3,3,3,2,2])"
   ]
  },
  {
   "cell_type": "code",
   "execution_count": 11,
   "metadata": {
    "collapsed": false,
    "execution": {
     "iopub.execute_input": "2025-05-22T02:39:40.296595Z",
     "iopub.status.busy": "2025-05-22T02:39:40.296090Z",
     "iopub.status.idle": "2025-05-22T02:39:40.383781Z",
     "shell.execute_reply": "2025-05-22T02:39:40.383258Z"
    }
   },
   "outputs": [
    {
     "ename": "NameError",
     "evalue": "name 'top' is not defined",
     "output_type": "error",
     "traceback": [
      "\u001b[1;31m---------------------------------------------------------------------------\u001b[0m",
      "\u001b[1;31mNameError\u001b[0m                                 Traceback (most recent call last)",
      "Cell \u001b[1;32mIn[11], line 18\u001b[0m\n\u001b[0;32m     15\u001b[0m mpl\u001b[38;5;241m.\u001b[39mrcParams[\u001b[38;5;124m'\u001b[39m\u001b[38;5;124mfigure.dpi\u001b[39m\u001b[38;5;124m'\u001b[39m] \u001b[38;5;241m=\u001b[39m \u001b[38;5;241m150\u001b[39m\n\u001b[0;32m     17\u001b[0m \u001b[38;5;66;03m# Preprocessing\u001b[39;00m\n\u001b[1;32m---> 18\u001b[0m top_masked \u001b[38;5;241m=\u001b[39m np\u001b[38;5;241m.\u001b[39mcopy(\u001b[43mtop\u001b[49m)\n\u001b[0;32m     19\u001b[0m top_masked[idomain \u001b[38;5;241m==\u001b[39m \u001b[38;5;241m0\u001b[39m] \u001b[38;5;241m=\u001b[39m np\u001b[38;5;241m.\u001b[39mnan\n\u001b[0;32m     20\u001b[0m saturation \u001b[38;5;241m=\u001b[39m wc_mesh \u001b[38;5;241m/\u001b[39m porosity_mesh\n",
      "\u001b[1;31mNameError\u001b[0m: name 'top' is not defined"
     ]
    }
   ],
   "source": [
    "import matplotlib.pyplot as plt\n",
    "import matplotlib as mpl\n",
    "import numpy as np\n",
    "import pygimli as pg\n",
    "from palettable.cartocolors.diverging import Earth_7\n",
    "\n",
    "# Font settings for publication\n",
    "mpl.rcParams['font.family'] = 'Arial'\n",
    "mpl.rcParams['font.size'] = 12\n",
    "mpl.rcParams['axes.labelsize'] = 14\n",
    "mpl.rcParams['axes.titlesize'] = 14\n",
    "mpl.rcParams['xtick.labelsize'] = 12\n",
    "mpl.rcParams['ytick.labelsize'] = 12\n",
    "mpl.rcParams['legend.fontsize'] = 12\n",
    "mpl.rcParams['figure.dpi'] = 150\n",
    "\n",
    "# Preprocessing\n",
    "top_masked = np.copy(top)\n",
    "top_masked[idomain == 0] = np.nan\n",
    "saturation = wc_mesh / porosity_mesh\n",
    "ctcolor = Earth_7.mpl_colormap\n",
    "\n",
    "# Create 2x2 figure\n",
    "fig, axs = plt.subplots(2, 2, figsize=(14, 10))\n",
    "\n",
    "# --- Top Left: Surface elevation map ---\n",
    "im0 = axs[0, 0].imshow(top_masked, origin='lower', cmap='terrain')\n",
    "axs[0, 0].invert_yaxis()\n",
    "\n",
    "# Plot profile line and points\n",
    "axs[0, 0].plot(point1[0], point1[1], 'ro', label='Start')\n",
    "axs[0, 0].plot(point2[0], point2[1], 'bo', label='End')\n",
    "axs[0, 0].plot([point1[0], point2[0]], [point1[1], point2[1]], 'r--')\n",
    "\n",
    "# Remove ticks and axis borders\n",
    "axs[0, 0].set_xticks([])\n",
    "axs[0, 0].set_yticks([])\n",
    "for spine in axs[0, 0].spines.values():\n",
    "    spine.set_visible(False)\n",
    "\n",
    "# Title and colorbar\n",
    "\n",
    "cbar0 = fig.colorbar(im0, ax=axs[0, 0], orientation='vertical', shrink=0.8)\n",
    "cbar0.set_label('Elevation (m)')\n",
    "axs[0, 0].legend(loc='upper right')\n",
    "\n",
    "# --- Top Right: Elevation profile ---\n",
    "axs[0, 1].plot(surface[:, 0], surface[:, 1], color='darkgreen')\n",
    "\n",
    "axs[0, 1].set_xlabel('Distance (m)')\n",
    "axs[0, 1].set_ylabel('Elevation (m)')\n",
    "axs[0, 1].grid(True)\n",
    "\n",
    "# --- Bottom Left: Porosity mesh ---\n",
    "pg.show(mesh, porosity_mesh,\n",
    "        ax=axs[1, 0], orientation=\"vertical\", cMap=ctcolor,\n",
    "        cMin=0.05, cMax=0.45,\n",
    "        xlabel=\"Distance (m)\", ylabel=\"Elevation (m)\",\n",
    "        label='Porosity (-)', showColorBar=True)\n",
    "\n",
    "# --- Bottom Right: Saturation mesh ---\n",
    "pg.show(mesh, saturation,\n",
    "        ax=axs[1, 1], orientation=\"vertical\", cMap='Blues',\n",
    "        cMin=0, cMax=1,\n",
    "        xlabel=\"Distance (m)\", ylabel=\"Elevation (m)\",\n",
    "        label='Saturation (-)', showColorBar=True)\n",
    "\n",
    "# Layout adjustment\n",
    "plt.tight_layout(pad=3)\n",
    "plt.savefig(os.path.join(output_dir, \"topography_and_properties.tiff\"), dpi=300)"
   ]
  },
  {
   "cell_type": "code",
   "execution_count": 12,
   "metadata": {
    "collapsed": false,
    "execution": {
     "iopub.execute_input": "2025-05-22T02:39:40.386153Z",
     "iopub.status.busy": "2025-05-22T02:39:40.384790Z",
     "iopub.status.idle": "2025-05-22T02:39:40.400452Z",
     "shell.execute_reply": "2025-05-22T02:39:40.399936Z"
    }
   },
   "outputs": [
    {
     "ename": "NameError",
     "evalue": "name 'wc_mesh' is not defined",
     "output_type": "error",
     "traceback": [
      "\u001b[1;31m---------------------------------------------------------------------------\u001b[0m",
      "\u001b[1;31mNameError\u001b[0m                                 Traceback (most recent call last)",
      "Cell \u001b[1;32mIn[12], line 1\u001b[0m\n\u001b[1;32m----> 1\u001b[0m \u001b[38;5;28mprint\u001b[39m(\u001b[38;5;124m\"\u001b[39m\u001b[38;5;124mWater Content min/max:\u001b[39m\u001b[38;5;124m\"\u001b[39m, np\u001b[38;5;241m.\u001b[39mmin(\u001b[43mwc_mesh\u001b[49m), np\u001b[38;5;241m.\u001b[39mmax(wc_mesh))\n\u001b[0;32m      2\u001b[0m \u001b[38;5;28mprint\u001b[39m(\u001b[38;5;124m\"\u001b[39m\u001b[38;5;124mSaturation min/max:\u001b[39m\u001b[38;5;124m\"\u001b[39m, np\u001b[38;5;241m.\u001b[39mmin(saturation), np\u001b[38;5;241m.\u001b[39mmax(saturation))\n",
      "\u001b[1;31mNameError\u001b[0m: name 'wc_mesh' is not defined"
     ]
    }
   ],
   "source": [
    "print(\"Water Content min/max:\", np.min(wc_mesh), np.max(wc_mesh))\n",
    "print(\"Saturation min/max:\", np.min(saturation), np.max(saturation))"
   ]
  },
  {
   "cell_type": "code",
   "execution_count": 13,
   "metadata": {
    "collapsed": false,
    "execution": {
     "iopub.execute_input": "2025-05-22T02:39:40.402472Z",
     "iopub.status.busy": "2025-05-22T02:39:40.402472Z",
     "iopub.status.idle": "2025-05-22T02:39:40.418653Z",
     "shell.execute_reply": "2025-05-22T02:39:40.418139Z"
    }
   },
   "outputs": [
    {
     "ename": "NameError",
     "evalue": "name 'mesh' is not defined",
     "output_type": "error",
     "traceback": [
      "\u001b[1;31m---------------------------------------------------------------------------\u001b[0m",
      "\u001b[1;31mNameError\u001b[0m                                 Traceback (most recent call last)",
      "Cell \u001b[1;32mIn[13], line 1\u001b[0m\n\u001b[1;32m----> 1\u001b[0m pg\u001b[38;5;241m.\u001b[39mshow(\u001b[43mmesh\u001b[49m,markers\u001b[38;5;241m=\u001b[39m\u001b[38;5;28;01mTrue\u001b[39;00m)\n",
      "\u001b[1;31mNameError\u001b[0m: name 'mesh' is not defined"
     ]
    }
   ],
   "source": [
    "pg.show(mesh,markers=True)"
   ]
  },
  {
   "cell_type": "code",
   "execution_count": 14,
   "metadata": {
    "collapsed": false,
    "execution": {
     "iopub.execute_input": "2025-05-22T02:39:40.420675Z",
     "iopub.status.busy": "2025-05-22T02:39:40.420675Z",
     "iopub.status.idle": "2025-05-22T02:39:40.441563Z",
     "shell.execute_reply": "2025-05-22T02:39:40.441049Z"
    }
   },
   "outputs": [
    {
     "name": "stdout",
     "output_type": "stream",
     "text": [
      "Step 7: Calculating saturation...\n"
     ]
    },
    {
     "ename": "NameError",
     "evalue": "name 'porosity_mesh' is not defined",
     "output_type": "error",
     "traceback": [
      "\u001b[1;31m---------------------------------------------------------------------------\u001b[0m",
      "\u001b[1;31mNameError\u001b[0m                                 Traceback (most recent call last)",
      "Cell \u001b[1;32mIn[14], line 4\u001b[0m\n\u001b[0;32m      1\u001b[0m \u001b[38;5;28mprint\u001b[39m(\u001b[38;5;124m\"\u001b[39m\u001b[38;5;124mStep 7: Calculating saturation...\u001b[39m\u001b[38;5;124m\"\u001b[39m)\n\u001b[0;32m      3\u001b[0m \u001b[38;5;66;03m# Ensure porosity is not zero to avoid division by zero\u001b[39;00m\n\u001b[1;32m----> 4\u001b[0m porosity_safe \u001b[38;5;241m=\u001b[39m np\u001b[38;5;241m.\u001b[39mmaximum(\u001b[43mporosity_mesh\u001b[49m, \u001b[38;5;241m0.01\u001b[39m)\n\u001b[0;32m      5\u001b[0m saturation \u001b[38;5;241m=\u001b[39m np\u001b[38;5;241m.\u001b[39mclip(wc_mesh \u001b[38;5;241m/\u001b[39m porosity_safe, \u001b[38;5;241m0.0\u001b[39m, \u001b[38;5;241m1.0\u001b[39m)\n",
      "\u001b[1;31mNameError\u001b[0m: name 'porosity_mesh' is not defined"
     ]
    }
   ],
   "source": [
    "print(\"Step 7: Calculating saturation...\")\n",
    "\n",
    "# Ensure porosity is not zero to avoid division by zero\n",
    "porosity_safe = np.maximum(porosity_mesh, 0.01)\n",
    "saturation = np.clip(wc_mesh / porosity_safe, 0.0, 1.0)"
   ]
  },
  {
   "cell_type": "code",
   "execution_count": 15,
   "metadata": {
    "collapsed": false,
    "execution": {
     "iopub.execute_input": "2025-05-22T02:39:40.443584Z",
     "iopub.status.busy": "2025-05-22T02:39:40.443584Z",
     "iopub.status.idle": "2025-05-22T02:39:40.466634Z",
     "shell.execute_reply": "2025-05-22T02:39:40.466117Z"
    }
   },
   "outputs": [
    {
     "name": "stdout",
     "output_type": "stream",
     "text": [
      "Step 8: Converting to resistivity...\n"
     ]
    },
    {
     "ename": "NameError",
     "evalue": "name 'wc_mesh' is not defined",
     "output_type": "error",
     "traceback": [
      "\u001b[1;31m---------------------------------------------------------------------------\u001b[0m",
      "\u001b[1;31mNameError\u001b[0m                                 Traceback (most recent call last)",
      "Cell \u001b[1;32mIn[15], line 10\u001b[0m\n\u001b[0;32m      7\u001b[0m sigma_s \u001b[38;5;241m=\u001b[39m [\u001b[38;5;241m1\u001b[39m\u001b[38;5;241m/\u001b[39m\u001b[38;5;241m500\u001b[39m, \u001b[38;5;241m0\u001b[39m, \u001b[38;5;241m0\u001b[39m] \u001b[38;5;66;03m# Saturated resistivity of the surface conductivity see Chen & Niu, (2022) for each layer (example values)\u001b[39;00m\n\u001b[0;32m      8\u001b[0m \u001b[38;5;66;03m# Convert water content back to resistivity\u001b[39;00m\n\u001b[1;32m---> 10\u001b[0m res_models \u001b[38;5;241m=\u001b[39m np\u001b[38;5;241m.\u001b[39mzeros_like(\u001b[43mwc_mesh\u001b[49m)  \u001b[38;5;66;03m# Initialize an array for resistivity values\u001b[39;00m\n\u001b[0;32m     12\u001b[0m mask \u001b[38;5;241m=\u001b[39m (mesh_markers \u001b[38;5;241m==\u001b[39m marker_labels[\u001b[38;5;241m0\u001b[39m])\n\u001b[0;32m     13\u001b[0m top_res \u001b[38;5;241m=\u001b[39m water_content_to_resistivity(\n\u001b[0;32m     14\u001b[0m     wc_mesh[mask],                  \u001b[38;5;66;03m# Water content values for this layer\u001b[39;00m\n\u001b[0;32m     15\u001b[0m     \u001b[38;5;28mfloat\u001b[39m(rho_sat[\u001b[38;5;241m0\u001b[39m]),              \u001b[38;5;66;03m# Use a scalar value instead of an array\u001b[39;00m\n\u001b[1;32m   (...)\u001b[0m\n\u001b[0;32m     18\u001b[0m     sigma_s[\u001b[38;5;241m0\u001b[39m] \u001b[38;5;66;03m# Use a scalar value\u001b[39;00m\n\u001b[0;32m     19\u001b[0m )\n",
      "\u001b[1;31mNameError\u001b[0m: name 'wc_mesh' is not defined"
     ]
    }
   ],
   "source": [
    "# Step 8: Convert to resistivity using petrophysical model\n",
    "print(\"Step 8: Converting to resistivity...\")\n",
    "\n",
    "marker_labels = [0, 3, 2] # top. mid, bottom layers (example values)\n",
    "rho_sat = [100, 500, 2400] # Saturated resistivity for each layer (example values)\n",
    "n = [2.2, 1.8, 2.5] # Cementation exponent for each layer (example values)\n",
    "sigma_s = [1/500, 0, 0] # Saturated resistivity of the surface conductivity see Chen & Niu, (2022) for each layer (example values)\n",
    "# Convert water content back to resistivity\n",
    "\n",
    "res_models = np.zeros_like(wc_mesh)  # Initialize an array for resistivity values\n",
    "\n",
    "mask = (mesh_markers == marker_labels[0])\n",
    "top_res = water_content_to_resistivity(\n",
    "    wc_mesh[mask],                  # Water content values for this layer\n",
    "    float(rho_sat[0]),              # Use a scalar value instead of an array\n",
    "    float(n[0]),                    # Use a scalar value instead of an array\n",
    "    porosity_mesh[mask],            # Porosity values for this layer\n",
    "    sigma_s[0] # Use a scalar value\n",
    ")\n",
    "res_models[mask] = top_res\n",
    "\n",
    "mask = (mesh_markers == marker_labels[1])\n",
    "mid_res = water_content_to_resistivity(\n",
    "    wc_mesh[mask],                  # Water content values for this layer\n",
    "    float(rho_sat[1]),              # Use a scalar value instead of an array\n",
    "    float(n[1]),                    # Use a scalar value instead of an array\n",
    "    porosity_mesh[mask],            # Porosity values for this layer\n",
    "    sigma_s[1]  # Use a scalar value\n",
    ")\n",
    "res_models[mask] = mid_res\n",
    "\n",
    "\n",
    "mask = (mesh_markers == marker_labels[2])\n",
    "bot_res = water_content_to_resistivity(\n",
    "    wc_mesh[mask],                  # Water content values for this layer\n",
    "    float(rho_sat[2]),              # Use a scalar value instead of an array\n",
    "    float(n[2]),                    # Use a scalar value instead of an array\n",
    "    porosity_mesh[mask],            # Porosity values for this layer\n",
    "    sigma_s[2]\n",
    ")\n",
    "res_models[mask] = bot_res"
   ]
  },
  {
   "cell_type": "code",
   "execution_count": 16,
   "metadata": {
    "collapsed": false,
    "execution": {
     "iopub.execute_input": "2025-05-22T02:39:40.468656Z",
     "iopub.status.busy": "2025-05-22T02:39:40.468656Z",
     "iopub.status.idle": "2025-05-22T02:39:40.570732Z",
     "shell.execute_reply": "2025-05-22T02:39:40.570732Z"
    }
   },
   "outputs": [
    {
     "ename": "NameError",
     "evalue": "name 'wc_mesh' is not defined",
     "output_type": "error",
     "traceback": [
      "\u001b[1;31m---------------------------------------------------------------------------\u001b[0m",
      "\u001b[1;31mNameError\u001b[0m                                 Traceback (most recent call last)",
      "Cell \u001b[1;32mIn[16], line 1\u001b[0m\n\u001b[1;32m----> 1\u001b[0m \u001b[43mwc_mesh\u001b[49m[mask]\n",
      "\u001b[1;31mNameError\u001b[0m: name 'wc_mesh' is not defined"
     ]
    }
   ],
   "source": [
    "wc_mesh[mask]"
   ]
  },
  {
   "cell_type": "code",
   "execution_count": 17,
   "metadata": {
    "collapsed": false,
    "execution": {
     "iopub.execute_input": "2025-05-22T02:39:40.574271Z",
     "iopub.status.busy": "2025-05-22T02:39:40.573764Z",
     "iopub.status.idle": "2025-05-22T02:39:40.590139Z",
     "shell.execute_reply": "2025-05-22T02:39:40.589628Z"
    }
   },
   "outputs": [
    {
     "ename": "NameError",
     "evalue": "name 'top_res' is not defined",
     "output_type": "error",
     "traceback": [
      "\u001b[1;31m---------------------------------------------------------------------------\u001b[0m",
      "\u001b[1;31mNameError\u001b[0m                                 Traceback (most recent call last)",
      "Cell \u001b[1;32mIn[17], line 1\u001b[0m\n\u001b[1;32m----> 1\u001b[0m \u001b[38;5;28mprint\u001b[39m(np\u001b[38;5;241m.\u001b[39mmin(\u001b[43mtop_res\u001b[49m), np\u001b[38;5;241m.\u001b[39mmax(top_res))\n\u001b[0;32m      2\u001b[0m \u001b[38;5;28mprint\u001b[39m(np\u001b[38;5;241m.\u001b[39mmin(mid_res), np\u001b[38;5;241m.\u001b[39mmax(mid_res))\n\u001b[0;32m      3\u001b[0m \u001b[38;5;28mprint\u001b[39m(np\u001b[38;5;241m.\u001b[39mmin(bot_res), np\u001b[38;5;241m.\u001b[39mmax(bot_res))\n",
      "\u001b[1;31mNameError\u001b[0m: name 'top_res' is not defined"
     ]
    }
   ],
   "source": [
    "print(np.min(top_res), np.max(top_res))\n",
    "print(np.min(mid_res), np.max(mid_res))\n",
    "print(np.min(bot_res), np.max(bot_res))"
   ]
  },
  {
   "cell_type": "markdown",
   "metadata": {},
   "source": [
    "Step 9: Convert to P wave velocity using petrophysical model\n",
    "\n"
   ]
  },
  {
   "cell_type": "code",
   "execution_count": 18,
   "metadata": {
    "collapsed": false,
    "execution": {
     "iopub.execute_input": "2025-05-22T02:39:40.592683Z",
     "iopub.status.busy": "2025-05-22T02:39:40.592683Z",
     "iopub.status.idle": "2025-05-22T02:39:40.616818Z",
     "shell.execute_reply": "2025-05-22T02:39:40.616818Z"
    }
   },
   "outputs": [
    {
     "name": "stdout",
     "output_type": "stream",
     "text": [
      "Step9: Converting to P wave velocity ..\n"
     ]
    },
    {
     "ename": "NameError",
     "evalue": "name 'wc_mesh' is not defined",
     "output_type": "error",
     "traceback": [
      "\u001b[1;31m---------------------------------------------------------------------------\u001b[0m",
      "\u001b[1;31mNameError\u001b[0m                                 Traceback (most recent call last)",
      "Cell \u001b[1;32mIn[18], line 8\u001b[0m\n\u001b[0;32m      5\u001b[0m dem_model \u001b[38;5;241m=\u001b[39m DEMModel()\n\u001b[0;32m      7\u001b[0m \u001b[38;5;66;03m# Initialize velocity model\u001b[39;00m\n\u001b[1;32m----> 8\u001b[0m velocity_mesh \u001b[38;5;241m=\u001b[39m np\u001b[38;5;241m.\u001b[39mzeros_like(\u001b[43mwc_mesh\u001b[49m)\n\u001b[0;32m     13\u001b[0m top_mask \u001b[38;5;241m=\u001b[39m (mesh_markers \u001b[38;5;241m==\u001b[39m marker_labels[\u001b[38;5;241m0\u001b[39m])\n\u001b[0;32m     14\u001b[0m top_bulk_modulus \u001b[38;5;241m=\u001b[39m \u001b[38;5;241m30.0\u001b[39m  \u001b[38;5;66;03m# GPa\u001b[39;00m\n",
      "\u001b[1;31mNameError\u001b[0m: name 'wc_mesh' is not defined"
     ]
    }
   ],
   "source": [
    "print(\"Step9: Converting to P wave velocity ..\")\n",
    "\n",
    "# Initialize velocity models\n",
    "hm_model = HertzMindlinModel(critical_porosity=0.4, coordination_number=6.0)\n",
    "dem_model = DEMModel()\n",
    "\n",
    "# Initialize velocity model\n",
    "velocity_mesh = np.zeros_like(wc_mesh)\n",
    "\n",
    "\n",
    "\n",
    "\n",
    "top_mask = (mesh_markers == marker_labels[0])\n",
    "top_bulk_modulus = 30.0  # GPa\n",
    "top_shear_modulus = 20.0  # GPa\n",
    "top_mineral_density = 2650  # kg/m³\n",
    "top_depth = 1.0  # m\n",
    "\n",
    "# Get Vp values using Hertz-Mindlin model\n",
    "Vp_high, Vp_low = hm_model.calculate_velocity(\n",
    "    porosity=porosity_mesh[top_mask],\n",
    "    saturation=saturation[top_mask],\n",
    "    bulk_modulus=top_bulk_modulus,\n",
    "    shear_modulus=top_shear_modulus,\n",
    "    mineral_density=top_mineral_density,\n",
    "    depth=top_depth\n",
    ")\n",
    "\n",
    "# Use average of high and low bounds\n",
    "velocity_mesh[top_mask] = (Vp_high + Vp_low) / 2\n",
    "\n",
    "\n",
    "\n",
    "mid_mask = (mesh_markers == marker_labels[1])\n",
    "\n",
    "mid_bulk_modulus = 50.0  # GPa\n",
    "mid_shear_modulus = 35.0 # GPa\n",
    "mid_mineral_density = 2670  # kg/m³\n",
    "mid_aspect_ratio = 0.05\n",
    "\n",
    "# Get Vp values using DEM model\n",
    "_, _, Vp = dem_model.calculate_velocity(\n",
    "    porosity=porosity_mesh[mid_mask],\n",
    "    saturation=saturation[mid_mask],\n",
    "    bulk_modulus=mid_bulk_modulus,\n",
    "    shear_modulus=mid_shear_modulus,\n",
    "    mineral_density=mid_mineral_density,\n",
    "    aspect_ratio=mid_aspect_ratio\n",
    ")\n",
    "\n",
    "velocity_mesh[mid_mask] = Vp\n",
    "\n",
    "bot_mask = (mesh_markers == marker_labels[2])\n",
    "bot_bulk_modulus = 55  # GPa\n",
    "bot_shear_modulus = 50  # GPa\n",
    "bot_mineral_density = 2680  # kg/m³\n",
    "bot_aspect_ratio = 0.03\n",
    "\n",
    "# Get Vp values using DEM model\n",
    "_, _, Vp = dem_model.calculate_velocity(\n",
    "    porosity=porosity_mesh[bot_mask],\n",
    "    saturation=saturation[bot_mask],\n",
    "    bulk_modulus=bot_bulk_modulus,\n",
    "    shear_modulus=bot_shear_modulus,\n",
    "    mineral_density=bot_mineral_density,\n",
    "    aspect_ratio=bot_aspect_ratio\n",
    ")\n",
    "\n",
    "velocity_mesh[bot_mask] = Vp"
   ]
  },
  {
   "cell_type": "code",
   "execution_count": 19,
   "metadata": {
    "collapsed": false,
    "execution": {
     "iopub.execute_input": "2025-05-22T02:39:40.619837Z",
     "iopub.status.busy": "2025-05-22T02:39:40.619837Z",
     "iopub.status.idle": "2025-05-22T02:39:40.634993Z",
     "shell.execute_reply": "2025-05-22T02:39:40.634993Z"
    }
   },
   "outputs": [
    {
     "ename": "NameError",
     "evalue": "name 'velocity_mesh' is not defined",
     "output_type": "error",
     "traceback": [
      "\u001b[1;31m---------------------------------------------------------------------------\u001b[0m",
      "\u001b[1;31mNameError\u001b[0m                                 Traceback (most recent call last)",
      "Cell \u001b[1;32mIn[19], line 1\u001b[0m\n\u001b[1;32m----> 1\u001b[0m \u001b[38;5;28mprint\u001b[39m(np\u001b[38;5;241m.\u001b[39mmin(\u001b[43mvelocity_mesh\u001b[49m[top_mask]), np\u001b[38;5;241m.\u001b[39mmax(velocity_mesh[top_mask]))\n\u001b[0;32m      2\u001b[0m \u001b[38;5;28mprint\u001b[39m(np\u001b[38;5;241m.\u001b[39mmin(velocity_mesh[mid_mask]), np\u001b[38;5;241m.\u001b[39mmax(velocity_mesh[mid_mask]))\n\u001b[0;32m      3\u001b[0m \u001b[38;5;28mprint\u001b[39m(np\u001b[38;5;241m.\u001b[39mmin(velocity_mesh[bot_mask]), np\u001b[38;5;241m.\u001b[39mmax(velocity_mesh[bot_mask]))\n",
      "\u001b[1;31mNameError\u001b[0m: name 'velocity_mesh' is not defined"
     ]
    }
   ],
   "source": [
    "print(np.min(velocity_mesh[top_mask]), np.max(velocity_mesh[top_mask]))\n",
    "print(np.min(velocity_mesh[mid_mask]), np.max(velocity_mesh[mid_mask]))\n",
    "print(np.min(velocity_mesh[bot_mask]), np.max(velocity_mesh[bot_mask]))"
   ]
  },
  {
   "cell_type": "code",
   "execution_count": 20,
   "metadata": {
    "collapsed": false,
    "execution": {
     "iopub.execute_input": "2025-05-22T02:39:40.637556Z",
     "iopub.status.busy": "2025-05-22T02:39:40.637556Z",
     "iopub.status.idle": "2025-05-22T02:39:40.841232Z",
     "shell.execute_reply": "2025-05-22T02:39:40.840725Z"
    }
   },
   "outputs": [
    {
     "ename": "NameError",
     "evalue": "name 'mesh' is not defined",
     "output_type": "error",
     "traceback": [
      "\u001b[1;31m---------------------------------------------------------------------------\u001b[0m",
      "\u001b[1;31mNameError\u001b[0m                                 Traceback (most recent call last)",
      "Cell \u001b[1;32mIn[20], line 10\u001b[0m\n\u001b[0;32m      7\u001b[0m fig, axs \u001b[38;5;241m=\u001b[39m plt\u001b[38;5;241m.\u001b[39msubplots(\u001b[38;5;241m1\u001b[39m, \u001b[38;5;241m2\u001b[39m, figsize\u001b[38;5;241m=\u001b[39m(\u001b[38;5;241m14\u001b[39m, \u001b[38;5;241m6\u001b[39m))\n\u001b[0;32m      9\u001b[0m \u001b[38;5;66;03m# --- Left: Resistivity with log scale ---\u001b[39;00m\n\u001b[1;32m---> 10\u001b[0m pg\u001b[38;5;241m.\u001b[39mshow(\u001b[43mmesh\u001b[49m, res_models, ax\u001b[38;5;241m=\u001b[39maxs[\u001b[38;5;241m0\u001b[39m], orientation\u001b[38;5;241m=\u001b[39m\u001b[38;5;124m\"\u001b[39m\u001b[38;5;124mvertical\u001b[39m\u001b[38;5;124m\"\u001b[39m,\n\u001b[0;32m     11\u001b[0m         cMap\u001b[38;5;241m=\u001b[39mfixed_cmap, logScale\u001b[38;5;241m=\u001b[39m\u001b[38;5;28;01mTrue\u001b[39;00m, showColorBar\u001b[38;5;241m=\u001b[39m\u001b[38;5;28;01mTrue\u001b[39;00m,\n\u001b[0;32m     12\u001b[0m         xlabel\u001b[38;5;241m=\u001b[39m\u001b[38;5;124m\"\u001b[39m\u001b[38;5;124mDistance (m)\u001b[39m\u001b[38;5;124m\"\u001b[39m, ylabel\u001b[38;5;241m=\u001b[39m\u001b[38;5;124m\"\u001b[39m\u001b[38;5;124mElevation (m)\u001b[39m\u001b[38;5;124m\"\u001b[39m,\n\u001b[0;32m     13\u001b[0m         label\u001b[38;5;241m=\u001b[39m\u001b[38;5;124m'\u001b[39m\u001b[38;5;124mResistivity (Ω·m)\u001b[39m\u001b[38;5;124m'\u001b[39m, cMin\u001b[38;5;241m=\u001b[39m\u001b[38;5;241m500\u001b[39m, cMax\u001b[38;5;241m=\u001b[39m\u001b[38;5;241m3000\u001b[39m)\n\u001b[0;32m     16\u001b[0m \u001b[38;5;66;03m# --- Right: P-wave velocity with fixed color scale ---\u001b[39;00m\n\u001b[0;32m     17\u001b[0m pg\u001b[38;5;241m.\u001b[39mshow(mesh, velocity_mesh, ax\u001b[38;5;241m=\u001b[39maxs[\u001b[38;5;241m1\u001b[39m], orientation\u001b[38;5;241m=\u001b[39m\u001b[38;5;124m\"\u001b[39m\u001b[38;5;124mvertical\u001b[39m\u001b[38;5;124m\"\u001b[39m,\n\u001b[0;32m     18\u001b[0m         cMap\u001b[38;5;241m=\u001b[39mfixed_cmap, cMin\u001b[38;5;241m=\u001b[39m\u001b[38;5;241m500\u001b[39m, cMax\u001b[38;5;241m=\u001b[39m\u001b[38;5;241m5000\u001b[39m, showColorBar\u001b[38;5;241m=\u001b[39m\u001b[38;5;28;01mTrue\u001b[39;00m,\n\u001b[0;32m     19\u001b[0m         xlabel\u001b[38;5;241m=\u001b[39m\u001b[38;5;124m\"\u001b[39m\u001b[38;5;124mDistance (m)\u001b[39m\u001b[38;5;124m\"\u001b[39m, ylabel\u001b[38;5;241m=\u001b[39m\u001b[38;5;124m\"\u001b[39m\u001b[38;5;124mElevation (m)\u001b[39m\u001b[38;5;124m\"\u001b[39m,\n\u001b[0;32m     20\u001b[0m         label\u001b[38;5;241m=\u001b[39m\u001b[38;5;124m'\u001b[39m\u001b[38;5;124mVelocity (m/s)\u001b[39m\u001b[38;5;124m'\u001b[39m)\n",
      "\u001b[1;31mNameError\u001b[0m: name 'mesh' is not defined"
     ]
    },
    {
     "data": {
      "image/png": "[encoded data removed]",
      "text/plain": [
       "<Figure size 2100x900 with 2 Axes>"
      ]
     },
     "metadata": {},
     "output_type": "display_data"
    }
   ],
   "source": [
    "from palettable.lightbartlein.diverging import BlueDarkRed18_18\n",
    "fixed_cmap = BlueDarkRed18_18.mpl_colormap\n",
    "\n",
    "\n",
    "\n",
    "# --- Create figure with 1 row, 2 columns ---\n",
    "fig, axs = plt.subplots(1, 2, figsize=(14, 6))\n",
    "\n",
    "# --- Left: Resistivity with log scale ---\n",
    "pg.show(mesh, res_models, ax=axs[0], orientation=\"vertical\",\n",
    "        cMap=fixed_cmap, logScale=True, showColorBar=True,\n",
    "        xlabel=\"Distance (m)\", ylabel=\"Elevation (m)\",\n",
    "        label='Resistivity (Ω·m)', cMin=500, cMax=3000)\n",
    "\n",
    "\n",
    "# --- Right: P-wave velocity with fixed color scale ---\n",
    "pg.show(mesh, velocity_mesh, ax=axs[1], orientation=\"vertical\",\n",
    "        cMap=fixed_cmap, cMin=500, cMax=5000, showColorBar=True,\n",
    "        xlabel=\"Distance (m)\", ylabel=\"Elevation (m)\",\n",
    "        label='Velocity (m/s)')\n",
    "\n",
    "# --- Print value range for debugging ---\n",
    "print(\"Velocity range:\", np.min(velocity_mesh), np.max(velocity_mesh))\n",
    "\n",
    "# --- Final layout ---\n",
    "plt.tight_layout(pad=3)\n",
    "\n",
    "plt.savefig(os.path.join(output_dir, \"res_vel.tiff\"), dpi=300)"
   ]
  },
  {
   "cell_type": "markdown",
   "metadata": {},
   "source": [
    "Step 9: Create ERT survey design and modeling \n",
    "\n"
   ]
  },
  {
   "cell_type": "code",
   "execution_count": 21,
   "metadata": {
    "collapsed": false,
    "execution": {
     "iopub.execute_input": "2025-05-22T02:39:40.843250Z",
     "iopub.status.busy": "2025-05-22T02:39:40.842743Z",
     "iopub.status.idle": "2025-05-22T02:39:40.861833Z",
     "shell.execute_reply": "2025-05-22T02:39:40.861833Z"
    }
   },
   "outputs": [
    {
     "name": "stdout",
     "output_type": "stream",
     "text": [
      "Step 9: Creating ERT survey design...\n"
     ]
    },
    {
     "ename": "NameError",
     "evalue": "name 'interpolator' is not defined",
     "output_type": "error",
     "traceback": [
      "\u001b[1;31m---------------------------------------------------------------------------\u001b[0m",
      "\u001b[1;31mNameError\u001b[0m                                 Traceback (most recent call last)",
      "Cell \u001b[1;32mIn[21], line 3\u001b[0m\n\u001b[0;32m      1\u001b[0m \u001b[38;5;28mprint\u001b[39m(\u001b[38;5;124m\"\u001b[39m\u001b[38;5;124mStep 9: Creating ERT survey design...\u001b[39m\u001b[38;5;124m\"\u001b[39m)\n\u001b[0;32m      2\u001b[0m xpos \u001b[38;5;241m=\u001b[39m np\u001b[38;5;241m.\u001b[39mlinspace(\u001b[38;5;241m15\u001b[39m, \u001b[38;5;241m15\u001b[39m\u001b[38;5;241m+\u001b[39m\u001b[38;5;241m72\u001b[39m \u001b[38;5;241m-\u001b[39m \u001b[38;5;241m1\u001b[39m, \u001b[38;5;241m72\u001b[39m)\n\u001b[1;32m----> 3\u001b[0m ypos \u001b[38;5;241m=\u001b[39m np\u001b[38;5;241m.\u001b[39minterp(xpos, \u001b[43minterpolator\u001b[49m\u001b[38;5;241m.\u001b[39mL_profile, interpolator\u001b[38;5;241m.\u001b[39msurface_profile)\n\u001b[0;32m      6\u001b[0m \u001b[38;5;28mprint\u001b[39m(\u001b[38;5;124m\"\u001b[39m\u001b[38;5;124mStep 10: Performing forward modeling...\u001b[39m\u001b[38;5;124m\"\u001b[39m)\n\u001b[0;32m      7\u001b[0m \u001b[38;5;28;01mfrom\u001b[39;00m \u001b[38;5;21;01mwatershed_geophysics\u001b[39;00m\u001b[38;5;21;01m.\u001b[39;00m\u001b[38;5;21;01mforward\u001b[39;00m\u001b[38;5;21;01m.\u001b[39;00m\u001b[38;5;21;01mert_forward\u001b[39;00m \u001b[38;5;28;01mimport\u001b[39;00m ERTForwardModeling\n",
      "\u001b[1;31mNameError\u001b[0m: name 'interpolator' is not defined"
     ]
    }
   ],
   "source": [
    "print(\"Step 9: Creating ERT survey design...\")\n",
    "xpos = np.linspace(15, 15+72 - 1, 72)\n",
    "ypos = np.interp(xpos, interpolator.L_profile, interpolator.surface_profile)\n",
    "\n",
    "\n",
    "print(\"Step 10: Performing forward modeling...\")\n",
    "from watershed_geophysics.forward.ert_forward import ERTForwardModeling\n",
    "\n",
    "# Method 1: Using class method (one-step creation)\n",
    "synth_data, grid = ERTForwardModeling.create_synthetic_data(\n",
    "    xpos=xpos,\n",
    "    ypos=ypos,\n",
    "    mesh=mesh,\n",
    "    res_models=res_models,\n",
    "    noise_level=0.05,\n",
    "    absolute_error=0.0,\n",
    "    relative_error=0.05,\n",
    "    save_path=os.path.join(output_dir, \"synthetic_data.dat\"),\n",
    "    show_data=True\n",
    ")"
   ]
  },
  {
   "cell_type": "code",
   "execution_count": 22,
   "metadata": {
    "collapsed": false,
    "execution": {
     "iopub.execute_input": "2025-05-22T02:39:40.863850Z",
     "iopub.status.busy": "2025-05-22T02:39:40.863850Z",
     "iopub.status.idle": "2025-05-22T02:39:40.867270Z",
     "shell.execute_reply": "2025-05-22T02:39:40.867270Z"
    }
   },
   "outputs": [],
   "source": [
    "Hydro_modular = 0"
   ]
  },
  {
   "cell_type": "code",
   "execution_count": 23,
   "metadata": {
    "collapsed": false,
    "execution": {
     "iopub.execute_input": "2025-05-22T02:39:40.869897Z",
     "iopub.status.busy": "2025-05-22T02:39:40.869393Z",
     "iopub.status.idle": "2025-05-22T02:39:40.882913Z",
     "shell.execute_reply": "2025-05-22T02:39:40.882396Z"
    }
   },
   "outputs": [
    {
     "ename": "AttributeError",
     "evalue": "'int' object has no attribute 'hydro_to_ert'",
     "output_type": "error",
     "traceback": [
      "\u001b[1;31m---------------------------------------------------------------------------\u001b[0m",
      "\u001b[1;31mAttributeError\u001b[0m                            Traceback (most recent call last)",
      "Cell \u001b[1;32mIn[23], line 1\u001b[0m\n\u001b[1;32m----> 1\u001b[0m \u001b[43mHydro_modular\u001b[49m\u001b[38;5;241;43m.\u001b[39;49m\u001b[43mhydro_to_ert\u001b[49m\n\u001b[0;32m      2\u001b[0m Hydro_modular\u001b[38;5;241m.\u001b[39mhydro_to_srt\n",
      "\u001b[1;31mAttributeError\u001b[0m: 'int' object has no attribute 'hydro_to_ert'"
     ]
    }
   ],
   "source": [
    "Hydro_modular.hydro_to_ert\n",
    "Hydro_modular.hydro_to_srt"
   ]
  },
  {
   "cell_type": "code",
   "execution_count": 24,
   "metadata": {
    "collapsed": false,
    "execution": {
     "iopub.execute_input": "2025-05-22T02:39:40.885051Z",
     "iopub.status.busy": "2025-05-22T02:39:40.884542Z",
     "iopub.status.idle": "2025-05-22T02:39:40.909588Z",
     "shell.execute_reply": "2025-05-22T02:39:40.909042Z"
    }
   },
   "outputs": [
    {
     "name": "stdout",
     "output_type": "stream",
     "text": [
      "Step 9: Creating ERT survey design...\n"
     ]
    },
    {
     "ename": "NameError",
     "evalue": "name 'interpolator' is not defined",
     "output_type": "error",
     "traceback": [
      "\u001b[1;31m---------------------------------------------------------------------------\u001b[0m",
      "\u001b[1;31mNameError\u001b[0m                                 Traceback (most recent call last)",
      "Cell \u001b[1;32mIn[24], line 6\u001b[0m\n\u001b[0;32m      2\u001b[0m \u001b[38;5;28mprint\u001b[39m(\u001b[38;5;124m\"\u001b[39m\u001b[38;5;124mStep 9: Creating ERT survey design...\u001b[39m\u001b[38;5;124m\"\u001b[39m)\n\u001b[0;32m      5\u001b[0m xpos \u001b[38;5;241m=\u001b[39m np\u001b[38;5;241m.\u001b[39mlinspace(\u001b[38;5;241m15\u001b[39m,\u001b[38;5;241m15\u001b[39m\u001b[38;5;241m+\u001b[39m\u001b[38;5;241m72\u001b[39m \u001b[38;5;241m-\u001b[39m \u001b[38;5;241m1\u001b[39m,\u001b[38;5;241m72\u001b[39m)\n\u001b[1;32m----> 6\u001b[0m ypos \u001b[38;5;241m=\u001b[39m np\u001b[38;5;241m.\u001b[39minterp(xpos,\u001b[43minterpolator\u001b[49m\u001b[38;5;241m.\u001b[39mL_profile,interpolator\u001b[38;5;241m.\u001b[39msurface_profile)\n\u001b[0;32m      7\u001b[0m pos \u001b[38;5;241m=\u001b[39m np\u001b[38;5;241m.\u001b[39mhstack((xpos\u001b[38;5;241m.\u001b[39mreshape(\u001b[38;5;241m-\u001b[39m\u001b[38;5;241m1\u001b[39m,\u001b[38;5;241m1\u001b[39m),ypos\u001b[38;5;241m.\u001b[39mreshape(\u001b[38;5;241m-\u001b[39m\u001b[38;5;241m1\u001b[39m,\u001b[38;5;241m1\u001b[39m)))\n\u001b[0;32m      9\u001b[0m schemeert \u001b[38;5;241m=\u001b[39m ert\u001b[38;5;241m.\u001b[39mcreateData(elecs\u001b[38;5;241m=\u001b[39mpos,schemeName\u001b[38;5;241m=\u001b[39m\u001b[38;5;124m'\u001b[39m\u001b[38;5;124mwa\u001b[39m\u001b[38;5;124m'\u001b[39m)\n",
      "\u001b[1;31mNameError\u001b[0m: name 'interpolator' is not defined"
     ]
    }
   ],
   "source": [
    "# Method 2: Using step-by-step approach\n",
    "print(\"Step 9: Creating ERT survey design...\")\n",
    "\n",
    "\n",
    "xpos = np.linspace(15,15+72 - 1,72)\n",
    "ypos = np.interp(xpos,interpolator.L_profile,interpolator.surface_profile)\n",
    "pos = np.hstack((xpos.reshape(-1,1),ypos.reshape(-1,1)))\n",
    "\n",
    "schemeert = ert.createData(elecs=pos,schemeName='wa')\n",
    "\n",
    "# Step 10: Forward modeling to create synthetic ERT data\n",
    "print(\"Step 10: Performing forward modeling...\")\n",
    "mesh.setCellMarkers(np.ones(mesh.cellCount())*2)\n",
    "grid = pg.meshtools.appendTriangleBoundary(mesh, marker=1,\n",
    "                                          xbound=100, ybound=100)\n",
    "\n",
    "fwd_operator = ERTForwardModeling(mesh=grid, data=schemeert)\n",
    "\n",
    "\n",
    "synth_data = schemeert.copy()\n",
    "fob = ert.ERTModelling()\n",
    "fob.setData(schemeert)\n",
    "fob.setMesh(grid)\n",
    "dr = fob.response(res_models)\n",
    "\n",
    "dr *= 1. + pg.randn(dr.size()) * 0.05\n",
    "ert_manager = ert.ERTManager(synth_data)\n",
    "synth_data['rhoa'] = dr\n",
    "synth_data['err'] = ert_manager.estimateError(synth_data, absoluteUError=0.0, relativeError=0.05)\n",
    "ert.showData(synth_data,  logscale=True)\n",
    "synth_data.save(os.path.join(output_dir, \"synthetic_data.dat\"))"
   ]
  },
  {
   "cell_type": "markdown",
   "metadata": {},
   "source": [
    "################# Seismic data #####################\n",
    "\n"
   ]
  },
  {
   "cell_type": "code",
   "execution_count": 25,
   "metadata": {
    "collapsed": false,
    "execution": {
     "iopub.execute_input": "2025-05-22T02:39:40.912912Z",
     "iopub.status.busy": "2025-05-22T02:39:40.911872Z",
     "iopub.status.idle": "2025-05-22T02:39:40.933749Z",
     "shell.execute_reply": "2025-05-22T02:39:40.933235Z"
    }
   },
   "outputs": [
    {
     "name": "stdout",
     "output_type": "stream",
     "text": [
      "Step 11: Creating seismic survey one step\n",
      "Step 11: Creating seismic survey design...\n"
     ]
    },
    {
     "ename": "ModuleNotFoundError",
     "evalue": "No module named 'watershed_geophysics'",
     "output_type": "error",
     "traceback": [
      "\u001b[1;31m---------------------------------------------------------------------------\u001b[0m",
      "\u001b[1;31mModuleNotFoundError\u001b[0m                       Traceback (most recent call last)",
      "Cell \u001b[1;32mIn[25], line 5\u001b[0m\n\u001b[0;32m      3\u001b[0m \u001b[38;5;66;03m# Step 11: Creating seismic survey design\u001b[39;00m\n\u001b[0;32m      4\u001b[0m \u001b[38;5;28mprint\u001b[39m(\u001b[38;5;124m\"\u001b[39m\u001b[38;5;124mStep 11: Creating seismic survey design...\u001b[39m\u001b[38;5;124m\"\u001b[39m)\n\u001b[1;32m----> 5\u001b[0m \u001b[38;5;28;01mfrom\u001b[39;00m \u001b[38;5;21;01mwatershed_geophysics\u001b[39;00m\u001b[38;5;21;01m.\u001b[39;00m\u001b[38;5;21;01mforward\u001b[39;00m\u001b[38;5;21;01m.\u001b[39;00m\u001b[38;5;21;01msrt_forward\u001b[39;00m \u001b[38;5;28;01mimport\u001b[39;00m SeismicForwardModeling\n\u001b[0;32m      7\u001b[0m \u001b[38;5;66;03m# Using class method to create synthetic data in one step\u001b[39;00m\n\u001b[0;32m      8\u001b[0m numberGeophones \u001b[38;5;241m=\u001b[39m \u001b[38;5;241m72\u001b[39m\n",
      "\u001b[1;31mModuleNotFoundError\u001b[0m: No module named 'watershed_geophysics'"
     ]
    }
   ],
   "source": [
    "print(\"Step 11: Creating seismic survey one step\")\n",
    "\n",
    "# Step 11: Creating seismic survey design\n",
    "print(\"Step 11: Creating seismic survey design...\")\n",
    "from watershed_geophysics.forward.srt_forward import SeismicForwardModeling\n",
    "\n",
    "# Using class method to create synthetic data in one step\n",
    "numberGeophones = 72\n",
    "sensor_x = np.linspace(15, 15 + 72 - 1, numberGeophones)\n",
    "\n",
    "datasrt, _ = SeismicForwardModeling.create_synthetic_data(\n",
    "    sensor_x=sensor_x, \n",
    "    surface_points=surface,\n",
    "    mesh=mesh,\n",
    "    velocity_model=velocity_mesh,\n",
    "    slowness=False,\n",
    "    shot_distance=5,\n",
    "    noise_level=0.05,\n",
    "    noise_abs=0.00001,\n",
    "    save_path=os.path.join(output_dir, \"synthetic_seismic_data.dat\"),\n",
    "    verbose=True,\n",
    "    seed=1334\n",
    ")\n",
    "\n",
    "# Visualize the results\n",
    "fig, ax = plt.subplots(figsize=(8, 6))\n",
    "SeismicForwardModeling.draw_first_picks(datasrt, ax)\n",
    "plt.tight_layout()"
   ]
  },
  {
   "cell_type": "markdown",
   "metadata": {},
   "source": [
    "################# Seismic data #####################\n",
    "\n"
   ]
  },
  {
   "cell_type": "code",
   "execution_count": 26,
   "metadata": {
    "collapsed": false,
    "execution": {
     "iopub.execute_input": "2025-05-22T02:39:40.935764Z",
     "iopub.status.busy": "2025-05-22T02:39:40.935259Z",
     "iopub.status.idle": "2025-05-22T02:39:40.955406Z",
     "shell.execute_reply": "2025-05-22T02:39:40.954901Z"
    }
   },
   "outputs": [
    {
     "name": "stdout",
     "output_type": "stream",
     "text": [
      "Step 11: Creating seismic survey design...\n"
     ]
    },
    {
     "ename": "NameError",
     "evalue": "name 'surface' is not defined",
     "output_type": "error",
     "traceback": [
      "\u001b[1;31m---------------------------------------------------------------------------\u001b[0m",
      "\u001b[1;31mNameError\u001b[0m                                 Traceback (most recent call last)",
      "Cell \u001b[1;32mIn[26], line 11\u001b[0m\n\u001b[0;32m      6\u001b[0m scheme \u001b[38;5;241m=\u001b[39m pg\u001b[38;5;241m.\u001b[39mphysics\u001b[38;5;241m.\u001b[39mtraveltime\u001b[38;5;241m.\u001b[39mcreateRAData(sensors,shotDistance\u001b[38;5;241m=\u001b[39mshotDistance)\n\u001b[0;32m     10\u001b[0m \u001b[38;5;28;01mfor\u001b[39;00m i \u001b[38;5;129;01min\u001b[39;00m \u001b[38;5;28mrange\u001b[39m(numberGeophones):\n\u001b[1;32m---> 11\u001b[0m     minusx \u001b[38;5;241m=\u001b[39m np\u001b[38;5;241m.\u001b[39mabs(\u001b[43msurface\u001b[49m[:,\u001b[38;5;241m0\u001b[39m]\u001b[38;5;241m-\u001b[39msensors[i])\n\u001b[0;32m     12\u001b[0m     index \u001b[38;5;241m=\u001b[39m np\u001b[38;5;241m.\u001b[39mwhere(minusx\u001b[38;5;241m==\u001b[39m np\u001b[38;5;241m.\u001b[39mamin(minusx))\n\u001b[0;32m     13\u001b[0m     new_x \u001b[38;5;241m=\u001b[39m surface[index,\u001b[38;5;241m0\u001b[39m]\n",
      "\u001b[1;31mNameError\u001b[0m: name 'surface' is not defined"
     ]
    }
   ],
   "source": [
    "print(\"Step 11: Creating seismic survey design...\")\n",
    "\n",
    "numberGeophones = 72\n",
    "shotDistance = 5\n",
    "sensors = np.linspace(15,15 + 72 - 1, numberGeophones)\n",
    "scheme = pg.physics.traveltime.createRAData(sensors,shotDistance=shotDistance)\n",
    "\n",
    "\n",
    "\n",
    "for i in range(numberGeophones):\n",
    "    minusx = np.abs(surface[:,0]-sensors[i])\n",
    "    index = np.where(minusx== np.amin(minusx))\n",
    "    new_x = surface[index,0]\n",
    "    new_y = surface[index,1]\n",
    "    pos[i, 0] = new_x\n",
    "    pos[i, 1] = new_y\n",
    "\n",
    "\n",
    "scheme.setSensors(pos)\n",
    "\n",
    "\n",
    "mgr = TravelTimeManager()\n",
    "datasrt = mgr.simulate(slowness=1.0 / velocity_mesh, scheme=scheme, mesh=mesh,\n",
    "                    noiseLevel=0.05, noiseAbs=0.00001, seed=1334\n",
    "                    ,verbose=True)\n",
    "datasrt.save(os.path.join(output_dir, \"synthetic_seismic_data.dat\"))"
   ]
  },
  {
   "cell_type": "code",
   "execution_count": 27,
   "metadata": {
    "collapsed": false,
    "execution": {
     "iopub.execute_input": "2025-05-22T02:39:40.957421Z",
     "iopub.status.busy": "2025-05-22T02:39:40.956917Z",
     "iopub.status.idle": "2025-05-22T02:39:41.073580Z",
     "shell.execute_reply": "2025-05-22T02:39:41.073580Z"
    }
   },
   "outputs": [
    {
     "ename": "NameError",
     "evalue": "name 'datasrt' is not defined",
     "output_type": "error",
     "traceback": [
      "\u001b[1;31m---------------------------------------------------------------------------\u001b[0m",
      "\u001b[1;31mNameError\u001b[0m                                 Traceback (most recent call last)",
      "Cell \u001b[1;32mIn[27], line 75\u001b[0m\n\u001b[0;32m     73\u001b[0m \u001b[38;5;66;03m# Usage\u001b[39;00m\n\u001b[0;32m     74\u001b[0m fig, ax \u001b[38;5;241m=\u001b[39m plt\u001b[38;5;241m.\u001b[39msubplots(figsize\u001b[38;5;241m=\u001b[39m(\u001b[38;5;241m3.5\u001b[39m, \u001b[38;5;241m2.5\u001b[39m), dpi\u001b[38;5;241m=\u001b[39m\u001b[38;5;241m300\u001b[39m) \n\u001b[1;32m---> 75\u001b[0m drawFirstPicks(ax, \u001b[43mdatasrt\u001b[49m)\n",
      "\u001b[1;31mNameError\u001b[0m: name 'datasrt' is not defined"
     ]
    },
    {
     "data": {
      "image/png": "[encoded data removed]",
      "text/plain": [
       "<Figure size 1050x750 with 1 Axes>"
      ]
     },
     "metadata": {},
     "output_type": "display_data"
    }
   ],
   "source": [
    "def drawFirstPicks(ax, data, tt=None, plotva=False, **kwargs):\n",
    "    \"\"\"Plot first arrivals as lines.\n",
    "    \n",
    "    Parameters\n",
    "    ----------\n",
    "    ax : matplotlib.axes\n",
    "        axis to draw the lines in\n",
    "    data : :gimliapi:`GIMLI::DataContainer`\n",
    "        data containing shots (\"s\"), geophones (\"g\") and traveltimes (\"t\")\n",
    "    tt : array, optional\n",
    "        traveltimes to use instead of data(\"t\")\n",
    "    plotva : bool, optional\n",
    "        plot apparent velocity instead of traveltimes\n",
    "    \n",
    "    Return\n",
    "    ------\n",
    "    ax : matplotlib.axes\n",
    "        the modified axis\n",
    "    \"\"\"\n",
    "    # Extract coordinates\n",
    "    px = pg.x(data)\n",
    "    gx = np.array([px[int(g)] for g in data(\"g\")])\n",
    "    sx = np.array([px[int(s)] for s in data(\"s\")])\n",
    "    \n",
    "    # Get traveltimes\n",
    "    if tt is None:\n",
    "        tt = np.array(data(\"t\"))\n",
    "    if plotva:\n",
    "        tt = np.absolute(gx - sx) / tt\n",
    "    \n",
    "    # Find unique source positions    \n",
    "    uns = np.unique(sx)\n",
    "    \n",
    "    # Override kwargs with clean, minimalist style\n",
    "    kwargs['color'] = 'black'\n",
    "    kwargs['linestyle'] = '--'\n",
    "    kwargs['linewidth'] = 0.9\n",
    "    kwargs['marker'] = None  # No markers on the lines\n",
    "    \n",
    "    # Plot for each source\n",
    "    for i, si in enumerate(uns):\n",
    "        ti = tt[sx == si]\n",
    "        gi = gx[sx == si]\n",
    "        ii = gi.argsort()\n",
    "        \n",
    "        # Plot line\n",
    "        ax.plot(gi[ii], ti[ii], **kwargs)\n",
    "        \n",
    "        # Add source marker as black square at top\n",
    "        ax.plot(si, 0.0, 's', color='black', markersize=4, \n",
    "                markeredgecolor='black', markeredgewidth=0.5)\n",
    "    \n",
    "    # Clean grid style\n",
    "    ax.grid(True, linestyle='-', linewidth=0.2, color='lightgray')\n",
    "    \n",
    "    # Set proper axis labels with units\n",
    "    if plotva:\n",
    "        ax.set_ylabel(\"Apparent velocity (m s$^{-1}$)\")\n",
    "    else:\n",
    "        ax.set_ylabel(\"Traveltime (s)\")\n",
    "    \n",
    "    ax.set_xlabel(\"Distance (m)\")\n",
    "    \n",
    "\n",
    "    \n",
    "\n",
    "    \n",
    "    # Invert y-axis for traveltimes\n",
    "    ax.invert_yaxis()\n",
    "\n",
    "    return ax\n",
    "\n",
    "# Usage\n",
    "fig, ax = plt.subplots(figsize=(3.5, 2.5), dpi=300) \n",
    "drawFirstPicks(ax, datasrt)"
   ]
  },
  {
   "cell_type": "code",
   "execution_count": 28,
   "metadata": {
    "collapsed": false,
    "execution": {
     "iopub.execute_input": "2025-05-22T02:39:41.076654Z",
     "iopub.status.busy": "2025-05-22T02:39:41.075624Z",
     "iopub.status.idle": "2025-05-22T02:39:41.505864Z",
     "shell.execute_reply": "2025-05-22T02:39:41.505324Z"
    }
   },
   "outputs": [
    {
     "ename": "NameError",
     "evalue": "name 'mesh' is not defined",
     "output_type": "error",
     "traceback": [
      "\u001b[1;31m---------------------------------------------------------------------------\u001b[0m",
      "\u001b[1;31mNameError\u001b[0m                                 Traceback (most recent call last)",
      "Cell \u001b[1;32mIn[28], line 15\u001b[0m\n\u001b[0;32m     12\u001b[0m ax1, ax2, ax3, ax4 \u001b[38;5;241m=\u001b[39m axs\u001b[38;5;241m.\u001b[39mflatten()\n\u001b[0;32m     14\u001b[0m \u001b[38;5;66;03m# --- Top left: Resistivity (log scale) ---\u001b[39;00m\n\u001b[1;32m---> 15\u001b[0m pg\u001b[38;5;241m.\u001b[39mshow(\u001b[43mmesh\u001b[49m, res_models, ax\u001b[38;5;241m=\u001b[39max1, orientation\u001b[38;5;241m=\u001b[39m\u001b[38;5;124m\"\u001b[39m\u001b[38;5;124mvertical\u001b[39m\u001b[38;5;124m\"\u001b[39m,\n\u001b[0;32m     16\u001b[0m         cMap\u001b[38;5;241m=\u001b[39mfixed_cmap, logScale\u001b[38;5;241m=\u001b[39m\u001b[38;5;28;01mTrue\u001b[39;00m, showColorBar\u001b[38;5;241m=\u001b[39m\u001b[38;5;28;01mTrue\u001b[39;00m,\n\u001b[0;32m     17\u001b[0m         xlabel\u001b[38;5;241m=\u001b[39m\u001b[38;5;124m\"\u001b[39m\u001b[38;5;124mDistance (m)\u001b[39m\u001b[38;5;124m\"\u001b[39m, ylabel\u001b[38;5;241m=\u001b[39m\u001b[38;5;124m\"\u001b[39m\u001b[38;5;124mElevation (m)\u001b[39m\u001b[38;5;124m\"\u001b[39m,\n\u001b[0;32m     18\u001b[0m         label\u001b[38;5;241m=\u001b[39m\u001b[38;5;124m'\u001b[39m\u001b[38;5;124mResistivity (Ω·m)\u001b[39m\u001b[38;5;124m'\u001b[39m, cMin\u001b[38;5;241m=\u001b[39m\u001b[38;5;241m100\u001b[39m, cMax\u001b[38;5;241m=\u001b[39m\u001b[38;5;241m3000\u001b[39m)\n\u001b[0;32m     19\u001b[0m \u001b[38;5;66;03m# Invert y (so elevation decreases downward)\u001b[39;00m\n\u001b[0;32m     20\u001b[0m pg\u001b[38;5;241m.\u001b[39mviewer\u001b[38;5;241m.\u001b[39mmpl\u001b[38;5;241m.\u001b[39mdrawSensors(ax1, schemeert\u001b[38;5;241m.\u001b[39msensors(), diam\u001b[38;5;241m=\u001b[39m\u001b[38;5;241m0.8\u001b[39m,\n\u001b[0;32m     21\u001b[0m                          facecolor\u001b[38;5;241m=\u001b[39m\u001b[38;5;124m'\u001b[39m\u001b[38;5;124mblack\u001b[39m\u001b[38;5;124m'\u001b[39m, edgecolor\u001b[38;5;241m=\u001b[39m\u001b[38;5;124m'\u001b[39m\u001b[38;5;124mblack\u001b[39m\u001b[38;5;124m'\u001b[39m)\n",
      "\u001b[1;31mNameError\u001b[0m: name 'mesh' is not defined"
     ]
    },
    {
     "data": {
      "image/png": "[encoded data removed]",
      "text/plain": [
       "<Figure size 2100x1500 with 4 Axes>"
      ]
     },
     "metadata": {},
     "output_type": "display_data"
    }
   ],
   "source": [
    "import numpy as np\n",
    "import matplotlib.pyplot as plt\n",
    "import pygimli as pg\n",
    "\n",
    "# Assume mesh, res_models, velocity_mesh, fixed_cmap, synth_data, datasrt, ert, drawFirstPicks are already defined\n",
    "\n",
    "# Create 2×2 axes\n",
    "fig, axs = plt.subplots(2, 2, figsize=(14, 10),\n",
    "                        gridspec_kw={'hspace': 0.1, 'wspace': 0.4})\n",
    "\n",
    "# Flatten for easy indexing\n",
    "ax1, ax2, ax3, ax4 = axs.flatten()\n",
    "\n",
    "# --- Top left: Resistivity (log scale) ---\n",
    "pg.show(mesh, res_models, ax=ax1, orientation=\"vertical\",\n",
    "        cMap=fixed_cmap, logScale=True, showColorBar=True,\n",
    "        xlabel=\"Distance (m)\", ylabel=\"Elevation (m)\",\n",
    "        label='Resistivity (Ω·m)', cMin=100, cMax=3000)\n",
    "# Invert y (so elevation decreases downward)\n",
    "pg.viewer.mpl.drawSensors(ax1, schemeert.sensors(), diam=0.8,\n",
    "                         facecolor='black', edgecolor='black')\n",
    "\n",
    "\n",
    "# --- Top right: P-wave velocity (fixed scale) ---\n",
    "pg.show(mesh, velocity_mesh, ax=ax2, orientation=\"vertical\",\n",
    "        cMap=fixed_cmap, cMin=500, cMax=5000, showColorBar=True,\n",
    "        xlabel=\"Distance (m)\", ylabel=\"Elevation (m)\",\n",
    "        label='Velocity (m/s)')\n",
    "pg.viewer.mpl.drawSensors(ax2, schemeert.sensors(), diam=0.8,\n",
    "                         facecolor='black', edgecolor='black')\n",
    "\n",
    "\n",
    "# Print range for debugging\n",
    "print(\"Velocity range:\", np.min(velocity_mesh), np.max(velocity_mesh))\n",
    "\n",
    "# --- Bottom left: Synthetic ERT data ---\n",
    "ert.showData(synth_data, logscale=True, ax=ax3, cMin=500, cMax=2000,cmap='jet')\n",
    "\n",
    "ax3.set_xlabel(\"Distance (m)\")\n",
    "ax3.spines['top'].set_visible(False)\n",
    "ax3.spines['right'].set_visible(False)\n",
    "\n",
    "# --- Bottom right: First-break picks ---\n",
    "drawFirstPicks(ax=ax4, data=datasrt)\n",
    "\n",
    "ax4.set_xlabel(\"Distance (m)\")\n",
    "ax4.set_ylabel(\"First arrival time (s)\")\n",
    "ax4.spines['top'].set_visible(False)\n",
    "ax4.spines['right'].set_visible(False)\n",
    "\n",
    "plt.tight_layout()\n",
    "plt.savefig(os.path.join(output_dir, \"ert_seismic.tiff\"), dpi=300)"
   ]
  },
  {
   "cell_type": "code",
   "execution_count": 29,
   "metadata": {
    "collapsed": false,
    "execution": {
     "iopub.execute_input": "2025-05-22T02:39:41.508529Z",
     "iopub.status.busy": "2025-05-22T02:39:41.508529Z",
     "iopub.status.idle": "2025-05-22T02:39:41.526765Z",
     "shell.execute_reply": "2025-05-22T02:39:41.526250Z"
    }
   },
   "outputs": [
    {
     "ename": "NameError",
     "evalue": "name 'synth_data' is not defined",
     "output_type": "error",
     "traceback": [
      "\u001b[1;31m---------------------------------------------------------------------------\u001b[0m",
      "\u001b[1;31mNameError\u001b[0m                                 Traceback (most recent call last)",
      "Cell \u001b[1;32mIn[29], line 1\u001b[0m\n\u001b[1;32m----> 1\u001b[0m np\u001b[38;5;241m.\u001b[39mmean(np\u001b[38;5;241m.\u001b[39marray(\u001b[43msynth_data\u001b[49m[\u001b[38;5;124m'\u001b[39m\u001b[38;5;124mrhoa\u001b[39m\u001b[38;5;124m'\u001b[39m][:\u001b[38;5;241m600\u001b[39m]))\n",
      "\u001b[1;31mNameError\u001b[0m: name 'synth_data' is not defined"
     ]
    }
   ],
   "source": [
    "np.mean(np.array(synth_data['rhoa'][:600]))"
   ]
  },
  {
   "cell_type": "code",
   "execution_count": 30,
   "metadata": {
    "collapsed": false,
    "execution": {
     "iopub.execute_input": "2025-05-22T02:39:41.529467Z",
     "iopub.status.busy": "2025-05-22T02:39:41.528788Z",
     "iopub.status.idle": "2025-05-22T02:39:41.545535Z",
     "shell.execute_reply": "2025-05-22T02:39:41.544503Z"
    }
   },
   "outputs": [
    {
     "ename": "NameError",
     "evalue": "name 'synth_data' is not defined",
     "output_type": "error",
     "traceback": [
      "\u001b[1;31m---------------------------------------------------------------------------\u001b[0m",
      "\u001b[1;31mNameError\u001b[0m                                 Traceback (most recent call last)",
      "Cell \u001b[1;32mIn[30], line 1\u001b[0m\n\u001b[1;32m----> 1\u001b[0m \u001b[43msynth_data\u001b[49m\n",
      "\u001b[1;31mNameError\u001b[0m: name 'synth_data' is not defined"
     ]
    }
   ],
   "source": [
    "synth_data"
   ]
  },
  {
   "cell_type": "code",
   "execution_count": 31,
   "metadata": {
    "collapsed": false,
    "execution": {
     "iopub.execute_input": "2025-05-22T02:39:41.549658Z",
     "iopub.status.busy": "2025-05-22T02:39:41.548646Z",
     "iopub.status.idle": "2025-05-22T02:39:41.564863Z",
     "shell.execute_reply": "2025-05-22T02:39:41.564348Z"
    }
   },
   "outputs": [
    {
     "ename": "NameError",
     "evalue": "name 'inversion_result' is not defined",
     "output_type": "error",
     "traceback": [
      "\u001b[1;31m---------------------------------------------------------------------------\u001b[0m",
      "\u001b[1;31mNameError\u001b[0m                                 Traceback (most recent call last)",
      "Cell \u001b[1;32mIn[31], line 1\u001b[0m\n\u001b[1;32m----> 1\u001b[0m np\u001b[38;5;241m.\u001b[39mmean(\u001b[43minversion_result\u001b[49m\u001b[38;5;241m.\u001b[39mfinal_model[inversion_result\u001b[38;5;241m.\u001b[39mcoverage\u001b[38;5;241m>\u001b[39m\u001b[38;5;241m-\u001b[39m\u001b[38;5;241m1.2\u001b[39m])\n",
      "\u001b[1;31mNameError\u001b[0m: name 'inversion_result' is not defined"
     ]
    }
   ],
   "source": [
    "np.mean(inversion_result.final_model[inversion_result.coverage>-1.2])"
   ]
  },
  {
   "cell_type": "markdown",
   "metadata": {},
   "source": [
    "Step 11: Run ERT inversion on synthetic data\n",
    "\n"
   ]
  },
  {
   "cell_type": "code",
   "execution_count": 32,
   "metadata": {
    "collapsed": false,
    "execution": {
     "iopub.execute_input": "2025-05-22T02:39:41.566888Z",
     "iopub.status.busy": "2025-05-22T02:39:41.566376Z",
     "iopub.status.idle": "2025-05-22T02:39:41.654681Z",
     "shell.execute_reply": "2025-05-22T02:39:41.654681Z"
    }
   },
   "outputs": [
    {
     "name": "stdout",
     "output_type": "stream",
     "text": [
      "Step 11: Running ERT inversion...\n"
     ]
    },
    {
     "ename": "Exception",
     "evalue": "File or directory named results/workflow_example\\synthetic_data.dat does not exist.",
     "output_type": "error",
     "traceback": [
      "\u001b[1;31m---------------------------------------------------------------------------\u001b[0m",
      "\u001b[1;31mException\u001b[0m                                 Traceback (most recent call last)",
      "Cell \u001b[1;32mIn[32], line 5\u001b[0m\n\u001b[0;32m      2\u001b[0m \u001b[38;5;28mprint\u001b[39m(\u001b[38;5;124m\"\u001b[39m\u001b[38;5;124mStep 11: Running ERT inversion...\u001b[39m\u001b[38;5;124m\"\u001b[39m)\n\u001b[0;32m      4\u001b[0m \u001b[38;5;66;03m# Create ERT inversion object\u001b[39;00m\n\u001b[1;32m----> 5\u001b[0m inversion \u001b[38;5;241m=\u001b[39m \u001b[43mERTInversion\u001b[49m\u001b[43m(\u001b[49m\n\u001b[0;32m      6\u001b[0m \u001b[43m    \u001b[49m\u001b[43mdata_file\u001b[49m\u001b[38;5;241;43m=\u001b[39;49m\u001b[43mos\u001b[49m\u001b[38;5;241;43m.\u001b[39;49m\u001b[43mpath\u001b[49m\u001b[38;5;241;43m.\u001b[39;49m\u001b[43mjoin\u001b[49m\u001b[43m(\u001b[49m\u001b[43moutput_dir\u001b[49m\u001b[43m,\u001b[49m\u001b[43m \u001b[49m\u001b[38;5;124;43m\"\u001b[39;49m\u001b[38;5;124;43msynthetic_data.dat\u001b[39;49m\u001b[38;5;124;43m\"\u001b[39;49m\u001b[43m)\u001b[49m\u001b[43m,\u001b[49m\n\u001b[0;32m      7\u001b[0m \u001b[43m    \u001b[49m\u001b[43mlambda_val\u001b[49m\u001b[38;5;241;43m=\u001b[39;49m\u001b[38;5;241;43m10.0\u001b[39;49m\u001b[43m,\u001b[49m\n\u001b[0;32m      8\u001b[0m \u001b[43m    \u001b[49m\u001b[43mmethod\u001b[49m\u001b[38;5;241;43m=\u001b[39;49m\u001b[38;5;124;43m\"\u001b[39;49m\u001b[38;5;124;43mcgls\u001b[39;49m\u001b[38;5;124;43m\"\u001b[39;49m\u001b[43m,\u001b[49m\n\u001b[0;32m      9\u001b[0m \u001b[43m    \u001b[49m\u001b[43muse_gpu\u001b[49m\u001b[38;5;241;43m=\u001b[39;49m\u001b[38;5;28;43;01mTrue\u001b[39;49;00m\u001b[43m,\u001b[49m\n\u001b[0;32m     10\u001b[0m \u001b[43m    \u001b[49m\u001b[43mmax_iterations\u001b[49m\u001b[38;5;241;43m=\u001b[39;49m\u001b[38;5;241;43m10\u001b[39;49m\u001b[43m,\u001b[49m\n\u001b[0;32m     11\u001b[0m \u001b[43m    \u001b[49m\u001b[43mlambda_rate\u001b[49m\u001b[38;5;241;43m=\u001b[39;49m\u001b[43m \u001b[49m\u001b[38;5;241;43m1.0\u001b[39;49m\n\u001b[0;32m     12\u001b[0m \u001b[43m)\u001b[49m\n\u001b[0;32m     13\u001b[0m inversion_result \u001b[38;5;241m=\u001b[39m inversion\u001b[38;5;241m.\u001b[39mrun()\n",
      "File \u001b[1;32mc:\\users\\hchen8\\documents\\github\\pyhydrogeophysx\\PyHydroGeophysX\\inversion\\ert_inversion.py:40\u001b[0m, in \u001b[0;36mERTInversion.__init__\u001b[1;34m(self, data_file, mesh, **kwargs)\u001b[0m\n\u001b[0;32m     20\u001b[0m \u001b[38;5;250m\u001b[39m\u001b[38;5;124;03m\"\"\"\u001b[39;00m\n\u001b[0;32m     21\u001b[0m \u001b[38;5;124;03mInitialize ERT inversion.\u001b[39;00m\n\u001b[0;32m     22\u001b[0m \u001b[38;5;124;03m\u001b[39;00m\n\u001b[1;32m   (...)\u001b[0m\n\u001b[0;32m     37\u001b[0m \u001b[38;5;124;03m        - n_jobs: Number of parallel jobs (-1 for all cores)\u001b[39;00m\n\u001b[0;32m     38\u001b[0m \u001b[38;5;124;03m\"\"\"\u001b[39;00m\n\u001b[0;32m     39\u001b[0m \u001b[38;5;66;03m# Load ERT data\u001b[39;00m\n\u001b[1;32m---> 40\u001b[0m data \u001b[38;5;241m=\u001b[39m \u001b[43mert\u001b[49m\u001b[38;5;241;43m.\u001b[39;49m\u001b[43mload\u001b[49m\u001b[43m(\u001b[49m\u001b[43mdata_file\u001b[49m\u001b[43m)\u001b[49m\n\u001b[0;32m     42\u001b[0m \u001b[38;5;66;03m# Call parent initializer\u001b[39;00m\n\u001b[0;32m     43\u001b[0m \u001b[38;5;28msuper\u001b[39m()\u001b[38;5;241m.\u001b[39m\u001b[38;5;21m__init__\u001b[39m(data, mesh, \u001b[38;5;241m*\u001b[39m\u001b[38;5;241m*\u001b[39mkwargs)\n",
      "File \u001b[1;32m~\\anaconda3\\envs\\pg\\Lib\\site-packages\\pygimli\\physics\\ert\\importData.py:26\u001b[0m, in \u001b[0;36mload\u001b[1;34m(fileName, verbose, **kwargs)\u001b[0m\n\u001b[0;32m      7\u001b[0m \u001b[38;5;28;01mdef\u001b[39;00m \u001b[38;5;21mload\u001b[39m(fileName, verbose\u001b[38;5;241m=\u001b[39m\u001b[38;5;28;01mFalse\u001b[39;00m, \u001b[38;5;241m*\u001b[39m\u001b[38;5;241m*\u001b[39mkwargs):\n\u001b[0;32m      8\u001b[0m \u001b[38;5;250m    \u001b[39m\u001b[38;5;124;03m\"\"\"Shortcut to load ERT data.\u001b[39;00m\n\u001b[0;32m      9\u001b[0m \n\u001b[0;32m     10\u001b[0m \u001b[38;5;124;03m    Import Data and try to assume the file format.\u001b[39;00m\n\u001b[1;32m   (...)\u001b[0m\n\u001b[0;32m     24\u001b[0m \n\u001b[0;32m     25\u001b[0m \u001b[38;5;124;03m    \"\"\"\u001b[39;00m\n\u001b[1;32m---> 26\u001b[0m     data \u001b[38;5;241m=\u001b[39m \u001b[43mpg\u001b[49m\u001b[38;5;241;43m.\u001b[39;49m\u001b[43mload\u001b[49m\u001b[43m(\u001b[49m\u001b[43mfileName\u001b[49m\u001b[43m)\u001b[49m\n\u001b[0;32m     27\u001b[0m     \u001b[38;5;28;01mif\u001b[39;00m \u001b[38;5;28misinstance\u001b[39m(data, pg\u001b[38;5;241m.\u001b[39mDataContainerERT):\n\u001b[0;32m     28\u001b[0m         \u001b[38;5;28;01mreturn\u001b[39;00m data\n",
      "File \u001b[1;32m~\\anaconda3\\envs\\pg\\Lib\\site-packages\\pygimli\\core\\load.py:166\u001b[0m, in \u001b[0;36mload\u001b[1;34m(fname, verbose, testAll, realName)\u001b[0m\n\u001b[0;32m    163\u001b[0m     \u001b[38;5;28;01mreturn\u001b[39;00m getExampleData(fname)\n\u001b[0;32m    165\u001b[0m \u001b[38;5;28;01mif\u001b[39;00m \u001b[38;5;129;01mnot\u001b[39;00m os\u001b[38;5;241m.\u001b[39mpath\u001b[38;5;241m.\u001b[39mexists(fname):\n\u001b[1;32m--> 166\u001b[0m     \u001b[38;5;28;01mraise\u001b[39;00m \u001b[38;5;167;01mException\u001b[39;00m(\u001b[38;5;124m\"\u001b[39m\u001b[38;5;124mFile or directory named \u001b[39m\u001b[38;5;132;01m%s\u001b[39;00m\u001b[38;5;124m does not exist.\u001b[39m\u001b[38;5;124m\"\u001b[39m \u001b[38;5;241m%\u001b[39m (fname))\n\u001b[0;32m    168\u001b[0m \u001b[38;5;66;03m# recursive function call if fname is a folder of files\u001b[39;00m\n\u001b[0;32m    169\u001b[0m \u001b[38;5;28;01mif\u001b[39;00m os\u001b[38;5;241m.\u001b[39mpath\u001b[38;5;241m.\u001b[39misdir(fname):\n",
      "\u001b[1;31mException\u001b[0m: File or directory named results/workflow_example\\synthetic_data.dat does not exist."
     ]
    }
   ],
   "source": [
    "## using my code to the inversion\n",
    "print(\"Step 11: Running ERT inversion...\")\n",
    "\n",
    "# Create ERT inversion object\n",
    "inversion = ERTInversion(\n",
    "    data_file=os.path.join(output_dir, \"synthetic_data.dat\"),\n",
    "    lambda_val=10.0,\n",
    "    method=\"cgls\",\n",
    "    use_gpu=True,\n",
    "    max_iterations=10,\n",
    "    lambda_rate= 1.0\n",
    ")\n",
    "inversion_result = inversion.run()"
   ]
  },
  {
   "cell_type": "code",
   "execution_count": 33,
   "metadata": {
    "collapsed": false,
    "execution": {
     "iopub.execute_input": "2025-05-22T02:39:41.657656Z",
     "iopub.status.busy": "2025-05-22T02:39:41.656647Z",
     "iopub.status.idle": "2025-05-22T02:39:41.675512Z",
     "shell.execute_reply": "2025-05-22T02:39:41.674998Z"
    }
   },
   "outputs": [
    {
     "ename": "NameError",
     "evalue": "name 'inversion_result' is not defined",
     "output_type": "error",
     "traceback": [
      "\u001b[1;31m---------------------------------------------------------------------------\u001b[0m",
      "\u001b[1;31mNameError\u001b[0m                                 Traceback (most recent call last)",
      "Cell \u001b[1;32mIn[33], line 1\u001b[0m\n\u001b[1;32m----> 1\u001b[0m \u001b[43minversion_result\u001b[49m\u001b[38;5;241m.\u001b[39mmesh\n",
      "\u001b[1;31mNameError\u001b[0m: name 'inversion_result' is not defined"
     ]
    }
   ],
   "source": [
    "inversion_result.mesh"
   ]
  },
  {
   "cell_type": "code",
   "execution_count": 34,
   "metadata": {
    "collapsed": false,
    "execution": {
     "iopub.execute_input": "2025-05-22T02:39:41.679099Z",
     "iopub.status.busy": "2025-05-22T02:39:41.678591Z",
     "iopub.status.idle": "2025-05-22T02:39:41.693540Z",
     "shell.execute_reply": "2025-05-22T02:39:41.693016Z"
    }
   },
   "outputs": [
    {
     "ename": "NameError",
     "evalue": "name 'inversion_result' is not defined",
     "output_type": "error",
     "traceback": [
      "\u001b[1;31m---------------------------------------------------------------------------\u001b[0m",
      "\u001b[1;31mNameError\u001b[0m                                 Traceback (most recent call last)",
      "Cell \u001b[1;32mIn[34], line 1\u001b[0m\n\u001b[1;32m----> 1\u001b[0m \u001b[43minversion_result\u001b[49m\u001b[38;5;241m.\u001b[39mfinal_model\u001b[38;5;241m.\u001b[39mshape\n",
      "\u001b[1;31mNameError\u001b[0m: name 'inversion_result' is not defined"
     ]
    }
   ],
   "source": [
    "inversion_result.final_model.shape"
   ]
  },
  {
   "cell_type": "markdown",
   "metadata": {},
   "source": [
    "# Using Pygimili default to the inversion\n",
    "\n"
   ]
  },
  {
   "cell_type": "code",
   "execution_count": 35,
   "metadata": {
    "collapsed": false,
    "execution": {
     "iopub.execute_input": "2025-05-22T02:39:41.696594Z",
     "iopub.status.busy": "2025-05-22T02:39:41.695561Z",
     "iopub.status.idle": "2025-05-22T02:39:41.785433Z",
     "shell.execute_reply": "2025-05-22T02:39:41.785433Z"
    }
   },
   "outputs": [
    {
     "ename": "Exception",
     "evalue": "File or directory named results/workflow_example\\synthetic_data.dat does not exist.",
     "output_type": "error",
     "traceback": [
      "\u001b[1;31m---------------------------------------------------------------------------\u001b[0m",
      "\u001b[1;31mException\u001b[0m                                 Traceback (most recent call last)",
      "Cell \u001b[1;32mIn[35], line 1\u001b[0m\n\u001b[1;32m----> 1\u001b[0m mgr \u001b[38;5;241m=\u001b[39m \u001b[43mert\u001b[49m\u001b[38;5;241;43m.\u001b[39;49m\u001b[43mERTManager\u001b[49m\u001b[43m(\u001b[49m\u001b[43mos\u001b[49m\u001b[38;5;241;43m.\u001b[39;49m\u001b[43mpath\u001b[49m\u001b[38;5;241;43m.\u001b[39;49m\u001b[43mjoin\u001b[49m\u001b[43m(\u001b[49m\u001b[43moutput_dir\u001b[49m\u001b[43m,\u001b[49m\u001b[43m \u001b[49m\u001b[38;5;124;43m\"\u001b[39;49m\u001b[38;5;124;43msynthetic_data.dat\u001b[39;49m\u001b[38;5;124;43m\"\u001b[39;49m\u001b[43m)\u001b[49m\u001b[43m)\u001b[49m\n\u001b[0;32m      2\u001b[0m inv \u001b[38;5;241m=\u001b[39m mgr\u001b[38;5;241m.\u001b[39minvert(lam\u001b[38;5;241m=\u001b[39m\u001b[38;5;241m10\u001b[39m, verbose\u001b[38;5;241m=\u001b[39m\u001b[38;5;28;01mTrue\u001b[39;00m,quality\u001b[38;5;241m=\u001b[39m\u001b[38;5;241m34\u001b[39m)\n",
      "File \u001b[1;32m~\\anaconda3\\envs\\pg\\Lib\\site-packages\\pygimli\\physics\\ert\\ertManager.py:56\u001b[0m, in \u001b[0;36mERTManager.__init__\u001b[1;34m(self, data, **kwargs)\u001b[0m\n\u001b[0;32m     53\u001b[0m \u001b[38;5;28mself\u001b[39m\u001b[38;5;241m.\u001b[39museBert \u001b[38;5;241m=\u001b[39m kwargs\u001b[38;5;241m.\u001b[39mpop(\u001b[38;5;124m'\u001b[39m\u001b[38;5;124museBert\u001b[39m\u001b[38;5;124m'\u001b[39m, \u001b[38;5;28;01mTrue\u001b[39;00m)\n\u001b[0;32m     54\u001b[0m \u001b[38;5;28mself\u001b[39m\u001b[38;5;241m.\u001b[39msr \u001b[38;5;241m=\u001b[39m kwargs\u001b[38;5;241m.\u001b[39mpop(\u001b[38;5;124m'\u001b[39m\u001b[38;5;124msr\u001b[39m\u001b[38;5;124m'\u001b[39m, \u001b[38;5;28;01mTrue\u001b[39;00m)\n\u001b[1;32m---> 56\u001b[0m \u001b[38;5;28;43msuper\u001b[39;49m\u001b[43m(\u001b[49m\u001b[43m)\u001b[49m\u001b[38;5;241;43m.\u001b[39;49m\u001b[38;5;21;43m__init__\u001b[39;49m\u001b[43m(\u001b[49m\u001b[43mdata\u001b[49m\u001b[38;5;241;43m=\u001b[39;49m\u001b[43mdata\u001b[49m\u001b[43m,\u001b[49m\u001b[43m \u001b[49m\u001b[38;5;241;43m*\u001b[39;49m\u001b[38;5;241;43m*\u001b[39;49m\u001b[43mkwargs\u001b[49m\u001b[43m)\u001b[49m\n\u001b[0;32m     57\u001b[0m \u001b[38;5;28mself\u001b[39m\u001b[38;5;241m.\u001b[39minv\u001b[38;5;241m.\u001b[39mdataTrans \u001b[38;5;241m=\u001b[39m pg\u001b[38;5;241m.\u001b[39mtrans\u001b[38;5;241m.\u001b[39mTransLogLU()\n",
      "File \u001b[1;32m~\\anaconda3\\envs\\pg\\Lib\\site-packages\\pygimli\\frameworks\\methodManager.py:709\u001b[0m, in \u001b[0;36mMeshMethodManager.__init__\u001b[1;34m(self, **kwargs)\u001b[0m\n\u001b[0;32m    700\u001b[0m \u001b[38;5;28;01mdef\u001b[39;00m \u001b[38;5;21m__init__\u001b[39m(\u001b[38;5;28mself\u001b[39m, \u001b[38;5;241m*\u001b[39m\u001b[38;5;241m*\u001b[39mkwargs):\n\u001b[0;32m    701\u001b[0m \u001b[38;5;250m    \u001b[39m\u001b[38;5;124;03m\"\"\"Initialize by calling super methods.\u001b[39;00m\n\u001b[0;32m    702\u001b[0m \n\u001b[0;32m    703\u001b[0m \u001b[38;5;124;03m    Attribute\u001b[39;00m\n\u001b[1;32m   (...)\u001b[0m\n\u001b[0;32m    707\u001b[0m \u001b[38;5;124;03m        You can overwrite it with invert(mesh=mesh).\u001b[39;00m\n\u001b[0;32m    708\u001b[0m \u001b[38;5;124;03m    \"\"\"\u001b[39;00m\n\u001b[1;32m--> 709\u001b[0m     \u001b[38;5;28;43msuper\u001b[39;49m\u001b[43m(\u001b[49m\u001b[43m)\u001b[49m\u001b[38;5;241;43m.\u001b[39;49m\u001b[38;5;21;43m__init__\u001b[39;49m\u001b[43m(\u001b[49m\u001b[38;5;241;43m*\u001b[39;49m\u001b[38;5;241;43m*\u001b[39;49m\u001b[43mkwargs\u001b[49m\u001b[43m)\u001b[49m\n\u001b[0;32m    710\u001b[0m     \u001b[38;5;28mself\u001b[39m\u001b[38;5;241m.\u001b[39mmesh \u001b[38;5;241m=\u001b[39m \u001b[38;5;28;01mNone\u001b[39;00m\n",
      "File \u001b[1;32m~\\anaconda3\\envs\\pg\\Lib\\site-packages\\pygimli\\frameworks\\methodManager.py:134\u001b[0m, in \u001b[0;36mMethodManager.__init__\u001b[1;34m(self, fop, fw, data, **kwargs)\u001b[0m\n\u001b[0;32m    132\u001b[0m \u001b[38;5;28;01mif\u001b[39;00m data \u001b[38;5;129;01mis\u001b[39;00m \u001b[38;5;129;01mnot\u001b[39;00m \u001b[38;5;28;01mNone\u001b[39;00m:\n\u001b[0;32m    133\u001b[0m     \u001b[38;5;28;01mif\u001b[39;00m \u001b[38;5;28misinstance\u001b[39m(data, \u001b[38;5;28mstr\u001b[39m):\n\u001b[1;32m--> 134\u001b[0m         \u001b[38;5;28;43mself\u001b[39;49m\u001b[38;5;241;43m.\u001b[39;49m\u001b[43mload\u001b[49m\u001b[43m(\u001b[49m\u001b[43mdata\u001b[49m\u001b[43m)\u001b[49m\n\u001b[0;32m    135\u001b[0m     \u001b[38;5;28;01melse\u001b[39;00m:\n\u001b[0;32m    136\u001b[0m         \u001b[38;5;66;03m#self.data = data\u001b[39;00m\n\u001b[0;32m    137\u001b[0m         \u001b[38;5;28mself\u001b[39m\u001b[38;5;241m.\u001b[39msetData(data)\n",
      "File \u001b[1;32m~\\anaconda3\\envs\\pg\\Lib\\site-packages\\pygimli\\physics\\ert\\ertManager.py:91\u001b[0m, in \u001b[0;36mERTManager.load\u001b[1;34m(self, fileName)\u001b[0m\n\u001b[0;32m     77\u001b[0m \u001b[38;5;28;01mdef\u001b[39;00m \u001b[38;5;21mload\u001b[39m(\u001b[38;5;28mself\u001b[39m, fileName):\n\u001b[0;32m     78\u001b[0m \u001b[38;5;250m    \u001b[39m\u001b[38;5;124;03m\"\"\"Load ERT data.\u001b[39;00m\n\u001b[0;32m     79\u001b[0m \n\u001b[0;32m     80\u001b[0m \u001b[38;5;124;03m    Forwarded to :py:mod:`pygimli.physics.ert.load`\u001b[39;00m\n\u001b[1;32m   (...)\u001b[0m\n\u001b[0;32m     89\u001b[0m \u001b[38;5;124;03m    data: :gimliapi:`GIMLI::DataContainerERT`\u001b[39;00m\n\u001b[0;32m     90\u001b[0m \u001b[38;5;124;03m    \"\"\"\u001b[39;00m\n\u001b[1;32m---> 91\u001b[0m     \u001b[38;5;28mself\u001b[39m\u001b[38;5;241m.\u001b[39mdata \u001b[38;5;241m=\u001b[39m \u001b[43mpg\u001b[49m\u001b[38;5;241;43m.\u001b[39;49m\u001b[43mphysics\u001b[49m\u001b[38;5;241;43m.\u001b[39;49m\u001b[43mert\u001b[49m\u001b[38;5;241;43m.\u001b[39;49m\u001b[43mload\u001b[49m\u001b[43m(\u001b[49m\u001b[43mfileName\u001b[49m\u001b[43m)\u001b[49m\n\u001b[0;32m     92\u001b[0m     \u001b[38;5;28;01mreturn\u001b[39;00m \u001b[38;5;28mself\u001b[39m\u001b[38;5;241m.\u001b[39mdata\n",
      "File \u001b[1;32m~\\anaconda3\\envs\\pg\\Lib\\site-packages\\pygimli\\physics\\ert\\importData.py:26\u001b[0m, in \u001b[0;36mload\u001b[1;34m(fileName, verbose, **kwargs)\u001b[0m\n\u001b[0;32m      7\u001b[0m \u001b[38;5;28;01mdef\u001b[39;00m \u001b[38;5;21mload\u001b[39m(fileName, verbose\u001b[38;5;241m=\u001b[39m\u001b[38;5;28;01mFalse\u001b[39;00m, \u001b[38;5;241m*\u001b[39m\u001b[38;5;241m*\u001b[39mkwargs):\n\u001b[0;32m      8\u001b[0m \u001b[38;5;250m    \u001b[39m\u001b[38;5;124;03m\"\"\"Shortcut to load ERT data.\u001b[39;00m\n\u001b[0;32m      9\u001b[0m \n\u001b[0;32m     10\u001b[0m \u001b[38;5;124;03m    Import Data and try to assume the file format.\u001b[39;00m\n\u001b[1;32m   (...)\u001b[0m\n\u001b[0;32m     24\u001b[0m \n\u001b[0;32m     25\u001b[0m \u001b[38;5;124;03m    \"\"\"\u001b[39;00m\n\u001b[1;32m---> 26\u001b[0m     data \u001b[38;5;241m=\u001b[39m \u001b[43mpg\u001b[49m\u001b[38;5;241;43m.\u001b[39;49m\u001b[43mload\u001b[49m\u001b[43m(\u001b[49m\u001b[43mfileName\u001b[49m\u001b[43m)\u001b[49m\n\u001b[0;32m     27\u001b[0m     \u001b[38;5;28;01mif\u001b[39;00m \u001b[38;5;28misinstance\u001b[39m(data, pg\u001b[38;5;241m.\u001b[39mDataContainerERT):\n\u001b[0;32m     28\u001b[0m         \u001b[38;5;28;01mreturn\u001b[39;00m data\n",
      "File \u001b[1;32m~\\anaconda3\\envs\\pg\\Lib\\site-packages\\pygimli\\core\\load.py:166\u001b[0m, in \u001b[0;36mload\u001b[1;34m(fname, verbose, testAll, realName)\u001b[0m\n\u001b[0;32m    163\u001b[0m     \u001b[38;5;28;01mreturn\u001b[39;00m getExampleData(fname)\n\u001b[0;32m    165\u001b[0m \u001b[38;5;28;01mif\u001b[39;00m \u001b[38;5;129;01mnot\u001b[39;00m os\u001b[38;5;241m.\u001b[39mpath\u001b[38;5;241m.\u001b[39mexists(fname):\n\u001b[1;32m--> 166\u001b[0m     \u001b[38;5;28;01mraise\u001b[39;00m \u001b[38;5;167;01mException\u001b[39;00m(\u001b[38;5;124m\"\u001b[39m\u001b[38;5;124mFile or directory named \u001b[39m\u001b[38;5;132;01m%s\u001b[39;00m\u001b[38;5;124m does not exist.\u001b[39m\u001b[38;5;124m\"\u001b[39m \u001b[38;5;241m%\u001b[39m (fname))\n\u001b[0;32m    168\u001b[0m \u001b[38;5;66;03m# recursive function call if fname is a folder of files\u001b[39;00m\n\u001b[0;32m    169\u001b[0m \u001b[38;5;28;01mif\u001b[39;00m os\u001b[38;5;241m.\u001b[39mpath\u001b[38;5;241m.\u001b[39misdir(fname):\n",
      "\u001b[1;31mException\u001b[0m: File or directory named results/workflow_example\\synthetic_data.dat does not exist."
     ]
    }
   ],
   "source": [
    "mgr = ert.ERTManager(os.path.join(output_dir, \"synthetic_data.dat\"))\n",
    "inv = mgr.invert(lam=10, verbose=True,quality=34)"
   ]
  },
  {
   "cell_type": "code",
   "execution_count": 36,
   "metadata": {
    "collapsed": false,
    "execution": {
     "iopub.execute_input": "2025-05-22T02:39:41.788555Z",
     "iopub.status.busy": "2025-05-22T02:39:41.788555Z",
     "iopub.status.idle": "2025-05-22T02:39:42.103751Z",
     "shell.execute_reply": "2025-05-22T02:39:42.103232Z"
    }
   },
   "outputs": [
    {
     "ename": "NameError",
     "evalue": "name 'mesh' is not defined",
     "output_type": "error",
     "traceback": [
      "\u001b[1;31m---------------------------------------------------------------------------\u001b[0m",
      "\u001b[1;31mNameError\u001b[0m                                 Traceback (most recent call last)",
      "Cell \u001b[1;32mIn[36], line 5\u001b[0m\n\u001b[0;32m      3\u001b[0m \u001b[38;5;66;03m# True resistivity model\u001b[39;00m\n\u001b[0;32m      4\u001b[0m ax1 \u001b[38;5;241m=\u001b[39m axes[\u001b[38;5;241m0\u001b[39m]\n\u001b[1;32m----> 5\u001b[0m cbar1 \u001b[38;5;241m=\u001b[39m pg\u001b[38;5;241m.\u001b[39mshow(\u001b[43mmesh\u001b[49m, res_models, ax\u001b[38;5;241m=\u001b[39max1, cMap\u001b[38;5;241m=\u001b[39m\u001b[38;5;124m'\u001b[39m\u001b[38;5;124mjet\u001b[39m\u001b[38;5;124m'\u001b[39m, logScale\u001b[38;5;241m=\u001b[39m\u001b[38;5;28;01mFalse\u001b[39;00m, \n\u001b[0;32m      6\u001b[0m               cMin\u001b[38;5;241m=\u001b[39m\u001b[38;5;241m100\u001b[39m, cMax\u001b[38;5;241m=\u001b[39m\u001b[38;5;241m3000\u001b[39m, label\u001b[38;5;241m=\u001b[39m\u001b[38;5;124m'\u001b[39m\u001b[38;5;124mResistivity [Ohm-m]\u001b[39m\u001b[38;5;124m'\u001b[39m)\n\u001b[0;32m      7\u001b[0m ax1\u001b[38;5;241m.\u001b[39mset_title(\u001b[38;5;124m\"\u001b[39m\u001b[38;5;124mTrue Resistivity Model\u001b[39m\u001b[38;5;124m\"\u001b[39m)\n\u001b[0;32m      9\u001b[0m \u001b[38;5;66;03m# Inverted model\u001b[39;00m\n",
      "\u001b[1;31mNameError\u001b[0m: name 'mesh' is not defined"
     ]
    },
    {
     "data": {
      "image/png": "[encoded data removed]",
      "text/plain": [
       "<Figure size 1500x1800 with 3 Axes>"
      ]
     },
     "metadata": {},
     "output_type": "display_data"
    }
   ],
   "source": [
    "fig, axes = plt.subplots(1, 3, figsize=(10, 12))\n",
    "\n",
    "# True resistivity model\n",
    "ax1 = axes[0]\n",
    "cbar1 = pg.show(mesh, res_models, ax=ax1, cMap='jet', logScale=False, \n",
    "              cMin=100, cMax=3000, label='Resistivity [Ohm-m]')\n",
    "ax1.set_title(\"True Resistivity Model\")\n",
    "\n",
    "# Inverted model\n",
    "ax2 = axes[1]\n",
    "cbar2 = pg.show(inversion_result.mesh, inversion_result.final_model, ax=ax2, cMap='jet', logScale=False, \n",
    "              cMin=100, cMax=3000, label='Resistivity [Ohm-m]',coverage=inversion_result.coverage>-1)\n",
    "ax2.set_title(\"Inverted Resistivity Model (Our Code)\")\n",
    "\n",
    "ax3 = axes[2]\n",
    "cbar2 = pg.show(mgr.paraDomain, mgr.paraModel(), ax=ax3, cMap='jet', logScale=False, \n",
    "              cMin=100, cMax=3000, label='Resistivity [Ohm-m]',coverage=mgr.coverage()>-1)\n",
    "ax3.set_title(\"Inverted Resistivity Model (Pygimli)\")\n",
    "# Adjust layout\n",
    "plt.tight_layout()\n",
    "\n",
    "\n",
    "\n",
    "# The inversion results are almost same from this code and Pygimli default inversion.\n",
    "# the difference is that the chi2 value for stop inversion is not the same, we chose 1.5 while Pygimli is 1.0"
   ]
  },
  {
   "cell_type": "markdown",
   "metadata": {},
   "source": [
    "Step 12: Run SRT inversion on synthetic data\n",
    "\n"
   ]
  },
  {
   "cell_type": "code",
   "execution_count": 37,
   "metadata": {
    "collapsed": false,
    "execution": {
     "iopub.execute_input": "2025-05-22T02:39:42.106783Z",
     "iopub.status.busy": "2025-05-22T02:39:42.105775Z",
     "iopub.status.idle": "2025-05-22T02:39:42.109821Z",
     "shell.execute_reply": "2025-05-22T02:39:42.109821Z"
    }
   },
   "outputs": [
    {
     "name": "stdout",
     "output_type": "stream",
     "text": [
      "Step 12: Running SRT inversion...\n"
     ]
    }
   ],
   "source": [
    "print(\"Step 12: Running SRT inversion...\")"
   ]
  }
 ],
 "metadata": {
  "kernelspec": {
   "display_name": "Python 3",
   "language": "python",
   "name": "python3"
  },
  "language_info": {
   "codemirror_mode": {
    "name": "ipython",
    "version": 3
   },
   "file_extension": ".py",
   "mimetype": "text/x-python",
   "name": "python",
   "nbconvert_exporter": "python",
   "pygments_lexer": "ipython3",
   "version": "3.11.8"
  }
 },
 "nbformat": 4,
 "nbformat_minor": 0
}
