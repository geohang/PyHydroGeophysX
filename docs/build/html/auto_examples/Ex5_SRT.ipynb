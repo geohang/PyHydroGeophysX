{
 "cells": [
  {
   "cell_type": "markdown",
   "metadata": {},
   "source": [
    "\n",
    "# Seismic Refraction Tomography (SRT) Forward Modeling\n",
    "\n",
    "This example demonstrates seismic refraction tomography forward modeling\n",
    "for watershed structure characterization using PyHydroGeophysX.\n",
    "\n",
    "The workflow includes:\n",
    "1. Converting water content to seismic P-wave velocity using rock physics models\n",
    "2. Creating seismic survey geometry along topographic profiles\n",
    "3. Forward modeling to generate synthetic travel time data\n",
    "4. Seismic tomography inversion to recover velocity structure\n",
    "5. Visualization of velocity models and first-arrival picks\n",
    "\n",
    "SRT is valuable for determining subsurface structure and bedrock interface\n",
    "geometry, which provides important constraints for hydrogeophysical modeling\n",
    "and interpretation of ERT data.\n"
   ]
  },
  {
   "cell_type": "code",
   "execution_count": 1,
   "metadata": {
    "collapsed": false,
    "execution": {
     "iopub.execute_input": "2025-05-22T02:39:56.122909Z",
     "iopub.status.busy": "2025-05-22T02:39:56.122402Z",
     "iopub.status.idle": "2025-05-22T02:39:58.555491Z",
     "shell.execute_reply": "2025-05-22T02:39:58.554959Z"
    }
   },
   "outputs": [],
   "source": [
    "import os\n",
    "import sys\n",
    "import numpy as np\n",
    "import matplotlib.pyplot as plt\n",
    "import pygimli as pg\n",
    "from pygimli.physics import ert\n",
    "from pygimli.physics import TravelTimeManager\n",
    "import pygimli.physics.traveltime as tt\n",
    "from mpl_toolkits.axes_grid1 import make_axes_locatable\n",
    "import pygimli.meshtools as mt\n",
    "\n",
    "# Setup package path for development\n",
    "try:\n",
    "    # For regular Python scripts\n",
    "    current_dir = os.path.dirname(os.path.abspath(__file__))\n",
    "except NameError:\n",
    "    # For Jupyter notebooks\n",
    "    current_dir = os.getcwd()\n",
    "\n",
    "# Add the parent directory to Python path\n",
    "parent_dir = os.path.dirname(current_dir)\n",
    "if parent_dir not in sys.path:\n",
    "    sys.path.append(parent_dir)\n",
    "\n",
    "# Import PyHydroGeophysX modules\n",
    "from PyHydroGeophysX.model_output.modflow_output import MODFLOWWaterContent\n",
    "from PyHydroGeophysX.core.interpolation import ProfileInterpolator, create_surface_lines\n",
    "from PyHydroGeophysX.core.mesh_utils import MeshCreator\n",
    "from PyHydroGeophysX.petrophysics.velocity_models import HertzMindlinModel, DEMModel"
   ]
  },
  {
   "cell_type": "code",
   "execution_count": 2,
   "metadata": {
    "collapsed": false,
    "execution": {
     "iopub.execute_input": "2025-05-22T02:39:58.559587Z",
     "iopub.status.busy": "2025-05-22T02:39:58.559079Z",
     "iopub.status.idle": "2025-05-22T02:39:58.565405Z",
     "shell.execute_reply": "2025-05-22T02:39:58.564896Z"
    }
   },
   "outputs": [],
   "source": [
    "output_dir = \"results/seismic_example\"\n",
    "os.makedirs(output_dir, exist_ok=True)"
   ]
  },
  {
   "cell_type": "code",
   "execution_count": 3,
   "metadata": {
    "collapsed": false,
    "execution": {
     "iopub.execute_input": "2025-05-22T02:39:58.567933Z",
     "iopub.status.busy": "2025-05-22T02:39:58.567933Z",
     "iopub.status.idle": "2025-05-22T02:39:59.573539Z",
     "shell.execute_reply": "2025-05-22T02:39:59.572510Z"
    }
   },
   "outputs": [
    {
     "name": "stdout",
     "output_type": "stream",
     "text": [
      "Step 1: Follow the workflow to create the mesh and model...\n"
     ]
    },
    {
     "ename": "FileNotFoundError",
     "evalue": "data/id.txt not found.",
     "output_type": "error",
     "traceback": [
      "\u001b[1;31m---------------------------------------------------------------------------\u001b[0m",
      "\u001b[1;31mFileNotFoundError\u001b[0m                         Traceback (most recent call last)",
      "Cell \u001b[1;32mIn[3], line 9\u001b[0m\n\u001b[0;32m      5\u001b[0m modflow_dir \u001b[38;5;241m=\u001b[39m os\u001b[38;5;241m.\u001b[39mpath\u001b[38;5;241m.\u001b[39mjoin(data_dir, \u001b[38;5;124m\"\u001b[39m\u001b[38;5;124mmodflow\u001b[39m\u001b[38;5;124m\"\u001b[39m)\n\u001b[0;32m      7\u001b[0m \u001b[38;5;66;03m# Load domain information from files\u001b[39;00m\n\u001b[0;32m      8\u001b[0m \u001b[38;5;66;03m# (Replace with your actual file paths)\u001b[39;00m\n\u001b[1;32m----> 9\u001b[0m idomain \u001b[38;5;241m=\u001b[39m \u001b[43mnp\u001b[49m\u001b[38;5;241;43m.\u001b[39;49m\u001b[43mloadtxt\u001b[49m\u001b[43m(\u001b[49m\u001b[43mos\u001b[49m\u001b[38;5;241;43m.\u001b[39;49m\u001b[43mpath\u001b[49m\u001b[38;5;241;43m.\u001b[39;49m\u001b[43mjoin\u001b[49m\u001b[43m(\u001b[49m\u001b[43mdata_dir\u001b[49m\u001b[43m,\u001b[49m\u001b[43m \u001b[49m\u001b[38;5;124;43m\"\u001b[39;49m\u001b[38;5;124;43mid.txt\u001b[39;49m\u001b[38;5;124;43m\"\u001b[39;49m\u001b[43m)\u001b[49m\u001b[43m)\u001b[49m\n\u001b[0;32m     10\u001b[0m top \u001b[38;5;241m=\u001b[39m np\u001b[38;5;241m.\u001b[39mloadtxt(os\u001b[38;5;241m.\u001b[39mpath\u001b[38;5;241m.\u001b[39mjoin(data_dir, \u001b[38;5;124m\"\u001b[39m\u001b[38;5;124mtop.txt\u001b[39m\u001b[38;5;124m\"\u001b[39m))\n\u001b[0;32m     11\u001b[0m porosity \u001b[38;5;241m=\u001b[39m np\u001b[38;5;241m.\u001b[39mload(os\u001b[38;5;241m.\u001b[39mpath\u001b[38;5;241m.\u001b[39mjoin(data_dir, \u001b[38;5;124m\"\u001b[39m\u001b[38;5;124mPorosity.npy\u001b[39m\u001b[38;5;124m\"\u001b[39m))\n",
      "File \u001b[1;32m~\\anaconda3\\envs\\pg\\Lib\\site-packages\\numpy\\lib\\npyio.py:1373\u001b[0m, in \u001b[0;36mloadtxt\u001b[1;34m(fname, dtype, comments, delimiter, converters, skiprows, usecols, unpack, ndmin, encoding, max_rows, quotechar, like)\u001b[0m\n\u001b[0;32m   1370\u001b[0m \u001b[38;5;28;01mif\u001b[39;00m \u001b[38;5;28misinstance\u001b[39m(delimiter, \u001b[38;5;28mbytes\u001b[39m):\n\u001b[0;32m   1371\u001b[0m     delimiter \u001b[38;5;241m=\u001b[39m delimiter\u001b[38;5;241m.\u001b[39mdecode(\u001b[38;5;124m'\u001b[39m\u001b[38;5;124mlatin1\u001b[39m\u001b[38;5;124m'\u001b[39m)\n\u001b[1;32m-> 1373\u001b[0m arr \u001b[38;5;241m=\u001b[39m \u001b[43m_read\u001b[49m\u001b[43m(\u001b[49m\u001b[43mfname\u001b[49m\u001b[43m,\u001b[49m\u001b[43m \u001b[49m\u001b[43mdtype\u001b[49m\u001b[38;5;241;43m=\u001b[39;49m\u001b[43mdtype\u001b[49m\u001b[43m,\u001b[49m\u001b[43m \u001b[49m\u001b[43mcomment\u001b[49m\u001b[38;5;241;43m=\u001b[39;49m\u001b[43mcomment\u001b[49m\u001b[43m,\u001b[49m\u001b[43m \u001b[49m\u001b[43mdelimiter\u001b[49m\u001b[38;5;241;43m=\u001b[39;49m\u001b[43mdelimiter\u001b[49m\u001b[43m,\u001b[49m\n\u001b[0;32m   1374\u001b[0m \u001b[43m            \u001b[49m\u001b[43mconverters\u001b[49m\u001b[38;5;241;43m=\u001b[39;49m\u001b[43mconverters\u001b[49m\u001b[43m,\u001b[49m\u001b[43m \u001b[49m\u001b[43mskiplines\u001b[49m\u001b[38;5;241;43m=\u001b[39;49m\u001b[43mskiprows\u001b[49m\u001b[43m,\u001b[49m\u001b[43m \u001b[49m\u001b[43musecols\u001b[49m\u001b[38;5;241;43m=\u001b[39;49m\u001b[43musecols\u001b[49m\u001b[43m,\u001b[49m\n\u001b[0;32m   1375\u001b[0m \u001b[43m            \u001b[49m\u001b[43munpack\u001b[49m\u001b[38;5;241;43m=\u001b[39;49m\u001b[43munpack\u001b[49m\u001b[43m,\u001b[49m\u001b[43m \u001b[49m\u001b[43mndmin\u001b[49m\u001b[38;5;241;43m=\u001b[39;49m\u001b[43mndmin\u001b[49m\u001b[43m,\u001b[49m\u001b[43m \u001b[49m\u001b[43mencoding\u001b[49m\u001b[38;5;241;43m=\u001b[39;49m\u001b[43mencoding\u001b[49m\u001b[43m,\u001b[49m\n\u001b[0;32m   1376\u001b[0m \u001b[43m            \u001b[49m\u001b[43mmax_rows\u001b[49m\u001b[38;5;241;43m=\u001b[39;49m\u001b[43mmax_rows\u001b[49m\u001b[43m,\u001b[49m\u001b[43m \u001b[49m\u001b[43mquote\u001b[49m\u001b[38;5;241;43m=\u001b[39;49m\u001b[43mquotechar\u001b[49m\u001b[43m)\u001b[49m\n\u001b[0;32m   1378\u001b[0m \u001b[38;5;28;01mreturn\u001b[39;00m arr\n",
      "File \u001b[1;32m~\\anaconda3\\envs\\pg\\Lib\\site-packages\\numpy\\lib\\npyio.py:992\u001b[0m, in \u001b[0;36m_read\u001b[1;34m(fname, delimiter, comment, quote, imaginary_unit, usecols, skiplines, max_rows, converters, ndmin, unpack, dtype, encoding)\u001b[0m\n\u001b[0;32m    990\u001b[0m     fname \u001b[38;5;241m=\u001b[39m os\u001b[38;5;241m.\u001b[39mfspath(fname)\n\u001b[0;32m    991\u001b[0m \u001b[38;5;28;01mif\u001b[39;00m \u001b[38;5;28misinstance\u001b[39m(fname, \u001b[38;5;28mstr\u001b[39m):\n\u001b[1;32m--> 992\u001b[0m     fh \u001b[38;5;241m=\u001b[39m \u001b[43mnp\u001b[49m\u001b[38;5;241;43m.\u001b[39;49m\u001b[43mlib\u001b[49m\u001b[38;5;241;43m.\u001b[39;49m\u001b[43m_datasource\u001b[49m\u001b[38;5;241;43m.\u001b[39;49m\u001b[43mopen\u001b[49m\u001b[43m(\u001b[49m\u001b[43mfname\u001b[49m\u001b[43m,\u001b[49m\u001b[43m \u001b[49m\u001b[38;5;124;43m'\u001b[39;49m\u001b[38;5;124;43mrt\u001b[39;49m\u001b[38;5;124;43m'\u001b[39;49m\u001b[43m,\u001b[49m\u001b[43m \u001b[49m\u001b[43mencoding\u001b[49m\u001b[38;5;241;43m=\u001b[39;49m\u001b[43mencoding\u001b[49m\u001b[43m)\u001b[49m\n\u001b[0;32m    993\u001b[0m     \u001b[38;5;28;01mif\u001b[39;00m encoding \u001b[38;5;129;01mis\u001b[39;00m \u001b[38;5;28;01mNone\u001b[39;00m:\n\u001b[0;32m    994\u001b[0m         encoding \u001b[38;5;241m=\u001b[39m \u001b[38;5;28mgetattr\u001b[39m(fh, \u001b[38;5;124m'\u001b[39m\u001b[38;5;124mencoding\u001b[39m\u001b[38;5;124m'\u001b[39m, \u001b[38;5;124m'\u001b[39m\u001b[38;5;124mlatin1\u001b[39m\u001b[38;5;124m'\u001b[39m)\n",
      "File \u001b[1;32m~\\anaconda3\\envs\\pg\\Lib\\site-packages\\numpy\\lib\\_datasource.py:193\u001b[0m, in \u001b[0;36mopen\u001b[1;34m(path, mode, destpath, encoding, newline)\u001b[0m\n\u001b[0;32m    156\u001b[0m \u001b[38;5;250m\u001b[39m\u001b[38;5;124;03m\"\"\"\u001b[39;00m\n\u001b[0;32m    157\u001b[0m \u001b[38;5;124;03mOpen `path` with `mode` and return the file object.\u001b[39;00m\n\u001b[0;32m    158\u001b[0m \n\u001b[1;32m   (...)\u001b[0m\n\u001b[0;32m    189\u001b[0m \n\u001b[0;32m    190\u001b[0m \u001b[38;5;124;03m\"\"\"\u001b[39;00m\n\u001b[0;32m    192\u001b[0m ds \u001b[38;5;241m=\u001b[39m DataSource(destpath)\n\u001b[1;32m--> 193\u001b[0m \u001b[38;5;28;01mreturn\u001b[39;00m \u001b[43mds\u001b[49m\u001b[38;5;241;43m.\u001b[39;49m\u001b[43mopen\u001b[49m\u001b[43m(\u001b[49m\u001b[43mpath\u001b[49m\u001b[43m,\u001b[49m\u001b[43m \u001b[49m\u001b[43mmode\u001b[49m\u001b[43m,\u001b[49m\u001b[43m \u001b[49m\u001b[43mencoding\u001b[49m\u001b[38;5;241;43m=\u001b[39;49m\u001b[43mencoding\u001b[49m\u001b[43m,\u001b[49m\u001b[43m \u001b[49m\u001b[43mnewline\u001b[49m\u001b[38;5;241;43m=\u001b[39;49m\u001b[43mnewline\u001b[49m\u001b[43m)\u001b[49m\n",
      "File \u001b[1;32m~\\anaconda3\\envs\\pg\\Lib\\site-packages\\numpy\\lib\\_datasource.py:533\u001b[0m, in \u001b[0;36mDataSource.open\u001b[1;34m(self, path, mode, encoding, newline)\u001b[0m\n\u001b[0;32m    530\u001b[0m     \u001b[38;5;28;01mreturn\u001b[39;00m _file_openers[ext](found, mode\u001b[38;5;241m=\u001b[39mmode,\n\u001b[0;32m    531\u001b[0m                               encoding\u001b[38;5;241m=\u001b[39mencoding, newline\u001b[38;5;241m=\u001b[39mnewline)\n\u001b[0;32m    532\u001b[0m \u001b[38;5;28;01melse\u001b[39;00m:\n\u001b[1;32m--> 533\u001b[0m     \u001b[38;5;28;01mraise\u001b[39;00m \u001b[38;5;167;01mFileNotFoundError\u001b[39;00m(\u001b[38;5;124mf\u001b[39m\u001b[38;5;124m\"\u001b[39m\u001b[38;5;132;01m{\u001b[39;00mpath\u001b[38;5;132;01m}\u001b[39;00m\u001b[38;5;124m not found.\u001b[39m\u001b[38;5;124m\"\u001b[39m)\n",
      "\u001b[1;31mFileNotFoundError\u001b[0m: data/id.txt not found."
     ]
    }
   ],
   "source": [
    "print(\"Step 1: Follow the workflow to create the mesh and model...\")\n",
    "\n",
    "# These would be your actual data files\n",
    "data_dir = \"data/\"\n",
    "modflow_dir = os.path.join(data_dir, \"modflow\")\n",
    "\n",
    "# Load domain information from files\n",
    "# (Replace with your actual file paths)\n",
    "idomain = np.loadtxt(os.path.join(data_dir, \"id.txt\"))\n",
    "top = np.loadtxt(os.path.join(data_dir, \"top.txt\"))\n",
    "porosity = np.load(os.path.join(data_dir, \"Porosity.npy\"))\n",
    "\n",
    "Water_Content = np.load(os.path.join(data_dir, \"Watercontent.npy\"))\n",
    "\n",
    "water_content = Water_Content[50]\n",
    "print(water_content.shape)\n",
    "\n",
    "\n",
    "# Step 3: Set up profile for 2D section\n",
    "\n",
    "# Define profile endpoints\n",
    "point1 = [115, 70]  # [col, row]\n",
    "point2 = [95, 180]  # [col, row]\n",
    "\n",
    "# Initialize profile interpolator\n",
    "interpolator = ProfileInterpolator(\n",
    "    point1=point1,\n",
    "    point2=point2,\n",
    "    surface_data=top,\n",
    "    origin_x=569156.2983333333,\n",
    "    origin_y=4842444.17,\n",
    "    pixel_width=1.0,\n",
    "    pixel_height=-1.0,\n",
    "    num_points = 400\n",
    ")\n",
    "\n",
    "\n",
    "\n",
    "# Interpolate water content to profile\n",
    "water_content_profile = interpolator.interpolate_3d_data(water_content)\n",
    "\n",
    "# Interpolate porosity to profile\n",
    "porosity_profile = interpolator.interpolate_3d_data(porosity)"
   ]
  },
  {
   "cell_type": "code",
   "execution_count": 4,
   "metadata": {
    "collapsed": false,
    "execution": {
     "iopub.execute_input": "2025-05-22T02:39:59.576775Z",
     "iopub.status.busy": "2025-05-22T02:39:59.576264Z",
     "iopub.status.idle": "2025-05-22T02:39:59.610616Z",
     "shell.execute_reply": "2025-05-22T02:39:59.610100Z"
    }
   },
   "outputs": [
    {
     "name": "stdout",
     "output_type": "stream",
     "text": [
      "Step 2: Creating geometry for the seismic refraction survey...\n"
     ]
    },
    {
     "ename": "FileNotFoundError",
     "evalue": "[Errno 2] No such file or directory: 'data/bot.npy'",
     "output_type": "error",
     "traceback": [
      "\u001b[1;31m---------------------------------------------------------------------------\u001b[0m",
      "\u001b[1;31mFileNotFoundError\u001b[0m                         Traceback (most recent call last)",
      "Cell \u001b[1;32mIn[4], line 4\u001b[0m\n\u001b[0;32m      1\u001b[0m \u001b[38;5;28mprint\u001b[39m(\u001b[38;5;124m\"\u001b[39m\u001b[38;5;124mStep 2: Creating geometry for the seismic refraction survey...\u001b[39m\u001b[38;5;124m\"\u001b[39m)\n\u001b[0;32m      3\u001b[0m \u001b[38;5;66;03m# Load structure layers\u001b[39;00m\n\u001b[1;32m----> 4\u001b[0m bot \u001b[38;5;241m=\u001b[39m \u001b[43mnp\u001b[49m\u001b[38;5;241;43m.\u001b[39;49m\u001b[43mload\u001b[49m\u001b[43m(\u001b[49m\u001b[43mos\u001b[49m\u001b[38;5;241;43m.\u001b[39;49m\u001b[43mpath\u001b[49m\u001b[38;5;241;43m.\u001b[39;49m\u001b[43mjoin\u001b[49m\u001b[43m(\u001b[49m\u001b[43mdata_dir\u001b[49m\u001b[43m,\u001b[49m\u001b[43m \u001b[49m\u001b[38;5;124;43m\"\u001b[39;49m\u001b[38;5;124;43mbot.npy\u001b[39;49m\u001b[38;5;124;43m\"\u001b[39;49m\u001b[43m)\u001b[49m\u001b[43m)\u001b[49m\n\u001b[0;32m      6\u001b[0m \u001b[38;5;66;03m# Process layers to get structure\u001b[39;00m\n\u001b[0;32m      7\u001b[0m structure \u001b[38;5;241m=\u001b[39m interpolator\u001b[38;5;241m.\u001b[39minterpolate_layer_data([top] \u001b[38;5;241m+\u001b[39m bot\u001b[38;5;241m.\u001b[39mtolist())\n",
      "File \u001b[1;32m~\\anaconda3\\envs\\pg\\Lib\\site-packages\\numpy\\lib\\npyio.py:427\u001b[0m, in \u001b[0;36mload\u001b[1;34m(file, mmap_mode, allow_pickle, fix_imports, encoding, max_header_size)\u001b[0m\n\u001b[0;32m    425\u001b[0m     own_fid \u001b[38;5;241m=\u001b[39m \u001b[38;5;28;01mFalse\u001b[39;00m\n\u001b[0;32m    426\u001b[0m \u001b[38;5;28;01melse\u001b[39;00m:\n\u001b[1;32m--> 427\u001b[0m     fid \u001b[38;5;241m=\u001b[39m stack\u001b[38;5;241m.\u001b[39menter_context(\u001b[38;5;28;43mopen\u001b[39;49m\u001b[43m(\u001b[49m\u001b[43mos_fspath\u001b[49m\u001b[43m(\u001b[49m\u001b[43mfile\u001b[49m\u001b[43m)\u001b[49m\u001b[43m,\u001b[49m\u001b[43m \u001b[49m\u001b[38;5;124;43m\"\u001b[39;49m\u001b[38;5;124;43mrb\u001b[39;49m\u001b[38;5;124;43m\"\u001b[39;49m\u001b[43m)\u001b[49m)\n\u001b[0;32m    428\u001b[0m     own_fid \u001b[38;5;241m=\u001b[39m \u001b[38;5;28;01mTrue\u001b[39;00m\n\u001b[0;32m    430\u001b[0m \u001b[38;5;66;03m# Code to distinguish from NumPy binary files and pickles.\u001b[39;00m\n",
      "\u001b[1;31mFileNotFoundError\u001b[0m: [Errno 2] No such file or directory: 'data/bot.npy'"
     ]
    }
   ],
   "source": [
    "print(\"Step 2: Creating geometry for the seismic refraction survey...\")\n",
    "\n",
    "# Load structure layers\n",
    "bot = np.load(os.path.join(data_dir, \"bot.npy\"))\n",
    "\n",
    "# Process layers to get structure\n",
    "structure = interpolator.interpolate_layer_data([top] + bot.tolist())\n",
    "\n",
    "# Create surface lines\n",
    "# Indicate the layer for the structure regolith, fractured bedrock and fresh bedrock\n",
    "top_idx=int(0)\n",
    "mid_idx=int(4)\n",
    "bot_idx=int(12)\n",
    "surface, line1, line2 = create_surface_lines(\n",
    "    L_profile=interpolator.L_profile,\n",
    "    structure=structure,\n",
    "    top_idx=0,\n",
    "    mid_idx=4,\n",
    "    bot_idx=12\n",
    ")\n",
    "\n",
    "# Create mesh\n",
    "mesh_creator = MeshCreator(quality=32)\n",
    "mesh, geom = mesh_creator.create_from_layers(\n",
    "    surface=surface,\n",
    "    layers=[line1, line2],\n",
    "    bottom_depth= np.min(line2[:,1])-10 #50.0\n",
    ")"
   ]
  },
  {
   "cell_type": "code",
   "execution_count": 5,
   "metadata": {
    "collapsed": false,
    "execution": {
     "iopub.execute_input": "2025-05-22T02:39:59.613642Z",
     "iopub.status.busy": "2025-05-22T02:39:59.612634Z",
     "iopub.status.idle": "2025-05-22T02:39:59.628931Z",
     "shell.execute_reply": "2025-05-22T02:39:59.628411Z"
    }
   },
   "outputs": [
    {
     "ename": "NameError",
     "evalue": "name 'geom' is not defined",
     "output_type": "error",
     "traceback": [
      "\u001b[1;31m---------------------------------------------------------------------------\u001b[0m",
      "\u001b[1;31mNameError\u001b[0m                                 Traceback (most recent call last)",
      "Cell \u001b[1;32mIn[5], line 1\u001b[0m\n\u001b[1;32m----> 1\u001b[0m pg\u001b[38;5;241m.\u001b[39mshow(\u001b[43mgeom\u001b[49m)\n",
      "\u001b[1;31mNameError\u001b[0m: name 'geom' is not defined"
     ]
    }
   ],
   "source": [
    "pg.show(geom)"
   ]
  },
  {
   "cell_type": "code",
   "execution_count": 6,
   "metadata": {
    "collapsed": false,
    "execution": {
     "iopub.execute_input": "2025-05-22T02:39:59.632692Z",
     "iopub.status.busy": "2025-05-22T02:39:59.632692Z",
     "iopub.status.idle": "2025-05-22T02:39:59.652734Z",
     "shell.execute_reply": "2025-05-22T02:39:59.652217Z"
    }
   },
   "outputs": [
    {
     "ename": "NameError",
     "evalue": "name 'surface' is not defined",
     "output_type": "error",
     "traceback": [
      "\u001b[1;31m---------------------------------------------------------------------------\u001b[0m",
      "\u001b[1;31mNameError\u001b[0m                                 Traceback (most recent call last)",
      "Cell \u001b[1;32mIn[6], line 13\u001b[0m\n\u001b[0;32m      9\u001b[0m pos \u001b[38;5;241m=\u001b[39m np\u001b[38;5;241m.\u001b[39mzeros((numberGeophones,\u001b[38;5;241m2\u001b[39m))\n\u001b[0;32m     12\u001b[0m \u001b[38;5;28;01mfor\u001b[39;00m i \u001b[38;5;129;01min\u001b[39;00m \u001b[38;5;28mrange\u001b[39m(numberGeophones):\n\u001b[1;32m---> 13\u001b[0m     minusx \u001b[38;5;241m=\u001b[39m np\u001b[38;5;241m.\u001b[39mabs(\u001b[43msurface\u001b[49m[:,\u001b[38;5;241m0\u001b[39m]\u001b[38;5;241m-\u001b[39msensors[i])\n\u001b[0;32m     14\u001b[0m     index \u001b[38;5;241m=\u001b[39m np\u001b[38;5;241m.\u001b[39mwhere(minusx\u001b[38;5;241m==\u001b[39m np\u001b[38;5;241m.\u001b[39mamin(minusx))\n\u001b[0;32m     15\u001b[0m     new_x \u001b[38;5;241m=\u001b[39m surface[index,\u001b[38;5;241m0\u001b[39m]\n",
      "\u001b[1;31mNameError\u001b[0m: name 'surface' is not defined"
     ]
    }
   ],
   "source": [
    "numberGeophones = 90\n",
    "shotDistance = 5\n",
    "\n",
    "sensors = np.linspace(1,110, numberGeophones)\n",
    "\n",
    "scheme = pg.physics.traveltime.createRAData(sensors,shotDistance=shotDistance)\n",
    "\n",
    "# Adapt sensor positions to slope\n",
    "pos = np.zeros((numberGeophones,2))\n",
    "               \n",
    "\n",
    "for i in range(numberGeophones):\n",
    "    minusx = np.abs(surface[:,0]-sensors[i])\n",
    "    index = np.where(minusx== np.amin(minusx))\n",
    "    new_x = surface[index,0]\n",
    "    new_y = surface[index,1]\n",
    "    pos[i, 0] = new_x\n",
    "    pos[i, 1] = new_y\n",
    "\n",
    "\n",
    "scheme.setSensors(pos)"
   ]
  },
  {
   "cell_type": "code",
   "execution_count": 7,
   "metadata": {
    "collapsed": false,
    "execution": {
     "iopub.execute_input": "2025-05-22T02:39:59.655970Z",
     "iopub.status.busy": "2025-05-22T02:39:59.654803Z",
     "iopub.status.idle": "2025-05-22T02:39:59.663705Z",
     "shell.execute_reply": "2025-05-22T02:39:59.663705Z"
    }
   },
   "outputs": [
    {
     "data": {
      "text/plain": [
       "array([  1.        ,   2.2247191 ,   3.4494382 ,   4.6741573 ,\n",
       "         5.8988764 ,   7.12359551,   8.34831461,   9.57303371,\n",
       "        10.79775281,  12.02247191,  13.24719101,  14.47191011,\n",
       "        15.69662921,  16.92134831,  18.14606742,  19.37078652,\n",
       "        20.59550562,  21.82022472,  23.04494382,  24.26966292,\n",
       "        25.49438202,  26.71910112,  27.94382022,  29.16853933,\n",
       "        30.39325843,  31.61797753,  32.84269663,  34.06741573,\n",
       "        35.29213483,  36.51685393,  37.74157303,  38.96629213,\n",
       "        40.19101124,  41.41573034,  42.64044944,  43.86516854,\n",
       "        45.08988764,  46.31460674,  47.53932584,  48.76404494,\n",
       "        49.98876404,  51.21348315,  52.43820225,  53.66292135,\n",
       "        54.88764045,  56.11235955,  57.33707865,  58.56179775,\n",
       "        59.78651685,  61.01123596,  62.23595506,  63.46067416,\n",
       "        64.68539326,  65.91011236,  67.13483146,  68.35955056,\n",
       "        69.58426966,  70.80898876,  72.03370787,  73.25842697,\n",
       "        74.48314607,  75.70786517,  76.93258427,  78.15730337,\n",
       "        79.38202247,  80.60674157,  81.83146067,  83.05617978,\n",
       "        84.28089888,  85.50561798,  86.73033708,  87.95505618,\n",
       "        89.17977528,  90.40449438,  91.62921348,  92.85393258,\n",
       "        94.07865169,  95.30337079,  96.52808989,  97.75280899,\n",
       "        98.97752809, 100.20224719, 101.42696629, 102.65168539,\n",
       "       103.87640449, 105.1011236 , 106.3258427 , 107.5505618 ,\n",
       "       108.7752809 , 110.        ])"
      ]
     },
     "execution_count": 7,
     "metadata": {},
     "output_type": "execute_result"
    }
   ],
   "source": [
    "sensors"
   ]
  },
  {
   "cell_type": "code",
   "execution_count": 8,
   "metadata": {
    "collapsed": false,
    "execution": {
     "iopub.execute_input": "2025-05-22T02:39:59.667765Z",
     "iopub.status.busy": "2025-05-22T02:39:59.667765Z",
     "iopub.status.idle": "2025-05-22T02:39:59.681913Z",
     "shell.execute_reply": "2025-05-22T02:39:59.681913Z"
    }
   },
   "outputs": [
    {
     "ename": "NameError",
     "evalue": "name 'surface' is not defined",
     "output_type": "error",
     "traceback": [
      "\u001b[1;31m---------------------------------------------------------------------------\u001b[0m",
      "\u001b[1;31mNameError\u001b[0m                                 Traceback (most recent call last)",
      "Cell \u001b[1;32mIn[8], line 1\u001b[0m\n\u001b[1;32m----> 1\u001b[0m \u001b[43msurface\u001b[49m\n",
      "\u001b[1;31mNameError\u001b[0m: name 'surface' is not defined"
     ]
    }
   ],
   "source": [
    "surface"
   ]
  },
  {
   "cell_type": "code",
   "execution_count": 9,
   "metadata": {
    "collapsed": false,
    "execution": {
     "iopub.execute_input": "2025-05-22T02:39:59.684948Z",
     "iopub.status.busy": "2025-05-22T02:39:59.683938Z",
     "iopub.status.idle": "2025-05-22T02:39:59.820782Z",
     "shell.execute_reply": "2025-05-22T02:39:59.820261Z"
    }
   },
   "outputs": [
    {
     "ename": "NameError",
     "evalue": "name 'geom' is not defined",
     "output_type": "error",
     "traceback": [
      "\u001b[1;31m---------------------------------------------------------------------------\u001b[0m",
      "\u001b[1;31mNameError\u001b[0m                                 Traceback (most recent call last)",
      "Cell \u001b[1;32mIn[9], line 4\u001b[0m\n\u001b[0;32m      1\u001b[0m fig \u001b[38;5;241m=\u001b[39m plt\u001b[38;5;241m.\u001b[39mfigure(figsize\u001b[38;5;241m=\u001b[39m[\u001b[38;5;241m8\u001b[39m,\u001b[38;5;241m6\u001b[39m])\n\u001b[0;32m      3\u001b[0m ax \u001b[38;5;241m=\u001b[39m fig\u001b[38;5;241m.\u001b[39madd_subplot(\u001b[38;5;241m1\u001b[39m,\u001b[38;5;241m1\u001b[39m,\u001b[38;5;241m1\u001b[39m)\n\u001b[1;32m----> 4\u001b[0m pg\u001b[38;5;241m.\u001b[39mshow(\u001b[43mgeom\u001b[49m,ax \u001b[38;5;241m=\u001b[39m ax)\n\u001b[0;32m      5\u001b[0m pg\u001b[38;5;241m.\u001b[39mviewer\u001b[38;5;241m.\u001b[39mmpl\u001b[38;5;241m.\u001b[39mdrawSensors(ax, scheme\u001b[38;5;241m.\u001b[39msensors(), diam\u001b[38;5;241m=\u001b[39m\u001b[38;5;241m0.5\u001b[39m,\n\u001b[0;32m      6\u001b[0m                          facecolor\u001b[38;5;241m=\u001b[39m\u001b[38;5;124m'\u001b[39m\u001b[38;5;124mblack\u001b[39m\u001b[38;5;124m'\u001b[39m, edgecolor\u001b[38;5;241m=\u001b[39m\u001b[38;5;124m'\u001b[39m\u001b[38;5;124mblack\u001b[39m\u001b[38;5;124m'\u001b[39m)\n",
      "\u001b[1;31mNameError\u001b[0m: name 'geom' is not defined"
     ]
    },
    {
     "data": {
      "image/png": "[encoded data removed]",
      "text/plain": [
       "<Figure size 800x600 with 1 Axes>"
      ]
     },
     "metadata": {},
     "output_type": "display_data"
    }
   ],
   "source": [
    "fig = plt.figure(figsize=[8,6])\n",
    "\n",
    "ax = fig.add_subplot(1,1,1)\n",
    "pg.show(geom,ax = ax)\n",
    "pg.viewer.mpl.drawSensors(ax, scheme.sensors(), diam=0.5,\n",
    "                         facecolor='black', edgecolor='black')"
   ]
  },
  {
   "cell_type": "markdown",
   "metadata": {},
   "source": [
    "Step 6: Interpolate data to mesh\n",
    "\n"
   ]
  },
  {
   "cell_type": "code",
   "execution_count": 10,
   "metadata": {
    "collapsed": false,
    "execution": {
     "iopub.execute_input": "2025-05-22T02:39:59.824841Z",
     "iopub.status.busy": "2025-05-22T02:39:59.824841Z",
     "iopub.status.idle": "2025-05-22T02:39:59.846903Z",
     "shell.execute_reply": "2025-05-22T02:39:59.846380Z"
    }
   },
   "outputs": [
    {
     "name": "stdout",
     "output_type": "stream",
     "text": [
      "Step 6: Interpolating data to mesh...\n"
     ]
    },
    {
     "ename": "NameError",
     "evalue": "name 'porosity_profile' is not defined",
     "output_type": "error",
     "traceback": [
      "\u001b[1;31m---------------------------------------------------------------------------\u001b[0m",
      "\u001b[1;31mNameError\u001b[0m                                 Traceback (most recent call last)",
      "Cell \u001b[1;32mIn[10], line 3\u001b[0m\n\u001b[0;32m      1\u001b[0m \u001b[38;5;28mprint\u001b[39m(\u001b[38;5;124m\"\u001b[39m\u001b[38;5;124mStep 6: Interpolating data to mesh...\u001b[39m\u001b[38;5;124m\"\u001b[39m)\n\u001b[1;32m----> 3\u001b[0m ID1 \u001b[38;5;241m=\u001b[39m \u001b[43mporosity_profile\u001b[49m\u001b[38;5;241m.\u001b[39mcopy()\n\u001b[0;32m      4\u001b[0m ID1[:mid_idx] \u001b[38;5;241m=\u001b[39m \u001b[38;5;241m0\u001b[39m \u001b[38;5;66;03m#regolith\u001b[39;00m\n\u001b[0;32m      5\u001b[0m ID1[mid_idx:bot_idx] \u001b[38;5;241m=\u001b[39m \u001b[38;5;241m3\u001b[39m \u001b[38;5;66;03m# fractured bedrock\u001b[39;00m\n",
      "\u001b[1;31mNameError\u001b[0m: name 'porosity_profile' is not defined"
     ]
    }
   ],
   "source": [
    "print(\"Step 6: Interpolating data to mesh...\")\n",
    "\n",
    "ID1 = porosity_profile.copy()\n",
    "ID1[:mid_idx] = 0 #regolith\n",
    "ID1[mid_idx:bot_idx] = 3 # fractured bedrock\n",
    "ID1[bot_idx:] = 2 # fresh bedrock\n",
    "\n",
    "# Get mesh centers and markers\n",
    "mesh_centers = np.array(mesh.cellCenters())\n",
    "mesh_markers = np.array(mesh.cellMarkers())\n",
    "\n",
    "# Interpolate porosity to mesh\n",
    "porosity_mesh = interpolator.interpolate_to_mesh(\n",
    "    property_values=porosity_profile,\n",
    "    depth_values=structure,\n",
    "    mesh_x=mesh_centers[:, 0],\n",
    "    mesh_y=mesh_centers[:, 1],\n",
    "    mesh_markers=mesh_markers,\n",
    "    ID=ID1, # Use ID1 to indicate the layers for interpolation\n",
    "    layer_markers = [0,3,2],\n",
    "\n",
    ")\n",
    "\n",
    "# Interpolate water content to mesh\n",
    "wc_mesh = interpolator.interpolate_to_mesh(\n",
    "    property_values=water_content_profile,\n",
    "    depth_values=structure,\n",
    "    mesh_x=mesh_centers[:, 0],\n",
    "    mesh_y=mesh_centers[:, 1],\n",
    "    mesh_markers=mesh_markers,\n",
    "    ID=ID1, # Use ID1 to indicate the layers for interpolation\n",
    "    layer_markers = [0,3,2],\n",
    "\n",
    ")\n",
    "\n",
    "print(\"Step 7: Calculating saturation...\")\n",
    "\n",
    "# Ensure porosity is not zero to avoid division by zero\n",
    "porosity_safe = np.maximum(porosity_mesh, 0.01)\n",
    "saturation = np.clip(wc_mesh / porosity_safe, 0.0, 1.0)"
   ]
  },
  {
   "cell_type": "markdown",
   "metadata": {},
   "source": [
    "Step 9: Convert to P wave velocity using petrophysical model\n",
    "\n"
   ]
  },
  {
   "cell_type": "code",
   "execution_count": 11,
   "metadata": {
    "collapsed": false,
    "execution": {
     "iopub.execute_input": "2025-05-22T02:39:59.848927Z",
     "iopub.status.busy": "2025-05-22T02:39:59.848927Z",
     "iopub.status.idle": "2025-05-22T02:39:59.872856Z",
     "shell.execute_reply": "2025-05-22T02:39:59.872338Z"
    }
   },
   "outputs": [
    {
     "name": "stdout",
     "output_type": "stream",
     "text": [
      "Step9: Converting to P wave velocity ..\n"
     ]
    },
    {
     "ename": "NameError",
     "evalue": "name 'wc_mesh' is not defined",
     "output_type": "error",
     "traceback": [
      "\u001b[1;31m---------------------------------------------------------------------------\u001b[0m",
      "\u001b[1;31mNameError\u001b[0m                                 Traceback (most recent call last)",
      "Cell \u001b[1;32mIn[11], line 9\u001b[0m\n\u001b[0;32m      6\u001b[0m dem_model \u001b[38;5;241m=\u001b[39m DEMModel()\n\u001b[0;32m      8\u001b[0m \u001b[38;5;66;03m# Initialize velocity model\u001b[39;00m\n\u001b[1;32m----> 9\u001b[0m velocity_mesh \u001b[38;5;241m=\u001b[39m np\u001b[38;5;241m.\u001b[39mzeros_like(\u001b[43mwc_mesh\u001b[49m)\n\u001b[0;32m     14\u001b[0m top_mask \u001b[38;5;241m=\u001b[39m (mesh_markers \u001b[38;5;241m==\u001b[39m marker_labels[\u001b[38;5;241m0\u001b[39m])\n\u001b[0;32m     15\u001b[0m top_bulk_modulus \u001b[38;5;241m=\u001b[39m \u001b[38;5;241m30.0\u001b[39m  \u001b[38;5;66;03m# GPa\u001b[39;00m\n",
      "\u001b[1;31mNameError\u001b[0m: name 'wc_mesh' is not defined"
     ]
    }
   ],
   "source": [
    "print(\"Step9: Converting to P wave velocity ..\")\n",
    "marker_labels = [0, 3, 2] # top. mid, bottom layers (example values)\n",
    "\n",
    "# Initialize velocity models\n",
    "hm_model = HertzMindlinModel(critical_porosity=0.4, coordination_number=6.0)\n",
    "dem_model = DEMModel()\n",
    "\n",
    "# Initialize velocity model\n",
    "velocity_mesh = np.zeros_like(wc_mesh)\n",
    "\n",
    "\n",
    "\n",
    "\n",
    "top_mask = (mesh_markers == marker_labels[0])\n",
    "top_bulk_modulus = 30.0  # GPa\n",
    "top_shear_modulus = 20.0  # GPa\n",
    "top_mineral_density = 2650  # kg/m³\n",
    "top_depth = 1.0  # m\n",
    "\n",
    "# Get Vp values using Hertz-Mindlin model\n",
    "Vp_high, Vp_low = hm_model.calculate_velocity(\n",
    "    porosity=porosity_mesh[top_mask],\n",
    "    saturation=saturation[top_mask],\n",
    "    bulk_modulus=top_bulk_modulus,\n",
    "    shear_modulus=top_shear_modulus,\n",
    "    mineral_density=top_mineral_density,\n",
    "    depth=top_depth\n",
    ")\n",
    "\n",
    "# Use average of high and low bounds\n",
    "velocity_mesh[top_mask] = (Vp_high + Vp_low) / 2\n",
    "\n",
    "\n",
    "\n",
    "mid_mask = (mesh_markers == marker_labels[1])\n",
    "\n",
    "mid_bulk_modulus = 50.0  # GPa\n",
    "mid_shear_modulus = 35.0 # GPa\n",
    "mid_mineral_density = 2670  # kg/m³\n",
    "mid_aspect_ratio = 0.05\n",
    "\n",
    "# Get Vp values using DEM model\n",
    "_, _, Vp = dem_model.calculate_velocity(\n",
    "    porosity=porosity_mesh[mid_mask],\n",
    "    saturation=saturation[mid_mask],\n",
    "    bulk_modulus=mid_bulk_modulus,\n",
    "    shear_modulus=mid_shear_modulus,\n",
    "    mineral_density=mid_mineral_density,\n",
    "    aspect_ratio=mid_aspect_ratio\n",
    ")\n",
    "\n",
    "velocity_mesh[mid_mask] = Vp\n",
    "\n",
    "bot_mask = (mesh_markers == marker_labels[2])\n",
    "bot_bulk_modulus = 55  # GPa\n",
    "bot_shear_modulus = 50  # GPa\n",
    "bot_mineral_density = 2680  # kg/m³\n",
    "bot_aspect_ratio = 0.03\n",
    "\n",
    "# Get Vp values using DEM model\n",
    "_, _, Vp = dem_model.calculate_velocity(\n",
    "    porosity=porosity_mesh[bot_mask],\n",
    "    saturation=saturation[bot_mask],\n",
    "    bulk_modulus=bot_bulk_modulus,\n",
    "    shear_modulus=bot_shear_modulus,\n",
    "    mineral_density=bot_mineral_density,\n",
    "    aspect_ratio=bot_aspect_ratio\n",
    ")\n",
    "\n",
    "velocity_mesh[bot_mask] = Vp"
   ]
  },
  {
   "cell_type": "code",
   "execution_count": 12,
   "metadata": {
    "collapsed": false,
    "execution": {
     "iopub.execute_input": "2025-05-22T02:39:59.874911Z",
     "iopub.status.busy": "2025-05-22T02:39:59.874911Z",
     "iopub.status.idle": "2025-05-22T02:39:59.897839Z",
     "shell.execute_reply": "2025-05-22T02:39:59.897839Z"
    }
   },
   "outputs": [
    {
     "ename": "NameError",
     "evalue": "name 'velocity_mesh' is not defined",
     "output_type": "error",
     "traceback": [
      "\u001b[1;31m---------------------------------------------------------------------------\u001b[0m",
      "\u001b[1;31mNameError\u001b[0m                                 Traceback (most recent call last)",
      "Cell \u001b[1;32mIn[12], line 2\u001b[0m\n\u001b[0;32m      1\u001b[0m mgr \u001b[38;5;241m=\u001b[39m TravelTimeManager()\n\u001b[1;32m----> 2\u001b[0m datasrt \u001b[38;5;241m=\u001b[39m mgr\u001b[38;5;241m.\u001b[39msimulate(slowness\u001b[38;5;241m=\u001b[39m\u001b[38;5;241m1.0\u001b[39m \u001b[38;5;241m/\u001b[39m \u001b[43mvelocity_mesh\u001b[49m, scheme\u001b[38;5;241m=\u001b[39mscheme, mesh\u001b[38;5;241m=\u001b[39mmesh,\n\u001b[0;32m      3\u001b[0m                     noiseLevel\u001b[38;5;241m=\u001b[39m\u001b[38;5;241m0.05\u001b[39m, noiseAbs\u001b[38;5;241m=\u001b[39m\u001b[38;5;241m0.00001\u001b[39m, seed\u001b[38;5;241m=\u001b[39m\u001b[38;5;241m1334\u001b[39m\n\u001b[0;32m      4\u001b[0m                     ,verbose\u001b[38;5;241m=\u001b[39m\u001b[38;5;28;01mTrue\u001b[39;00m)\n\u001b[0;32m      5\u001b[0m datasrt\u001b[38;5;241m.\u001b[39msave(os\u001b[38;5;241m.\u001b[39mpath\u001b[38;5;241m.\u001b[39mjoin(output_dir, \u001b[38;5;124m\"\u001b[39m\u001b[38;5;124msynthetic_seismic_data_long.dat\u001b[39m\u001b[38;5;124m\"\u001b[39m))\n",
      "\u001b[1;31mNameError\u001b[0m: name 'velocity_mesh' is not defined"
     ]
    }
   ],
   "source": [
    "mgr = TravelTimeManager()\n",
    "datasrt = mgr.simulate(slowness=1.0 / velocity_mesh, scheme=scheme, mesh=mesh,\n",
    "                    noiseLevel=0.05, noiseAbs=0.00001, seed=1334\n",
    "                    ,verbose=True)\n",
    "datasrt.save(os.path.join(output_dir, \"synthetic_seismic_data_long.dat\"))"
   ]
  },
  {
   "cell_type": "code",
   "execution_count": 13,
   "metadata": {
    "collapsed": false,
    "execution": {
     "iopub.execute_input": "2025-05-22T02:39:59.899860Z",
     "iopub.status.busy": "2025-05-22T02:39:59.899860Z",
     "iopub.status.idle": "2025-05-22T02:40:00.026998Z",
     "shell.execute_reply": "2025-05-22T02:40:00.026399Z"
    }
   },
   "outputs": [
    {
     "ename": "NameError",
     "evalue": "name 'datasrt' is not defined",
     "output_type": "error",
     "traceback": [
      "\u001b[1;31m---------------------------------------------------------------------------\u001b[0m",
      "\u001b[1;31mNameError\u001b[0m                                 Traceback (most recent call last)",
      "Cell \u001b[1;32mIn[13], line 75\u001b[0m\n\u001b[0;32m     73\u001b[0m \u001b[38;5;66;03m# Usage\u001b[39;00m\n\u001b[0;32m     74\u001b[0m fig, ax \u001b[38;5;241m=\u001b[39m plt\u001b[38;5;241m.\u001b[39msubplots(figsize\u001b[38;5;241m=\u001b[39m(\u001b[38;5;241m3.5\u001b[39m, \u001b[38;5;241m2.5\u001b[39m), dpi\u001b[38;5;241m=\u001b[39m\u001b[38;5;241m300\u001b[39m) \n\u001b[1;32m---> 75\u001b[0m drawFirstPicks(ax, \u001b[43mdatasrt\u001b[49m)\n",
      "\u001b[1;31mNameError\u001b[0m: name 'datasrt' is not defined"
     ]
    },
    {
     "data": {
      "image/png": "[encoded data removed]",
      "text/plain": [
       "<Figure size 1050x750 with 1 Axes>"
      ]
     },
     "metadata": {},
     "output_type": "display_data"
    }
   ],
   "source": [
    "def drawFirstPicks(ax, data, tt=None, plotva=False, **kwargs):\n",
    "    \"\"\"Plot first arrivals as lines.\n",
    "    \n",
    "    Parameters\n",
    "    ----------\n",
    "    ax : matplotlib.axes\n",
    "        axis to draw the lines in\n",
    "    data : :gimliapi:`GIMLI::DataContainer`\n",
    "        data containing shots (\"s\"), geophones (\"g\") and traveltimes (\"t\")\n",
    "    tt : array, optional\n",
    "        traveltimes to use instead of data(\"t\")\n",
    "    plotva : bool, optional\n",
    "        plot apparent velocity instead of traveltimes\n",
    "    \n",
    "    Return\n",
    "    ------\n",
    "    ax : matplotlib.axes\n",
    "        the modified axis\n",
    "    \"\"\"\n",
    "    # Extract coordinates\n",
    "    px = pg.x(data)\n",
    "    gx = np.array([px[int(g)] for g in data(\"g\")])\n",
    "    sx = np.array([px[int(s)] for s in data(\"s\")])\n",
    "    \n",
    "    # Get traveltimes\n",
    "    if tt is None:\n",
    "        tt = np.array(data(\"t\"))\n",
    "    if plotva:\n",
    "        tt = np.absolute(gx - sx) / tt\n",
    "    \n",
    "    # Find unique source positions    \n",
    "    uns = np.unique(sx)\n",
    "    \n",
    "    # Override kwargs with clean, minimalist style\n",
    "    kwargs['color'] = 'black'\n",
    "    kwargs['linestyle'] = '--'\n",
    "    kwargs['linewidth'] = 0.9\n",
    "    kwargs['marker'] = None  # No markers on the lines\n",
    "    \n",
    "    # Plot for each source\n",
    "    for i, si in enumerate(uns):\n",
    "        ti = tt[sx == si]\n",
    "        gi = gx[sx == si]\n",
    "        ii = gi.argsort()\n",
    "        \n",
    "        # Plot line\n",
    "        ax.plot(gi[ii], ti[ii], **kwargs)\n",
    "        \n",
    "        # Add source marker as black square at top\n",
    "        ax.plot(si, 0.0, 's', color='black', markersize=4, \n",
    "                markeredgecolor='black', markeredgewidth=0.5)\n",
    "    \n",
    "    # Clean grid style\n",
    "    ax.grid(True, linestyle='-', linewidth=0.2, color='lightgray')\n",
    "    \n",
    "    # Set proper axis labels with units\n",
    "    if plotva:\n",
    "        ax.set_ylabel(\"Apparent velocity (m s$^{-1}$)\")\n",
    "    else:\n",
    "        ax.set_ylabel(\"Traveltime (s)\")\n",
    "    \n",
    "    ax.set_xlabel(\"Distance (m)\")\n",
    "    \n",
    "\n",
    "    \n",
    "\n",
    "    \n",
    "    # Invert y-axis for traveltimes\n",
    "    ax.invert_yaxis()\n",
    "\n",
    "    return ax\n",
    "\n",
    "# Usage\n",
    "fig, ax = plt.subplots(figsize=(3.5, 2.5), dpi=300) \n",
    "drawFirstPicks(ax, datasrt)"
   ]
  },
  {
   "cell_type": "code",
   "execution_count": 14,
   "metadata": {
    "collapsed": false,
    "execution": {
     "iopub.execute_input": "2025-05-22T02:40:00.029658Z",
     "iopub.status.busy": "2025-05-22T02:40:00.029658Z",
     "iopub.status.idle": "2025-05-22T02:40:00.047326Z",
     "shell.execute_reply": "2025-05-22T02:40:00.046820Z"
    }
   },
   "outputs": [
    {
     "ename": "NameError",
     "evalue": "name 'datasrt' is not defined",
     "output_type": "error",
     "traceback": [
      "\u001b[1;31m---------------------------------------------------------------------------\u001b[0m",
      "\u001b[1;31mNameError\u001b[0m                                 Traceback (most recent call last)",
      "Cell \u001b[1;32mIn[14], line 2\u001b[0m\n\u001b[0;32m      1\u001b[0m TT \u001b[38;5;241m=\u001b[39m pg\u001b[38;5;241m.\u001b[39mphysics\u001b[38;5;241m.\u001b[39mtraveltime\u001b[38;5;241m.\u001b[39mTravelTimeManager()\n\u001b[1;32m----> 2\u001b[0m mesh_inv \u001b[38;5;241m=\u001b[39m TT\u001b[38;5;241m.\u001b[39mcreateMesh(\u001b[43mdatasrt\u001b[49m, paraMaxCellSize\u001b[38;5;241m=\u001b[39m\u001b[38;5;241m2\u001b[39m, quality\u001b[38;5;241m=\u001b[39m\u001b[38;5;241m32\u001b[39m, paraDepth \u001b[38;5;241m=\u001b[39m \u001b[38;5;241m50.0\u001b[39m)\n\u001b[0;32m      3\u001b[0m TT\u001b[38;5;241m.\u001b[39minvert(datasrt, mesh \u001b[38;5;241m=\u001b[39m mesh_inv,lam\u001b[38;5;241m=\u001b[39m\u001b[38;5;241m50\u001b[39m,\n\u001b[0;32m      4\u001b[0m           zWeight\u001b[38;5;241m=\u001b[39m\u001b[38;5;241m0.2\u001b[39m,vTop\u001b[38;5;241m=\u001b[39m\u001b[38;5;241m500\u001b[39m, vBottom\u001b[38;5;241m=\u001b[39m\u001b[38;5;241m5500\u001b[39m,\n\u001b[0;32m      5\u001b[0m           verbose\u001b[38;5;241m=\u001b[39m\u001b[38;5;241m1\u001b[39m, limits\u001b[38;5;241m=\u001b[39m[\u001b[38;5;241m300.\u001b[39m, \u001b[38;5;241m8000.\u001b[39m])\n",
      "\u001b[1;31mNameError\u001b[0m: name 'datasrt' is not defined"
     ]
    }
   ],
   "source": [
    "TT = pg.physics.traveltime.TravelTimeManager()\n",
    "mesh_inv = TT.createMesh(datasrt, paraMaxCellSize=2, quality=32, paraDepth = 50.0)\n",
    "TT.invert(datasrt, mesh = mesh_inv,lam=50,\n",
    "          zWeight=0.2,vTop=500, vBottom=5500,\n",
    "          verbose=1, limits=[300., 8000.])"
   ]
  },
  {
   "cell_type": "code",
   "execution_count": 15,
   "metadata": {
    "collapsed": false,
    "execution": {
     "iopub.execute_input": "2025-05-22T02:40:00.049974Z",
     "iopub.status.busy": "2025-05-22T02:40:00.049974Z",
     "iopub.status.idle": "2025-05-22T02:40:00.067560Z",
     "shell.execute_reply": "2025-05-22T02:40:00.067028Z"
    }
   },
   "outputs": [
    {
     "ename": "NameError",
     "evalue": "name 'mesh_inv' is not defined",
     "output_type": "error",
     "traceback": [
      "\u001b[1;31m---------------------------------------------------------------------------\u001b[0m",
      "\u001b[1;31mNameError\u001b[0m                                 Traceback (most recent call last)",
      "Cell \u001b[1;32mIn[15], line 1\u001b[0m\n\u001b[1;32m----> 1\u001b[0m pg\u001b[38;5;241m.\u001b[39mshow(\u001b[43mmesh_inv\u001b[49m,TT\u001b[38;5;241m.\u001b[39mmodel\u001b[38;5;241m.\u001b[39marray(),coverage\u001b[38;5;241m=\u001b[39mTT\u001b[38;5;241m.\u001b[39mstandardizedCoverage())\n",
      "\u001b[1;31mNameError\u001b[0m: name 'mesh_inv' is not defined"
     ]
    }
   ],
   "source": [
    "pg.show(mesh_inv,TT.model.array(),coverage=TT.standardizedCoverage())"
   ]
  },
  {
   "cell_type": "code",
   "execution_count": 16,
   "metadata": {
    "collapsed": false,
    "execution": {
     "iopub.execute_input": "2025-05-22T02:40:00.069584Z",
     "iopub.status.busy": "2025-05-22T02:40:00.069584Z",
     "iopub.status.idle": "2025-05-22T02:40:00.083742Z",
     "shell.execute_reply": "2025-05-22T02:40:00.083742Z"
    }
   },
   "outputs": [
    {
     "ename": "NameError",
     "evalue": "name 'mesh_inv' is not defined",
     "output_type": "error",
     "traceback": [
      "\u001b[1;31m---------------------------------------------------------------------------\u001b[0m",
      "\u001b[1;31mNameError\u001b[0m                                 Traceback (most recent call last)",
      "Cell \u001b[1;32mIn[16], line 1\u001b[0m\n\u001b[1;32m----> 1\u001b[0m pg\u001b[38;5;241m.\u001b[39mshow(\u001b[43mmesh_inv\u001b[49m,TT\u001b[38;5;241m.\u001b[39mstandardizedCoverage())\n",
      "\u001b[1;31mNameError\u001b[0m: name 'mesh_inv' is not defined"
     ]
    }
   ],
   "source": [
    "pg.show(mesh_inv,TT.standardizedCoverage())"
   ]
  },
  {
   "cell_type": "code",
   "execution_count": 17,
   "metadata": {
    "collapsed": false,
    "execution": {
     "iopub.execute_input": "2025-05-22T02:40:00.085858Z",
     "iopub.status.busy": "2025-05-22T02:40:00.085858Z",
     "iopub.status.idle": "2025-05-22T02:40:00.091987Z",
     "shell.execute_reply": "2025-05-22T02:40:00.091465Z"
    }
   },
   "outputs": [
    {
     "data": {
      "text/plain": [
       "(0,)"
      ]
     },
     "execution_count": 17,
     "metadata": {},
     "output_type": "execute_result"
    }
   ],
   "source": [
    "cov = TT.standardizedCoverage()\n",
    "\n",
    "cov.shape"
   ]
  },
  {
   "cell_type": "code",
   "execution_count": 18,
   "metadata": {
    "collapsed": false,
    "execution": {
     "iopub.execute_input": "2025-05-22T02:40:00.095365Z",
     "iopub.status.busy": "2025-05-22T02:40:00.094856Z",
     "iopub.status.idle": "2025-05-22T02:40:00.108687Z",
     "shell.execute_reply": "2025-05-22T02:40:00.108687Z"
    }
   },
   "outputs": [
    {
     "ename": "NameError",
     "evalue": "name 'mesh_inv' is not defined",
     "output_type": "error",
     "traceback": [
      "\u001b[1;31m---------------------------------------------------------------------------\u001b[0m",
      "\u001b[1;31mNameError\u001b[0m                                 Traceback (most recent call last)",
      "Cell \u001b[1;32mIn[18], line 1\u001b[0m\n\u001b[1;32m----> 1\u001b[0m pos \u001b[38;5;241m=\u001b[39m np\u001b[38;5;241m.\u001b[39marray(\u001b[43mmesh_inv\u001b[49m\u001b[38;5;241m.\u001b[39mcellCenters())\n\u001b[0;32m      2\u001b[0m pos\u001b[38;5;241m.\u001b[39mshape\n",
      "\u001b[1;31mNameError\u001b[0m: name 'mesh_inv' is not defined"
     ]
    }
   ],
   "source": [
    "pos = np.array(mesh_inv.cellCenters())\n",
    "pos.shape"
   ]
  },
  {
   "cell_type": "code",
   "execution_count": 19,
   "metadata": {
    "collapsed": false,
    "execution": {
     "iopub.execute_input": "2025-05-22T02:40:00.110709Z",
     "iopub.status.busy": "2025-05-22T02:40:00.110709Z",
     "iopub.status.idle": "2025-05-22T02:40:00.115758Z",
     "shell.execute_reply": "2025-05-22T02:40:00.115758Z"
    }
   },
   "outputs": [
    {
     "data": {
      "text/plain": [
       "array([[0., 0.],\n",
       "       [0., 0.],\n",
       "       [0., 0.],\n",
       "       [0., 0.],\n",
       "       [0., 0.],\n",
       "       [0., 0.],\n",
       "       [0., 0.],\n",
       "       [0., 0.],\n",
       "       [0., 0.],\n",
       "       [0., 0.],\n",
       "       [0., 0.],\n",
       "       [0., 0.],\n",
       "       [0., 0.],\n",
       "       [0., 0.],\n",
       "       [0., 0.],\n",
       "       [0., 0.],\n",
       "       [0., 0.],\n",
       "       [0., 0.],\n",
       "       [0., 0.],\n",
       "       [0., 0.],\n",
       "       [0., 0.],\n",
       "       [0., 0.],\n",
       "       [0., 0.],\n",
       "       [0., 0.],\n",
       "       [0., 0.],\n",
       "       [0., 0.],\n",
       "       [0., 0.],\n",
       "       [0., 0.],\n",
       "       [0., 0.],\n",
       "       [0., 0.],\n",
       "       [0., 0.],\n",
       "       [0., 0.],\n",
       "       [0., 0.],\n",
       "       [0., 0.],\n",
       "       [0., 0.],\n",
       "       [0., 0.],\n",
       "       [0., 0.],\n",
       "       [0., 0.],\n",
       "       [0., 0.],\n",
       "       [0., 0.],\n",
       "       [0., 0.],\n",
       "       [0., 0.],\n",
       "       [0., 0.],\n",
       "       [0., 0.],\n",
       "       [0., 0.],\n",
       "       [0., 0.],\n",
       "       [0., 0.],\n",
       "       [0., 0.],\n",
       "       [0., 0.],\n",
       "       [0., 0.],\n",
       "       [0., 0.],\n",
       "       [0., 0.],\n",
       "       [0., 0.],\n",
       "       [0., 0.],\n",
       "       [0., 0.],\n",
       "       [0., 0.],\n",
       "       [0., 0.],\n",
       "       [0., 0.],\n",
       "       [0., 0.],\n",
       "       [0., 0.],\n",
       "       [0., 0.],\n",
       "       [0., 0.],\n",
       "       [0., 0.],\n",
       "       [0., 0.],\n",
       "       [0., 0.],\n",
       "       [0., 0.],\n",
       "       [0., 0.],\n",
       "       [0., 0.],\n",
       "       [0., 0.],\n",
       "       [0., 0.],\n",
       "       [0., 0.],\n",
       "       [0., 0.],\n",
       "       [0., 0.],\n",
       "       [0., 0.],\n",
       "       [0., 0.],\n",
       "       [0., 0.],\n",
       "       [0., 0.],\n",
       "       [0., 0.],\n",
       "       [0., 0.],\n",
       "       [0., 0.],\n",
       "       [0., 0.],\n",
       "       [0., 0.],\n",
       "       [0., 0.],\n",
       "       [0., 0.],\n",
       "       [0., 0.],\n",
       "       [0., 0.],\n",
       "       [0., 0.],\n",
       "       [0., 0.],\n",
       "       [0., 0.],\n",
       "       [0., 0.]])"
      ]
     },
     "execution_count": 19,
     "metadata": {},
     "output_type": "execute_result"
    }
   ],
   "source": [
    "pos"
   ]
  },
  {
   "cell_type": "code",
   "execution_count": 20,
   "metadata": {
    "collapsed": false,
    "execution": {
     "iopub.execute_input": "2025-05-22T02:40:00.117778Z",
     "iopub.status.busy": "2025-05-22T02:40:00.117778Z",
     "iopub.status.idle": "2025-05-22T02:40:00.184580Z",
     "shell.execute_reply": "2025-05-22T02:40:00.184067Z"
    }
   },
   "outputs": [
    {
     "ename": "ValueError",
     "evalue": "different number of values and points",
     "output_type": "error",
     "traceback": [
      "\u001b[1;31m---------------------------------------------------------------------------\u001b[0m",
      "\u001b[1;31mValueError\u001b[0m                                Traceback (most recent call last)",
      "Cell \u001b[1;32mIn[20], line 59\u001b[0m\n\u001b[0;32m     52\u001b[0m     \u001b[38;5;28;01mreturn\u001b[39;00m filled_cov\n\u001b[0;32m     54\u001b[0m \u001b[38;5;66;03m# Example usage\u001b[39;00m\n\u001b[0;32m     55\u001b[0m \u001b[38;5;66;03m# Assuming you have your data loaded as pos and cov\u001b[39;00m\n\u001b[0;32m     56\u001b[0m \u001b[38;5;66;03m# cov = np.array([0, 1, 0, ...])  # Your original coverage values\u001b[39;00m\n\u001b[0;32m     57\u001b[0m \n\u001b[0;32m     58\u001b[0m \u001b[38;5;66;03m# Apply the hole filling function\u001b[39;00m\n\u001b[1;32m---> 59\u001b[0m filled_cov \u001b[38;5;241m=\u001b[39m \u001b[43mfill_holes_2d\u001b[49m\u001b[43m(\u001b[49m\u001b[43mpos\u001b[49m\u001b[43m,\u001b[49m\u001b[43m \u001b[49m\u001b[43mcov\u001b[49m\u001b[43m)\u001b[49m\n",
      "Cell \u001b[1;32mIn[20], line 38\u001b[0m, in \u001b[0;36mfill_holes_2d\u001b[1;34m(pos, cov, grid_resolution)\u001b[0m\n\u001b[0;32m     36\u001b[0m \u001b[38;5;66;03m# Interpolate scattered data to regular grid\u001b[39;00m\n\u001b[0;32m     37\u001b[0m grid_points \u001b[38;5;241m=\u001b[39m np\u001b[38;5;241m.\u001b[39mvstack([X\u001b[38;5;241m.\u001b[39mravel(), Y\u001b[38;5;241m.\u001b[39mravel()])\u001b[38;5;241m.\u001b[39mT\n\u001b[1;32m---> 38\u001b[0m grid_cov \u001b[38;5;241m=\u001b[39m \u001b[43mgriddata\u001b[49m\u001b[43m(\u001b[49m\u001b[43mpos_2d\u001b[49m\u001b[43m,\u001b[49m\u001b[43m \u001b[49m\u001b[43mcov\u001b[49m\u001b[43m,\u001b[49m\u001b[43m \u001b[49m\u001b[43mgrid_points\u001b[49m\u001b[43m,\u001b[49m\u001b[43m \u001b[49m\u001b[43mmethod\u001b[49m\u001b[38;5;241;43m=\u001b[39;49m\u001b[38;5;124;43m'\u001b[39;49m\u001b[38;5;124;43mnearest\u001b[39;49m\u001b[38;5;124;43m'\u001b[39;49m\u001b[43m)\u001b[49m\u001b[38;5;241m.\u001b[39mreshape(X\u001b[38;5;241m.\u001b[39mshape)\n\u001b[0;32m     40\u001b[0m \u001b[38;5;66;03m# Convert to binary\u001b[39;00m\n\u001b[0;32m     41\u001b[0m binary_grid \u001b[38;5;241m=\u001b[39m (grid_cov \u001b[38;5;241m>\u001b[39m \u001b[38;5;241m0.5\u001b[39m)\n",
      "File \u001b[1;32m~\\anaconda3\\envs\\pg\\Lib\\site-packages\\scipy\\interpolate\\_ndgriddata.py:320\u001b[0m, in \u001b[0;36mgriddata\u001b[1;34m(points, values, xi, method, fill_value, rescale)\u001b[0m\n\u001b[0;32m    318\u001b[0m     \u001b[38;5;28;01mreturn\u001b[39;00m ip(xi)\n\u001b[0;32m    319\u001b[0m \u001b[38;5;28;01melif\u001b[39;00m method \u001b[38;5;241m==\u001b[39m \u001b[38;5;124m'\u001b[39m\u001b[38;5;124mnearest\u001b[39m\u001b[38;5;124m'\u001b[39m:\n\u001b[1;32m--> 320\u001b[0m     ip \u001b[38;5;241m=\u001b[39m \u001b[43mNearestNDInterpolator\u001b[49m\u001b[43m(\u001b[49m\u001b[43mpoints\u001b[49m\u001b[43m,\u001b[49m\u001b[43m \u001b[49m\u001b[43mvalues\u001b[49m\u001b[43m,\u001b[49m\u001b[43m \u001b[49m\u001b[43mrescale\u001b[49m\u001b[38;5;241;43m=\u001b[39;49m\u001b[43mrescale\u001b[49m\u001b[43m)\u001b[49m\n\u001b[0;32m    321\u001b[0m     \u001b[38;5;28;01mreturn\u001b[39;00m ip(xi)\n\u001b[0;32m    322\u001b[0m \u001b[38;5;28;01melif\u001b[39;00m method \u001b[38;5;241m==\u001b[39m \u001b[38;5;124m'\u001b[39m\u001b[38;5;124mlinear\u001b[39m\u001b[38;5;124m'\u001b[39m:\n",
      "File \u001b[1;32m~\\anaconda3\\envs\\pg\\Lib\\site-packages\\scipy\\interpolate\\_ndgriddata.py:93\u001b[0m, in \u001b[0;36mNearestNDInterpolator.__init__\u001b[1;34m(self, x, y, rescale, tree_options)\u001b[0m\n\u001b[0;32m     92\u001b[0m \u001b[38;5;28;01mdef\u001b[39;00m \u001b[38;5;21m__init__\u001b[39m(\u001b[38;5;28mself\u001b[39m, x, y, rescale\u001b[38;5;241m=\u001b[39m\u001b[38;5;28;01mFalse\u001b[39;00m, tree_options\u001b[38;5;241m=\u001b[39m\u001b[38;5;28;01mNone\u001b[39;00m):\n\u001b[1;32m---> 93\u001b[0m     \u001b[43mNDInterpolatorBase\u001b[49m\u001b[38;5;241;43m.\u001b[39;49m\u001b[38;5;21;43m__init__\u001b[39;49m\u001b[43m(\u001b[49m\u001b[38;5;28;43mself\u001b[39;49m\u001b[43m,\u001b[49m\u001b[43m \u001b[49m\u001b[43mx\u001b[49m\u001b[43m,\u001b[49m\u001b[43m \u001b[49m\u001b[43my\u001b[49m\u001b[43m,\u001b[49m\u001b[43m \u001b[49m\u001b[43mrescale\u001b[49m\u001b[38;5;241;43m=\u001b[39;49m\u001b[43mrescale\u001b[49m\u001b[43m,\u001b[49m\n\u001b[0;32m     94\u001b[0m \u001b[43m                                \u001b[49m\u001b[43mneed_contiguous\u001b[49m\u001b[38;5;241;43m=\u001b[39;49m\u001b[38;5;28;43;01mFalse\u001b[39;49;00m\u001b[43m,\u001b[49m\n\u001b[0;32m     95\u001b[0m \u001b[43m                                \u001b[49m\u001b[43mneed_values\u001b[49m\u001b[38;5;241;43m=\u001b[39;49m\u001b[38;5;28;43;01mFalse\u001b[39;49;00m\u001b[43m)\u001b[49m\n\u001b[0;32m     96\u001b[0m     \u001b[38;5;28;01mif\u001b[39;00m tree_options \u001b[38;5;129;01mis\u001b[39;00m \u001b[38;5;28;01mNone\u001b[39;00m:\n\u001b[0;32m     97\u001b[0m         tree_options \u001b[38;5;241m=\u001b[39m \u001b[38;5;28mdict\u001b[39m()\n",
      "File \u001b[1;32minterpnd.pyx:95\u001b[0m, in \u001b[0;36mscipy.interpolate.interpnd.NDInterpolatorBase.__init__\u001b[1;34m()\u001b[0m\n",
      "File \u001b[1;32minterpnd.pyx:104\u001b[0m, in \u001b[0;36mscipy.interpolate.interpnd.NDInterpolatorBase._set_values\u001b[1;34m()\u001b[0m\n",
      "File \u001b[1;32minterpnd.pyx:232\u001b[0m, in \u001b[0;36mscipy.interpolate.interpnd._check_init_shape\u001b[1;34m()\u001b[0m\n",
      "\u001b[1;31mValueError\u001b[0m: different number of values and points"
     ]
    }
   ],
   "source": [
    "import numpy as np\n",
    "import matplotlib.pyplot as plt\n",
    "from scipy import ndimage\n",
    "from scipy.interpolate import griddata\n",
    "\n",
    "def fill_holes_2d(pos, cov, grid_resolution=100):\n",
    "    \"\"\"\n",
    "    Fill holes (0 values) surrounded by 1 values in 2D scattered data.\n",
    "    \n",
    "    Parameters:\n",
    "    -----------\n",
    "    pos : ndarray of shape (n, 3)\n",
    "        Position array where first two columns are x,y coordinates\n",
    "    cov : ndarray of shape (n,)\n",
    "        Coverage values at each point (0 or 1)\n",
    "    grid_resolution : int\n",
    "        Resolution of the grid for interpolation\n",
    "        \n",
    "    Returns:\n",
    "    --------\n",
    "    filled_cov : ndarray of shape (n,)\n",
    "        Updated coverage values with holes filled\n",
    "    \"\"\"\n",
    "    # Extract only the first two columns (x, y) from pos\n",
    "    pos_2d = pos[:, :2]\n",
    "    \n",
    "    # Extract min and max coordinates for grid boundaries\n",
    "    min_coords = np.min(pos_2d, axis=0)\n",
    "    max_coords = np.max(pos_2d, axis=0)\n",
    "    \n",
    "    # Create a regular 2D grid\n",
    "    x = np.linspace(min_coords[0], max_coords[0], grid_resolution)\n",
    "    y = np.linspace(min_coords[1], max_coords[1], grid_resolution)\n",
    "    X, Y = np.meshgrid(x, y)\n",
    "    \n",
    "    # Interpolate scattered data to regular grid\n",
    "    grid_points = np.vstack([X.ravel(), Y.ravel()]).T\n",
    "    grid_cov = griddata(pos_2d, cov, grid_points, method='nearest').reshape(X.shape)\n",
    "    \n",
    "    # Convert to binary\n",
    "    binary_grid = (grid_cov > 0.5)\n",
    "    \n",
    "    # Fill holes using binary_fill_holes from scipy\n",
    "    filled_grid = ndimage.binary_fill_holes(binary_grid)\n",
    "    \n",
    "    # Convert back to original data type\n",
    "    filled_grid = filled_grid.astype(float)\n",
    "    \n",
    "    # Interpolate back to original scattered points\n",
    "    filled_cov = griddata(grid_points, filled_grid.ravel(), pos_2d, method='nearest')\n",
    "    \n",
    "    return filled_cov\n",
    "\n",
    "# Example usage\n",
    "# Assuming you have your data loaded as pos and cov\n",
    "# cov = np.array([0, 1, 0, ...])  # Your original coverage values\n",
    "\n",
    "# Apply the hole filling function\n",
    "filled_cov = fill_holes_2d(pos, cov)"
   ]
  },
  {
   "cell_type": "code",
   "execution_count": 21,
   "metadata": {
    "collapsed": false,
    "execution": {
     "iopub.execute_input": "2025-05-22T02:40:00.187606Z",
     "iopub.status.busy": "2025-05-22T02:40:00.186598Z",
     "iopub.status.idle": "2025-05-22T02:40:00.207594Z",
     "shell.execute_reply": "2025-05-22T02:40:00.207594Z"
    }
   },
   "outputs": [
    {
     "ename": "ModuleNotFoundError",
     "evalue": "No module named 'meshop'",
     "output_type": "error",
     "traceback": [
      "\u001b[1;31m---------------------------------------------------------------------------\u001b[0m",
      "\u001b[1;31mModuleNotFoundError\u001b[0m                       Traceback (most recent call last)",
      "Cell \u001b[1;32mIn[21], line 1\u001b[0m\n\u001b[1;32m----> 1\u001b[0m \u001b[38;5;28;01mimport\u001b[39;00m \u001b[38;5;21;01mmeshop\u001b[39;00m\n\u001b[0;32m      3\u001b[0m geo \u001b[38;5;241m=\u001b[39m pg\u001b[38;5;241m.\u001b[39mmeshtools\u001b[38;5;241m.\u001b[39mcreateParaMeshPLC(datasrt, quality\u001b[38;5;241m=\u001b[39m\u001b[38;5;241m34\u001b[39m, paraMaxCellSize\u001b[38;5;241m=\u001b[39m\u001b[38;5;241m0.1\u001b[39m,\n\u001b[0;32m      4\u001b[0m                                          paraBoundary\u001b[38;5;241m=\u001b[39m\u001b[38;5;241m0.0\u001b[39m,\n\u001b[0;32m      5\u001b[0m                                          boundary\u001b[38;5;241m=\u001b[39m\u001b[38;5;241m0\u001b[39m, paraDepth \u001b[38;5;241m=\u001b[39m \u001b[38;5;241m50\u001b[39m)\n\u001b[0;32m      7\u001b[0m meshall \u001b[38;5;241m=\u001b[39m pg\u001b[38;5;241m.\u001b[39mmeshtools\u001b[38;5;241m.\u001b[39mcreateMesh(geo,quality\u001b[38;5;241m=\u001b[39m\u001b[38;5;241m34\u001b[39m,area\u001b[38;5;241m=\u001b[39m\u001b[38;5;241m0.1\u001b[39m)\n",
      "\u001b[1;31mModuleNotFoundError\u001b[0m: No module named 'meshop'"
     ]
    }
   ],
   "source": [
    "import meshop\n",
    "\n",
    "geo = pg.meshtools.createParaMeshPLC(datasrt, quality=34, paraMaxCellSize=0.1,\n",
    "                                         paraBoundary=0.0,\n",
    "                                         boundary=0, paraDepth = 50)\n",
    "\n",
    "meshall = pg.meshtools.createMesh(geo,quality=34,area=0.1)\n",
    "\n",
    "out = meshop.linear_interpolation(TT.paraDomain, TT.model.array(), meshall)\n",
    "out = out.array()\n",
    "# out = meshop.nearest_neighbor_interpolation(TT.paraDomain, TT.model.array(), meshall)\n",
    "# out = np.array(out)\n",
    "Cvout= meshop.nearest_neighbor_interpolation(TT.paraDomain, filled_cov, meshall)\n",
    "\n",
    "pg.show(meshall,out,cMap='jet',coverage=Cvout,label='velocity')"
   ]
  },
  {
   "cell_type": "code",
   "execution_count": 22,
   "metadata": {
    "collapsed": false,
    "execution": {
     "iopub.execute_input": "2025-05-22T02:40:00.210809Z",
     "iopub.status.busy": "2025-05-22T02:40:00.210809Z",
     "iopub.status.idle": "2025-05-22T02:40:00.216703Z",
     "shell.execute_reply": "2025-05-22T02:40:00.216703Z"
    }
   },
   "outputs": [],
   "source": [
    "def createTriangles(mesh):\n",
    "    \"\"\"Generate triangle objects for later drawing.\n",
    "\n",
    "    Creates triangle for each 2D triangle cell or 3D boundary.\n",
    "    Quads will be split into two triangles. Result will be cached into mesh._triData.\n",
    "\n",
    "    Parameters\n",
    "    ----------\n",
    "    mesh : :gimliapi:`GIMLI::Mesh`\n",
    "        2D mesh or 3D mesh\n",
    "\n",
    "    Returns\n",
    "    -------\n",
    "    x : numpy array\n",
    "        x position of nodes\n",
    "    y : numpy array\n",
    "        x position of nodes\n",
    "    triangles : numpy array Cx3\n",
    "        cell indices for each triangle, quad or boundary face\n",
    "    z : numpy array\n",
    "        z position for given indices\n",
    "    dataIdx : list of int\n",
    "        List of indices for a data array\n",
    "    \"\"\"\n",
    "    if hasattr(mesh, '_triData'):\n",
    "        if hash(mesh) == mesh._triData[0]:\n",
    "            return mesh._triData[1:]\n",
    "\n",
    "    x = pg.x(mesh)\n",
    "    y = pg.y(mesh)\n",
    "    z = pg.z(mesh)\n",
    "    #    x.round(1e-1)\n",
    "    #    y.round(1e-1)\n",
    "\n",
    "    if mesh.dim() == 2:\n",
    "        ents = mesh.cells()\n",
    "    else:\n",
    "        ents = mesh.boundaries(mesh.boundaryMarkers() != 0)\n",
    "        if len(ents) == 0:\n",
    "            for b in mesh.boundaries():\n",
    "                if b.leftCell() is None or b.rightCell() is None:\n",
    "                    ents.append(b)\n",
    "\n",
    "    triangles = []\n",
    "    dataIdx = []\n",
    "\n",
    "    for c in ents:\n",
    "        triangles.append([c.node(0).id(), c.node(1).id(), c.node(2).id()])\n",
    "        dataIdx.append(c.id())\n",
    "\n",
    "        if c.shape().nodeCount() == 4:\n",
    "            triangles.append([c.node(0).id(), c.node(2).id(), c.node(3).id()])\n",
    "            dataIdx.append(c.id())\n",
    "\n",
    "    mesh._triData = [hash(mesh), x, y, triangles, z, dataIdx]\n",
    "\n",
    "    return x, y, triangles, z, dataIdx"
   ]
  },
  {
   "cell_type": "code",
   "execution_count": 23,
   "metadata": {
    "collapsed": false,
    "execution": {
     "iopub.execute_input": "2025-05-22T02:40:00.218817Z",
     "iopub.status.busy": "2025-05-22T02:40:00.218817Z",
     "iopub.status.idle": "2025-05-22T02:40:00.233450Z",
     "shell.execute_reply": "2025-05-22T02:40:00.232943Z"
    }
   },
   "outputs": [
    {
     "ename": "NameError",
     "evalue": "name 'meshall' is not defined",
     "output_type": "error",
     "traceback": [
      "\u001b[1;31m---------------------------------------------------------------------------\u001b[0m",
      "\u001b[1;31mNameError\u001b[0m                                 Traceback (most recent call last)",
      "Cell \u001b[1;32mIn[23], line 1\u001b[0m\n\u001b[1;32m----> 1\u001b[0m \u001b[43mmeshall\u001b[49m\u001b[38;5;241m.\u001b[39msave(os\u001b[38;5;241m.\u001b[39mpath\u001b[38;5;241m.\u001b[39mjoin(output_dir, \u001b[38;5;124m'\u001b[39m\u001b[38;5;124mvelmesh\u001b[39m\u001b[38;5;124m'\u001b[39m))\n\u001b[0;32m      2\u001b[0m np\u001b[38;5;241m.\u001b[39msave(os\u001b[38;5;241m.\u001b[39mpath\u001b[38;5;241m.\u001b[39mjoin(output_dir, \u001b[38;5;124m'\u001b[39m\u001b[38;5;124mVinvmodel.npy\u001b[39m\u001b[38;5;124m'\u001b[39m), out)\n\u001b[0;32m      3\u001b[0m np\u001b[38;5;241m.\u001b[39msave(os\u001b[38;5;241m.\u001b[39mpath\u001b[38;5;241m.\u001b[39mjoin(output_dir, \u001b[38;5;124m'\u001b[39m\u001b[38;5;124mVsensmodel.npy\u001b[39m\u001b[38;5;124m'\u001b[39m), Cvout)\n",
      "\u001b[1;31mNameError\u001b[0m: name 'meshall' is not defined"
     ]
    }
   ],
   "source": [
    "meshall.save(os.path.join(output_dir, 'velmesh'))\n",
    "np.save(os.path.join(output_dir, 'Vinvmodel.npy'), out)\n",
    "np.save(os.path.join(output_dir, 'Vsensmodel.npy'), Cvout)"
   ]
  },
  {
   "cell_type": "code",
   "execution_count": 24,
   "metadata": {
    "collapsed": false,
    "execution": {
     "iopub.execute_input": "2025-05-22T02:40:00.235541Z",
     "iopub.status.busy": "2025-05-22T02:40:00.235541Z",
     "iopub.status.idle": "2025-05-22T02:40:00.252676Z",
     "shell.execute_reply": "2025-05-22T02:40:00.252155Z"
    }
   },
   "outputs": [
    {
     "ename": "NameError",
     "evalue": "name 'mesh_inv' is not defined",
     "output_type": "error",
     "traceback": [
      "\u001b[1;31m---------------------------------------------------------------------------\u001b[0m",
      "\u001b[1;31mNameError\u001b[0m                                 Traceback (most recent call last)",
      "Cell \u001b[1;32mIn[24], line 1\u001b[0m\n\u001b[1;32m----> 1\u001b[0m x, y, triangles, _, dataIndex \u001b[38;5;241m=\u001b[39m createTriangles(\u001b[43mmesh_inv\u001b[49m)\n\u001b[0;32m      2\u001b[0m z \u001b[38;5;241m=\u001b[39m pg\u001b[38;5;241m.\u001b[39mmeshtools\u001b[38;5;241m.\u001b[39mcellDataToNodeData(mesh_inv,TT\u001b[38;5;241m.\u001b[39mmodel\u001b[38;5;241m.\u001b[39marray())\n",
      "\u001b[1;31mNameError\u001b[0m: name 'mesh_inv' is not defined"
     ]
    }
   ],
   "source": [
    "x, y, triangles, _, dataIndex = createTriangles(mesh_inv)\n",
    "z = pg.meshtools.cellDataToNodeData(mesh_inv,TT.model.array())"
   ]
  },
  {
   "cell_type": "code",
   "execution_count": 25,
   "metadata": {
    "collapsed": false,
    "execution": {
     "iopub.execute_input": "2025-05-22T02:40:00.254697Z",
     "iopub.status.busy": "2025-05-22T02:40:00.254697Z",
     "iopub.status.idle": "2025-05-22T02:40:00.561699Z",
     "shell.execute_reply": "2025-05-22T02:40:00.559980Z"
    }
   },
   "outputs": [
    {
     "ename": "NameError",
     "evalue": "name 'mesh_inv' is not defined",
     "output_type": "error",
     "traceback": [
      "\u001b[1;31m---------------------------------------------------------------------------\u001b[0m",
      "\u001b[1;31mNameError\u001b[0m                                 Traceback (most recent call last)",
      "Cell \u001b[1;32mIn[25], line 17\u001b[0m\n\u001b[0;32m     15\u001b[0m fig \u001b[38;5;241m=\u001b[39m plt\u001b[38;5;241m.\u001b[39mfigure(figsize\u001b[38;5;241m=\u001b[39m[\u001b[38;5;241m8\u001b[39m,\u001b[38;5;241m9\u001b[39m])\n\u001b[0;32m     16\u001b[0m ax1 \u001b[38;5;241m=\u001b[39m fig\u001b[38;5;241m.\u001b[39madd_subplot(\u001b[38;5;241m1\u001b[39m,\u001b[38;5;241m1\u001b[39m,\u001b[38;5;241m1\u001b[39m)\n\u001b[1;32m---> 17\u001b[0m pg\u001b[38;5;241m.\u001b[39mshow(\u001b[43mmesh_inv\u001b[49m,TT\u001b[38;5;241m.\u001b[39mmodel\u001b[38;5;241m.\u001b[39marray(),cMap\u001b[38;5;241m=\u001b[39mfixed_cmap,coverage \u001b[38;5;241m=\u001b[39m filled_cov,ax \u001b[38;5;241m=\u001b[39m ax1,label\u001b[38;5;241m=\u001b[39m\u001b[38;5;124m'\u001b[39m\u001b[38;5;124mVelocity (m s$^\u001b[39m\u001b[38;5;124m{\u001b[39m\u001b[38;5;124m-1}$)\u001b[39m\u001b[38;5;124m'\u001b[39m,\n\u001b[0;32m     18\u001b[0m         xlabel\u001b[38;5;241m=\u001b[39m\u001b[38;5;124m\"\u001b[39m\u001b[38;5;124mDistance (m)\u001b[39m\u001b[38;5;124m\"\u001b[39m, ylabel\u001b[38;5;241m=\u001b[39m\u001b[38;5;124m\"\u001b[39m\u001b[38;5;124mElevation (m)\u001b[39m\u001b[38;5;124m\"\u001b[39m,pad\u001b[38;5;241m=\u001b[39m\u001b[38;5;241m0.3\u001b[39m,cMin \u001b[38;5;241m=\u001b[39m\u001b[38;5;241m500\u001b[39m, cMax\u001b[38;5;241m=\u001b[39m\u001b[38;5;241m5000\u001b[39m\n\u001b[0;32m     19\u001b[0m        ,orientation\u001b[38;5;241m=\u001b[39m\u001b[38;5;124m\"\u001b[39m\u001b[38;5;124mvertical\u001b[39m\u001b[38;5;124m\"\u001b[39m)\n\u001b[0;32m     22\u001b[0m ax1\u001b[38;5;241m.\u001b[39mtricontour(x, y, triangles, z, levels\u001b[38;5;241m=\u001b[39m[\u001b[38;5;241m1200\u001b[39m], linewidths\u001b[38;5;241m=\u001b[39m\u001b[38;5;241m1.0\u001b[39m, colors\u001b[38;5;241m=\u001b[39m\u001b[38;5;124m'\u001b[39m\u001b[38;5;124mk\u001b[39m\u001b[38;5;124m'\u001b[39m, linestyles\u001b[38;5;241m=\u001b[39m\u001b[38;5;124m'\u001b[39m\u001b[38;5;124mdashed\u001b[39m\u001b[38;5;124m'\u001b[39m)\n\u001b[0;32m     23\u001b[0m ax1\u001b[38;5;241m.\u001b[39mtricontour(x, y, triangles, z, levels\u001b[38;5;241m=\u001b[39m[\u001b[38;5;241m4300\u001b[39m], linewidths\u001b[38;5;241m=\u001b[39m\u001b[38;5;241m1.0\u001b[39m, colors\u001b[38;5;241m=\u001b[39m\u001b[38;5;124m'\u001b[39m\u001b[38;5;124mk\u001b[39m\u001b[38;5;124m'\u001b[39m, linestyles\u001b[38;5;241m=\u001b[39m\u001b[38;5;124m'\u001b[39m\u001b[38;5;124m-\u001b[39m\u001b[38;5;124m'\u001b[39m)\n",
      "\u001b[1;31mNameError\u001b[0m: name 'mesh_inv' is not defined"
     ]
    },
    {
     "data": {
      "image/png": "[encoded data removed]",
      "text/plain": [
       "<Figure size 800x900 with 1 Axes>"
      ]
     },
     "metadata": {},
     "output_type": "display_data"
    }
   ],
   "source": [
    "params = {'legend.fontsize': 15,\n",
    "          #'figure.figsize': (15, 5),\n",
    "         'axes.labelsize': 15,\n",
    "         'axes.titlesize':16,\n",
    "         'xtick.labelsize':15,\n",
    "         'ytick.labelsize':15}\n",
    "import matplotlib.pylab as pylab\n",
    "pylab.rcParams.update(params)\n",
    "\n",
    "plt.rcParams[\"font.family\"] = \"Arial\"\n",
    "\n",
    "from palettable.lightbartlein.diverging import BlueDarkRed18_18\n",
    "fixed_cmap = BlueDarkRed18_18.mpl_colormap\n",
    "\n",
    "fig = plt.figure(figsize=[8,9])\n",
    "ax1 = fig.add_subplot(1,1,1)\n",
    "pg.show(mesh_inv,TT.model.array(),cMap=fixed_cmap,coverage = filled_cov,ax = ax1,label='Velocity (m s$^{-1}$)',\n",
    "        xlabel=\"Distance (m)\", ylabel=\"Elevation (m)\",pad=0.3,cMin =500, cMax=5000\n",
    "       ,orientation=\"vertical\")\n",
    "\n",
    "\n",
    "ax1.tricontour(x, y, triangles, z, levels=[1200], linewidths=1.0, colors='k', linestyles='dashed')\n",
    "ax1.tricontour(x, y, triangles, z, levels=[4300], linewidths=1.0, colors='k', linestyles='-')\n",
    "\n",
    "\n",
    "pg.viewer.mpl.drawSensors(ax1, datasrt.sensors(), diam=0.9,\n",
    "                         facecolor='black', edgecolor='black')\n",
    "fig.savefig(os.path.join(output_dir, 'seismic_velocity_long.tiff'), dpi=300, bbox_inches='tight')"
   ]
  },
  {
   "cell_type": "code",
   "execution_count": 26,
   "metadata": {
    "collapsed": false,
    "execution": {
     "iopub.execute_input": "2025-05-22T02:40:00.564722Z",
     "iopub.status.busy": "2025-05-22T02:40:00.563716Z",
     "iopub.status.idle": "2025-05-22T02:40:00.581315Z",
     "shell.execute_reply": "2025-05-22T02:40:00.580806Z"
    }
   },
   "outputs": [
    {
     "ename": "NameError",
     "evalue": "name 'meshall' is not defined",
     "output_type": "error",
     "traceback": [
      "\u001b[1;31m---------------------------------------------------------------------------\u001b[0m",
      "\u001b[1;31mNameError\u001b[0m                                 Traceback (most recent call last)",
      "Cell \u001b[1;32mIn[26], line 1\u001b[0m\n\u001b[1;32m----> 1\u001b[0m x, y, triangles, _, dataIndex \u001b[38;5;241m=\u001b[39m createTriangles(\u001b[43mmeshall\u001b[49m)\n\u001b[0;32m      2\u001b[0m z \u001b[38;5;241m=\u001b[39m pg\u001b[38;5;241m.\u001b[39mmeshtools\u001b[38;5;241m.\u001b[39mcellDataToNodeData(meshall,out)\n",
      "\u001b[1;31mNameError\u001b[0m: name 'meshall' is not defined"
     ]
    }
   ],
   "source": [
    "x, y, triangles, _, dataIndex = createTriangles(meshall)\n",
    "z = pg.meshtools.cellDataToNodeData(meshall,out)"
   ]
  },
  {
   "cell_type": "code",
   "execution_count": 27,
   "metadata": {
    "collapsed": false,
    "execution": {
     "iopub.execute_input": "2025-05-22T02:40:00.583964Z",
     "iopub.status.busy": "2025-05-22T02:40:00.582828Z",
     "iopub.status.idle": "2025-05-22T02:40:00.702883Z",
     "shell.execute_reply": "2025-05-22T02:40:00.702369Z"
    }
   },
   "outputs": [
    {
     "ename": "NameError",
     "evalue": "name 'meshall' is not defined",
     "output_type": "error",
     "traceback": [
      "\u001b[1;31m---------------------------------------------------------------------------\u001b[0m",
      "\u001b[1;31mNameError\u001b[0m                                 Traceback (most recent call last)",
      "Cell \u001b[1;32mIn[27], line 17\u001b[0m\n\u001b[0;32m     15\u001b[0m fig \u001b[38;5;241m=\u001b[39m plt\u001b[38;5;241m.\u001b[39mfigure(figsize\u001b[38;5;241m=\u001b[39m[\u001b[38;5;241m8\u001b[39m,\u001b[38;5;241m9\u001b[39m])\n\u001b[0;32m     16\u001b[0m ax1 \u001b[38;5;241m=\u001b[39m fig\u001b[38;5;241m.\u001b[39madd_subplot(\u001b[38;5;241m1\u001b[39m,\u001b[38;5;241m1\u001b[39m,\u001b[38;5;241m1\u001b[39m)\n\u001b[1;32m---> 17\u001b[0m pg\u001b[38;5;241m.\u001b[39mshow(\u001b[43mmeshall\u001b[49m,out,cMap\u001b[38;5;241m=\u001b[39mfixed_cmap,coverage \u001b[38;5;241m=\u001b[39m Cvout,ax \u001b[38;5;241m=\u001b[39m ax1,label\u001b[38;5;241m=\u001b[39m\u001b[38;5;124m'\u001b[39m\u001b[38;5;124mVelocity (m s$^\u001b[39m\u001b[38;5;124m{\u001b[39m\u001b[38;5;124m-1}$)\u001b[39m\u001b[38;5;124m'\u001b[39m,\n\u001b[0;32m     18\u001b[0m         xlabel\u001b[38;5;241m=\u001b[39m\u001b[38;5;124m\"\u001b[39m\u001b[38;5;124mDistance (m)\u001b[39m\u001b[38;5;124m\"\u001b[39m, ylabel\u001b[38;5;241m=\u001b[39m\u001b[38;5;124m\"\u001b[39m\u001b[38;5;124mElevation (m)\u001b[39m\u001b[38;5;124m\"\u001b[39m,pad\u001b[38;5;241m=\u001b[39m\u001b[38;5;241m0.3\u001b[39m,cMin \u001b[38;5;241m=\u001b[39m\u001b[38;5;241m500\u001b[39m, cMax\u001b[38;5;241m=\u001b[39m\u001b[38;5;241m5000\u001b[39m\n\u001b[0;32m     19\u001b[0m        ,orientation\u001b[38;5;241m=\u001b[39m\u001b[38;5;124m\"\u001b[39m\u001b[38;5;124mvertical\u001b[39m\u001b[38;5;124m\"\u001b[39m)\n\u001b[0;32m     22\u001b[0m ax1\u001b[38;5;241m.\u001b[39mtricontour(x, y, triangles, z, levels\u001b[38;5;241m=\u001b[39m[\u001b[38;5;241m1200\u001b[39m], linewidths\u001b[38;5;241m=\u001b[39m\u001b[38;5;241m1.0\u001b[39m, colors\u001b[38;5;241m=\u001b[39m\u001b[38;5;124m'\u001b[39m\u001b[38;5;124mk\u001b[39m\u001b[38;5;124m'\u001b[39m, linestyles\u001b[38;5;241m=\u001b[39m\u001b[38;5;124m'\u001b[39m\u001b[38;5;124mdashed\u001b[39m\u001b[38;5;124m'\u001b[39m)\n\u001b[0;32m     23\u001b[0m ax1\u001b[38;5;241m.\u001b[39mtricontour(x, y, triangles, z, levels\u001b[38;5;241m=\u001b[39m[\u001b[38;5;241m4200\u001b[39m], linewidths\u001b[38;5;241m=\u001b[39m\u001b[38;5;241m1.0\u001b[39m, colors\u001b[38;5;241m=\u001b[39m\u001b[38;5;124m'\u001b[39m\u001b[38;5;124mk\u001b[39m\u001b[38;5;124m'\u001b[39m)\n",
      "\u001b[1;31mNameError\u001b[0m: name 'meshall' is not defined"
     ]
    },
    {
     "data": {
      "image/png": "[encoded data removed]",
      "text/plain": [
       "<Figure size 800x900 with 1 Axes>"
      ]
     },
     "metadata": {},
     "output_type": "display_data"
    }
   ],
   "source": [
    "params = {'legend.fontsize': 15,\n",
    "          #'figure.figsize': (15, 5),\n",
    "         'axes.labelsize': 15,\n",
    "         'axes.titlesize':16,\n",
    "         'xtick.labelsize':15,\n",
    "         'ytick.labelsize':15}\n",
    "import matplotlib.pylab as pylab\n",
    "pylab.rcParams.update(params)\n",
    "\n",
    "plt.rcParams[\"font.family\"] = \"Arial\"\n",
    "\n",
    "from palettable.lightbartlein.diverging import BlueDarkRed18_18\n",
    "fixed_cmap = BlueDarkRed18_18.mpl_colormap\n",
    "\n",
    "fig = plt.figure(figsize=[8,9])\n",
    "ax1 = fig.add_subplot(1,1,1)\n",
    "pg.show(meshall,out,cMap=fixed_cmap,coverage = Cvout,ax = ax1,label='Velocity (m s$^{-1}$)',\n",
    "        xlabel=\"Distance (m)\", ylabel=\"Elevation (m)\",pad=0.3,cMin =500, cMax=5000\n",
    "       ,orientation=\"vertical\")\n",
    "\n",
    "\n",
    "ax1.tricontour(x, y, triangles, z, levels=[1200], linewidths=1.0, colors='k', linestyles='dashed')\n",
    "ax1.tricontour(x, y, triangles, z, levels=[4200], linewidths=1.0, colors='k')\n",
    "\n",
    "\n",
    "pg.viewer.mpl.drawSensors(ax1, datasrt.sensors(), diam=0.9,\n",
    "                         facecolor='black', edgecolor='black')"
   ]
  },
  {
   "cell_type": "code",
   "execution_count": 28,
   "metadata": {
    "collapsed": false,
    "execution": {
     "iopub.execute_input": "2025-05-22T02:40:00.704944Z",
     "iopub.status.busy": "2025-05-22T02:40:00.704944Z",
     "iopub.status.idle": "2025-05-22T02:40:00.759841Z",
     "shell.execute_reply": "2025-05-22T02:40:00.759327Z"
    }
   },
   "outputs": [
    {
     "ename": "RuntimeError",
     "evalue": "./core/src/gimli.cpp:148\t\tint GIMLI::openFile(const std::string&, std::fstream*, std::ios_base::openmode, bool)  './results/workflow_example/synthetic_seismic_data.dat': No such file or directory2",
     "output_type": "error",
     "traceback": [
      "\u001b[1;31m---------------------------------------------------------------------------\u001b[0m",
      "\u001b[1;31mRuntimeError\u001b[0m                              Traceback (most recent call last)",
      "Cell \u001b[1;32mIn[28], line 1\u001b[0m\n\u001b[1;32m----> 1\u001b[0m ttData \u001b[38;5;241m=\u001b[39m \u001b[43mtt\u001b[49m\u001b[38;5;241;43m.\u001b[39;49m\u001b[43mload\u001b[49m\u001b[43m(\u001b[49m\u001b[38;5;124;43m\"\u001b[39;49m\u001b[38;5;124;43m./results/workflow_example/synthetic_seismic_data.dat\u001b[39;49m\u001b[38;5;124;43m\"\u001b[39;49m\u001b[43m)\u001b[49m\n\u001b[0;32m      2\u001b[0m TT_short \u001b[38;5;241m=\u001b[39m pg\u001b[38;5;241m.\u001b[39mphysics\u001b[38;5;241m.\u001b[39mtraveltime\u001b[38;5;241m.\u001b[39mTravelTimeManager()\n\u001b[0;32m      3\u001b[0m mesh_inv1 \u001b[38;5;241m=\u001b[39m TT_short\u001b[38;5;241m.\u001b[39mcreateMesh(ttData , paraMaxCellSize\u001b[38;5;241m=\u001b[39m\u001b[38;5;241m2\u001b[39m, quality\u001b[38;5;241m=\u001b[39m\u001b[38;5;241m32\u001b[39m, paraDepth \u001b[38;5;241m=\u001b[39m \u001b[38;5;241m30.0\u001b[39m)\n",
      "File \u001b[1;32m~\\anaconda3\\envs\\pg\\Lib\\site-packages\\pygimli\\physics\\traveltime\\importData.py:30\u001b[0m, in \u001b[0;36mload\u001b[1;34m(fileName, verbose, **kwargs)\u001b[0m\n\u001b[0;32m     28\u001b[0m     data \u001b[38;5;241m=\u001b[39m readTOMfile(fileName)\n\u001b[0;32m     29\u001b[0m \u001b[38;5;28;01melse\u001b[39;00m:\n\u001b[1;32m---> 30\u001b[0m     data \u001b[38;5;241m=\u001b[39m \u001b[43mDataContainerTT\u001b[49m\u001b[43m(\u001b[49m\u001b[43mfileName\u001b[49m\u001b[43m)\u001b[49m\n\u001b[0;32m     31\u001b[0m     \u001b[38;5;66;03m# data = pg.DataContainer(fileName, sensorTokens='s g')\u001b[39;00m\n\u001b[0;32m     33\u001b[0m \u001b[38;5;28;01mreturn\u001b[39;00m data\n",
      "File \u001b[1;32m~\\anaconda3\\envs\\pg\\Lib\\site-packages\\pygimli\\physics\\traveltime\\tt.py:39\u001b[0m, in \u001b[0;36mDataContainerTT.__init__\u001b[1;34m(self, data, **kwargs)\u001b[0m\n\u001b[0;32m     37\u001b[0m \u001b[38;5;28mself\u001b[39m\u001b[38;5;241m.\u001b[39mregisterSensorIndex(\u001b[38;5;124m\"\u001b[39m\u001b[38;5;124mg\u001b[39m\u001b[38;5;124m\"\u001b[39m)\n\u001b[0;32m     38\u001b[0m \u001b[38;5;28;01mif\u001b[39;00m \u001b[38;5;28misinstance\u001b[39m(data, \u001b[38;5;28mstr\u001b[39m):\n\u001b[1;32m---> 39\u001b[0m     \u001b[38;5;28;43mself\u001b[39;49m\u001b[38;5;241;43m.\u001b[39;49m\u001b[43mload\u001b[49m\u001b[43m(\u001b[49m\u001b[43mdata\u001b[49m\u001b[43m)\u001b[49m\n",
      "\u001b[1;31mRuntimeError\u001b[0m: ./core/src/gimli.cpp:148\t\tint GIMLI::openFile(const std::string&, std::fstream*, std::ios_base::openmode, bool)  './results/workflow_example/synthetic_seismic_data.dat': No such file or directory2"
     ]
    }
   ],
   "source": [
    "ttData = tt.load(\"./results/workflow_example/synthetic_seismic_data.dat\")\n",
    "TT_short = pg.physics.traveltime.TravelTimeManager()\n",
    "mesh_inv1 = TT_short.createMesh(ttData , paraMaxCellSize=2, quality=32, paraDepth = 30.0)\n",
    "TT_short.invert(ttData , mesh = mesh_inv,lam=50,\n",
    "          zWeight=0.2,vTop=500, vBottom=5500,\n",
    "          verbose=1, limits=[300., 8000.])"
   ]
  },
  {
   "cell_type": "code",
   "execution_count": 29,
   "metadata": {
    "collapsed": false,
    "execution": {
     "iopub.execute_input": "2025-05-22T02:40:00.762887Z",
     "iopub.status.busy": "2025-05-22T02:40:00.761874Z",
     "iopub.status.idle": "2025-05-22T02:40:00.776881Z",
     "shell.execute_reply": "2025-05-22T02:40:00.776349Z"
    }
   },
   "outputs": [
    {
     "ename": "NameError",
     "evalue": "name 'mesh_inv1' is not defined",
     "output_type": "error",
     "traceback": [
      "\u001b[1;31m---------------------------------------------------------------------------\u001b[0m",
      "\u001b[1;31mNameError\u001b[0m                                 Traceback (most recent call last)",
      "Cell \u001b[1;32mIn[29], line 1\u001b[0m\n\u001b[1;32m----> 1\u001b[0m x1, y1, triangles1, _, dataIndex1 \u001b[38;5;241m=\u001b[39m createTriangles(\u001b[43mmesh_inv1\u001b[49m)\n\u001b[0;32m      2\u001b[0m z1 \u001b[38;5;241m=\u001b[39m pg\u001b[38;5;241m.\u001b[39mmeshtools\u001b[38;5;241m.\u001b[39mcellDataToNodeData(mesh_inv1,np\u001b[38;5;241m.\u001b[39marray(TT_short\u001b[38;5;241m.\u001b[39mmodel))\n",
      "\u001b[1;31mNameError\u001b[0m: name 'mesh_inv1' is not defined"
     ]
    }
   ],
   "source": [
    "x1, y1, triangles1, _, dataIndex1 = createTriangles(mesh_inv1)\n",
    "z1 = pg.meshtools.cellDataToNodeData(mesh_inv1,np.array(TT_short.model))"
   ]
  },
  {
   "cell_type": "code",
   "execution_count": 30,
   "metadata": {
    "collapsed": false,
    "execution": {
     "iopub.execute_input": "2025-05-22T02:40:00.780210Z",
     "iopub.status.busy": "2025-05-22T02:40:00.778980Z",
     "iopub.status.idle": "2025-05-22T02:40:00.794822Z",
     "shell.execute_reply": "2025-05-22T02:40:00.794822Z"
    }
   },
   "outputs": [
    {
     "ename": "NameError",
     "evalue": "name 'mesh_inv' is not defined",
     "output_type": "error",
     "traceback": [
      "\u001b[1;31m---------------------------------------------------------------------------\u001b[0m",
      "\u001b[1;31mNameError\u001b[0m                                 Traceback (most recent call last)",
      "Cell \u001b[1;32mIn[30], line 1\u001b[0m\n\u001b[1;32m----> 1\u001b[0m pos \u001b[38;5;241m=\u001b[39m np\u001b[38;5;241m.\u001b[39marray(\u001b[43mmesh_inv\u001b[49m\u001b[38;5;241m.\u001b[39mcellCenters())\n\u001b[0;32m      2\u001b[0m filled_cov1 \u001b[38;5;241m=\u001b[39m fill_holes_2d(pos, TT_short\u001b[38;5;241m.\u001b[39mstandardizedCoverage())\n",
      "\u001b[1;31mNameError\u001b[0m: name 'mesh_inv' is not defined"
     ]
    }
   ],
   "source": [
    "pos = np.array(mesh_inv.cellCenters())\n",
    "filled_cov1 = fill_holes_2d(pos, TT_short.standardizedCoverage())"
   ]
  },
  {
   "cell_type": "code",
   "execution_count": 31,
   "metadata": {
    "collapsed": false,
    "execution": {
     "iopub.execute_input": "2025-05-22T02:40:00.798107Z",
     "iopub.status.busy": "2025-05-22T02:40:00.796986Z",
     "iopub.status.idle": "2025-05-22T02:40:00.905545Z",
     "shell.execute_reply": "2025-05-22T02:40:00.905545Z"
    }
   },
   "outputs": [
    {
     "ename": "NameError",
     "evalue": "name 'mesh_inv' is not defined",
     "output_type": "error",
     "traceback": [
      "\u001b[1;31m---------------------------------------------------------------------------\u001b[0m",
      "\u001b[1;31mNameError\u001b[0m                                 Traceback (most recent call last)",
      "Cell \u001b[1;32mIn[31], line 17\u001b[0m\n\u001b[0;32m     15\u001b[0m fig \u001b[38;5;241m=\u001b[39m plt\u001b[38;5;241m.\u001b[39mfigure(figsize\u001b[38;5;241m=\u001b[39m[\u001b[38;5;241m8\u001b[39m,\u001b[38;5;241m9\u001b[39m])\n\u001b[0;32m     16\u001b[0m ax1 \u001b[38;5;241m=\u001b[39m fig\u001b[38;5;241m.\u001b[39madd_subplot(\u001b[38;5;241m1\u001b[39m,\u001b[38;5;241m1\u001b[39m,\u001b[38;5;241m1\u001b[39m)\n\u001b[1;32m---> 17\u001b[0m pg\u001b[38;5;241m.\u001b[39mshow(\u001b[43mmesh_inv\u001b[49m,TT_short\u001b[38;5;241m.\u001b[39mmodel\u001b[38;5;241m.\u001b[39marray(),cMap\u001b[38;5;241m=\u001b[39mfixed_cmap,coverage \u001b[38;5;241m=\u001b[39m TT_short\u001b[38;5;241m.\u001b[39mstandardizedCoverage(),ax \u001b[38;5;241m=\u001b[39m ax1,label\u001b[38;5;241m=\u001b[39m\u001b[38;5;124m'\u001b[39m\u001b[38;5;124mVelocity (m s$^\u001b[39m\u001b[38;5;124m{\u001b[39m\u001b[38;5;124m-1}$)\u001b[39m\u001b[38;5;124m'\u001b[39m,\n\u001b[0;32m     18\u001b[0m         xlabel\u001b[38;5;241m=\u001b[39m\u001b[38;5;124m\"\u001b[39m\u001b[38;5;124mDistance (m)\u001b[39m\u001b[38;5;124m\"\u001b[39m, ylabel\u001b[38;5;241m=\u001b[39m\u001b[38;5;124m\"\u001b[39m\u001b[38;5;124mElevation (m)\u001b[39m\u001b[38;5;124m\"\u001b[39m,pad\u001b[38;5;241m=\u001b[39m\u001b[38;5;241m0.3\u001b[39m,cMin \u001b[38;5;241m=\u001b[39m\u001b[38;5;241m500\u001b[39m, cMax\u001b[38;5;241m=\u001b[39m\u001b[38;5;241m5000\u001b[39m\n\u001b[0;32m     19\u001b[0m        ,orientation\u001b[38;5;241m=\u001b[39m\u001b[38;5;124m\"\u001b[39m\u001b[38;5;124mvertical\u001b[39m\u001b[38;5;124m\"\u001b[39m)\n\u001b[0;32m     22\u001b[0m ax1\u001b[38;5;241m.\u001b[39mtricontour(x1, y1, triangles1, z1, levels\u001b[38;5;241m=\u001b[39m[\u001b[38;5;241m1200\u001b[39m], linewidths\u001b[38;5;241m=\u001b[39m\u001b[38;5;241m1.0\u001b[39m, colors\u001b[38;5;241m=\u001b[39m\u001b[38;5;124m'\u001b[39m\u001b[38;5;124mk\u001b[39m\u001b[38;5;124m'\u001b[39m, linestyles\u001b[38;5;241m=\u001b[39m\u001b[38;5;124m'\u001b[39m\u001b[38;5;124mdashed\u001b[39m\u001b[38;5;124m'\u001b[39m)\n\u001b[0;32m     26\u001b[0m pg\u001b[38;5;241m.\u001b[39mviewer\u001b[38;5;241m.\u001b[39mmpl\u001b[38;5;241m.\u001b[39mdrawSensors(ax1, ttData\u001b[38;5;241m.\u001b[39msensors(), diam\u001b[38;5;241m=\u001b[39m\u001b[38;5;241m0.8\u001b[39m,\n\u001b[0;32m     27\u001b[0m                          facecolor\u001b[38;5;241m=\u001b[39m\u001b[38;5;124m'\u001b[39m\u001b[38;5;124mblack\u001b[39m\u001b[38;5;124m'\u001b[39m, edgecolor\u001b[38;5;241m=\u001b[39m\u001b[38;5;124m'\u001b[39m\u001b[38;5;124mblack\u001b[39m\u001b[38;5;124m'\u001b[39m)\n",
      "\u001b[1;31mNameError\u001b[0m: name 'mesh_inv' is not defined"
     ]
    },
    {
     "data": {
      "image/png": "[encoded data removed]",
      "text/plain": [
       "<Figure size 800x900 with 1 Axes>"
      ]
     },
     "metadata": {},
     "output_type": "display_data"
    }
   ],
   "source": [
    "params = {'legend.fontsize': 15,\n",
    "          #'figure.figsize': (15, 5),\n",
    "         'axes.labelsize': 15,\n",
    "         'axes.titlesize':16,\n",
    "         'xtick.labelsize':15,\n",
    "         'ytick.labelsize':15}\n",
    "import matplotlib.pylab as pylab\n",
    "pylab.rcParams.update(params)\n",
    "\n",
    "plt.rcParams[\"font.family\"] = \"Arial\"\n",
    "\n",
    "from palettable.lightbartlein.diverging import BlueDarkRed18_18\n",
    "fixed_cmap = BlueDarkRed18_18.mpl_colormap\n",
    "\n",
    "fig = plt.figure(figsize=[8,9])\n",
    "ax1 = fig.add_subplot(1,1,1)\n",
    "pg.show(mesh_inv,TT_short.model.array(),cMap=fixed_cmap,coverage = TT_short.standardizedCoverage(),ax = ax1,label='Velocity (m s$^{-1}$)',\n",
    "        xlabel=\"Distance (m)\", ylabel=\"Elevation (m)\",pad=0.3,cMin =500, cMax=5000\n",
    "       ,orientation=\"vertical\")\n",
    "\n",
    "\n",
    "ax1.tricontour(x1, y1, triangles1, z1, levels=[1200], linewidths=1.0, colors='k', linestyles='dashed')\n",
    "\n",
    "\n",
    "\n",
    "pg.viewer.mpl.drawSensors(ax1, ttData.sensors(), diam=0.8,\n",
    "                         facecolor='black', edgecolor='black')\n",
    "fig.savefig(os.path.join(output_dir, 'seismic_velocity_short.tiff'), dpi=300, bbox_inches='tight')"
   ]
  }
 ],
 "metadata": {
  "kernelspec": {
   "display_name": "Python 3",
   "language": "python",
   "name": "python3"
  },
  "language_info": {
   "codemirror_mode": {
    "name": "ipython",
    "version": 3
   },
   "file_extension": ".py",
   "mimetype": "text/x-python",
   "name": "python",
   "nbconvert_exporter": "python",
   "pygments_lexer": "ipython3",
   "version": "3.11.8"
  }
 },
 "nbformat": 4,
 "nbformat_minor": 0
}
