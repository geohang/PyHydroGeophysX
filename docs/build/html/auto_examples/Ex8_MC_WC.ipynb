{
 "cells": [
  {
   "cell_type": "markdown",
   "metadata": {},
   "source": [
    "\n",
    "# Ex 8. Monte Carlo Uncertainty Quantification for Water Content Estimation\n",
    "\n",
    "This example demonstrates Monte Carlo uncertainty quantification for \n",
    "converting ERT resistivity models to water content estimates.\n",
    "\n",
    "The analysis includes:\n",
    "1. Loading inverted resistivity models from time-lapse ERT\n",
    "2. Defining parameter distributions for different geological layers\n",
    "3. Monte Carlo sampling of petrophysical parameters\n",
    "4. Probabilistic water content estimation with uncertainty bounds\n",
    "5. Statistical analysis and visualization of results\n",
    "6. Time series extraction with confidence intervals\n",
    "\n",
    "Uncertainty quantification is essential for reliable hydrological \n",
    "interpretation of geophysical data, providing confidence bounds on\n",
    "water content estimates and identifying regions of high/low certainty.\n"
   ]
  },
  {
   "cell_type": "code",
   "execution_count": 1,
   "metadata": {
    "collapsed": false,
    "execution": {
     "iopub.execute_input": "2025-05-22T05:55:36.334038Z",
     "iopub.status.busy": "2025-05-22T05:55:36.334038Z",
     "iopub.status.idle": "2025-05-22T06:00:10.451960Z",
     "shell.execute_reply": "2025-05-22T06:00:10.451427Z"
    }
   },
   "outputs": [
    {
     "name": "stderr",
     "output_type": "stream",
     "text": [
      "\r",
      "Monte Carlo Simulations:   0%|                                                                                 | 0/100 [00:00<?, ?it/s]"
     ]
    },
    {
     "name": "stderr",
     "output_type": "stream",
     "text": [
      "\r",
      "Monte Carlo Simulations:   1%|▋                                                                        | 1/100 [00:03<05:49,  3.53s/it]"
     ]
    },
    {
     "name": "stderr",
     "output_type": "stream",
     "text": [
      "\r",
      "Monte Carlo Simulations:   2%|█▍                                                                       | 2/100 [00:07<05:52,  3.59s/it]"
     ]
    },
    {
     "name": "stderr",
     "output_type": "stream",
     "text": [
      "\r",
      "Monte Carlo Simulations:   3%|██▏                                                                      | 3/100 [00:10<05:50,  3.61s/it]"
     ]
    },
    {
     "name": "stderr",
     "output_type": "stream",
     "text": [
      "\r",
      "Monte Carlo Simulations:   4%|██▉                                                                      | 4/100 [00:14<05:43,  3.58s/it]"
     ]
    },
    {
     "name": "stderr",
     "output_type": "stream",
     "text": [
      "\r",
      "Monte Carlo Simulations:   5%|███▋                                                                     | 5/100 [00:18<05:43,  3.61s/it]"
     ]
    },
    {
     "name": "stderr",
     "output_type": "stream",
     "text": [
      "\r",
      "Monte Carlo Simulations:   6%|████▍                                                                    | 6/100 [00:21<05:37,  3.59s/it]"
     ]
    },
    {
     "name": "stderr",
     "output_type": "stream",
     "text": [
      "\r",
      "Monte Carlo Simulations:   7%|█████                                                                    | 7/100 [00:25<05:31,  3.57s/it]"
     ]
    },
    {
     "name": "stderr",
     "output_type": "stream",
     "text": [
      "\r",
      "Monte Carlo Simulations:   8%|█████▊                                                                   | 8/100 [00:28<05:24,  3.52s/it]"
     ]
    },
    {
     "name": "stderr",
     "output_type": "stream",
     "text": [
      "\r",
      "Monte Carlo Simulations:   9%|██████▌                                                                  | 9/100 [00:32<05:24,  3.56s/it]"
     ]
    },
    {
     "name": "stderr",
     "output_type": "stream",
     "text": [
      "\r",
      "Monte Carlo Simulations:  10%|███████▏                                                                | 10/100 [00:35<05:22,  3.58s/it]"
     ]
    },
    {
     "name": "stderr",
     "output_type": "stream",
     "text": [
      "\r",
      "Monte Carlo Simulations:  11%|███████▉                                                                | 11/100 [00:37<04:33,  3.08s/it]"
     ]
    },
    {
     "name": "stderr",
     "output_type": "stream",
     "text": [
      "\r",
      "Monte Carlo Simulations:  12%|████████▋                                                               | 12/100 [00:39<04:00,  2.74s/it]"
     ]
    },
    {
     "name": "stderr",
     "output_type": "stream",
     "text": [
      "\r",
      "Monte Carlo Simulations:  13%|█████████▎                                                              | 13/100 [00:43<04:19,  2.98s/it]"
     ]
    },
    {
     "name": "stderr",
     "output_type": "stream",
     "text": [
      "\r",
      "Monte Carlo Simulations:  14%|██████████                                                              | 14/100 [00:46<04:32,  3.17s/it]"
     ]
    },
    {
     "name": "stderr",
     "output_type": "stream",
     "text": [
      "\r",
      "Monte Carlo Simulations:  15%|██████████▊                                                             | 15/100 [00:48<04:00,  2.83s/it]"
     ]
    },
    {
     "name": "stderr",
     "output_type": "stream",
     "text": [
      "\r",
      "Monte Carlo Simulations:  16%|███████████▌                                                            | 16/100 [00:50<03:38,  2.60s/it]"
     ]
    },
    {
     "name": "stderr",
     "output_type": "stream",
     "text": [
      "\r",
      "Monte Carlo Simulations:  17%|████████████▏                                                           | 17/100 [00:54<04:01,  2.91s/it]"
     ]
    },
    {
     "name": "stderr",
     "output_type": "stream",
     "text": [
      "\r",
      "Monte Carlo Simulations:  18%|████████████▉                                                           | 18/100 [00:58<04:17,  3.14s/it]"
     ]
    },
    {
     "name": "stderr",
     "output_type": "stream",
     "text": [
      "\r",
      "Monte Carlo Simulations:  19%|█████████████▋                                                          | 19/100 [01:01<04:25,  3.28s/it]"
     ]
    },
    {
     "name": "stderr",
     "output_type": "stream",
     "text": [
      "\r",
      "Monte Carlo Simulations:  20%|██████████████▍                                                         | 20/100 [01:03<03:49,  2.87s/it]"
     ]
    },
    {
     "name": "stderr",
     "output_type": "stream",
     "text": [
      "\r",
      "Monte Carlo Simulations:  21%|███████████████                                                         | 21/100 [01:05<03:25,  2.60s/it]"
     ]
    },
    {
     "name": "stderr",
     "output_type": "stream",
     "text": [
      "\r",
      "Monte Carlo Simulations:  22%|███████████████▊                                                        | 22/100 [01:07<03:10,  2.45s/it]"
     ]
    },
    {
     "name": "stderr",
     "output_type": "stream",
     "text": [
      "\r",
      "Monte Carlo Simulations:  23%|████████████████▌                                                       | 23/100 [01:09<02:58,  2.32s/it]"
     ]
    },
    {
     "name": "stderr",
     "output_type": "stream",
     "text": [
      "\r",
      "Monte Carlo Simulations:  24%|█████████████████▎                                                      | 24/100 [01:11<02:50,  2.24s/it]"
     ]
    },
    {
     "name": "stderr",
     "output_type": "stream",
     "text": [
      "\r",
      "Monte Carlo Simulations:  25%|██████████████████                                                      | 25/100 [01:13<02:43,  2.18s/it]"
     ]
    },
    {
     "name": "stderr",
     "output_type": "stream",
     "text": [
      "\r",
      "Monte Carlo Simulations:  26%|██████████████████▋                                                     | 26/100 [01:15<02:37,  2.13s/it]"
     ]
    },
    {
     "name": "stderr",
     "output_type": "stream",
     "text": [
      "\r",
      "Monte Carlo Simulations:  27%|███████████████████▍                                                    | 27/100 [01:19<03:08,  2.58s/it]"
     ]
    },
    {
     "name": "stderr",
     "output_type": "stream",
     "text": [
      "\r",
      "Monte Carlo Simulations:  28%|████████████████████▏                                                   | 28/100 [01:23<03:28,  2.90s/it]"
     ]
    },
    {
     "name": "stderr",
     "output_type": "stream",
     "text": [
      "\r",
      "Monte Carlo Simulations:  29%|████████████████████▉                                                   | 29/100 [01:26<03:40,  3.10s/it]"
     ]
    },
    {
     "name": "stderr",
     "output_type": "stream",
     "text": [
      "\r",
      "Monte Carlo Simulations:  30%|█████████████████████▌                                                  | 30/100 [01:28<03:11,  2.74s/it]"
     ]
    },
    {
     "name": "stderr",
     "output_type": "stream",
     "text": [
      "\r",
      "Monte Carlo Simulations:  31%|██████████████████████▎                                                 | 31/100 [01:30<02:54,  2.52s/it]"
     ]
    },
    {
     "name": "stderr",
     "output_type": "stream",
     "text": [
      "\r",
      "Monte Carlo Simulations:  32%|███████████████████████                                                 | 32/100 [01:32<02:41,  2.38s/it]"
     ]
    },
    {
     "name": "stderr",
     "output_type": "stream",
     "text": [
      "\r",
      "Monte Carlo Simulations:  33%|███████████████████████▊                                                | 33/100 [01:36<03:03,  2.74s/it]"
     ]
    },
    {
     "name": "stderr",
     "output_type": "stream",
     "text": [
      "\r",
      "Monte Carlo Simulations:  34%|████████████████████████▍                                               | 34/100 [01:38<02:46,  2.52s/it]"
     ]
    },
    {
     "name": "stderr",
     "output_type": "stream",
     "text": [
      "\r",
      "Monte Carlo Simulations:  35%|█████████████████████████▏                                              | 35/100 [01:41<03:02,  2.81s/it]"
     ]
    },
    {
     "name": "stderr",
     "output_type": "stream",
     "text": [
      "\r",
      "Monte Carlo Simulations:  36%|█████████████████████████▉                                              | 36/100 [01:45<03:10,  2.97s/it]"
     ]
    },
    {
     "name": "stderr",
     "output_type": "stream",
     "text": [
      "\r",
      "Monte Carlo Simulations:  37%|██████████████████████████▋                                             | 37/100 [01:47<02:48,  2.67s/it]"
     ]
    },
    {
     "name": "stderr",
     "output_type": "stream",
     "text": [
      "\r",
      "Monte Carlo Simulations:  38%|███████████████████████████▎                                            | 38/100 [01:49<02:33,  2.47s/it]"
     ]
    },
    {
     "name": "stderr",
     "output_type": "stream",
     "text": [
      "\r",
      "Monte Carlo Simulations:  39%|████████████████████████████                                            | 39/100 [01:51<02:22,  2.33s/it]"
     ]
    },
    {
     "name": "stderr",
     "output_type": "stream",
     "text": [
      "\r",
      "Monte Carlo Simulations:  40%|████████████████████████████▊                                           | 40/100 [01:54<02:44,  2.74s/it]"
     ]
    },
    {
     "name": "stderr",
     "output_type": "stream",
     "text": [
      "\r",
      "Monte Carlo Simulations:  41%|█████████████████████████████▌                                          | 41/100 [01:58<02:53,  2.95s/it]"
     ]
    },
    {
     "name": "stderr",
     "output_type": "stream",
     "text": [
      "\r",
      "Monte Carlo Simulations:  42%|██████████████████████████████▏                                         | 42/100 [02:01<03:03,  3.16s/it]"
     ]
    },
    {
     "name": "stderr",
     "output_type": "stream",
     "text": [
      "\r",
      "Monte Carlo Simulations:  43%|██████████████████████████████▉                                         | 43/100 [02:03<02:40,  2.82s/it]"
     ]
    },
    {
     "name": "stderr",
     "output_type": "stream",
     "text": [
      "\r",
      "Monte Carlo Simulations:  44%|███████████████████████████████▋                                        | 44/100 [02:05<02:24,  2.58s/it]"
     ]
    },
    {
     "name": "stderr",
     "output_type": "stream",
     "text": [
      "\r",
      "Monte Carlo Simulations:  45%|████████████████████████████████▍                                       | 45/100 [02:07<02:10,  2.37s/it]"
     ]
    },
    {
     "name": "stderr",
     "output_type": "stream",
     "text": [
      "\r",
      "Monte Carlo Simulations:  46%|█████████████████████████████████                                       | 46/100 [02:11<02:28,  2.75s/it]"
     ]
    },
    {
     "name": "stderr",
     "output_type": "stream",
     "text": [
      "\r",
      "Monte Carlo Simulations:  47%|█████████████████████████████████▊                                      | 47/100 [02:15<02:38,  2.99s/it]"
     ]
    },
    {
     "name": "stderr",
     "output_type": "stream",
     "text": [
      "\r",
      "Monte Carlo Simulations:  48%|██████████████████████████████████▌                                     | 48/100 [02:17<02:20,  2.70s/it]"
     ]
    },
    {
     "name": "stderr",
     "output_type": "stream",
     "text": [
      "\r",
      "Monte Carlo Simulations:  49%|███████████████████████████████████▎                                    | 49/100 [02:18<02:05,  2.46s/it]"
     ]
    },
    {
     "name": "stderr",
     "output_type": "stream",
     "text": [
      "\r",
      "Monte Carlo Simulations:  50%|████████████████████████████████████                                    | 50/100 [02:20<01:56,  2.32s/it]"
     ]
    },
    {
     "name": "stderr",
     "output_type": "stream",
     "text": [
      "\r",
      "Monte Carlo Simulations:  51%|████████████████████████████████████▋                                   | 51/100 [02:22<01:49,  2.24s/it]"
     ]
    },
    {
     "name": "stderr",
     "output_type": "stream",
     "text": [
      "\r",
      "Monte Carlo Simulations:  52%|█████████████████████████████████████▍                                  | 52/100 [02:25<01:44,  2.18s/it]"
     ]
    },
    {
     "name": "stderr",
     "output_type": "stream",
     "text": [
      "\r",
      "Monte Carlo Simulations:  53%|██████████████████████████████████████▏                                 | 53/100 [02:27<01:40,  2.14s/it]"
     ]
    },
    {
     "name": "stderr",
     "output_type": "stream",
     "text": [
      "\r",
      "Monte Carlo Simulations:  54%|██████████████████████████████████████▉                                 | 54/100 [02:29<01:37,  2.12s/it]"
     ]
    },
    {
     "name": "stderr",
     "output_type": "stream",
     "text": [
      "\r",
      "Monte Carlo Simulations:  55%|███████████████████████████████████████▌                                | 55/100 [02:31<01:34,  2.09s/it]"
     ]
    },
    {
     "name": "stderr",
     "output_type": "stream",
     "text": [
      "\r",
      "Monte Carlo Simulations:  56%|████████████████████████████████████████▎                               | 56/100 [02:34<01:52,  2.56s/it]"
     ]
    },
    {
     "name": "stderr",
     "output_type": "stream",
     "text": [
      "\r",
      "Monte Carlo Simulations:  57%|█████████████████████████████████████████                               | 57/100 [02:36<01:43,  2.41s/it]"
     ]
    },
    {
     "name": "stderr",
     "output_type": "stream",
     "text": [
      "\r",
      "Monte Carlo Simulations:  58%|█████████████████████████████████████████▊                              | 58/100 [02:38<01:36,  2.30s/it]"
     ]
    },
    {
     "name": "stderr",
     "output_type": "stream",
     "text": [
      "\r",
      "Monte Carlo Simulations:  59%|██████████████████████████████████████████▍                             | 59/100 [02:42<01:50,  2.70s/it]"
     ]
    },
    {
     "name": "stderr",
     "output_type": "stream",
     "text": [
      "\r",
      "Monte Carlo Simulations:  60%|███████████████████████████████████████████▏                            | 60/100 [02:46<01:59,  2.99s/it]"
     ]
    },
    {
     "name": "stderr",
     "output_type": "stream",
     "text": [
      "\r",
      "Monte Carlo Simulations:  61%|███████████████████████████████████████████▉                            | 61/100 [02:48<01:44,  2.69s/it]"
     ]
    },
    {
     "name": "stderr",
     "output_type": "stream",
     "text": [
      "\r",
      "Monte Carlo Simulations:  62%|████████████████████████████████████████████▋                           | 62/100 [02:50<01:33,  2.47s/it]"
     ]
    },
    {
     "name": "stderr",
     "output_type": "stream",
     "text": [
      "\r",
      "Monte Carlo Simulations:  63%|█████████████████████████████████████████████▎                          | 63/100 [02:52<01:26,  2.34s/it]"
     ]
    },
    {
     "name": "stderr",
     "output_type": "stream",
     "text": [
      "\r",
      "Monte Carlo Simulations:  64%|██████████████████████████████████████████████                          | 64/100 [02:55<01:36,  2.68s/it]"
     ]
    },
    {
     "name": "stderr",
     "output_type": "stream",
     "text": [
      "\r",
      "Monte Carlo Simulations:  65%|██████████████████████████████████████████████▊                         | 65/100 [02:57<01:26,  2.48s/it]"
     ]
    },
    {
     "name": "stderr",
     "output_type": "stream",
     "text": [
      "\r",
      "Monte Carlo Simulations:  66%|███████████████████████████████████████████████▌                        | 66/100 [02:59<01:19,  2.34s/it]"
     ]
    },
    {
     "name": "stderr",
     "output_type": "stream",
     "text": [
      "\r",
      "Monte Carlo Simulations:  67%|████████████████████████████████████████████████▏                       | 67/100 [03:01<01:13,  2.24s/it]"
     ]
    },
    {
     "name": "stderr",
     "output_type": "stream",
     "text": [
      "\r",
      "Monte Carlo Simulations:  68%|████████████████████████████████████████████████▉                       | 68/100 [03:05<01:23,  2.60s/it]"
     ]
    },
    {
     "name": "stderr",
     "output_type": "stream",
     "text": [
      "\r",
      "Monte Carlo Simulations:  69%|█████████████████████████████████████████████████▋                      | 69/100 [03:08<01:28,  2.87s/it]"
     ]
    },
    {
     "name": "stderr",
     "output_type": "stream",
     "text": [
      "\r",
      "Monte Carlo Simulations:  70%|██████████████████████████████████████████████████▍                     | 70/100 [03:12<01:31,  3.06s/it]"
     ]
    },
    {
     "name": "stderr",
     "output_type": "stream",
     "text": [
      "\r",
      "Monte Carlo Simulations:  71%|███████████████████████████████████████████████████                     | 71/100 [03:15<01:33,  3.22s/it]"
     ]
    },
    {
     "name": "stderr",
     "output_type": "stream",
     "text": [
      "\r",
      "Monte Carlo Simulations:  72%|███████████████████████████████████████████████████▊                    | 72/100 [03:17<01:19,  2.84s/it]"
     ]
    },
    {
     "name": "stderr",
     "output_type": "stream",
     "text": [
      "\r",
      "Monte Carlo Simulations:  73%|████████████████████████████████████████████████████▌                   | 73/100 [03:19<01:09,  2.57s/it]"
     ]
    },
    {
     "name": "stderr",
     "output_type": "stream",
     "text": [
      "\r",
      "Monte Carlo Simulations:  74%|█████████████████████████████████████████████████████▎                  | 74/100 [03:21<01:02,  2.41s/it]"
     ]
    },
    {
     "name": "stderr",
     "output_type": "stream",
     "text": [
      "\r",
      "Monte Carlo Simulations:  75%|██████████████████████████████████████████████████████                  | 75/100 [03:23<00:57,  2.31s/it]"
     ]
    },
    {
     "name": "stderr",
     "output_type": "stream",
     "text": [
      "\r",
      "Monte Carlo Simulations:  76%|██████████████████████████████████████████████████████▋                 | 76/100 [03:27<01:05,  2.72s/it]"
     ]
    },
    {
     "name": "stderr",
     "output_type": "stream",
     "text": [
      "\r",
      "Monte Carlo Simulations:  77%|███████████████████████████████████████████████████████▍                | 77/100 [03:30<01:07,  2.95s/it]"
     ]
    },
    {
     "name": "stderr",
     "output_type": "stream",
     "text": [
      "\r",
      "Monte Carlo Simulations:  78%|████████████████████████████████████████████████████████▏               | 78/100 [03:32<00:58,  2.67s/it]"
     ]
    },
    {
     "name": "stderr",
     "output_type": "stream",
     "text": [
      "\r",
      "Monte Carlo Simulations:  79%|████████████████████████████████████████████████████████▉               | 79/100 [03:36<01:01,  2.91s/it]"
     ]
    },
    {
     "name": "stderr",
     "output_type": "stream",
     "text": [
      "\r",
      "Monte Carlo Simulations:  80%|█████████████████████████████████████████████████████████▌              | 80/100 [03:40<01:02,  3.13s/it]"
     ]
    },
    {
     "name": "stderr",
     "output_type": "stream",
     "text": [
      "\r",
      "Monte Carlo Simulations:  81%|██████████████████████████████████████████████████████████▎             | 81/100 [03:41<00:52,  2.76s/it]"
     ]
    },
    {
     "name": "stderr",
     "output_type": "stream",
     "text": [
      "\r",
      "Monte Carlo Simulations:  82%|███████████████████████████████████████████████████████████             | 82/100 [03:43<00:45,  2.54s/it]"
     ]
    },
    {
     "name": "stderr",
     "output_type": "stream",
     "text": [
      "\r",
      "Monte Carlo Simulations:  83%|███████████████████████████████████████████████████████████▊            | 83/100 [03:47<00:48,  2.85s/it]"
     ]
    },
    {
     "name": "stderr",
     "output_type": "stream",
     "text": [
      "\r",
      "Monte Carlo Simulations:  84%|████████████████████████████████████████████████████████████▍           | 84/100 [03:49<00:41,  2.61s/it]"
     ]
    },
    {
     "name": "stderr",
     "output_type": "stream",
     "text": [
      "\r",
      "Monte Carlo Simulations:  85%|█████████████████████████████████████████████████████████████▏          | 85/100 [03:51<00:36,  2.42s/it]"
     ]
    },
    {
     "name": "stderr",
     "output_type": "stream",
     "text": [
      "\r",
      "Monte Carlo Simulations:  86%|█████████████████████████████████████████████████████████████▉          | 86/100 [03:55<00:38,  2.75s/it]"
     ]
    },
    {
     "name": "stderr",
     "output_type": "stream",
     "text": [
      "\r",
      "Monte Carlo Simulations:  87%|██████████████████████████████████████████████████████████████▋         | 87/100 [03:58<00:38,  2.97s/it]"
     ]
    },
    {
     "name": "stderr",
     "output_type": "stream",
     "text": [
      "\r",
      "Monte Carlo Simulations:  88%|███████████████████████████████████████████████████████████████▎        | 88/100 [04:01<00:36,  3.07s/it]"
     ]
    },
    {
     "name": "stderr",
     "output_type": "stream",
     "text": [
      "\r",
      "Monte Carlo Simulations:  89%|████████████████████████████████████████████████████████████████        | 89/100 [04:05<00:35,  3.26s/it]"
     ]
    },
    {
     "name": "stderr",
     "output_type": "stream",
     "text": [
      "\r",
      "Monte Carlo Simulations:  90%|████████████████████████████████████████████████████████████████▊       | 90/100 [04:09<00:33,  3.35s/it]"
     ]
    },
    {
     "name": "stderr",
     "output_type": "stream",
     "text": [
      "\r",
      "Monte Carlo Simulations:  91%|█████████████████████████████████████████████████████████████████▌      | 91/100 [04:12<00:30,  3.42s/it]"
     ]
    },
    {
     "name": "stderr",
     "output_type": "stream",
     "text": [
      "\r",
      "Monte Carlo Simulations:  92%|██████████████████████████████████████████████████████████████████▏     | 92/100 [04:16<00:27,  3.39s/it]"
     ]
    },
    {
     "name": "stderr",
     "output_type": "stream",
     "text": [
      "\r",
      "Monte Carlo Simulations:  93%|██████████████████████████████████████████████████████████████████▉     | 93/100 [04:18<00:20,  2.98s/it]"
     ]
    },
    {
     "name": "stderr",
     "output_type": "stream",
     "text": [
      "\r",
      "Monte Carlo Simulations:  94%|███████████████████████████████████████████████████████████████████▋    | 94/100 [04:20<00:16,  2.67s/it]"
     ]
    },
    {
     "name": "stderr",
     "output_type": "stream",
     "text": [
      "\r",
      "Monte Carlo Simulations:  95%|████████████████████████████████████████████████████████████████████▍   | 95/100 [04:21<00:12,  2.43s/it]"
     ]
    },
    {
     "name": "stderr",
     "output_type": "stream",
     "text": [
      "\r",
      "Monte Carlo Simulations:  96%|█████████████████████████████████████████████████████████████████████   | 96/100 [04:23<00:09,  2.31s/it]"
     ]
    },
    {
     "name": "stderr",
     "output_type": "stream",
     "text": [
      "\r",
      "Monte Carlo Simulations:  97%|█████████████████████████████████████████████████████████████████████▊  | 97/100 [04:26<00:06,  2.24s/it]"
     ]
    },
    {
     "name": "stderr",
     "output_type": "stream",
     "text": [
      "\r",
      "Monte Carlo Simulations:  98%|██████████████████████████████████████████████████████████████████████▌ | 98/100 [04:28<00:04,  2.20s/it]"
     ]
    },
    {
     "name": "stderr",
     "output_type": "stream",
     "text": [
      "\r",
      "Monte Carlo Simulations:  99%|███████████████████████████████████████████████████████████████████████▎| 99/100 [04:30<00:02,  2.12s/it]"
     ]
    },
    {
     "name": "stderr",
     "output_type": "stream",
     "text": [
      "\r",
      "Monte Carlo Simulations: 100%|███████████████████████████████████████████████████████████████████████| 100/100 [04:31<00:00,  2.07s/it]"
     ]
    },
    {
     "name": "stderr",
     "output_type": "stream",
     "text": [
      "\r",
      "Monte Carlo Simulations: 100%|███████████████████████████████████████████████████████████████████████| 100/100 [04:31<00:00,  2.72s/it]"
     ]
    },
    {
     "name": "stderr",
     "output_type": "stream",
     "text": [
      "\n"
     ]
    }
   ],
   "source": [
    "import numpy as np\n",
    "import matplotlib.pyplot as plt\n",
    "import os\n",
    "import pygimli as pg\n",
    "import sys\n",
    "from tqdm import tqdm\n",
    "\n",
    "# Setup package path for development\n",
    "try:\n",
    "    # For regular Python scripts\n",
    "    current_dir = os.path.dirname(os.path.abspath(__file__))\n",
    "except NameError:\n",
    "    # For Jupyter notebooks\n",
    "    current_dir = os.getcwd()\n",
    "\n",
    "# Add the parent directory to Python path\n",
    "parent_dir = os.path.dirname(current_dir)\n",
    "if parent_dir not in sys.path:\n",
    "    sys.path.append(parent_dir)\n",
    "\n",
    "# Import PyHydroGeophysX modules\n",
    "from PyHydroGeophysX.petrophysics.resistivity_models import resistivity_to_saturation\n",
    "\n",
    "# Extract the inverted resistivity values\n",
    "resistivity_values = np.load(\"C:/Users/HChen8/Documents/GitHub/PyHydroGeophysX/examples/results/Structure_WC/resmodel.npy\")\n",
    "coverage = np.load(\"C:/Users/HChen8/Documents/GitHub/PyHydroGeophysX/examples/results/Structure_WC/all_coverage.npy\")\n",
    "# Extract cell markers from the mesh (to identify different geological layers)\n",
    "cell_markers = np.load(\"C:/Users/HChen8/Documents/GitHub/PyHydroGeophysX/examples/results/Structure_WC/index_marker.npy\")\n",
    "\n",
    "mesh = pg.load(\"C:/Users/HChen8/Documents/GitHub/PyHydroGeophysX/examples/results/Structure_WC/mesh_res.bms\")\n",
    "\n",
    "# Number of Monte Carlo realizations\n",
    "n_realizations = 100\n",
    "\n",
    "# Set up parameter distributions (means and standard deviations)\n",
    "# Layer 1 (top layer - marker 3)\n",
    "layer1_dist = {\n",
    "    'rhos': {'mean': 100.0, 'std': 20.0},       # Saturated resistivity (ohm-m)\n",
    "    'n': {'mean': 2.2, 'std': 0.2},             # Saturation exponent\n",
    "    'sigma_sur': {'mean': 1/500, 'std': 1/2000},  # Surface conductivity (S/m)\n",
    "    'porosity': {'mean': 0.40, 'std': 0.05}      # Porosity\n",
    "}\n",
    "\n",
    "# Layer 2 (bottom layer - marker 2)\n",
    "layer2_dist = {\n",
    "    'rhos': {'mean': 500.0, 'std': 100.0},      # Saturated resistivity (ohm-m)\n",
    "    'n': {'mean': 1.8, 'std': 0.2},             # Saturation exponent\n",
    "    'sigma_sur': {'mean': 0, 'std': 1/50000},    # Surface conductivity (S/m)\n",
    "    'porosity': {'mean': 0.35, 'std': 0.1}      # Porosity\n",
    "}\n",
    "\n",
    "# Create arrays to store all MC realization results\n",
    "water_content_all = np.zeros((n_realizations, *resistivity_values.shape))\n",
    "Saturation_all = np.zeros((n_realizations, *resistivity_values.shape))\n",
    "# Create arrays to store the parameters used for each realization\n",
    "params_used = {\n",
    "    'layer1': {\n",
    "        'rhos': np.zeros(n_realizations),\n",
    "        'n': np.zeros(n_realizations),\n",
    "        'sigma_sur': np.zeros(n_realizations),\n",
    "        'porosity': np.zeros(n_realizations)\n",
    "    },\n",
    "    'layer2': {\n",
    "        'rhos': np.zeros(n_realizations),\n",
    "        'n': np.zeros(n_realizations),\n",
    "        'sigma_sur': np.zeros(n_realizations),\n",
    "        'porosity': np.zeros(n_realizations)\n",
    "    }\n",
    "}\n",
    "\n",
    "# Perform Monte Carlo simulation\n",
    "for mc_idx in tqdm(range(n_realizations), desc=\"Monte Carlo Simulations\"):\n",
    "    # Sample parameters for each layer from their distributions\n",
    "    # Layer 1\n",
    "    layer1_params = {\n",
    "        'rhos': max(1.0, np.random.normal(layer1_dist['rhos']['mean'], layer1_dist['rhos']['std'])),\n",
    "        'n': max(1.0, np.random.normal(layer1_dist['n']['mean'], layer1_dist['n']['std'])),\n",
    "        'sigma_sur': max(0.0, np.random.normal(layer1_dist['sigma_sur']['mean'], layer1_dist['sigma_sur']['std']))\n",
    "    }\n",
    "    \n",
    "    # Layer 2\n",
    "    layer2_params = {\n",
    "        'rhos': max(1.0, np.random.normal(layer2_dist['rhos']['mean'], layer2_dist['rhos']['std'])),\n",
    "        'n': max(1.0, np.random.normal(layer2_dist['n']['mean'], layer2_dist['n']['std'])),\n",
    "        'sigma_sur': max(0.0, np.random.normal(layer2_dist['sigma_sur']['mean'], layer2_dist['sigma_sur']['std']))\n",
    "    }\n",
    "    \n",
    "    # Sample porosity for each layer\n",
    "    porosity = np.zeros_like(cell_markers, dtype=float)\n",
    "    layer1_porosity = np.clip(np.random.normal(layer1_dist['porosity']['mean'], \n",
    "                                              layer1_dist['porosity']['std']), 0.05, 0.6)\n",
    "    layer2_porosity = np.clip(np.random.normal(layer2_dist['porosity']['mean'], \n",
    "                                              layer2_dist['porosity']['std']), 0.05, 0.6)\n",
    "    \n",
    "    porosity[cell_markers == 3] = layer1_porosity  # Top layer porosity\n",
    "    porosity[cell_markers == 2] = layer2_porosity  # Bottom layer porosity\n",
    "    \n",
    "    # Save the parameters used for this realization\n",
    "    params_used['layer1']['rhos'][mc_idx] = layer1_params['rhos']\n",
    "    params_used['layer1']['n'][mc_idx] = layer1_params['n']\n",
    "    params_used['layer1']['sigma_sur'][mc_idx] = layer1_params['sigma_sur']\n",
    "    params_used['layer1']['porosity'][mc_idx] = layer1_porosity\n",
    "    \n",
    "    params_used['layer2']['rhos'][mc_idx] = layer2_params['rhos']\n",
    "    params_used['layer2']['n'][mc_idx] = layer2_params['n']\n",
    "    params_used['layer2']['sigma_sur'][mc_idx] = layer2_params['sigma_sur']\n",
    "    params_used['layer2']['porosity'][mc_idx] = layer2_porosity\n",
    "    \n",
    "    # Create arrays to store water content and saturation for this realization\n",
    "    water_content = np.zeros_like(resistivity_values)\n",
    "    saturation = np.zeros_like(resistivity_values)\n",
    "    \n",
    "    # Process each timestep\n",
    "    for t in range(resistivity_values.shape[1]):\n",
    "        # Extract resistivity for this timestep\n",
    "        resistivity_t = resistivity_values[:, t]\n",
    "        \n",
    "        # Process each layer separately\n",
    "        # Layer 1 (marker 3)\n",
    "        mask_layer1 = cell_markers == 3\n",
    "        if np.any(mask_layer1):\n",
    "            saturation[mask_layer1, t] = resistivity_to_saturation(\n",
    "                resistivity_t[mask_layer1],\n",
    "                layer1_params['rhos'],\n",
    "                layer1_params['n'],\n",
    "                layer1_params['sigma_sur']\n",
    "            )\n",
    "        \n",
    "        # Layer 2 (marker 2)\n",
    "        mask_layer2 = cell_markers == 2\n",
    "        if np.any(mask_layer2):\n",
    "            saturation[mask_layer2, t] = resistivity_to_saturation(\n",
    "                resistivity_t[mask_layer2],\n",
    "                layer2_params['rhos'],\n",
    "                layer2_params['n'],\n",
    "                layer2_params['sigma_sur']\n",
    "            )\n",
    "        \n",
    "        # Convert saturation to water content (water_content = saturation * porosity)\n",
    "        water_content[:, t] = saturation[:, t] * porosity\n",
    "    \n",
    "    # Store this realization's water content\n",
    "    water_content_all[mc_idx] = water_content\n",
    "    Saturation_all[mc_idx] = saturation"
   ]
  },
  {
   "cell_type": "markdown",
   "metadata": {},
   "source": [
    "Calculate statistics across all realizations\n",
    "\n"
   ]
  },
  {
   "cell_type": "code",
   "execution_count": 2,
   "metadata": {
    "collapsed": false,
    "execution": {
     "iopub.execute_input": "2025-05-22T06:00:10.456105Z",
     "iopub.status.busy": "2025-05-22T06:00:10.455593Z",
     "iopub.status.idle": "2025-05-22T06:00:10.602992Z",
     "shell.execute_reply": "2025-05-22T06:00:10.602992Z"
    }
   },
   "outputs": [],
   "source": [
    "water_content_mean = np.mean(water_content_all, axis=0)\n",
    "water_content_std = np.std(water_content_all, axis=0)\n",
    "water_content_p10 = np.percentile(water_content_all, 10, axis=0)  # 10th percentile\n",
    "water_content_p50 = np.percentile(water_content_all, 50, axis=0)  # Median\n",
    "water_content_p90 = np.percentile(water_content_all, 90, axis=0)  # 90th percentile"
   ]
  },
  {
   "cell_type": "code",
   "execution_count": 3,
   "metadata": {
    "collapsed": false,
    "execution": {
     "iopub.execute_input": "2025-05-22T06:00:10.606858Z",
     "iopub.status.busy": "2025-05-22T06:00:10.606858Z",
     "iopub.status.idle": "2025-05-22T06:00:14.332035Z",
     "shell.execute_reply": "2025-05-22T06:00:14.331392Z"
    }
   },
   "outputs": [
    {
     "data": {
      "image/png": "[encoded data removed]",
      "text/plain": [
       "<Figure size 1600x600 with 1 Axes>"
      ]
     },
     "metadata": {},
     "output_type": "display_data"
    },
    {
     "ename": "FileNotFoundError",
     "evalue": "[Errno 2] No such file or directory: 'C:\\\\Users\\\\HChen8\\\\Documents\\\\GitHub\\\\PyHydroGeophysX\\\\docs\\\\source\\\\auto_examples\\\\results\\\\Structure_WC\\\\timelapse_sat.tiff'",
     "output_type": "error",
     "traceback": [
      "\u001b[1;31m---------------------------------------------------------------------------\u001b[0m",
      "\u001b[1;31mFileNotFoundError\u001b[0m                         Traceback (most recent call last)",
      "Cell \u001b[1;32mIn[3], line 62\u001b[0m\n\u001b[0;32m     59\u001b[0m         cbar\u001b[38;5;241m.\u001b[39mremove()\n\u001b[0;32m     61\u001b[0m plt\u001b[38;5;241m.\u001b[39mtight_layout()\n\u001b[1;32m---> 62\u001b[0m \u001b[43mplt\u001b[49m\u001b[38;5;241;43m.\u001b[39;49m\u001b[43msavefig\u001b[49m\u001b[43m(\u001b[49m\u001b[38;5;124;43m\"\u001b[39;49m\u001b[38;5;124;43mresults/Structure_WC/timelapse_sat.tiff\u001b[39;49m\u001b[38;5;124;43m\"\u001b[39;49m\u001b[43m,\u001b[49m\u001b[43m \u001b[49m\u001b[43mdpi\u001b[49m\u001b[38;5;241;43m=\u001b[39;49m\u001b[38;5;241;43m300\u001b[39;49m\u001b[43m,\u001b[49m\u001b[43m \u001b[49m\u001b[43mbbox_inches\u001b[49m\u001b[38;5;241;43m=\u001b[39;49m\u001b[38;5;124;43m'\u001b[39;49m\u001b[38;5;124;43mtight\u001b[39;49m\u001b[38;5;124;43m'\u001b[39;49m\u001b[43m)\u001b[49m\n",
      "File \u001b[1;32m~\\anaconda3\\envs\\pg\\Lib\\site-packages\\matplotlib\\pyplot.py:1134\u001b[0m, in \u001b[0;36msavefig\u001b[1;34m(*args, **kwargs)\u001b[0m\n\u001b[0;32m   1131\u001b[0m fig \u001b[38;5;241m=\u001b[39m gcf()\n\u001b[0;32m   1132\u001b[0m \u001b[38;5;66;03m# savefig default implementation has no return, so mypy is unhappy\u001b[39;00m\n\u001b[0;32m   1133\u001b[0m \u001b[38;5;66;03m# presumably this is here because subclasses can return?\u001b[39;00m\n\u001b[1;32m-> 1134\u001b[0m res \u001b[38;5;241m=\u001b[39m \u001b[43mfig\u001b[49m\u001b[38;5;241;43m.\u001b[39;49m\u001b[43msavefig\u001b[49m\u001b[43m(\u001b[49m\u001b[38;5;241;43m*\u001b[39;49m\u001b[43margs\u001b[49m\u001b[43m,\u001b[49m\u001b[43m \u001b[49m\u001b[38;5;241;43m*\u001b[39;49m\u001b[38;5;241;43m*\u001b[39;49m\u001b[43mkwargs\u001b[49m\u001b[43m)\u001b[49m  \u001b[38;5;66;03m# type: ignore[func-returns-value]\u001b[39;00m\n\u001b[0;32m   1135\u001b[0m fig\u001b[38;5;241m.\u001b[39mcanvas\u001b[38;5;241m.\u001b[39mdraw_idle()  \u001b[38;5;66;03m# Need this if 'transparent=True', to reset colors.\u001b[39;00m\n\u001b[0;32m   1136\u001b[0m \u001b[38;5;28;01mreturn\u001b[39;00m res\n",
      "File \u001b[1;32m~\\anaconda3\\envs\\pg\\Lib\\site-packages\\matplotlib\\figure.py:3390\u001b[0m, in \u001b[0;36mFigure.savefig\u001b[1;34m(self, fname, transparent, **kwargs)\u001b[0m\n\u001b[0;32m   3388\u001b[0m     \u001b[38;5;28;01mfor\u001b[39;00m ax \u001b[38;5;129;01min\u001b[39;00m \u001b[38;5;28mself\u001b[39m\u001b[38;5;241m.\u001b[39maxes:\n\u001b[0;32m   3389\u001b[0m         _recursively_make_axes_transparent(stack, ax)\n\u001b[1;32m-> 3390\u001b[0m \u001b[38;5;28;43mself\u001b[39;49m\u001b[38;5;241;43m.\u001b[39;49m\u001b[43mcanvas\u001b[49m\u001b[38;5;241;43m.\u001b[39;49m\u001b[43mprint_figure\u001b[49m\u001b[43m(\u001b[49m\u001b[43mfname\u001b[49m\u001b[43m,\u001b[49m\u001b[43m \u001b[49m\u001b[38;5;241;43m*\u001b[39;49m\u001b[38;5;241;43m*\u001b[39;49m\u001b[43mkwargs\u001b[49m\u001b[43m)\u001b[49m\n",
      "File \u001b[1;32m~\\anaconda3\\envs\\pg\\Lib\\site-packages\\matplotlib\\backend_bases.py:2193\u001b[0m, in \u001b[0;36mFigureCanvasBase.print_figure\u001b[1;34m(self, filename, dpi, facecolor, edgecolor, orientation, format, bbox_inches, pad_inches, bbox_extra_artists, backend, **kwargs)\u001b[0m\n\u001b[0;32m   2189\u001b[0m \u001b[38;5;28;01mtry\u001b[39;00m:\n\u001b[0;32m   2190\u001b[0m     \u001b[38;5;66;03m# _get_renderer may change the figure dpi (as vector formats\u001b[39;00m\n\u001b[0;32m   2191\u001b[0m     \u001b[38;5;66;03m# force the figure dpi to 72), so we need to set it again here.\u001b[39;00m\n\u001b[0;32m   2192\u001b[0m     \u001b[38;5;28;01mwith\u001b[39;00m cbook\u001b[38;5;241m.\u001b[39m_setattr_cm(\u001b[38;5;28mself\u001b[39m\u001b[38;5;241m.\u001b[39mfigure, dpi\u001b[38;5;241m=\u001b[39mdpi):\n\u001b[1;32m-> 2193\u001b[0m         result \u001b[38;5;241m=\u001b[39m \u001b[43mprint_method\u001b[49m\u001b[43m(\u001b[49m\n\u001b[0;32m   2194\u001b[0m \u001b[43m            \u001b[49m\u001b[43mfilename\u001b[49m\u001b[43m,\u001b[49m\n\u001b[0;32m   2195\u001b[0m \u001b[43m            \u001b[49m\u001b[43mfacecolor\u001b[49m\u001b[38;5;241;43m=\u001b[39;49m\u001b[43mfacecolor\u001b[49m\u001b[43m,\u001b[49m\n\u001b[0;32m   2196\u001b[0m \u001b[43m            \u001b[49m\u001b[43medgecolor\u001b[49m\u001b[38;5;241;43m=\u001b[39;49m\u001b[43medgecolor\u001b[49m\u001b[43m,\u001b[49m\n\u001b[0;32m   2197\u001b[0m \u001b[43m            \u001b[49m\u001b[43morientation\u001b[49m\u001b[38;5;241;43m=\u001b[39;49m\u001b[43morientation\u001b[49m\u001b[43m,\u001b[49m\n\u001b[0;32m   2198\u001b[0m \u001b[43m            \u001b[49m\u001b[43mbbox_inches_restore\u001b[49m\u001b[38;5;241;43m=\u001b[39;49m\u001b[43m_bbox_inches_restore\u001b[49m\u001b[43m,\u001b[49m\n\u001b[0;32m   2199\u001b[0m \u001b[43m            \u001b[49m\u001b[38;5;241;43m*\u001b[39;49m\u001b[38;5;241;43m*\u001b[39;49m\u001b[43mkwargs\u001b[49m\u001b[43m)\u001b[49m\n\u001b[0;32m   2200\u001b[0m \u001b[38;5;28;01mfinally\u001b[39;00m:\n\u001b[0;32m   2201\u001b[0m     \u001b[38;5;28;01mif\u001b[39;00m bbox_inches \u001b[38;5;129;01mand\u001b[39;00m restore_bbox:\n",
      "File \u001b[1;32m~\\anaconda3\\envs\\pg\\Lib\\site-packages\\matplotlib\\backend_bases.py:2043\u001b[0m, in \u001b[0;36mFigureCanvasBase._switch_canvas_and_return_print_method.<locals>.<lambda>\u001b[1;34m(*args, **kwargs)\u001b[0m\n\u001b[0;32m   2039\u001b[0m     optional_kws \u001b[38;5;241m=\u001b[39m {  \u001b[38;5;66;03m# Passed by print_figure for other renderers.\u001b[39;00m\n\u001b[0;32m   2040\u001b[0m         \u001b[38;5;124m\"\u001b[39m\u001b[38;5;124mdpi\u001b[39m\u001b[38;5;124m\"\u001b[39m, \u001b[38;5;124m\"\u001b[39m\u001b[38;5;124mfacecolor\u001b[39m\u001b[38;5;124m\"\u001b[39m, \u001b[38;5;124m\"\u001b[39m\u001b[38;5;124medgecolor\u001b[39m\u001b[38;5;124m\"\u001b[39m, \u001b[38;5;124m\"\u001b[39m\u001b[38;5;124morientation\u001b[39m\u001b[38;5;124m\"\u001b[39m,\n\u001b[0;32m   2041\u001b[0m         \u001b[38;5;124m\"\u001b[39m\u001b[38;5;124mbbox_inches_restore\u001b[39m\u001b[38;5;124m\"\u001b[39m}\n\u001b[0;32m   2042\u001b[0m     skip \u001b[38;5;241m=\u001b[39m optional_kws \u001b[38;5;241m-\u001b[39m {\u001b[38;5;241m*\u001b[39minspect\u001b[38;5;241m.\u001b[39msignature(meth)\u001b[38;5;241m.\u001b[39mparameters}\n\u001b[1;32m-> 2043\u001b[0m     print_method \u001b[38;5;241m=\u001b[39m functools\u001b[38;5;241m.\u001b[39mwraps(meth)(\u001b[38;5;28;01mlambda\u001b[39;00m \u001b[38;5;241m*\u001b[39margs, \u001b[38;5;241m*\u001b[39m\u001b[38;5;241m*\u001b[39mkwargs: \u001b[43mmeth\u001b[49m\u001b[43m(\u001b[49m\n\u001b[0;32m   2044\u001b[0m \u001b[43m        \u001b[49m\u001b[38;5;241;43m*\u001b[39;49m\u001b[43margs\u001b[49m\u001b[43m,\u001b[49m\u001b[43m \u001b[49m\u001b[38;5;241;43m*\u001b[39;49m\u001b[38;5;241;43m*\u001b[39;49m\u001b[43m{\u001b[49m\u001b[43mk\u001b[49m\u001b[43m:\u001b[49m\u001b[43m \u001b[49m\u001b[43mv\u001b[49m\u001b[43m \u001b[49m\u001b[38;5;28;43;01mfor\u001b[39;49;00m\u001b[43m \u001b[49m\u001b[43mk\u001b[49m\u001b[43m,\u001b[49m\u001b[43m \u001b[49m\u001b[43mv\u001b[49m\u001b[43m \u001b[49m\u001b[38;5;129;43;01min\u001b[39;49;00m\u001b[43m \u001b[49m\u001b[43mkwargs\u001b[49m\u001b[38;5;241;43m.\u001b[39;49m\u001b[43mitems\u001b[49m\u001b[43m(\u001b[49m\u001b[43m)\u001b[49m\u001b[43m \u001b[49m\u001b[38;5;28;43;01mif\u001b[39;49;00m\u001b[43m \u001b[49m\u001b[43mk\u001b[49m\u001b[43m \u001b[49m\u001b[38;5;129;43;01mnot\u001b[39;49;00m\u001b[43m \u001b[49m\u001b[38;5;129;43;01min\u001b[39;49;00m\u001b[43m \u001b[49m\u001b[43mskip\u001b[49m\u001b[43m}\u001b[49m\u001b[43m)\u001b[49m)\n\u001b[0;32m   2045\u001b[0m \u001b[38;5;28;01melse\u001b[39;00m:  \u001b[38;5;66;03m# Let third-parties do as they see fit.\u001b[39;00m\n\u001b[0;32m   2046\u001b[0m     print_method \u001b[38;5;241m=\u001b[39m meth\n",
      "File \u001b[1;32m~\\anaconda3\\envs\\pg\\Lib\\site-packages\\matplotlib\\backends\\backend_agg.py:519\u001b[0m, in \u001b[0;36mFigureCanvasAgg.print_tif\u001b[1;34m(self, filename_or_obj, metadata, pil_kwargs)\u001b[0m\n\u001b[0;32m    518\u001b[0m \u001b[38;5;28;01mdef\u001b[39;00m \u001b[38;5;21mprint_tif\u001b[39m(\u001b[38;5;28mself\u001b[39m, filename_or_obj, \u001b[38;5;241m*\u001b[39m, metadata\u001b[38;5;241m=\u001b[39m\u001b[38;5;28;01mNone\u001b[39;00m, pil_kwargs\u001b[38;5;241m=\u001b[39m\u001b[38;5;28;01mNone\u001b[39;00m):\n\u001b[1;32m--> 519\u001b[0m     \u001b[38;5;28;43mself\u001b[39;49m\u001b[38;5;241;43m.\u001b[39;49m\u001b[43m_print_pil\u001b[49m\u001b[43m(\u001b[49m\u001b[43mfilename_or_obj\u001b[49m\u001b[43m,\u001b[49m\u001b[43m \u001b[49m\u001b[38;5;124;43m\"\u001b[39;49m\u001b[38;5;124;43mtiff\u001b[39;49m\u001b[38;5;124;43m\"\u001b[39;49m\u001b[43m,\u001b[49m\u001b[43m \u001b[49m\u001b[43mpil_kwargs\u001b[49m\u001b[43m,\u001b[49m\u001b[43m \u001b[49m\u001b[43mmetadata\u001b[49m\u001b[43m)\u001b[49m\n",
      "File \u001b[1;32m~\\anaconda3\\envs\\pg\\Lib\\site-packages\\matplotlib\\backends\\backend_agg.py:446\u001b[0m, in \u001b[0;36mFigureCanvasAgg._print_pil\u001b[1;34m(self, filename_or_obj, fmt, pil_kwargs, metadata)\u001b[0m\n\u001b[0;32m    441\u001b[0m \u001b[38;5;250m\u001b[39m\u001b[38;5;124;03m\"\"\"\u001b[39;00m\n\u001b[0;32m    442\u001b[0m \u001b[38;5;124;03mDraw the canvas, then save it using `.image.imsave` (to which\u001b[39;00m\n\u001b[0;32m    443\u001b[0m \u001b[38;5;124;03m*pil_kwargs* and *metadata* are forwarded).\u001b[39;00m\n\u001b[0;32m    444\u001b[0m \u001b[38;5;124;03m\"\"\"\u001b[39;00m\n\u001b[0;32m    445\u001b[0m FigureCanvasAgg\u001b[38;5;241m.\u001b[39mdraw(\u001b[38;5;28mself\u001b[39m)\n\u001b[1;32m--> 446\u001b[0m \u001b[43mmpl\u001b[49m\u001b[38;5;241;43m.\u001b[39;49m\u001b[43mimage\u001b[49m\u001b[38;5;241;43m.\u001b[39;49m\u001b[43mimsave\u001b[49m\u001b[43m(\u001b[49m\n\u001b[0;32m    447\u001b[0m \u001b[43m    \u001b[49m\u001b[43mfilename_or_obj\u001b[49m\u001b[43m,\u001b[49m\u001b[43m \u001b[49m\u001b[38;5;28;43mself\u001b[39;49m\u001b[38;5;241;43m.\u001b[39;49m\u001b[43mbuffer_rgba\u001b[49m\u001b[43m(\u001b[49m\u001b[43m)\u001b[49m\u001b[43m,\u001b[49m\u001b[43m \u001b[49m\u001b[38;5;28;43mformat\u001b[39;49m\u001b[38;5;241;43m=\u001b[39;49m\u001b[43mfmt\u001b[49m\u001b[43m,\u001b[49m\u001b[43m \u001b[49m\u001b[43morigin\u001b[49m\u001b[38;5;241;43m=\u001b[39;49m\u001b[38;5;124;43m\"\u001b[39;49m\u001b[38;5;124;43mupper\u001b[39;49m\u001b[38;5;124;43m\"\u001b[39;49m\u001b[43m,\u001b[49m\n\u001b[0;32m    448\u001b[0m \u001b[43m    \u001b[49m\u001b[43mdpi\u001b[49m\u001b[38;5;241;43m=\u001b[39;49m\u001b[38;5;28;43mself\u001b[39;49m\u001b[38;5;241;43m.\u001b[39;49m\u001b[43mfigure\u001b[49m\u001b[38;5;241;43m.\u001b[39;49m\u001b[43mdpi\u001b[49m\u001b[43m,\u001b[49m\u001b[43m \u001b[49m\u001b[43mmetadata\u001b[49m\u001b[38;5;241;43m=\u001b[39;49m\u001b[43mmetadata\u001b[49m\u001b[43m,\u001b[49m\u001b[43m \u001b[49m\u001b[43mpil_kwargs\u001b[49m\u001b[38;5;241;43m=\u001b[39;49m\u001b[43mpil_kwargs\u001b[49m\u001b[43m)\u001b[49m\n",
      "File \u001b[1;32m~\\anaconda3\\envs\\pg\\Lib\\site-packages\\matplotlib\\image.py:1656\u001b[0m, in \u001b[0;36mimsave\u001b[1;34m(fname, arr, vmin, vmax, cmap, format, origin, dpi, metadata, pil_kwargs)\u001b[0m\n\u001b[0;32m   1654\u001b[0m pil_kwargs\u001b[38;5;241m.\u001b[39msetdefault(\u001b[38;5;124m\"\u001b[39m\u001b[38;5;124mformat\u001b[39m\u001b[38;5;124m\"\u001b[39m, \u001b[38;5;28mformat\u001b[39m)\n\u001b[0;32m   1655\u001b[0m pil_kwargs\u001b[38;5;241m.\u001b[39msetdefault(\u001b[38;5;124m\"\u001b[39m\u001b[38;5;124mdpi\u001b[39m\u001b[38;5;124m\"\u001b[39m, (dpi, dpi))\n\u001b[1;32m-> 1656\u001b[0m \u001b[43mimage\u001b[49m\u001b[38;5;241;43m.\u001b[39;49m\u001b[43msave\u001b[49m\u001b[43m(\u001b[49m\u001b[43mfname\u001b[49m\u001b[43m,\u001b[49m\u001b[43m \u001b[49m\u001b[38;5;241;43m*\u001b[39;49m\u001b[38;5;241;43m*\u001b[39;49m\u001b[43mpil_kwargs\u001b[49m\u001b[43m)\u001b[49m\n",
      "File \u001b[1;32m~\\anaconda3\\envs\\pg\\Lib\\site-packages\\PIL\\Image.py:2456\u001b[0m, in \u001b[0;36mImage.save\u001b[1;34m(self, fp, format, **params)\u001b[0m\n\u001b[0;32m   2454\u001b[0m         fp \u001b[38;5;241m=\u001b[39m builtins\u001b[38;5;241m.\u001b[39mopen(filename, \u001b[38;5;124m\"\u001b[39m\u001b[38;5;124mr+b\u001b[39m\u001b[38;5;124m\"\u001b[39m)\n\u001b[0;32m   2455\u001b[0m     \u001b[38;5;28;01melse\u001b[39;00m:\n\u001b[1;32m-> 2456\u001b[0m         fp \u001b[38;5;241m=\u001b[39m \u001b[43mbuiltins\u001b[49m\u001b[38;5;241;43m.\u001b[39;49m\u001b[43mopen\u001b[49m\u001b[43m(\u001b[49m\u001b[43mfilename\u001b[49m\u001b[43m,\u001b[49m\u001b[43m \u001b[49m\u001b[38;5;124;43m\"\u001b[39;49m\u001b[38;5;124;43mw+b\u001b[39;49m\u001b[38;5;124;43m\"\u001b[39;49m\u001b[43m)\u001b[49m\n\u001b[0;32m   2458\u001b[0m \u001b[38;5;28;01mtry\u001b[39;00m:\n\u001b[0;32m   2459\u001b[0m     save_handler(\u001b[38;5;28mself\u001b[39m, fp, filename)\n",
      "\u001b[1;31mFileNotFoundError\u001b[0m: [Errno 2] No such file or directory: 'C:\\\\Users\\\\HChen8\\\\Documents\\\\GitHub\\\\PyHydroGeophysX\\\\docs\\\\source\\\\auto_examples\\\\results\\\\Structure_WC\\\\timelapse_sat.tiff'"
     ]
    },
    {
     "data": {
      "text/plain": [
       "<Figure size 640x480 with 0 Axes>"
      ]
     },
     "metadata": {},
     "output_type": "display_data"
    }
   ],
   "source": [
    "from palettable.lightbartlein.diverging import BlueDarkRed18_18_r\n",
    "import matplotlib.pyplot as plt\n",
    "import numpy as np\n",
    "import matplotlib.pylab as pylab\n",
    "params = {'legend.fontsize': 13,\n",
    "          #'figure.figsize': (15, 5),\n",
    "         'axes.labelsize': 13,\n",
    "         'axes.titlesize':13,\n",
    "         'xtick.labelsize':13,\n",
    "         'ytick.labelsize':13}\n",
    "\n",
    "pylab.rcParams.update(params)\n",
    "plt.rcParams[\"font.family\"] = \"Arial\"\n",
    "\n",
    "fixed_cmap = BlueDarkRed18_18_r.mpl_colormap\n",
    "fig = plt.figure(figsize=[16, 6])\n",
    "\n",
    "# Use tight_layout with adjusted parameters to reduce space\n",
    "plt.subplots_adjust(wspace=0.05, hspace=0.05)\n",
    "\n",
    "# True resistivity model\n",
    "for i in range(12):\n",
    "    row, col = i // 4, i % 4\n",
    "    ax = fig.add_subplot(3, 4, i+1)\n",
    "    \n",
    "    # Add common ylabel only to leftmost panels\n",
    "    ylabel = \"Elevation (m)\" if col == 0 else None\n",
    "    \n",
    "    # Add resistivity label only to the middle-right panel (row 1, col 3)\n",
    "    resistivity_label = ' Resistivity ($\\Omega$ m)' if (i == 7) else None\n",
    "    \n",
    "    # Only show axis ticks on leftmost and bottom panels\n",
    "    if col != 0:\n",
    "        ax.set_yticks([])\n",
    "    \n",
    "    if row != 2:  # Not bottom row\n",
    "        ax.set_xticks([])\n",
    "    else:\n",
    "        # Add \"distance (m)\" label to bottom row panels\n",
    "        ax.set_xlabel(\"Distance (m)\")\n",
    "    \n",
    "    # Create the plot\n",
    "    ax, cbar = pg.show(mesh,\n",
    "                      water_content_mean[:, i],\n",
    "                      pad=0.3,\n",
    "                      orientation=\"vertical\",\n",
    "                      cMap=fixed_cmap,\n",
    "                      cMin=0,\n",
    "                      cMax=0.32,\n",
    "                      ylabel=ylabel,\n",
    "                      label= 'Water Content (-)',\n",
    "                      ax=ax,\n",
    "                      logScale=False,\n",
    "                      coverage=coverage[i,:]>-1.2)\n",
    "    \n",
    "    # Only keep colorbar for the middle-right panel (row 1, col 3)\n",
    "    # This corresponds to panel index 7 in a 0-based indexing system\n",
    "    if i != 7:  # Keep only the colorbar for panel 7\n",
    "        cbar.remove()\n",
    "\n",
    "plt.tight_layout()\n",
    "plt.savefig(\"results/Structure_WC/timelapse_sat.tiff\", dpi=300, bbox_inches='tight')"
   ]
  },
  {
   "cell_type": "code",
   "execution_count": 4,
   "metadata": {
    "collapsed": false,
    "execution": {
     "iopub.execute_input": "2025-05-22T06:00:14.334225Z",
     "iopub.status.busy": "2025-05-22T06:00:14.334225Z",
     "iopub.status.idle": "2025-05-22T06:00:14.413002Z",
     "shell.execute_reply": "2025-05-22T06:00:14.413002Z"
    }
   },
   "outputs": [
    {
     "ename": "FileNotFoundError",
     "evalue": "[Errno 2] No such file or directory: 'results/TL_measurements/synwcmodel/synwcmodel30.npy'",
     "output_type": "error",
     "traceback": [
      "\u001b[1;31m---------------------------------------------------------------------------\u001b[0m",
      "\u001b[1;31mFileNotFoundError\u001b[0m                         Traceback (most recent call last)",
      "Cell \u001b[1;32mIn[4], line 5\u001b[0m\n\u001b[0;32m      1\u001b[0m WC_true \u001b[38;5;241m=\u001b[39m []\n\u001b[0;32m      3\u001b[0m \u001b[38;5;28;01mfor\u001b[39;00m i \u001b[38;5;129;01min\u001b[39;00m np\u001b[38;5;241m.\u001b[39marange(\u001b[38;5;241m30\u001b[39m,\u001b[38;5;241m361\u001b[39m,\u001b[38;5;241m30\u001b[39m):\n\u001b[0;32m      4\u001b[0m     \u001b[38;5;66;03m# Extract true water content values for the current timestep\u001b[39;00m\n\u001b[1;32m----> 5\u001b[0m     true_values \u001b[38;5;241m=\u001b[39m \u001b[43mnp\u001b[49m\u001b[38;5;241;43m.\u001b[39;49m\u001b[43mload\u001b[49m\u001b[43m(\u001b[49m\u001b[38;5;124;43m\"\u001b[39;49m\u001b[38;5;124;43mresults/TL_measurements/synwcmodel/synwcmodel\u001b[39;49m\u001b[38;5;124;43m\"\u001b[39;49m\u001b[38;5;241;43m+\u001b[39;49m\u001b[38;5;28;43mstr\u001b[39;49m\u001b[43m(\u001b[49m\u001b[43mi\u001b[49m\u001b[43m)\u001b[49m\u001b[38;5;241;43m+\u001b[39;49m\u001b[38;5;124;43m\"\u001b[39;49m\u001b[38;5;124;43m.npy\u001b[39;49m\u001b[38;5;124;43m\"\u001b[39;49m\u001b[43m)\u001b[49m\n\u001b[0;32m      7\u001b[0m     \u001b[38;5;66;03m# Store the true values for this timestep\u001b[39;00m\n\u001b[0;32m      8\u001b[0m     WC_true\u001b[38;5;241m.\u001b[39mappend(true_values)\n",
      "File \u001b[1;32m~\\anaconda3\\envs\\pg\\Lib\\site-packages\\numpy\\lib\\npyio.py:427\u001b[0m, in \u001b[0;36mload\u001b[1;34m(file, mmap_mode, allow_pickle, fix_imports, encoding, max_header_size)\u001b[0m\n\u001b[0;32m    425\u001b[0m     own_fid \u001b[38;5;241m=\u001b[39m \u001b[38;5;28;01mFalse\u001b[39;00m\n\u001b[0;32m    426\u001b[0m \u001b[38;5;28;01melse\u001b[39;00m:\n\u001b[1;32m--> 427\u001b[0m     fid \u001b[38;5;241m=\u001b[39m stack\u001b[38;5;241m.\u001b[39menter_context(\u001b[38;5;28;43mopen\u001b[39;49m\u001b[43m(\u001b[49m\u001b[43mos_fspath\u001b[49m\u001b[43m(\u001b[49m\u001b[43mfile\u001b[49m\u001b[43m)\u001b[49m\u001b[43m,\u001b[49m\u001b[43m \u001b[49m\u001b[38;5;124;43m\"\u001b[39;49m\u001b[38;5;124;43mrb\u001b[39;49m\u001b[38;5;124;43m\"\u001b[39;49m\u001b[43m)\u001b[49m)\n\u001b[0;32m    428\u001b[0m     own_fid \u001b[38;5;241m=\u001b[39m \u001b[38;5;28;01mTrue\u001b[39;00m\n\u001b[0;32m    430\u001b[0m \u001b[38;5;66;03m# Code to distinguish from NumPy binary files and pickles.\u001b[39;00m\n",
      "\u001b[1;31mFileNotFoundError\u001b[0m: [Errno 2] No such file or directory: 'results/TL_measurements/synwcmodel/synwcmodel30.npy'"
     ]
    }
   ],
   "source": [
    "WC_true = []\n",
    "\n",
    "for i in np.arange(30,361,30):\n",
    "    # Extract true water content values for the current timestep\n",
    "    true_values = np.load(\"results/TL_measurements/synwcmodel/synwcmodel\"+str(i)+\".npy\")\n",
    "      \n",
    "    # Store the true values for this timestep\n",
    "    WC_true.append(true_values)\n",
    "mesh_true = pg.load(\"results/TL_measurements/mesh.bms\")\n",
    "WC_true = np.array(WC_true)\n",
    "print(WC_true.shape)"
   ]
  },
  {
   "cell_type": "code",
   "execution_count": 5,
   "metadata": {
    "collapsed": false,
    "execution": {
     "iopub.execute_input": "2025-05-22T06:00:14.415645Z",
     "iopub.status.busy": "2025-05-22T06:00:14.415140Z",
     "iopub.status.idle": "2025-05-22T06:00:14.857343Z",
     "shell.execute_reply": "2025-05-22T06:00:14.856836Z"
    }
   },
   "outputs": [
    {
     "data": {
      "text/plain": [
       "[<matplotlib.lines.Line2D at 0x28f24e21390>]"
      ]
     },
     "execution_count": 5,
     "metadata": {},
     "output_type": "execute_result"
    },
    {
     "data": {
      "image/png": "[encoded data removed]",
      "text/plain": [
       "<Figure size 600x300 with 2 Axes>"
      ]
     },
     "metadata": {},
     "output_type": "display_data"
    }
   ],
   "source": [
    "fig = plt.figure(figsize=[6, 3])\n",
    "ax = fig.add_subplot(1, 1, 1)\n",
    "ax, cbar = pg.show(mesh,\n",
    "                water_content_mean[:, 6],\n",
    "                pad=0.3,\n",
    "                orientation=\"vertical\",\n",
    "                cMap=fixed_cmap,\n",
    "                cMin=0,\n",
    "                cMax=0.32,\n",
    "                ylabel=ylabel,\n",
    "                label= 'Water Content (-)',\n",
    "                ax=ax,\n",
    "                logScale=False,\n",
    "                coverage=coverage[6,:]>-1.2)\n",
    "\n",
    "ax.plot([40],[1607],'*')\n",
    "ax.plot([80],[1621],'*')\n",
    "\n",
    "ax.plot([30],[1604],'*')\n",
    "ax.plot([65],[1608],'*')"
   ]
  },
  {
   "cell_type": "markdown",
   "metadata": {},
   "source": [
    "Modified function to extract time series based on x AND y positions\n",
    "\n"
   ]
  },
  {
   "cell_type": "code",
   "execution_count": 6,
   "metadata": {
    "collapsed": false,
    "execution": {
     "iopub.execute_input": "2025-05-22T06:00:14.859876Z",
     "iopub.status.busy": "2025-05-22T06:00:14.859876Z",
     "iopub.status.idle": "2025-05-22T06:00:14.867960Z",
     "shell.execute_reply": "2025-05-22T06:00:14.867438Z"
    }
   },
   "outputs": [],
   "source": [
    "def extract_mc_time_series(mesh, values_all, positions):\n",
    "    \"\"\"\n",
    "    Extract Monte Carlo time series at specific x,y positions\n",
    "    \n",
    "    Args:\n",
    "        mesh: PyGIMLI mesh\n",
    "        values_all: Array of all Monte Carlo realizations (n_realizations, n_cells, n_timesteps)\n",
    "        positions: List of (x,y) coordinate tuples\n",
    "        \n",
    "    Returns:\n",
    "        time_series: Array of shape (n_positions, n_realizations, n_timesteps)\n",
    "        cell_indices: List of cell indices corresponding to the positions\n",
    "    \"\"\"\n",
    "    n_realizations = values_all.shape[0]\n",
    "    n_timesteps = values_all.shape[2]\n",
    "    \n",
    "    # Find indices of cells closest to specified positions\n",
    "    cell_indices = []\n",
    "    for x_pos, y_pos in positions:\n",
    "        # Calculate distance from each cell center to the position\n",
    "        cell_centers = np.array(mesh.cellCenters())\n",
    "        distances = np.sqrt((cell_centers[:, 0] - x_pos)**2 + (cell_centers[:, 1] - y_pos)**2)\n",
    "        cell_idx = np.argmin(distances)\n",
    "        cell_indices.append(cell_idx)\n",
    "    \n",
    "    # Extract time series for each realization and position\n",
    "    time_series = np.zeros((len(positions), n_realizations, n_timesteps))\n",
    "    \n",
    "    for pos_idx, cell_idx in enumerate(cell_indices):\n",
    "        for mc_idx in range(n_realizations):\n",
    "            time_series[pos_idx, mc_idx, :] = values_all[mc_idx, cell_idx, :]\n",
    "    \n",
    "    return time_series, cell_indices\n",
    "\n",
    "\n",
    "def extract_true_values_at_positions(mesh, true_values, positions):\n",
    "    \"\"\"\n",
    "    Extract true water content values at specific x,y positions.\n",
    "    \n",
    "    Args:\n",
    "        mesh: PyGIMLI mesh\n",
    "        true_values: Array of true water content values (n_cells, n_timesteps) or (n_cells,)\n",
    "        positions: List of (x,y) coordinate tuples\n",
    "        \n",
    "    Returns:\n",
    "        true_values_at_positions: Values at each position\n",
    "        cell_indices: List of cell indices corresponding to the positions\n",
    "    \"\"\"\n",
    "    # Find indices of cells closest to specified positions\n",
    "    cell_indices = []\n",
    "    for x_pos, y_pos in positions:\n",
    "        # Calculate distance from each cell center to the position\n",
    "        cell_centers = np.array(mesh.cellCenters())\n",
    "        distances = np.sqrt((cell_centers[:, 0] - x_pos)**2 + (cell_centers[:, 1] - y_pos)**2)\n",
    "        cell_idx = np.argmin(distances)\n",
    "        cell_indices.append(cell_idx)\n",
    "    \n",
    "    # Extract true values at the specified positions\n",
    "    if true_values.ndim == 1:  # Single value per cell\n",
    "        true_values_at_positions = true_values[cell_indices]\n",
    "    elif true_values.ndim == 2:  # Time series per cell\n",
    "        true_values_at_positions = true_values[cell_indices, :]\n",
    "    else:\n",
    "        raise ValueError(\"Unexpected shape for true_values\")\n",
    "    \n",
    "    return true_values_at_positions, cell_indices"
   ]
  },
  {
   "cell_type": "code",
   "execution_count": 7,
   "metadata": {
    "collapsed": false,
    "execution": {
     "iopub.execute_input": "2025-05-22T06:00:14.869977Z",
     "iopub.status.busy": "2025-05-22T06:00:14.869977Z",
     "iopub.status.idle": "2025-05-22T06:00:14.888246Z",
     "shell.execute_reply": "2025-05-22T06:00:14.887728Z"
    }
   },
   "outputs": [
    {
     "ename": "NameError",
     "evalue": "name 'mesh_true' is not defined",
     "output_type": "error",
     "traceback": [
      "\u001b[1;31m---------------------------------------------------------------------------\u001b[0m",
      "\u001b[1;31mNameError\u001b[0m                                 Traceback (most recent call last)",
      "Cell \u001b[1;32mIn[7], line 9\u001b[0m\n\u001b[0;32m      7\u001b[0m \u001b[38;5;66;03m# Extract time series data for these positions\u001b[39;00m\n\u001b[0;32m      8\u001b[0m time_series_data, cell_indices \u001b[38;5;241m=\u001b[39m extract_mc_time_series(mesh, water_content_all, positions)\n\u001b[1;32m----> 9\u001b[0m Pos1_true, _ \u001b[38;5;241m=\u001b[39m extract_true_values_at_positions(\u001b[43mmesh_true\u001b[49m, WC_true\u001b[38;5;241m.\u001b[39mT, positions)\n\u001b[0;32m     10\u001b[0m Pos1_true\n",
      "\u001b[1;31mNameError\u001b[0m: name 'mesh_true' is not defined"
     ]
    }
   ],
   "source": [
    "# Define positions to sample (x,y coordinates)\n",
    "positions = [\n",
    "    (80, 1621),  # Example coordinates, adjust based on your model\n",
    "    (40, 1607),\n",
    "]\n",
    "\n",
    "# Extract time series data for these positions\n",
    "time_series_data, cell_indices = extract_mc_time_series(mesh, water_content_all, positions)\n",
    "Pos1_true, _ = extract_true_values_at_positions(mesh_true, WC_true.T, positions)\n",
    "Pos1_true"
   ]
  },
  {
   "cell_type": "markdown",
   "metadata": {},
   "source": [
    "Plot time series with uncertainty bands\n",
    "\n"
   ]
  },
  {
   "cell_type": "code",
   "execution_count": 8,
   "metadata": {
    "collapsed": false,
    "execution": {
     "iopub.execute_input": "2025-05-22T06:00:14.890267Z",
     "iopub.status.busy": "2025-05-22T06:00:14.889762Z",
     "iopub.status.idle": "2025-05-22T06:00:14.979587Z",
     "shell.execute_reply": "2025-05-22T06:00:14.979077Z"
    }
   },
   "outputs": [
    {
     "ename": "NameError",
     "evalue": "name 'Pos1_true' is not defined",
     "output_type": "error",
     "traceback": [
      "\u001b[1;31m---------------------------------------------------------------------------\u001b[0m",
      "\u001b[1;31mNameError\u001b[0m                                 Traceback (most recent call last)",
      "Cell \u001b[1;32mIn[8], line 13\u001b[0m\n\u001b[0;32m     11\u001b[0m plt\u001b[38;5;241m.\u001b[39mplot(measurement_times, mean_ts, \u001b[38;5;124m'\u001b[39m\u001b[38;5;124mo-\u001b[39m\u001b[38;5;124m'\u001b[39m, color\u001b[38;5;241m=\u001b[39m\u001b[38;5;124m'\u001b[39m\u001b[38;5;124mtab:blue\u001b[39m\u001b[38;5;124m'\u001b[39m, label\u001b[38;5;241m=\u001b[39m\u001b[38;5;124m'\u001b[39m\u001b[38;5;124mEstimated\u001b[39m\u001b[38;5;124m'\u001b[39m)\n\u001b[0;32m     12\u001b[0m plt\u001b[38;5;241m.\u001b[39mfill_between(measurement_times, mean_ts\u001b[38;5;241m-\u001b[39mstd_ts, mean_ts\u001b[38;5;241m+\u001b[39mstd_ts, color\u001b[38;5;241m=\u001b[39m\u001b[38;5;124m'\u001b[39m\u001b[38;5;124mtab:blue\u001b[39m\u001b[38;5;124m'\u001b[39m, alpha\u001b[38;5;241m=\u001b[39m\u001b[38;5;241m0.2\u001b[39m)\n\u001b[1;32m---> 13\u001b[0m plt\u001b[38;5;241m.\u001b[39mplot(measurement_times,\u001b[43mPos1_true\u001b[49m[\u001b[38;5;241m0\u001b[39m, :], \u001b[38;5;124m'\u001b[39m\u001b[38;5;124mtab:blue\u001b[39m\u001b[38;5;124m'\u001b[39m,ls\u001b[38;5;241m=\u001b[39m\u001b[38;5;124m'\u001b[39m\u001b[38;5;124m--\u001b[39m\u001b[38;5;124m'\u001b[39m, label\u001b[38;5;241m=\u001b[39m\u001b[38;5;124m'\u001b[39m\u001b[38;5;124mTrue\u001b[39m\u001b[38;5;124m'\u001b[39m)\n\u001b[0;32m     14\u001b[0m plt\u001b[38;5;241m.\u001b[39mgrid(\u001b[38;5;28;01mTrue\u001b[39;00m)\n\u001b[0;32m     15\u001b[0m plt\u001b[38;5;241m.\u001b[39mlegend(frameon\u001b[38;5;241m=\u001b[39m\u001b[38;5;28;01mFalse\u001b[39;00m)\n",
      "\u001b[1;31mNameError\u001b[0m: name 'Pos1_true' is not defined"
     ]
    },
    {
     "data": {
      "image/png": "[encoded data removed]",
      "text/plain": [
       "<Figure size 1200x300 with 1 Axes>"
      ]
     },
     "metadata": {},
     "output_type": "display_data"
    }
   ],
   "source": [
    "plt.figure(figsize=(12, 3))\n",
    "\n",
    "measurement_times = np.arange(30,361,30)  # Assuming sequential timesteps\n",
    "\n",
    "\n",
    "# Calculate statistics\n",
    "mean_ts = np.mean(time_series_data[0], axis=0)\n",
    "std_ts = np.std(time_series_data[0], axis=0)\n",
    "\n",
    "plt.subplot(1, 2, 1)\n",
    "plt.plot(measurement_times, mean_ts, 'o-', color='tab:blue', label='Estimated')\n",
    "plt.fill_between(measurement_times, mean_ts-std_ts, mean_ts+std_ts, color='tab:blue', alpha=0.2)\n",
    "plt.plot(measurement_times,Pos1_true[0, :], 'tab:blue',ls='--', label='True')\n",
    "plt.grid(True)\n",
    "plt.legend(frameon=False)\n",
    "plt.xlabel('Time (Days)')\n",
    "plt.ylabel('Water Content (-)')\n",
    "plt.ylim(0, 0.35)\n",
    "plt.subplot(1, 2, 2)\n",
    "mean_ts = np.mean(time_series_data[1], axis=0)\n",
    "std_ts = np.std(time_series_data[1], axis=0)\n",
    "plt.plot(measurement_times, mean_ts, 'o-', color='tab:blue',)\n",
    "plt.fill_between(measurement_times, mean_ts-std_ts, mean_ts+std_ts, color='tab:blue', alpha=0.2)\n",
    "plt.plot(measurement_times,Pos1_true[1, :], 'tab:blue',ls='--')\n",
    "plt.xlabel('Time (Days)')\n",
    "plt.ylabel('Water Content (-)')\n",
    "plt.ylim(0, 0.35)\n",
    "# plt.legend()\n",
    "plt.grid(True)\n",
    "plt.tight_layout()\n",
    "plt.savefig(\"results/Structure_WC/regolith_WC.tiff\", dpi=300, bbox_inches='tight')"
   ]
  },
  {
   "cell_type": "markdown",
   "metadata": {},
   "source": [
    "Fractured bedrock layer\n",
    "\n"
   ]
  },
  {
   "cell_type": "code",
   "execution_count": 9,
   "metadata": {
    "collapsed": false,
    "execution": {
     "iopub.execute_input": "2025-05-22T06:00:14.982121Z",
     "iopub.status.busy": "2025-05-22T06:00:14.982121Z",
     "iopub.status.idle": "2025-05-22T06:00:15.004457Z",
     "shell.execute_reply": "2025-05-22T06:00:15.003807Z"
    }
   },
   "outputs": [
    {
     "ename": "NameError",
     "evalue": "name 'mesh_true' is not defined",
     "output_type": "error",
     "traceback": [
      "\u001b[1;31m---------------------------------------------------------------------------\u001b[0m",
      "\u001b[1;31mNameError\u001b[0m                                 Traceback (most recent call last)",
      "Cell \u001b[1;32mIn[9], line 9\u001b[0m\n\u001b[0;32m      7\u001b[0m \u001b[38;5;66;03m# Extract time series data for these positions\u001b[39;00m\n\u001b[0;32m      8\u001b[0m time_series_data2, cell_indices \u001b[38;5;241m=\u001b[39m extract_mc_time_series(mesh, water_content_all, positions)\n\u001b[1;32m----> 9\u001b[0m Pos2_true, _ \u001b[38;5;241m=\u001b[39m extract_true_values_at_positions(\u001b[43mmesh_true\u001b[49m, WC_true\u001b[38;5;241m.\u001b[39mT, positions)\n\u001b[0;32m     10\u001b[0m Pos2_true\n",
      "\u001b[1;31mNameError\u001b[0m: name 'mesh_true' is not defined"
     ]
    }
   ],
   "source": [
    "# Define positions to sample (x,y coordinates)\n",
    "positions = [\n",
    "    (30, 1604),  # Example coordinates, adjust based on your model\n",
    "    (65, 1608),\n",
    "]\n",
    "\n",
    "# Extract time series data for these positions\n",
    "time_series_data2, cell_indices = extract_mc_time_series(mesh, water_content_all, positions)\n",
    "Pos2_true, _ = extract_true_values_at_positions(mesh_true, WC_true.T, positions)\n",
    "Pos2_true"
   ]
  },
  {
   "cell_type": "markdown",
   "metadata": {},
   "source": [
    "Plot time series with uncertainty bands\n",
    "\n"
   ]
  },
  {
   "cell_type": "code",
   "execution_count": 10,
   "metadata": {
    "collapsed": false,
    "execution": {
     "iopub.execute_input": "2025-05-22T06:00:15.008197Z",
     "iopub.status.busy": "2025-05-22T06:00:15.007185Z",
     "iopub.status.idle": "2025-05-22T06:00:15.093081Z",
     "shell.execute_reply": "2025-05-22T06:00:15.092566Z"
    }
   },
   "outputs": [
    {
     "ename": "NameError",
     "evalue": "name 'Pos2_true' is not defined",
     "output_type": "error",
     "traceback": [
      "\u001b[1;31m---------------------------------------------------------------------------\u001b[0m",
      "\u001b[1;31mNameError\u001b[0m                                 Traceback (most recent call last)",
      "Cell \u001b[1;32mIn[10], line 13\u001b[0m\n\u001b[0;32m     11\u001b[0m plt\u001b[38;5;241m.\u001b[39mplot(measurement_times, mean_ts, \u001b[38;5;124m'\u001b[39m\u001b[38;5;124mo-\u001b[39m\u001b[38;5;124m'\u001b[39m, color\u001b[38;5;241m=\u001b[39m\u001b[38;5;124m'\u001b[39m\u001b[38;5;124mtab:brown\u001b[39m\u001b[38;5;124m'\u001b[39m, label\u001b[38;5;241m=\u001b[39m\u001b[38;5;124m'\u001b[39m\u001b[38;5;124mEstimated\u001b[39m\u001b[38;5;124m'\u001b[39m)\n\u001b[0;32m     12\u001b[0m plt\u001b[38;5;241m.\u001b[39mfill_between(measurement_times, mean_ts\u001b[38;5;241m-\u001b[39mstd_ts, mean_ts\u001b[38;5;241m+\u001b[39mstd_ts, color\u001b[38;5;241m=\u001b[39m\u001b[38;5;124m'\u001b[39m\u001b[38;5;124mtab:brown\u001b[39m\u001b[38;5;124m'\u001b[39m, alpha\u001b[38;5;241m=\u001b[39m\u001b[38;5;241m0.2\u001b[39m)\n\u001b[1;32m---> 13\u001b[0m plt\u001b[38;5;241m.\u001b[39mplot(measurement_times,\u001b[43mPos2_true\u001b[49m[\u001b[38;5;241m0\u001b[39m, :], \u001b[38;5;124m'\u001b[39m\u001b[38;5;124mtab:brown\u001b[39m\u001b[38;5;124m'\u001b[39m,ls\u001b[38;5;241m=\u001b[39m\u001b[38;5;124m'\u001b[39m\u001b[38;5;124m--\u001b[39m\u001b[38;5;124m'\u001b[39m, label\u001b[38;5;241m=\u001b[39m\u001b[38;5;124m'\u001b[39m\u001b[38;5;124mTrue\u001b[39m\u001b[38;5;124m'\u001b[39m)\n\u001b[0;32m     14\u001b[0m plt\u001b[38;5;241m.\u001b[39mgrid(\u001b[38;5;28;01mTrue\u001b[39;00m)\n\u001b[0;32m     15\u001b[0m \u001b[38;5;66;03m#plt.legend(frameon=False)\u001b[39;00m\n",
      "\u001b[1;31mNameError\u001b[0m: name 'Pos2_true' is not defined"
     ]
    },
    {
     "data": {
      "image/png": "[encoded data removed]",
      "text/plain": [
       "<Figure size 1200x300 with 1 Axes>"
      ]
     },
     "metadata": {},
     "output_type": "display_data"
    }
   ],
   "source": [
    "plt.figure(figsize=(12, 3))\n",
    "\n",
    "measurement_times = np.arange(30,361,30)  # Assuming sequential timesteps\n",
    "\n",
    "\n",
    "# Calculate statistics\n",
    "mean_ts = np.mean(time_series_data2[0], axis=0)\n",
    "std_ts = np.std(time_series_data2[0], axis=0)\n",
    "\n",
    "plt.subplot(1, 2, 1)\n",
    "plt.plot(measurement_times, mean_ts, 'o-', color='tab:brown', label='Estimated')\n",
    "plt.fill_between(measurement_times, mean_ts-std_ts, mean_ts+std_ts, color='tab:brown', alpha=0.2)\n",
    "plt.plot(measurement_times,Pos2_true[0, :], 'tab:brown',ls='--', label='True')\n",
    "plt.grid(True)\n",
    "#plt.legend(frameon=False)\n",
    "plt.xlabel('Time (Days)')\n",
    "plt.ylabel('Water Content (-)')\n",
    "plt.ylim(0, 0.35)\n",
    "plt.subplot(1, 2, 2)\n",
    "mean_ts = np.mean(time_series_data2[1], axis=0)\n",
    "std_ts = np.std(time_series_data2[1], axis=0)\n",
    "plt.plot(measurement_times, mean_ts, 'o-', color='tab:brown',)\n",
    "plt.fill_between(measurement_times, mean_ts-std_ts, mean_ts+std_ts, color='tab:brown', alpha=0.2)\n",
    "plt.plot(measurement_times,Pos2_true[1, :], 'tab:brown',ls='--')\n",
    "plt.xlabel('Time (Days)')\n",
    "plt.ylabel('Water Content (-)')\n",
    "plt.ylim(0, 0.35)\n",
    "# plt.legend()\n",
    "plt.grid(True)\n",
    "plt.tight_layout()\n",
    "\n",
    "plt.savefig(\"results/Structure_WC/Fracture_WC.tiff\", dpi=300, bbox_inches='tight')"
   ]
  }
 ],
 "metadata": {
  "kernelspec": {
   "display_name": "Python 3",
   "language": "python",
   "name": "python3"
  },
  "language_info": {
   "codemirror_mode": {
    "name": "ipython",
    "version": 3
   },
   "file_extension": ".py",
   "mimetype": "text/x-python",
   "name": "python",
   "nbconvert_exporter": "python",
   "pygments_lexer": "ipython3",
   "version": "3.11.8"
  }
 },
 "nbformat": 4,
 "nbformat_minor": 0
}
