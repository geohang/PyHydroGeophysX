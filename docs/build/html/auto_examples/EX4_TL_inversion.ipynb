{
 "cells": [
  {
   "cell_type": "markdown",
   "metadata": {},
   "source": [
    "\n",
    "# Time-Lapse ERT Inversion Techniques\n",
    "\n",
    "This example demonstrates different approaches for time-lapse electrical \n",
    "resistivity tomography (ERT) inversion using PyHydroGeophysX.\n",
    "\n",
    "The example includes:\n",
    "1. Full time-lapse inversion with temporal regularization\n",
    "2. Windowed time-lapse inversion for large datasets\n",
    "3. L1-norm regularized inversion for sharp boundary recovery\n",
    "4. Comparison of different inversion strategies\n",
    "5. Visualization of resistivity evolution over time\n",
    "\n",
    "Time-lapse ERT inversion is crucial for monitoring subsurface water \n",
    "content changes and understanding hydrological processes in watersheds.\n",
    "The temporal regularization helps maintain consistency between consecutive\n",
    "time steps while allowing for realistic changes.\n"
   ]
  },
  {
   "cell_type": "code",
   "execution_count": 1,
   "metadata": {
    "collapsed": false,
    "execution": {
     "iopub.execute_input": "2025-05-22T02:39:20.939620Z",
     "iopub.status.busy": "2025-05-22T02:39:20.939620Z",
     "iopub.status.idle": "2025-05-22T02:39:23.439797Z",
     "shell.execute_reply": "2025-05-22T02:39:23.439281Z"
    }
   },
   "outputs": [],
   "source": [
    "import os\n",
    "import sys\n",
    "import numpy as np\n",
    "import matplotlib.pyplot as plt\n",
    "import pygimli as pg\n",
    "from pygimli.physics import ert\n",
    "from mpl_toolkits.axes_grid1 import make_axes_locatable\n",
    "\n",
    "# Setup package path for development\n",
    "try:\n",
    "    # For regular Python scripts\n",
    "    current_dir = os.path.dirname(os.path.abspath(__file__))\n",
    "except NameError:\n",
    "    # For Jupyter notebooks\n",
    "    current_dir = os.getcwd()\n",
    "\n",
    "# Add the parent directory to Python path\n",
    "parent_dir = os.path.dirname(current_dir)\n",
    "if parent_dir not in sys.path:\n",
    "    sys.path.append(parent_dir)\n",
    "\n",
    "# Import PyHydroGeophysX modules\n",
    "from PyHydroGeophysX.inversion.time_lapse import TimeLapseERTInversion\n",
    "from PyHydroGeophysX.inversion.windowed import WindowedTimeLapseERTInversion"
   ]
  },
  {
   "cell_type": "code",
   "execution_count": 2,
   "metadata": {
    "collapsed": false,
    "execution": {
     "iopub.execute_input": "2025-05-22T02:39:23.441821Z",
     "iopub.status.busy": "2025-05-22T02:39:23.441821Z",
     "iopub.status.idle": "2025-05-22T02:39:23.445362Z",
     "shell.execute_reply": "2025-05-22T02:39:23.445362Z"
    }
   },
   "outputs": [],
   "source": [
    "data_dir = \"results/TL_measurements/appres\"\n",
    "\n",
    "# List of ERT data files testing monthly time-lapse inversion\n",
    "ert_files = [\n",
    "    \"synthetic_data30.dat\",\n",
    "    \"synthetic_data60.dat\",\n",
    "    \"synthetic_data90.dat\",\n",
    "    \"synthetic_data120.dat\",\n",
    "    \"synthetic_data150.dat\",\n",
    "    \"synthetic_data180.dat\",\n",
    "    \"synthetic_data210.dat\",\n",
    "    \"synthetic_data240.dat\",\n",
    "    \"synthetic_data270.dat\",\n",
    "    \"synthetic_data300.dat\",\n",
    "    \"synthetic_data330.dat\",\n",
    "    \"synthetic_data360.dat\",\n",
    "]"
   ]
  },
  {
   "cell_type": "markdown",
   "metadata": {},
   "source": [
    "## 1.Full Time-Lapse Inversion\n",
    "\n"
   ]
  },
  {
   "cell_type": "markdown",
   "metadata": {},
   "source": [
    "#################### FUll Time-Lapse Inversion #####################\n",
    "\n"
   ]
  },
  {
   "cell_type": "code",
   "execution_count": 3,
   "metadata": {
    "collapsed": false,
    "execution": {
     "iopub.execute_input": "2025-05-22T02:39:23.448395Z",
     "iopub.status.busy": "2025-05-22T02:39:23.447385Z",
     "iopub.status.idle": "2025-05-22T02:39:24.295354Z",
     "shell.execute_reply": "2025-05-22T02:39:24.294847Z"
    }
   },
   "outputs": [
    {
     "ename": "Exception",
     "evalue": "File or directory named results/TL_measurements/appres\\synthetic_data30.dat does not exist.",
     "output_type": "error",
     "traceback": [
      "\u001b[1;31m---------------------------------------------------------------------------\u001b[0m",
      "\u001b[1;31mException\u001b[0m                                 Traceback (most recent call last)",
      "Cell \u001b[1;32mIn[3], line 8\u001b[0m\n\u001b[0;32m      5\u001b[0m measurement_times \u001b[38;5;241m=\u001b[39m [\u001b[38;5;241m1\u001b[39m, \u001b[38;5;241m2\u001b[39m, \u001b[38;5;241m3\u001b[39m, \u001b[38;5;241m4\u001b[39m, \u001b[38;5;241m5\u001b[39m, \u001b[38;5;241m6\u001b[39m, \u001b[38;5;241m7\u001b[39m ,\u001b[38;5;241m8\u001b[39m, \u001b[38;5;241m9\u001b[39m, \u001b[38;5;241m10\u001b[39m, \u001b[38;5;241m11\u001b[39m, \u001b[38;5;241m12\u001b[39m]  \u001b[38;5;66;03m# Adjust based on your actual acquisition times\u001b[39;00m\n\u001b[0;32m      7\u001b[0m \u001b[38;5;66;03m# Create a mesh for the inversion (or load an existing one)\u001b[39;00m\n\u001b[1;32m----> 8\u001b[0m data \u001b[38;5;241m=\u001b[39m \u001b[43mert\u001b[49m\u001b[38;5;241;43m.\u001b[39;49m\u001b[43mload\u001b[49m\u001b[43m(\u001b[49m\u001b[43mdata_files\u001b[49m\u001b[43m[\u001b[49m\u001b[38;5;241;43m0\u001b[39;49m\u001b[43m]\u001b[49m\u001b[43m)\u001b[49m\n\u001b[0;32m      9\u001b[0m ert_manager \u001b[38;5;241m=\u001b[39m ert\u001b[38;5;241m.\u001b[39mERTManager(data)\n\u001b[0;32m     10\u001b[0m mesh \u001b[38;5;241m=\u001b[39m ert_manager\u001b[38;5;241m.\u001b[39mcreateMesh(data\u001b[38;5;241m=\u001b[39mdata, quality\u001b[38;5;241m=\u001b[39m\u001b[38;5;241m34\u001b[39m)\n",
      "File \u001b[1;32m~\\anaconda3\\envs\\pg\\Lib\\site-packages\\pygimli\\physics\\ert\\importData.py:26\u001b[0m, in \u001b[0;36mload\u001b[1;34m(fileName, verbose, **kwargs)\u001b[0m\n\u001b[0;32m      7\u001b[0m \u001b[38;5;28;01mdef\u001b[39;00m \u001b[38;5;21mload\u001b[39m(fileName, verbose\u001b[38;5;241m=\u001b[39m\u001b[38;5;28;01mFalse\u001b[39;00m, \u001b[38;5;241m*\u001b[39m\u001b[38;5;241m*\u001b[39mkwargs):\n\u001b[0;32m      8\u001b[0m \u001b[38;5;250m    \u001b[39m\u001b[38;5;124;03m\"\"\"Shortcut to load ERT data.\u001b[39;00m\n\u001b[0;32m      9\u001b[0m \n\u001b[0;32m     10\u001b[0m \u001b[38;5;124;03m    Import Data and try to assume the file format.\u001b[39;00m\n\u001b[1;32m   (...)\u001b[0m\n\u001b[0;32m     24\u001b[0m \n\u001b[0;32m     25\u001b[0m \u001b[38;5;124;03m    \"\"\"\u001b[39;00m\n\u001b[1;32m---> 26\u001b[0m     data \u001b[38;5;241m=\u001b[39m \u001b[43mpg\u001b[49m\u001b[38;5;241;43m.\u001b[39;49m\u001b[43mload\u001b[49m\u001b[43m(\u001b[49m\u001b[43mfileName\u001b[49m\u001b[43m)\u001b[49m\n\u001b[0;32m     27\u001b[0m     \u001b[38;5;28;01mif\u001b[39;00m \u001b[38;5;28misinstance\u001b[39m(data, pg\u001b[38;5;241m.\u001b[39mDataContainerERT):\n\u001b[0;32m     28\u001b[0m         \u001b[38;5;28;01mreturn\u001b[39;00m data\n",
      "File \u001b[1;32m~\\anaconda3\\envs\\pg\\Lib\\site-packages\\pygimli\\core\\load.py:166\u001b[0m, in \u001b[0;36mload\u001b[1;34m(fname, verbose, testAll, realName)\u001b[0m\n\u001b[0;32m    163\u001b[0m     \u001b[38;5;28;01mreturn\u001b[39;00m getExampleData(fname)\n\u001b[0;32m    165\u001b[0m \u001b[38;5;28;01mif\u001b[39;00m \u001b[38;5;129;01mnot\u001b[39;00m os\u001b[38;5;241m.\u001b[39mpath\u001b[38;5;241m.\u001b[39mexists(fname):\n\u001b[1;32m--> 166\u001b[0m     \u001b[38;5;28;01mraise\u001b[39;00m \u001b[38;5;167;01mException\u001b[39;00m(\u001b[38;5;124m\"\u001b[39m\u001b[38;5;124mFile or directory named \u001b[39m\u001b[38;5;132;01m%s\u001b[39;00m\u001b[38;5;124m does not exist.\u001b[39m\u001b[38;5;124m\"\u001b[39m \u001b[38;5;241m%\u001b[39m (fname))\n\u001b[0;32m    168\u001b[0m \u001b[38;5;66;03m# recursive function call if fname is a folder of files\u001b[39;00m\n\u001b[0;32m    169\u001b[0m \u001b[38;5;28;01mif\u001b[39;00m os\u001b[38;5;241m.\u001b[39mpath\u001b[38;5;241m.\u001b[39misdir(fname):\n",
      "\u001b[1;31mException\u001b[0m: File or directory named results/TL_measurements/appres\\synthetic_data30.dat does not exist."
     ]
    }
   ],
   "source": [
    "# Full paths to data files\n",
    "data_files = [os.path.join(data_dir, f) for f in ert_files]\n",
    "\n",
    "# Measurement times (can be timestamps or any sequential numbers representing time)\n",
    "measurement_times = [1, 2, 3, 4, 5, 6, 7 ,8, 9, 10, 11, 12]  # Adjust based on your actual acquisition times\n",
    "\n",
    "# Create a mesh for the inversion (or load an existing one)\n",
    "data = ert.load(data_files[0])\n",
    "ert_manager = ert.ERTManager(data)\n",
    "mesh = ert_manager.createMesh(data=data, quality=34)\n",
    "\n",
    "# Set up inversion parameters\n",
    "inversion_params = {\n",
    "    \"lambda_val\": 50.0,              # Regularization parameter\n",
    "    \"alpha\": 10.0,                   # Temporal regularization parameter\n",
    "    \"decay_rate\": 0.0,               # Temporal decay rate\n",
    "    \"method\": \"cgls\",                # Solver method ('cgls', 'lsqr', etc.)\n",
    "    \"model_constraints\": (0.001, 1e4), # Min/max resistivity values (ohm-m)\n",
    "    \"max_iterations\": 15,            # Maximum iterations\n",
    "    \"absoluteUError\": 0.0,           # Absolute data error (V)\n",
    "    \"relativeError\": 0.05,           # Relative data error (5%)\n",
    "    \"lambda_rate\": 1.0,              # Lambda reduction rate\n",
    "    \"lambda_min\": 1.0,               # Minimum lambda value\n",
    "    \"inversion_type\": \"L2\"           # 'L1', 'L2', or 'L1L2'\n",
    "}\n",
    "\n",
    "# Create the time-lapse inversion object\n",
    "inversion = TimeLapseERTInversion(\n",
    "    data_files=data_files,\n",
    "    measurement_times=measurement_times,\n",
    "    mesh=mesh,\n",
    "    **inversion_params\n",
    ")\n",
    "\n",
    "# Run the inversion\n",
    "print(\"Starting time-lapse inversion...\")\n",
    "result = inversion.run()\n",
    "print(\"Inversion complete!\")"
   ]
  },
  {
   "cell_type": "code",
   "execution_count": 4,
   "metadata": {
    "collapsed": false,
    "execution": {
     "iopub.execute_input": "2025-05-22T02:39:24.332764Z",
     "iopub.status.busy": "2025-05-22T02:39:24.331723Z",
     "iopub.status.idle": "2025-05-22T02:39:24.533468Z",
     "shell.execute_reply": "2025-05-22T02:39:24.532953Z"
    }
   },
   "outputs": [
    {
     "ename": "NameError",
     "evalue": "name 'result' is not defined",
     "output_type": "error",
     "traceback": [
      "\u001b[1;31m---------------------------------------------------------------------------\u001b[0m",
      "\u001b[1;31mNameError\u001b[0m                                 Traceback (most recent call last)",
      "Cell \u001b[1;32mIn[4], line 9\u001b[0m\n\u001b[0;32m      7\u001b[0m \u001b[38;5;28;01mfor\u001b[39;00m i \u001b[38;5;129;01min\u001b[39;00m \u001b[38;5;28mrange\u001b[39m(\u001b[38;5;241m12\u001b[39m):\n\u001b[0;32m      8\u001b[0m     ax \u001b[38;5;241m=\u001b[39m fig\u001b[38;5;241m.\u001b[39madd_subplot(\u001b[38;5;241m3\u001b[39m,\u001b[38;5;241m4\u001b[39m,i\u001b[38;5;241m+\u001b[39m\u001b[38;5;241m1\u001b[39m)\n\u001b[1;32m----> 9\u001b[0m     ax, cbar \u001b[38;5;241m=\u001b[39m pg\u001b[38;5;241m.\u001b[39mshow(\u001b[43mresult\u001b[49m\u001b[38;5;241m.\u001b[39mmesh,result\u001b[38;5;241m.\u001b[39mfinal_models[:,i],pad\u001b[38;5;241m=\u001b[39m\u001b[38;5;241m0.3\u001b[39m,orientation\u001b[38;5;241m=\u001b[39m\u001b[38;5;124m\"\u001b[39m\u001b[38;5;124mvertical\u001b[39m\u001b[38;5;124m\"\u001b[39m,cMap\u001b[38;5;241m=\u001b[39mfixed_cmap,cMin\u001b[38;5;241m=\u001b[39m \u001b[38;5;241m100\u001b[39m,cMax \u001b[38;5;241m=\u001b[39m \u001b[38;5;241m3000\u001b[39m\n\u001b[0;32m     10\u001b[0m                     , ylabel\u001b[38;5;241m=\u001b[39m\u001b[38;5;124m\"\u001b[39m\u001b[38;5;124mElevation (m)\u001b[39m\u001b[38;5;124m\"\u001b[39m,label\u001b[38;5;241m=\u001b[39m\u001b[38;5;124m'\u001b[39m\u001b[38;5;124m Resistivity ($\u001b[39m\u001b[38;5;124m\\\u001b[39m\u001b[38;5;124mOmega$ m)\u001b[39m\u001b[38;5;124m'\u001b[39m,ax\u001b[38;5;241m=\u001b[39max,logScale\u001b[38;5;241m=\u001b[39m\u001b[38;5;28;01mFalse\u001b[39;00m,coverage\u001b[38;5;241m=\u001b[39mresult\u001b[38;5;241m.\u001b[39mall_coverage[i]\u001b[38;5;241m>\u001b[39m\u001b[38;5;241m-\u001b[39m\u001b[38;5;241m1\u001b[39m)\n\u001b[0;32m     11\u001b[0m     cbar\u001b[38;5;241m.\u001b[39mremove()\n",
      "\u001b[1;31mNameError\u001b[0m: name 'result' is not defined"
     ]
    },
    {
     "data": {
      "image/png": "[encoded data removed]",
      "text/plain": [
       "<Figure size 1600x600 with 1 Axes>"
      ]
     },
     "metadata": {},
     "output_type": "display_data"
    }
   ],
   "source": [
    "from palettable.lightbartlein.diverging import BlueDarkRed18_18\n",
    "fixed_cmap = BlueDarkRed18_18.mpl_colormap\n",
    "\n",
    "fig = plt.figure(figsize=[16,6])\n",
    "\n",
    "# True resistivity model\n",
    "for i in range(12):\n",
    "    ax = fig.add_subplot(3,4,i+1)\n",
    "    ax, cbar = pg.show(result.mesh,result.final_models[:,i],pad=0.3,orientation=\"vertical\",cMap=fixed_cmap,cMin= 100,cMax = 3000\n",
    "                    , ylabel=\"Elevation (m)\",label=' Resistivity ($\\Omega$ m)',ax=ax,logScale=False,coverage=result.all_coverage[i]>-1)\n",
    "    cbar.remove()"
   ]
  },
  {
   "cell_type": "markdown",
   "metadata": {},
   "source": [
    "## 2. Window time-lapse inversion\n",
    "\n"
   ]
  },
  {
   "cell_type": "markdown",
   "metadata": {},
   "source": [
    "Measurement times (can be timestamps or any sequential numbers representing time)\n",
    "\n"
   ]
  },
  {
   "cell_type": "code",
   "execution_count": 5,
   "metadata": {
    "collapsed": false,
    "execution": {
     "iopub.execute_input": "2025-05-22T02:39:24.536495Z",
     "iopub.status.busy": "2025-05-22T02:39:24.535488Z",
     "iopub.status.idle": "2025-05-22T02:39:24.576734Z",
     "shell.execute_reply": "2025-05-22T02:39:24.576216Z"
    }
   },
   "outputs": [
    {
     "ename": "Exception",
     "evalue": "File or directory named results/TL_measurements/appres\\synthetic_data30.dat does not exist.",
     "output_type": "error",
     "traceback": [
      "\u001b[1;31m---------------------------------------------------------------------------\u001b[0m",
      "\u001b[1;31mException\u001b[0m                                 Traceback (most recent call last)",
      "Cell \u001b[1;32mIn[5], line 4\u001b[0m\n\u001b[0;32m      1\u001b[0m measurement_times \u001b[38;5;241m=\u001b[39m [\u001b[38;5;241m1\u001b[39m, \u001b[38;5;241m2\u001b[39m, \u001b[38;5;241m3\u001b[39m, \u001b[38;5;241m4\u001b[39m, \u001b[38;5;241m5\u001b[39m, \u001b[38;5;241m6\u001b[39m, \u001b[38;5;241m7\u001b[39m, \u001b[38;5;241m8\u001b[39m, \u001b[38;5;241m9\u001b[39m, \u001b[38;5;241m10\u001b[39m, \u001b[38;5;241m11\u001b[39m, \u001b[38;5;241m12\u001b[39m]  \u001b[38;5;66;03m# Adjust based on your actual acquisition times\u001b[39;00m\n\u001b[0;32m      3\u001b[0m \u001b[38;5;66;03m# Create a mesh for the inversion (or load an existing one)\u001b[39;00m\n\u001b[1;32m----> 4\u001b[0m data \u001b[38;5;241m=\u001b[39m \u001b[43mert\u001b[49m\u001b[38;5;241;43m.\u001b[39;49m\u001b[43mload\u001b[49m\u001b[43m(\u001b[49m\u001b[43mos\u001b[49m\u001b[38;5;241;43m.\u001b[39;49m\u001b[43mpath\u001b[49m\u001b[38;5;241;43m.\u001b[39;49m\u001b[43mjoin\u001b[49m\u001b[43m(\u001b[49m\u001b[43mdata_dir\u001b[49m\u001b[43m,\u001b[49m\u001b[43m \u001b[49m\u001b[43mert_files\u001b[49m\u001b[43m[\u001b[49m\u001b[38;5;241;43m0\u001b[39;49m\u001b[43m]\u001b[49m\u001b[43m)\u001b[49m\u001b[43m)\u001b[49m\n\u001b[0;32m      5\u001b[0m ert_manager \u001b[38;5;241m=\u001b[39m ert\u001b[38;5;241m.\u001b[39mERTManager(data)\n\u001b[0;32m      6\u001b[0m mesh \u001b[38;5;241m=\u001b[39m ert_manager\u001b[38;5;241m.\u001b[39mcreateMesh(data\u001b[38;5;241m=\u001b[39mdata, quality\u001b[38;5;241m=\u001b[39m\u001b[38;5;241m34\u001b[39m)\n",
      "File \u001b[1;32m~\\anaconda3\\envs\\pg\\Lib\\site-packages\\pygimli\\physics\\ert\\importData.py:26\u001b[0m, in \u001b[0;36mload\u001b[1;34m(fileName, verbose, **kwargs)\u001b[0m\n\u001b[0;32m      7\u001b[0m \u001b[38;5;28;01mdef\u001b[39;00m \u001b[38;5;21mload\u001b[39m(fileName, verbose\u001b[38;5;241m=\u001b[39m\u001b[38;5;28;01mFalse\u001b[39;00m, \u001b[38;5;241m*\u001b[39m\u001b[38;5;241m*\u001b[39mkwargs):\n\u001b[0;32m      8\u001b[0m \u001b[38;5;250m    \u001b[39m\u001b[38;5;124;03m\"\"\"Shortcut to load ERT data.\u001b[39;00m\n\u001b[0;32m      9\u001b[0m \n\u001b[0;32m     10\u001b[0m \u001b[38;5;124;03m    Import Data and try to assume the file format.\u001b[39;00m\n\u001b[1;32m   (...)\u001b[0m\n\u001b[0;32m     24\u001b[0m \n\u001b[0;32m     25\u001b[0m \u001b[38;5;124;03m    \"\"\"\u001b[39;00m\n\u001b[1;32m---> 26\u001b[0m     data \u001b[38;5;241m=\u001b[39m \u001b[43mpg\u001b[49m\u001b[38;5;241;43m.\u001b[39;49m\u001b[43mload\u001b[49m\u001b[43m(\u001b[49m\u001b[43mfileName\u001b[49m\u001b[43m)\u001b[49m\n\u001b[0;32m     27\u001b[0m     \u001b[38;5;28;01mif\u001b[39;00m \u001b[38;5;28misinstance\u001b[39m(data, pg\u001b[38;5;241m.\u001b[39mDataContainerERT):\n\u001b[0;32m     28\u001b[0m         \u001b[38;5;28;01mreturn\u001b[39;00m data\n",
      "File \u001b[1;32m~\\anaconda3\\envs\\pg\\Lib\\site-packages\\pygimli\\core\\load.py:166\u001b[0m, in \u001b[0;36mload\u001b[1;34m(fname, verbose, testAll, realName)\u001b[0m\n\u001b[0;32m    163\u001b[0m     \u001b[38;5;28;01mreturn\u001b[39;00m getExampleData(fname)\n\u001b[0;32m    165\u001b[0m \u001b[38;5;28;01mif\u001b[39;00m \u001b[38;5;129;01mnot\u001b[39;00m os\u001b[38;5;241m.\u001b[39mpath\u001b[38;5;241m.\u001b[39mexists(fname):\n\u001b[1;32m--> 166\u001b[0m     \u001b[38;5;28;01mraise\u001b[39;00m \u001b[38;5;167;01mException\u001b[39;00m(\u001b[38;5;124m\"\u001b[39m\u001b[38;5;124mFile or directory named \u001b[39m\u001b[38;5;132;01m%s\u001b[39;00m\u001b[38;5;124m does not exist.\u001b[39m\u001b[38;5;124m\"\u001b[39m \u001b[38;5;241m%\u001b[39m (fname))\n\u001b[0;32m    168\u001b[0m \u001b[38;5;66;03m# recursive function call if fname is a folder of files\u001b[39;00m\n\u001b[0;32m    169\u001b[0m \u001b[38;5;28;01mif\u001b[39;00m os\u001b[38;5;241m.\u001b[39mpath\u001b[38;5;241m.\u001b[39misdir(fname):\n",
      "\u001b[1;31mException\u001b[0m: File or directory named results/TL_measurements/appres\\synthetic_data30.dat does not exist."
     ]
    }
   ],
   "source": [
    "measurement_times = [1, 2, 3, 4, 5, 6, 7, 8, 9, 10, 11, 12]  # Adjust based on your actual acquisition times\n",
    "\n",
    "# Create a mesh for the inversion (or load an existing one)\n",
    "data = ert.load(os.path.join(data_dir, ert_files[0]))\n",
    "ert_manager = ert.ERTManager(data)\n",
    "mesh = ert_manager.createMesh(data=data, quality=34)\n",
    "\n",
    "# Set up inversion parameters\n",
    "inversion_params = {\n",
    "    \"lambda_val\": 10.0,              # Regularization parameter\n",
    "    \"alpha\": 10.0,                   # Temporal regularization parameter\n",
    "    \"decay_rate\": 0.0,               # Temporal decay rate\n",
    "    \"method\": \"cgls\",                # Solver method ('cgls', 'lsqr', etc.)\n",
    "    \"model_constraints\": (0.001, 1e4), # Min/max resistivity values (ohm-m)\n",
    "    \"max_iterations\": 15,            # Maximum iterations\n",
    "    \"absoluteUError\": 0.0,           # Absolute data error (V)\n",
    "    \"relativeError\": 0.05,           # Relative data error (5%)\n",
    "    \"lambda_rate\": 1.0,              # Lambda reduction rate\n",
    "    \"lambda_min\": 1.0,               # Minimum lambda value\n",
    "    \"inversion_type\": \"L2\"           # 'L1', 'L2', or 'L1L2'\n",
    "}\n",
    "\n",
    "# Define the window size (number of timesteps to process together)\n",
    "window_size = 3  # A window size of 3 means each window includes 3 consecutive measurements\n",
    "\n",
    "# Create the windowed time-lapse inversion object\n",
    "inversion = WindowedTimeLapseERTInversion(\n",
    "    data_dir=data_dir,               # Directory containing ERT data files\n",
    "    ert_files=ert_files,             # List of ERT data filenames\n",
    "    measurement_times=measurement_times,  # List of measurement times\n",
    "    window_size=window_size,         # Size of sliding window\n",
    "    mesh=mesh,                       # Mesh for inversion\n",
    "    **inversion_params               # Pass the same inversion parameters\n",
    ")\n",
    "\n",
    "# Run the inversion, optionally in parallel\n",
    "print(\"Starting windowed time-lapse inversion...\")\n",
    "result = inversion.run()\n",
    "print(\"Inversion complete!\")"
   ]
  },
  {
   "cell_type": "code",
   "execution_count": 6,
   "metadata": {
    "collapsed": false,
    "execution": {
     "iopub.execute_input": "2025-05-22T02:39:24.578758Z",
     "iopub.status.busy": "2025-05-22T02:39:24.578758Z",
     "iopub.status.idle": "2025-05-22T02:39:24.594518Z",
     "shell.execute_reply": "2025-05-22T02:39:24.593980Z"
    }
   },
   "outputs": [
    {
     "ename": "NameError",
     "evalue": "name 'result' is not defined",
     "output_type": "error",
     "traceback": [
      "\u001b[1;31m---------------------------------------------------------------------------\u001b[0m",
      "\u001b[1;31mNameError\u001b[0m                                 Traceback (most recent call last)",
      "Cell \u001b[1;32mIn[6], line 1\u001b[0m\n\u001b[1;32m----> 1\u001b[0m result\u001b[38;5;241m.\u001b[39mfinal_models \u001b[38;5;241m=\u001b[39m np\u001b[38;5;241m.\u001b[39marray(\u001b[43mresult\u001b[49m\u001b[38;5;241m.\u001b[39mfinal_models)\n\u001b[0;32m      2\u001b[0m result\u001b[38;5;241m.\u001b[39mfinal_models\u001b[38;5;241m.\u001b[39mshape\n",
      "\u001b[1;31mNameError\u001b[0m: name 'result' is not defined"
     ]
    }
   ],
   "source": [
    "result.final_models = np.array(result.final_models)\n",
    "result.final_models.shape"
   ]
  },
  {
   "cell_type": "code",
   "execution_count": 7,
   "metadata": {
    "collapsed": false,
    "execution": {
     "iopub.execute_input": "2025-05-22T02:39:24.598641Z",
     "iopub.status.busy": "2025-05-22T02:39:24.598641Z",
     "iopub.status.idle": "2025-05-22T02:39:24.681668Z",
     "shell.execute_reply": "2025-05-22T02:39:24.681152Z"
    }
   },
   "outputs": [
    {
     "ename": "NameError",
     "evalue": "name 'result' is not defined",
     "output_type": "error",
     "traceback": [
      "\u001b[1;31m---------------------------------------------------------------------------\u001b[0m",
      "\u001b[1;31mNameError\u001b[0m                                 Traceback (most recent call last)",
      "Cell \u001b[1;32mIn[7], line 43\u001b[0m\n\u001b[0;32m     40\u001b[0m     ax\u001b[38;5;241m.\u001b[39mset_xlabel(\u001b[38;5;124m\"\u001b[39m\u001b[38;5;124mDistance (m)\u001b[39m\u001b[38;5;124m\"\u001b[39m)\n\u001b[0;32m     42\u001b[0m \u001b[38;5;66;03m# Create the plot\u001b[39;00m\n\u001b[1;32m---> 43\u001b[0m ax, cbar \u001b[38;5;241m=\u001b[39m pg\u001b[38;5;241m.\u001b[39mshow(\u001b[43mresult\u001b[49m\u001b[38;5;241m.\u001b[39mmesh,\n\u001b[0;32m     44\u001b[0m                   result\u001b[38;5;241m.\u001b[39mfinal_models[:,i],\n\u001b[0;32m     45\u001b[0m                   pad\u001b[38;5;241m=\u001b[39m\u001b[38;5;241m0.3\u001b[39m,\n\u001b[0;32m     46\u001b[0m                   orientation\u001b[38;5;241m=\u001b[39m\u001b[38;5;124m\"\u001b[39m\u001b[38;5;124mvertical\u001b[39m\u001b[38;5;124m\"\u001b[39m,\n\u001b[0;32m     47\u001b[0m                   cMap\u001b[38;5;241m=\u001b[39mfixed_cmap,\n\u001b[0;32m     48\u001b[0m                   cMin\u001b[38;5;241m=\u001b[39m\u001b[38;5;241m100\u001b[39m,\n\u001b[0;32m     49\u001b[0m                   cMax\u001b[38;5;241m=\u001b[39m\u001b[38;5;241m3000\u001b[39m,\n\u001b[0;32m     50\u001b[0m                   ylabel\u001b[38;5;241m=\u001b[39mylabel,\n\u001b[0;32m     51\u001b[0m                   label\u001b[38;5;241m=\u001b[39mresistivity_label,\n\u001b[0;32m     52\u001b[0m                   ax\u001b[38;5;241m=\u001b[39max,\n\u001b[0;32m     53\u001b[0m                   logScale\u001b[38;5;241m=\u001b[39m\u001b[38;5;28;01mFalse\u001b[39;00m,\n\u001b[0;32m     54\u001b[0m                   coverage\u001b[38;5;241m=\u001b[39mresult\u001b[38;5;241m.\u001b[39mall_coverage[i]\u001b[38;5;241m>\u001b[39m\u001b[38;5;241m-\u001b[39m\u001b[38;5;241m1.2\u001b[39m)\n\u001b[0;32m     56\u001b[0m \u001b[38;5;66;03m# Only keep colorbar for the middle-right panel (row 1, col 3)\u001b[39;00m\n\u001b[0;32m     57\u001b[0m \u001b[38;5;66;03m# This corresponds to panel index 7 in a 0-based indexing system\u001b[39;00m\n\u001b[0;32m     58\u001b[0m \u001b[38;5;28;01mif\u001b[39;00m i \u001b[38;5;241m!=\u001b[39m \u001b[38;5;241m7\u001b[39m:  \u001b[38;5;66;03m# Keep only the colorbar for panel 7\u001b[39;00m\n",
      "\u001b[1;31mNameError\u001b[0m: name 'result' is not defined"
     ]
    },
    {
     "data": {
      "image/png": "[encoded data removed]",
      "text/plain": [
       "<Figure size 1600x600 with 1 Axes>"
      ]
     },
     "metadata": {},
     "output_type": "display_data"
    }
   ],
   "source": [
    "from palettable.lightbartlein.diverging import BlueDarkRed18_18\n",
    "import matplotlib.pyplot as plt\n",
    "import numpy as np\n",
    "import matplotlib.pylab as pylab\n",
    "params = {'legend.fontsize': 13,\n",
    "          #'figure.figsize': (15, 5),\n",
    "         'axes.labelsize': 13,\n",
    "         'axes.titlesize':13,\n",
    "         'xtick.labelsize':13,\n",
    "         'ytick.labelsize':13}\n",
    "\n",
    "pylab.rcParams.update(params)\n",
    "plt.rcParams[\"font.family\"] = \"Arial\"\n",
    "\n",
    "fixed_cmap = BlueDarkRed18_18.mpl_colormap\n",
    "fig = plt.figure(figsize=[16, 6])\n",
    "\n",
    "# Use tight_layout with adjusted parameters to reduce space\n",
    "plt.subplots_adjust(wspace=0.05, hspace=0.05)\n",
    "\n",
    "# True resistivity model\n",
    "for i in range(12):\n",
    "    row, col = i // 4, i % 4\n",
    "    ax = fig.add_subplot(3, 4, i+1)\n",
    "    \n",
    "    # Add common ylabel only to leftmost panels\n",
    "    ylabel = \"Elevation (m)\" if col == 0 else None\n",
    "    \n",
    "    # Add resistivity label only to the middle-right panel (row 1, col 3)\n",
    "    resistivity_label = ' Resistivity ($\\Omega$ m)' if (i == 7) else None\n",
    "    \n",
    "    # Only show axis ticks on leftmost and bottom panels\n",
    "    if col != 0:\n",
    "        ax.set_yticks([])\n",
    "    \n",
    "    if row != 2:  # Not bottom row\n",
    "        ax.set_xticks([])\n",
    "    else:\n",
    "        # Add \"distance (m)\" label to bottom row panels\n",
    "        ax.set_xlabel(\"Distance (m)\")\n",
    "    \n",
    "    # Create the plot\n",
    "    ax, cbar = pg.show(result.mesh,\n",
    "                      result.final_models[:,i],\n",
    "                      pad=0.3,\n",
    "                      orientation=\"vertical\",\n",
    "                      cMap=fixed_cmap,\n",
    "                      cMin=100,\n",
    "                      cMax=3000,\n",
    "                      ylabel=ylabel,\n",
    "                      label=resistivity_label,\n",
    "                      ax=ax,\n",
    "                      logScale=False,\n",
    "                      coverage=result.all_coverage[i]>-1.2)\n",
    "    \n",
    "    # Only keep colorbar for the middle-right panel (row 1, col 3)\n",
    "    # This corresponds to panel index 7 in a 0-based indexing system\n",
    "    if i != 7:  # Keep only the colorbar for panel 7\n",
    "        cbar.remove()\n",
    "\n",
    "plt.tight_layout()\n",
    "plt.savefig(\"results/TL_measurements/timelapse_ert.tiff\", dpi=300, bbox_inches='tight')"
   ]
  },
  {
   "cell_type": "markdown",
   "metadata": {},
   "source": [
    "## 3. Full L1 Time-lapse Inversion\n",
    "\n"
   ]
  },
  {
   "cell_type": "code",
   "execution_count": 8,
   "metadata": {
    "collapsed": false,
    "execution": {
     "iopub.execute_input": "2025-05-22T02:39:24.683323Z",
     "iopub.status.busy": "2025-05-22T02:39:24.683323Z",
     "iopub.status.idle": "2025-05-22T02:39:24.700612Z",
     "shell.execute_reply": "2025-05-22T02:39:24.700094Z"
    }
   },
   "outputs": [
    {
     "ename": "NameError",
     "evalue": "name 'result' is not defined",
     "output_type": "error",
     "traceback": [
      "\u001b[1;31m---------------------------------------------------------------------------\u001b[0m",
      "\u001b[1;31mNameError\u001b[0m                                 Traceback (most recent call last)",
      "Cell \u001b[1;32mIn[8], line 1\u001b[0m\n\u001b[1;32m----> 1\u001b[0m ax, cbar \u001b[38;5;241m=\u001b[39m pg\u001b[38;5;241m.\u001b[39mshow(\u001b[43mresult\u001b[49m\u001b[38;5;241m.\u001b[39mmesh,result\u001b[38;5;241m.\u001b[39mfinal_models[:,i],pad\u001b[38;5;241m=\u001b[39m\u001b[38;5;241m0.3\u001b[39m,orientation\u001b[38;5;241m=\u001b[39m\u001b[38;5;124m\"\u001b[39m\u001b[38;5;124mvertical\u001b[39m\u001b[38;5;124m\"\u001b[39m,cMap\u001b[38;5;241m=\u001b[39mfixed_cmap,cMin\u001b[38;5;241m=\u001b[39m \u001b[38;5;241m100\u001b[39m,cMax \u001b[38;5;241m=\u001b[39m \u001b[38;5;241m3000\u001b[39m\n\u001b[0;32m      2\u001b[0m                     , ylabel\u001b[38;5;241m=\u001b[39m\u001b[38;5;124m\"\u001b[39m\u001b[38;5;124mElevation (m)\u001b[39m\u001b[38;5;124m\"\u001b[39m,label\u001b[38;5;241m=\u001b[39m\u001b[38;5;124m'\u001b[39m\u001b[38;5;124m Resistivity ($\u001b[39m\u001b[38;5;124m\\\u001b[39m\u001b[38;5;124mOmega$ m)\u001b[39m\u001b[38;5;124m'\u001b[39m,logScale\u001b[38;5;241m=\u001b[39m\u001b[38;5;28;01mFalse\u001b[39;00m,coverage\u001b[38;5;241m=\u001b[39mresult\u001b[38;5;241m.\u001b[39mall_coverage[i]\u001b[38;5;241m>\u001b[39m\u001b[38;5;241m-\u001b[39m\u001b[38;5;241m1\u001b[39m)\n",
      "\u001b[1;31mNameError\u001b[0m: name 'result' is not defined"
     ]
    }
   ],
   "source": [
    "ax, cbar = pg.show(result.mesh,result.final_models[:,i],pad=0.3,orientation=\"vertical\",cMap=fixed_cmap,cMin= 100,cMax = 3000\n",
    "                    , ylabel=\"Elevation (m)\",label=' Resistivity ($\\Omega$ m)',logScale=False,coverage=result.all_coverage[i]>-1)"
   ]
  },
  {
   "cell_type": "markdown",
   "metadata": {},
   "source": [
    "Full paths to data files\n",
    "\n"
   ]
  },
  {
   "cell_type": "code",
   "execution_count": 9,
   "metadata": {
    "collapsed": false,
    "execution": {
     "iopub.execute_input": "2025-05-22T02:39:24.702631Z",
     "iopub.status.busy": "2025-05-22T02:39:24.702631Z",
     "iopub.status.idle": "2025-05-22T02:39:24.743252Z",
     "shell.execute_reply": "2025-05-22T02:39:24.741729Z"
    }
   },
   "outputs": [
    {
     "ename": "Exception",
     "evalue": "File or directory named results/TL_measurements/appres\\synthetic_data30.dat does not exist.",
     "output_type": "error",
     "traceback": [
      "\u001b[1;31m---------------------------------------------------------------------------\u001b[0m",
      "\u001b[1;31mException\u001b[0m                                 Traceback (most recent call last)",
      "Cell \u001b[1;32mIn[9], line 7\u001b[0m\n\u001b[0;32m      4\u001b[0m measurement_times \u001b[38;5;241m=\u001b[39m [\u001b[38;5;241m1\u001b[39m, \u001b[38;5;241m2\u001b[39m, \u001b[38;5;241m3\u001b[39m, \u001b[38;5;241m4\u001b[39m, \u001b[38;5;241m5\u001b[39m, \u001b[38;5;241m6\u001b[39m, \u001b[38;5;241m7\u001b[39m ,\u001b[38;5;241m8\u001b[39m, \u001b[38;5;241m9\u001b[39m, \u001b[38;5;241m10\u001b[39m, \u001b[38;5;241m11\u001b[39m, \u001b[38;5;241m12\u001b[39m]  \u001b[38;5;66;03m# Adjust based on your actual acquisition times\u001b[39;00m\n\u001b[0;32m      6\u001b[0m \u001b[38;5;66;03m# Create a mesh for the inversion (or load an existing one)\u001b[39;00m\n\u001b[1;32m----> 7\u001b[0m data \u001b[38;5;241m=\u001b[39m \u001b[43mert\u001b[49m\u001b[38;5;241;43m.\u001b[39;49m\u001b[43mload\u001b[49m\u001b[43m(\u001b[49m\u001b[43mdata_files\u001b[49m\u001b[43m[\u001b[49m\u001b[38;5;241;43m0\u001b[39;49m\u001b[43m]\u001b[49m\u001b[43m)\u001b[49m\n\u001b[0;32m      8\u001b[0m ert_manager \u001b[38;5;241m=\u001b[39m ert\u001b[38;5;241m.\u001b[39mERTManager(data)\n\u001b[0;32m      9\u001b[0m mesh \u001b[38;5;241m=\u001b[39m ert_manager\u001b[38;5;241m.\u001b[39mcreateMesh(data\u001b[38;5;241m=\u001b[39mdata, quality\u001b[38;5;241m=\u001b[39m\u001b[38;5;241m34\u001b[39m)\n",
      "File \u001b[1;32m~\\anaconda3\\envs\\pg\\Lib\\site-packages\\pygimli\\physics\\ert\\importData.py:26\u001b[0m, in \u001b[0;36mload\u001b[1;34m(fileName, verbose, **kwargs)\u001b[0m\n\u001b[0;32m      7\u001b[0m \u001b[38;5;28;01mdef\u001b[39;00m \u001b[38;5;21mload\u001b[39m(fileName, verbose\u001b[38;5;241m=\u001b[39m\u001b[38;5;28;01mFalse\u001b[39;00m, \u001b[38;5;241m*\u001b[39m\u001b[38;5;241m*\u001b[39mkwargs):\n\u001b[0;32m      8\u001b[0m \u001b[38;5;250m    \u001b[39m\u001b[38;5;124;03m\"\"\"Shortcut to load ERT data.\u001b[39;00m\n\u001b[0;32m      9\u001b[0m \n\u001b[0;32m     10\u001b[0m \u001b[38;5;124;03m    Import Data and try to assume the file format.\u001b[39;00m\n\u001b[1;32m   (...)\u001b[0m\n\u001b[0;32m     24\u001b[0m \n\u001b[0;32m     25\u001b[0m \u001b[38;5;124;03m    \"\"\"\u001b[39;00m\n\u001b[1;32m---> 26\u001b[0m     data \u001b[38;5;241m=\u001b[39m \u001b[43mpg\u001b[49m\u001b[38;5;241;43m.\u001b[39;49m\u001b[43mload\u001b[49m\u001b[43m(\u001b[49m\u001b[43mfileName\u001b[49m\u001b[43m)\u001b[49m\n\u001b[0;32m     27\u001b[0m     \u001b[38;5;28;01mif\u001b[39;00m \u001b[38;5;28misinstance\u001b[39m(data, pg\u001b[38;5;241m.\u001b[39mDataContainerERT):\n\u001b[0;32m     28\u001b[0m         \u001b[38;5;28;01mreturn\u001b[39;00m data\n",
      "File \u001b[1;32m~\\anaconda3\\envs\\pg\\Lib\\site-packages\\pygimli\\core\\load.py:166\u001b[0m, in \u001b[0;36mload\u001b[1;34m(fname, verbose, testAll, realName)\u001b[0m\n\u001b[0;32m    163\u001b[0m     \u001b[38;5;28;01mreturn\u001b[39;00m getExampleData(fname)\n\u001b[0;32m    165\u001b[0m \u001b[38;5;28;01mif\u001b[39;00m \u001b[38;5;129;01mnot\u001b[39;00m os\u001b[38;5;241m.\u001b[39mpath\u001b[38;5;241m.\u001b[39mexists(fname):\n\u001b[1;32m--> 166\u001b[0m     \u001b[38;5;28;01mraise\u001b[39;00m \u001b[38;5;167;01mException\u001b[39;00m(\u001b[38;5;124m\"\u001b[39m\u001b[38;5;124mFile or directory named \u001b[39m\u001b[38;5;132;01m%s\u001b[39;00m\u001b[38;5;124m does not exist.\u001b[39m\u001b[38;5;124m\"\u001b[39m \u001b[38;5;241m%\u001b[39m (fname))\n\u001b[0;32m    168\u001b[0m \u001b[38;5;66;03m# recursive function call if fname is a folder of files\u001b[39;00m\n\u001b[0;32m    169\u001b[0m \u001b[38;5;28;01mif\u001b[39;00m os\u001b[38;5;241m.\u001b[39mpath\u001b[38;5;241m.\u001b[39misdir(fname):\n",
      "\u001b[1;31mException\u001b[0m: File or directory named results/TL_measurements/appres\\synthetic_data30.dat does not exist."
     ]
    }
   ],
   "source": [
    "data_files = [os.path.join(data_dir, f) for f in ert_files]\n",
    "\n",
    "# Measurement times (can be timestamps or any sequential numbers representing time)\n",
    "measurement_times = [1, 2, 3, 4, 5, 6, 7 ,8, 9, 10, 11, 12]  # Adjust based on your actual acquisition times\n",
    "\n",
    "# Create a mesh for the inversion (or load an existing one)\n",
    "data = ert.load(data_files[0])\n",
    "ert_manager = ert.ERTManager(data)\n",
    "mesh = ert_manager.createMesh(data=data, quality=34)\n",
    "\n",
    "# Set up inversion parameters\n",
    "inversion_params = {\n",
    "    \"lambda_val\": 50.0,              # Regularization parameter\n",
    "    \"alpha\": 10.0,                   # Temporal regularization parameter\n",
    "    \"decay_rate\": 0.0,               # Temporal decay rate\n",
    "    \"method\": \"cgls\",                # Solver method ('cgls', 'lsqr', etc.)\n",
    "    \"model_constraints\": (0.001, 1e4), # Min/max resistivity values (ohm-m)\n",
    "    \"max_iterations\": 15,            # Maximum iterations\n",
    "    \"absoluteUError\": 0.0,           # Absolute data error (V)\n",
    "    \"relativeError\": 0.05,           # Relative data error (5%)\n",
    "    \"lambda_rate\": 1.0,              # Lambda reduction rate\n",
    "    \"lambda_min\": 1.0,               # Minimum lambda value\n",
    "    \"inversion_type\": \"L1\"           # 'L1', 'L2', or 'L1L2'\n",
    "}\n",
    "\n",
    "# Create the time-lapse inversion object\n",
    "inversion = TimeLapseERTInversion(\n",
    "    data_files=data_files,\n",
    "    measurement_times=measurement_times,\n",
    "    mesh=mesh,\n",
    "    **inversion_params\n",
    ")\n",
    "\n",
    "# Run the inversion\n",
    "print(\"Starting time-lapse inversion...\")\n",
    "result_L1 = inversion.run()\n",
    "print(\"Inversion complete!\")"
   ]
  },
  {
   "cell_type": "code",
   "execution_count": 10,
   "metadata": {
    "collapsed": false,
    "execution": {
     "iopub.execute_input": "2025-05-22T02:39:24.745789Z",
     "iopub.status.busy": "2025-05-22T02:39:24.745789Z",
     "iopub.status.idle": "2025-05-22T02:39:24.824655Z",
     "shell.execute_reply": "2025-05-22T02:39:24.824655Z"
    }
   },
   "outputs": [
    {
     "ename": "NameError",
     "evalue": "name 'result_L1' is not defined",
     "output_type": "error",
     "traceback": [
      "\u001b[1;31m---------------------------------------------------------------------------\u001b[0m",
      "\u001b[1;31mNameError\u001b[0m                                 Traceback (most recent call last)",
      "Cell \u001b[1;32mIn[10], line 9\u001b[0m\n\u001b[0;32m      7\u001b[0m \u001b[38;5;28;01mfor\u001b[39;00m i \u001b[38;5;129;01min\u001b[39;00m \u001b[38;5;28mrange\u001b[39m(\u001b[38;5;241m12\u001b[39m):\n\u001b[0;32m      8\u001b[0m     ax \u001b[38;5;241m=\u001b[39m fig\u001b[38;5;241m.\u001b[39madd_subplot(\u001b[38;5;241m3\u001b[39m,\u001b[38;5;241m4\u001b[39m,i\u001b[38;5;241m+\u001b[39m\u001b[38;5;241m1\u001b[39m)\n\u001b[1;32m----> 9\u001b[0m     ax, cbar \u001b[38;5;241m=\u001b[39m pg\u001b[38;5;241m.\u001b[39mshow(\u001b[43mresult_L1\u001b[49m\u001b[38;5;241m.\u001b[39mmesh,result_L1\u001b[38;5;241m.\u001b[39mfinal_models[:,i],pad\u001b[38;5;241m=\u001b[39m\u001b[38;5;241m0.3\u001b[39m,orientation\u001b[38;5;241m=\u001b[39m\u001b[38;5;124m\"\u001b[39m\u001b[38;5;124mvertical\u001b[39m\u001b[38;5;124m\"\u001b[39m,cMap\u001b[38;5;241m=\u001b[39mfixed_cmap,cMin\u001b[38;5;241m=\u001b[39m \u001b[38;5;241m100\u001b[39m,cMax \u001b[38;5;241m=\u001b[39m \u001b[38;5;241m3000\u001b[39m\n\u001b[0;32m     10\u001b[0m                     , ylabel\u001b[38;5;241m=\u001b[39m\u001b[38;5;124m\"\u001b[39m\u001b[38;5;124mElevation (m)\u001b[39m\u001b[38;5;124m\"\u001b[39m,label\u001b[38;5;241m=\u001b[39m\u001b[38;5;124m'\u001b[39m\u001b[38;5;124m Resistivity ($\u001b[39m\u001b[38;5;124m\\\u001b[39m\u001b[38;5;124mOmega$ m)\u001b[39m\u001b[38;5;124m'\u001b[39m,ax\u001b[38;5;241m=\u001b[39max,logScale\u001b[38;5;241m=\u001b[39m\u001b[38;5;28;01mFalse\u001b[39;00m,coverage\u001b[38;5;241m=\u001b[39mresult\u001b[38;5;241m.\u001b[39mall_coverage[i]\u001b[38;5;241m>\u001b[39m\u001b[38;5;241m-\u001b[39m\u001b[38;5;241m1\u001b[39m)\n\u001b[0;32m     11\u001b[0m     cbar\u001b[38;5;241m.\u001b[39mremove()\n",
      "\u001b[1;31mNameError\u001b[0m: name 'result_L1' is not defined"
     ]
    },
    {
     "data": {
      "image/png": "[encoded data removed]",
      "text/plain": [
       "<Figure size 1600x600 with 1 Axes>"
      ]
     },
     "metadata": {},
     "output_type": "display_data"
    }
   ],
   "source": [
    "from palettable.lightbartlein.diverging import BlueDarkRed18_18\n",
    "fixed_cmap = BlueDarkRed18_18.mpl_colormap\n",
    "\n",
    "fig = plt.figure(figsize=[16,6])\n",
    "\n",
    "# True resistivity model\n",
    "for i in range(12):\n",
    "    ax = fig.add_subplot(3,4,i+1)\n",
    "    ax, cbar = pg.show(result_L1.mesh,result_L1.final_models[:,i],pad=0.3,orientation=\"vertical\",cMap=fixed_cmap,cMin= 100,cMax = 3000\n",
    "                    , ylabel=\"Elevation (m)\",label=' Resistivity ($\\Omega$ m)',ax=ax,logScale=False,coverage=result.all_coverage[i]>-1)\n",
    "    cbar.remove()"
   ]
  }
 ],
 "metadata": {
  "kernelspec": {
   "display_name": "Python 3",
   "language": "python",
   "name": "python3"
  },
  "language_info": {
   "codemirror_mode": {
    "name": "ipython",
    "version": 3
   },
   "file_extension": ".py",
   "mimetype": "text/x-python",
   "name": "python",
   "nbconvert_exporter": "python",
   "pygments_lexer": "ipython3",
   "version": "3.11.8"
  }
 },
 "nbformat": 4,
 "nbformat_minor": 0
}
