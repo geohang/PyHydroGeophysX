{
  "cells": [
    {
      "cell_type": "markdown",
      "metadata": {},
      "source": [
        "\n# Ex 4. Time-Lapse ERT Inversion Techniques\n\nThis example demonstrates different approaches for time-lapse electrical \nresistivity tomography (ERT) inversion using PyHydroGeophysX.\n\nThe example includes:\n1. Full time-lapse inversion with temporal regularization\n2. Windowed time-lapse inversion for large datasets\n3. L1-norm regularized inversion for sharp boundary recovery\n4. Comparison of different inversion strategies\n5. Visualization of resistivity evolution over time\n\nTime-lapse ERT inversion is crucial for monitoring subsurface water \ncontent changes and understanding hydrological processes in watersheds.\nThe temporal regularization helps maintain consistency between consecutive\ntime steps while allowing for realistic changes.\n"
      ]
    },
    {
      "cell_type": "code",
      "execution_count": null,
      "metadata": {
        "collapsed": false
      },
      "outputs": [],
      "source": [
        "import os\nimport sys\nimport numpy as np\nimport matplotlib.pyplot as plt\nimport pygimli as pg\nfrom pygimli.physics import ert\nfrom mpl_toolkits.axes_grid1 import make_axes_locatable\n\n# Setup package path for development\ntry:\n    # For regular Python scripts\n    current_dir = os.path.dirname(os.path.abspath(__file__))\nexcept NameError:\n    # For Jupyter notebooks\n    current_dir = os.getcwd()\n\n# Add the parent directory to Python path\nparent_dir = os.path.dirname(current_dir)\nif parent_dir not in sys.path:\n    sys.path.append(parent_dir)\n\n# Import PyHydroGeophysX modules\nfrom PyHydroGeophysX.inversion.time_lapse import TimeLapseERTInversion\nfrom PyHydroGeophysX.inversion.windowed import WindowedTimeLapseERTInversion"
      ]
    },
    {
      "cell_type": "code",
      "execution_count": null,
      "metadata": {
        "collapsed": false
      },
      "outputs": [],
      "source": [
        "data_dir = os.path.join(current_dir, \"results\",\"TL_measurements\",\"appres\") \n#\"C:/Users/HChen8/Documents/GitHub/PyHydroGeophysX/examples/results/TL_measurements/appres\"\n\n# List of ERT data files testing monthly time-lapse inversion\nert_files = [\n    \"synthetic_data30.dat\",\n    \"synthetic_data60.dat\",\n    \"synthetic_data90.dat\",\n    \"synthetic_data120.dat\",\n    \"synthetic_data150.dat\",\n    \"synthetic_data180.dat\",\n    \"synthetic_data210.dat\",\n    \"synthetic_data240.dat\",\n    \"synthetic_data270.dat\",\n    \"synthetic_data300.dat\",\n    \"synthetic_data330.dat\",\n    \"synthetic_data360.dat\",\n]"
      ]
    },
    {
      "cell_type": "markdown",
      "metadata": {},
      "source": [
        "## 1.Full L2 Time-Lapse Inversion\n\n"
      ]
    },
    {
      "cell_type": "markdown",
      "metadata": {},
      "source": [
        "#################### FUll Time-Lapse Inversion #####################\n\n"
      ]
    },
    {
      "cell_type": "code",
      "execution_count": null,
      "metadata": {
        "collapsed": false
      },
      "outputs": [],
      "source": [
        "# Full paths to data files\ndata_files = [os.path.join(data_dir, f) for f in ert_files]\n\n# Measurement times (can be timestamps or any sequential numbers representing time)\nmeasurement_times = [1, 2, 3, 4, 5, 6, 7 ,8, 9, 10, 11, 12]  # Adjust based on your actual acquisition times\n\n# Create a mesh for the inversion (or load an existing one)\ndata = ert.load(data_files[0])\nert_manager = ert.ERTManager(data)\nmesh = ert_manager.createMesh(data=data, quality=34)\n\n# Set up inversion parameters\ninversion_params = {\n    \"lambda_val\": 50.0,              # Regularization parameter\n    \"alpha\": 10.0,                   # Temporal regularization parameter\n    \"decay_rate\": 0.0,               # Temporal decay rate\n    \"method\": \"cgls\",                # Solver method ('cgls', 'lsqr', etc.)\n    \"model_constraints\": (0.001, 1e4), # Min/max resistivity values (ohm-m)\n    \"max_iterations\": 15,            # Maximum iterations\n    \"absoluteUError\": 0.0,           # Absolute data error (V)\n    \"relativeError\": 0.05,           # Relative data error (5%)\n    \"lambda_rate\": 1.0,              # Lambda reduction rate\n    \"lambda_min\": 1.0,               # Minimum lambda value\n    \"inversion_type\": \"L2\"           # 'L1', 'L2', or 'L1L2'\n}\n\n# Create the time-lapse inversion object\ninversion = TimeLapseERTInversion(\n    data_files=data_files,\n    measurement_times=measurement_times,\n    mesh=mesh,\n    **inversion_params\n)\n\n# Run the inversion\nprint(\"Starting time-lapse inversion...\")\nresult = inversion.run()\nprint(\"Inversion complete!\")"
      ]
    },
    {
      "cell_type": "code",
      "execution_count": null,
      "metadata": {
        "collapsed": false
      },
      "outputs": [],
      "source": [
        "from palettable.lightbartlein.diverging import BlueDarkRed18_18\nfixed_cmap = BlueDarkRed18_18.mpl_colormap\n\nfig = plt.figure(figsize=[16,6])\n\n# True resistivity model\nfor i in range(12):\n    ax = fig.add_subplot(3,4,i+1)\n    ax, cbar = pg.show(result.mesh,result.final_models[:,i],pad=0.3,orientation=\"vertical\",cMap=fixed_cmap,cMin= 100,cMax = 3000\n                    , ylabel=\"Elevation (m)\",label=' Resistivity ($\\Omega$ m)',ax=ax,logScale=False,coverage=result.all_coverage[i]>-1)\n    cbar.remove()"
      ]
    },
    {
      "cell_type": "markdown",
      "metadata": {},
      "source": [
        "## 2. Window L2 time-lapse inversion\n\n"
      ]
    },
    {
      "cell_type": "markdown",
      "metadata": {},
      "source": [
        "Measurement times (can be timestamps or any sequential numbers representing time)\n\n"
      ]
    },
    {
      "cell_type": "code",
      "execution_count": null,
      "metadata": {
        "collapsed": false
      },
      "outputs": [],
      "source": [
        "measurement_times = [1, 2, 3, 4, 5, 6, 7, 8, 9, 10, 11, 12]  # Adjust based on your actual acquisition times\n\n# Create a mesh for the inversion (or load an existing one)\ndata = ert.load(os.path.join(data_dir, ert_files[0]))\nert_manager = ert.ERTManager(data)\nmesh = ert_manager.createMesh(data=data, quality=34)\n\n# Set up inversion parameters\ninversion_params = {\n    \"lambda_val\": 10.0,              # Regularization parameter\n    \"alpha\": 10.0,                   # Temporal regularization parameter\n    \"decay_rate\": 0.0,               # Temporal decay rate\n    \"method\": \"cgls\",                # Solver method ('cgls', 'lsqr', etc.)\n    \"model_constraints\": (0.001, 1e4), # Min/max resistivity values (ohm-m)\n    \"max_iterations\": 15,            # Maximum iterations\n    \"absoluteUError\": 0.0,           # Absolute data error (V)\n    \"relativeError\": 0.05,           # Relative data error (5%)\n    \"lambda_rate\": 1.0,              # Lambda reduction rate\n    \"lambda_min\": 1.0,               # Minimum lambda value\n    \"inversion_type\": \"L2\"           # 'L1', 'L2', or 'L1L2'\n}\n\n# Define the window size (number of timesteps to process together)\nwindow_size = 3  # A window size of 3 means each window includes 3 consecutive measurements\n\n# Create the windowed time-lapse inversion object\ninversion = WindowedTimeLapseERTInversion(\n    data_dir=data_dir,               # Directory containing ERT data files\n    ert_files=ert_files,             # List of ERT data filenames\n    measurement_times=measurement_times,  # List of measurement times\n    window_size=window_size,         # Size of sliding window\n    mesh=mesh,                       # Mesh for inversion\n    **inversion_params               # Pass the same inversion parameters\n)\n\n# Run the inversion, optionally in parallel\nprint(\"Starting windowed time-lapse inversion...\")\nresult = inversion.run()\nprint(\"Inversion complete!\")"
      ]
    },
    {
      "cell_type": "code",
      "execution_count": null,
      "metadata": {
        "collapsed": false
      },
      "outputs": [],
      "source": [
        "result.final_models = np.array(result.final_models)\nresult.final_models.shape"
      ]
    },
    {
      "cell_type": "code",
      "execution_count": null,
      "metadata": {
        "collapsed": false
      },
      "outputs": [],
      "source": [
        "from palettable.lightbartlein.diverging import BlueDarkRed18_18\nimport matplotlib.pyplot as plt\nimport numpy as np\nimport matplotlib.pylab as pylab\nparams = {'legend.fontsize': 13,\n          #'figure.figsize': (15, 5),\n         'axes.labelsize': 13,\n         'axes.titlesize':13,\n         'xtick.labelsize':13,\n         'ytick.labelsize':13}\n\npylab.rcParams.update(params)\nplt.rcParams[\"font.family\"] = \"Arial\"\n\nfixed_cmap = BlueDarkRed18_18.mpl_colormap\nfig = plt.figure(figsize=[16, 6])\n\n# Use tight_layout with adjusted parameters to reduce space\nplt.subplots_adjust(wspace=0.05, hspace=0.05)\n\n# True resistivity model\nfor i in range(12):\n    row, col = i // 4, i % 4\n    ax = fig.add_subplot(3, 4, i+1)\n    \n    # Add common ylabel only to leftmost panels\n    ylabel = \"Elevation (m)\" if col == 0 else None\n    \n    # Add resistivity label only to the middle-right panel (row 1, col 3)\n    resistivity_label = ' Resistivity ($\\Omega$ m)' if (i == 7) else None\n    \n    # Only show axis ticks on leftmost and bottom panels\n    if col != 0:\n        ax.set_yticks([])\n    \n    if row != 2:  # Not bottom row\n        ax.set_xticks([])\n    else:\n        # Add \"distance (m)\" label to bottom row panels\n        ax.set_xlabel(\"Distance (m)\")\n    \n    # Create the plot\n    ax, cbar = pg.show(result.mesh,\n                      result.final_models[:,i],\n                      pad=0.3,\n                      orientation=\"vertical\",\n                      cMap=fixed_cmap,\n                      cMin=100,\n                      cMax=3000,\n                      ylabel=ylabel,\n                      label=resistivity_label,\n                      ax=ax,\n                      logScale=False,\n                      coverage=result.all_coverage[i]>-1.2)\n    \n    # Only keep colorbar for the middle-right panel (row 1, col 3)\n    # This corresponds to panel index 7 in a 0-based indexing system\n    if i != 7:  # Keep only the colorbar for panel 7\n        cbar.remove()\n\nplt.tight_layout()"
      ]
    },
    {
      "cell_type": "markdown",
      "metadata": {},
      "source": [
        "## 3. Full L1 Time-lapse Inversion\n\n"
      ]
    },
    {
      "cell_type": "code",
      "execution_count": null,
      "metadata": {
        "collapsed": false
      },
      "outputs": [],
      "source": [
        "ax, cbar = pg.show(result.mesh,result.final_models[:,i],pad=0.3,orientation=\"vertical\",cMap=fixed_cmap,cMin= 100,cMax = 3000\n                    , ylabel=\"Elevation (m)\",label=' Resistivity ($\\Omega$ m)',logScale=False,coverage=result.all_coverage[i]>-1)"
      ]
    },
    {
      "cell_type": "markdown",
      "metadata": {},
      "source": [
        "Full paths to data files\n\n"
      ]
    },
    {
      "cell_type": "code",
      "execution_count": null,
      "metadata": {
        "collapsed": false
      },
      "outputs": [],
      "source": [
        "data_files = [os.path.join(data_dir, f) for f in ert_files]\n\n# Measurement times (can be timestamps or any sequential numbers representing time)\nmeasurement_times = [1, 2, 3, 4, 5, 6, 7 ,8, 9, 10, 11, 12]  # Adjust based on your actual acquisition times\n\n# Create a mesh for the inversion (or load an existing one)\ndata = ert.load(data_files[0])\nert_manager = ert.ERTManager(data)\nmesh = ert_manager.createMesh(data=data, quality=34)\n\n# Set up inversion parameters\ninversion_params = {\n    \"lambda_val\": 50.0,              # Regularization parameter\n    \"alpha\": 10.0,                   # Temporal regularization parameter\n    \"decay_rate\": 0.0,               # Temporal decay rate\n    \"method\": \"cgls\",                # Solver method ('cgls', 'lsqr', etc.)\n    \"model_constraints\": (0.001, 1e4), # Min/max resistivity values (ohm-m)\n    \"max_iterations\": 15,            # Maximum iterations\n    \"absoluteUError\": 0.0,           # Absolute data error (V)\n    \"relativeError\": 0.05,           # Relative data error (5%)\n    \"lambda_rate\": 1.0,              # Lambda reduction rate\n    \"lambda_min\": 1.0,               # Minimum lambda value\n    \"inversion_type\": \"L1\"           # 'L1', 'L2', or 'L1L2'\n}\n\n# Create the time-lapse inversion object\ninversion = TimeLapseERTInversion(\n    data_files=data_files,\n    measurement_times=measurement_times,\n    mesh=mesh,\n    **inversion_params\n)\n\n# Run the inversion\nprint(\"Starting time-lapse inversion...\")\nresult_L1 = inversion.run()\nprint(\"Inversion complete!\")"
      ]
    },
    {
      "cell_type": "code",
      "execution_count": null,
      "metadata": {
        "collapsed": false
      },
      "outputs": [],
      "source": [
        "from palettable.lightbartlein.diverging import BlueDarkRed18_18\nfixed_cmap = BlueDarkRed18_18.mpl_colormap\n\nfig = plt.figure(figsize=[16,6])\n\n# True resistivity model\nfor i in range(12):\n    ax = fig.add_subplot(3,4,i+1)\n    ax, cbar = pg.show(result_L1.mesh,result_L1.final_models[:,i],pad=0.3,orientation=\"vertical\",cMap=fixed_cmap,cMin= 100,cMax = 3000\n                    , ylabel=\"Elevation (m)\",label=' Resistivity ($\\Omega$ m)',ax=ax,logScale=False,coverage=result.all_coverage[i]>-1)\n    cbar.remove()"
      ]
    }
  ],
  "metadata": {
    "kernelspec": {
      "display_name": "Python 3",
      "language": "python",
      "name": "python3"
    },
    "language_info": {
      "codemirror_mode": {
        "name": "ipython",
        "version": 3
      },
      "file_extension": ".py",
      "mimetype": "text/x-python",
      "name": "python",
      "nbconvert_exporter": "python",
      "pygments_lexer": "ipython3",
      "version": "3.11.8"
    }
  },
  "nbformat": 4,
  "nbformat_minor": 0
}