{
  "cells": [
    {
      "cell_type": "code",
      "execution_count": null,
      "metadata": {
        "collapsed": false
      },
      "outputs": [],
      "source": [
        "%matplotlib inline\n# This example requires data files and dependencies\n# that are not available in the documentation build\nprint(\"Example code shown for reference only\")"
      ]
    },
    {
      "cell_type": "markdown",
      "metadata": {},
      "source": [
        "\n# Ex 7. Structure-Constrained Time-Lapse Resistivity Inversion\n\nThis example combines structural constraints with time-lapse ERT inversion\nto monitor water content changes in layered geological media.\n\nThe workflow demonstrates:\n1. Loading meshes with geological structure from seismic interpretation\n2. Time-lapse ERT inversion with structural constraints\n3. Converting resistivity to water content using layer-specific petrophysics\n4. Uncertainty quantification through Monte Carlo analysis\n5. Time series analysis of water content at specific locations\n\nThis advanced approach provides the most reliable estimates of subsurface\nwater content evolution by combining temporal, spatial, and geological\nconstraints in the inversion process.\n"
      ]
    },
    {
      "cell_type": "code",
      "execution_count": null,
      "metadata": {
        "collapsed": false
      },
      "outputs": [],
      "source": [
        "import os\nimport sys\nimport numpy as np\nimport matplotlib.pyplot as plt\nimport pygimli as pg\nfrom pygimli.physics import ert\nfrom mpl_toolkits.axes_grid1 import make_axes_locatable\n\n# Setup package path for development\ntry:\n    # For regular Python scripts\n    current_dir = os.path.dirname(os.path.abspath(__file__))\nexcept NameError:\n    # For Jupyter notebooks\n    current_dir = os.getcwd()\n\n# Add the parent directory to Python path\nparent_dir = os.path.dirname(current_dir)\nif parent_dir not in sys.path:\n    sys.path.append(parent_dir)\n\n# Import PyHydroGeophysX modules\nfrom PyHydroGeophysX.inversion.time_lapse import TimeLapseERTInversion\nfrom PyHydroGeophysX.inversion.windowed import WindowedTimeLapseERTInversion"
      ]
    },
    {
      "cell_type": "code",
      "execution_count": null,
      "metadata": {
        "collapsed": false
      },
      "outputs": [],
      "source": [
        "data_dir = os.path.join(current_dir, \"results\",\"TL_measurements\",\"appres\")\n#\"C:/Users/HChen8/Documents/GitHub/PyHydroGeophysX/examples/results/TL_measurements/appres\"\n\n# List of ERT data files testing monthly time-lapse inversion\nert_files = [\n    \"synthetic_data30.dat\",\n    \"synthetic_data60.dat\",\n    \"synthetic_data90.dat\",\n    \"synthetic_data120.dat\",\n    \"synthetic_data150.dat\",\n    \"synthetic_data180.dat\",\n    \"synthetic_data210.dat\",\n    \"synthetic_data240.dat\",\n    \"synthetic_data270.dat\",\n    \"synthetic_data300.dat\",\n    \"synthetic_data330.dat\",\n    \"synthetic_data360.dat\",\n]\n\n\n# Full paths to data files\ndata_files = [os.path.join(data_dir, f) for f in ert_files]\n\n# Measurement times (can be timestamps or any sequential numbers representing time)\n# Measurement times (can be timestamps or any sequential numbers representing time)\nmeasurement_times = [1, 2, 3, 4, 5, 6, 7, 8, 9, 10, 11, 12]  # Adjust based on your actual acquisition times\n\n# Create a mesh for the inversion (or load an existing one)\ndata = ert.load(os.path.join(data_dir, ert_files[0]))\nert_manager = ert.ERTManager(data)\nmesh_with_interface = pg.load(os.path.join(current_dir, \"results\",\"Structure_WC\",\"mesh_with_interface.bms\"))\n    #\"C:/Users/HChen8/Documents/GitHub/PyHydroGeophysX/examples/results/Structure_WC/mesh_with_interface.bms\")"
      ]
    },
    {
      "cell_type": "code",
      "execution_count": null,
      "metadata": {
        "collapsed": false
      },
      "outputs": [],
      "source": [
        "# Set up inversion parameters\ninversion_params = {\n    \"lambda_val\": 10.0,              # Regularization parameter\n    \"alpha\": 10.0,                   # Temporal regularization parameter\n    \"decay_rate\": 0.0,               # Temporal decay rate\n    \"method\": \"cgls\",                # Solver method ('cgls', 'lsqr', etc.)\n    \"model_constraints\": (0.001, 1e4), # Min/max resistivity values (ohm-m)\n    \"max_iterations\": 15,            # Maximum iterations\n    \"absoluteUError\": 0.0,           # Absolute data error (V)\n    \"relativeError\": 0.05,           # Relative data error (5%)\n    \"lambda_rate\": 1.0,              # Lambda reduction rate\n    \"lambda_min\": 1.0,               # Minimum lambda value\n    \"inversion_type\": \"L2\"           # 'L1', 'L2', or 'L1L2'\n}\n\n# Define the window size (number of timesteps to process together)\nwindow_size = 3  # A window size of 3 means each window includes 3 consecutive measurements\n\n# Create the windowed time-lapse inversion object\ninversion = WindowedTimeLapseERTInversion(\n    data_dir=data_dir,               # Directory containing ERT data files\n    ert_files=ert_files,             # List of ERT data filenames\n    measurement_times=measurement_times,  # List of measurement times\n    window_size=window_size,         # Size of sliding window\n    mesh=mesh_with_interface,                       # Mesh for inversion\n    **inversion_params               # Pass the same inversion parameters\n)\n\n# Run the inversion, optionally in parallel\nprint(\"Starting windowed time-lapse inversion...\")\nresult = inversion.run()\nprint(\"Inversion complete!\")"
      ]
    },
    {
      "cell_type": "code",
      "execution_count": null,
      "metadata": {
        "collapsed": false
      },
      "outputs": [],
      "source": [
        "result.final_models = np.array(result.final_models)\nresult.final_models.shape\nresult.all_coverage = np.array(result.all_coverage)\nresult.all_coverage.shape"
      ]
    },
    {
      "cell_type": "code",
      "execution_count": null,
      "metadata": {
        "collapsed": false
      },
      "outputs": [],
      "source": [
        "np.save(os.path.join(current_dir, \"results\",\"Structure_WC\",\"resmodel.npy\"), result.final_models[result.mesh.cellMarkers(),:])\n#\"C:/Users/HChen8/Documents/GitHub/PyHydroGeophysX/examples/results/Structure_WC/resmodel.npy\"\nnp.save(os.path.join(current_dir, \"results\",\"Structure_WC\",\"all_coverage.npy\"), result.all_coverage[:,result.mesh.cellMarkers()])\n#\"C:/Users/HChen8/Documents/GitHub/PyHydroGeophysX/examples/results/Structure_WC/all_coverage.npy\"\nresult.mesh.save(os.path.join(current_dir, \"results\",\"Structure_WC\",\"mesh_res.bms\"))\n#\"C:/Users/HChen8/Documents/GitHub/PyHydroGeophysX/examples/results/Structure_WC/mesh_res.bms\""
      ]
    },
    {
      "cell_type": "code",
      "execution_count": null,
      "metadata": {
        "collapsed": false
      },
      "outputs": [],
      "source": [
        "from palettable.lightbartlein.diverging import BlueDarkRed18_18\nimport matplotlib.pyplot as plt\nimport numpy as np\nimport matplotlib.pylab as pylab\nparams = {'legend.fontsize': 13,\n          #'figure.figsize': (15, 5),\n         'axes.labelsize': 13,\n         'axes.titlesize':13,\n         'xtick.labelsize':13,\n         'ytick.labelsize':13}\n\npylab.rcParams.update(params)\nplt.rcParams[\"font.family\"] = \"Arial\"\n\nfixed_cmap = BlueDarkRed18_18.mpl_colormap\nfig = plt.figure(figsize=[16, 6])\n\n# Use tight_layout with adjusted parameters to reduce space\nplt.subplots_adjust(wspace=0.05, hspace=0.05)\n\n# True resistivity model\nfor i in range(12):\n    row, col = i // 4, i % 4\n    ax = fig.add_subplot(3, 4, i+1)\n    \n    # Add common ylabel only to leftmost panels\n    ylabel = \"Elevation (m)\" if col == 0 else None\n    \n    # Add resistivity label only to the middle-right panel (row 1, col 3)\n    resistivity_label = ' Resistivity ($\\Omega$ m)' if (i == 7) else None\n    \n    # Only show axis ticks on leftmost and bottom panels\n    if col != 0:\n        ax.set_yticks([])\n    \n    if row != 2:  # Not bottom row\n        ax.set_xticks([])\n    else:\n        # Add \"distance (m)\" label to bottom row panels\n        ax.set_xlabel(\"Distance (m)\")\n    \n    # Create the plot\n    ax, cbar = pg.show(result.mesh,\n                      result.final_models[:,i][result.mesh.cellMarkers()],\n                      pad=0.3,\n                      orientation=\"vertical\",\n                      cMap=fixed_cmap,\n                      cMin=100,\n                      cMax=3000,\n                      ylabel=ylabel,\n                      label=resistivity_label,\n                      ax=ax,\n                      logScale=False,\n                      coverage=result.all_coverage[i][result.mesh.cellMarkers()]>-1.2)\n    if i ==0:\n        ax.plot([40],[1607],'*',c='k')\n        ax.plot([80],[1621],'*',c='k')\n\n        ax.plot([30],[1604],'*',c='k')\n        ax.plot([65],[1608],'*',c='k')\n        \n    # Only keep colorbar for the middle-right panel (row 1, col 3)\n    # This corresponds to panel index 7 in a 0-based indexing system\n    if i != 7:  # Keep only the colorbar for panel 7\n        cbar.remove()\n\nplt.tight_layout()"
      ]
    }
  ],
  "metadata": {
    "kernelspec": {
      "display_name": "Python 3",
      "language": "python",
      "name": "python3"
    },
    "language_info": {
      "codemirror_mode": {
        "name": "ipython",
        "version": 3
      },
      "file_extension": ".py",
      "mimetype": "text/x-python",
      "name": "python",
      "nbconvert_exporter": "python",
      "pygments_lexer": "ipython3",
      "version": "3.11.8"
    }
  },
  "nbformat": 4,
  "nbformat_minor": 0
}