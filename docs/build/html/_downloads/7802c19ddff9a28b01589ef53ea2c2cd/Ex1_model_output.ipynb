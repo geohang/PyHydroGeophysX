{
  "cells": [
    {
      "cell_type": "markdown",
      "metadata": {},
      "source": [
        "\n# Ex 1. Loading and Processing Hydrological Model Outputs\n\nThis example demonstrates how to load and process outputs from different \nhydrological models using PyHydroGeophysX. We show examples for both \nParFlow and MODFLOW models.\n\nThe example covers:\n- Loading ParFlow saturation and porosity data\n- Loading MODFLOW water content and porosity data  \n- Basic visualization of the loaded data\n\nThis is typically the first step in any workflow where you want to\nconvert hydrological model outputs to geophysical data.\n"
      ]
    },
    {
      "cell_type": "code",
      "execution_count": null,
      "metadata": {
        "collapsed": false
      },
      "outputs": [],
      "source": [
        "# sphinx_gallery_thumbnail_number = 2\n\nimport os\nimport sys\nimport numpy as np\nimport matplotlib.pyplot as plt\n\n# Setup paths\ntry:\n    current_dir = os.path.dirname(os.path.abspath(__file__))\nexcept NameError:\n    current_dir = os.getcwd()\n\nparent_dir = os.path.dirname(os.path.dirname(current_dir))\nif parent_dir not in sys.path:\n    sys.path.append(parent_dir)\n\nfrom PyHydroGeophysX.model_output.parflow_output import ParflowSaturation, ParflowPorosity\nfrom PyHydroGeophysX.model_output.modflow_output import MODFLOWWaterContent, MODFLOWPorosity"
      ]
    },
    {
      "cell_type": "markdown",
      "metadata": {},
      "source": [
        "## 1. ParFlow Example\n\nLet's start by loading ParFlow data. ParFlow is a physically-based, \nthree-dimensional model that simulates surface and subsurface flow.\n\n"
      ]
    },
    {
      "cell_type": "code",
      "execution_count": null,
      "metadata": {
        "collapsed": false
      },
      "outputs": [],
      "source": [
        "# Path to your Parflow model directory\ncurrent_dir = os.getcwd()\nmodel_directory = os.path.join(current_dir, \"data\", \"parflow\", \"test2\")\n\n# Load saturation data\nsaturation_processor = ParflowSaturation(\n    model_directory=model_directory,\n    run_name=\"test2\"\n)\nsaturation = saturation_processor.load_timestep(200)\n\n# Load porosity data\nporosity_processor = ParflowPorosity(\n    model_directory=model_directory,\n    run_name=\"test2\"\n)\nporosity = porosity_processor.load_porosity()\n\nmask = porosity_processor.load_mask()\nporosity[mask==0] = np.nan\nsaturation[mask==0] = np.nan\n\nprint(saturation.shape)"
      ]
    },
    {
      "cell_type": "markdown",
      "metadata": {},
      "source": [
        "### Plotting the ParFlow data\n\n"
      ]
    },
    {
      "cell_type": "code",
      "execution_count": null,
      "metadata": {
        "collapsed": false
      },
      "outputs": [],
      "source": [
        "plt.figure(figsize=(10, 4))\nplt.subplot(1, 2, 1)\nplt.imshow(porosity[19, :, :], cmap='viridis')\nplt.colorbar(label='Porosity')\nplt.gca().invert_yaxis()\nplt.title('ParFlow Porosity (Layer 19)')\n\nplt.subplot(1, 2, 2)\nplt.imshow(saturation[19, :, :], cmap='viridis')\nplt.colorbar(label='Saturation')\nplt.gca().invert_yaxis()\nplt.title('ParFlow Saturation (Layer 19)')\n\nplt.tight_layout()\nplt.show()"
      ]
    },
    {
      "cell_type": "markdown",
      "metadata": {},
      "source": [
        "The above plot shows the porosity and saturation data from ParFlow simulation.\nNotice how the values vary spatially across the domain. The porosity shows \nthe void space available for fluid storage, while saturation indicates how \nmuch of that space is filled with water.\n\n<img src=\"file://auto_examples/images/Ex1_model_output_fig_01.png\" align=\"center\" width=\"600px\">\n\n"
      ]
    },
    {
      "cell_type": "markdown",
      "metadata": {},
      "source": [
        "## 2. MODFLOW Example\n\nMODFLOW is a widely-used groundwater flow model. Here we'll load water content\nand porosity data from a MODFLOW simulation.\n\n"
      ]
    },
    {
      "cell_type": "code",
      "execution_count": null,
      "metadata": {
        "collapsed": false
      },
      "outputs": [],
      "source": [
        "# These would be your actual data files\ndata_dir = os.path.join(current_dir, \"data\")\nmodflow_dir = os.path.join(data_dir, \"modflow\")\nidomain = np.loadtxt(os.path.join(modflow_dir, \"id.txt\"))\n\n# Initialize MODFLOW water content processor\nwater_content_processor = MODFLOWWaterContent(\n    model_directory=modflow_dir,\n    idomain=idomain\n)\n\n# Load water content for a specific timestep\ntimestep = 1\nwater_content = water_content_processor.load_timestep(timestep)\nprint(water_content.shape)\n\n# Load porosity data\nmodel_name = \"TLnewtest2sfb2\"\nporosity_loader = MODFLOWPorosity(\n    model_directory=modflow_dir,\n    model_name=model_name\n)\nporosity_data = porosity_loader.load_porosity()"
      ]
    },
    {
      "cell_type": "markdown",
      "metadata": {},
      "source": [
        "### Plotting the MODFLOW data\n\n"
      ]
    },
    {
      "cell_type": "code",
      "execution_count": null,
      "metadata": {
        "collapsed": false
      },
      "outputs": [],
      "source": [
        "porosity_data1 = porosity_data[0, :, :]\nporosity_data1[idomain==0] = np.nan\n\nplt.figure(figsize=(10, 4))\nplt.subplot(1, 2, 1)\nplt.imshow(porosity_data1, cmap='viridis')\nplt.colorbar(label='Porosity')\nplt.title('MODFLOW Porosity')\n\nplt.subplot(1, 2, 2)\nplt.imshow(water_content[0, :, :], cmap='viridis')\nplt.colorbar(label='Water Content')\nplt.title('MODFLOW Water Content')\n\nplt.tight_layout()\nplt.show()"
      ]
    },
    {
      "cell_type": "markdown",
      "metadata": {},
      "source": [
        "The MODFLOW results show the comparison between porosity distribution and \nwater content. The water content represents the volumetric water content, \nwhich is the product of porosity and saturation.\n\n<img src=\"file://auto_examples/images/Ex1_model_output_fig_02.png\" align=\"center\" width=\"600px\">\n"
      ]
    }
  ],
  "metadata": {
    "kernelspec": {
      "display_name": "Python 3",
      "language": "python",
      "name": "python3"
    },
    "language_info": {
      "codemirror_mode": {
        "name": "ipython",
        "version": 3
      },
      "file_extension": ".py",
      "mimetype": "text/x-python",
      "name": "python",
      "nbconvert_exporter": "python",
      "pygments_lexer": "ipython3",
      "version": "3.11.8"
    }
  },
  "nbformat": 4,
  "nbformat_minor": 0
}