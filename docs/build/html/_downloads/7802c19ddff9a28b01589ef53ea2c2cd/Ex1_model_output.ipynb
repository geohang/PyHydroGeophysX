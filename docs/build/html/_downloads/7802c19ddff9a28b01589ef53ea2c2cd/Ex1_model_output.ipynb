{
  "cells": [
    {
      "cell_type": "code",
      "execution_count": null,
      "metadata": {
        "collapsed": false
      },
      "outputs": [],
      "source": [
        "# PyHydroGeophysX Example\n# Figures are pre-generated"
      ]
    },
    {
      "cell_type": "markdown",
      "metadata": {},
      "source": [
        "\n# Ex 1. Loading and Processing Hydrological Model Outputs\n\nThis example demonstrates how to load and process outputs from different \nhydrological models using PyHydroGeophysX. We show examples for both \nParFlow and MODFLOW models.\n\nThe example covers:\n- Loading ParFlow saturation and porosity data\n- Loading MODFLOW water content and porosity data  \n- Basic visualization of the loaded data\n\nThis is typically the first step in any workflow where you want to\nconvert hydrological model outputs to geophysical data.\n"
      ]
    },
    {
      "cell_type": "code",
      "execution_count": null,
      "metadata": {
        "collapsed": false
      },
      "outputs": [],
      "source": [
        "import os\nimport sys\nimport numpy as np\nimport matplotlib.pyplot as plt\n\n# For Jupyter notebooks, use the current working directory\ntry:\n    # For regular Python scripts\n    current_dir = os.path.dirname(os.path.abspath(__file__))\nexcept NameError:\n    # For Jupyter notebooks\n    current_dir = os.getcwd()\n\n# Add the parent directory (OPEN_ERT) to the path\nparent_dir = os.path.dirname(os.path.dirname(current_dir))\nif parent_dir not in sys.path:\n    sys.path.append(parent_dir)\n\nfrom PyHydroGeophysX.model_output.parflow_output import ParflowSaturation, ParflowPorosity\nfrom PyHydroGeophysX.model_output.modflow_output import MODFLOWWaterContent, MODFLOWPorosity"
      ]
    },
    {
      "cell_type": "markdown",
      "metadata": {},
      "source": [
        "## 1. ParFlow Example\n\nLet's start by loading ParFlow data. ParFlow is a physically-based, \nthree-dimensional model that simulates surface and subsurface flow.\n\n"
      ]
    },
    {
      "cell_type": "markdown",
      "metadata": {},
      "source": [
        "Path to your Parflow model directory\n\n"
      ]
    },
    {
      "cell_type": "code",
      "execution_count": null,
      "metadata": {
        "collapsed": false
      },
      "outputs": [],
      "source": [
        "current_dir = os.getcwd()\nmodel_directory = os.path.join(current_dir, \"data\", \"parflow\", \"test2\")\n\n# Load saturation data\nsaturation_processor = ParflowSaturation(\n    model_directory=model_directory,\n    run_name=\"test2\"\n)\nsaturation = saturation_processor.load_timestep(200)  # Load first timestep\n\n# Load porosity data\nporosity_processor = ParflowPorosity(\n    model_directory=model_directory,\n    run_name=\"test2\"\n)\nporosity = porosity_processor.load_porosity()\n\nmask = porosity_processor.load_mask()\nmask.shape\nporosity[mask==0] = np.nan\nsaturation[mask==0] = np.nan\n\nprint(saturation.shape)"
      ]
    },
    {
      "cell_type": "markdown",
      "metadata": {},
      "source": [
        "### Visualizing ParFlow Data\n\nNow let's create visualizations of the loaded ParFlow data. We'll plot\nboth porosity and saturation for layer 19 of the model.\n\n"
      ]
    },
    {
      "cell_type": "markdown",
      "metadata": {},
      "source": [
        "Plotting the data\n\n"
      ]
    },
    {
      "cell_type": "code",
      "execution_count": null,
      "metadata": {
        "collapsed": false
      },
      "outputs": [],
      "source": [
        "plt.figure(figsize=(10, 4))\nplt.subplot(1, 2, 1)\nplt.imshow(porosity[19, :, :], cmap='viridis')\nplt.colorbar(label='Porosity')\nplt.gca().invert_yaxis()\nplt.title('ParFlow Porosity (Layer 19)')\n\nplt.subplot(1, 2, 2)\nplt.imshow(saturation[19, :, :], cmap='viridis')\nplt.colorbar(label='Saturation')\nplt.gca().invert_yaxis()\nplt.title('ParFlow Saturation (Layer 19)')\n\nplt.tight_layout()\nplt.show()"
      ]
    },
    {
      "cell_type": "markdown",
      "metadata": {},
      "source": [
        "The above plot shows the porosity and saturation data from ParFlow simulation.\nNotice how the values vary spatially across the domain. The porosity shows \nthe void space available for fluid storage, while saturation indicates how \nmuch of that space is filled with water.\n\n<img src=\"file://auto_examples/images/Ex1_model_output_fig_01.png\" align=\"center\" width=\"600px\">\n\n"
      ]
    },
    {
      "cell_type": "markdown",
      "metadata": {},
      "source": [
        "## 2. MODFLOW Example\n\nMODFLOW is a widely-used groundwater flow model. Here we'll load water content\nand porosity data from a MODFLOW simulation.\n\n"
      ]
    },
    {
      "cell_type": "markdown",
      "metadata": {},
      "source": [
        "These would be your actual data files\n\n"
      ]
    },
    {
      "cell_type": "code",
      "execution_count": null,
      "metadata": {
        "collapsed": false
      },
      "outputs": [],
      "source": [
        "data_dir = model_directory = os.path.join(current_dir, \"data\")\nmodflow_dir = os.path.join(data_dir, \"modflow\")\nidomain = np.loadtxt(os.path.join(modflow_dir, \"id.txt\"))\n\n# Initialize MODFLOW water content processor\nwater_content_processor = MODFLOWWaterContent(\n    model_directory=modflow_dir,  # Changed from sim_ws\n    idomain=idomain\n)\n\n# Load water content for a specific timestep\ntimestep = 1\nwater_content = water_content_processor.load_timestep(timestep)\n\nprint(water_content.shape)\n\n# Path to your MODFLOW model directory\nmodel_name = \"TLnewtest2sfb2\"  # Your model name\n\n# 1. Create an instance of the MODFLOWPorosity class\nporosity_loader = MODFLOWPorosity(\n    model_directory=modflow_dir,\n    model_name=model_name\n)\n# 2. Load the porosity data\nporosity_data = porosity_loader.load_porosity()"
      ]
    },
    {
      "cell_type": "markdown",
      "metadata": {},
      "source": [
        "### Visualizing MODFLOW Data\n\nLet's create visualizations of the MODFLOW simulation results. We'll compare\nthe porosity distribution with the water content.\n\n"
      ]
    },
    {
      "cell_type": "markdown",
      "metadata": {},
      "source": [
        "Plotting the data\n\n"
      ]
    },
    {
      "cell_type": "code",
      "execution_count": null,
      "metadata": {
        "collapsed": false
      },
      "outputs": [],
      "source": [
        "porosity_data1 = porosity_data[0, :, :]\nporosity_data1[idomain==0] = np.nan\n\nplt.figure(figsize=(10, 4))\nplt.subplot(1, 2, 1)\nplt.imshow(porosity_data1[ :, :], cmap='viridis')\nplt.colorbar(label='Porosity')\nplt.title('MODFLOW Porosity')\n\nplt.subplot(1, 2, 2)\nplt.imshow(water_content[0, :, :], cmap='viridis')\nplt.colorbar(label='Water Content')\nplt.title('MODFLOW Water Content')\n\nplt.tight_layout()\nplt.show()"
      ]
    },
    {
      "cell_type": "markdown",
      "metadata": {},
      "source": [
        "The MODFLOW results show the comparison between porosity distribution and \nwater content. The water content represents the volumetric water content, \nwhich is the product of porosity and saturation.\n\n<img src=\"file://auto_examples/images/Ex1_model_output_fig_02.png\" align=\"center\" width=\"600px\">\n\n"
      ]
    },
    {
      "cell_type": "markdown",
      "metadata": {},
      "source": [
        "## Summary and Next Steps\n\nThis example has demonstrated the basic workflow for loading hydrological\nmodel outputs using PyHydroGeophysX. Key points:\n\n* **ParFlow Integration**: Load 3D saturation and porosity fields from ParFlow simulations\n* **MODFLOW Integration**: Access water content and porosity from MODFLOW models  \n* **Data Visualization**: Create plots to understand spatial distribution of properties\n* **Data Preprocessing**: Handle inactive cells and missing data appropriately\n\nThe loaded hydrological data serves as input for geophysical forward modeling,\nwhere water content and porosity are converted to resistivity and seismic velocity\nusing petrophysical relationships.\n\n**Next Steps:**\n\n* Convert water content to resistivity using Archie's law (see Example 2)\n* Set up 2D profiles for geophysical modeling (see Example 2) \n* Perform ERT forward modeling and inversion (see Examples 3-4)\n* Apply time-lapse analysis for monitoring applications (see Examples 4-7)\n\n"
      ]
    },
    {
      "cell_type": "markdown",
      "metadata": {},
      "source": [
        "## Download and Links\n\n* :download:`Download this example <Ex1_model_output.py>`\n* See `example_02` for the complete workflow\n* Visit the `api_reference` for detailed function documentation\n\n"
      ]
    }
  ],
  "metadata": {
    "kernelspec": {
      "display_name": "Python 3",
      "language": "python",
      "name": "python3"
    },
    "language_info": {
      "codemirror_mode": {
        "name": "ipython",
        "version": 3
      },
      "file_extension": ".py",
      "mimetype": "text/x-python",
      "name": "python",
      "nbconvert_exporter": "python",
      "pygments_lexer": "ipython3",
      "version": "3.11.8"
    }
  },
  "nbformat": 4,
  "nbformat_minor": 0
}