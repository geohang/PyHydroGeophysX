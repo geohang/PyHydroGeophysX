{
  "cells": [
    {
      "cell_type": "markdown",
      "metadata": {},
      "source": [
        "\n# Ex 2. Complete Workflow: From Hydrological Models to Geophysical Inversion\n\nThis example demonstrates the complete workflow for integrating hydrological \nmodel outputs with geophysical forward modeling and inversion using PyHydroGeophysX.\n\nThe workflow includes:\n1. Loading MODFLOW water content data\n2. Setting up 2D profile interpolation from 3D model data\n3. Creating meshes with geological layer structure\n4. Converting water content to resistivity using petrophysical relationships\n5. Converting water content to seismic velocity using rock physics models\n6. Forward modeling to create synthetic ERT and seismic data\n7. Performing ERT inversion to recover resistivity models\n\nThis example serves as a comprehensive tutorial showing the integration\nof hydrological and geophysical modeling for watershed monitoring applications.\n"
      ]
    },
    {
      "cell_type": "code",
      "execution_count": null,
      "metadata": {
        "collapsed": false
      },
      "outputs": [],
      "source": [
        "import os\nimport sys\nimport numpy as np\nimport matplotlib.pyplot as plt\nimport pygimli as pg\nfrom pygimli.physics import ert\nfrom pygimli.physics import TravelTimeManager\nimport pygimli.physics.traveltime as tt\nfrom mpl_toolkits.axes_grid1 import make_axes_locatable\n\n# Setup package path for development\ntry:\n    # For regular Python scripts\n    current_dir = os.path.dirname(os.path.abspath(__file__))\nexcept NameError:\n    # For Jupyter notebooks\n    current_dir = os.getcwd()\n\n# Add the parent directory to Python path\nparent_dir = os.path.dirname(current_dir)\nif parent_dir not in sys.path:\n    sys.path.append(parent_dir)\n\n# Import PyHydroGeophysX modules\nfrom PyHydroGeophysX.core.interpolation import ProfileInterpolator, create_surface_lines\nfrom PyHydroGeophysX.core.mesh_utils import MeshCreator\nfrom PyHydroGeophysX.petrophysics.resistivity_models import water_content_to_resistivity\nfrom PyHydroGeophysX.petrophysics.velocity_models import HertzMindlinModel, DEMModel\nfrom PyHydroGeophysX.forward.ert_forward import ERTForwardModeling\nfrom PyHydroGeophysX.inversion.ert_inversion import ERTInversion\nfrom PyHydroGeophysX.Hydro_modular import hydro_to_ert"
      ]
    },
    {
      "cell_type": "code",
      "execution_count": null,
      "metadata": {
        "collapsed": false
      },
      "outputs": [],
      "source": [
        "output_dir = \"C:/Users/HChen8/Documents/GitHub/PyHydroGeophysX/examples/results/workflow_example\"\nos.makedirs(output_dir, exist_ok=True)"
      ]
    },
    {
      "cell_type": "markdown",
      "metadata": {},
      "source": [
        "## Step by Step approach\n\n"
      ]
    },
    {
      "cell_type": "markdown",
      "metadata": {},
      "source": [
        "### Loading domain information...\n\n"
      ]
    },
    {
      "cell_type": "markdown",
      "metadata": {},
      "source": [
        "These would be your actual data files\n\n"
      ]
    },
    {
      "cell_type": "code",
      "execution_count": null,
      "metadata": {
        "collapsed": false
      },
      "outputs": [],
      "source": [
        "data_dir = \"C:/Users/HChen8/Documents/GitHub/PyHydroGeophysX/examples/data/\"\nmodflow_dir = os.path.join(data_dir, \"modflow\")\n\n# Load domain information from files\n# (Replace with your actual file paths)\nidomain = np.loadtxt(os.path.join(data_dir, \"id.txt\"))\ntop = np.loadtxt(os.path.join(data_dir, \"top.txt\"))\nporosity = np.load(os.path.join(data_dir, \"Porosity.npy\"))"
      ]
    },
    {
      "cell_type": "markdown",
      "metadata": {},
      "source": [
        "### Loading MODFLOW water content data..\n\n"
      ]
    },
    {
      "cell_type": "markdown",
      "metadata": {},
      "source": [
        "Step 2: Exmaple of loading MODFLOW water content data\n\n"
      ]
    },
    {
      "cell_type": "code",
      "execution_count": null,
      "metadata": {
        "collapsed": false
      },
      "outputs": [],
      "source": [
        "# Note that to save the loading time, we only use a low resoluation model load for the example\n# In a real-world application, you would load the full resolution data\n# here we will load the npy file for the water content to save time\n\n# Load the water content from a .npy file for demonstration purposes\n\nWater_Content = np.load(os.path.join(data_dir, \"Watercontent.npy\"))\n\nwater_content = Water_Content[50]\nprint(water_content.shape)"
      ]
    },
    {
      "cell_type": "markdown",
      "metadata": {},
      "source": [
        "### Set up profile for 2D section\n\n"
      ]
    },
    {
      "cell_type": "markdown",
      "metadata": {},
      "source": [
        "Step 3: Set up profile for 2D section\n\n"
      ]
    },
    {
      "cell_type": "code",
      "execution_count": null,
      "metadata": {
        "collapsed": false
      },
      "outputs": [],
      "source": [
        "print(\"Step 3: Setting up profile...\")\n\n# Define profile endpoints\npoint1 = [115, 70]  # [col, row]\npoint2 = [95, 180]  # [col, row]\n\n# Initialize profile interpolator\ninterpolator = ProfileInterpolator(\n    point1=point1,\n    point2=point2,\n    surface_data=top,\n    origin_x=569156.0,\n    origin_y=4842444.0,\n    pixel_width=1.0,\n    pixel_height=-1.0,\n    num_points = 400\n)"
      ]
    },
    {
      "cell_type": "markdown",
      "metadata": {},
      "source": [
        "### Interpolating data to profile\n\n"
      ]
    },
    {
      "cell_type": "markdown",
      "metadata": {},
      "source": [
        "Step 4: Interpolate data to profile\n\n"
      ]
    },
    {
      "cell_type": "code",
      "execution_count": null,
      "metadata": {
        "collapsed": false
      },
      "outputs": [],
      "source": [
        "# Interpolate water content to profile\nwater_content_profile = interpolator.interpolate_3d_data(water_content)\n\n# Interpolate porosity to profile\nporosity_profile = interpolator.interpolate_3d_data(porosity)"
      ]
    },
    {
      "cell_type": "markdown",
      "metadata": {},
      "source": [
        "### Creating mesh\n\n"
      ]
    },
    {
      "cell_type": "code",
      "execution_count": null,
      "metadata": {
        "collapsed": false
      },
      "outputs": [],
      "source": [
        "# Load structure layers\nbot = np.load(os.path.join(data_dir, \"bot.npy\"))\n\n# Process layers to get structure\nstructure = interpolator.interpolate_layer_data([top] + bot.tolist())\n\n# Create surface lines\n# Indicate the layer for the structure regolith, fractured bedrock and fresh bedrock\ntop_idx=int(0)\nmid_idx=int(4)\nbot_idx=int(12)\nsurface, line1, line2 = create_surface_lines(\n    L_profile=interpolator.L_profile,\n    structure=structure,\n    top_idx=0,\n    mid_idx=4,\n    bot_idx=12\n)\n\n# Create mesh\nmesh_creator = MeshCreator(quality=32)\nmesh, geom = mesh_creator.create_from_layers(\n    surface=surface,\n    layers=[line1, line2],\n    bottom_depth= np.min(line2[:,1])-10 #50.0\n)\n\n# Save mesh\nmesh.save(os.path.join(output_dir, \"mesh.bms\"))"
      ]
    },
    {
      "cell_type": "markdown",
      "metadata": {},
      "source": [
        "Visualize the result\n\n"
      ]
    },
    {
      "cell_type": "code",
      "execution_count": null,
      "metadata": {
        "collapsed": false
      },
      "outputs": [],
      "source": [
        "import matplotlib.pyplot as plt\n\nplt.figure(figsize=(15, 5))\ntop[idomain==0] = np.nan  # Mask out the inactive cells in the top layer\n# Plot the surface and profile line\nplt.subplot(121)\nplt.imshow(top)\nplt.colorbar(label='Top Elevation (m)')\nplt.plot(point1[0], point1[1], 'ro', label='Start')\nplt.plot(point2[0], point2[1], 'bo', label='End')\nplt.plot([point1[0], point2[0]], [point1[1], point2[1]], 'r--')\nplt.legend()\nplt.title('Surface Elevation with Profile Line')\n\n# Plot the profile coordinates\nplt.subplot(122)\nplt.plot(surface[:,0], surface[:,1])\nplt.title('Elevation Along Profile')\nplt.xlabel('Distance Along Profile')\nplt.ylabel('Elevation')\n\nplt.tight_layout()\nplt.show()"
      ]
    },
    {
      "cell_type": "markdown",
      "metadata": {},
      "source": [
        "### Interpolating data to mesh\n\n"
      ]
    },
    {
      "cell_type": "markdown",
      "metadata": {},
      "source": [
        "Step 6: Interpolate data to mesh\n\n"
      ]
    },
    {
      "cell_type": "code",
      "execution_count": null,
      "metadata": {
        "collapsed": false
      },
      "outputs": [],
      "source": [
        "ID1 = porosity_profile.copy()\nID1[:mid_idx] = 0 #regolith\nID1[mid_idx:bot_idx] = 3 # fractured bedrock\nID1[bot_idx:] = 2 # fresh bedrock\n\n# Get mesh centers and markers\nmesh_centers = np.array(mesh.cellCenters())\nmesh_markers = np.array(mesh.cellMarkers())\n\n# Interpolate porosity to mesh\nporosity_mesh = interpolator.interpolate_to_mesh(\n    property_values=porosity_profile,\n    depth_values=structure,\n    mesh_x=mesh_centers[:, 0],\n    mesh_y=mesh_centers[:, 1],\n    mesh_markers=mesh_markers,\n    ID=ID1, # Use ID1 to indicate the layers for interpolation\n    layer_markers = [0,3,2],\n\n)\n\n# Interpolate water content to mesh\nwc_mesh = interpolator.interpolate_to_mesh(\n    property_values=water_content_profile,\n    depth_values=structure,\n    mesh_x=mesh_centers[:, 0],\n    mesh_y=mesh_centers[:, 1],\n    mesh_markers=mesh_markers,\n    ID=ID1, # Use ID1 to indicate the layers for interpolation\n    layer_markers = [0,3,2],\n\n)"
      ]
    },
    {
      "cell_type": "code",
      "execution_count": null,
      "metadata": {
        "collapsed": false
      },
      "outputs": [],
      "source": [
        "ID1"
      ]
    },
    {
      "cell_type": "code",
      "execution_count": null,
      "metadata": {
        "collapsed": false
      },
      "outputs": [],
      "source": [
        "import matplotlib.pyplot as plt\nimport matplotlib as mpl\nimport numpy as np\nimport pygimli as pg\nfrom palettable.cartocolors.diverging import Earth_7\n\n# Font settings for publication\nmpl.rcParams['font.family'] = 'Arial'\nmpl.rcParams['font.size'] = 12\nmpl.rcParams['axes.labelsize'] = 14\nmpl.rcParams['axes.titlesize'] = 14\nmpl.rcParams['xtick.labelsize'] = 12\nmpl.rcParams['ytick.labelsize'] = 12\nmpl.rcParams['legend.fontsize'] = 12\nmpl.rcParams['figure.dpi'] = 150\n\n# Preprocessing\ntop_masked = np.copy(top)\ntop_masked[idomain == 0] = np.nan\nsaturation = wc_mesh / porosity_mesh\nctcolor = Earth_7.mpl_colormap\n\n# Create 2x2 figure\nfig, axs = plt.subplots(2, 2, figsize=(14, 10))\n\n# --- Top Left: Surface elevation map ---\nim0 = axs[0, 0].imshow(top_masked, origin='lower', cmap='terrain')\naxs[0, 0].invert_yaxis()\n\n# Plot profile line and points\naxs[0, 0].plot(point1[0], point1[1], 'ro', label='Start')\naxs[0, 0].plot(point2[0], point2[1], 'bo', label='End')\naxs[0, 0].plot([point1[0], point2[0]], [point1[1], point2[1]], 'r--')\n\n# Remove ticks and axis borders\naxs[0, 0].set_xticks([])\naxs[0, 0].set_yticks([])\nfor spine in axs[0, 0].spines.values():\n    spine.set_visible(False)\n\n# Title and colorbar\n\ncbar0 = fig.colorbar(im0, ax=axs[0, 0], orientation='vertical', shrink=0.8)\ncbar0.set_label('Elevation (m)')\naxs[0, 0].legend(loc='upper right')\n\n# --- Top Right: Elevation profile ---\naxs[0, 1].plot(surface[:, 0], surface[:, 1], color='darkgreen')\n\naxs[0, 1].set_xlabel('Distance (m)')\naxs[0, 1].set_ylabel('Elevation (m)')\naxs[0, 1].grid(True)\n\n# --- Bottom Left: Porosity mesh ---\npg.show(mesh, porosity_mesh,\n        ax=axs[1, 0], orientation=\"vertical\", cMap=ctcolor,\n        cMin=0.05, cMax=0.45,\n        xlabel=\"Distance (m)\", ylabel=\"Elevation (m)\",\n        label='Porosity (-)', showColorBar=True)\n\n# --- Bottom Right: Saturation mesh ---\npg.show(mesh, saturation,\n        ax=axs[1, 1], orientation=\"vertical\", cMap='Blues',\n        cMin=0, cMax=1,\n        xlabel=\"Distance (m)\", ylabel=\"Elevation (m)\",\n        label='Saturation (-)', showColorBar=True)\n\n# Layout adjustment\nplt.tight_layout(pad=3)"
      ]
    },
    {
      "cell_type": "code",
      "execution_count": null,
      "metadata": {
        "collapsed": false
      },
      "outputs": [],
      "source": [
        "print(\"Water Content min/max:\", np.min(wc_mesh), np.max(wc_mesh))\nprint(\"Saturation min/max:\", np.min(saturation), np.max(saturation))"
      ]
    },
    {
      "cell_type": "markdown",
      "metadata": {},
      "source": [
        "### Calculating saturation\n\n"
      ]
    },
    {
      "cell_type": "code",
      "execution_count": null,
      "metadata": {
        "collapsed": false
      },
      "outputs": [],
      "source": [
        "# Ensure porosity is not zero to avoid division by zero\nporosity_safe = np.maximum(porosity_mesh, 0.01)\nsaturation = np.clip(wc_mesh / porosity_safe, 0.0, 1.0)"
      ]
    },
    {
      "cell_type": "markdown",
      "metadata": {},
      "source": [
        "### Converting to resistivity\n\n"
      ]
    },
    {
      "cell_type": "code",
      "execution_count": null,
      "metadata": {
        "collapsed": false
      },
      "outputs": [],
      "source": [
        "# Step 8: Convert to resistivity using petrophysical model\n\n\nmarker_labels = [0, 3, 2] # top. mid, bottom layers (example values)\nrho_sat = [100, 500, 2400] # Saturated resistivity for each layer (example values)\nn = [2.2, 1.8, 2.5] # Cementation exponent for each layer (example values)\nsigma_s = [1/500, 0, 0] # Saturated resistivity of the surface conductivity see Chen & Niu, (2022) for each layer (example values)\n# Convert water content back to resistivity\n\nres_models = np.zeros_like(wc_mesh)  # Initialize an array for resistivity values\n\nmask = (mesh_markers == marker_labels[0])\ntop_res = water_content_to_resistivity(\n    wc_mesh[mask],                  # Water content values for this layer\n    float(rho_sat[0]),              # Use a scalar value instead of an array\n    float(n[0]),                    # Use a scalar value instead of an array\n    porosity_mesh[mask],            # Porosity values for this layer\n    sigma_s[0] # Use a scalar value\n)\nres_models[mask] = top_res\n\nmask = (mesh_markers == marker_labels[1])\nmid_res = water_content_to_resistivity(\n    wc_mesh[mask],                  # Water content values for this layer\n    float(rho_sat[1]),              # Use a scalar value instead of an array\n    float(n[1]),                    # Use a scalar value instead of an array\n    porosity_mesh[mask],            # Porosity values for this layer\n    sigma_s[1]  # Use a scalar value\n)\nres_models[mask] = mid_res\n\n\nmask = (mesh_markers == marker_labels[2])\nbot_res = water_content_to_resistivity(\n    wc_mesh[mask],                  # Water content values for this layer\n    float(rho_sat[2]),              # Use a scalar value instead of an array\n    float(n[2]),                    # Use a scalar value instead of an array\n    porosity_mesh[mask],            # Porosity values for this layer\n    sigma_s[2]\n)\nres_models[mask] = bot_res"
      ]
    },
    {
      "cell_type": "code",
      "execution_count": null,
      "metadata": {
        "collapsed": false
      },
      "outputs": [],
      "source": [
        "print(np.min(top_res), np.max(top_res))\nprint(np.min(mid_res), np.max(mid_res))\nprint(np.min(bot_res), np.max(bot_res))"
      ]
    },
    {
      "cell_type": "markdown",
      "metadata": {},
      "source": [
        "### Converting to P wave velocity\n\n"
      ]
    },
    {
      "cell_type": "markdown",
      "metadata": {},
      "source": [
        "Step 9: Convert to P wave velocity using petrophysical model\n\n"
      ]
    },
    {
      "cell_type": "code",
      "execution_count": null,
      "metadata": {
        "collapsed": false
      },
      "outputs": [],
      "source": [
        "# Initialize velocity models\nhm_model = HertzMindlinModel(critical_porosity=0.4, coordination_number=6.0)\ndem_model = DEMModel()\n\n# Initialize velocity model\nvelocity_mesh = np.zeros_like(wc_mesh)\n\n\n\n\ntop_mask = (mesh_markers == marker_labels[0])\ntop_bulk_modulus = 30.0  # GPa\ntop_shear_modulus = 20.0  # GPa\ntop_mineral_density = 2650  # kg/m\u00b3\ntop_depth = 1.0  # m\n\n# Get Vp values using Hertz-Mindlin model\nVp_high, Vp_low = hm_model.calculate_velocity(\n    porosity=porosity_mesh[top_mask],\n    saturation=saturation[top_mask],\n    bulk_modulus=top_bulk_modulus,\n    shear_modulus=top_shear_modulus,\n    mineral_density=top_mineral_density,\n    depth=top_depth\n)\n\n# Use average of high and low bounds\nvelocity_mesh[top_mask] = (Vp_high + Vp_low) / 2\n\n\n\nmid_mask = (mesh_markers == marker_labels[1])\n\nmid_bulk_modulus = 50.0  # GPa\nmid_shear_modulus = 35.0 # GPa\nmid_mineral_density = 2670  # kg/m\u00b3\nmid_aspect_ratio = 0.05\n\n# Get Vp values using DEM model\n_, _, Vp = dem_model.calculate_velocity(\n    porosity=porosity_mesh[mid_mask],\n    saturation=saturation[mid_mask],\n    bulk_modulus=mid_bulk_modulus,\n    shear_modulus=mid_shear_modulus,\n    mineral_density=mid_mineral_density,\n    aspect_ratio=mid_aspect_ratio\n)\n\nvelocity_mesh[mid_mask] = Vp\n\nbot_mask = (mesh_markers == marker_labels[2])\nbot_bulk_modulus = 55  # GPa\nbot_shear_modulus = 50  # GPa\nbot_mineral_density = 2680  # kg/m\u00b3\nbot_aspect_ratio = 0.03\n\n# Get Vp values using DEM model\n_, _, Vp = dem_model.calculate_velocity(\n    porosity=porosity_mesh[bot_mask],\n    saturation=saturation[bot_mask],\n    bulk_modulus=bot_bulk_modulus,\n    shear_modulus=bot_shear_modulus,\n    mineral_density=bot_mineral_density,\n    aspect_ratio=bot_aspect_ratio\n)\n\nvelocity_mesh[bot_mask] = Vp"
      ]
    },
    {
      "cell_type": "code",
      "execution_count": null,
      "metadata": {
        "collapsed": false
      },
      "outputs": [],
      "source": [
        "print(np.min(velocity_mesh[top_mask]), np.max(velocity_mesh[top_mask]))\nprint(np.min(velocity_mesh[mid_mask]), np.max(velocity_mesh[mid_mask]))\nprint(np.min(velocity_mesh[bot_mask]), np.max(velocity_mesh[bot_mask]))"
      ]
    },
    {
      "cell_type": "code",
      "execution_count": null,
      "metadata": {
        "collapsed": false
      },
      "outputs": [],
      "source": [
        "from palettable.lightbartlein.diverging import BlueDarkRed18_18\nfixed_cmap = BlueDarkRed18_18.mpl_colormap\n\n\n\n# --- Create figure with 1 row, 2 columns ---\nfig, axs = plt.subplots(1, 2, figsize=(14, 6))\n\n# --- Left: Resistivity with log scale ---\npg.show(mesh, res_models, ax=axs[0], orientation=\"vertical\",\n        cMap=fixed_cmap, logScale=True, showColorBar=True,\n        xlabel=\"Distance (m)\", ylabel=\"Elevation (m)\",\n        label='Resistivity (\u03a9\u00b7m)', cMin=500, cMax=3000)\n\n\n# --- Right: P-wave velocity with fixed color scale ---\npg.show(mesh, velocity_mesh, ax=axs[1], orientation=\"vertical\",\n        cMap=fixed_cmap, cMin=500, cMax=5000, showColorBar=True,\n        xlabel=\"Distance (m)\", ylabel=\"Elevation (m)\",\n        label='Velocity (m/s)')\n\n# --- Print value range for debugging ---\nprint(\"Velocity range:\", np.min(velocity_mesh), np.max(velocity_mesh))\n\n# --- Final layout ---\nplt.tight_layout(pad=3)\n\nplt.savefig(os.path.join(output_dir, \"res_vel.tiff\"), dpi=300)"
      ]
    },
    {
      "cell_type": "markdown",
      "metadata": {},
      "source": [
        "### ERT forward modeling simulation\n\n"
      ]
    },
    {
      "cell_type": "code",
      "execution_count": null,
      "metadata": {
        "collapsed": false
      },
      "outputs": [],
      "source": [
        "xpos = np.linspace(15,15+72 - 1,72)\nypos = np.interp(xpos,interpolator.L_profile,interpolator.surface_profile)\npos = np.hstack((xpos.reshape(-1,1),ypos.reshape(-1,1)))\n\nschemeert = ert.createData(elecs=pos,schemeName='wa')\n\n# Step 10: Forward modeling to create synthetic ERT data\n\nmesh.setCellMarkers(np.ones(mesh.cellCount())*2)\ngrid = pg.meshtools.appendTriangleBoundary(mesh, marker=1,\n                                          xbound=100, ybound=100)\n\nfwd_operator = ERTForwardModeling(mesh=grid, data=schemeert)\n\n\nsynth_data = schemeert.copy()\nfob = ert.ERTModelling()\nfob.setData(schemeert)\nfob.setMesh(grid)\ndr = fob.response(res_models)\n\ndr *= 1. + pg.randn(dr.size()) * 0.05\nert_manager = ert.ERTManager(synth_data)\nsynth_data['rhoa'] = dr\nsynth_data['err'] = ert_manager.estimateError(synth_data, absoluteUError=0.0, relativeError=0.05)\nert.showData(synth_data,  logscale=True)"
      ]
    },
    {
      "cell_type": "markdown",
      "metadata": {},
      "source": [
        "################# Seismic data #####################\n\n"
      ]
    },
    {
      "cell_type": "code",
      "execution_count": null,
      "metadata": {
        "collapsed": false
      },
      "outputs": [],
      "source": [
        "print(\"Step 11: Creating seismic survey design...\")\n\nnumberGeophones = 72\nshotDistance = 5\nsensors = np.linspace(15,15 + 72 - 1, numberGeophones)\nscheme = pg.physics.traveltime.createRAData(sensors,shotDistance=shotDistance)\n\n\n\nfor i in range(numberGeophones):\n    minusx = np.abs(surface[:,0]-sensors[i])\n    index = np.where(minusx== np.amin(minusx))\n    new_x = surface[index,0]\n    new_y = surface[index,1]\n    pos[i, 0] = new_x\n    pos[i, 1] = new_y\n\n\nscheme.setSensors(pos)\n\n\nmgr = TravelTimeManager()\ndatasrt = mgr.simulate(slowness=1.0 / velocity_mesh, scheme=scheme, mesh=mesh,\n                    noiseLevel=0.05, noiseAbs=0.00001, seed=1334\n                    ,verbose=True)"
      ]
    },
    {
      "cell_type": "code",
      "execution_count": null,
      "metadata": {
        "collapsed": false
      },
      "outputs": [],
      "source": [
        "def drawFirstPicks(ax, data, tt=None, plotva=False, **kwargs):\n    \"\"\"Plot first arrivals as lines.\n    \n    Parameters\n    ----------\n    ax : matplotlib.axes\n        axis to draw the lines in\n    data : :gimliapi:`GIMLI::DataContainer`\n        data containing shots (\"s\"), geophones (\"g\") and traveltimes (\"t\")\n    tt : array, optional\n        traveltimes to use instead of data(\"t\")\n    plotva : bool, optional\n        plot apparent velocity instead of traveltimes\n    \n    Return\n    ------\n    ax : matplotlib.axes\n        the modified axis\n    \"\"\"\n    # Extract coordinates\n    px = pg.x(data)\n    gx = np.array([px[int(g)] for g in data(\"g\")])\n    sx = np.array([px[int(s)] for s in data(\"s\")])\n    \n    # Get traveltimes\n    if tt is None:\n        tt = np.array(data(\"t\"))\n    if plotva:\n        tt = np.absolute(gx - sx) / tt\n    \n    # Find unique source positions    \n    uns = np.unique(sx)\n    \n    # Override kwargs with clean, minimalist style\n    kwargs['color'] = 'black'\n    kwargs['linestyle'] = '--'\n    kwargs['linewidth'] = 0.9\n    kwargs['marker'] = None  # No markers on the lines\n    \n    # Plot for each source\n    for i, si in enumerate(uns):\n        ti = tt[sx == si]\n        gi = gx[sx == si]\n        ii = gi.argsort()\n        \n        # Plot line\n        ax.plot(gi[ii], ti[ii], **kwargs)\n        \n        # Add source marker as black square at top\n        ax.plot(si, 0.0, 's', color='black', markersize=4, \n                markeredgecolor='black', markeredgewidth=0.5)\n    \n    # Clean grid style\n    ax.grid(True, linestyle='-', linewidth=0.2, color='lightgray')\n    \n    # Set proper axis labels with units\n    if plotva:\n        ax.set_ylabel(\"Apparent velocity (m s$^{-1}$)\")\n    else:\n        ax.set_ylabel(\"Traveltime (s)\")\n    \n    ax.set_xlabel(\"Distance (m)\")\n    \n\n    \n\n    \n    # Invert y-axis for traveltimes\n    ax.invert_yaxis()\n\n    return ax\n\n# Usage\nfig, ax = plt.subplots(figsize=(3.5, 2.5), dpi=300) \ndrawFirstPicks(ax, datasrt)"
      ]
    },
    {
      "cell_type": "code",
      "execution_count": null,
      "metadata": {
        "collapsed": false
      },
      "outputs": [],
      "source": [
        "import numpy as np\nimport matplotlib.pyplot as plt\nimport pygimli as pg\n\n# Assume mesh, res_models, velocity_mesh, fixed_cmap, synth_data, datasrt, ert, drawFirstPicks are already defined\n\n# Create 2\u00d72 axes\nfig, axs = plt.subplots(2, 2, figsize=(14, 10),\n                        gridspec_kw={'hspace': 0.1, 'wspace': 0.4})\n\n# Flatten for easy indexing\nax1, ax2, ax3, ax4 = axs.flatten()\n\n# --- Top left: Resistivity (log scale) ---\npg.show(mesh, res_models, ax=ax1, orientation=\"vertical\",\n        cMap=fixed_cmap, logScale=True, showColorBar=True,\n        xlabel=\"Distance (m)\", ylabel=\"Elevation (m)\",\n        label='Resistivity (\u03a9\u00b7m)', cMin=100, cMax=3000)\n# Invert y (so elevation decreases downward)\npg.viewer.mpl.drawSensors(ax1, schemeert.sensors(), diam=0.8,\n                         facecolor='black', edgecolor='black')\n\n\n# --- Top right: P-wave velocity (fixed scale) ---\npg.show(mesh, velocity_mesh, ax=ax2, orientation=\"vertical\",\n        cMap=fixed_cmap, cMin=500, cMax=5000, showColorBar=True,\n        xlabel=\"Distance (m)\", ylabel=\"Elevation (m)\",\n        label='Velocity (m/s)')\npg.viewer.mpl.drawSensors(ax2, schemeert.sensors(), diam=0.8,\n                         facecolor='black', edgecolor='black')\n\n\n# Print range for debugging\nprint(\"Velocity range:\", np.min(velocity_mesh), np.max(velocity_mesh))\n\n# --- Bottom left: Synthetic ERT data ---\nert.showData(synth_data, logscale=True, ax=ax3, cMin=500, cMax=2000,cmap='jet')\n\nax3.set_xlabel(\"Distance (m)\")\nax3.spines['top'].set_visible(False)\nax3.spines['right'].set_visible(False)\n\n# --- Bottom right: First-break picks ---\ndrawFirstPicks(ax=ax4, data=datasrt)\n\nax4.set_xlabel(\"Distance (m)\")\nax4.set_ylabel(\"First arrival time (s)\")\nax4.spines['top'].set_visible(False)\nax4.spines['right'].set_visible(False)\n\nplt.tight_layout()"
      ]
    },
    {
      "cell_type": "markdown",
      "metadata": {},
      "source": [
        "### Run ERT inversion on synthetic data\n\n"
      ]
    },
    {
      "cell_type": "code",
      "execution_count": null,
      "metadata": {
        "collapsed": false
      },
      "outputs": [],
      "source": [
        "# using my code to the inversion\n\n# Create ERT inversion object\ninversion = ERTInversion(\n    data_file=os.path.join(output_dir, \"synthetic_data.dat\"),\n    lambda_val=10.0,\n    method=\"cgls\",\n    use_gpu=True,\n    max_iterations=10,\n    lambda_rate= 1.0\n)\ninversion_result = inversion.run()"
      ]
    },
    {
      "cell_type": "markdown",
      "metadata": {},
      "source": [
        "### Using Pygimili default to the inversion\n\n"
      ]
    },
    {
      "cell_type": "code",
      "execution_count": null,
      "metadata": {
        "collapsed": false
      },
      "outputs": [],
      "source": [
        "mgr = ert.ERTManager(os.path.join(output_dir, \"synthetic_data.dat\"))\ninv = mgr.invert(lam=10, verbose=True,quality=34)"
      ]
    },
    {
      "cell_type": "code",
      "execution_count": null,
      "metadata": {
        "collapsed": false
      },
      "outputs": [],
      "source": [
        "fig, axes = plt.subplots(1, 3, figsize=(10, 12))\n\n# True resistivity model\nax1 = axes[0]\ncbar1 = pg.show(mesh, res_models, ax=ax1, cMap='jet', logScale=False, \n              cMin=100, cMax=3000, label='Resistivity [Ohm-m]')\nax1.set_title(\"True Resistivity Model\")\n\n# Inverted model\nax2 = axes[1]\ncbar2 = pg.show(inversion_result.mesh, inversion_result.final_model, ax=ax2, cMap='jet', logScale=False, \n              cMin=100, cMax=3000, label='Resistivity [Ohm-m]',coverage=inversion_result.coverage>-1)\nax2.set_title(\"Inverted Resistivity Model (Our Code)\")\n\nax3 = axes[2]\ncbar2 = pg.show(mgr.paraDomain, mgr.paraModel(), ax=ax3, cMap='jet', logScale=False, \n              cMin=100, cMax=3000, label='Resistivity [Ohm-m]',coverage=mgr.coverage()>-1)\nax3.set_title(\"Inverted Resistivity Model (Pygimli)\")\n# Adjust layout\nplt.tight_layout()\n\n\n\n# The inversion results are almost same from this code and Pygimli default inversion.\n# the difference is that the chi2 value for stop inversion is not the same, we chose 1.5 while Pygimli is 1.0"
      ]
    },
    {
      "cell_type": "markdown",
      "metadata": {},
      "source": [
        "## One step approach\n\n"
      ]
    },
    {
      "cell_type": "markdown",
      "metadata": {},
      "source": [
        "### ERT one step from HM to GM\n\n"
      ]
    },
    {
      "cell_type": "markdown",
      "metadata": {},
      "source": [
        "Set up directories\n\n"
      ]
    },
    {
      "cell_type": "code",
      "execution_count": null,
      "metadata": {
        "collapsed": false
      },
      "outputs": [],
      "source": [
        "output_dir = \"C:/Users/HChen8/Documents/GitHub/PyHydroGeophysX/examples/results/hydro_to_ert_example\"\nos.makedirs(output_dir, exist_ok=True)\n\n# Load your data\ndata_dir = \"C:/Users/HChen8/Documents/GitHub/PyHydroGeophysX/examples/data/\"\nidomain = np.loadtxt(os.path.join(data_dir, \"id.txt\"))\ntop = np.loadtxt(os.path.join(data_dir, \"top.txt\"))\nporosity = np.load(os.path.join(data_dir, \"Porosity.npy\"))\nwater_content = np.load(os.path.join(data_dir, \"Watercontent.npy\"))[50]  # Time step 50\n\n# Set up profile\npoint1 = [115, 70]  \npoint2 = [95, 180]  \n\ninterpolator = ProfileInterpolator(\n    point1=point1,\n    point2=point2,\n    surface_data=top,\n    origin_x=569156.0,\n    origin_y=4842444.0,\n    pixel_width=1.0,\n    pixel_height=-1.0,\n    num_points=400\n)\n\n# Create mesh structure\nbot = np.load(os.path.join(data_dir, \"bot.npy\"))\nlayer_idx = [0, 4, 12]  # Example indices for top, middle, and bottom layers\nstructure = interpolator.interpolate_layer_data([top] + bot.tolist())\nsurface, line1, line2 = create_surface_lines(\n    L_profile=interpolator.L_profile,\n    structure=structure,\n    top_idx=layer_idx[0],\n    mid_idx=layer_idx[1],\n    bot_idx=layer_idx[2]\n)\n\n# Create mesh\nmesh_creator = MeshCreator(quality=32)\nmesh, geom = mesh_creator.create_from_layers(\n    surface=surface,\n    layers=[line1, line2],\n    bottom_depth=np.min(line2[:,1])-10\n)\n\n# Define layer markers\nmarker_labels = [0, 3, 2]  # top, middle, bottom layers\n\n# Define resistivity parameters for each layer\nrho_parameters = {\n    'rho_sat': [100, 500, 2400],      # Saturated resistivity for each layer (Ohm-m)\n    'n': [2.2, 1.8, 2.5],             # Cementation exponent for each layer\n    'sigma_s': [1/500, 0, 0]          # Surface conductivity for each layer (S/m)\n}\n\nmesh_markers = np.array(mesh.cellMarkers())\n\n\n# Generate ERT response directly\nsynth_data, res_model = hydro_to_ert(\n    water_content=water_content,\n    porosity=porosity,\n    mesh=mesh,\n    mesh_markers = mesh_markers,\n    profile_interpolator=interpolator,\n    layer_idx=layer_idx,\n    structure = structure,\n    marker_labels=marker_labels,\n    rho_parameters=rho_parameters,\n    electrode_spacing=1.0,\n    electrode_start=15,\n    num_electrodes=72,\n    scheme_name='wa',\n    noise_level=0.05,\n    abs_error=0.0,\n    rel_error=0.05,\n    save_path=os.path.join(output_dir, \"synthetic_ert_data.dat\"),\n    verbose=True,\n    seed=42,\n)\n\nert.showData(synth_data,  logscale=True)"
      ]
    },
    {
      "cell_type": "markdown",
      "metadata": {},
      "source": [
        "### SRT one step from HM to GM\n\n"
      ]
    },
    {
      "cell_type": "code",
      "execution_count": null,
      "metadata": {
        "collapsed": false
      },
      "outputs": [],
      "source": [
        "import os\nimport numpy as np\nimport matplotlib.pyplot as plt\nimport pygimli as pg\n\n# Import PyHydroGeophysX modules\nfrom PyHydroGeophysX.core.interpolation import ProfileInterpolator, create_surface_lines\nfrom PyHydroGeophysX.core.mesh_utils import MeshCreator\nfrom PyHydroGeophysX.Hydro_modular.hydro_to_srt import hydro_to_srt\n\n# 1. Set up output directory\noutput_dir = \"C:/Users/HChen8/Documents/GitHub/PyHydroGeophysX/examples/results/srt_example\"\nos.makedirs(output_dir, exist_ok=True)\n\n# Load your data\ndata_dir = \"C:/Users/HChen8/Documents/GitHub/PyHydroGeophysX/examples/data/\"\nidomain = np.loadtxt(os.path.join(data_dir, \"id.txt\"))\ntop = np.loadtxt(os.path.join(data_dir, \"top.txt\"))\nporosity = np.load(os.path.join(data_dir, \"Porosity.npy\"))\nwater_content = np.load(os.path.join(data_dir, \"Watercontent.npy\"))[50]  # Time step 50\n\n# Set up profile\npoint1 = [115, 70]  \npoint2 = [95, 180]  \n\ninterpolator = ProfileInterpolator(\n    point1=point1,\n    point2=point2,\n    surface_data=top,\n    origin_x=569156.0,\n    origin_y=4842444.0,\n    pixel_width=1.0,\n    pixel_height=-1.0,\n    num_points=400\n)\n\n# Create mesh structure\nbot = np.load(os.path.join(data_dir, \"bot.npy\"))\nlayer_idx = [0, 4, 12]  # Example indices for top, middle, and bottom layers\nstructure = interpolator.interpolate_layer_data([top] + bot.tolist())\nsurface, line1, line2 = create_surface_lines(\n    L_profile=interpolator.L_profile,\n    structure=structure,\n    top_idx=layer_idx[0],\n    mid_idx=layer_idx[1],\n    bot_idx=layer_idx[2]\n)\n\n# Create mesh\nmesh_creator = MeshCreator(quality=32)\nmesh, geom = mesh_creator.create_from_layers(\n    surface=surface,\n    layers=[line1, line2],\n    bottom_depth=np.min(line2[:,1])-10\n)\n\n# Define layer markers\nmarker_labels = [0, 3, 2]  # top, middle, bottom layers\n\n# Rock physics parameters for each layer\nvel_parameters = {\n    'top': {\n        'bulk_modulus': 30.0,         # GPa\n        'shear_modulus': 20.0,        # GPa\n        'mineral_density': 2650,      # kg/m\u00b3\n        'depth': 1.0                  # m\n    },\n    'mid': {\n        'bulk_modulus': 50.0,         # GPa\n        'shear_modulus': 35.0,        # GPa\n        'mineral_density': 2670,      # kg/m\u00b3\n        'aspect_ratio': 0.05          # Crack aspect ratio\n    },\n    'bot': {\n        'bulk_modulus': 55.0,         # GPa\n        'shear_modulus': 50.0,        # GPa\n        'mineral_density': 2680,      # kg/m\u00b3\n        'aspect_ratio': 0.03          # Crack aspect ratio\n    }\n}\nmesh_markers = np.array(mesh.cellMarkers())\n# 13. Now we call hydro_to_srt with the pre-processed mesh values\nsynth_data, velocity_mesh = hydro_to_srt(\n    water_content=water_content,           # Use pre-interpolated mesh values\n    porosity=porosity,          # Use pre-interpolated mesh values\n    mesh=mesh,\n    profile_interpolator=interpolator,\n    layer_idx=layer_idx,\n    structure = structure,\n    marker_labels=marker_labels,\n    vel_parameters=vel_parameters,\n    sensor_spacing=1.0,              \n    sensor_start=15.0,               \n    num_sensors=72,                  \n    shot_distance=5,                 \n    noise_level=0.05,                \n    noise_abs=0.00001,               \n    save_path=os.path.join(output_dir, \"synthetic_seismic_data.dat\"),\n    mesh_markers=mesh_markers,       # Pass the mesh markers directly\n    verbose=True,\n    seed=1334                        \n)\n\n# 14. Visualize the results\nfrom PyHydroGeophysX.forward.srt_forward import SeismicForwardModeling\n\n# Create a figure\nfig, axes = plt.subplots(2, 1, figsize=(10, 10))\n\n# Plot velocity model\npg.show(mesh, velocity_mesh, ax=axes[0], cMap='jet', \n        cMin=500, cMax=5000, label='Velocity (m/s)',\n        xlabel=\"Distance (m)\", ylabel=\"Elevation (m)\")\n\n# Plot first-arrival travel times\nSeismicForwardModeling.draw_first_picks(axes[1], synth_data)\naxes[1].set_title('Synthetic First-Arrival Travel Times')\n\nplt.tight_layout()"
      ]
    }
  ],
  "metadata": {
    "kernelspec": {
      "display_name": "Python 3",
      "language": "python",
      "name": "python3"
    },
    "language_info": {
      "codemirror_mode": {
        "name": "ipython",
        "version": 3
      },
      "file_extension": ".py",
      "mimetype": "text/x-python",
      "name": "python",
      "nbconvert_exporter": "python",
      "pygments_lexer": "ipython3",
      "version": "3.11.8"
    }
  },
  "nbformat": 4,
  "nbformat_minor": 0
}