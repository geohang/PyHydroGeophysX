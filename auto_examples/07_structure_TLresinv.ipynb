{
 "cells": [
  {
   "cell_type": "markdown",
   "metadata": {},
   "source": [
    "\n",
    "# Ex 7. Structure-Constrained Time-Lapse Resistivity Inversion\n",
    "\n",
    "This example combines structural constraints with time-lapse ERT inversion\n",
    "to monitor water content changes in layered geological media.\n",
    "\n",
    "The workflow demonstrates:\n",
    "1. Loading meshes with geological structure from seismic interpretation\n",
    "2. Time-lapse ERT inversion with structural constraints\n",
    "3. Converting resistivity to water content using layer-specific petrophysics\n",
    "4. Uncertainty quantification through Monte Carlo analysis\n",
    "5. Time series analysis of water content at specific locations\n",
    "\n",
    "This advanced approach provides the most reliable estimates of subsurface\n",
    "water content evolution by combining temporal, spatial, and geological\n",
    "constraints in the inversion process.\n"
   ]
  },
  {
   "cell_type": "code",
   "execution_count": 1,
   "metadata": {
    "collapsed": false,
    "execution": {
     "iopub.execute_input": "2025-05-25T06:49:09.470897Z",
     "iopub.status.busy": "2025-05-25T06:49:09.469820Z",
     "iopub.status.idle": "2025-05-25T06:49:11.608609Z",
     "shell.execute_reply": "2025-05-25T06:49:11.608097Z"
    }
   },
   "outputs": [],
   "source": [
    "import os\n",
    "import sys\n",
    "import numpy as np\n",
    "import matplotlib.pyplot as plt\n",
    "import pygimli as pg\n",
    "from pygimli.physics import ert\n",
    "from mpl_toolkits.axes_grid1 import make_axes_locatable\n",
    "\n",
    "# Setup package path for development\n",
    "try:\n",
    "    # For regular Python scripts\n",
    "    current_dir = os.path.dirname(os.path.abspath(__file__))\n",
    "except NameError:\n",
    "    # For Jupyter notebooks\n",
    "    current_dir = os.getcwd()\n",
    "\n",
    "# Add the parent directory to Python path\n",
    "parent_dir = os.path.dirname(current_dir)\n",
    "if parent_dir not in sys.path:\n",
    "    sys.path.append(parent_dir)\n",
    "\n",
    "# Import PyHydroGeophysX modules\n",
    "from PyHydroGeophysX.inversion.time_lapse import TimeLapseERTInversion\n",
    "from PyHydroGeophysX.inversion.windowed import WindowedTimeLapseERTInversion"
   ]
  },
  {
   "cell_type": "code",
   "execution_count": 2,
   "metadata": {
    "collapsed": false,
    "execution": {
     "iopub.execute_input": "2025-05-25T06:49:11.610680Z",
     "iopub.status.busy": "2025-05-25T06:49:11.610680Z",
     "iopub.status.idle": "2025-05-25T06:49:11.682739Z",
     "shell.execute_reply": "2025-05-25T06:49:11.682227Z"
    }
   },
   "outputs": [],
   "source": [
    "data_dir = \"C:/Users/HChen8/Documents/GitHub/PyHydroGeophysX/examples/results/TL_measurements/appres\"\n",
    "\n",
    "# List of ERT data files testing monthly time-lapse inversion\n",
    "ert_files = [\n",
    "    \"synthetic_data30.dat\",\n",
    "    \"synthetic_data60.dat\",\n",
    "    \"synthetic_data90.dat\",\n",
    "    \"synthetic_data120.dat\",\n",
    "    \"synthetic_data150.dat\",\n",
    "    \"synthetic_data180.dat\",\n",
    "    \"synthetic_data210.dat\",\n",
    "    \"synthetic_data240.dat\",\n",
    "    \"synthetic_data270.dat\",\n",
    "    \"synthetic_data300.dat\",\n",
    "    \"synthetic_data330.dat\",\n",
    "    \"synthetic_data360.dat\",\n",
    "]\n",
    "\n",
    "\n",
    "# Full paths to data files\n",
    "data_files = [os.path.join(data_dir, f) for f in ert_files]\n",
    "\n",
    "# Measurement times (can be timestamps or any sequential numbers representing time)\n",
    "# Measurement times (can be timestamps or any sequential numbers representing time)\n",
    "measurement_times = [1, 2, 3, 4, 5, 6, 7, 8, 9, 10, 11, 12]  # Adjust based on your actual acquisition times\n",
    "\n",
    "# Create a mesh for the inversion (or load an existing one)\n",
    "data = ert.load(os.path.join(data_dir, ert_files[0]))\n",
    "ert_manager = ert.ERTManager(data)\n",
    "mesh_with_interface = pg.load(\"C:/Users/HChen8/Documents/GitHub/PyHydroGeophysX/examples/results/Structure_WC/mesh_with_interface.bms\")"
   ]
  },
  {
   "cell_type": "code",
   "execution_count": 3,
   "metadata": {
    "collapsed": false,
    "execution": {
     "iopub.execute_input": "2025-05-25T06:49:11.684754Z",
     "iopub.status.busy": "2025-05-25T06:49:11.684754Z",
     "iopub.status.idle": "2025-05-25T11:32:27.596457Z",
     "shell.execute_reply": "2025-05-25T11:32:27.591401Z"
    }
   },
   "outputs": [
    {
     "name": "stdout",
     "output_type": "stream",
     "text": [
      "Starting windowed time-lapse inversion...\n",
      "\n",
      "Processing 10 windows sequentially...\n",
      "Using L2 inversion\n",
      "\n",
      "Starting L2 inversion for window 0\n"
     ]
    },
    {
     "name": "stderr",
     "output_type": "stream",
     "text": [
      "24/05/25 - 23:49:11 - pyGIMLi - \u001b[0;32;49mINFO\u001b[0m - Found 3 regions.\n"
     ]
    },
    {
     "name": "stderr",
     "output_type": "stream",
     "text": [
      "24/05/25 - 23:49:11 - pyGIMLi - \u001b[0;32;49mINFO\u001b[0m - (ERTModelling) Region with smallest marker (1) set to background.\n"
     ]
    },
    {
     "name": "stderr",
     "output_type": "stream",
     "text": [
      "24/05/25 - 23:49:11 - pyGIMLi - \u001b[0;32;49mINFO\u001b[0m - Found 3 regions.\n"
     ]
    },
    {
     "name": "stderr",
     "output_type": "stream",
     "text": [
      "24/05/25 - 23:49:11 - pyGIMLi - \u001b[0;32;49mINFO\u001b[0m - (ERTModelling) Region with smallest marker (1) set to background.\n"
     ]
    },
    {
     "name": "stderr",
     "output_type": "stream",
     "text": [
      "24/05/25 - 23:49:11 - pyGIMLi - \u001b[0;32;49mINFO\u001b[0m - Found 3 regions.\n"
     ]
    },
    {
     "name": "stderr",
     "output_type": "stream",
     "text": [
      "24/05/25 - 23:49:11 - pyGIMLi - \u001b[0;32;49mINFO\u001b[0m - (ERTModelling) Region with smallest marker (1) set to background.\n"
     ]
    },
    {
     "name": "stderr",
     "output_type": "stream",
     "text": [
      "24/05/25 - 23:49:12 - pyGIMLi - \u001b[0;32;49mINFO\u001b[0m - Creating forward mesh from region infos.\n"
     ]
    },
    {
     "name": "stderr",
     "output_type": "stream",
     "text": [
      "24/05/25 - 23:49:12 - pyGIMLi - \u001b[0;32;49mINFO\u001b[0m - Creating refined mesh (H2) to solve forward task.\n"
     ]
    },
    {
     "name": "stderr",
     "output_type": "stream",
     "text": [
      "24/05/25 - 23:49:12 - pyGIMLi - \u001b[0;32;49mINFO\u001b[0m - Mesh for forward task: Mesh: Nodes: 11099 Cells: 21776 Boundaries: 16542\n"
     ]
    },
    {
     "name": "stdout",
     "output_type": "stream",
     "text": [
      "-6.907755278982137 9.210340371976184\n",
      "-------------------ERT Iteration: 0 ---------------------------\n"
     ]
    },
    {
     "name": "stderr",
     "output_type": "stream",
     "text": [
      "24/05/25 - 23:49:45 - pyGIMLi - \u001b[0;32;49mINFO\u001b[0m - Creating forward mesh from region infos.\n"
     ]
    },
    {
     "name": "stderr",
     "output_type": "stream",
     "text": [
      "24/05/25 - 23:49:45 - pyGIMLi - \u001b[0;32;49mINFO\u001b[0m - Creating refined mesh (H2) to solve forward task.\n"
     ]
    },
    {
     "name": "stderr",
     "output_type": "stream",
     "text": [
      "24/05/25 - 23:49:45 - pyGIMLi - \u001b[0;32;49mINFO\u001b[0m - Mesh for forward task: Mesh: Nodes: 11099 Cells: 21776 Boundaries: 16542\n"
     ]
    },
    {
     "name": "stderr",
     "output_type": "stream",
     "text": [
      "24/05/25 - 23:50:16 - pyGIMLi - \u001b[0;32;49mINFO\u001b[0m - Creating forward mesh from region infos.\n"
     ]
    },
    {
     "name": "stderr",
     "output_type": "stream",
     "text": [
      "24/05/25 - 23:50:16 - pyGIMLi - \u001b[0;32;49mINFO\u001b[0m - Creating refined mesh (H2) to solve forward task.\n"
     ]
    },
    {
     "name": "stderr",
     "output_type": "stream",
     "text": [
      "24/05/25 - 23:50:16 - pyGIMLi - \u001b[0;32;49mINFO\u001b[0m - Mesh for forward task: Mesh: Nodes: 11099 Cells: 21776 Boundaries: 16542\n"
     ]
    },
    {
     "name": "stdout",
     "output_type": "stream",
     "text": [
      "ERT chi2: 2615.1965682559885\n",
      "dPhi: 1.0\n",
      "ERTphi_d: 6496148.275547875, ERTphi_m: 0.0, ERTphi_t: 0.0\n"
     ]
    },
    {
     "name": "stdout",
     "output_type": "stream",
     "text": [
      "-------------------ERT Iteration: 1 ---------------------------\n"
     ]
    },
    {
     "name": "stdout",
     "output_type": "stream",
     "text": [
      "ERT chi2: 38.6698797929078\n",
      "dPhi: 0.9852133945637991\n",
      "ERTphi_d: 96055.98140558298, ERTphi_m: 3911.840413106006, ERTphi_t: 1751.5715778309886\n"
     ]
    },
    {
     "name": "stdout",
     "output_type": "stream",
     "text": [
      "-------------------ERT Iteration: 2 ---------------------------\n"
     ]
    },
    {
     "name": "stdout",
     "output_type": "stream",
     "text": [
      "ERT chi2: 19.71512411273858\n",
      "dPhi: 0.4901684665605191\n",
      "ERTphi_d: 48972.36829604263, ERTphi_m: 1532.263354543046, ERTphi_t: 1604.1891142838153\n"
     ]
    },
    {
     "name": "stdout",
     "output_type": "stream",
     "text": [
      "-------------------ERT Iteration: 3 ---------------------------\n"
     ]
    },
    {
     "name": "stdout",
     "output_type": "stream",
     "text": [
      "ERT chi2: 10.950844010344113\n",
      "dPhi: 0.4445460273177576\n",
      "ERTphi_d: 27201.896521694776, ERTphi_m: 904.6291706909549, ERTphi_t: 1592.4601000246003\n"
     ]
    },
    {
     "name": "stdout",
     "output_type": "stream",
     "text": [
      "-------------------ERT Iteration: 4 ---------------------------\n"
     ]
    },
    {
     "name": "stdout",
     "output_type": "stream",
     "text": [
      "ERT chi2: 1.7289598325007243\n",
      "dPhi: 0.8421162943360752\n",
      "ERTphi_d: 4294.736223931799, ERTphi_m: 786.9211945189456, ERTphi_t: 1576.792286154432\n"
     ]
    },
    {
     "name": "stdout",
     "output_type": "stream",
     "text": [
      "-------------------ERT Iteration: 5 ---------------------------\n"
     ]
    },
    {
     "name": "stdout",
     "output_type": "stream",
     "text": [
      "ERT chi2: 1.2101059285067668\n",
      "dPhi: 0.30009598501979085\n",
      "ERTphi_d: 3005.903126410809, ERTphi_m: 715.9812388226311, ERTphi_t: 1576.6719581048555\n",
      "Convergence reached at iteration 5\n"
     ]
    },
    {
     "name": "stdout",
     "output_type": "stream",
     "text": [
      "End of inversion\n",
      "\n",
      "Window 0 results:\n",
      "Model shape: (4531, 3)\n",
      "Coverage available: True\n",
      "Number of iterations: 6\n"
     ]
    },
    {
     "name": "stdout",
     "output_type": "stream",
     "text": [
      "\n",
      "Starting L2 inversion for window 1\n"
     ]
    },
    {
     "name": "stderr",
     "output_type": "stream",
     "text": [
      "25/05/25 - 00:16:37 - pyGIMLi - \u001b[0;32;49mINFO\u001b[0m - Found 3 regions.\n"
     ]
    },
    {
     "name": "stderr",
     "output_type": "stream",
     "text": [
      "25/05/25 - 00:16:37 - pyGIMLi - \u001b[0;32;49mINFO\u001b[0m - (ERTModelling) Region with smallest marker (1) set to background.\n"
     ]
    },
    {
     "name": "stderr",
     "output_type": "stream",
     "text": [
      "25/05/25 - 00:16:37 - pyGIMLi - \u001b[0;32;49mINFO\u001b[0m - Found 3 regions.\n"
     ]
    },
    {
     "name": "stderr",
     "output_type": "stream",
     "text": [
      "25/05/25 - 00:16:37 - pyGIMLi - \u001b[0;32;49mINFO\u001b[0m - (ERTModelling) Region with smallest marker (1) set to background.\n"
     ]
    },
    {
     "name": "stderr",
     "output_type": "stream",
     "text": [
      "25/05/25 - 00:16:37 - pyGIMLi - \u001b[0;32;49mINFO\u001b[0m - Found 3 regions.\n"
     ]
    },
    {
     "name": "stderr",
     "output_type": "stream",
     "text": [
      "25/05/25 - 00:16:37 - pyGIMLi - \u001b[0;32;49mINFO\u001b[0m - (ERTModelling) Region with smallest marker (1) set to background.\n"
     ]
    },
    {
     "name": "stderr",
     "output_type": "stream",
     "text": [
      "25/05/25 - 00:16:37 - pyGIMLi - \u001b[0;32;49mINFO\u001b[0m - Creating forward mesh from region infos.\n"
     ]
    },
    {
     "name": "stderr",
     "output_type": "stream",
     "text": [
      "25/05/25 - 00:16:38 - pyGIMLi - \u001b[0;32;49mINFO\u001b[0m - Creating refined mesh (H2) to solve forward task.\n"
     ]
    },
    {
     "name": "stderr",
     "output_type": "stream",
     "text": [
      "25/05/25 - 00:16:38 - pyGIMLi - \u001b[0;32;49mINFO\u001b[0m - Mesh for forward task: Mesh: Nodes: 11099 Cells: 21776 Boundaries: 16542\n"
     ]
    },
    {
     "name": "stdout",
     "output_type": "stream",
     "text": [
      "-6.907755278982137 9.210340371976184\n",
      "-------------------ERT Iteration: 0 ---------------------------\n"
     ]
    },
    {
     "name": "stderr",
     "output_type": "stream",
     "text": [
      "25/05/25 - 00:17:12 - pyGIMLi - \u001b[0;32;49mINFO\u001b[0m - Creating forward mesh from region infos.\n"
     ]
    },
    {
     "name": "stderr",
     "output_type": "stream",
     "text": [
      "25/05/25 - 00:17:13 - pyGIMLi - \u001b[0;32;49mINFO\u001b[0m - Creating refined mesh (H2) to solve forward task.\n"
     ]
    },
    {
     "name": "stderr",
     "output_type": "stream",
     "text": [
      "25/05/25 - 00:17:13 - pyGIMLi - \u001b[0;32;49mINFO\u001b[0m - Mesh for forward task: Mesh: Nodes: 11099 Cells: 21776 Boundaries: 16542\n"
     ]
    },
    {
     "name": "stderr",
     "output_type": "stream",
     "text": [
      "25/05/25 - 00:17:46 - pyGIMLi - \u001b[0;32;49mINFO\u001b[0m - Creating forward mesh from region infos.\n"
     ]
    },
    {
     "name": "stderr",
     "output_type": "stream",
     "text": [
      "25/05/25 - 00:17:46 - pyGIMLi - \u001b[0;32;49mINFO\u001b[0m - Creating refined mesh (H2) to solve forward task.\n"
     ]
    },
    {
     "name": "stderr",
     "output_type": "stream",
     "text": [
      "25/05/25 - 00:17:46 - pyGIMLi - \u001b[0;32;49mINFO\u001b[0m - Mesh for forward task: Mesh: Nodes: 11099 Cells: 21776 Boundaries: 16542\n"
     ]
    },
    {
     "name": "stdout",
     "output_type": "stream",
     "text": [
      "ERT chi2: 2425.0948439009862\n",
      "dPhi: 1.0\n",
      "ERTphi_d: 6023935.59225005, ERTphi_m: 0.0, ERTphi_t: 0.0\n"
     ]
    },
    {
     "name": "stdout",
     "output_type": "stream",
     "text": [
      "-------------------ERT Iteration: 1 ---------------------------\n"
     ]
    },
    {
     "name": "stdout",
     "output_type": "stream",
     "text": [
      "ERT chi2: 33.896758297105855\n",
      "dPhi: 0.986022502013744\n",
      "ERTphi_d: 84199.54761001095, ERTphi_m: 3515.870924062058, ERTphi_t: 214.22559851614665\n"
     ]
    },
    {
     "name": "stdout",
     "output_type": "stream",
     "text": [
      "-------------------ERT Iteration: 2 ---------------------------\n"
     ]
    },
    {
     "name": "stdout",
     "output_type": "stream",
     "text": [
      "ERT chi2: 20.286534907338428\n",
      "dPhi: 0.401519911446207\n",
      "ERTphi_d: 50391.75270982865, ERTphi_m: 1230.8593203927674, ERTphi_t: 189.76270060648517\n"
     ]
    },
    {
     "name": "stdout",
     "output_type": "stream",
     "text": [
      "-------------------ERT Iteration: 3 ---------------------------\n"
     ]
    },
    {
     "name": "stdout",
     "output_type": "stream",
     "text": [
      "ERT chi2: 10.185267217368878\n",
      "dPhi: 0.4979296728647103\n",
      "ERTphi_d: 25300.203767944295, ERTphi_m: 654.1313307473113, ERTphi_t: 168.2644983794063\n"
     ]
    },
    {
     "name": "stdout",
     "output_type": "stream",
     "text": [
      "-------------------ERT Iteration: 4 ---------------------------\n"
     ]
    },
    {
     "name": "stdout",
     "output_type": "stream",
     "text": [
      "ERT chi2: 1.561463866520395\n",
      "dPhi: 0.8466938732979299\n",
      "ERTphi_d: 3878.6762444366614, ERTphi_m: 530.4554800610844, ERTphi_t: 166.1228641217383\n"
     ]
    },
    {
     "name": "stdout",
     "output_type": "stream",
     "text": [
      "-------------------ERT Iteration: 5 ---------------------------\n"
     ]
    },
    {
     "name": "stdout",
     "output_type": "stream",
     "text": [
      "ERT chi2: 1.0413048301404944\n",
      "dPhi: 0.33312268540612217\n",
      "ERTphi_d: 2586.601198068988, ERTphi_m: 462.05586299437743, ERTphi_t: 167.54415006128227\n",
      "Convergence reached at iteration 5\n"
     ]
    },
    {
     "name": "stdout",
     "output_type": "stream",
     "text": [
      "End of inversion\n",
      "\n",
      "Window 1 results:\n",
      "Model shape: (4531, 3)\n",
      "Coverage available: True\n",
      "Number of iterations: 6\n"
     ]
    },
    {
     "name": "stdout",
     "output_type": "stream",
     "text": [
      "\n",
      "Starting L2 inversion for window 2\n"
     ]
    },
    {
     "name": "stderr",
     "output_type": "stream",
     "text": [
      "25/05/25 - 00:43:52 - pyGIMLi - \u001b[0;32;49mINFO\u001b[0m - Found 3 regions.\n"
     ]
    },
    {
     "name": "stderr",
     "output_type": "stream",
     "text": [
      "25/05/25 - 00:43:52 - pyGIMLi - \u001b[0;32;49mINFO\u001b[0m - (ERTModelling) Region with smallest marker (1) set to background.\n"
     ]
    },
    {
     "name": "stderr",
     "output_type": "stream",
     "text": [
      "25/05/25 - 00:43:52 - pyGIMLi - \u001b[0;32;49mINFO\u001b[0m - Found 3 regions.\n"
     ]
    },
    {
     "name": "stderr",
     "output_type": "stream",
     "text": [
      "25/05/25 - 00:43:52 - pyGIMLi - \u001b[0;32;49mINFO\u001b[0m - (ERTModelling) Region with smallest marker (1) set to background.\n"
     ]
    },
    {
     "name": "stderr",
     "output_type": "stream",
     "text": [
      "25/05/25 - 00:43:52 - pyGIMLi - \u001b[0;32;49mINFO\u001b[0m - Found 3 regions.\n"
     ]
    },
    {
     "name": "stderr",
     "output_type": "stream",
     "text": [
      "25/05/25 - 00:43:52 - pyGIMLi - \u001b[0;32;49mINFO\u001b[0m - (ERTModelling) Region with smallest marker (1) set to background.\n"
     ]
    },
    {
     "name": "stderr",
     "output_type": "stream",
     "text": [
      "25/05/25 - 00:43:52 - pyGIMLi - \u001b[0;32;49mINFO\u001b[0m - Creating forward mesh from region infos.\n"
     ]
    },
    {
     "name": "stderr",
     "output_type": "stream",
     "text": [
      "25/05/25 - 00:43:52 - pyGIMLi - \u001b[0;32;49mINFO\u001b[0m - Creating refined mesh (H2) to solve forward task.\n"
     ]
    },
    {
     "name": "stderr",
     "output_type": "stream",
     "text": [
      "25/05/25 - 00:43:52 - pyGIMLi - \u001b[0;32;49mINFO\u001b[0m - Mesh for forward task: Mesh: Nodes: 11099 Cells: 21776 Boundaries: 16542\n"
     ]
    },
    {
     "name": "stdout",
     "output_type": "stream",
     "text": [
      "-6.907755278982137 9.210340371976184\n",
      "-------------------ERT Iteration: 0 ---------------------------\n"
     ]
    },
    {
     "name": "stderr",
     "output_type": "stream",
     "text": [
      "25/05/25 - 00:44:28 - pyGIMLi - \u001b[0;32;49mINFO\u001b[0m - Creating forward mesh from region infos.\n"
     ]
    },
    {
     "name": "stderr",
     "output_type": "stream",
     "text": [
      "25/05/25 - 00:44:28 - pyGIMLi - \u001b[0;32;49mINFO\u001b[0m - Creating refined mesh (H2) to solve forward task.\n"
     ]
    },
    {
     "name": "stderr",
     "output_type": "stream",
     "text": [
      "25/05/25 - 00:44:28 - pyGIMLi - \u001b[0;32;49mINFO\u001b[0m - Mesh for forward task: Mesh: Nodes: 11099 Cells: 21776 Boundaries: 16542\n"
     ]
    },
    {
     "name": "stderr",
     "output_type": "stream",
     "text": [
      "25/05/25 - 00:45:03 - pyGIMLi - \u001b[0;32;49mINFO\u001b[0m - Creating forward mesh from region infos.\n"
     ]
    },
    {
     "name": "stderr",
     "output_type": "stream",
     "text": [
      "25/05/25 - 00:45:03 - pyGIMLi - \u001b[0;32;49mINFO\u001b[0m - Creating refined mesh (H2) to solve forward task.\n"
     ]
    },
    {
     "name": "stderr",
     "output_type": "stream",
     "text": [
      "25/05/25 - 00:45:03 - pyGIMLi - \u001b[0;32;49mINFO\u001b[0m - Mesh for forward task: Mesh: Nodes: 11099 Cells: 21776 Boundaries: 16542\n"
     ]
    },
    {
     "name": "stdout",
     "output_type": "stream",
     "text": [
      "ERT chi2: 2361.5847598541677\n",
      "dPhi: 1.0\n",
      "ERTphi_d: 5866176.543477752, ERTphi_m: 0.0, ERTphi_t: 0.0\n"
     ]
    },
    {
     "name": "stdout",
     "output_type": "stream",
     "text": [
      "-------------------ERT Iteration: 1 ---------------------------\n"
     ]
    },
    {
     "name": "stdout",
     "output_type": "stream",
     "text": [
      "ERT chi2: 32.69104149721897\n",
      "dPhi: 0.9861571593563139\n",
      "ERTphi_d: 81204.54707909192, ERTphi_m: 3461.8511378676603, ERTphi_t: 293.6488156338041\n"
     ]
    },
    {
     "name": "stdout",
     "output_type": "stream",
     "text": [
      "-------------------ERT Iteration: 2 ---------------------------\n"
     ]
    },
    {
     "name": "stdout",
     "output_type": "stream",
     "text": [
      "ERT chi2: 20.711661567397186\n",
      "dPhi: 0.36644228452742533\n",
      "ERTphi_d: 51447.76733341461, ERTphi_m: 1193.5946105572111, ERTphi_t: 278.920031234841\n"
     ]
    },
    {
     "name": "stdout",
     "output_type": "stream",
     "text": [
      "-------------------ERT Iteration: 3 ---------------------------\n"
     ]
    },
    {
     "name": "stdout",
     "output_type": "stream",
     "text": [
      "ERT chi2: 10.316592678631928\n",
      "dPhi: 0.5018944933480581\n",
      "ERTphi_d: 25626.41621372171, ERTphi_m: 647.7852893171241, ERTphi_t: 261.6686062830837\n"
     ]
    },
    {
     "name": "stdout",
     "output_type": "stream",
     "text": [
      "-------------------ERT Iteration: 4 ---------------------------\n"
     ]
    },
    {
     "name": "stdout",
     "output_type": "stream",
     "text": [
      "ERT chi2: 1.7087197199839619\n",
      "dPhi: 0.8343716987564005\n",
      "ERTphi_d: 4244.4597844401615, ERTphi_m: 524.9456574819867, ERTphi_t: 255.45562853250885\n"
     ]
    },
    {
     "name": "stdout",
     "output_type": "stream",
     "text": [
      "-------------------ERT Iteration: 5 ---------------------------\n"
     ]
    },
    {
     "name": "stdout",
     "output_type": "stream",
     "text": [
      "ERT chi2: 1.1147070572387152\n",
      "dPhi: 0.3476361019294739\n",
      "ERTphi_d: 2768.9323301809686, ERTphi_m: 465.44827413189466, ERTphi_t: 257.13249491065085\n",
      "Convergence reached at iteration 5\n"
     ]
    },
    {
     "name": "stdout",
     "output_type": "stream",
     "text": [
      "End of inversion\n",
      "\n",
      "Window 2 results:\n",
      "Model shape: (4531, 3)\n",
      "Coverage available: True\n",
      "Number of iterations: 6\n"
     ]
    },
    {
     "name": "stdout",
     "output_type": "stream",
     "text": [
      "\n",
      "Starting L2 inversion for window 3\n"
     ]
    },
    {
     "name": "stderr",
     "output_type": "stream",
     "text": [
      "25/05/25 - 01:12:07 - pyGIMLi - \u001b[0;32;49mINFO\u001b[0m - Found 3 regions.\n"
     ]
    },
    {
     "name": "stderr",
     "output_type": "stream",
     "text": [
      "25/05/25 - 01:12:07 - pyGIMLi - \u001b[0;32;49mINFO\u001b[0m - (ERTModelling) Region with smallest marker (1) set to background.\n"
     ]
    },
    {
     "name": "stderr",
     "output_type": "stream",
     "text": [
      "25/05/25 - 01:12:08 - pyGIMLi - \u001b[0;32;49mINFO\u001b[0m - Found 3 regions.\n"
     ]
    },
    {
     "name": "stderr",
     "output_type": "stream",
     "text": [
      "25/05/25 - 01:12:08 - pyGIMLi - \u001b[0;32;49mINFO\u001b[0m - (ERTModelling) Region with smallest marker (1) set to background.\n"
     ]
    },
    {
     "name": "stderr",
     "output_type": "stream",
     "text": [
      "25/05/25 - 01:12:08 - pyGIMLi - \u001b[0;32;49mINFO\u001b[0m - Found 3 regions.\n"
     ]
    },
    {
     "name": "stderr",
     "output_type": "stream",
     "text": [
      "25/05/25 - 01:12:08 - pyGIMLi - \u001b[0;32;49mINFO\u001b[0m - (ERTModelling) Region with smallest marker (1) set to background.\n"
     ]
    },
    {
     "name": "stderr",
     "output_type": "stream",
     "text": [
      "25/05/25 - 01:12:08 - pyGIMLi - \u001b[0;32;49mINFO\u001b[0m - Creating forward mesh from region infos.\n"
     ]
    },
    {
     "name": "stderr",
     "output_type": "stream",
     "text": [
      "25/05/25 - 01:12:08 - pyGIMLi - \u001b[0;32;49mINFO\u001b[0m - Creating refined mesh (H2) to solve forward task.\n"
     ]
    },
    {
     "name": "stderr",
     "output_type": "stream",
     "text": [
      "25/05/25 - 01:12:08 - pyGIMLi - \u001b[0;32;49mINFO\u001b[0m - Mesh for forward task: Mesh: Nodes: 11099 Cells: 21776 Boundaries: 16542\n"
     ]
    },
    {
     "name": "stdout",
     "output_type": "stream",
     "text": [
      "-6.907755278982137 9.210340371976184\n",
      "-------------------ERT Iteration: 0 ---------------------------\n"
     ]
    },
    {
     "name": "stderr",
     "output_type": "stream",
     "text": [
      "25/05/25 - 01:12:49 - pyGIMLi - \u001b[0;32;49mINFO\u001b[0m - Creating forward mesh from region infos.\n"
     ]
    },
    {
     "name": "stderr",
     "output_type": "stream",
     "text": [
      "25/05/25 - 01:12:49 - pyGIMLi - \u001b[0;32;49mINFO\u001b[0m - Creating refined mesh (H2) to solve forward task.\n"
     ]
    },
    {
     "name": "stderr",
     "output_type": "stream",
     "text": [
      "25/05/25 - 01:12:49 - pyGIMLi - \u001b[0;32;49mINFO\u001b[0m - Mesh for forward task: Mesh: Nodes: 11099 Cells: 21776 Boundaries: 16542\n"
     ]
    },
    {
     "name": "stderr",
     "output_type": "stream",
     "text": [
      "25/05/25 - 01:13:28 - pyGIMLi - \u001b[0;32;49mINFO\u001b[0m - Creating forward mesh from region infos.\n"
     ]
    },
    {
     "name": "stderr",
     "output_type": "stream",
     "text": [
      "25/05/25 - 01:13:28 - pyGIMLi - \u001b[0;32;49mINFO\u001b[0m - Creating refined mesh (H2) to solve forward task.\n"
     ]
    },
    {
     "name": "stderr",
     "output_type": "stream",
     "text": [
      "25/05/25 - 01:13:28 - pyGIMLi - \u001b[0;32;49mINFO\u001b[0m - Mesh for forward task: Mesh: Nodes: 11099 Cells: 21776 Boundaries: 16542\n"
     ]
    },
    {
     "name": "stdout",
     "output_type": "stream",
     "text": [
      "ERT chi2: 2335.692647600651\n",
      "dPhi: 1.0\n",
      "ERTphi_d: 5801860.536640017, ERTphi_m: 0.0, ERTphi_t: 0.0\n"
     ]
    },
    {
     "name": "stdout",
     "output_type": "stream",
     "text": [
      "-------------------ERT Iteration: 1 ---------------------------\n"
     ]
    },
    {
     "name": "stdout",
     "output_type": "stream",
     "text": [
      "ERT chi2: 32.84218650776475\n",
      "dPhi: 0.9859389947810547\n",
      "ERTphi_d: 81579.99128528764, ERTphi_m: 3396.3088238770597, ERTphi_t: 264.98527008144606\n"
     ]
    },
    {
     "name": "stdout",
     "output_type": "stream",
     "text": [
      "-------------------ERT Iteration: 2 ---------------------------\n"
     ]
    },
    {
     "name": "stdout",
     "output_type": "stream",
     "text": [
      "ERT chi2: 21.443577597818365\n",
      "dPhi: 0.34707216912161\n",
      "ERTphi_d: 53265.84675298082, ERTphi_m: 1146.888850959584, ERTphi_t: 251.92593213900182\n"
     ]
    },
    {
     "name": "stdout",
     "output_type": "stream",
     "text": [
      "-------------------ERT Iteration: 3 ---------------------------\n"
     ]
    },
    {
     "name": "stdout",
     "output_type": "stream",
     "text": [
      "ERT chi2: 11.145533220206142\n",
      "dPhi: 0.4802390986595413\n",
      "ERTphi_d: 27685.504518992057, ERTphi_m: 631.8435951313625, ERTphi_t: 235.7076312864342\n"
     ]
    },
    {
     "name": "stdout",
     "output_type": "stream",
     "text": [
      "-------------------ERT Iteration: 4 ---------------------------\n"
     ]
    },
    {
     "name": "stdout",
     "output_type": "stream",
     "text": [
      "ERT chi2: 1.8269354206432367\n",
      "dPhi: 0.8360836234078851\n",
      "ERTphi_d: 4538.1075848778, ERTphi_m: 492.413393657297, ERTphi_t: 230.90206622607468\n"
     ]
    },
    {
     "name": "stdout",
     "output_type": "stream",
     "text": [
      "-------------------ERT Iteration: 5 ---------------------------\n"
     ]
    },
    {
     "name": "stdout",
     "output_type": "stream",
     "text": [
      "ERT chi2: 1.0743801965529047\n",
      "dPhi: 0.41192218158722244\n",
      "ERTphi_d: 2668.7604082374155, ERTphi_m: 437.6731178295223, ERTphi_t: 231.40742253656697\n",
      "Convergence reached at iteration 5\n"
     ]
    },
    {
     "name": "stdout",
     "output_type": "stream",
     "text": [
      "End of inversion\n",
      "\n",
      "Window 3 results:\n",
      "Model shape: (4531, 3)\n",
      "Coverage available: True\n",
      "Number of iterations: 6\n"
     ]
    },
    {
     "name": "stdout",
     "output_type": "stream",
     "text": [
      "\n",
      "Starting L2 inversion for window 4\n"
     ]
    },
    {
     "name": "stderr",
     "output_type": "stream",
     "text": [
      "25/05/25 - 01:41:09 - pyGIMLi - \u001b[0;32;49mINFO\u001b[0m - Found 3 regions.\n"
     ]
    },
    {
     "name": "stderr",
     "output_type": "stream",
     "text": [
      "25/05/25 - 01:41:09 - pyGIMLi - \u001b[0;32;49mINFO\u001b[0m - (ERTModelling) Region with smallest marker (1) set to background.\n"
     ]
    },
    {
     "name": "stderr",
     "output_type": "stream",
     "text": [
      "25/05/25 - 01:41:10 - pyGIMLi - \u001b[0;32;49mINFO\u001b[0m - Found 3 regions.\n"
     ]
    },
    {
     "name": "stderr",
     "output_type": "stream",
     "text": [
      "25/05/25 - 01:41:10 - pyGIMLi - \u001b[0;32;49mINFO\u001b[0m - (ERTModelling) Region with smallest marker (1) set to background.\n"
     ]
    },
    {
     "name": "stderr",
     "output_type": "stream",
     "text": [
      "25/05/25 - 01:41:10 - pyGIMLi - \u001b[0;32;49mINFO\u001b[0m - Found 3 regions.\n"
     ]
    },
    {
     "name": "stderr",
     "output_type": "stream",
     "text": [
      "25/05/25 - 01:41:10 - pyGIMLi - \u001b[0;32;49mINFO\u001b[0m - (ERTModelling) Region with smallest marker (1) set to background.\n"
     ]
    },
    {
     "name": "stderr",
     "output_type": "stream",
     "text": [
      "25/05/25 - 01:41:10 - pyGIMLi - \u001b[0;32;49mINFO\u001b[0m - Creating forward mesh from region infos.\n"
     ]
    },
    {
     "name": "stderr",
     "output_type": "stream",
     "text": [
      "25/05/25 - 01:41:10 - pyGIMLi - \u001b[0;32;49mINFO\u001b[0m - Creating refined mesh (H2) to solve forward task.\n"
     ]
    },
    {
     "name": "stderr",
     "output_type": "stream",
     "text": [
      "25/05/25 - 01:41:10 - pyGIMLi - \u001b[0;32;49mINFO\u001b[0m - Mesh for forward task: Mesh: Nodes: 11099 Cells: 21776 Boundaries: 16542\n"
     ]
    },
    {
     "name": "stdout",
     "output_type": "stream",
     "text": [
      "-6.907755278982137 9.210340371976184\n",
      "-------------------ERT Iteration: 0 ---------------------------\n"
     ]
    },
    {
     "name": "stderr",
     "output_type": "stream",
     "text": [
      "25/05/25 - 01:41:53 - pyGIMLi - \u001b[0;32;49mINFO\u001b[0m - Creating forward mesh from region infos.\n"
     ]
    },
    {
     "name": "stderr",
     "output_type": "stream",
     "text": [
      "25/05/25 - 01:41:53 - pyGIMLi - \u001b[0;32;49mINFO\u001b[0m - Creating refined mesh (H2) to solve forward task.\n"
     ]
    },
    {
     "name": "stderr",
     "output_type": "stream",
     "text": [
      "25/05/25 - 01:41:53 - pyGIMLi - \u001b[0;32;49mINFO\u001b[0m - Mesh for forward task: Mesh: Nodes: 11099 Cells: 21776 Boundaries: 16542\n"
     ]
    },
    {
     "name": "stderr",
     "output_type": "stream",
     "text": [
      "25/05/25 - 01:42:34 - pyGIMLi - \u001b[0;32;49mINFO\u001b[0m - Creating forward mesh from region infos.\n"
     ]
    },
    {
     "name": "stderr",
     "output_type": "stream",
     "text": [
      "25/05/25 - 01:42:34 - pyGIMLi - \u001b[0;32;49mINFO\u001b[0m - Creating refined mesh (H2) to solve forward task.\n"
     ]
    },
    {
     "name": "stderr",
     "output_type": "stream",
     "text": [
      "25/05/25 - 01:42:34 - pyGIMLi - \u001b[0;32;49mINFO\u001b[0m - Mesh for forward task: Mesh: Nodes: 11099 Cells: 21776 Boundaries: 16542\n"
     ]
    },
    {
     "name": "stdout",
     "output_type": "stream",
     "text": [
      "ERT chi2: 2119.8280193897986\n",
      "dPhi: 1.0\n",
      "ERTphi_d: 5265652.80016426, ERTphi_m: 0.0, ERTphi_t: 0.0\n"
     ]
    },
    {
     "name": "stdout",
     "output_type": "stream",
     "text": [
      "-------------------ERT Iteration: 1 ---------------------------\n"
     ]
    },
    {
     "name": "stdout",
     "output_type": "stream",
     "text": [
      "ERT chi2: 31.29125258172662\n",
      "dPhi: 0.9852387777237072\n",
      "ERTphi_d: 77727.47141300893, ERTphi_m: 3378.0388957302353, ERTphi_t: 2001.5042555025548\n"
     ]
    },
    {
     "name": "stdout",
     "output_type": "stream",
     "text": [
      "-------------------ERT Iteration: 2 ---------------------------\n"
     ]
    },
    {
     "name": "stdout",
     "output_type": "stream",
     "text": [
      "ERT chi2: 21.212827545072496\n",
      "dPhi: 0.3220844231253208\n",
      "ERTphi_d: 52692.663621960084, ERTphi_m: 1227.8198287863872, ERTphi_t: 1864.5724434263752\n"
     ]
    },
    {
     "name": "stdout",
     "output_type": "stream",
     "text": [
      "-------------------ERT Iteration: 3 ---------------------------\n"
     ]
    },
    {
     "name": "stdout",
     "output_type": "stream",
     "text": [
      "ERT chi2: 10.56606145643853\n",
      "dPhi: 0.5019022601306676\n",
      "ERTphi_d: 26246.096657793307, ERTphi_m: 783.1948632244729, ERTphi_t: 1807.242547829128\n"
     ]
    },
    {
     "name": "stdout",
     "output_type": "stream",
     "text": [
      "-------------------ERT Iteration: 4 ---------------------------\n"
     ]
    },
    {
     "name": "stdout",
     "output_type": "stream",
     "text": [
      "ERT chi2: 2.094596610835727\n",
      "dPhi: 0.8017618372303368\n",
      "ERTphi_d: 5202.977981315946, ERTphi_m: 644.5710307048003, ERTphi_t: 1777.553703902156\n"
     ]
    },
    {
     "name": "stdout",
     "output_type": "stream",
     "text": [
      "-------------------ERT Iteration: 5 ---------------------------\n"
     ]
    },
    {
     "name": "stdout",
     "output_type": "stream",
     "text": [
      "ERT chi2: 1.216718156958779\n",
      "dPhi: 0.41911576163903064\n",
      "ERTphi_d: 3022.3279018856074, ERTphi_m: 599.9785095219738, ERTphi_t: 1770.6533264941186\n",
      "Convergence reached at iteration 5\n"
     ]
    },
    {
     "name": "stdout",
     "output_type": "stream",
     "text": [
      "End of inversion\n",
      "\n",
      "Window 4 results:\n",
      "Model shape: (4531, 3)\n",
      "Coverage available: True\n",
      "Number of iterations: 6\n"
     ]
    },
    {
     "name": "stdout",
     "output_type": "stream",
     "text": [
      "\n",
      "Starting L2 inversion for window 5\n"
     ]
    },
    {
     "name": "stderr",
     "output_type": "stream",
     "text": [
      "25/05/25 - 02:10:21 - pyGIMLi - \u001b[0;32;49mINFO\u001b[0m - Found 3 regions.\n"
     ]
    },
    {
     "name": "stderr",
     "output_type": "stream",
     "text": [
      "25/05/25 - 02:10:21 - pyGIMLi - \u001b[0;32;49mINFO\u001b[0m - (ERTModelling) Region with smallest marker (1) set to background.\n"
     ]
    },
    {
     "name": "stderr",
     "output_type": "stream",
     "text": [
      "25/05/25 - 02:10:21 - pyGIMLi - \u001b[0;32;49mINFO\u001b[0m - Found 3 regions.\n"
     ]
    },
    {
     "name": "stderr",
     "output_type": "stream",
     "text": [
      "25/05/25 - 02:10:21 - pyGIMLi - \u001b[0;32;49mINFO\u001b[0m - (ERTModelling) Region with smallest marker (1) set to background.\n"
     ]
    },
    {
     "name": "stderr",
     "output_type": "stream",
     "text": [
      "25/05/25 - 02:10:21 - pyGIMLi - \u001b[0;32;49mINFO\u001b[0m - Found 3 regions.\n"
     ]
    },
    {
     "name": "stderr",
     "output_type": "stream",
     "text": [
      "25/05/25 - 02:10:21 - pyGIMLi - \u001b[0;32;49mINFO\u001b[0m - (ERTModelling) Region with smallest marker (1) set to background.\n"
     ]
    },
    {
     "name": "stderr",
     "output_type": "stream",
     "text": [
      "25/05/25 - 02:10:22 - pyGIMLi - \u001b[0;32;49mINFO\u001b[0m - Creating forward mesh from region infos.\n"
     ]
    },
    {
     "name": "stderr",
     "output_type": "stream",
     "text": [
      "25/05/25 - 02:10:22 - pyGIMLi - \u001b[0;32;49mINFO\u001b[0m - Creating refined mesh (H2) to solve forward task.\n"
     ]
    },
    {
     "name": "stderr",
     "output_type": "stream",
     "text": [
      "25/05/25 - 02:10:22 - pyGIMLi - \u001b[0;32;49mINFO\u001b[0m - Mesh for forward task: Mesh: Nodes: 11099 Cells: 21776 Boundaries: 16542\n"
     ]
    },
    {
     "name": "stdout",
     "output_type": "stream",
     "text": [
      "-6.907755278982137 9.210340371976184\n",
      "-------------------ERT Iteration: 0 ---------------------------\n"
     ]
    },
    {
     "name": "stderr",
     "output_type": "stream",
     "text": [
      "25/05/25 - 02:11:03 - pyGIMLi - \u001b[0;32;49mINFO\u001b[0m - Creating forward mesh from region infos.\n"
     ]
    },
    {
     "name": "stderr",
     "output_type": "stream",
     "text": [
      "25/05/25 - 02:11:03 - pyGIMLi - \u001b[0;32;49mINFO\u001b[0m - Creating refined mesh (H2) to solve forward task.\n"
     ]
    },
    {
     "name": "stderr",
     "output_type": "stream",
     "text": [
      "25/05/25 - 02:11:03 - pyGIMLi - \u001b[0;32;49mINFO\u001b[0m - Mesh for forward task: Mesh: Nodes: 11099 Cells: 21776 Boundaries: 16542\n"
     ]
    },
    {
     "name": "stderr",
     "output_type": "stream",
     "text": [
      "25/05/25 - 02:11:43 - pyGIMLi - \u001b[0;32;49mINFO\u001b[0m - Creating forward mesh from region infos.\n"
     ]
    },
    {
     "name": "stderr",
     "output_type": "stream",
     "text": [
      "25/05/25 - 02:11:43 - pyGIMLi - \u001b[0;32;49mINFO\u001b[0m - Creating refined mesh (H2) to solve forward task.\n"
     ]
    },
    {
     "name": "stderr",
     "output_type": "stream",
     "text": [
      "25/05/25 - 02:11:43 - pyGIMLi - \u001b[0;32;49mINFO\u001b[0m - Mesh for forward task: Mesh: Nodes: 11099 Cells: 21776 Boundaries: 16542\n"
     ]
    },
    {
     "name": "stdout",
     "output_type": "stream",
     "text": [
      "ERT chi2: 1950.9720474804678\n",
      "dPhi: 1.0\n",
      "ERTphi_d: 4846214.565941482, ERTphi_m: 0.0, ERTphi_t: 0.0\n"
     ]
    },
    {
     "name": "stdout",
     "output_type": "stream",
     "text": [
      "-------------------ERT Iteration: 1 ---------------------------\n"
     ]
    },
    {
     "name": "stdout",
     "output_type": "stream",
     "text": [
      "ERT chi2: 30.856581525764383\n",
      "dPhi: 0.9841839960928127\n",
      "ERTphi_d: 76647.74850999872, ERTphi_m: 3229.5085125730043, ERTphi_t: 1985.6063112935867\n"
     ]
    },
    {
     "name": "stdout",
     "output_type": "stream",
     "text": [
      "-------------------ERT Iteration: 2 ---------------------------\n"
     ]
    },
    {
     "name": "stdout",
     "output_type": "stream",
     "text": [
      "ERT chi2: 20.116738913265014\n",
      "dPhi: 0.3480567866382704\n",
      "ERTphi_d: 49969.97946055029, ERTphi_m: 1173.7246121750659, ERTphi_t: 1872.3858662655107\n"
     ]
    },
    {
     "name": "stdout",
     "output_type": "stream",
     "text": [
      "-------------------ERT Iteration: 3 ---------------------------\n"
     ]
    },
    {
     "name": "stdout",
     "output_type": "stream",
     "text": [
      "ERT chi2: 8.930148518578893\n",
      "dPhi: 0.5560836894547387\n",
      "ERTphi_d: 22182.488920149968, ERTphi_m: 734.6911184928763, ERTphi_t: 1845.2244701111406\n"
     ]
    },
    {
     "name": "stdout",
     "output_type": "stream",
     "text": [
      "-------------------ERT Iteration: 4 ---------------------------\n"
     ]
    },
    {
     "name": "stdout",
     "output_type": "stream",
     "text": [
      "ERT chi2: 1.8894245373842358\n",
      "dPhi: 0.7884218237296561\n",
      "ERTphi_d: 4693.330550862442, ERTphi_m: 601.9878543626232, ERTphi_t: 1815.0482783627258\n"
     ]
    },
    {
     "name": "stdout",
     "output_type": "stream",
     "text": [
      "-------------------ERT Iteration: 5 ---------------------------\n"
     ]
    },
    {
     "name": "stdout",
     "output_type": "stream",
     "text": [
      "ERT chi2: 1.1903409005311403\n",
      "dPhi: 0.36999817829238285\n",
      "ERTphi_d: 2956.8067969193526, ERTphi_m: 556.348104767872, ERTphi_t: 1810.142655550036\n",
      "Convergence reached at iteration 5\n"
     ]
    },
    {
     "name": "stdout",
     "output_type": "stream",
     "text": [
      "End of inversion\n",
      "\n",
      "Window 5 results:\n",
      "Model shape: (4531, 3)\n",
      "Coverage available: True\n",
      "Number of iterations: 6\n"
     ]
    },
    {
     "name": "stdout",
     "output_type": "stream",
     "text": [
      "\n",
      "Starting L2 inversion for window 6\n"
     ]
    },
    {
     "name": "stderr",
     "output_type": "stream",
     "text": [
      "25/05/25 - 02:38:40 - pyGIMLi - \u001b[0;32;49mINFO\u001b[0m - Found 3 regions.\n"
     ]
    },
    {
     "name": "stderr",
     "output_type": "stream",
     "text": [
      "25/05/25 - 02:38:40 - pyGIMLi - \u001b[0;32;49mINFO\u001b[0m - (ERTModelling) Region with smallest marker (1) set to background.\n"
     ]
    },
    {
     "name": "stderr",
     "output_type": "stream",
     "text": [
      "25/05/25 - 02:38:41 - pyGIMLi - \u001b[0;32;49mINFO\u001b[0m - Found 3 regions.\n"
     ]
    },
    {
     "name": "stderr",
     "output_type": "stream",
     "text": [
      "25/05/25 - 02:38:41 - pyGIMLi - \u001b[0;32;49mINFO\u001b[0m - (ERTModelling) Region with smallest marker (1) set to background.\n"
     ]
    },
    {
     "name": "stderr",
     "output_type": "stream",
     "text": [
      "25/05/25 - 02:38:41 - pyGIMLi - \u001b[0;32;49mINFO\u001b[0m - Found 3 regions.\n"
     ]
    },
    {
     "name": "stderr",
     "output_type": "stream",
     "text": [
      "25/05/25 - 02:38:41 - pyGIMLi - \u001b[0;32;49mINFO\u001b[0m - (ERTModelling) Region with smallest marker (1) set to background.\n"
     ]
    },
    {
     "name": "stderr",
     "output_type": "stream",
     "text": [
      "25/05/25 - 02:38:41 - pyGIMLi - \u001b[0;32;49mINFO\u001b[0m - Creating forward mesh from region infos.\n"
     ]
    },
    {
     "name": "stderr",
     "output_type": "stream",
     "text": [
      "25/05/25 - 02:38:41 - pyGIMLi - \u001b[0;32;49mINFO\u001b[0m - Creating refined mesh (H2) to solve forward task.\n"
     ]
    },
    {
     "name": "stderr",
     "output_type": "stream",
     "text": [
      "25/05/25 - 02:38:41 - pyGIMLi - \u001b[0;32;49mINFO\u001b[0m - Mesh for forward task: Mesh: Nodes: 11099 Cells: 21776 Boundaries: 16542\n"
     ]
    },
    {
     "name": "stdout",
     "output_type": "stream",
     "text": [
      "-6.907755278982137 9.210340371976184\n",
      "-------------------ERT Iteration: 0 ---------------------------\n"
     ]
    },
    {
     "name": "stderr",
     "output_type": "stream",
     "text": [
      "25/05/25 - 02:39:25 - pyGIMLi - \u001b[0;32;49mINFO\u001b[0m - Creating forward mesh from region infos.\n"
     ]
    },
    {
     "name": "stderr",
     "output_type": "stream",
     "text": [
      "25/05/25 - 02:39:25 - pyGIMLi - \u001b[0;32;49mINFO\u001b[0m - Creating refined mesh (H2) to solve forward task.\n"
     ]
    },
    {
     "name": "stderr",
     "output_type": "stream",
     "text": [
      "25/05/25 - 02:39:25 - pyGIMLi - \u001b[0;32;49mINFO\u001b[0m - Mesh for forward task: Mesh: Nodes: 11099 Cells: 21776 Boundaries: 16542\n"
     ]
    },
    {
     "name": "stderr",
     "output_type": "stream",
     "text": [
      "25/05/25 - 02:40:02 - pyGIMLi - \u001b[0;32;49mINFO\u001b[0m - Creating forward mesh from region infos.\n"
     ]
    },
    {
     "name": "stderr",
     "output_type": "stream",
     "text": [
      "25/05/25 - 02:40:02 - pyGIMLi - \u001b[0;32;49mINFO\u001b[0m - Creating refined mesh (H2) to solve forward task.\n"
     ]
    },
    {
     "name": "stderr",
     "output_type": "stream",
     "text": [
      "25/05/25 - 02:40:02 - pyGIMLi - \u001b[0;32;49mINFO\u001b[0m - Mesh for forward task: Mesh: Nodes: 11099 Cells: 21776 Boundaries: 16542\n"
     ]
    },
    {
     "name": "stdout",
     "output_type": "stream",
     "text": [
      "ERT chi2: 1883.9011044467438\n",
      "dPhi: 1.0\n",
      "ERTphi_d: 4679610.343445712, ERTphi_m: 0.0, ERTphi_t: 0.0\n"
     ]
    },
    {
     "name": "stdout",
     "output_type": "stream",
     "text": [
      "-------------------ERT Iteration: 1 ---------------------------\n"
     ]
    },
    {
     "name": "stdout",
     "output_type": "stream",
     "text": [
      "ERT chi2: 34.15432502591919\n",
      "dPhi: 0.9818704257111471\n",
      "ERTphi_d: 84839.34336438327, ERTphi_m: 3099.379144233677, ERTphi_t: 1337.9571928780342\n"
     ]
    },
    {
     "name": "stdout",
     "output_type": "stream",
     "text": [
      "-------------------ERT Iteration: 2 ---------------------------\n"
     ]
    },
    {
     "name": "stdout",
     "output_type": "stream",
     "text": [
      "ERT chi2: 19.4455626387924\n",
      "dPhi: 0.4306559235459796\n",
      "ERTphi_d: 48302.77759476032, ERTphi_m: 1131.3022062172392, ERTphi_t: 1223.3819513747835\n"
     ]
    },
    {
     "name": "stdout",
     "output_type": "stream",
     "text": [
      "-------------------ERT Iteration: 3 ---------------------------\n"
     ]
    },
    {
     "name": "stdout",
     "output_type": "stream",
     "text": [
      "ERT chi2: 8.705119928649943\n",
      "dPhi: 0.5523338619534773\n",
      "ERTphi_d: 21623.517902766456, ERTphi_m: 692.6440236096402, ERTphi_t: 1191.9750224866038\n"
     ]
    },
    {
     "name": "stdout",
     "output_type": "stream",
     "text": [
      "-------------------ERT Iteration: 4 ---------------------------\n"
     ]
    },
    {
     "name": "stdout",
     "output_type": "stream",
     "text": [
      "ERT chi2: 1.7479441699931608\n",
      "dPhi: 0.799205044350923\n",
      "ERTphi_d: 4341.893318263012, ERTphi_m: 562.3685518408804, ERTphi_t: 1165.8410434804728\n"
     ]
    },
    {
     "name": "stdout",
     "output_type": "stream",
     "text": [
      "-------------------ERT Iteration: 5 ---------------------------\n"
     ]
    },
    {
     "name": "stdout",
     "output_type": "stream",
     "text": [
      "ERT chi2: 1.159334778134536\n",
      "dPhi: 0.33674381708709145\n",
      "ERTphi_d: 2879.787588886187, ERTphi_m: 516.0098008087125, ERTphi_t: 1166.922658357289\n",
      "Convergence reached at iteration 5\n"
     ]
    },
    {
     "name": "stdout",
     "output_type": "stream",
     "text": [
      "End of inversion\n",
      "\n",
      "Window 6 results:\n",
      "Model shape: (4531, 3)\n",
      "Coverage available: True\n",
      "Number of iterations: 6\n"
     ]
    },
    {
     "name": "stdout",
     "output_type": "stream",
     "text": [
      "\n",
      "Starting L2 inversion for window 7\n"
     ]
    },
    {
     "name": "stderr",
     "output_type": "stream",
     "text": [
      "25/05/25 - 03:06:49 - pyGIMLi - \u001b[0;32;49mINFO\u001b[0m - Found 3 regions.\n"
     ]
    },
    {
     "name": "stderr",
     "output_type": "stream",
     "text": [
      "25/05/25 - 03:06:49 - pyGIMLi - \u001b[0;32;49mINFO\u001b[0m - (ERTModelling) Region with smallest marker (1) set to background.\n"
     ]
    },
    {
     "name": "stderr",
     "output_type": "stream",
     "text": [
      "25/05/25 - 03:06:49 - pyGIMLi - \u001b[0;32;49mINFO\u001b[0m - Found 3 regions.\n"
     ]
    },
    {
     "name": "stderr",
     "output_type": "stream",
     "text": [
      "25/05/25 - 03:06:49 - pyGIMLi - \u001b[0;32;49mINFO\u001b[0m - (ERTModelling) Region with smallest marker (1) set to background.\n"
     ]
    },
    {
     "name": "stderr",
     "output_type": "stream",
     "text": [
      "25/05/25 - 03:06:49 - pyGIMLi - \u001b[0;32;49mINFO\u001b[0m - Found 3 regions.\n"
     ]
    },
    {
     "name": "stderr",
     "output_type": "stream",
     "text": [
      "25/05/25 - 03:06:49 - pyGIMLi - \u001b[0;32;49mINFO\u001b[0m - (ERTModelling) Region with smallest marker (1) set to background.\n"
     ]
    },
    {
     "name": "stderr",
     "output_type": "stream",
     "text": [
      "25/05/25 - 03:06:49 - pyGIMLi - \u001b[0;32;49mINFO\u001b[0m - Creating forward mesh from region infos.\n"
     ]
    },
    {
     "name": "stderr",
     "output_type": "stream",
     "text": [
      "25/05/25 - 03:06:50 - pyGIMLi - \u001b[0;32;49mINFO\u001b[0m - Creating refined mesh (H2) to solve forward task.\n"
     ]
    },
    {
     "name": "stderr",
     "output_type": "stream",
     "text": [
      "25/05/25 - 03:06:50 - pyGIMLi - \u001b[0;32;49mINFO\u001b[0m - Mesh for forward task: Mesh: Nodes: 11099 Cells: 21776 Boundaries: 16542\n"
     ]
    },
    {
     "name": "stdout",
     "output_type": "stream",
     "text": [
      "-6.907755278982137 9.210340371976184\n",
      "-------------------ERT Iteration: 0 ---------------------------\n"
     ]
    },
    {
     "name": "stderr",
     "output_type": "stream",
     "text": [
      "25/05/25 - 03:07:33 - pyGIMLi - \u001b[0;32;49mINFO\u001b[0m - Creating forward mesh from region infos.\n"
     ]
    },
    {
     "name": "stderr",
     "output_type": "stream",
     "text": [
      "25/05/25 - 03:07:34 - pyGIMLi - \u001b[0;32;49mINFO\u001b[0m - Creating refined mesh (H2) to solve forward task.\n"
     ]
    },
    {
     "name": "stderr",
     "output_type": "stream",
     "text": [
      "25/05/25 - 03:07:34 - pyGIMLi - \u001b[0;32;49mINFO\u001b[0m - Mesh for forward task: Mesh: Nodes: 11099 Cells: 21776 Boundaries: 16542\n"
     ]
    },
    {
     "name": "stderr",
     "output_type": "stream",
     "text": [
      "25/05/25 - 03:08:13 - pyGIMLi - \u001b[0;32;49mINFO\u001b[0m - Creating forward mesh from region infos.\n"
     ]
    },
    {
     "name": "stderr",
     "output_type": "stream",
     "text": [
      "25/05/25 - 03:08:13 - pyGIMLi - \u001b[0;32;49mINFO\u001b[0m - Creating refined mesh (H2) to solve forward task.\n"
     ]
    },
    {
     "name": "stderr",
     "output_type": "stream",
     "text": [
      "25/05/25 - 03:08:13 - pyGIMLi - \u001b[0;32;49mINFO\u001b[0m - Mesh for forward task: Mesh: Nodes: 11099 Cells: 21776 Boundaries: 16542\n"
     ]
    },
    {
     "name": "stdout",
     "output_type": "stream",
     "text": [
      "ERT chi2: 2081.2660759246382\n",
      "dPhi: 1.0\n",
      "ERTphi_d: 5169864.932596801, ERTphi_m: 0.0, ERTphi_t: 0.0\n"
     ]
    },
    {
     "name": "stdout",
     "output_type": "stream",
     "text": [
      "-------------------ERT Iteration: 1 ---------------------------\n"
     ]
    },
    {
     "name": "stdout",
     "output_type": "stream",
     "text": [
      "ERT chi2: 39.903067463293006\n",
      "dPhi: 0.9808275030641792\n",
      "ERTphi_d: 99119.21957881983, ERTphi_m: 3248.5067617708, ERTphi_t: 1402.4141779739743\n"
     ]
    },
    {
     "name": "stdout",
     "output_type": "stream",
     "text": [
      "-------------------ERT Iteration: 2 ---------------------------\n"
     ]
    },
    {
     "name": "stdout",
     "output_type": "stream",
     "text": [
      "ERT chi2: 18.799390001322738\n",
      "dPhi: 0.5288735629506084\n",
      "ERTphi_d: 46697.68476328568, ERTphi_m: 1223.773065000434, ERTphi_t: 1266.0410278952536\n"
     ]
    },
    {
     "name": "stdout",
     "output_type": "stream",
     "text": [
      "-------------------ERT Iteration: 3 ---------------------------\n"
     ]
    },
    {
     "name": "stdout",
     "output_type": "stream",
     "text": [
      "ERT chi2: 9.400185148690408\n",
      "dPhi: 0.4999739274503585\n",
      "ERTphi_d: 23350.059909346975, ERTphi_m: 721.7859126764704, ERTphi_t: 1204.021912159161\n"
     ]
    },
    {
     "name": "stdout",
     "output_type": "stream",
     "text": [
      "-------------------ERT Iteration: 4 ---------------------------\n"
     ]
    },
    {
     "name": "stdout",
     "output_type": "stream",
     "text": [
      "ERT chi2: 1.7083670476429573\n",
      "dPhi: 0.8182624043441358\n",
      "ERTphi_d: 4243.583746345106, ERTphi_m: 611.0630909509542, ERTphi_t: 1185.269498084508\n"
     ]
    },
    {
     "name": "stdout",
     "output_type": "stream",
     "text": [
      "-------------------ERT Iteration: 5 ---------------------------\n"
     ]
    },
    {
     "name": "stdout",
     "output_type": "stream",
     "text": [
      "ERT chi2: 1.1842092347411417\n",
      "dPhi: 0.30681803048413914\n",
      "ERTphi_d: 2941.575739096996, ERTphi_m: 560.2452443305865, ERTphi_t: 1186.0200563711237\n",
      "Convergence reached at iteration 5\n"
     ]
    },
    {
     "name": "stdout",
     "output_type": "stream",
     "text": [
      "End of inversion\n",
      "\n",
      "Window 7 results:\n",
      "Model shape: (4531, 3)\n",
      "Coverage available: True\n",
      "Number of iterations: 6\n"
     ]
    },
    {
     "name": "stdout",
     "output_type": "stream",
     "text": [
      "\n",
      "Starting L2 inversion for window 8\n"
     ]
    },
    {
     "name": "stderr",
     "output_type": "stream",
     "text": [
      "25/05/25 - 03:35:08 - pyGIMLi - \u001b[0;32;49mINFO\u001b[0m - Found 3 regions.\n"
     ]
    },
    {
     "name": "stderr",
     "output_type": "stream",
     "text": [
      "25/05/25 - 03:35:08 - pyGIMLi - \u001b[0;32;49mINFO\u001b[0m - (ERTModelling) Region with smallest marker (1) set to background.\n"
     ]
    },
    {
     "name": "stderr",
     "output_type": "stream",
     "text": [
      "25/05/25 - 03:35:09 - pyGIMLi - \u001b[0;32;49mINFO\u001b[0m - Found 3 regions.\n"
     ]
    },
    {
     "name": "stderr",
     "output_type": "stream",
     "text": [
      "25/05/25 - 03:35:09 - pyGIMLi - \u001b[0;32;49mINFO\u001b[0m - (ERTModelling) Region with smallest marker (1) set to background.\n"
     ]
    },
    {
     "name": "stderr",
     "output_type": "stream",
     "text": [
      "25/05/25 - 03:35:09 - pyGIMLi - \u001b[0;32;49mINFO\u001b[0m - Found 3 regions.\n"
     ]
    },
    {
     "name": "stderr",
     "output_type": "stream",
     "text": [
      "25/05/25 - 03:35:09 - pyGIMLi - \u001b[0;32;49mINFO\u001b[0m - (ERTModelling) Region with smallest marker (1) set to background.\n"
     ]
    },
    {
     "name": "stderr",
     "output_type": "stream",
     "text": [
      "25/05/25 - 03:35:09 - pyGIMLi - \u001b[0;32;49mINFO\u001b[0m - Creating forward mesh from region infos.\n"
     ]
    },
    {
     "name": "stderr",
     "output_type": "stream",
     "text": [
      "25/05/25 - 03:35:09 - pyGIMLi - \u001b[0;32;49mINFO\u001b[0m - Creating refined mesh (H2) to solve forward task.\n"
     ]
    },
    {
     "name": "stderr",
     "output_type": "stream",
     "text": [
      "25/05/25 - 03:35:09 - pyGIMLi - \u001b[0;32;49mINFO\u001b[0m - Mesh for forward task: Mesh: Nodes: 11099 Cells: 21776 Boundaries: 16542\n"
     ]
    },
    {
     "name": "stdout",
     "output_type": "stream",
     "text": [
      "-6.907755278982137 9.210340371976184\n",
      "-------------------ERT Iteration: 0 ---------------------------\n"
     ]
    },
    {
     "name": "stderr",
     "output_type": "stream",
     "text": [
      "25/05/25 - 03:35:54 - pyGIMLi - \u001b[0;32;49mINFO\u001b[0m - Creating forward mesh from region infos.\n"
     ]
    },
    {
     "name": "stderr",
     "output_type": "stream",
     "text": [
      "25/05/25 - 03:35:55 - pyGIMLi - \u001b[0;32;49mINFO\u001b[0m - Creating refined mesh (H2) to solve forward task.\n"
     ]
    },
    {
     "name": "stderr",
     "output_type": "stream",
     "text": [
      "25/05/25 - 03:35:55 - pyGIMLi - \u001b[0;32;49mINFO\u001b[0m - Mesh for forward task: Mesh: Nodes: 11099 Cells: 21776 Boundaries: 16542\n"
     ]
    },
    {
     "name": "stderr",
     "output_type": "stream",
     "text": [
      "25/05/25 - 03:36:36 - pyGIMLi - \u001b[0;32;49mINFO\u001b[0m - Creating forward mesh from region infos.\n"
     ]
    },
    {
     "name": "stderr",
     "output_type": "stream",
     "text": [
      "25/05/25 - 03:36:36 - pyGIMLi - \u001b[0;32;49mINFO\u001b[0m - Creating refined mesh (H2) to solve forward task.\n"
     ]
    },
    {
     "name": "stderr",
     "output_type": "stream",
     "text": [
      "25/05/25 - 03:36:36 - pyGIMLi - \u001b[0;32;49mINFO\u001b[0m - Mesh for forward task: Mesh: Nodes: 11099 Cells: 21776 Boundaries: 16542\n"
     ]
    },
    {
     "name": "stdout",
     "output_type": "stream",
     "text": [
      "ERT chi2: 2340.2791399388534\n",
      "dPhi: 1.0\n",
      "ERTphi_d: 5813253.383608112, ERTphi_m: 0.0, ERTphi_t: 0.0\n"
     ]
    },
    {
     "name": "stdout",
     "output_type": "stream",
     "text": [
      "-------------------ERT Iteration: 1 ---------------------------\n"
     ]
    },
    {
     "name": "stdout",
     "output_type": "stream",
     "text": [
      "ERT chi2: 44.156858574549496\n",
      "dPhi: 0.9811317984162764\n",
      "ERTphi_d: 109685.63669918095, ERTphi_m: 3446.358160861021, ERTphi_t: 632.1433796567612\n"
     ]
    },
    {
     "name": "stdout",
     "output_type": "stream",
     "text": [
      "-------------------ERT Iteration: 2 ---------------------------\n"
     ]
    },
    {
     "name": "stdout",
     "output_type": "stream",
     "text": [
      "ERT chi2: 19.659654272406765\n",
      "dPhi: 0.5547768816204258\n",
      "ERTphi_d: 48834.581212658406, ERTphi_m: 1299.939647861536, ERTphi_t: 581.3751788328511\n"
     ]
    },
    {
     "name": "stdout",
     "output_type": "stream",
     "text": [
      "-------------------ERT Iteration: 3 ---------------------------\n"
     ]
    },
    {
     "name": "stdout",
     "output_type": "stream",
     "text": [
      "ERT chi2: 11.150287779876704\n",
      "dPhi: 0.4328339844955133\n",
      "ERTphi_d: 27697.314845213732, ERTphi_m: 742.561787269457, ERTphi_t: 578.8283664560083\n"
     ]
    },
    {
     "name": "stdout",
     "output_type": "stream",
     "text": [
      "-------------------ERT Iteration: 4 ---------------------------\n"
     ]
    },
    {
     "name": "stdout",
     "output_type": "stream",
     "text": [
      "ERT chi2: 1.7842668651073017\n",
      "dPhi: 0.8399801959975035\n",
      "ERTphi_d: 4432.118892926537, ERTphi_m: 632.0403889145516, ERTphi_t: 569.2596919536868\n"
     ]
    },
    {
     "name": "stdout",
     "output_type": "stream",
     "text": [
      "-------------------ERT Iteration: 5 ---------------------------\n"
     ]
    },
    {
     "name": "stdout",
     "output_type": "stream",
     "text": [
      "ERT chi2: 1.1505729470848538\n",
      "dPhi: 0.3551564681353532\n",
      "ERTphi_d: 2858.023200558777, ERTphi_m: 567.3276512809908, ERTphi_t: 568.4319826482738\n",
      "Convergence reached at iteration 5\n"
     ]
    },
    {
     "name": "stdout",
     "output_type": "stream",
     "text": [
      "End of inversion\n",
      "\n",
      "Window 8 results:\n",
      "Model shape: (4531, 3)\n",
      "Coverage available: True\n",
      "Number of iterations: 6\n"
     ]
    },
    {
     "name": "stdout",
     "output_type": "stream",
     "text": [
      "\n",
      "Starting L2 inversion for window 9\n"
     ]
    },
    {
     "name": "stderr",
     "output_type": "stream",
     "text": [
      "25/05/25 - 04:03:45 - pyGIMLi - \u001b[0;32;49mINFO\u001b[0m - Found 3 regions.\n"
     ]
    },
    {
     "name": "stderr",
     "output_type": "stream",
     "text": [
      "25/05/25 - 04:03:45 - pyGIMLi - \u001b[0;32;49mINFO\u001b[0m - (ERTModelling) Region with smallest marker (1) set to background.\n"
     ]
    },
    {
     "name": "stderr",
     "output_type": "stream",
     "text": [
      "25/05/25 - 04:03:45 - pyGIMLi - \u001b[0;32;49mINFO\u001b[0m - Found 3 regions.\n"
     ]
    },
    {
     "name": "stderr",
     "output_type": "stream",
     "text": [
      "25/05/25 - 04:03:45 - pyGIMLi - \u001b[0;32;49mINFO\u001b[0m - (ERTModelling) Region with smallest marker (1) set to background.\n"
     ]
    },
    {
     "name": "stderr",
     "output_type": "stream",
     "text": [
      "25/05/25 - 04:03:45 - pyGIMLi - \u001b[0;32;49mINFO\u001b[0m - Found 3 regions.\n"
     ]
    },
    {
     "name": "stderr",
     "output_type": "stream",
     "text": [
      "25/05/25 - 04:03:45 - pyGIMLi - \u001b[0;32;49mINFO\u001b[0m - (ERTModelling) Region with smallest marker (1) set to background.\n"
     ]
    },
    {
     "name": "stderr",
     "output_type": "stream",
     "text": [
      "25/05/25 - 04:03:45 - pyGIMLi - \u001b[0;32;49mINFO\u001b[0m - Creating forward mesh from region infos.\n"
     ]
    },
    {
     "name": "stderr",
     "output_type": "stream",
     "text": [
      "25/05/25 - 04:03:45 - pyGIMLi - \u001b[0;32;49mINFO\u001b[0m - Creating refined mesh (H2) to solve forward task.\n"
     ]
    },
    {
     "name": "stderr",
     "output_type": "stream",
     "text": [
      "25/05/25 - 04:03:46 - pyGIMLi - \u001b[0;32;49mINFO\u001b[0m - Mesh for forward task: Mesh: Nodes: 11099 Cells: 21776 Boundaries: 16542\n"
     ]
    },
    {
     "name": "stdout",
     "output_type": "stream",
     "text": [
      "-6.907755278982137 9.210340371976184\n",
      "-------------------ERT Iteration: 0 ---------------------------\n"
     ]
    },
    {
     "name": "stderr",
     "output_type": "stream",
     "text": [
      "25/05/25 - 04:04:31 - pyGIMLi - \u001b[0;32;49mINFO\u001b[0m - Creating forward mesh from region infos.\n"
     ]
    },
    {
     "name": "stderr",
     "output_type": "stream",
     "text": [
      "25/05/25 - 04:04:31 - pyGIMLi - \u001b[0;32;49mINFO\u001b[0m - Creating refined mesh (H2) to solve forward task.\n"
     ]
    },
    {
     "name": "stderr",
     "output_type": "stream",
     "text": [
      "25/05/25 - 04:04:32 - pyGIMLi - \u001b[0;32;49mINFO\u001b[0m - Mesh for forward task: Mesh: Nodes: 11099 Cells: 21776 Boundaries: 16542\n"
     ]
    },
    {
     "name": "stderr",
     "output_type": "stream",
     "text": [
      "25/05/25 - 04:05:14 - pyGIMLi - \u001b[0;32;49mINFO\u001b[0m - Creating forward mesh from region infos.\n"
     ]
    },
    {
     "name": "stderr",
     "output_type": "stream",
     "text": [
      "25/05/25 - 04:05:14 - pyGIMLi - \u001b[0;32;49mINFO\u001b[0m - Creating refined mesh (H2) to solve forward task.\n"
     ]
    },
    {
     "name": "stderr",
     "output_type": "stream",
     "text": [
      "25/05/25 - 04:05:14 - pyGIMLi - \u001b[0;32;49mINFO\u001b[0m - Mesh for forward task: Mesh: Nodes: 11099 Cells: 21776 Boundaries: 16542\n"
     ]
    },
    {
     "name": "stdout",
     "output_type": "stream",
     "text": [
      "ERT chi2: 2547.657198132509\n",
      "dPhi: 1.0\n",
      "ERTphi_d: 6328380.480161153, ERTphi_m: 0.0, ERTphi_t: 0.0\n"
     ]
    },
    {
     "name": "stdout",
     "output_type": "stream",
     "text": [
      "-------------------ERT Iteration: 1 ---------------------------\n"
     ]
    },
    {
     "name": "stdout",
     "output_type": "stream",
     "text": [
      "ERT chi2: 43.46633915851419\n",
      "dPhi: 0.9829387018040041\n",
      "ERTphi_d: 107970.38646974924, ERTphi_m: 3910.8975818214594, ERTphi_t: 789.3956105311133\n"
     ]
    },
    {
     "name": "stdout",
     "output_type": "stream",
     "text": [
      "-------------------ERT Iteration: 2 ---------------------------\n"
     ]
    },
    {
     "name": "stdout",
     "output_type": "stream",
     "text": [
      "ERT chi2: 20.56892883112279\n",
      "dPhi: 0.5267848816043266\n",
      "ERTphi_d: 51093.21921650901, ERTphi_m: 1614.7994333759652, ERTphi_t: 724.9882822382926\n"
     ]
    },
    {
     "name": "stdout",
     "output_type": "stream",
     "text": [
      "-------------------ERT Iteration: 3 ---------------------------\n"
     ]
    },
    {
     "name": "stdout",
     "output_type": "stream",
     "text": [
      "ERT chi2: 12.036159145909993\n",
      "dPhi: 0.4148378243354066\n",
      "ERTphi_d: 29897.819318440423, ERTphi_m: 978.2546707801371, ERTphi_t: 722.7033443825962\n"
     ]
    },
    {
     "name": "stdout",
     "output_type": "stream",
     "text": [
      "-------------------ERT Iteration: 4 ---------------------------\n"
     ]
    },
    {
     "name": "stdout",
     "output_type": "stream",
     "text": [
      "ERT chi2: 1.871945018597798\n",
      "dPhi: 0.8444732247301746\n",
      "ERTphi_d: 4649.91142619693, ERTphi_m: 874.6116079172833, ERTphi_t: 715.2738649009859\n"
     ]
    },
    {
     "name": "stdout",
     "output_type": "stream",
     "text": [
      "-------------------ERT Iteration: 5 ---------------------------\n"
     ]
    },
    {
     "name": "stdout",
     "output_type": "stream",
     "text": [
      "ERT chi2: 1.1600226894163403\n",
      "dPhi: 0.3803115594253571\n",
      "ERTphi_d: 2881.4963605101893, ERTphi_m: 798.0393673814558, ERTphi_t: 712.9429032611029\n",
      "Convergence reached at iteration 5\n"
     ]
    },
    {
     "name": "stdout",
     "output_type": "stream",
     "text": [
      "End of inversion\n",
      "\n",
      "Window 9 results:\n",
      "Model shape: (4531, 3)\n",
      "Coverage available: True\n",
      "Number of iterations: 6\n"
     ]
    },
    {
     "name": "stdout",
     "output_type": "stream",
     "text": [
      "\n",
      "Final result summary:\n",
      "Model shape: (4531, 12)\n",
      "Number of coverage arrays: 12\n",
      "Number of chi2 values: 60\n",
      "Mesh exists: True\n",
      "Inversion complete!\n"
     ]
    }
   ],
   "source": [
    "# Set up inversion parameters\n",
    "inversion_params = {\n",
    "    \"lambda_val\": 10.0,              # Regularization parameter\n",
    "    \"alpha\": 10.0,                   # Temporal regularization parameter\n",
    "    \"decay_rate\": 0.0,               # Temporal decay rate\n",
    "    \"method\": \"cgls\",                # Solver method ('cgls', 'lsqr', etc.)\n",
    "    \"model_constraints\": (0.001, 1e4), # Min/max resistivity values (ohm-m)\n",
    "    \"max_iterations\": 15,            # Maximum iterations\n",
    "    \"absoluteUError\": 0.0,           # Absolute data error (V)\n",
    "    \"relativeError\": 0.05,           # Relative data error (5%)\n",
    "    \"lambda_rate\": 1.0,              # Lambda reduction rate\n",
    "    \"lambda_min\": 1.0,               # Minimum lambda value\n",
    "    \"inversion_type\": \"L2\"           # 'L1', 'L2', or 'L1L2'\n",
    "}\n",
    "\n",
    "# Define the window size (number of timesteps to process together)\n",
    "window_size = 3  # A window size of 3 means each window includes 3 consecutive measurements\n",
    "\n",
    "# Create the windowed time-lapse inversion object\n",
    "inversion = WindowedTimeLapseERTInversion(\n",
    "    data_dir=data_dir,               # Directory containing ERT data files\n",
    "    ert_files=ert_files,             # List of ERT data filenames\n",
    "    measurement_times=measurement_times,  # List of measurement times\n",
    "    window_size=window_size,         # Size of sliding window\n",
    "    mesh=mesh_with_interface,                       # Mesh for inversion\n",
    "    **inversion_params               # Pass the same inversion parameters\n",
    ")\n",
    "\n",
    "# Run the inversion, optionally in parallel\n",
    "print(\"Starting windowed time-lapse inversion...\")\n",
    "result = inversion.run()\n",
    "print(\"Inversion complete!\")"
   ]
  },
  {
   "cell_type": "code",
   "execution_count": 4,
   "metadata": {
    "collapsed": false,
    "execution": {
     "iopub.execute_input": "2025-05-25T11:32:27.611461Z",
     "iopub.status.busy": "2025-05-25T11:32:27.610956Z",
     "iopub.status.idle": "2025-05-25T11:32:27.640366Z",
     "shell.execute_reply": "2025-05-25T11:32:27.639849Z"
    }
   },
   "outputs": [
    {
     "data": {
      "text/plain": [
       "(12, 4531)"
      ]
     },
     "execution_count": 4,
     "metadata": {},
     "output_type": "execute_result"
    }
   ],
   "source": [
    "result.final_models = np.array(result.final_models)\n",
    "result.final_models.shape\n",
    "result.all_coverage = np.array(result.all_coverage)\n",
    "result.all_coverage.shape"
   ]
  },
  {
   "cell_type": "code",
   "execution_count": 5,
   "metadata": {
    "collapsed": false,
    "execution": {
     "iopub.execute_input": "2025-05-25T11:32:27.645528Z",
     "iopub.status.busy": "2025-05-25T11:32:27.644511Z",
     "iopub.status.idle": "2025-05-25T11:32:27.685792Z",
     "shell.execute_reply": "2025-05-25T11:32:27.684914Z"
    }
   },
   "outputs": [
    {
     "data": {
      "text/plain": [
       "1"
      ]
     },
     "execution_count": 5,
     "metadata": {},
     "output_type": "execute_result"
    }
   ],
   "source": [
    "np.save(\"C:/Users/HChen8/Documents/GitHub/PyHydroGeophysX/examples/results/Structure_WC/resmodel.npy\", result.final_models[result.mesh.cellMarkers(),:])\n",
    "np.save(\"C:/Users/HChen8/Documents/GitHub/PyHydroGeophysX/examples/results/Structure_WC/all_coverage.npy\", result.all_coverage[:,result.mesh.cellMarkers()])\n",
    "result.mesh.save(\"C:/Users/HChen8/Documents/GitHub/PyHydroGeophysX/examples/results/Structure_WC/mesh_res.bms\")"
   ]
  },
  {
   "cell_type": "code",
   "execution_count": 6,
   "metadata": {
    "collapsed": false,
    "execution": {
     "iopub.execute_input": "2025-05-25T11:32:27.689339Z",
     "iopub.status.busy": "2025-05-25T11:32:27.689339Z",
     "iopub.status.idle": "2025-05-25T11:32:30.563425Z",
     "shell.execute_reply": "2025-05-25T11:32:30.562910Z"
    }
   },
   "outputs": [
    {
     "data": {
      "image/png": "[encoded data removed]",
      "text/plain": [
       "<Figure size 1600x600 with 1 Axes>"
      ]
     },
     "metadata": {},
     "output_type": "display_data"
    },
    {
     "data": {
      "text/plain": [
       "<Figure size 640x480 with 0 Axes>"
      ]
     },
     "metadata": {},
     "output_type": "display_data"
    }
   ],
   "source": [
    "from palettable.lightbartlein.diverging import BlueDarkRed18_18\n",
    "import matplotlib.pyplot as plt\n",
    "import numpy as np\n",
    "import matplotlib.pylab as pylab\n",
    "params = {'legend.fontsize': 13,\n",
    "          #'figure.figsize': (15, 5),\n",
    "         'axes.labelsize': 13,\n",
    "         'axes.titlesize':13,\n",
    "         'xtick.labelsize':13,\n",
    "         'ytick.labelsize':13}\n",
    "\n",
    "pylab.rcParams.update(params)\n",
    "plt.rcParams[\"font.family\"] = \"Arial\"\n",
    "\n",
    "fixed_cmap = BlueDarkRed18_18.mpl_colormap\n",
    "fig = plt.figure(figsize=[16, 6])\n",
    "\n",
    "# Use tight_layout with adjusted parameters to reduce space\n",
    "plt.subplots_adjust(wspace=0.05, hspace=0.05)\n",
    "\n",
    "# True resistivity model\n",
    "for i in range(12):\n",
    "    row, col = i // 4, i % 4\n",
    "    ax = fig.add_subplot(3, 4, i+1)\n",
    "    \n",
    "    # Add common ylabel only to leftmost panels\n",
    "    ylabel = \"Elevation (m)\" if col == 0 else None\n",
    "    \n",
    "    # Add resistivity label only to the middle-right panel (row 1, col 3)\n",
    "    resistivity_label = ' Resistivity ($\\Omega$ m)' if (i == 7) else None\n",
    "    \n",
    "    # Only show axis ticks on leftmost and bottom panels\n",
    "    if col != 0:\n",
    "        ax.set_yticks([])\n",
    "    \n",
    "    if row != 2:  # Not bottom row\n",
    "        ax.set_xticks([])\n",
    "    else:\n",
    "        # Add \"distance (m)\" label to bottom row panels\n",
    "        ax.set_xlabel(\"Distance (m)\")\n",
    "    \n",
    "    # Create the plot\n",
    "    ax, cbar = pg.show(result.mesh,\n",
    "                      result.final_models[:,i][result.mesh.cellMarkers()],\n",
    "                      pad=0.3,\n",
    "                      orientation=\"vertical\",\n",
    "                      cMap=fixed_cmap,\n",
    "                      cMin=100,\n",
    "                      cMax=3000,\n",
    "                      ylabel=ylabel,\n",
    "                      label=resistivity_label,\n",
    "                      ax=ax,\n",
    "                      logScale=False,\n",
    "                      coverage=result.all_coverage[i][result.mesh.cellMarkers()]>-1.2)\n",
    "    if i ==0:\n",
    "        ax.plot([40],[1607],'*',c='k')\n",
    "        ax.plot([80],[1621],'*',c='k')\n",
    "\n",
    "        ax.plot([30],[1604],'*',c='k')\n",
    "        ax.plot([65],[1608],'*',c='k')\n",
    "        \n",
    "    # Only keep colorbar for the middle-right panel (row 1, col 3)\n",
    "    # This corresponds to panel index 7 in a 0-based indexing system\n",
    "    if i != 7:  # Keep only the colorbar for panel 7\n",
    "        cbar.remove()\n",
    "\n",
    "plt.tight_layout()"
   ]
  }
 ],
 "metadata": {
  "kernelspec": {
   "display_name": "Python 3",
   "language": "python",
   "name": "python3"
  },
  "language_info": {
   "codemirror_mode": {
    "name": "ipython",
    "version": 3
   },
   "file_extension": ".py",
   "mimetype": "text/x-python",
   "name": "python",
   "nbconvert_exporter": "python",
   "pygments_lexer": "ipython3",
   "version": "3.11.8"
  }
 },
 "nbformat": 4,
 "nbformat_minor": 0
}
